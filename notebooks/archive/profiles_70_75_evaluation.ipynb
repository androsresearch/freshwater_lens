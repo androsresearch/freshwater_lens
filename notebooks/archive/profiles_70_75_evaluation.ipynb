{
 "cells": [
  {
   "cell_type": "markdown",
   "metadata": {},
   "source": [
    "# Evaluation of Segmented Linear Regression\n",
    "\n",
    "> **Only the profiles: 'LRS70D_YSI_20230822' 'LRS75D_YSI_20230819'**"
   ]
  },
  {
   "cell_type": "markdown",
   "metadata": {},
   "source": [
    "---\n",
    "\n",
    "### Import Libraries"
   ]
  },
  {
   "cell_type": "code",
   "execution_count": 1,
   "metadata": {},
   "outputs": [],
   "source": [
    "import sys\n",
    "import os\n",
    "root = os.path.abspath('../..')  \n",
    "sys.path.append(root)\n",
    "\n",
    "import pandas as pd\n",
    "import numpy as np\n",
    "import matplotlib.pyplot as plt\n",
    "from piecewise_regression import r_squared_calc\n",
    "\n",
    "\n",
    "from modules import load, plots, analysis, utils\n",
    "\n",
    "# styles\n",
    "plt.style.use('seaborn-v0_8-white')"
   ]
  },
  {
   "cell_type": "markdown",
   "metadata": {},
   "source": [
    "---\n",
    "\n",
    "### Load data"
   ]
  },
  {
   "cell_type": "code",
   "execution_count": 2,
   "metadata": {},
   "outputs": [],
   "source": [
    "name_70 = 'LRS70D_YSI_20230822'  \n",
    "name_75 = 'LRS75D_YSI_20230819'"
   ]
  },
  {
   "cell_type": "code",
   "execution_count": 3,
   "metadata": {},
   "outputs": [],
   "source": [
    "path_json_70 = f'{root}/data/results/{name_70}_results.json'\n",
    "path_json_75 = f'{root}/data/results/{name_75}_results.json'\n",
    "\n",
    "df_70 = load.load_data(filepath=path_json_70, json=True)\n",
    "df_75 = load.load_data(filepath=path_json_75, json=True)"
   ]
  },
  {
   "cell_type": "code",
   "execution_count": 4,
   "metadata": {},
   "outputs": [],
   "source": [
    "path_processed_70 = f'{root}/data/processed/{name_70}_processed.csv'\n",
    "path_processed_75 = f'{root}/data/processed/{name_75}_processed.csv'\n",
    "\n",
    "x_processed_70, y_processed_70 = load.load_data(filepath=path_processed_70, \n",
    "                            x_col='Vertical Position [m]',\n",
    "                            y_col='Corrected sp Cond [uS/cm]'\n",
    "                            )\n",
    "\n",
    "x_processed_75, y_processed_75 = load.load_data(filepath=path_processed_75,\n",
    "                            x_col='Vertical Position [m]',\n",
    "                            y_col='Corrected sp Cond [uS/cm]'\n",
    "                            )"
   ]
  },
  {
   "cell_type": "code",
   "execution_count": 5,
   "metadata": {},
   "outputs": [
    {
     "data": {
      "text/html": [
       "<div>\n",
       "<style scoped>\n",
       "    .dataframe tbody tr th:only-of-type {\n",
       "        vertical-align: middle;\n",
       "    }\n",
       "\n",
       "    .dataframe tbody tr th {\n",
       "        vertical-align: top;\n",
       "    }\n",
       "\n",
       "    .dataframe thead th {\n",
       "        text-align: right;\n",
       "    }\n",
       "</style>\n",
       "<table border=\"1\" class=\"dataframe\">\n",
       "  <thead>\n",
       "    <tr style=\"text-align: right;\">\n",
       "      <th></th>\n",
       "      <th>trial_1</th>\n",
       "      <th>trial_2</th>\n",
       "      <th>trial_3</th>\n",
       "      <th>trial_4</th>\n",
       "      <th>trial_5</th>\n",
       "    </tr>\n",
       "  </thead>\n",
       "  <tbody>\n",
       "    <tr>\n",
       "      <th>df</th>\n",
       "      <td>{'bic': {'0': 143864.9213957967, '1': 137890.5...</td>\n",
       "      <td>{'bic': {'0': 143864.9213957967, '1': 137890.5...</td>\n",
       "      <td>{'bic': {'0': 143864.9213957967, '1': 137890.5...</td>\n",
       "      <td>{'bic': {'0': 143864.9213957967, '1': 137890.5...</td>\n",
       "      <td>{'bic': {'0': 143864.9213957967, '1': 137890.5...</td>\n",
       "    </tr>\n",
       "    <tr>\n",
       "      <th>best_n_breakpoint_bic</th>\n",
       "      <td>2</td>\n",
       "      <td>2</td>\n",
       "      <td>2</td>\n",
       "      <td>2</td>\n",
       "      <td>2</td>\n",
       "    </tr>\n",
       "    <tr>\n",
       "      <th>min_bic_n_breakpoint</th>\n",
       "      <td>5</td>\n",
       "      <td>8</td>\n",
       "      <td>7</td>\n",
       "      <td>6</td>\n",
       "      <td>9</td>\n",
       "    </tr>\n",
       "    <tr>\n",
       "      <th>best_n_breakpoint_rss</th>\n",
       "      <td>2</td>\n",
       "      <td>2</td>\n",
       "      <td>2</td>\n",
       "      <td>2</td>\n",
       "      <td>2</td>\n",
       "    </tr>\n",
       "  </tbody>\n",
       "</table>\n",
       "</div>"
      ],
      "text/plain": [
       "                                                                 trial_1  \\\n",
       "df                     {'bic': {'0': 143864.9213957967, '1': 137890.5...   \n",
       "best_n_breakpoint_bic                                                  2   \n",
       "min_bic_n_breakpoint                                                   5   \n",
       "best_n_breakpoint_rss                                                  2   \n",
       "\n",
       "                                                                 trial_2  \\\n",
       "df                     {'bic': {'0': 143864.9213957967, '1': 137890.5...   \n",
       "best_n_breakpoint_bic                                                  2   \n",
       "min_bic_n_breakpoint                                                   8   \n",
       "best_n_breakpoint_rss                                                  2   \n",
       "\n",
       "                                                                 trial_3  \\\n",
       "df                     {'bic': {'0': 143864.9213957967, '1': 137890.5...   \n",
       "best_n_breakpoint_bic                                                  2   \n",
       "min_bic_n_breakpoint                                                   7   \n",
       "best_n_breakpoint_rss                                                  2   \n",
       "\n",
       "                                                                 trial_4  \\\n",
       "df                     {'bic': {'0': 143864.9213957967, '1': 137890.5...   \n",
       "best_n_breakpoint_bic                                                  2   \n",
       "min_bic_n_breakpoint                                                   6   \n",
       "best_n_breakpoint_rss                                                  2   \n",
       "\n",
       "                                                                 trial_5  \n",
       "df                     {'bic': {'0': 143864.9213957967, '1': 137890.5...  \n",
       "best_n_breakpoint_bic                                                  2  \n",
       "min_bic_n_breakpoint                                                   9  \n",
       "best_n_breakpoint_rss                                                  2  "
      ]
     },
     "execution_count": 5,
     "metadata": {},
     "output_type": "execute_result"
    }
   ],
   "source": [
    "df_75"
   ]
  },
  {
   "cell_type": "markdown",
   "metadata": {},
   "source": [
    "---\n",
    "\n",
    "### Optimal `n_breakpoint`"
   ]
  },
  {
   "cell_type": "code",
   "execution_count": 6,
   "metadata": {},
   "outputs": [],
   "source": [
    "trial_70 = analysis.select_best_trial(path_json_70)\n",
    "trial_select_70 = df_70[trial_70[0]]\n",
    "N_BREAKPOINT_70 = df_70.loc['best_n_breakpoint_bic'].mode().iloc[0] # alternative, select 'best_n_breakpoint_rss'\n",
    "\n",
    "\n",
    "trial_75 = analysis.select_best_trial(path_json_75)\n",
    "trial_select_75 = df_75[trial_75[0]]\n",
    "N_BREAKPOINT_75 = df_75.loc['best_n_breakpoint_bic'].mode().iloc[0] # alternative, select 'best_n_breakpoint_rss'"
   ]
  },
  {
   "cell_type": "code",
   "execution_count": 7,
   "metadata": {},
   "outputs": [
    {
     "data": {
      "application/vnd.plotly.v1+json": {
       "config": {
        "plotlyServerURL": "https://plot.ly"
       },
       "data": [
        {
         "mode": "lines+markers",
         "name": "BIC (n = 11)",
         "type": "scatter",
         "x": [
          0,
          1,
          2,
          3,
          4,
          5,
          6,
          7,
          8,
          9,
          10
         ],
         "xaxis": "x",
         "y": [
          92325.6149016673,
          90752.1025142809,
          65847.6762927106,
          63947.5382652126,
          63733.0786303829,
          63332.1917517621,
          63253.320914133,
          63245.6060931582,
          63259.192636111,
          63268.4266832781,
          63255.7677190431
         ],
         "yaxis": "y"
        },
        {
         "mode": "lines+markers",
         "name": "RSS (n = 11)",
         "type": "scatter",
         "x": [
          0,
          1,
          2,
          3,
          4,
          5,
          6,
          7,
          8,
          9,
          10
         ],
         "xaxis": "x",
         "y": [
          803525928806.0913,
          579995866994.3563,
          3508286130.2294993,
          2368351059.458591,
          2258626708.279602,
          2073234324.064574,
          2032899639.0453176,
          2022633977.3794937,
          2021225444.52163,
          2018016841.3570538,
          2005792730.4872794
         ],
         "yaxis": "y2"
        }
       ],
       "layout": {
        "font": {
         "color": "black",
         "family": "Arial, sans-serif",
         "size": 14
        },
        "legend": {
         "bgcolor": "rgba(255, 255, 255, 0.8)",
         "bordercolor": "black",
         "borderwidth": 1,
         "x": 0.01,
         "xanchor": "left",
         "y": 0.99,
         "yanchor": "top"
        },
        "margin": {
         "b": 50,
         "l": 50,
         "r": 50,
         "t": 50
        },
        "template": {
         "data": {
          "bar": [
           {
            "error_x": {
             "color": "#2a3f5f"
            },
            "error_y": {
             "color": "#2a3f5f"
            },
            "marker": {
             "line": {
              "color": "white",
              "width": 0.5
             },
             "pattern": {
              "fillmode": "overlay",
              "size": 10,
              "solidity": 0.2
             }
            },
            "type": "bar"
           }
          ],
          "barpolar": [
           {
            "marker": {
             "line": {
              "color": "white",
              "width": 0.5
             },
             "pattern": {
              "fillmode": "overlay",
              "size": 10,
              "solidity": 0.2
             }
            },
            "type": "barpolar"
           }
          ],
          "carpet": [
           {
            "aaxis": {
             "endlinecolor": "#2a3f5f",
             "gridcolor": "#C8D4E3",
             "linecolor": "#C8D4E3",
             "minorgridcolor": "#C8D4E3",
             "startlinecolor": "#2a3f5f"
            },
            "baxis": {
             "endlinecolor": "#2a3f5f",
             "gridcolor": "#C8D4E3",
             "linecolor": "#C8D4E3",
             "minorgridcolor": "#C8D4E3",
             "startlinecolor": "#2a3f5f"
            },
            "type": "carpet"
           }
          ],
          "choropleth": [
           {
            "colorbar": {
             "outlinewidth": 0,
             "ticks": ""
            },
            "type": "choropleth"
           }
          ],
          "contour": [
           {
            "colorbar": {
             "outlinewidth": 0,
             "ticks": ""
            },
            "colorscale": [
             [
              0,
              "#0d0887"
             ],
             [
              0.1111111111111111,
              "#46039f"
             ],
             [
              0.2222222222222222,
              "#7201a8"
             ],
             [
              0.3333333333333333,
              "#9c179e"
             ],
             [
              0.4444444444444444,
              "#bd3786"
             ],
             [
              0.5555555555555556,
              "#d8576b"
             ],
             [
              0.6666666666666666,
              "#ed7953"
             ],
             [
              0.7777777777777778,
              "#fb9f3a"
             ],
             [
              0.8888888888888888,
              "#fdca26"
             ],
             [
              1,
              "#f0f921"
             ]
            ],
            "type": "contour"
           }
          ],
          "contourcarpet": [
           {
            "colorbar": {
             "outlinewidth": 0,
             "ticks": ""
            },
            "type": "contourcarpet"
           }
          ],
          "heatmap": [
           {
            "colorbar": {
             "outlinewidth": 0,
             "ticks": ""
            },
            "colorscale": [
             [
              0,
              "#0d0887"
             ],
             [
              0.1111111111111111,
              "#46039f"
             ],
             [
              0.2222222222222222,
              "#7201a8"
             ],
             [
              0.3333333333333333,
              "#9c179e"
             ],
             [
              0.4444444444444444,
              "#bd3786"
             ],
             [
              0.5555555555555556,
              "#d8576b"
             ],
             [
              0.6666666666666666,
              "#ed7953"
             ],
             [
              0.7777777777777778,
              "#fb9f3a"
             ],
             [
              0.8888888888888888,
              "#fdca26"
             ],
             [
              1,
              "#f0f921"
             ]
            ],
            "type": "heatmap"
           }
          ],
          "heatmapgl": [
           {
            "colorbar": {
             "outlinewidth": 0,
             "ticks": ""
            },
            "colorscale": [
             [
              0,
              "#0d0887"
             ],
             [
              0.1111111111111111,
              "#46039f"
             ],
             [
              0.2222222222222222,
              "#7201a8"
             ],
             [
              0.3333333333333333,
              "#9c179e"
             ],
             [
              0.4444444444444444,
              "#bd3786"
             ],
             [
              0.5555555555555556,
              "#d8576b"
             ],
             [
              0.6666666666666666,
              "#ed7953"
             ],
             [
              0.7777777777777778,
              "#fb9f3a"
             ],
             [
              0.8888888888888888,
              "#fdca26"
             ],
             [
              1,
              "#f0f921"
             ]
            ],
            "type": "heatmapgl"
           }
          ],
          "histogram": [
           {
            "marker": {
             "pattern": {
              "fillmode": "overlay",
              "size": 10,
              "solidity": 0.2
             }
            },
            "type": "histogram"
           }
          ],
          "histogram2d": [
           {
            "colorbar": {
             "outlinewidth": 0,
             "ticks": ""
            },
            "colorscale": [
             [
              0,
              "#0d0887"
             ],
             [
              0.1111111111111111,
              "#46039f"
             ],
             [
              0.2222222222222222,
              "#7201a8"
             ],
             [
              0.3333333333333333,
              "#9c179e"
             ],
             [
              0.4444444444444444,
              "#bd3786"
             ],
             [
              0.5555555555555556,
              "#d8576b"
             ],
             [
              0.6666666666666666,
              "#ed7953"
             ],
             [
              0.7777777777777778,
              "#fb9f3a"
             ],
             [
              0.8888888888888888,
              "#fdca26"
             ],
             [
              1,
              "#f0f921"
             ]
            ],
            "type": "histogram2d"
           }
          ],
          "histogram2dcontour": [
           {
            "colorbar": {
             "outlinewidth": 0,
             "ticks": ""
            },
            "colorscale": [
             [
              0,
              "#0d0887"
             ],
             [
              0.1111111111111111,
              "#46039f"
             ],
             [
              0.2222222222222222,
              "#7201a8"
             ],
             [
              0.3333333333333333,
              "#9c179e"
             ],
             [
              0.4444444444444444,
              "#bd3786"
             ],
             [
              0.5555555555555556,
              "#d8576b"
             ],
             [
              0.6666666666666666,
              "#ed7953"
             ],
             [
              0.7777777777777778,
              "#fb9f3a"
             ],
             [
              0.8888888888888888,
              "#fdca26"
             ],
             [
              1,
              "#f0f921"
             ]
            ],
            "type": "histogram2dcontour"
           }
          ],
          "mesh3d": [
           {
            "colorbar": {
             "outlinewidth": 0,
             "ticks": ""
            },
            "type": "mesh3d"
           }
          ],
          "parcoords": [
           {
            "line": {
             "colorbar": {
              "outlinewidth": 0,
              "ticks": ""
             }
            },
            "type": "parcoords"
           }
          ],
          "pie": [
           {
            "automargin": true,
            "type": "pie"
           }
          ],
          "scatter": [
           {
            "fillpattern": {
             "fillmode": "overlay",
             "size": 10,
             "solidity": 0.2
            },
            "type": "scatter"
           }
          ],
          "scatter3d": [
           {
            "line": {
             "colorbar": {
              "outlinewidth": 0,
              "ticks": ""
             }
            },
            "marker": {
             "colorbar": {
              "outlinewidth": 0,
              "ticks": ""
             }
            },
            "type": "scatter3d"
           }
          ],
          "scattercarpet": [
           {
            "marker": {
             "colorbar": {
              "outlinewidth": 0,
              "ticks": ""
             }
            },
            "type": "scattercarpet"
           }
          ],
          "scattergeo": [
           {
            "marker": {
             "colorbar": {
              "outlinewidth": 0,
              "ticks": ""
             }
            },
            "type": "scattergeo"
           }
          ],
          "scattergl": [
           {
            "marker": {
             "colorbar": {
              "outlinewidth": 0,
              "ticks": ""
             }
            },
            "type": "scattergl"
           }
          ],
          "scattermapbox": [
           {
            "marker": {
             "colorbar": {
              "outlinewidth": 0,
              "ticks": ""
             }
            },
            "type": "scattermapbox"
           }
          ],
          "scatterpolar": [
           {
            "marker": {
             "colorbar": {
              "outlinewidth": 0,
              "ticks": ""
             }
            },
            "type": "scatterpolar"
           }
          ],
          "scatterpolargl": [
           {
            "marker": {
             "colorbar": {
              "outlinewidth": 0,
              "ticks": ""
             }
            },
            "type": "scatterpolargl"
           }
          ],
          "scatterternary": [
           {
            "marker": {
             "colorbar": {
              "outlinewidth": 0,
              "ticks": ""
             }
            },
            "type": "scatterternary"
           }
          ],
          "surface": [
           {
            "colorbar": {
             "outlinewidth": 0,
             "ticks": ""
            },
            "colorscale": [
             [
              0,
              "#0d0887"
             ],
             [
              0.1111111111111111,
              "#46039f"
             ],
             [
              0.2222222222222222,
              "#7201a8"
             ],
             [
              0.3333333333333333,
              "#9c179e"
             ],
             [
              0.4444444444444444,
              "#bd3786"
             ],
             [
              0.5555555555555556,
              "#d8576b"
             ],
             [
              0.6666666666666666,
              "#ed7953"
             ],
             [
              0.7777777777777778,
              "#fb9f3a"
             ],
             [
              0.8888888888888888,
              "#fdca26"
             ],
             [
              1,
              "#f0f921"
             ]
            ],
            "type": "surface"
           }
          ],
          "table": [
           {
            "cells": {
             "fill": {
              "color": "#EBF0F8"
             },
             "line": {
              "color": "white"
             }
            },
            "header": {
             "fill": {
              "color": "#C8D4E3"
             },
             "line": {
              "color": "white"
             }
            },
            "type": "table"
           }
          ]
         },
         "layout": {
          "annotationdefaults": {
           "arrowcolor": "#2a3f5f",
           "arrowhead": 0,
           "arrowwidth": 1
          },
          "autotypenumbers": "strict",
          "coloraxis": {
           "colorbar": {
            "outlinewidth": 0,
            "ticks": ""
           }
          },
          "colorscale": {
           "diverging": [
            [
             0,
             "#8e0152"
            ],
            [
             0.1,
             "#c51b7d"
            ],
            [
             0.2,
             "#de77ae"
            ],
            [
             0.3,
             "#f1b6da"
            ],
            [
             0.4,
             "#fde0ef"
            ],
            [
             0.5,
             "#f7f7f7"
            ],
            [
             0.6,
             "#e6f5d0"
            ],
            [
             0.7,
             "#b8e186"
            ],
            [
             0.8,
             "#7fbc41"
            ],
            [
             0.9,
             "#4d9221"
            ],
            [
             1,
             "#276419"
            ]
           ],
           "sequential": [
            [
             0,
             "#0d0887"
            ],
            [
             0.1111111111111111,
             "#46039f"
            ],
            [
             0.2222222222222222,
             "#7201a8"
            ],
            [
             0.3333333333333333,
             "#9c179e"
            ],
            [
             0.4444444444444444,
             "#bd3786"
            ],
            [
             0.5555555555555556,
             "#d8576b"
            ],
            [
             0.6666666666666666,
             "#ed7953"
            ],
            [
             0.7777777777777778,
             "#fb9f3a"
            ],
            [
             0.8888888888888888,
             "#fdca26"
            ],
            [
             1,
             "#f0f921"
            ]
           ],
           "sequentialminus": [
            [
             0,
             "#0d0887"
            ],
            [
             0.1111111111111111,
             "#46039f"
            ],
            [
             0.2222222222222222,
             "#7201a8"
            ],
            [
             0.3333333333333333,
             "#9c179e"
            ],
            [
             0.4444444444444444,
             "#bd3786"
            ],
            [
             0.5555555555555556,
             "#d8576b"
            ],
            [
             0.6666666666666666,
             "#ed7953"
            ],
            [
             0.7777777777777778,
             "#fb9f3a"
            ],
            [
             0.8888888888888888,
             "#fdca26"
            ],
            [
             1,
             "#f0f921"
            ]
           ]
          },
          "colorway": [
           "#636efa",
           "#EF553B",
           "#00cc96",
           "#ab63fa",
           "#FFA15A",
           "#19d3f3",
           "#FF6692",
           "#B6E880",
           "#FF97FF",
           "#FECB52"
          ],
          "font": {
           "color": "#2a3f5f"
          },
          "geo": {
           "bgcolor": "white",
           "lakecolor": "white",
           "landcolor": "white",
           "showlakes": true,
           "showland": true,
           "subunitcolor": "#C8D4E3"
          },
          "hoverlabel": {
           "align": "left"
          },
          "hovermode": "closest",
          "mapbox": {
           "style": "light"
          },
          "paper_bgcolor": "white",
          "plot_bgcolor": "white",
          "polar": {
           "angularaxis": {
            "gridcolor": "#EBF0F8",
            "linecolor": "#EBF0F8",
            "ticks": ""
           },
           "bgcolor": "white",
           "radialaxis": {
            "gridcolor": "#EBF0F8",
            "linecolor": "#EBF0F8",
            "ticks": ""
           }
          },
          "scene": {
           "xaxis": {
            "backgroundcolor": "white",
            "gridcolor": "#DFE8F3",
            "gridwidth": 2,
            "linecolor": "#EBF0F8",
            "showbackground": true,
            "ticks": "",
            "zerolinecolor": "#EBF0F8"
           },
           "yaxis": {
            "backgroundcolor": "white",
            "gridcolor": "#DFE8F3",
            "gridwidth": 2,
            "linecolor": "#EBF0F8",
            "showbackground": true,
            "ticks": "",
            "zerolinecolor": "#EBF0F8"
           },
           "zaxis": {
            "backgroundcolor": "white",
            "gridcolor": "#DFE8F3",
            "gridwidth": 2,
            "linecolor": "#EBF0F8",
            "showbackground": true,
            "ticks": "",
            "zerolinecolor": "#EBF0F8"
           }
          },
          "shapedefaults": {
           "line": {
            "color": "#2a3f5f"
           }
          },
          "ternary": {
           "aaxis": {
            "gridcolor": "#DFE8F3",
            "linecolor": "#A2B1C6",
            "ticks": ""
           },
           "baxis": {
            "gridcolor": "#DFE8F3",
            "linecolor": "#A2B1C6",
            "ticks": ""
           },
           "bgcolor": "white",
           "caxis": {
            "gridcolor": "#DFE8F3",
            "linecolor": "#A2B1C6",
            "ticks": ""
           }
          },
          "title": {
           "x": 0.05
          },
          "xaxis": {
           "automargin": true,
           "gridcolor": "#EBF0F8",
           "linecolor": "#EBF0F8",
           "ticks": "",
           "title": {
            "standoff": 15
           },
           "zerolinecolor": "#EBF0F8",
           "zerolinewidth": 2
          },
          "yaxis": {
           "automargin": true,
           "gridcolor": "#EBF0F8",
           "linecolor": "#EBF0F8",
           "ticks": "",
           "title": {
            "standoff": 15
           },
           "zerolinecolor": "#EBF0F8",
           "zerolinewidth": 2
          }
         }
        },
        "title": {
         "text": "Elbow Plot: <b>LRS70D_YSI_20230822<b>",
         "x": 0.5,
         "xanchor": "center",
         "y": 0.95,
         "yanchor": "top"
        },
        "xaxis": {
         "anchor": "y",
         "domain": [
          0,
          0.94
         ],
         "gridcolor": "LightGray",
         "gridwidth": 0.5,
         "showgrid": true,
         "title": {
          "text": "Number Breakpoints"
         },
         "zeroline": true,
         "zerolinecolor": "Gray",
         "zerolinewidth": 1
        },
        "yaxis": {
         "anchor": "x",
         "domain": [
          0,
          1
         ],
         "gridcolor": "LightGray",
         "gridwidth": 0.5,
         "showgrid": true,
         "title": {
          "text": "BIC"
         },
         "zeroline": true,
         "zerolinecolor": "Gray",
         "zerolinewidth": 1
        },
        "yaxis2": {
         "anchor": "x",
         "gridcolor": "LightGray",
         "gridwidth": 0.5,
         "overlaying": "y",
         "showgrid": true,
         "side": "right",
         "title": {
          "text": "RSS"
         },
         "zeroline": true,
         "zerolinecolor": "Gray",
         "zerolinewidth": 1
        }
       }
      }
     },
     "metadata": {},
     "output_type": "display_data"
    },
    {
     "data": {
      "application/vnd.plotly.v1+json": {
       "config": {
        "plotlyServerURL": "https://plot.ly"
       },
       "data": [
        {
         "mode": "lines+markers",
         "name": "BIC (n = 11)",
         "type": "scatter",
         "x": [
          0,
          1,
          2,
          3,
          4,
          5,
          6,
          7,
          8,
          9,
          10
         ],
         "xaxis": "x",
         "y": [
          143864.9213957967,
          137890.5143881635,
          105997.711820127,
          102127.5563317086,
          101306.9153442706,
          101131.5336188509,
          101121.4678803441,
          101134.9599060858,
          101112.1168622198,
          97202.2345735509,
          101146.5816964777
         ],
         "yaxis": "y"
        },
        {
         "mode": "lines+markers",
         "name": "RSS (n = 11)",
         "type": "scatter",
         "x": [
          0,
          1,
          2,
          3,
          4,
          5,
          6,
          7,
          8,
          9,
          10
         ],
         "xaxis": "x",
         "y": [
          963409495796.4705,
          443133163505.2363,
          7086676885.164464,
          4281575449.0314546,
          3840663574.068739,
          3745650922.580052,
          3732098804.3624177,
          3729966334.106346,
          3710321769.230098,
          2230162578.784785,
          3709677774.028498
         ],
         "yaxis": "y2"
        }
       ],
       "layout": {
        "font": {
         "color": "black",
         "family": "Arial, sans-serif",
         "size": 14
        },
        "legend": {
         "bgcolor": "rgba(255, 255, 255, 0.8)",
         "bordercolor": "black",
         "borderwidth": 1,
         "x": 0.01,
         "xanchor": "left",
         "y": 0.99,
         "yanchor": "top"
        },
        "margin": {
         "b": 50,
         "l": 50,
         "r": 50,
         "t": 50
        },
        "template": {
         "data": {
          "bar": [
           {
            "error_x": {
             "color": "#2a3f5f"
            },
            "error_y": {
             "color": "#2a3f5f"
            },
            "marker": {
             "line": {
              "color": "white",
              "width": 0.5
             },
             "pattern": {
              "fillmode": "overlay",
              "size": 10,
              "solidity": 0.2
             }
            },
            "type": "bar"
           }
          ],
          "barpolar": [
           {
            "marker": {
             "line": {
              "color": "white",
              "width": 0.5
             },
             "pattern": {
              "fillmode": "overlay",
              "size": 10,
              "solidity": 0.2
             }
            },
            "type": "barpolar"
           }
          ],
          "carpet": [
           {
            "aaxis": {
             "endlinecolor": "#2a3f5f",
             "gridcolor": "#C8D4E3",
             "linecolor": "#C8D4E3",
             "minorgridcolor": "#C8D4E3",
             "startlinecolor": "#2a3f5f"
            },
            "baxis": {
             "endlinecolor": "#2a3f5f",
             "gridcolor": "#C8D4E3",
             "linecolor": "#C8D4E3",
             "minorgridcolor": "#C8D4E3",
             "startlinecolor": "#2a3f5f"
            },
            "type": "carpet"
           }
          ],
          "choropleth": [
           {
            "colorbar": {
             "outlinewidth": 0,
             "ticks": ""
            },
            "type": "choropleth"
           }
          ],
          "contour": [
           {
            "colorbar": {
             "outlinewidth": 0,
             "ticks": ""
            },
            "colorscale": [
             [
              0,
              "#0d0887"
             ],
             [
              0.1111111111111111,
              "#46039f"
             ],
             [
              0.2222222222222222,
              "#7201a8"
             ],
             [
              0.3333333333333333,
              "#9c179e"
             ],
             [
              0.4444444444444444,
              "#bd3786"
             ],
             [
              0.5555555555555556,
              "#d8576b"
             ],
             [
              0.6666666666666666,
              "#ed7953"
             ],
             [
              0.7777777777777778,
              "#fb9f3a"
             ],
             [
              0.8888888888888888,
              "#fdca26"
             ],
             [
              1,
              "#f0f921"
             ]
            ],
            "type": "contour"
           }
          ],
          "contourcarpet": [
           {
            "colorbar": {
             "outlinewidth": 0,
             "ticks": ""
            },
            "type": "contourcarpet"
           }
          ],
          "heatmap": [
           {
            "colorbar": {
             "outlinewidth": 0,
             "ticks": ""
            },
            "colorscale": [
             [
              0,
              "#0d0887"
             ],
             [
              0.1111111111111111,
              "#46039f"
             ],
             [
              0.2222222222222222,
              "#7201a8"
             ],
             [
              0.3333333333333333,
              "#9c179e"
             ],
             [
              0.4444444444444444,
              "#bd3786"
             ],
             [
              0.5555555555555556,
              "#d8576b"
             ],
             [
              0.6666666666666666,
              "#ed7953"
             ],
             [
              0.7777777777777778,
              "#fb9f3a"
             ],
             [
              0.8888888888888888,
              "#fdca26"
             ],
             [
              1,
              "#f0f921"
             ]
            ],
            "type": "heatmap"
           }
          ],
          "heatmapgl": [
           {
            "colorbar": {
             "outlinewidth": 0,
             "ticks": ""
            },
            "colorscale": [
             [
              0,
              "#0d0887"
             ],
             [
              0.1111111111111111,
              "#46039f"
             ],
             [
              0.2222222222222222,
              "#7201a8"
             ],
             [
              0.3333333333333333,
              "#9c179e"
             ],
             [
              0.4444444444444444,
              "#bd3786"
             ],
             [
              0.5555555555555556,
              "#d8576b"
             ],
             [
              0.6666666666666666,
              "#ed7953"
             ],
             [
              0.7777777777777778,
              "#fb9f3a"
             ],
             [
              0.8888888888888888,
              "#fdca26"
             ],
             [
              1,
              "#f0f921"
             ]
            ],
            "type": "heatmapgl"
           }
          ],
          "histogram": [
           {
            "marker": {
             "pattern": {
              "fillmode": "overlay",
              "size": 10,
              "solidity": 0.2
             }
            },
            "type": "histogram"
           }
          ],
          "histogram2d": [
           {
            "colorbar": {
             "outlinewidth": 0,
             "ticks": ""
            },
            "colorscale": [
             [
              0,
              "#0d0887"
             ],
             [
              0.1111111111111111,
              "#46039f"
             ],
             [
              0.2222222222222222,
              "#7201a8"
             ],
             [
              0.3333333333333333,
              "#9c179e"
             ],
             [
              0.4444444444444444,
              "#bd3786"
             ],
             [
              0.5555555555555556,
              "#d8576b"
             ],
             [
              0.6666666666666666,
              "#ed7953"
             ],
             [
              0.7777777777777778,
              "#fb9f3a"
             ],
             [
              0.8888888888888888,
              "#fdca26"
             ],
             [
              1,
              "#f0f921"
             ]
            ],
            "type": "histogram2d"
           }
          ],
          "histogram2dcontour": [
           {
            "colorbar": {
             "outlinewidth": 0,
             "ticks": ""
            },
            "colorscale": [
             [
              0,
              "#0d0887"
             ],
             [
              0.1111111111111111,
              "#46039f"
             ],
             [
              0.2222222222222222,
              "#7201a8"
             ],
             [
              0.3333333333333333,
              "#9c179e"
             ],
             [
              0.4444444444444444,
              "#bd3786"
             ],
             [
              0.5555555555555556,
              "#d8576b"
             ],
             [
              0.6666666666666666,
              "#ed7953"
             ],
             [
              0.7777777777777778,
              "#fb9f3a"
             ],
             [
              0.8888888888888888,
              "#fdca26"
             ],
             [
              1,
              "#f0f921"
             ]
            ],
            "type": "histogram2dcontour"
           }
          ],
          "mesh3d": [
           {
            "colorbar": {
             "outlinewidth": 0,
             "ticks": ""
            },
            "type": "mesh3d"
           }
          ],
          "parcoords": [
           {
            "line": {
             "colorbar": {
              "outlinewidth": 0,
              "ticks": ""
             }
            },
            "type": "parcoords"
           }
          ],
          "pie": [
           {
            "automargin": true,
            "type": "pie"
           }
          ],
          "scatter": [
           {
            "fillpattern": {
             "fillmode": "overlay",
             "size": 10,
             "solidity": 0.2
            },
            "type": "scatter"
           }
          ],
          "scatter3d": [
           {
            "line": {
             "colorbar": {
              "outlinewidth": 0,
              "ticks": ""
             }
            },
            "marker": {
             "colorbar": {
              "outlinewidth": 0,
              "ticks": ""
             }
            },
            "type": "scatter3d"
           }
          ],
          "scattercarpet": [
           {
            "marker": {
             "colorbar": {
              "outlinewidth": 0,
              "ticks": ""
             }
            },
            "type": "scattercarpet"
           }
          ],
          "scattergeo": [
           {
            "marker": {
             "colorbar": {
              "outlinewidth": 0,
              "ticks": ""
             }
            },
            "type": "scattergeo"
           }
          ],
          "scattergl": [
           {
            "marker": {
             "colorbar": {
              "outlinewidth": 0,
              "ticks": ""
             }
            },
            "type": "scattergl"
           }
          ],
          "scattermapbox": [
           {
            "marker": {
             "colorbar": {
              "outlinewidth": 0,
              "ticks": ""
             }
            },
            "type": "scattermapbox"
           }
          ],
          "scatterpolar": [
           {
            "marker": {
             "colorbar": {
              "outlinewidth": 0,
              "ticks": ""
             }
            },
            "type": "scatterpolar"
           }
          ],
          "scatterpolargl": [
           {
            "marker": {
             "colorbar": {
              "outlinewidth": 0,
              "ticks": ""
             }
            },
            "type": "scatterpolargl"
           }
          ],
          "scatterternary": [
           {
            "marker": {
             "colorbar": {
              "outlinewidth": 0,
              "ticks": ""
             }
            },
            "type": "scatterternary"
           }
          ],
          "surface": [
           {
            "colorbar": {
             "outlinewidth": 0,
             "ticks": ""
            },
            "colorscale": [
             [
              0,
              "#0d0887"
             ],
             [
              0.1111111111111111,
              "#46039f"
             ],
             [
              0.2222222222222222,
              "#7201a8"
             ],
             [
              0.3333333333333333,
              "#9c179e"
             ],
             [
              0.4444444444444444,
              "#bd3786"
             ],
             [
              0.5555555555555556,
              "#d8576b"
             ],
             [
              0.6666666666666666,
              "#ed7953"
             ],
             [
              0.7777777777777778,
              "#fb9f3a"
             ],
             [
              0.8888888888888888,
              "#fdca26"
             ],
             [
              1,
              "#f0f921"
             ]
            ],
            "type": "surface"
           }
          ],
          "table": [
           {
            "cells": {
             "fill": {
              "color": "#EBF0F8"
             },
             "line": {
              "color": "white"
             }
            },
            "header": {
             "fill": {
              "color": "#C8D4E3"
             },
             "line": {
              "color": "white"
             }
            },
            "type": "table"
           }
          ]
         },
         "layout": {
          "annotationdefaults": {
           "arrowcolor": "#2a3f5f",
           "arrowhead": 0,
           "arrowwidth": 1
          },
          "autotypenumbers": "strict",
          "coloraxis": {
           "colorbar": {
            "outlinewidth": 0,
            "ticks": ""
           }
          },
          "colorscale": {
           "diverging": [
            [
             0,
             "#8e0152"
            ],
            [
             0.1,
             "#c51b7d"
            ],
            [
             0.2,
             "#de77ae"
            ],
            [
             0.3,
             "#f1b6da"
            ],
            [
             0.4,
             "#fde0ef"
            ],
            [
             0.5,
             "#f7f7f7"
            ],
            [
             0.6,
             "#e6f5d0"
            ],
            [
             0.7,
             "#b8e186"
            ],
            [
             0.8,
             "#7fbc41"
            ],
            [
             0.9,
             "#4d9221"
            ],
            [
             1,
             "#276419"
            ]
           ],
           "sequential": [
            [
             0,
             "#0d0887"
            ],
            [
             0.1111111111111111,
             "#46039f"
            ],
            [
             0.2222222222222222,
             "#7201a8"
            ],
            [
             0.3333333333333333,
             "#9c179e"
            ],
            [
             0.4444444444444444,
             "#bd3786"
            ],
            [
             0.5555555555555556,
             "#d8576b"
            ],
            [
             0.6666666666666666,
             "#ed7953"
            ],
            [
             0.7777777777777778,
             "#fb9f3a"
            ],
            [
             0.8888888888888888,
             "#fdca26"
            ],
            [
             1,
             "#f0f921"
            ]
           ],
           "sequentialminus": [
            [
             0,
             "#0d0887"
            ],
            [
             0.1111111111111111,
             "#46039f"
            ],
            [
             0.2222222222222222,
             "#7201a8"
            ],
            [
             0.3333333333333333,
             "#9c179e"
            ],
            [
             0.4444444444444444,
             "#bd3786"
            ],
            [
             0.5555555555555556,
             "#d8576b"
            ],
            [
             0.6666666666666666,
             "#ed7953"
            ],
            [
             0.7777777777777778,
             "#fb9f3a"
            ],
            [
             0.8888888888888888,
             "#fdca26"
            ],
            [
             1,
             "#f0f921"
            ]
           ]
          },
          "colorway": [
           "#636efa",
           "#EF553B",
           "#00cc96",
           "#ab63fa",
           "#FFA15A",
           "#19d3f3",
           "#FF6692",
           "#B6E880",
           "#FF97FF",
           "#FECB52"
          ],
          "font": {
           "color": "#2a3f5f"
          },
          "geo": {
           "bgcolor": "white",
           "lakecolor": "white",
           "landcolor": "white",
           "showlakes": true,
           "showland": true,
           "subunitcolor": "#C8D4E3"
          },
          "hoverlabel": {
           "align": "left"
          },
          "hovermode": "closest",
          "mapbox": {
           "style": "light"
          },
          "paper_bgcolor": "white",
          "plot_bgcolor": "white",
          "polar": {
           "angularaxis": {
            "gridcolor": "#EBF0F8",
            "linecolor": "#EBF0F8",
            "ticks": ""
           },
           "bgcolor": "white",
           "radialaxis": {
            "gridcolor": "#EBF0F8",
            "linecolor": "#EBF0F8",
            "ticks": ""
           }
          },
          "scene": {
           "xaxis": {
            "backgroundcolor": "white",
            "gridcolor": "#DFE8F3",
            "gridwidth": 2,
            "linecolor": "#EBF0F8",
            "showbackground": true,
            "ticks": "",
            "zerolinecolor": "#EBF0F8"
           },
           "yaxis": {
            "backgroundcolor": "white",
            "gridcolor": "#DFE8F3",
            "gridwidth": 2,
            "linecolor": "#EBF0F8",
            "showbackground": true,
            "ticks": "",
            "zerolinecolor": "#EBF0F8"
           },
           "zaxis": {
            "backgroundcolor": "white",
            "gridcolor": "#DFE8F3",
            "gridwidth": 2,
            "linecolor": "#EBF0F8",
            "showbackground": true,
            "ticks": "",
            "zerolinecolor": "#EBF0F8"
           }
          },
          "shapedefaults": {
           "line": {
            "color": "#2a3f5f"
           }
          },
          "ternary": {
           "aaxis": {
            "gridcolor": "#DFE8F3",
            "linecolor": "#A2B1C6",
            "ticks": ""
           },
           "baxis": {
            "gridcolor": "#DFE8F3",
            "linecolor": "#A2B1C6",
            "ticks": ""
           },
           "bgcolor": "white",
           "caxis": {
            "gridcolor": "#DFE8F3",
            "linecolor": "#A2B1C6",
            "ticks": ""
           }
          },
          "title": {
           "x": 0.05
          },
          "xaxis": {
           "automargin": true,
           "gridcolor": "#EBF0F8",
           "linecolor": "#EBF0F8",
           "ticks": "",
           "title": {
            "standoff": 15
           },
           "zerolinecolor": "#EBF0F8",
           "zerolinewidth": 2
          },
          "yaxis": {
           "automargin": true,
           "gridcolor": "#EBF0F8",
           "linecolor": "#EBF0F8",
           "ticks": "",
           "title": {
            "standoff": 15
           },
           "zerolinecolor": "#EBF0F8",
           "zerolinewidth": 2
          }
         }
        },
        "title": {
         "text": "Elbow Plot: <b>LRS75D_YSI_20230819<b>",
         "x": 0.5,
         "xanchor": "center",
         "y": 0.95,
         "yanchor": "top"
        },
        "xaxis": {
         "anchor": "y",
         "domain": [
          0,
          0.94
         ],
         "gridcolor": "LightGray",
         "gridwidth": 0.5,
         "showgrid": true,
         "title": {
          "text": "Number Breakpoints"
         },
         "zeroline": true,
         "zerolinecolor": "Gray",
         "zerolinewidth": 1
        },
        "yaxis": {
         "anchor": "x",
         "domain": [
          0,
          1
         ],
         "gridcolor": "LightGray",
         "gridwidth": 0.5,
         "showgrid": true,
         "title": {
          "text": "BIC"
         },
         "zeroline": true,
         "zerolinecolor": "Gray",
         "zerolinewidth": 1
        },
        "yaxis2": {
         "anchor": "x",
         "gridcolor": "LightGray",
         "gridwidth": 0.5,
         "overlaying": "y",
         "showgrid": true,
         "side": "right",
         "title": {
          "text": "RSS"
         },
         "zeroline": true,
         "zerolinecolor": "Gray",
         "zerolinewidth": 1
        }
       }
      }
     },
     "metadata": {},
     "output_type": "display_data"
    }
   ],
   "source": [
    "# Elbow plot 70\n",
    "x_values = np.array(list(trial_select_70['df']['n_breakpoints'].values()))\n",
    "y_values = np.array(list(trial_select_70['df']['bic'].values()))\n",
    "secondary_x = np.array(list(trial_select_70['df']['n_breakpoints'].values()))\n",
    "secondary_y = np.array(list(trial_select_70['df']['rss'].values()))\n",
    "\n",
    "plots.plot_data(\n",
    "    x_values=x_values,\n",
    "    y_values=y_values,\n",
    "    plot_mode='lines+markers',\n",
    "    x_axis_label=\"Number Breakpoints\",\n",
    "    y_axis_label=\"BIC\",\n",
    "    secondary_x=secondary_x,\n",
    "    secondary_y=secondary_y,\n",
    "    use_secondary_axis=True,\n",
    "    y2_axis_label=\"RSS\",\n",
    "    trace_names=['BIC', 'RSS'],\n",
    "    title=f\"Elbow Plot: <b>{name_70}<b>\",\n",
    ")\n",
    "\n",
    "# Elbow plot 75\n",
    "x_values = np.array(list(trial_select_75['df']['n_breakpoints'].values()))\n",
    "y_values = np.array(list(trial_select_75['df']['bic'].values()))\n",
    "secondary_x = np.array(list(trial_select_75['df']['n_breakpoints'].values()))\n",
    "secondary_y = np.array(list(trial_select_75['df']['rss'].values()))\n",
    "\n",
    "plots.plot_data(\n",
    "    x_values=x_values,\n",
    "    y_values=y_values,\n",
    "    plot_mode='lines+markers',\n",
    "    x_axis_label=\"Number Breakpoints\",\n",
    "    y_axis_label=\"BIC\",\n",
    "    secondary_x=secondary_x,\n",
    "    secondary_y=secondary_y,\n",
    "    use_secondary_axis=True,\n",
    "    y2_axis_label=\"RSS\",\n",
    "    trace_names=['BIC', 'RSS'],\n",
    "    title=f\"Elbow Plot: <b>{name_75}<b>\",\n",
    ")"
   ]
  },
  {
   "cell_type": "markdown",
   "metadata": {},
   "source": [
    "---\n",
    "\n",
    "### Evaluation"
   ]
  },
  {
   "cell_type": "code",
   "execution_count": 8,
   "metadata": {},
   "outputs": [],
   "source": [
    "# Params 70\n",
    "params_70 = utils.get_breakpoint_data(trial_select_70['df'], N_BREAKPOINT_70)\n",
    "\n",
    "# Params 75\n",
    "params_75 = utils.get_breakpoint_data(trial_select_75['df'], N_BREAKPOINT_75)\n"
   ]
  },
  {
   "cell_type": "code",
   "execution_count": 9,
   "metadata": {},
   "outputs": [],
   "source": [
    "# Model 70\n",
    "model_70 = utils.rebuild_model(x_processed_70,y_processed_70,params_70, tolerance=1e-2, min_distance=0.001)\n",
    "\n",
    "# Model 75\n",
    "model_75 = utils.rebuild_model(x_processed_75,y_processed_75,params_75, tolerance=1e-6, min_distance=0.008)"
   ]
  },
  {
   "cell_type": "code",
   "execution_count": 10,
   "metadata": {},
   "outputs": [
    {
     "name": "stdout",
     "output_type": "stream",
     "text": [
      "RSS_70:  3508286130.2295103\n",
      "TSS_70:  3188239124841.414\n",
      "R2_70:  0.9988996163735353\n",
      "R2_ajus_70:  0.9988989392143806\n",
      "RSS_75:  7086676885.164476\n",
      "TSS_75:  4419746600758.689\n",
      "R2_75:  0.9983965875138752\n",
      "R2_ajus_75:  0.9983959637797649\n"
     ]
    }
   ],
   "source": [
    "# Globals 70\n",
    "RSS_70, TSS_70, R2_70, R2_ajus_70 = r_squared_calc.get_r_squared(y_processed_70, \n",
    "                                                    model_70.predict(x_processed_70), \n",
    "                                                    len(params_70))\n",
    "\n",
    "# Globals 75\n",
    "RSS_75, TSS_75, R2_75, R2_ajus_75 = r_squared_calc.get_r_squared(y_processed_75, \n",
    "                                                    model_75.predict(x_processed_75), \n",
    "                                                    len(params_75))\n",
    "\n",
    "print(\"RSS_70: \", RSS_70)\n",
    "print(\"TSS_70: \", TSS_70)\n",
    "print(\"R2_70: \", R2_70)\n",
    "print(\"R2_ajus_70: \", R2_ajus_70)\n",
    "\n",
    "print(\"RSS_75: \", RSS_75)\n",
    "print(\"TSS_75: \", TSS_75)\n",
    "print(\"R2_75: \", R2_75)\n",
    "print(\"R2_ajus_75: \", R2_ajus_75)"
   ]
  },
  {
   "cell_type": "code",
   "execution_count": 11,
   "metadata": {},
   "outputs": [],
   "source": [
    "# Per segment 70\n",
    "metric_per_segment_70 = analysis.calculate_metrics_per_segment(model_70)\n",
    "\n",
    "# Per segment 75\n",
    "metric_per_segment_75 = analysis.calculate_metrics_per_segment(model_75)"
   ]
  },
  {
   "cell_type": "code",
   "execution_count": 12,
   "metadata": {},
   "outputs": [],
   "source": [
    "# Breakpoints 70\n",
    "breakpoints_70 = analysis.extract_breakpoints(model_70)\n",
    "\n",
    "# Breakpoints 75\n",
    "breakpoints_75 = analysis.extract_breakpoints(model_75)"
   ]
  },
  {
   "cell_type": "code",
   "execution_count": 13,
   "metadata": {},
   "outputs": [
    {
     "data": {
      "text/html": [
       "<div>\n",
       "<style scoped>\n",
       "    .dataframe tbody tr th:only-of-type {\n",
       "        vertical-align: middle;\n",
       "    }\n",
       "\n",
       "    .dataframe tbody tr th {\n",
       "        vertical-align: top;\n",
       "    }\n",
       "\n",
       "    .dataframe thead th {\n",
       "        text-align: right;\n",
       "    }\n",
       "</style>\n",
       "<table border=\"1\" class=\"dataframe\">\n",
       "  <thead>\n",
       "    <tr style=\"text-align: right;\">\n",
       "      <th></th>\n",
       "      <th>Breakpoint X Position</th>\n",
       "      <th>Breakpoint Y Position</th>\n",
       "      <th>Confidence Interval (X)</th>\n",
       "    </tr>\n",
       "  </thead>\n",
       "  <tbody>\n",
       "    <tr>\n",
       "      <th>1</th>\n",
       "      <td>11.580626</td>\n",
       "      <td>692.704085</td>\n",
       "      <td>(11.57841499166805, 11.582837372932596)</td>\n",
       "    </tr>\n",
       "    <tr>\n",
       "      <th>2</th>\n",
       "      <td>11.823441</td>\n",
       "      <td>49528.422395</td>\n",
       "      <td>(11.821256775761224, 11.825626064864469)</td>\n",
       "    </tr>\n",
       "  </tbody>\n",
       "</table>\n",
       "</div>"
      ],
      "text/plain": [
       "   Breakpoint X Position  Breakpoint Y Position  \\\n",
       "1              11.580626             692.704085   \n",
       "2              11.823441           49528.422395   \n",
       "\n",
       "                    Confidence Interval (X)  \n",
       "1   (11.57841499166805, 11.582837372932596)  \n",
       "2  (11.821256775761224, 11.825626064864469)  "
      ]
     },
     "execution_count": 13,
     "metadata": {},
     "output_type": "execute_result"
    }
   ],
   "source": [
    "breakpoints_70"
   ]
  },
  {
   "cell_type": "code",
   "execution_count": 14,
   "metadata": {},
   "outputs": [
    {
     "data": {
      "text/html": [
       "<div>\n",
       "<style scoped>\n",
       "    .dataframe tbody tr th:only-of-type {\n",
       "        vertical-align: middle;\n",
       "    }\n",
       "\n",
       "    .dataframe tbody tr th {\n",
       "        vertical-align: top;\n",
       "    }\n",
       "\n",
       "    .dataframe thead th {\n",
       "        text-align: right;\n",
       "    }\n",
       "</style>\n",
       "<table border=\"1\" class=\"dataframe\">\n",
       "  <thead>\n",
       "    <tr style=\"text-align: right;\">\n",
       "      <th></th>\n",
       "      <th>Breakpoint X Position</th>\n",
       "      <th>Breakpoint Y Position</th>\n",
       "      <th>Confidence Interval (X)</th>\n",
       "    </tr>\n",
       "  </thead>\n",
       "  <tbody>\n",
       "    <tr>\n",
       "      <th>1</th>\n",
       "      <td>17.95637</td>\n",
       "      <td>1010.097661</td>\n",
       "      <td>(17.946047178458997, 17.966692296360428)</td>\n",
       "    </tr>\n",
       "    <tr>\n",
       "      <th>2</th>\n",
       "      <td>21.63916</td>\n",
       "      <td>49681.489758</td>\n",
       "      <td>(21.62760542881007, 21.650714000225456)</td>\n",
       "    </tr>\n",
       "  </tbody>\n",
       "</table>\n",
       "</div>"
      ],
      "text/plain": [
       "   Breakpoint X Position  Breakpoint Y Position  \\\n",
       "1               17.95637            1010.097661   \n",
       "2               21.63916           49681.489758   \n",
       "\n",
       "                    Confidence Interval (X)  \n",
       "1  (17.946047178458997, 17.966692296360428)  \n",
       "2   (21.62760542881007, 21.650714000225456)  "
      ]
     },
     "execution_count": 14,
     "metadata": {},
     "output_type": "execute_result"
    }
   ],
   "source": [
    "breakpoints_75"
   ]
  },
  {
   "cell_type": "markdown",
   "metadata": {},
   "source": [
    "---\n",
    "\n",
    "### Final results\n"
   ]
  },
  {
   "cell_type": "code",
   "execution_count": 15,
   "metadata": {},
   "outputs": [
    {
     "data": {
      "application/vnd.jupyter.widget-view+json": {
       "model_id": "5c990da3f33f4eb4b26cf5b9c4a170b6",
       "version_major": 2,
       "version_minor": 0
      },
      "text/plain": [
       "interactive(children=(IntSlider(value=2, description='n_breakpoints', max=10), Output()), _dom_classes=('widge…"
      ]
     },
     "metadata": {},
     "output_type": "display_data"
    },
    {
     "data": {
      "application/vnd.jupyter.widget-view+json": {
       "model_id": "880e042e1b0a44e6bbde72e73a3a2b62",
       "version_major": 2,
       "version_minor": 0
      },
      "text/plain": [
       "interactive(children=(IntSlider(value=2, description='n_breakpoints', max=10), Output()), _dom_classes=('widge…"
      ]
     },
     "metadata": {},
     "output_type": "display_data"
    }
   ],
   "source": [
    "\n",
    "# Visualizamos los datos procesados junto con los modelos obtenidos de 70\n",
    "df_ms_70 = pd.DataFrame({'n_breakpoints': trial_select_70['df']['n_breakpoints'], \n",
    "                    'estimates': trial_select_70['df']['estimates']})\n",
    "\n",
    "plots.interactive_segmented_regression(x=x_processed_70,\n",
    "                                       y=y_processed_70, \n",
    "                                       df=df_ms_70, \n",
    "                                       title=name_70,\n",
    "                                       breakpoints=N_BREAKPOINT_70)\n",
    "\n",
    "# Visualizamos los datos procesados junto con los modelos obtenidos de 75\n",
    "df_ms_75 = pd.DataFrame({'n_breakpoints': trial_select_75['df']['n_breakpoints'], \n",
    "                    'estimates': trial_select_75['df']['estimates']})\n",
    "\n",
    "plots.interactive_segmented_regression(x=x_processed_75,\n",
    "                                       y=y_processed_75, \n",
    "                                       df=df_ms_75, \n",
    "                                       title=name_75,\n",
    "                                       breakpoints=N_BREAKPOINT_75)\n"
   ]
  },
  {
   "cell_type": "markdown",
   "metadata": {},
   "source": [
    "#### Models per segment"
   ]
  },
  {
   "cell_type": "code",
   "execution_count": 16,
   "metadata": {},
   "outputs": [
    {
     "data": {
      "text/plain": [
       "{'segments': [{'segment': 1,\n",
       "   'data_x': array([6.0000e-03, 1.9000e-02, 2.2000e-02, ..., 1.7942e+01, 1.7954e+01,\n",
       "          1.7956e+01], shape=(4324,)),\n",
       "   'data_y': array([ 971.16842735,  971.11982051,  971.09100557, ..., 1460.0273913 ,\n",
       "          1471.36042512, 1488.74938164], shape=(4324,)),\n",
       "   'fitted_model': {'slope': np.float64(3.4239366918487257),\n",
       "    'intercept': np.float64(948.6161879137379),\n",
       "    'fitted_y': array([ 948.63673153,  948.68124271,  948.69151452, ..., 1010.04846004,\n",
       "           1010.08954728, 1010.09639515], shape=(4324,))}},\n",
       "  {'segment': 2,\n",
       "   'data_x': array([17.962, 17.963, 17.966, 17.972, 17.975, 17.978, 17.989, 17.995,\n",
       "          18.   , 18.005, 18.021, 18.022, 18.024, 18.035, 18.038, 18.039,\n",
       "          18.048, 18.051, 18.054, 18.064, 18.068, 18.07 , 18.077, 18.082,\n",
       "          18.084, 18.089, 18.1  , 18.104, 18.109, 18.11 , 18.113, 18.116,\n",
       "          18.117, 18.121, 18.127, 18.132, 18.135, 18.144, 18.148, 18.151,\n",
       "          18.159, 18.161, 18.169, 18.17 , 18.174, 18.179, 18.183, 18.188,\n",
       "          18.2  , 18.202, 18.204, 18.213, 18.215, 18.22 , 18.228, 18.234,\n",
       "          18.235, 18.248, 18.252, 18.254, 18.264, 18.27 , 18.272, 18.278,\n",
       "          18.283, 18.284, 18.285, 18.287, 18.29 , 18.291, 18.293, 18.294,\n",
       "          18.298, 18.302, 18.306, 18.309, 18.32 , 18.322, 18.323, 18.326,\n",
       "          18.33 , 18.331, 18.336, 18.343, 18.354, 18.358, 18.364, 18.377,\n",
       "          18.378, 18.379, 18.384, 18.386, 18.388, 18.391, 18.393, 18.395,\n",
       "          18.401, 18.404, 18.405, 18.409, 18.422, 18.426, 18.431, 18.436,\n",
       "          18.437, 18.438, 18.442, 18.447, 18.45 , 18.451, 18.454, 18.457,\n",
       "          18.459, 18.46 , 18.465, 18.466, 18.467, 18.468, 18.481, 18.482,\n",
       "          18.489, 18.505, 18.509, 18.514, 18.527, 18.531, 18.533, 18.534,\n",
       "          18.538, 18.539, 18.541, 18.543, 18.549, 18.554, 18.556, 18.563,\n",
       "          18.568, 18.569, 18.577, 18.579, 18.58 , 18.583, 18.586, 18.589,\n",
       "          18.59 , 18.591, 18.598, 18.6  , 18.601, 18.607, 18.612, 18.613,\n",
       "          18.616, 18.617, 18.618, 18.621, 18.624, 18.633, 18.634, 18.636,\n",
       "          18.638, 18.641, 18.642, 18.648, 18.651, 18.652, 18.653, 18.654,\n",
       "          18.656, 18.66 , 18.664, 18.667, 18.668, 18.673, 18.675, 18.68 ,\n",
       "          18.681, 18.683, 18.686, 18.689, 18.69 , 18.691, 18.704, 18.707,\n",
       "          18.713, 18.717, 18.718, 18.722, 18.723, 18.725, 18.729, 18.738,\n",
       "          18.743, 18.745, 18.748, 18.751, 18.753, 18.754, 18.755, 18.757,\n",
       "          18.758, 18.761, 18.764, 18.767, 18.772, 18.773, 18.78 , 18.784,\n",
       "          18.787, 18.788, 18.789, 18.793, 18.794, 18.795, 18.796, 18.797,\n",
       "          18.799, 18.808, 18.809, 18.81 , 18.813, 18.816, 18.817, 18.82 ,\n",
       "          18.825, 18.828, 18.832, 18.835, 18.836, 18.841, 18.845, 18.846,\n",
       "          18.856, 18.859, 18.864, 18.869, 18.87 , 18.871, 18.873, 18.875,\n",
       "          18.884, 18.889, 18.891, 18.894, 18.897, 18.903, 18.905, 18.906,\n",
       "          18.908, 18.915, 18.916, 18.92 , 18.927, 18.933, 18.934, 18.94 ,\n",
       "          18.942, 18.943, 18.954, 18.957, 18.958, 18.963, 18.966, 18.978,\n",
       "          18.979, 18.984, 18.985, 18.988, 18.989, 19.002, 19.003, 19.004,\n",
       "          19.006, 19.008, 19.009, 19.011, 19.012, 19.013, 19.015, 19.02 ,\n",
       "          19.021, 19.023, 19.026, 19.029, 19.031, 19.042, 19.043, 19.046,\n",
       "          19.052, 19.054, 19.057, 19.066, 19.071, 19.074, 19.079, 19.09 ,\n",
       "          19.094, 19.095, 19.1  , 19.103, 19.104, 19.108, 19.109, 19.113,\n",
       "          19.12 , 19.125, 19.127, 19.131, 19.143, 19.144, 19.148, 19.15 ,\n",
       "          19.152, 19.154, 19.158, 19.16 , 19.162, 19.169, 19.173, 19.174,\n",
       "          19.177, 19.191, 19.192, 19.194, 19.201, 19.204, 19.205, 19.206,\n",
       "          19.208, 19.21 , 19.213, 19.215, 19.228, 19.23 , 19.236, 19.242,\n",
       "          19.243, 19.247, 19.249, 19.252, 19.253, 19.262, 19.263, 19.264,\n",
       "          19.272, 19.278, 19.279, 19.282, 19.289, 19.29 , 19.294, 19.301,\n",
       "          19.307, 19.308, 19.315, 19.318, 19.321, 19.326, 19.327, 19.329,\n",
       "          19.332, 19.335, 19.34 , 19.346, 19.351, 19.354, 19.358, 19.364,\n",
       "          19.367, 19.368, 19.375, 19.379, 19.383, 19.388, 19.39 , 19.394,\n",
       "          19.4  , 19.406, 19.409, 19.414, 19.422, 19.423, 19.43 , 19.436,\n",
       "          19.44 , 19.442, 19.45 , 19.452, 19.453, 19.462, 19.463, 19.467,\n",
       "          19.469, 19.485, 19.486, 19.5  , 19.502, 19.504, 19.507, 19.509,\n",
       "          19.513, 19.514, 19.518, 19.524, 19.529, 19.531, 19.534, 19.535,\n",
       "          19.54 , 19.541, 19.543, 19.544, 19.545, 19.546, 19.549, 19.562,\n",
       "          19.563, 19.593, 19.596, 19.598, 19.607, 19.612, 19.613, 19.618,\n",
       "          19.622, 19.623, 19.631, 19.634, 19.635, 19.639, 19.652, 19.655,\n",
       "          19.656, 19.66 , 19.664, 19.669, 19.672, 19.682, 19.686, 19.689,\n",
       "          19.693, 19.707, 19.708, 19.711, 19.72 , 19.724, 19.725, 19.727,\n",
       "          19.731, 19.738, 19.744, 19.745, 19.758, 19.763, 19.767, 19.773,\n",
       "          19.789, 19.79 , 19.797, 19.803, 19.804, 19.807, 19.814, 19.815,\n",
       "          19.82 , 19.823, 19.828, 19.831, 19.834, 19.836, 19.837, 19.844,\n",
       "          19.849, 19.85 , 19.852, 19.855, 19.86 , 19.864, 19.871, 19.876,\n",
       "          19.887, 19.888, 19.892, 19.893, 19.9  , 19.901, 19.902, 19.92 ,\n",
       "          19.922, 19.924, 19.934, 19.94 , 19.943, 19.955, 19.956, 19.96 ,\n",
       "          19.974, 19.975, 19.98 , 19.982, 19.985, 19.993, 19.997, 19.999,\n",
       "          20.005, 20.008, 20.01 , 20.011, 20.012, 20.015, 20.017, 20.018,\n",
       "          20.019, 20.021, 20.022, 20.025, 20.026, 20.029, 20.042, 20.043,\n",
       "          20.044, 20.046, 20.056, 20.059, 20.06 , 20.069, 20.076, 20.078,\n",
       "          20.079, 20.089, 20.093, 20.094, 20.098, 20.099, 20.101, 20.107,\n",
       "          20.108, 20.112, 20.117, 20.122, 20.123, 20.127, 20.139, 20.14 ,\n",
       "          20.141, 20.148, 20.151, 20.153, 20.154, 20.156, 20.158, 20.159,\n",
       "          20.16 , 20.163, 20.164, 20.165, 20.166, 20.167, 20.168, 20.179,\n",
       "          20.186, 20.189, 20.195, 20.21 , 20.212, 20.218, 20.231, 20.236,\n",
       "          20.24 , 20.251, 20.255, 20.261, 20.265, 20.266, 20.269, 20.28 ,\n",
       "          20.284, 20.292, 20.295, 20.296, 20.303, 20.306, 20.309, 20.315,\n",
       "          20.32 , 20.322, 20.329, 20.33 , 20.333, 20.335, 20.339, 20.342,\n",
       "          20.345, 20.346, 20.347, 20.349, 20.353, 20.354, 20.358, 20.359,\n",
       "          20.361, 20.362, 20.369, 20.37 , 20.371, 20.373, 20.375, 20.379,\n",
       "          20.38 , 20.382, 20.383, 20.384, 20.385, 20.387, 20.388, 20.392,\n",
       "          20.393, 20.395, 20.396, 20.397, 20.401, 20.409, 20.41 , 20.412,\n",
       "          20.413, 20.414, 20.416, 20.418, 20.419, 20.42 , 20.421, 20.422,\n",
       "          20.423, 20.424, 20.425, 20.426, 20.427, 20.431, 20.438, 20.44 ,\n",
       "          20.443, 20.445, 20.448, 20.45 , 20.452, 20.457, 20.461, 20.463,\n",
       "          20.467, 20.479, 20.48 , 20.484, 20.485, 20.486, 20.489, 20.494,\n",
       "          20.495, 20.498, 20.507, 20.511, 20.52 , 20.526, 20.53 , 20.54 ,\n",
       "          20.545, 20.547, 20.551, 20.562, 20.564, 20.566, 20.572, 20.574,\n",
       "          20.577, 20.586, 20.588, 20.591, 20.603, 20.61 , 20.614, 20.615,\n",
       "          20.633, 20.634, 20.635, 20.65 , 20.652, 20.654, 20.66 , 20.662,\n",
       "          20.665, 20.673, 20.675, 20.678, 20.681, 20.696, 20.698, 20.699,\n",
       "          20.71 , 20.712, 20.715, 20.724, 20.727, 20.728, 20.729, 20.73 ,\n",
       "          20.731, 20.732, 20.734, 20.736, 20.74 , 20.741, 20.742, 20.746,\n",
       "          20.747, 20.753, 20.754, 20.756, 20.757, 20.76 , 20.767, 20.77 ,\n",
       "          20.771, 20.773, 20.776, 20.777, 20.778, 20.779, 20.784, 20.788,\n",
       "          20.79 , 20.794, 20.798, 20.803, 20.806, 20.809, 20.811, 20.815,\n",
       "          20.825, 20.83 , 20.833, 20.838, 20.854, 20.856, 20.858, 20.861,\n",
       "          20.862, 20.873, 20.875, 20.879, 20.888, 20.893, 20.894, 20.9  ,\n",
       "          20.92 , 20.922, 20.927, 20.937, 20.942, 20.943, 20.95 , 20.951,\n",
       "          20.956, 20.957, 20.961, 20.968, 20.973, 20.975, 20.978, 20.992,\n",
       "          20.994, 20.996, 21.003, 21.008, 21.009, 21.012, 21.016, 21.018,\n",
       "          21.029, 21.035, 21.039, 21.044, 21.059, 21.06 , 21.07 , 21.075,\n",
       "          21.076, 21.079, 21.09 , 21.094, 21.097, 21.107, 21.111, 21.114,\n",
       "          21.132, 21.136, 21.137, 21.144, 21.147, 21.149, 21.15 , 21.151,\n",
       "          21.153, 21.156, 21.158, 21.16 , 21.163, 21.167, 21.168, 21.172,\n",
       "          21.179, 21.183, 21.184, 21.188, 21.19 , 21.191, 21.194, 21.195,\n",
       "          21.2  , 21.213, 21.216, 21.22 , 21.222, 21.225, 21.234, 21.236,\n",
       "          21.24 , 21.242, 21.246, 21.247, 21.251, 21.253, 21.258, 21.262,\n",
       "          21.268, 21.27 , 21.275, 21.277, 21.281, 21.286, 21.289, 21.29 ,\n",
       "          21.293, 21.306, 21.308, 21.309, 21.312, 21.316, 21.317, 21.318,\n",
       "          21.32 , 21.324, 21.329, 21.33 , 21.34 , 21.343, 21.344, 21.348,\n",
       "          21.351, 21.352, 21.355, 21.357, 21.361, 21.373, 21.374, 21.385,\n",
       "          21.387, 21.394, 21.396, 21.397, 21.4  , 21.404, 21.407, 21.411,\n",
       "          21.412, 21.416, 21.417, 21.418, 21.42 , 21.421, 21.422, 21.427,\n",
       "          21.429, 21.432, 21.437, 21.454, 21.46 , 21.464, 21.465, 21.472,\n",
       "          21.473, 21.475, 21.479, 21.481, 21.484, 21.491, 21.497, 21.5  ,\n",
       "          21.504, 21.517, 21.518, 21.522, 21.523, 21.524, 21.525, 21.528,\n",
       "          21.534, 21.539, 21.541, 21.545, 21.556, 21.557, 21.558, 21.561,\n",
       "          21.564, 21.567, 21.569, 21.574, 21.579, 21.581, 21.591, 21.594,\n",
       "          21.595, 21.598, 21.61 , 21.611, 21.612, 21.623, 21.636, 21.638]),\n",
       "   'data_y': array([ 1505.63613527,  1518.82122705,  1526.2985314 ,  1546.29705314,\n",
       "           1563.53712077,  1583.7161256 ,  1608.62716908,  1634.38754589,\n",
       "           1663.14316908,  1694.72057005,  1727.51111111,  1761.15356522,\n",
       "           1794.40643478,  1828.32803865,  1858.50973913,  1887.8756715 ,\n",
       "           1914.64148792,  1939.97972947,  1960.71010628,  1978.03652174,\n",
       "           1997.1586087 ,  2011.54745894,  2023.99153623,  2038.78888889,\n",
       "           2040.40059903,  2039.31136232,  2037.07218357,  2041.04071498,\n",
       "           2042.87803865,  2046.75344928,  2041.33883092,  2058.30274396,\n",
       "           2081.88172947,  2098.79742995,  2126.58508213,  2156.10718841,\n",
       "           2188.69406763,  2244.33008696,  2307.56357488,  2375.91000966,\n",
       "           2460.61035749,  2558.94815459,  2651.12732367,  2746.8178744 ,\n",
       "           2851.69484058,  2955.16867633,  3056.76102415,  3156.48508213,\n",
       "           3250.40742029,  3342.06819324,  3426.05451208,  3504.79377778,\n",
       "           3578.15771014,  3640.5066087 ,  3668.42113043,  3742.35601932,\n",
       "           3782.94525282,  3820.10952657,  3827.69430918,  3851.97688567,\n",
       "           3864.71648309,  3894.0255942 ,  3911.81089533,  3940.61461836,\n",
       "           3980.48211594,  4025.13562963,  4066.77191304,  4120.52018357,\n",
       "           4182.83244122,  4243.52833816,  4306.64754589,  4359.35632528,\n",
       "           4400.65556522,  4455.41593237,  4516.83031562,  4580.98290821,\n",
       "           4651.2288599 ,  4718.19619002,  4780.61952657,  4871.72692754,\n",
       "           4929.31848953,  4982.60149758,  5023.63722705,  5092.54698551,\n",
       "           5139.85459903,  5201.68467633,  5260.26122705,  5324.63161353,\n",
       "           5384.01439614,  5443.7221256 ,  5493.77648309,  5541.3225314 ,\n",
       "           5584.49949758,  5619.47354589,  5644.56738164,  5659.77290821,\n",
       "           5681.45308213,  5721.10774879,  5754.38115942,  5788.13600966,\n",
       "           5824.8632657 ,  5854.09189372,  5881.70322705,  5906.48435749,\n",
       "           5930.53239614,  5954.28094686,  5943.53552657,  5979.16309179,\n",
       "           5977.15606763,  5987.28948792,  6008.97778744,  6040.5029372 ,\n",
       "           6079.63113043,  6125.68570048,  6180.23729469,  6243.18512077,\n",
       "           6308.89576812,  6376.43878261,  6445.90436715,  6512.14398068,\n",
       "           6576.22166184,  6621.7305314 ,  6659.25350725,  6692.76919807,\n",
       "           6744.73683092,  6809.51869565,  6879.11368116,  6943.81699517,\n",
       "           6991.06388406,  7075.88868599,  7158.63461836,  7279.0072657 ,\n",
       "           7335.01403865,  7493.36096618,  7626.66731401,  7789.74527536,\n",
       "           7974.16651208,  8142.08121739,  8339.97510145,  8528.04457005,\n",
       "           8721.98105314,  8910.51550725,  9085.41345894,  9254.46751691,\n",
       "           9416.00601932,  9558.21696618,  9712.60814493,  9862.7133913 ,\n",
       "          10015.7295942 , 10163.61397101, 10290.35112077, 10366.75474396,\n",
       "          10447.99071498, 10570.94148792, 10672.51921739, 10794.91663768,\n",
       "          10872.122657  , 10985.900657  , 11054.22969082, 11155.42350725,\n",
       "          11222.71415459, 11293.45257005, 11411.3297971 , 11494.018657  ,\n",
       "          11594.87719807, 11693.75256039, 11798.72597101, 11919.04520773,\n",
       "          12031.82218357, 12145.71511111, 12253.19903382, 12346.86069565,\n",
       "          12433.81942029, 12519.30807729, 12592.86472464, 12647.55366184,\n",
       "          12741.36223188, 12839.53710145, 12930.55919807, 13006.51955556,\n",
       "          13024.30244444, 13072.22142995, 13108.16671498, 13137.19223188,\n",
       "          13159.56500483, 13165.37761353, 13224.10581643, 13259.27711111,\n",
       "          13261.62805797, 13287.10155556, 13323.72086957, 13366.52225121,\n",
       "          13421.14544928, 13491.49120773, 13561.61536232, 13642.32071498,\n",
       "          13728.94556522, 13819.0333913 , 13918.01868599, 14012.22801932,\n",
       "          14108.02310789, 14196.95610628, 14283.25902415, 14366.28819968,\n",
       "          14436.83672464, 14497.27375845, 14548.8356876 , 14590.10477295,\n",
       "          14609.58675362, 14618.28518519, 14671.64098551, 14663.17621256,\n",
       "          14635.9980161 , 14654.6352657 , 14663.67113043, 14676.40137842,\n",
       "          14696.32695652, 14713.87489855, 14731.05822866, 14748.48378744,\n",
       "          14766.66544928, 14785.10497262, 14808.63013527, 14833.96709179,\n",
       "          14857.5746248 , 14880.30164251, 14902.53780676, 14927.84058937,\n",
       "          14946.44136232, 14967.77511111, 14989.34677295, 15007.58096618,\n",
       "          15024.95202899, 15047.62929469, 15064.45478261, 15083.74562319,\n",
       "          15101.3483285 , 15118.39953623, 15133.63449275, 15150.02204831,\n",
       "          15164.77615459, 15179.02079227, 15192.67097585, 15203.51313043,\n",
       "          15217.23095652, 15230.88441546, 15239.09947826, 15255.1325314 ,\n",
       "          15269.75807729, 15281.53045411, 15297.48325604, 15313.98611594,\n",
       "          15332.55017391, 15349.9838744 , 15374.33166184, 15400.27214493,\n",
       "          15426.5187343 , 15456.33229952, 15484.85582609, 15518.8111401 ,\n",
       "          15546.929343  , 15580.39127536, 15610.93524638, 15645.34656039,\n",
       "          15674.66      , 15707.90580676, 15740.01955556, 15766.69291787,\n",
       "          15796.89196135, 15824.55617391, 15846.2171401 , 15875.75342995,\n",
       "          15898.36500483, 15916.06765217, 15939.94542995, 15960.50605797,\n",
       "          15981.14743961, 15998.45114976, 16022.57103382, 16040.74079227,\n",
       "          16058.09851208, 16076.81143961, 16095.03234783, 16113.36338164,\n",
       "          16132.29092754, 16153.74676328, 16169.18489855, 16191.53286957,\n",
       "          16211.18324638, 16233.73424155, 16251.99497585, 16270.86494686,\n",
       "          16292.24925604, 16311.67147826, 16328.19184541, 16348.2817971 ,\n",
       "          16364.22730435, 16381.61609662, 16401.3195942 , 16415.12910145,\n",
       "          16431.4927343 , 16448.12457971, 16462.9978744 , 16478.86046377,\n",
       "          16495.52204831, 16511.11582609, 16525.92796135, 16543.12258937,\n",
       "          16561.56115942, 16577.20189372, 16592.65163285, 16611.68110145,\n",
       "          16622.37667633, 16636.65004831, 16659.20651208, 16681.03636715,\n",
       "          16701.88316908, 16721.84301449, 16739.44228019, 16758.59866667,\n",
       "          16778.71545894, 16801.11018357, 16821.22162319, 16845.68345894,\n",
       "          16871.67463446, 16895.6108599 , 16918.75391304, 16946.26564895,\n",
       "          16970.56158454, 16993.2571401 , 17019.54342673, 17045.43174879,\n",
       "          17019.56852174, 17023.05969726, 17036.71169082, 17068.58504348,\n",
       "          17114.94814171, 17182.85375845, 17264.45472464, 17346.82259581,\n",
       "          17439.07321739, 17535.86100483, 17637.84365862, 17746.27735266,\n",
       "          17854.68172947, 17961.37936876, 18061.29494686, 18159.73041546,\n",
       "          18246.45926248, 18322.79391304, 18387.90228986, 18440.08535266,\n",
       "          18477.10217391, 18497.90486957, 18502.65371014, 18484.01006763,\n",
       "          18447.08391304, 18459.68025121, 18462.18509179, 18471.98427053,\n",
       "          18481.33137198, 18490.79609662, 18503.4597971 , 18515.29661836,\n",
       "          18529.74078261, 18544.75194203, 18560.37357488, 18576.24096618,\n",
       "          18589.56014493, 18603.66347826, 18617.49667633, 18631.79288889,\n",
       "          18643.22564251, 18654.15777778, 18666.65341063, 18677.99008696,\n",
       "          18690.47580676, 18702.4930628 , 18713.77252174, 18726.31091787,\n",
       "          18739.74664734, 18750.8036715 , 18761.11175845, 18771.75744928,\n",
       "          18782.28321739, 18791.88210628, 18806.06203865, 18818.36336232,\n",
       "          18829.57542995, 18839.48571981, 18853.01664734, 18865.47275362,\n",
       "          18878.35676328, 18893.49516908, 18902.86836715, 18913.53835749,\n",
       "          18928.62459903, 18951.3666087 , 18976.7533913 , 19009.52388406,\n",
       "          19028.68722705, 19056.99342029, 19080.31565217, 19080.974657  ,\n",
       "          19121.82079227, 19117.95730435, 19136.7269372 , 19171.34078261,\n",
       "          19220.18244444, 19285.80911111, 19368.2245314 , 19454.42818357,\n",
       "          19548.29844444, 19646.51771014, 19753.18924638, 19851.50889855,\n",
       "          19952.09753623, 20052.47469565, 20146.97971981, 20248.24464734,\n",
       "          20345.36687923, 20436.10095652, 20514.61314976, 20579.6845314 ,\n",
       "          20622.72851208, 20662.30111111, 20676.4968599 , 20682.26307246,\n",
       "          20706.45456039, 20683.02365217, 20705.53353623, 20725.00991304,\n",
       "          20744.56169082, 20770.97078261, 20795.39170048, 20813.92263768,\n",
       "          20835.70408696, 20854.43034783, 20873.66731401, 20888.69989372,\n",
       "          20910.05200966, 20931.79324638, 20953.66391304, 20979.36704348,\n",
       "          21002.2096715 , 21024.92296618, 21048.82928502, 21068.35709179,\n",
       "          21093.42689855, 21115.61655072, 21138.28059903, 21161.46808696,\n",
       "          21184.728     , 21207.76572947, 21230.9675942 , 21195.33703382,\n",
       "          21192.93619324, 21195.47249275, 21233.69470531, 21277.21249275,\n",
       "          21355.92971981, 21452.97370048, 21556.76564251, 21680.29470531,\n",
       "          21816.84204831, 21961.4868599 , 22110.7941256 , 22258.8992657 ,\n",
       "          22404.78218357, 22546.89507246, 22695.90819324, 22838.88320773,\n",
       "          22976.00952657, 23093.86264734, 23205.31623188, 23295.99545894,\n",
       "          23365.69254106, 23418.64092754, 23443.09868599, 23440.12202899,\n",
       "          23496.28676328, 23536.63924638, 23601.85731401, 23659.87781643,\n",
       "          23729.5828599 , 23793.41652174, 23852.09029952, 23920.41818357,\n",
       "          23988.6592657 , 24049.78152657, 24106.90642512, 24160.42485024,\n",
       "          24209.54733333, 24269.80607729, 24330.89937198, 24388.38172947,\n",
       "          24439.77738164, 24496.56795169, 24547.30462802, 24586.58601932,\n",
       "          24630.68771981, 24676.13100483, 24712.03295652, 24746.8983285 ,\n",
       "          24785.69127536, 24819.89742029, 24782.5936715 , 24815.06407729,\n",
       "          24796.93494686, 24842.42228986, 24889.59765217, 24953.92750725,\n",
       "          25058.094     , 25174.02190338, 25312.09724638, 25463.36312077,\n",
       "          25628.52722705, 25815.41883092, 26010.10376812, 26217.29308213,\n",
       "          26414.75068599, 26618.6604058 , 26806.89035749, 26983.50828986,\n",
       "          27155.30156522, 27304.35230918, 27428.71756522, 27526.22784541,\n",
       "          27597.12960386, 27628.63522705, 27620.23205797, 27687.17105314,\n",
       "          27684.49308213, 27631.87121095, 27693.18703382, 27586.05503382,\n",
       "          27750.68654428, 27779.84950725, 27796.82666023, 27923.09936554,\n",
       "          28030.08044444, 28243.37881804, 28542.37336554, 28807.08924638,\n",
       "          29179.02184219, 29387.98723027, 29875.23756522, 30104.61964895,\n",
       "          30391.00219646, 30710.65353623, 31057.93791948, 31426.08898873,\n",
       "          31802.27686957, 32175.52741707, 32535.0263124 , 32871.48762319,\n",
       "          33164.93660547, 33411.27126892, 33757.07976812, 33937.34473108,\n",
       "          34313.14311111, 34432.90698551, 34636.95055717, 34892.34949758,\n",
       "          35076.93051208, 35317.66497907, 35504.79142029, 35602.64100483,\n",
       "          35716.00496618, 35692.41685024, 35839.88371014, 35667.71831884,\n",
       "          35703.98233816, 35738.54459903, 35768.55634783, 35801.48664734,\n",
       "          35832.40417391, 35860.12166184, 35882.80469565, 35904.944657  ,\n",
       "          35935.97497585, 35963.27902415, 35996.53955556, 36019.92802899,\n",
       "          36043.46433816, 36064.30348792, 36089.85958454, 36112.68424155,\n",
       "          36142.33305314, 36160.02731401, 36188.60091787, 36205.86337198,\n",
       "          36239.77848309, 36260.62223188, 36294.49109179, 36322.1565314 ,\n",
       "          36349.24950725, 36378.94897585, 36415.32371014, 36456.27856039,\n",
       "          36491.59996135, 36521.10930435, 36565.80115942, 36625.11382609,\n",
       "          36688.91969082, 36742.60215459, 36805.16082126, 36847.34684058,\n",
       "          36894.5231401 , 36936.96842512, 36994.97995169, 37050.56422222,\n",
       "          37105.05361353, 37147.79467633, 37193.73235749, 37250.55968116,\n",
       "          37299.46509179, 37332.98777778, 37411.15707246, 37457.14971014,\n",
       "          37516.14884058, 37564.66592271, 37628.14770531, 37683.91536232,\n",
       "          37739.61462319, 37783.65097585, 37843.51959903, 37903.44498551,\n",
       "          37952.40665217, 38001.34141063, 38048.28871981, 38081.57047343,\n",
       "          38123.06304831, 38162.78168116, 38210.57230435, 38247.49426087,\n",
       "          38277.75289372, 38304.61991304, 38336.84518357, 38374.13061836,\n",
       "          38393.20158937, 38433.1944058 , 38478.69743478, 38496.97796135,\n",
       "          38526.4361401 , 38546.51556522, 38577.87398551, 38595.77949758,\n",
       "          38610.68976812, 38618.41281159, 38639.48849275, 38661.26782609,\n",
       "          38677.71992271, 38697.23418357, 38713.85945894, 38731.15116908,\n",
       "          38751.00944928, 38769.99507246, 38787.2891401 , 38803.3466087 ,\n",
       "          38821.63298551, 38838.4341256 , 38855.80314976, 38873.33329469,\n",
       "          38890.3788599 , 38910.02295652, 38926.38164251, 38942.3269372 ,\n",
       "          38959.26753623, 38977.56805797, 38993.84714976, 39010.77087923,\n",
       "          39029.82156522, 39049.59196135, 39068.20796135, 39085.94436715,\n",
       "          39105.66645411, 39124.00562319, 39141.30724638, 39160.61625121,\n",
       "          39180.54885024, 39195.5647343 , 39213.52792271, 39231.49116908,\n",
       "          39247.30013527, 39264.43402899, 39282.04282126, 39298.38879227,\n",
       "          39307.99940097, 39323.05033816, 39347.7102029 , 39369.59304348,\n",
       "          39391.49365217, 39412.72805797, 39432.1864058 , 39451.19773913,\n",
       "          39469.36377778, 39485.0255942 , 39502.20542029, 39517.69645411,\n",
       "          39537.62563285, 39552.02209662, 39571.19933333, 39589.81923671,\n",
       "          39606.9754686 , 39625.62764251, 39643.45525604, 39663.65523671,\n",
       "          39682.54042834, 39706.36175845, 39723.43523671, 39745.13437037,\n",
       "          39767.7596715 , 39798.30397101, 39827.42047665, 39852.03993237,\n",
       "          39880.26568116, 39900.95146216, 39925.1671401 , 39944.74381643,\n",
       "          39968.88730757, 39995.43258937, 40021.16034783, 40046.81152979,\n",
       "          40073.99472464, 40098.7662029 , 40127.94677617, 40154.16985507,\n",
       "          40182.25650242, 40210.17297907, 40235.2178744 , 40270.99143961,\n",
       "          40301.77004187, 40331.06419324, 40357.53221256, 40391.47340097,\n",
       "          40418.46676328, 40445.84992271, 40476.63888889, 40508.66204831,\n",
       "          40537.68752657, 40562.49642512, 40593.01394203, 40616.42021256,\n",
       "          40650.61544928, 40679.6804058 , 40706.50248309, 40734.76469565,\n",
       "          40759.99627053, 40784.17717874, 40812.02585507, 40837.81905314,\n",
       "          40863.62583575, 40890.51982609, 40917.66948792, 40945.92481159,\n",
       "          40975.44092754, 41003.6890628 , 41028.35364251, 41061.58324638,\n",
       "          41091.02017391, 41120.16141063, 41150.19607729, 41180.34597101,\n",
       "          41209.77947826, 41239.29571014, 41268.77004831, 41298.17051208,\n",
       "          41331.38923671, 41359.49998068, 41387.19505314, 41414.43972947,\n",
       "          41439.33963285, 41467.3491401 , 41495.9432657 , 41519.34919807,\n",
       "          41547.3316715 , 41573.08784541, 41596.97275362, 41622.94989372,\n",
       "          41651.99325604, 41675.53010628, 41698.29022222, 41723.66785507,\n",
       "          41749.41551691, 41773.22823188, 41801.4222029 , 41828.36287923,\n",
       "          41850.48384541, 41879.82183575, 41908.44206763, 41937.16558454,\n",
       "          41965.36102415, 41994.78846377, 42023.47719807, 42058.76199034,\n",
       "          42090.31286957, 42131.08830918, 42170.37416425, 42209.69513043,\n",
       "          42250.63105314, 42292.6610628 , 42331.05551691, 42377.09828019,\n",
       "          42417.76940097, 42454.47111111, 42496.08030918, 42530.62958454,\n",
       "          42576.27882126, 42616.42113043, 42652.87791304, 42690.76707246,\n",
       "          42729.64456039, 42769.75182609, 42804.15628985, 42837.90664734,\n",
       "          42870.93516908, 42901.66863768, 42936.90707246, 42978.90284058,\n",
       "          43010.62833816, 43045.88594203, 43075.98411594, 43108.2303285 ,\n",
       "          43140.70919807, 43175.03481159, 43206.18450242, 43244.01314976,\n",
       "          43276.40937198, 43306.57591304, 43342.18472464, 43379.89872464,\n",
       "          43423.18682126, 43462.12241546, 43503.19657971, 43551.73105314,\n",
       "          43597.555343  , 43642.10811594, 43691.28108213, 43742.57669565,\n",
       "          43788.59434783, 43832.91507246, 43878.3081256 , 43923.73876328,\n",
       "          43961.85821256, 43999.85625121, 44038.67874396, 44077.56692754,\n",
       "          44111.21738164, 44142.03668599, 44174.75038647, 44201.63055072,\n",
       "          44225.94565217, 44247.77712077, 44272.70006763, 44299.97429952,\n",
       "          44319.51409662, 44343.86838647, 44370.55354911, 44398.58475362,\n",
       "          44420.44395169, 44448.75408052, 44482.87720773, 44516.06941063,\n",
       "          44539.24322061, 44567.3508599 , 44600.85672464, 44631.63995491,\n",
       "          44658.90833816, 44686.01207729, 44713.66450564, 44740.72743961,\n",
       "          44765.48396135, 44792.51133655, 44821.55627053, 44843.08415459,\n",
       "          44871.95898873, 44900.65803865, 44926.04380676, 44955.46066023,\n",
       "          44983.77663768, 45013.193343  , 45041.32702738, 45068.85037681,\n",
       "          45094.58483092, 45127.93932367, 45154.9592657 , 45184.79913043,\n",
       "          45204.65565217, 45237.41619324, 45266.39150725, 45286.73279227,\n",
       "          45310.02947826, 45333.48919807, 45356.4002029 , 45378.82069565,\n",
       "          45400.17956522, 45426.40270531, 45448.93717874, 45468.84015459,\n",
       "          45492.336     , 45516.50094686, 45541.99862158, 45566.71215459,\n",
       "          45587.64009662, 45608.023781  , 45629.41501449, 45650.78479227,\n",
       "          45672.71738486, 45694.37447343, 45714.81064734, 45742.59761675,\n",
       "          45767.46282126, 45796.51892754, 45815.78356844, 45839.16672464,\n",
       "          45863.18463768, 45887.2565153 , 45910.74129469, 45933.99457005,\n",
       "          45956.73860225, 45979.10552657, 46000.82786473, 46019.10022544,\n",
       "          46042.78981643, 46068.65943961, 46089.5309694 , 46106.68017391]),\n",
       "   'fitted_model': {'slope': np.float64(3.4239366918487257),\n",
       "    'intercept': np.float64(948.6161879137379),\n",
       "    'fitted_y': array([ 1084.50666077,  1097.72256295,  1137.3702695 ,  1216.66568259,\n",
       "            1256.31338914,  1295.96109569,  1441.3360197 ,  1520.6314328 ,\n",
       "            1586.71094371,  1652.79045462,  1864.24488955,  1877.46079173,\n",
       "            1903.8925961 ,  2049.26752011,  2088.91522666,  2102.13112884,\n",
       "            2221.07424848,  2260.72195503,  2300.36966158,  2432.52868341,\n",
       "            2485.39229214,  2511.8240965 ,  2604.33541178,  2670.4149227 ,\n",
       "            2696.84672706,  2762.92623798,  2908.30116199,  2961.16477072,\n",
       "            3027.24428163,  3040.46018381,  3080.10789036,  3119.75559691,\n",
       "            3132.97149909,  3185.83510782,  3265.13052092,  3331.21003183,\n",
       "            3370.85773838,  3489.80085803,  3542.66446676,  3582.31217331,\n",
       "            3688.03939077,  3714.47119513,  3820.1984126 ,  3833.41431478,\n",
       "            3886.27792351,  3952.35743442,  4005.22104315,  4071.30055407,\n",
       "            4229.89138026,  4256.32318463,  4282.75498899,  4401.69810864,\n",
       "            4428.129913  ,  4494.20942392,  4599.93664138,  4679.23205447,\n",
       "            4692.44795666,  4864.25468503,  4917.11829376,  4943.55009813,\n",
       "            5075.70911996,  5155.00453305,  5181.43633742,  5260.73175051,\n",
       "            5326.81126143,  5340.02716361,  5353.24306579,  5379.67487016,\n",
       "            5419.32257671,  5432.53847889,  5458.97028326,  5472.18618544,\n",
       "            5525.04979417,  5577.9134029 ,  5630.77701163,  5670.42471818,\n",
       "            5815.79964219,  5842.23144656,  5855.44734874,  5895.09505529,\n",
       "            5947.95866402,  5961.1745662 ,  6027.25407711,  6119.76539239,\n",
       "            6265.1403164 ,  6318.00392513,  6397.29933823,  6569.10606661,\n",
       "            6582.32196879,  6595.53787097,  6661.61738189,  6688.04918625,\n",
       "            6714.48099062,  6754.12869717,  6780.56050153,  6806.9923059 ,\n",
       "            6886.28771899,  6925.93542554,  6939.15132772,  6992.01493645,\n",
       "            7163.82166483,  7216.68527356,  7282.76478448,  7348.84429539,\n",
       "            7362.06019757,  7375.27609975,  7428.13970849,  7494.2192194 ,\n",
       "            7533.86692595,  7547.08282813,  7586.73053468,  7626.37824123,\n",
       "            7652.81004559,  7666.02594777,  7732.10545869,  7745.32136087,\n",
       "            7758.53726305,  7771.75316524,  7943.55989361,  7956.7757958 ,\n",
       "            8049.28711107,  8260.741546  ,  8313.60515473,  8379.68466564,\n",
       "            8551.49139402,  8604.35500275,  8630.78680712,  8644.0027093 ,\n",
       "            8696.86631803,  8710.08222021,  8736.51402458,  8762.94582894,\n",
       "            8842.24124204,  8908.32075295,  8934.75255732,  9027.2638726 ,\n",
       "            9093.34338351,  9106.55928569,  9212.28650316,  9238.71830752,\n",
       "            9251.9342097 ,  9291.58191625,  9331.2296228 ,  9370.87732935,\n",
       "            9384.09323153,  9397.30913371,  9489.82044899,  9516.25225336,\n",
       "            9529.46815554,  9608.76356864,  9674.84307955,  9688.05898174,\n",
       "            9727.70668828,  9740.92259047,  9754.13849265,  9793.7861992 ,\n",
       "            9833.43390575,  9952.37702539,  9965.59292757,  9992.02473194,\n",
       "           10018.4565363 , 10058.10424285, 10071.32014504, 10150.61555813,\n",
       "           10190.26326468, 10203.47916686, 10216.69506905, 10229.91097123,\n",
       "           10256.34277559, 10309.20638432, 10362.06999306, 10401.7176996 ,\n",
       "           10414.93360179, 10481.0131127 , 10507.44491707, 10573.52442798,\n",
       "           10586.74033016, 10613.17213453, 10652.81984108, 10692.46754762,\n",
       "           10705.68344981, 10718.89935199, 10890.70608037, 10930.35378691,\n",
       "           11009.64920001, 11062.51280874, 11075.72871092, 11128.59231965,\n",
       "           11141.80822184, 11168.2400262 , 11221.10363493, 11340.04675458,\n",
       "           11406.12626549, 11432.55806986, 11472.20577641, 11511.85348295,\n",
       "           11538.28528732, 11551.5011895 , 11564.71709169, 11591.14889605,\n",
       "           11604.36479823, 11644.01250478, 11683.66021133, 11723.30791788,\n",
       "           11789.38742879, 11802.60333098, 11895.11464625, 11947.97825499,\n",
       "           11987.62596153, 12000.84186372, 12014.0577659 , 12066.92137463,\n",
       "           12080.13727681, 12093.353179  , 12106.56908118, 12119.78498336,\n",
       "           12146.21678773, 12265.15990737, 12278.37580955, 12291.59171174,\n",
       "           12331.23941828, 12370.88712483, 12384.10302702, 12423.75073356,\n",
       "           12489.83024448, 12529.47795103, 12582.34155976, 12621.98926631,\n",
       "           12635.20516849, 12701.2846794 , 12754.14828813, 12767.36419032,\n",
       "           12899.52321214, 12939.17091869, 13005.25042961, 13071.32994052,\n",
       "           13084.5458427 , 13097.76174488, 13124.19354925, 13150.62535362,\n",
       "           13269.56847326, 13335.64798417, 13362.07978854, 13401.72749509,\n",
       "           13441.37520164, 13520.67061473, 13547.1024191 , 13560.31832128,\n",
       "           13586.75012565, 13679.26144093, 13692.47734311, 13745.34095184,\n",
       "           13837.85226712, 13917.14768021, 13930.3635824 , 14009.65899549,\n",
       "           14036.09079986, 14049.30670204, 14194.68162605, 14234.3293326 ,\n",
       "           14247.54523478, 14313.6247457 , 14353.27245225, 14511.86327844,\n",
       "           14525.07918062, 14591.15869153, 14604.37459372, 14644.02230027,\n",
       "           14657.23820245, 14829.04493082, 14842.26083301, 14855.47673519,\n",
       "           14881.90853956, 14908.34034392, 14921.5562461 , 14947.98805047,\n",
       "           14961.20395265, 14974.41985483, 15000.8516592 , 15066.93117011,\n",
       "           15080.1470723 , 15106.57887666, 15146.22658321, 15185.87428976,\n",
       "           15212.30609412, 15357.68101813, 15370.89692032, 15410.54462687,\n",
       "           15489.84003996, 15516.27184433, 15555.91955088, 15674.86267052,\n",
       "           15740.94218143, 15780.58988798, 15846.6693989 , 15992.04432291,\n",
       "           16044.90793164, 16058.12383382, 16124.20334473, 16163.85105128,\n",
       "           16177.06695346, 16229.9305622 , 16243.14646438, 16296.01007311,\n",
       "           16388.52138839, 16454.6008993 , 16481.03270367, 16533.8963124 ,\n",
       "           16692.48713859, 16705.70304077, 16758.56664951, 16784.99845387,\n",
       "           16811.43025824, 16837.8620626 , 16890.72567133, 16917.1574757 ,\n",
       "           16943.58928006, 17036.10059534, 17088.96420407, 17102.18010626,\n",
       "           17141.82781281, 17326.85044336, 17340.06634555, 17366.49814991,\n",
       "           17459.00946519, 17498.65717174, 17511.87307392, 17525.0889761 ,\n",
       "           17551.52078047, 17577.95258484, 17617.60029138, 17644.03209575,\n",
       "           17815.83882413, 17842.27062849, 17921.56604159, 18000.86145468,\n",
       "           18014.07735687, 18066.9409656 , 18093.37276996, 18133.02047651,\n",
       "           18146.23637869, 18265.17949834, 18278.39540052, 18291.6113027 ,\n",
       "           18397.33852017, 18476.63393326, 18489.84983545, 18529.49754199,\n",
       "           18622.00885727, 18635.22475946, 18688.08836819, 18780.59968347,\n",
       "           18859.89509656, 18873.11099875, 18965.62231402, 19005.27002057,\n",
       "           19044.91772712, 19110.99723803, 19124.21314022, 19150.64494458,\n",
       "           19190.29265113, 19229.94035768, 19296.01986859, 19375.31528169,\n",
       "           19441.3947926 , 19481.04249915, 19533.90610788, 19613.20152098,\n",
       "           19652.84922753, 19666.06512971, 19758.57644499, 19811.44005372,\n",
       "           19864.30366245, 19930.38317337, 19956.81497773, 20009.67858646,\n",
       "           20088.97399956, 20168.26941265, 20207.9171192 , 20273.99663012,\n",
       "           20379.72384758, 20392.93974976, 20485.45106504, 20564.74647814,\n",
       "           20617.61008687, 20644.04189123, 20749.7691087 , 20776.20091306,\n",
       "           20789.41681524, 20908.35993489, 20921.57583707, 20974.4394458 ,\n",
       "           21000.87125017, 21212.32568509, 21225.54158727, 21410.56421783,\n",
       "           21436.9960222 , 21463.42782656, 21503.07553311, 21529.50733748,\n",
       "           21582.37094621, 21595.58684839, 21648.45045712, 21727.74587022,\n",
       "           21793.82538113, 21820.2571855 , 21859.90489205, 21873.12079423,\n",
       "           21939.20030514, 21952.41620733, 21978.84801169, 21992.06391387,\n",
       "           22005.27981606, 22018.49571824, 22058.14342479, 22229.95015316,\n",
       "           22243.16605535, 22639.64312083, 22679.29082738, 22705.72263174,\n",
       "           22824.66575139, 22890.7452623 , 22903.96116448, 22970.0406754 ,\n",
       "           23022.90428413, 23036.12018631, 23141.84740377, 23181.49511032,\n",
       "           23194.7110125 , 23247.57462123, 23419.38134961, 23459.02905616,\n",
       "           23472.24495834, 23525.10856707, 23577.9721758 , 23644.05168672,\n",
       "           23683.69939327, 23815.85841509, 23868.72202382, 23908.36973037,\n",
       "           23961.2333391 , 24146.25596966, 24159.47187184, 24199.11957839,\n",
       "           24318.06269804, 24370.92630677, 24384.14220895, 24410.57401332,\n",
       "           24463.43762205, 24555.94893733, 24635.24435042, 24648.46025261,\n",
       "           24820.26698098, 24886.3464919 , 24939.21010063, 25018.50551372,\n",
       "           25229.95994865, 25243.17585083, 25335.68716611, 25414.98257921,\n",
       "           25428.19848139, 25467.84618794, 25560.35750322, 25573.5734054 ,\n",
       "           25639.65291631, 25679.30062286, 25745.38013377, 25785.02784032,\n",
       "           25824.67554687, 25851.10735124, 25864.32325342, 25956.8345687 ,\n",
       "           26022.91407961, 26036.12998179, 26062.56178616, 26102.20949271,\n",
       "           26168.28900362, 26221.15261235, 26313.66392763, 26379.74343855,\n",
       "           26525.11836256, 26538.33426474, 26591.19787347, 26604.41377565,\n",
       "           26696.92509093, 26710.14099311, 26723.3568953 , 26961.24313459,\n",
       "           26987.67493895, 27014.10674332, 27146.26576515, 27225.56117824,\n",
       "           27265.20888479, 27423.79971098, 27437.01561317, 27489.8792219 ,\n",
       "           27674.90185246, 27688.11775464, 27754.19726555, 27780.62906992,\n",
       "           27820.27677647, 27926.00399393, 27978.86760266, 28005.29940702,\n",
       "           28084.59482012, 28124.24252667, 28150.67433103, 28163.89023322,\n",
       "           28177.1061354 , 28216.75384195, 28243.18564631, 28256.4015485 ,\n",
       "           28269.61745068, 28296.04925504, 28309.26515723, 28348.91286378,\n",
       "           28362.12876596, 28401.77647251, 28573.58320088, 28586.79910307,\n",
       "           28600.01500525, 28626.44680961, 28758.60583144, 28798.25353799,\n",
       "           28811.46944017, 28930.41255982, 29022.9238751 , 29049.35567946,\n",
       "           29062.57158164, 29194.73060347, 29247.5942122 , 29260.81011439,\n",
       "           29313.67372312, 29326.8896253 , 29353.32142966, 29432.61684276,\n",
       "           29445.83274494, 29498.69635367, 29564.77586459, 29630.8553755 ,\n",
       "           29644.07127768, 29696.93488642, 29855.52571261, 29868.74161479,\n",
       "           29881.95751697, 29974.46883225, 30014.1165388 , 30040.54834317,\n",
       "           30053.76424535, 30080.19604972, 30106.62785408, 30119.84375626,\n",
       "           30133.05965845, 30172.70736499, 30185.92326718, 30199.13916936,\n",
       "           30212.35507154, 30225.57097373, 30238.78687591, 30384.16179992,\n",
       "           30476.6731152 , 30516.32082175, 30595.61623484, 30793.85476758,\n",
       "           30820.28657195, 30899.58198505, 31071.38871342, 31137.46822434,\n",
       "           31190.33183307, 31335.70675708, 31388.57036581, 31467.8657789 ,\n",
       "           31520.72938764, 31533.94528982, 31573.59299637, 31718.96792038,\n",
       "           31771.83152911, 31877.55874657, 31917.20645312, 31930.4223553 ,\n",
       "           32022.93367058, 32062.58137713, 32102.22908368, 32181.52449677,\n",
       "           32247.60400769, 32274.03581205, 32366.54712733, 32379.76302951,\n",
       "           32419.41073606, 32445.84254043, 32498.70614916, 32538.35385571,\n",
       "           32578.00156225, 32591.21746444, 32604.43336662, 32630.86517099,\n",
       "           32683.72877972, 32696.9446819 , 32749.80829063, 32763.02419281,\n",
       "           32789.45599718, 32802.67189936, 32895.18321464, 32908.39911682,\n",
       "           32921.61501901, 32948.04682337, 32974.47862774, 33027.34223647,\n",
       "           33040.55813865, 33066.98994302, 33080.2058452 , 33093.42174738,\n",
       "           33106.63764956, 33133.06945393, 33146.28535611, 33199.14896484,\n",
       "           33212.36486703, 33238.79667139, 33252.01257358, 33265.22847576,\n",
       "           33318.09208449, 33423.81930195, 33437.03520413, 33463.4670085 ,\n",
       "           33476.68291068, 33489.89881286, 33516.33061723, 33542.7624216 ,\n",
       "           33555.97832378, 33569.19422596, 33582.41012814, 33595.62603033,\n",
       "           33608.84193251, 33622.05783469, 33635.27373687, 33648.48963906,\n",
       "           33661.70554124, 33714.56914997, 33807.08046525, 33833.51226962,\n",
       "           33873.15997616, 33899.59178053, 33939.23948708, 33965.67129144,\n",
       "           33992.10309581, 34058.18260672, 34111.04621545, 34137.47801982,\n",
       "           34190.34162855, 34348.93245474, 34362.14835693, 34415.01196566,\n",
       "           34428.22786784, 34441.44377002, 34481.09147657, 34547.17098748,\n",
       "           34560.38688967, 34600.03459622, 34718.97771586, 34771.84132459,\n",
       "           34890.78444424, 34970.07985733, 35022.94346606, 35155.10248789,\n",
       "           35221.1819988 , 35247.61380317, 35300.4774119 , 35445.85233591,\n",
       "           35472.28414028, 35498.71594464, 35578.01135774, 35604.4431621 ,\n",
       "           35644.09086865, 35763.0339883 , 35789.46579266, 35829.11349921,\n",
       "           35987.7043254 , 36080.21564068, 36133.07924941, 36146.2951516 ,\n",
       "           36384.18139089, 36397.39729307, 36410.61319525, 36608.85172799,\n",
       "           36635.28353236, 36661.71533672, 36741.01074982, 36767.44255419,\n",
       "           36807.09026073, 36912.8174782 , 36939.24928256, 36978.89698911,\n",
       "           37018.54469566, 37216.7832284 , 37243.21503276, 37256.43093495,\n",
       "           37401.80585896, 37428.23766332, 37467.88536987, 37586.82848952,\n",
       "           37626.47619606, 37639.69209825, 37652.90800043, 37666.12390261,\n",
       "           37679.3398048 , 37692.55570698, 37718.98751134, 37745.41931571,\n",
       "           37798.28292444, 37811.49882662, 37824.71472881, 37877.57833754,\n",
       "           37890.79423972, 37970.08965282, 37983.305555  , 38009.73735936,\n",
       "           38022.95326155, 38062.6009681 , 38155.11228337, 38194.75998992,\n",
       "           38207.97589211, 38234.40769647, 38274.05540302, 38287.2713052 ,\n",
       "           38300.48720738, 38313.70310957, 38379.78262048, 38432.64622921,\n",
       "           38459.07803358, 38511.94164231, 38564.80525104, 38630.88476195,\n",
       "           38670.5324685 , 38710.18017505, 38736.61197942, 38789.47558815,\n",
       "           38921.63460997, 38987.71412089, 39027.36182744, 39093.44133835,\n",
       "           39304.89577327, 39331.32757764, 39357.759382  , 39397.40708855,\n",
       "           39410.62299074, 39555.99791475, 39582.42971911, 39635.29332784,\n",
       "           39754.23644749, 39820.3159584 , 39833.53186058, 39912.82727368,\n",
       "           40177.14531734, 40203.5771217 , 40269.65663261, 40401.81565444,\n",
       "           40467.89516536, 40481.11106754, 40573.62238282, 40586.838285  ,\n",
       "           40652.91779591, 40666.1336981 , 40718.99730683, 40811.50862211,\n",
       "           40877.58813302, 40904.01993739, 40943.66764393, 41128.69027449,\n",
       "           41155.12207886, 41181.55388322, 41274.0651985 , 41340.14470942,\n",
       "           41353.3606116 , 41393.00831815, 41445.87192688, 41472.30373124,\n",
       "           41617.67865525, 41696.97406835, 41749.83767708, 41815.917188  ,\n",
       "           42014.15572074, 42027.37162292, 42159.53064475, 42225.61015566,\n",
       "           42238.82605784, 42278.47376439, 42423.8486884 , 42476.71229713,\n",
       "           42516.36000368, 42648.51902551, 42701.38263424, 42741.03034079,\n",
       "           42978.91658008, 43031.78018881, 43044.99609099, 43137.50740627,\n",
       "           43177.15511282, 43203.58691718, 43216.80281937, 43230.01872155,\n",
       "           43256.45052592, 43296.09823246, 43322.53003683, 43348.96184119,\n",
       "           43388.60954774, 43441.47315647, 43454.68905866, 43507.55266739,\n",
       "           43600.06398267, 43652.9275914 , 43666.14349358, 43719.00710231,\n",
       "           43745.43890668, 43758.65480886, 43798.30251541, 43811.51841759,\n",
       "           43877.5979285 , 44049.40465688, 44089.05236343, 44141.91597216,\n",
       "           44168.34777652, 44207.99548307, 44326.93860272, 44353.37040708,\n",
       "           44406.23401581, 44432.66582018, 44485.52942891, 44498.74533109,\n",
       "           44551.60893982, 44578.04074419, 44644.1202551 , 44696.98386383,\n",
       "           44776.27927693, 44802.7110813 , 44868.79059221, 44895.22239658,\n",
       "           44948.08600531, 45014.16551622, 45053.81322277, 45067.02912495,\n",
       "           45106.6768315 , 45278.48355988, 45304.91536424, 45318.13126642,\n",
       "           45357.77897297, 45410.6425817 , 45423.85848389, 45437.07438607,\n",
       "           45463.50619043, 45516.36979917, 45582.44931008, 45595.66521226,\n",
       "           45727.82423409, 45767.47194064, 45780.68784282, 45833.55145155,\n",
       "           45873.1991581 , 45886.41506028, 45926.06276683, 45952.4945712 ,\n",
       "           46005.35817993, 46163.94900612, 46177.1649083 , 46322.53983231,\n",
       "           46348.97163668, 46441.48295196, 46467.91475632, 46481.13065851,\n",
       "           46520.77836505, 46573.64197378, 46613.28968033, 46666.15328906,\n",
       "           46679.36919125, 46732.23279998, 46745.44870216, 46758.66460434,\n",
       "           46785.09640871, 46798.31231089, 46811.52821307, 46877.60772399,\n",
       "           46904.03952835, 46943.6872349 , 47009.76674582, 47234.43708292,\n",
       "           47313.73249602, 47366.59610475, 47379.81200693, 47472.32332221,\n",
       "           47485.53922439, 47511.97102876, 47564.83463749, 47591.26644186,\n",
       "           47630.9141484 , 47723.42546368, 47802.72087678, 47842.36858333,\n",
       "           47895.23219206, 48067.03892044, 48080.25482262, 48133.11843135,\n",
       "           48146.33433353, 48159.55023571, 48172.7661379 , 48212.41384445,\n",
       "           48291.70925754, 48357.78876846, 48384.22057282, 48437.08418155,\n",
       "           48582.45910556, 48595.67500775, 48608.89090993, 48648.53861648,\n",
       "           48688.18632302, 48727.83402957, 48754.26583394, 48820.34534485,\n",
       "           48886.42485577, 48912.85666013, 49045.01568196, 49084.66338851,\n",
       "           49097.87929069, 49137.52699724, 49296.11782343, 49309.33372561,\n",
       "           49322.5496278 , 49467.92455181, 49639.73128018, 49666.16308455])}},\n",
       "  {'segment': 3,\n",
       "   'data_x': array([21.641, 21.648, 21.654, ..., 32.653, 32.654, 32.655], shape=(2464,)),\n",
       "   'data_y': array([46126.82009662, 46145.59263768, 46166.67261836, ...,\n",
       "          54433.19874546, 54434.82274036, 54436.5113972 ], shape=(2464,)),\n",
       "   'fitted_model': {'slope': np.float64(3.4239366918487257),\n",
       "    'intercept': np.float64(948.6161879137379),\n",
       "    'fitted_y': array([49682.4685895 , 49686.19182665, 49689.38317278, ...,\n",
       "           55539.65251597, 55540.184407  , 55540.71629802], shape=(2464,))}}]}"
      ]
     },
     "execution_count": 16,
     "metadata": {},
     "output_type": "execute_result"
    }
   ],
   "source": [
    "# Segments 70\n",
    "segments_70 = utils.extract_segments(model_70)\n",
    "segments_70\n",
    "\n",
    "# Segments 75\n",
    "segments_75 = utils.extract_segments(model_75)\n",
    "segments_75"
   ]
  },
  {
   "cell_type": "code",
   "execution_count": 17,
   "metadata": {},
   "outputs": [
    {
     "data": {
      "image/png": "[encoded data removed]",
      "text/plain": [
       "<Figure size 1500x1000 with 3 Axes>"
      ]
     },
     "metadata": {},
     "output_type": "display_data"
    },
    {
     "data": {
      "image/png": "[encoded data removed]",
      "text/plain": [
       "<Figure size 1500x1000 with 3 Axes>"
      ]
     },
     "metadata": {},
     "output_type": "display_data"
    }
   ],
   "source": [
    "\n",
    "# Plot 70\n",
    "plots.plot_segments(segments_70, \n",
    "                    metric_per_segment_70, \n",
    "                    title=f\"Segment-wise linear fitting: {name_70}\")\n",
    "\n",
    "# Plot 75\n",
    "plots.plot_segments(segments_75, \n",
    "                    metric_per_segment_75, \n",
    "                    title=f\"Segment-wise linear fitting: {name_75}\")"
   ]
  }
 ],
 "metadata": {
  "kernelspec": {
   "display_name": ".venv",
   "language": "python",
   "name": "python3"
  },
  "language_info": {
   "codemirror_mode": {
    "name": "ipython",
    "version": 3
   },
   "file_extension": ".py",
   "mimetype": "text/x-python",
   "name": "python",
   "nbconvert_exporter": "python",
   "pygments_lexer": "ipython3",
   "version": "3.11.9"
  }
 },
 "nbformat": 4,
 "nbformat_minor": 2
}
