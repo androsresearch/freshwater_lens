{
 "cells": [
  {
   "cell_type": "markdown",
   "metadata": {},
   "source": [
    "# Evaluation of Segmented Linear Regression"
   ]
  },
  {
   "cell_type": "markdown",
   "metadata": {},
   "source": [
    "---\n",
    "\n",
    "### Import Libraries"
   ]
  },
  {
   "cell_type": "code",
   "execution_count": 8,
   "metadata": {},
   "outputs": [],
   "source": [
    "import sys\n",
    "import os\n",
    "root = os.path.abspath('..')  \n",
    "sys.path.append(root)\n",
    "\n",
    "import pandas as pd\n",
    "import numpy as np\n",
    "import matplotlib.pyplot as plt\n",
    "from piecewise_regression import r_squared_calc\n",
    "\n",
    "\n",
    "from modules import load, plots, analysis, utils\n",
    "\n",
    "# styles\n",
    "plt.style.use('seaborn-v0_8-white')"
   ]
  },
  {
   "cell_type": "markdown",
   "metadata": {},
   "source": [
    "---\n",
    "\n",
    "### Load data"
   ]
  },
  {
   "cell_type": "code",
   "execution_count": 9,
   "metadata": {},
   "outputs": [],
   "source": [
    "# Inputs\n",
    "name = 'AW1D_YSI_20230826'"
   ]
  },
  {
   "cell_type": "code",
   "execution_count": 10,
   "metadata": {},
   "outputs": [
    {
     "data": {
      "text/html": [
       "<div>\n",
       "<style scoped>\n",
       "    .dataframe tbody tr th:only-of-type {\n",
       "        vertical-align: middle;\n",
       "    }\n",
       "\n",
       "    .dataframe tbody tr th {\n",
       "        vertical-align: top;\n",
       "    }\n",
       "\n",
       "    .dataframe thead th {\n",
       "        text-align: right;\n",
       "    }\n",
       "</style>\n",
       "<table border=\"1\" class=\"dataframe\">\n",
       "  <thead>\n",
       "    <tr style=\"text-align: right;\">\n",
       "      <th></th>\n",
       "      <th>trial_1</th>\n",
       "      <th>trial_2</th>\n",
       "      <th>trial_3</th>\n",
       "      <th>trial_4</th>\n",
       "      <th>trial_5</th>\n",
       "    </tr>\n",
       "  </thead>\n",
       "  <tbody>\n",
       "    <tr>\n",
       "      <th>df</th>\n",
       "      <td>{'bic': {'0': 87202.4715959557, '1': 71561.988...</td>\n",
       "      <td>{'bic': {'0': 87202.4715959557, '1': 71561.988...</td>\n",
       "      <td>{'bic': {'0': 87202.4715959557, '1': 71561.988...</td>\n",
       "      <td>{'bic': {'0': 87202.4715959557, '1': 71561.988...</td>\n",
       "      <td>{'bic': {'0': 87202.4715959557, '1': 71561.988...</td>\n",
       "    </tr>\n",
       "    <tr>\n",
       "      <th>best_n_breakpoint_bic</th>\n",
       "      <td>5</td>\n",
       "      <td>2</td>\n",
       "      <td>3</td>\n",
       "      <td>3</td>\n",
       "      <td>3</td>\n",
       "    </tr>\n",
       "    <tr>\n",
       "      <th>min_bic_n_breakpoint</th>\n",
       "      <td>7</td>\n",
       "      <td>8</td>\n",
       "      <td>10</td>\n",
       "      <td>7</td>\n",
       "      <td>9</td>\n",
       "    </tr>\n",
       "    <tr>\n",
       "      <th>best_n_breakpoint_rss</th>\n",
       "      <td>1</td>\n",
       "      <td>1</td>\n",
       "      <td>1</td>\n",
       "      <td>1</td>\n",
       "      <td>1</td>\n",
       "    </tr>\n",
       "  </tbody>\n",
       "</table>\n",
       "</div>"
      ],
      "text/plain": [
       "                                                                 trial_1  \\\n",
       "df                     {'bic': {'0': 87202.4715959557, '1': 71561.988...   \n",
       "best_n_breakpoint_bic                                                  5   \n",
       "min_bic_n_breakpoint                                                   7   \n",
       "best_n_breakpoint_rss                                                  1   \n",
       "\n",
       "                                                                 trial_2  \\\n",
       "df                     {'bic': {'0': 87202.4715959557, '1': 71561.988...   \n",
       "best_n_breakpoint_bic                                                  2   \n",
       "min_bic_n_breakpoint                                                   8   \n",
       "best_n_breakpoint_rss                                                  1   \n",
       "\n",
       "                                                                 trial_3  \\\n",
       "df                     {'bic': {'0': 87202.4715959557, '1': 71561.988...   \n",
       "best_n_breakpoint_bic                                                  3   \n",
       "min_bic_n_breakpoint                                                  10   \n",
       "best_n_breakpoint_rss                                                  1   \n",
       "\n",
       "                                                                 trial_4  \\\n",
       "df                     {'bic': {'0': 87202.4715959557, '1': 71561.988...   \n",
       "best_n_breakpoint_bic                                                  3   \n",
       "min_bic_n_breakpoint                                                   7   \n",
       "best_n_breakpoint_rss                                                  1   \n",
       "\n",
       "                                                                 trial_5  \n",
       "df                     {'bic': {'0': 87202.4715959557, '1': 71561.988...  \n",
       "best_n_breakpoint_bic                                                  3  \n",
       "min_bic_n_breakpoint                                                   9  \n",
       "best_n_breakpoint_rss                                                  1  "
      ]
     },
     "execution_count": 10,
     "metadata": {},
     "output_type": "execute_result"
    }
   ],
   "source": [
    "path_json = f'../data/results/{name}_results.json'\n",
    "\n",
    "df = load.load_data(filepath=path_json, json=True)\n",
    "df\n"
   ]
  },
  {
   "cell_type": "code",
   "execution_count": 11,
   "metadata": {},
   "outputs": [],
   "source": [
    "path_processed = f'../data/processed/{name}_processed.csv'\n",
    "\n",
    "x_processed, y_processed = load.load_data(filepath=path_processed, \n",
    "                            x_col='Vertical Position [m]',\n",
    "                            y_col='Corrected sp Cond [uS/cm]'\n",
    "                            )"
   ]
  },
  {
   "cell_type": "markdown",
   "metadata": {},
   "source": [
    "---\n",
    "\n",
    "### Optimal `n_breakpoint`"
   ]
  },
  {
   "cell_type": "code",
   "execution_count": 12,
   "metadata": {},
   "outputs": [],
   "source": [
    "trial = analysis.select_best_trial(path_json)\n",
    "\n",
    "trial_select = df[trial[0]]\n",
    "#N_BREAKPOINT = df.loc['best_n_breakpoint_bic'].mode().iloc[0] # alternative, select 'best_n_breakpoint_rss'\n",
    "N_BREAKPOINT = 6"
   ]
  },
  {
   "cell_type": "code",
   "execution_count": 13,
   "metadata": {},
   "outputs": [
    {
     "data": {
      "application/vnd.plotly.v1+json": {
       "config": {
        "plotlyServerURL": "https://plot.ly"
       },
       "data": [
        {
         "mode": "lines+markers",
         "name": "BIC (n = 11)",
         "type": "scatter",
         "x": [
          0,
          1,
          2,
          3,
          4,
          5,
          6,
          7,
          8,
          9,
          10
         ],
         "xaxis": "x",
         "y": [
          87202.4715959557,
          71561.9886774779,
          64457.7715071028,
          60696.3845500102,
          59737.0791424525,
          54196.8858663087,
          54034.3143163429,
          54050.7204608963,
          59741.1341864258,
          59758.0811000747,
          53963.9013668434
         ],
         "yaxis": "y"
        },
        {
         "mode": "lines+markers",
         "name": "RSS (n = 11)",
         "type": "scatter",
         "x": [
          0,
          1,
          2,
          3,
          4,
          5,
          6,
          7,
          8,
          9,
          10
         ],
         "xaxis": "x",
         "y": [
          387523296973.17804,
          14726313068.889927,
          3327900552.6228023,
          1511671156.0374718,
          1232839386.8090165,
          386231110.9774639,
          372018036.444698,
          371975958.2405819,
          1216537077.9554648,
          1216536868.9782963,
          361433366.162984
         ],
         "yaxis": "y2"
        }
       ],
       "layout": {
        "font": {
         "color": "black",
         "family": "Arial, sans-serif",
         "size": 14
        },
        "legend": {
         "bgcolor": "rgba(255, 255, 255, 0.8)",
         "bordercolor": "black",
         "borderwidth": 1,
         "x": 0.01,
         "xanchor": "left",
         "y": 0.99,
         "yanchor": "top"
        },
        "margin": {
         "b": 50,
         "l": 50,
         "r": 50,
         "t": 50
        },
        "template": {
         "data": {
          "bar": [
           {
            "error_x": {
             "color": "#2a3f5f"
            },
            "error_y": {
             "color": "#2a3f5f"
            },
            "marker": {
             "line": {
              "color": "white",
              "width": 0.5
             },
             "pattern": {
              "fillmode": "overlay",
              "size": 10,
              "solidity": 0.2
             }
            },
            "type": "bar"
           }
          ],
          "barpolar": [
           {
            "marker": {
             "line": {
              "color": "white",
              "width": 0.5
             },
             "pattern": {
              "fillmode": "overlay",
              "size": 10,
              "solidity": 0.2
             }
            },
            "type": "barpolar"
           }
          ],
          "carpet": [
           {
            "aaxis": {
             "endlinecolor": "#2a3f5f",
             "gridcolor": "#C8D4E3",
             "linecolor": "#C8D4E3",
             "minorgridcolor": "#C8D4E3",
             "startlinecolor": "#2a3f5f"
            },
            "baxis": {
             "endlinecolor": "#2a3f5f",
             "gridcolor": "#C8D4E3",
             "linecolor": "#C8D4E3",
             "minorgridcolor": "#C8D4E3",
             "startlinecolor": "#2a3f5f"
            },
            "type": "carpet"
           }
          ],
          "choropleth": [
           {
            "colorbar": {
             "outlinewidth": 0,
             "ticks": ""
            },
            "type": "choropleth"
           }
          ],
          "contour": [
           {
            "colorbar": {
             "outlinewidth": 0,
             "ticks": ""
            },
            "colorscale": [
             [
              0,
              "#0d0887"
             ],
             [
              0.1111111111111111,
              "#46039f"
             ],
             [
              0.2222222222222222,
              "#7201a8"
             ],
             [
              0.3333333333333333,
              "#9c179e"
             ],
             [
              0.4444444444444444,
              "#bd3786"
             ],
             [
              0.5555555555555556,
              "#d8576b"
             ],
             [
              0.6666666666666666,
              "#ed7953"
             ],
             [
              0.7777777777777778,
              "#fb9f3a"
             ],
             [
              0.8888888888888888,
              "#fdca26"
             ],
             [
              1,
              "#f0f921"
             ]
            ],
            "type": "contour"
           }
          ],
          "contourcarpet": [
           {
            "colorbar": {
             "outlinewidth": 0,
             "ticks": ""
            },
            "type": "contourcarpet"
           }
          ],
          "heatmap": [
           {
            "colorbar": {
             "outlinewidth": 0,
             "ticks": ""
            },
            "colorscale": [
             [
              0,
              "#0d0887"
             ],
             [
              0.1111111111111111,
              "#46039f"
             ],
             [
              0.2222222222222222,
              "#7201a8"
             ],
             [
              0.3333333333333333,
              "#9c179e"
             ],
             [
              0.4444444444444444,
              "#bd3786"
             ],
             [
              0.5555555555555556,
              "#d8576b"
             ],
             [
              0.6666666666666666,
              "#ed7953"
             ],
             [
              0.7777777777777778,
              "#fb9f3a"
             ],
             [
              0.8888888888888888,
              "#fdca26"
             ],
             [
              1,
              "#f0f921"
             ]
            ],
            "type": "heatmap"
           }
          ],
          "heatmapgl": [
           {
            "colorbar": {
             "outlinewidth": 0,
             "ticks": ""
            },
            "colorscale": [
             [
              0,
              "#0d0887"
             ],
             [
              0.1111111111111111,
              "#46039f"
             ],
             [
              0.2222222222222222,
              "#7201a8"
             ],
             [
              0.3333333333333333,
              "#9c179e"
             ],
             [
              0.4444444444444444,
              "#bd3786"
             ],
             [
              0.5555555555555556,
              "#d8576b"
             ],
             [
              0.6666666666666666,
              "#ed7953"
             ],
             [
              0.7777777777777778,
              "#fb9f3a"
             ],
             [
              0.8888888888888888,
              "#fdca26"
             ],
             [
              1,
              "#f0f921"
             ]
            ],
            "type": "heatmapgl"
           }
          ],
          "histogram": [
           {
            "marker": {
             "pattern": {
              "fillmode": "overlay",
              "size": 10,
              "solidity": 0.2
             }
            },
            "type": "histogram"
           }
          ],
          "histogram2d": [
           {
            "colorbar": {
             "outlinewidth": 0,
             "ticks": ""
            },
            "colorscale": [
             [
              0,
              "#0d0887"
             ],
             [
              0.1111111111111111,
              "#46039f"
             ],
             [
              0.2222222222222222,
              "#7201a8"
             ],
             [
              0.3333333333333333,
              "#9c179e"
             ],
             [
              0.4444444444444444,
              "#bd3786"
             ],
             [
              0.5555555555555556,
              "#d8576b"
             ],
             [
              0.6666666666666666,
              "#ed7953"
             ],
             [
              0.7777777777777778,
              "#fb9f3a"
             ],
             [
              0.8888888888888888,
              "#fdca26"
             ],
             [
              1,
              "#f0f921"
             ]
            ],
            "type": "histogram2d"
           }
          ],
          "histogram2dcontour": [
           {
            "colorbar": {
             "outlinewidth": 0,
             "ticks": ""
            },
            "colorscale": [
             [
              0,
              "#0d0887"
             ],
             [
              0.1111111111111111,
              "#46039f"
             ],
             [
              0.2222222222222222,
              "#7201a8"
             ],
             [
              0.3333333333333333,
              "#9c179e"
             ],
             [
              0.4444444444444444,
              "#bd3786"
             ],
             [
              0.5555555555555556,
              "#d8576b"
             ],
             [
              0.6666666666666666,
              "#ed7953"
             ],
             [
              0.7777777777777778,
              "#fb9f3a"
             ],
             [
              0.8888888888888888,
              "#fdca26"
             ],
             [
              1,
              "#f0f921"
             ]
            ],
            "type": "histogram2dcontour"
           }
          ],
          "mesh3d": [
           {
            "colorbar": {
             "outlinewidth": 0,
             "ticks": ""
            },
            "type": "mesh3d"
           }
          ],
          "parcoords": [
           {
            "line": {
             "colorbar": {
              "outlinewidth": 0,
              "ticks": ""
             }
            },
            "type": "parcoords"
           }
          ],
          "pie": [
           {
            "automargin": true,
            "type": "pie"
           }
          ],
          "scatter": [
           {
            "fillpattern": {
             "fillmode": "overlay",
             "size": 10,
             "solidity": 0.2
            },
            "type": "scatter"
           }
          ],
          "scatter3d": [
           {
            "line": {
             "colorbar": {
              "outlinewidth": 0,
              "ticks": ""
             }
            },
            "marker": {
             "colorbar": {
              "outlinewidth": 0,
              "ticks": ""
             }
            },
            "type": "scatter3d"
           }
          ],
          "scattercarpet": [
           {
            "marker": {
             "colorbar": {
              "outlinewidth": 0,
              "ticks": ""
             }
            },
            "type": "scattercarpet"
           }
          ],
          "scattergeo": [
           {
            "marker": {
             "colorbar": {
              "outlinewidth": 0,
              "ticks": ""
             }
            },
            "type": "scattergeo"
           }
          ],
          "scattergl": [
           {
            "marker": {
             "colorbar": {
              "outlinewidth": 0,
              "ticks": ""
             }
            },
            "type": "scattergl"
           }
          ],
          "scattermapbox": [
           {
            "marker": {
             "colorbar": {
              "outlinewidth": 0,
              "ticks": ""
             }
            },
            "type": "scattermapbox"
           }
          ],
          "scatterpolar": [
           {
            "marker": {
             "colorbar": {
              "outlinewidth": 0,
              "ticks": ""
             }
            },
            "type": "scatterpolar"
           }
          ],
          "scatterpolargl": [
           {
            "marker": {
             "colorbar": {
              "outlinewidth": 0,
              "ticks": ""
             }
            },
            "type": "scatterpolargl"
           }
          ],
          "scatterternary": [
           {
            "marker": {
             "colorbar": {
              "outlinewidth": 0,
              "ticks": ""
             }
            },
            "type": "scatterternary"
           }
          ],
          "surface": [
           {
            "colorbar": {
             "outlinewidth": 0,
             "ticks": ""
            },
            "colorscale": [
             [
              0,
              "#0d0887"
             ],
             [
              0.1111111111111111,
              "#46039f"
             ],
             [
              0.2222222222222222,
              "#7201a8"
             ],
             [
              0.3333333333333333,
              "#9c179e"
             ],
             [
              0.4444444444444444,
              "#bd3786"
             ],
             [
              0.5555555555555556,
              "#d8576b"
             ],
             [
              0.6666666666666666,
              "#ed7953"
             ],
             [
              0.7777777777777778,
              "#fb9f3a"
             ],
             [
              0.8888888888888888,
              "#fdca26"
             ],
             [
              1,
              "#f0f921"
             ]
            ],
            "type": "surface"
           }
          ],
          "table": [
           {
            "cells": {
             "fill": {
              "color": "#EBF0F8"
             },
             "line": {
              "color": "white"
             }
            },
            "header": {
             "fill": {
              "color": "#C8D4E3"
             },
             "line": {
              "color": "white"
             }
            },
            "type": "table"
           }
          ]
         },
         "layout": {
          "annotationdefaults": {
           "arrowcolor": "#2a3f5f",
           "arrowhead": 0,
           "arrowwidth": 1
          },
          "autotypenumbers": "strict",
          "coloraxis": {
           "colorbar": {
            "outlinewidth": 0,
            "ticks": ""
           }
          },
          "colorscale": {
           "diverging": [
            [
             0,
             "#8e0152"
            ],
            [
             0.1,
             "#c51b7d"
            ],
            [
             0.2,
             "#de77ae"
            ],
            [
             0.3,
             "#f1b6da"
            ],
            [
             0.4,
             "#fde0ef"
            ],
            [
             0.5,
             "#f7f7f7"
            ],
            [
             0.6,
             "#e6f5d0"
            ],
            [
             0.7,
             "#b8e186"
            ],
            [
             0.8,
             "#7fbc41"
            ],
            [
             0.9,
             "#4d9221"
            ],
            [
             1,
             "#276419"
            ]
           ],
           "sequential": [
            [
             0,
             "#0d0887"
            ],
            [
             0.1111111111111111,
             "#46039f"
            ],
            [
             0.2222222222222222,
             "#7201a8"
            ],
            [
             0.3333333333333333,
             "#9c179e"
            ],
            [
             0.4444444444444444,
             "#bd3786"
            ],
            [
             0.5555555555555556,
             "#d8576b"
            ],
            [
             0.6666666666666666,
             "#ed7953"
            ],
            [
             0.7777777777777778,
             "#fb9f3a"
            ],
            [
             0.8888888888888888,
             "#fdca26"
            ],
            [
             1,
             "#f0f921"
            ]
           ],
           "sequentialminus": [
            [
             0,
             "#0d0887"
            ],
            [
             0.1111111111111111,
             "#46039f"
            ],
            [
             0.2222222222222222,
             "#7201a8"
            ],
            [
             0.3333333333333333,
             "#9c179e"
            ],
            [
             0.4444444444444444,
             "#bd3786"
            ],
            [
             0.5555555555555556,
             "#d8576b"
            ],
            [
             0.6666666666666666,
             "#ed7953"
            ],
            [
             0.7777777777777778,
             "#fb9f3a"
            ],
            [
             0.8888888888888888,
             "#fdca26"
            ],
            [
             1,
             "#f0f921"
            ]
           ]
          },
          "colorway": [
           "#636efa",
           "#EF553B",
           "#00cc96",
           "#ab63fa",
           "#FFA15A",
           "#19d3f3",
           "#FF6692",
           "#B6E880",
           "#FF97FF",
           "#FECB52"
          ],
          "font": {
           "color": "#2a3f5f"
          },
          "geo": {
           "bgcolor": "white",
           "lakecolor": "white",
           "landcolor": "white",
           "showlakes": true,
           "showland": true,
           "subunitcolor": "#C8D4E3"
          },
          "hoverlabel": {
           "align": "left"
          },
          "hovermode": "closest",
          "mapbox": {
           "style": "light"
          },
          "paper_bgcolor": "white",
          "plot_bgcolor": "white",
          "polar": {
           "angularaxis": {
            "gridcolor": "#EBF0F8",
            "linecolor": "#EBF0F8",
            "ticks": ""
           },
           "bgcolor": "white",
           "radialaxis": {
            "gridcolor": "#EBF0F8",
            "linecolor": "#EBF0F8",
            "ticks": ""
           }
          },
          "scene": {
           "xaxis": {
            "backgroundcolor": "white",
            "gridcolor": "#DFE8F3",
            "gridwidth": 2,
            "linecolor": "#EBF0F8",
            "showbackground": true,
            "ticks": "",
            "zerolinecolor": "#EBF0F8"
           },
           "yaxis": {
            "backgroundcolor": "white",
            "gridcolor": "#DFE8F3",
            "gridwidth": 2,
            "linecolor": "#EBF0F8",
            "showbackground": true,
            "ticks": "",
            "zerolinecolor": "#EBF0F8"
           },
           "zaxis": {
            "backgroundcolor": "white",
            "gridcolor": "#DFE8F3",
            "gridwidth": 2,
            "linecolor": "#EBF0F8",
            "showbackground": true,
            "ticks": "",
            "zerolinecolor": "#EBF0F8"
           }
          },
          "shapedefaults": {
           "line": {
            "color": "#2a3f5f"
           }
          },
          "ternary": {
           "aaxis": {
            "gridcolor": "#DFE8F3",
            "linecolor": "#A2B1C6",
            "ticks": ""
           },
           "baxis": {
            "gridcolor": "#DFE8F3",
            "linecolor": "#A2B1C6",
            "ticks": ""
           },
           "bgcolor": "white",
           "caxis": {
            "gridcolor": "#DFE8F3",
            "linecolor": "#A2B1C6",
            "ticks": ""
           }
          },
          "title": {
           "x": 0.05
          },
          "xaxis": {
           "automargin": true,
           "gridcolor": "#EBF0F8",
           "linecolor": "#EBF0F8",
           "ticks": "",
           "title": {
            "standoff": 15
           },
           "zerolinecolor": "#EBF0F8",
           "zerolinewidth": 2
          },
          "yaxis": {
           "automargin": true,
           "gridcolor": "#EBF0F8",
           "linecolor": "#EBF0F8",
           "ticks": "",
           "title": {
            "standoff": 15
           },
           "zerolinecolor": "#EBF0F8",
           "zerolinewidth": 2
          }
         }
        },
        "title": {
         "text": "",
         "x": 0.5,
         "xanchor": "center",
         "y": 0.95,
         "yanchor": "top"
        },
        "xaxis": {
         "anchor": "y",
         "domain": [
          0,
          0.94
         ],
         "gridcolor": "LightGray",
         "gridwidth": 0.5,
         "showgrid": true,
         "title": {
          "text": "Number Breakpoints"
         },
         "zeroline": true,
         "zerolinecolor": "Gray",
         "zerolinewidth": 1
        },
        "yaxis": {
         "anchor": "x",
         "domain": [
          0,
          1
         ],
         "gridcolor": "LightGray",
         "gridwidth": 0.5,
         "showgrid": true,
         "title": {
          "text": "BIC"
         },
         "zeroline": true,
         "zerolinecolor": "Gray",
         "zerolinewidth": 1
        },
        "yaxis2": {
         "anchor": "x",
         "gridcolor": "LightGray",
         "gridwidth": 0.5,
         "overlaying": "y",
         "showgrid": true,
         "side": "right",
         "title": {
          "text": "RSS"
         },
         "zeroline": true,
         "zerolinecolor": "Gray",
         "zerolinewidth": 1
        }
       }
      }
     },
     "metadata": {},
     "output_type": "display_data"
    }
   ],
   "source": [
    "# Elbow plot\n",
    "\n",
    "x_values = np.array(list(trial_select['df']['n_breakpoints'].values()))\n",
    "y_values = np.array(list(trial_select['df']['bic'].values()))\n",
    "secondary_x = np.array(list(trial_select['df']['n_breakpoints'].values()))\n",
    "secondary_y = np.array(list(trial_select['df']['rss'].values()))\n",
    "\n",
    "plots.plot_data(\n",
    "    x_values=x_values,\n",
    "    y_values=y_values,\n",
    "    plot_mode='lines+markers',\n",
    "    x_axis_label=\"Number Breakpoints\",\n",
    "    y_axis_label=\"BIC\",\n",
    "    secondary_x=secondary_x,\n",
    "    secondary_y=secondary_y,\n",
    "    use_secondary_axis=True,\n",
    "    y2_axis_label=\"RSS\",\n",
    "    trace_names=['BIC', 'RSS']\n",
    ")"
   ]
  },
  {
   "cell_type": "markdown",
   "metadata": {},
   "source": [
    "---\n",
    "\n",
    "### Evaluation"
   ]
  },
  {
   "cell_type": "code",
   "execution_count": 14,
   "metadata": {},
   "outputs": [
    {
     "data": {
      "text/plain": [
       "{'bic': 54034.3143163429,\n",
       " 'n_breakpoints': 6,\n",
       " 'estimates': {'const': {'estimate': 1483.9277154158,\n",
       "   'se': 14.3153051012,\n",
       "   'confidence_interval': [1455.8631177296, 1511.9923131019],\n",
       "   't_stat': 103.6602227425,\n",
       "   'p_t': 0.0},\n",
       "  'beta1': {'estimate': 88.1506804535,\n",
       "   'se': 7.6410075989,\n",
       "   'confidence_interval': [73.1707828779, 103.1305780292],\n",
       "   't_stat': 11.5365256889,\n",
       "   'p_t': '-'},\n",
       "  'breakpoint1': {'estimate': 11.8588799603,\n",
       "   'se': 0.2365064356,\n",
       "   'confidence_interval': [11.3952183115, 12.3225416091],\n",
       "   't_stat': '-',\n",
       "   'p_t': '-'},\n",
       "  'beta2': {'estimate': 2146.3590423155,\n",
       "   'se': 69.7980892317,\n",
       "   'confidence_interval': [2009.5226088829, 2283.1954757481],\n",
       "   't_stat': 30.750971351,\n",
       "   'p_t': '-'},\n",
       "  'breakpoint2': {'estimate': 16.317072767,\n",
       "   'se': 0.0207614302,\n",
       "   'confidence_interval': [16.2763707924, 16.3577747416],\n",
       "   't_stat': '-',\n",
       "   'p_t': '-'},\n",
       "  'beta3': {'estimate': 12952.0014040592,\n",
       "   'se': 86.7414293494,\n",
       "   'confidence_interval': [12781.948212723, 13122.0545953954],\n",
       "   't_stat': 149.3173619711,\n",
       "   'p_t': '-'},\n",
       "  'breakpoint3': {'estimate': 17.3619964851,\n",
       "   'se': 0.0041891898000000006,\n",
       "   'confidence_interval': [17.3537837418, 17.3702092284],\n",
       "   't_stat': '-',\n",
       "   'p_t': '-'},\n",
       "  'beta4': {'estimate': -13533.7868360875,\n",
       "   'se': 77.3297850286,\n",
       "   'confidence_interval': [-13685.3888655687, -13382.1848066064],\n",
       "   't_stat': -175.0138944661,\n",
       "   'p_t': '-'},\n",
       "  'breakpoint4': {'estimate': 18.5964095501,\n",
       "   'se': 0.0042594308,\n",
       "   'confidence_interval': [18.5880591021, 18.6047599982],\n",
       "   't_stat': '-',\n",
       "   'p_t': '-'},\n",
       "  'beta5': {'estimate': 6014.3945980815,\n",
       "   'se': 64.296719356,\n",
       "   'confidence_interval': [5888.3433858644, 6140.4458102987],\n",
       "   't_stat': 93.541235981,\n",
       "   'p_t': '-'},\n",
       "  'breakpoint5': {'estimate': 19.6589171263,\n",
       "   'se': 0.007280268,\n",
       "   'confidence_interval': [19.6446444446, 19.673189808],\n",
       "   't_stat': '-',\n",
       "   'p_t': '-'},\n",
       "  'beta6': {'estimate': -4787.5913358679,\n",
       "   'se': 32.5864814167,\n",
       "   'confidence_interval': [-4851.4758625687, -4723.7068091672],\n",
       "   't_stat': -146.9195546043,\n",
       "   'p_t': '-'},\n",
       "  'breakpoint6': {'estimate': 21.3146803138,\n",
       "   'se': 0.0067813895,\n",
       "   'confidence_interval': [21.301385664, 21.3279749635],\n",
       "   't_stat': '-',\n",
       "   'p_t': '-'},\n",
       "  'alpha1': {'estimate': 4.051061562,\n",
       "   'se': 1.8988473235,\n",
       "   'confidence_interval': [0.3284453953, 7.7736777288],\n",
       "   't_stat': 2.1334319573,\n",
       "   'p_t': 0.0329401487},\n",
       "  'alpha2': {'estimate': 92.2017420156,\n",
       "   'se': 7.4013090713,\n",
       "   'confidence_interval': [77.6917640607, 106.7117199705],\n",
       "   't_stat': 12.4574911178,\n",
       "   'p_t': 4.445669241e-35},\n",
       "  'alpha3': {'estimate': 2238.5607843311,\n",
       "   'se': 69.4045667404,\n",
       "   'confidence_interval': [2102.4958364043, 2374.6257322578],\n",
       "   't_stat': 32.2537966803,\n",
       "   'p_t': 1.178560737e-206},\n",
       "  'alpha4': {'estimate': 15190.5621883902,\n",
       "   'se': 52.0296231117,\n",
       "   'confidence_interval': [15088.5601402279, 15292.5642365526],\n",
       "   't_stat': 291.9598736237,\n",
       "   'p_t': 0.0},\n",
       "  'alpha5': {'estimate': 1656.7753523027,\n",
       "   'se': 57.2085131027,\n",
       "   'confidence_interval': [1544.6202921695, 1768.9304124359],\n",
       "   't_stat': 28.9602938872,\n",
       "   'p_t': 4.944971049e-170},\n",
       "  'alpha6': {'estimate': 7671.1699503843,\n",
       "   'se': 29.3471318619,\n",
       "   'confidence_interval': [7613.6360422263, 7728.7038585422],\n",
       "   't_stat': 261.3941964241,\n",
       "   'p_t': 0.0},\n",
       "  'alpha7': {'estimate': 2883.5786145163,\n",
       "   'se': 14.1642021521,\n",
       "   'confidence_interval': [2855.8102482724, 2911.3469807603],\n",
       "   't_stat': 203.5821420472,\n",
       "   'p_t': 0.0}}}"
      ]
     },
     "execution_count": 14,
     "metadata": {},
     "output_type": "execute_result"
    }
   ],
   "source": [
    "# Params\n",
    "params_ms = utils.get_breakpoint_data(trial_select['df'], N_BREAKPOINT)\n",
    "params_ms"
   ]
  },
  {
   "cell_type": "code",
   "execution_count": 15,
   "metadata": {},
   "outputs": [
    {
     "data": {
      "text/plain": [
       "<piecewise_regression.main.Fit at 0x261606a9b20>"
      ]
     },
     "execution_count": 15,
     "metadata": {},
     "output_type": "execute_result"
    }
   ],
   "source": [
    "# Model Select\n",
    "ms = utils.rebuild_model(x_processed,y_processed,params_ms)\n",
    "ms"
   ]
  },
  {
   "cell_type": "code",
   "execution_count": 16,
   "metadata": {},
   "outputs": [
    {
     "name": "stdout",
     "output_type": "stream",
     "text": [
      "RSS:  372018036.44469875\n",
      "TSS:  1124330601234.085\n",
      "R2:  0.9996691204205984\n",
      "R2_ajus:  0.9996676624954689\n"
     ]
    }
   ],
   "source": [
    "# Globals\n",
    "RSS, TSS, R2, R2_ajus = r_squared_calc.get_r_squared(y_processed, \n",
    "                                                    ms.predict(x_processed), \n",
    "                                                    len(ms.get_params()))\n",
    "\n",
    "\n",
    "print(\"RSS: \", RSS)\n",
    "print(\"TSS: \", TSS)\n",
    "print(\"R2: \", R2)\n",
    "print(\"R2_ajus: \", R2_ajus)"
   ]
  },
  {
   "cell_type": "code",
   "execution_count": 17,
   "metadata": {},
   "outputs": [
    {
     "data": {
      "text/plain": [
       "[{'Segment': 1,\n",
       "  'R^2': np.float64(0.11159084725953583),\n",
       "  'RMS%': np.float64(2.5250450013475265),\n",
       "  'RMS% (min-max)': np.float64(13.458943506866797)},\n",
       " {'Segment': 2,\n",
       "  'R^2': np.float64(0.9258639575941673),\n",
       "  'RMS%': np.float64(1.7552381875017464),\n",
       "  'RMS% (min-max)': np.float64(7.088008256616464)},\n",
       " {'Segment': 3,\n",
       "  'R^2': np.float64(0.9565612743443993),\n",
       "  'RMS%': np.float64(4.853903338770019),\n",
       "  'RMS% (min-max)': np.float64(6.184024410874452)},\n",
       " {'Segment': 4,\n",
       "  'R^2': np.float64(0.97447166354636),\n",
       "  'RMS%': np.float64(9.082800676809494),\n",
       "  'RMS% (min-max)': np.float64(5.146481833231531)},\n",
       " {'Segment': 5,\n",
       "  'R^2': np.float64(0.8910081322903047),\n",
       "  'RMS%': np.float64(0.7586434887677282),\n",
       "  'RMS% (min-max)': np.float64(9.209978224040507)},\n",
       " {'Segment': 6,\n",
       "  'R^2': np.float64(0.978320871722829),\n",
       "  'RMS%': np.float64(1.8724555520501425),\n",
       "  'RMS% (min-max)': np.float64(4.213031986751836)},\n",
       " {'Segment': 7,\n",
       "  'R^2': np.float64(0.9803652210260156),\n",
       "  'RMS%': np.float64(0.7318726762894014),\n",
       "  'RMS% (min-max)': np.float64(3.532900897518864)}]"
      ]
     },
     "execution_count": 17,
     "metadata": {},
     "output_type": "execute_result"
    }
   ],
   "source": [
    "# Per segment\n",
    "metric_per_segment = analysis.calculate_metrics_per_segment(ms)\n",
    "metric_per_segment"
   ]
  },
  {
   "cell_type": "code",
   "execution_count": 18,
   "metadata": {},
   "outputs": [
    {
     "data": {
      "text/html": [
       "<div>\n",
       "<style scoped>\n",
       "    .dataframe tbody tr th:only-of-type {\n",
       "        vertical-align: middle;\n",
       "    }\n",
       "\n",
       "    .dataframe tbody tr th {\n",
       "        vertical-align: top;\n",
       "    }\n",
       "\n",
       "    .dataframe thead th {\n",
       "        text-align: right;\n",
       "    }\n",
       "</style>\n",
       "<table border=\"1\" class=\"dataframe\">\n",
       "  <thead>\n",
       "    <tr style=\"text-align: right;\">\n",
       "      <th></th>\n",
       "      <th>Breakpoint X Position</th>\n",
       "      <th>Breakpoint Y Position</th>\n",
       "      <th>Confidence Interval (X)</th>\n",
       "    </tr>\n",
       "  </thead>\n",
       "  <tbody>\n",
       "    <tr>\n",
       "      <th>0</th>\n",
       "      <td>11.858880</td>\n",
       "      <td>1531.968768</td>\n",
       "      <td>(11.395218311512119, 12.322541609117573)</td>\n",
       "    </tr>\n",
       "    <tr>\n",
       "      <th>1</th>\n",
       "      <td>16.317073</td>\n",
       "      <td>1943.021911</td>\n",
       "      <td>(16.276370792356023, 16.357774741584922)</td>\n",
       "    </tr>\n",
       "    <tr>\n",
       "      <th>2</th>\n",
       "      <td>17.361996</td>\n",
       "      <td>4282.147169</td>\n",
       "      <td>(17.353783741824394, 17.370209228400526)</td>\n",
       "    </tr>\n",
       "    <tr>\n",
       "      <th>3</th>\n",
       "      <td>18.596410</td>\n",
       "      <td>23033.575600</td>\n",
       "      <td>(18.588059102079583, 18.60475999819719)</td>\n",
       "    </tr>\n",
       "    <tr>\n",
       "      <th>4</th>\n",
       "      <td>19.658917</td>\n",
       "      <td>24793.911963</td>\n",
       "      <td>(19.644644444553492, 19.673189808014698)</td>\n",
       "    </tr>\n",
       "    <tr>\n",
       "      <th>5</th>\n",
       "      <td>21.314680</td>\n",
       "      <td>37495.552772</td>\n",
       "      <td>(21.3013856640367, 21.327974963480308)</td>\n",
       "    </tr>\n",
       "  </tbody>\n",
       "</table>\n",
       "</div>"
      ],
      "text/plain": [
       "   Breakpoint X Position  Breakpoint Y Position  \\\n",
       "0              11.858880            1531.968768   \n",
       "1              16.317073            1943.021911   \n",
       "2              17.361996            4282.147169   \n",
       "3              18.596410           23033.575600   \n",
       "4              19.658917           24793.911963   \n",
       "5              21.314680           37495.552772   \n",
       "\n",
       "                    Confidence Interval (X)  \n",
       "0  (11.395218311512119, 12.322541609117573)  \n",
       "1  (16.276370792356023, 16.357774741584922)  \n",
       "2  (17.353783741824394, 17.370209228400526)  \n",
       "3   (18.588059102079583, 18.60475999819719)  \n",
       "4  (19.644644444553492, 19.673189808014698)  \n",
       "5    (21.3013856640367, 21.327974963480308)  "
      ]
     },
     "execution_count": 18,
     "metadata": {},
     "output_type": "execute_result"
    }
   ],
   "source": [
    "# Breakpoints\n",
    "breakpoints = analysis.extract_breakpoints(ms)\n",
    "breakpoints"
   ]
  },
  {
   "cell_type": "markdown",
   "metadata": {},
   "source": [
    "##"
   ]
  },
  {
   "cell_type": "markdown",
   "metadata": {},
   "source": [
    "---\n",
    "\n",
    "### Final results\n",
    "\n",
    "#### General models"
   ]
  },
  {
   "cell_type": "code",
   "execution_count": 19,
   "metadata": {},
   "outputs": [
    {
     "data": {
      "application/vnd.jupyter.widget-view+json": {
       "model_id": "5759e061fcbf41e2a4b1e354cda3b225",
       "version_major": 2,
       "version_minor": 0
      },
      "text/plain": [
       "interactive(children=(IntSlider(value=0, description='n_breakpoints', max=10), Output()), _dom_classes=('widge…"
      ]
     },
     "metadata": {},
     "output_type": "display_data"
    }
   ],
   "source": [
    "# Visualizamos los datos procesados junto con los modelos obtenidos\n",
    "df_ms = pd.DataFrame({'n_breakpoints': trial_select['df']['n_breakpoints'], \n",
    "                    'estimates': trial_select['df']['estimates']})\n",
    "\n",
    "plots.interactive_segmented_regression(x=x_processed, y=y_processed, df=df_ms)"
   ]
  },
  {
   "cell_type": "markdown",
   "metadata": {},
   "source": [
    "#### Models per segment"
   ]
  },
  {
   "cell_type": "code",
   "execution_count": 20,
   "metadata": {},
   "outputs": [
    {
     "data": {
      "text/plain": [
       "{'segments': [{'segment': 1,\n",
       "   'data_x': array([1.0000e-03, 4.0000e-03, 6.0000e-03, ..., 1.1844e+01, 1.1850e+01,\n",
       "          1.1851e+01], shape=(2103,)),\n",
       "   'data_y': array([1301.94912821, 1302.58676923, 1303.32057525, ..., 1553.71248309,\n",
       "          1553.93416425, 1554.16123671], shape=(2103,)),\n",
       "   'fitted_model': {'slope': np.float64(4.05106156204814),\n",
       "    'intercept': np.float64(1483.9277154157514),\n",
       "    'fitted_y': array([1483.93176648, 1483.94391966, 1483.95202179, ..., 1531.90848856,\n",
       "           1531.93279493, 1531.93684599], shape=(2103,))}},\n",
       "  {'segment': 2,\n",
       "   'data_x': array([11.867, 11.875, 11.876, 11.882, 11.9  , 11.903, 11.905, 11.918,\n",
       "          11.925, 11.929, 11.95 , 11.959, 11.962, 11.973, 11.98 , 11.986,\n",
       "          11.993, 12.007, 12.009, 12.019, 12.025, 12.03 , 12.04 , 12.048,\n",
       "          12.058, 12.062, 12.065, 12.072, 12.084, 12.089, 12.093, 12.109,\n",
       "          12.111, 12.116, 12.131, 12.139, 12.14 , 12.152, 12.157, 12.158,\n",
       "          12.169, 12.174, 12.177, 12.179, 12.191, 12.196, 12.208, 12.21 ,\n",
       "          12.212, 12.217, 12.219, 12.22 , 12.224, 12.225, 12.227, 12.234,\n",
       "          12.235, 12.238, 12.241, 12.244, 12.247, 12.249, 12.25 , 12.257,\n",
       "          12.258, 12.259, 12.263, 12.264, 12.265, 12.272, 12.275, 12.281,\n",
       "          12.284, 12.287, 12.295, 12.297, 12.299, 12.3  , 12.301, 12.304,\n",
       "          12.305, 12.308, 12.31 , 12.313, 12.314, 12.317, 12.318, 12.319,\n",
       "          12.32 , 12.324, 12.325, 12.327, 12.333, 12.334, 12.336, 12.339,\n",
       "          12.341, 12.342, 12.345, 12.347, 12.349, 12.351, 12.352, 12.355,\n",
       "          12.357, 12.359, 12.363, 12.366, 12.367, 12.369, 12.371, 12.373,\n",
       "          12.378, 12.38 , 12.382, 12.386, 12.388, 12.389, 12.392, 12.396,\n",
       "          12.397, 12.398, 12.4  , 12.401, 12.403, 12.405, 12.406, 12.414,\n",
       "          12.418, 12.419, 12.427, 12.431, 12.432, 12.438, 12.44 , 12.443,\n",
       "          12.448, 12.452, 12.456, 12.46 , 12.471, 12.472, 12.475, 12.48 ,\n",
       "          12.484, 12.495, 12.502, 12.503, 12.512, 12.514, 12.517, 12.518,\n",
       "          12.53 , 12.533, 12.535, 12.544, 12.546, 12.547, 12.553, 12.557,\n",
       "          12.561, 12.572, 12.579, 12.587, 12.59 , 12.592, 12.595, 12.597,\n",
       "          12.6  , 12.606, 12.613, 12.614, 12.623, 12.628, 12.634, 12.648,\n",
       "          12.65 , 12.657, 12.662, 12.665, 12.677, 12.68 , 12.683, 12.688,\n",
       "          12.689, 12.691, 12.695, 12.7  , 12.702, 12.704, 12.711, 12.713,\n",
       "          12.714, 12.72 , 12.721, 12.723, 12.728, 12.732, 12.733, 12.748,\n",
       "          12.754, 12.761, 12.776, 12.78 , 12.785, 12.796, 12.802, 12.815,\n",
       "          12.816, 12.818, 12.825, 12.828, 12.829, 12.833, 12.846, 12.848,\n",
       "          12.851, 12.862, 12.863, 12.864, 12.87 , 12.871, 12.873, 12.88 ,\n",
       "          12.887, 12.89 , 12.901, 12.92 , 12.927, 12.932, 12.941, 12.942,\n",
       "          12.945, 12.952, 12.953, 12.955, 12.961, 12.966, 12.967, 12.971,\n",
       "          12.983, 12.984, 12.986, 12.99 , 12.991, 12.993, 13.   , 13.002,\n",
       "          13.007, 13.008, 13.011, 13.015, 13.017, 13.02 , 13.028, 13.029,\n",
       "          13.031, 13.033, 13.034, 13.036, 13.04 , 13.042, 13.044, 13.047,\n",
       "          13.05 , 13.053, 13.061, 13.062, 13.063, 13.067, 13.07 , 13.071,\n",
       "          13.074, 13.076, 13.081, 13.086, 13.101, 13.107, 13.112, 13.121,\n",
       "          13.123, 13.131, 13.132, 13.135, 13.138, 13.139, 13.142, 13.144,\n",
       "          13.156, 13.158, 13.159, 13.16 , 13.161, 13.163, 13.164, 13.167,\n",
       "          13.169, 13.171, 13.173, 13.181, 13.183, 13.187, 13.199, 13.204,\n",
       "          13.208, 13.212, 13.213, 13.215, 13.217, 13.219, 13.225, 13.229,\n",
       "          13.23 , 13.236, 13.237, 13.238, 13.239, 13.24 , 13.241, 13.242,\n",
       "          13.245, 13.248, 13.249, 13.254, 13.255, 13.262, 13.264, 13.265,\n",
       "          13.267, 13.268, 13.271, 13.272, 13.275, 13.276, 13.279, 13.281,\n",
       "          13.282, 13.283, 13.285, 13.286, 13.288, 13.289, 13.29 , 13.291,\n",
       "          13.292, 13.293, 13.296, 13.297, 13.298, 13.299, 13.301, 13.302,\n",
       "          13.303, 13.305, 13.306, 13.313, 13.319, 13.324, 13.329, 13.335,\n",
       "          13.336, 13.337, 13.338, 13.339, 13.34 , 13.341, 13.342, 13.343,\n",
       "          13.344, 13.345, 13.346, 13.347, 13.348, 13.358, 13.363, 13.366,\n",
       "          13.381, 13.384, 13.386, 13.39 , 13.392, 13.394, 13.397, 13.399,\n",
       "          13.4  , 13.402, 13.405, 13.409, 13.413, 13.422, 13.423, 13.424,\n",
       "          13.426, 13.427, 13.429, 13.433, 13.436, 13.437, 13.447, 13.449,\n",
       "          13.451, 13.452, 13.457, 13.458, 13.459, 13.463, 13.464, 13.466,\n",
       "          13.467, 13.468, 13.47 , 13.474, 13.475, 13.479, 13.486, 13.487,\n",
       "          13.489, 13.493, 13.495, 13.497, 13.5  , 13.503, 13.504, 13.507,\n",
       "          13.509, 13.51 , 13.512, 13.513, 13.514, 13.519, 13.521, 13.523,\n",
       "          13.527, 13.53 , 13.532, 13.535, 13.536, 13.538, 13.546, 13.547,\n",
       "          13.554, 13.556, 13.559, 13.562, 13.564, 13.565, 13.567, 13.573,\n",
       "          13.575, 13.579, 13.58 , 13.581, 13.583, 13.585, 13.588, 13.589,\n",
       "          13.594, 13.597, 13.599, 13.603, 13.604, 13.607, 13.608, 13.61 ,\n",
       "          13.617, 13.621, 13.622, 13.626, 13.629, 13.63 , 13.633, 13.634,\n",
       "          13.635, 13.636, 13.642, 13.645, 13.647, 13.65 , 13.653, 13.654,\n",
       "          13.655, 13.659, 13.66 , 13.662, 13.665, 13.667, 13.669, 13.67 ,\n",
       "          13.674, 13.678, 13.679, 13.68 , 13.682, 13.687, 13.69 , 13.691,\n",
       "          13.694, 13.696, 13.697, 13.698, 13.701, 13.702, 13.703, 13.705,\n",
       "          13.706, 13.711, 13.715, 13.718, 13.723, 13.731, 13.734, 13.739,\n",
       "          13.743, 13.744, 13.748, 13.749, 13.75 , 13.764, 13.771, 13.787,\n",
       "          13.794, 13.796, 13.808, 13.814, 13.818, 13.823, 13.835, 13.837,\n",
       "          13.838, 13.856, 13.861, 13.862, 13.872, 13.876, 13.886, 13.892,\n",
       "          13.899, 13.914, 13.918, 13.921, 13.933, 13.935, 13.936, 13.947,\n",
       "          13.952, 13.963, 13.968, 13.972, 13.978, 13.995, 13.999, 14.007,\n",
       "          14.011, 14.013, 14.015, 14.016, 14.018, 14.019, 14.02 , 14.021,\n",
       "          14.023, 14.024, 14.032, 14.039, 14.045, 14.051, 14.063, 14.067,\n",
       "          14.073, 14.089, 14.096, 14.099, 14.117, 14.125, 14.126, 14.138,\n",
       "          14.139, 14.142, 14.145, 14.149, 14.15 , 14.151, 14.153, 14.154,\n",
       "          14.155, 14.156, 14.157, 14.158, 14.159, 14.16 , 14.161, 14.164,\n",
       "          14.165, 14.171, 14.174, 14.18 , 14.184, 14.186, 14.19 , 14.201,\n",
       "          14.202, 14.203, 14.204, 14.205, 14.207, 14.208, 14.209, 14.21 ,\n",
       "          14.212, 14.214, 14.215, 14.225, 14.23 , 14.232, 14.248, 14.253,\n",
       "          14.26 , 14.268, 14.272, 14.273, 14.274, 14.275, 14.276, 14.277,\n",
       "          14.278, 14.279, 14.28 , 14.281, 14.282, 14.284, 14.287, 14.288,\n",
       "          14.29 , 14.292, 14.293, 14.295, 14.296, 14.311, 14.313, 14.316,\n",
       "          14.319, 14.32 , 14.322, 14.327, 14.329, 14.33 , 14.332, 14.334,\n",
       "          14.335, 14.336, 14.338, 14.339, 14.341, 14.346, 14.347, 14.352,\n",
       "          14.354, 14.357, 14.36 , 14.362, 14.363, 14.373, 14.38 , 14.383,\n",
       "          14.397, 14.404, 14.405, 14.413, 14.414, 14.417, 14.418, 14.43 ,\n",
       "          14.433, 14.436, 14.448, 14.454, 14.46 , 14.474, 14.479, 14.48 ,\n",
       "          14.491, 14.495, 14.499, 14.503, 14.513, 14.514, 14.515, 14.521,\n",
       "          14.522, 14.524, 14.538, 14.545, 14.546, 14.566, 14.573, 14.578,\n",
       "          14.584, 14.6  , 14.602, 14.613, 14.62 , 14.632, 14.64 , 14.643,\n",
       "          14.659, 14.667, 14.673, 14.681, 14.698, 14.703, 14.718, 14.723,\n",
       "          14.729, 14.74 , 14.747, 14.758, 14.763, 14.766, 14.775, 14.78 ,\n",
       "          14.784, 14.797, 14.8  , 14.804, 14.815, 14.821, 14.822, 14.84 ,\n",
       "          14.85 , 14.858, 14.876, 14.885, 14.892, 14.9  , 14.915, 14.921,\n",
       "          14.931, 14.938, 14.953, 14.96 , 14.962, 14.981, 14.991, 14.999,\n",
       "          15.006, 15.021, 15.025, 15.031, 15.041, 15.048, 15.062, 15.071,\n",
       "          15.076, 15.09 , 15.096, 15.101, 15.107, 15.111, 15.112, 15.122,\n",
       "          15.128, 15.135, 15.147, 15.156, 15.164, 15.179, 15.186, 15.192,\n",
       "          15.208, 15.217, 15.223, 15.225, 15.243, 15.246, 15.247, 15.257,\n",
       "          15.263, 15.264, 15.279, 15.287, 15.295, 15.307, 15.313, 15.319,\n",
       "          15.332, 15.34 , 15.344, 15.355, 15.362, 15.365, 15.378, 15.384,\n",
       "          15.389, 15.399, 15.409, 15.41 , 15.413, 15.431, 15.436, 15.439,\n",
       "          15.455, 15.461, 15.462, 15.473, 15.478, 15.479, 15.491, 15.497,\n",
       "          15.502, 15.508, 15.522, 15.524, 15.526, 15.539, 15.545, 15.553,\n",
       "          15.568, 15.575, 15.576, 15.587, 15.591, 15.593, 15.599, 15.604,\n",
       "          15.611, 15.617, 15.639, 15.648, 15.653, 15.667, 15.674, 15.689,\n",
       "          15.695, 15.699, 15.702, 15.711, 15.713, 15.714, 15.725, 15.73 ,\n",
       "          15.747, 15.753, 15.754, 15.767, 15.775, 15.777, 15.786, 15.808,\n",
       "          15.817, 15.826, 15.846, 15.851, 15.852, 15.87 , 15.876, 15.89 ,\n",
       "          15.899, 15.9  , 15.917, 15.923, 15.925, 15.935, 15.941, 15.946,\n",
       "          15.947, 15.957, 15.96 , 15.962, 15.969, 15.973, 15.984, 15.992,\n",
       "          16.   , 16.014, 16.022, 16.023, 16.024, 16.041, 16.044, 16.055,\n",
       "          16.058, 16.06 , 16.065, 16.068, 16.072, 16.075, 16.085, 16.089,\n",
       "          16.1  , 16.101, 16.102, 16.107, 16.11 , 16.112, 16.116, 16.12 ,\n",
       "          16.121, 16.125, 16.135, 16.136, 16.137, 16.138, 16.139, 16.14 ,\n",
       "          16.141, 16.143, 16.145, 16.149, 16.15 , 16.151, 16.152, 16.153,\n",
       "          16.155, 16.156, 16.159, 16.161, 16.164, 16.165, 16.166, 16.171,\n",
       "          16.176, 16.177, 16.18 , 16.182, 16.194, 16.204, 16.209, 16.228,\n",
       "          16.237, 16.241, 16.244, 16.246, 16.25 , 16.252, 16.255, 16.256,\n",
       "          16.258, 16.26 , 16.261, 16.262, 16.264, 16.266, 16.277, 16.278,\n",
       "          16.291, 16.295, 16.296, 16.304, 16.307, 16.313]),\n",
       "   'data_y': array([1554.39215459, 1554.63470531, 1554.88428986, 1555.14081159,\n",
       "          1555.41109179, 1555.68956522, 1555.98247343, 1556.27147826,\n",
       "          1556.58376812, 1556.8807343 , 1557.19576812, 1557.51342995,\n",
       "          1557.8396715 , 1558.18494686, 1558.54262802, 1558.89858937,\n",
       "          1559.26740097, 1559.64655072, 1560.02863768, 1560.41826087,\n",
       "          1560.81271498, 1561.21418357, 1561.62015459, 1562.01122705,\n",
       "          1562.39688889, 1562.76954589, 1563.12135266, 1563.50738164,\n",
       "          1563.85723671, 1564.20454106, 1564.54658937, 1564.87109179,\n",
       "          1565.19236715, 1565.50295652, 1565.80251208, 1566.10738164,\n",
       "          1566.45105314, 1566.79990338, 1567.15219324, 1567.5112657 ,\n",
       "          1567.8564058 , 1568.21286957, 1568.58933333, 1568.94171981,\n",
       "          1569.29136232, 1569.62079227, 1569.95120773, 1570.26519807,\n",
       "          1570.57457005, 1570.87201932, 1571.16751691, 1571.47155556,\n",
       "          1571.71499517, 1571.95899517, 1572.21163285, 1572.46237681,\n",
       "          1572.68185507, 1572.89410628, 1573.10894686, 1573.33918841,\n",
       "          1573.5691401 , 1573.77586473, 1573.97712077, 1574.17091787,\n",
       "          1574.37443478, 1574.60745894, 1574.82222222, 1575.01803543,\n",
       "          1575.24857971, 1575.48711111, 1575.74833494, 1576.01323671,\n",
       "          1576.2894686 , 1576.57020934, 1576.8388599 , 1577.13196135,\n",
       "          1577.42344605, 1577.70929469, 1578.01717874, 1578.29513688,\n",
       "          1578.5392657 , 1578.77424155, 1579.01762963, 1579.22927536,\n",
       "          1579.41735266, 1579.60203543, 1579.77949758, 1579.95829952,\n",
       "          1580.12294364, 1580.27951691, 1580.44844444, 1580.6309533 ,\n",
       "          1580.82241546, 1581.02218357, 1581.21880193, 1581.46765217,\n",
       "          1581.72413527, 1581.98017391, 1582.24210628, 1582.540657  ,\n",
       "          1582.80758454, 1583.07725604, 1583.33302415, 1583.58233816,\n",
       "          1583.82527536, 1584.06067633, 1584.28732367, 1584.50878261,\n",
       "          1584.71775845, 1584.92157488, 1585.12415459, 1585.29564251,\n",
       "          1585.48123671, 1585.6783285 , 1585.86324638, 1586.0164219 ,\n",
       "          1586.16672464, 1586.33980676, 1586.50837359, 1586.71063768,\n",
       "          1586.8941256 , 1587.07617069, 1587.27385507, 1587.48026087,\n",
       "          1587.67405475, 1587.8688599 , 1588.05156522, 1588.24287601,\n",
       "          1588.42962319, 1588.62155556, 1588.81867311, 1589.04288889,\n",
       "          1589.2374686 , 1589.43463446, 1589.62355556, 1589.85354589,\n",
       "          1590.08686634, 1590.28774879, 1590.52371014, 1590.75324316,\n",
       "          1590.99775845, 1591.2657971 , 1591.53124638, 1591.81781643,\n",
       "          1592.1054686 , 1592.43219324, 1592.75140097, 1593.07930435,\n",
       "          1593.39800966, 1593.70626087, 1593.99994203, 1594.28166184,\n",
       "          1594.5705314 , 1594.86616425, 1595.15598068, 1595.43920773,\n",
       "          1595.73424155, 1596.01103382, 1596.30716908, 1596.64112077,\n",
       "          1596.93712077, 1597.25928502, 1597.61122705, 1597.94098551,\n",
       "          1598.29057005, 1598.648657  , 1599.01370048, 1599.37682126,\n",
       "          1599.73491787, 1600.12831884, 1600.49457005, 1600.83599034,\n",
       "          1601.21984541, 1601.58804831, 1601.93111111, 1602.27815459,\n",
       "          1602.63677295, 1602.99322705, 1603.31930435, 1603.68362319,\n",
       "          1604.04177778, 1604.34969082, 1604.65980676, 1604.98373913,\n",
       "          1605.28046377, 1605.57456039, 1605.8546087 , 1606.12887923,\n",
       "          1606.37430918, 1606.59780676, 1606.81801932, 1607.03044444,\n",
       "          1607.24864734, 1607.50092754, 1607.73233816, 1607.96009662,\n",
       "          1608.24219324, 1608.53029952, 1608.80972947, 1609.10886957,\n",
       "          1609.45863768, 1609.8007343 , 1610.14918841, 1610.53955556,\n",
       "          1610.90317874, 1611.27234783, 1611.63999034, 1612.0716715 ,\n",
       "          1612.45413527, 1612.8356715 , 1613.23763285, 1613.60898551,\n",
       "          1613.95655072, 1614.29771981, 1614.63528502, 1614.96098551,\n",
       "          1615.29039614, 1615.63648309, 1615.94166184, 1616.3075942 ,\n",
       "          1616.6813913 , 1617.08059903, 1617.42527536, 1617.86214493,\n",
       "          1618.28407729, 1618.69004831, 1619.12409662, 1619.58651208,\n",
       "          1620.06316908, 1620.55435749, 1621.04798068, 1621.54096618,\n",
       "          1622.09275362, 1622.65431884, 1623.15953623, 1623.68895652,\n",
       "          1624.19078261, 1624.66594203, 1625.19627053, 1625.70213527,\n",
       "          1626.18869565, 1626.70942029, 1627.16284058, 1627.71850242,\n",
       "          1628.22508213, 1628.70818357, 1629.16643478, 1629.70545894,\n",
       "          1630.14372947, 1630.59703382, 1631.08477295, 1631.53059903,\n",
       "          1631.93062802, 1632.34595169, 1632.72774879, 1633.10956522,\n",
       "          1633.56309179, 1633.88442512, 1634.22646377, 1634.66618357,\n",
       "          1635.02914976, 1635.42041546, 1635.84983575, 1636.22016425,\n",
       "          1636.60566184, 1637.01676329, 1637.39424155, 1637.81924638,\n",
       "          1638.20724638, 1638.54061836, 1638.95721739, 1639.39279227,\n",
       "          1639.75700483, 1640.11342995, 1640.53033816, 1640.86345894,\n",
       "          1641.20995169, 1641.58964251, 1641.93215459, 1642.25861836,\n",
       "          1642.57352657, 1642.95363285, 1643.44155878, 1643.84128502,\n",
       "          1644.23742029, 1644.65196457, 1645.07311111, 1645.4878744 ,\n",
       "          1645.90003221, 1646.30472464, 1646.70175845, 1647.09316264,\n",
       "          1647.51611594, 1647.86714976, 1648.36809018, 1648.79406763,\n",
       "          1649.15180676, 1649.56530757, 1649.97721739, 1650.35404831,\n",
       "          1650.76062158, 1651.05089855, 1651.51527536, 1651.91547182,\n",
       "          1652.49278261, 1653.13215459, 1653.70236071, 1654.2275942 ,\n",
       "          1654.83813527, 1655.44795169, 1656.06290821, 1656.66924638,\n",
       "          1657.29555556, 1657.89689855, 1658.45965217, 1659.05365217,\n",
       "          1659.56015459, 1660.10710145, 1660.68801932, 1661.13027053,\n",
       "          1661.53607729, 1661.96165217, 1662.30929469, 1662.65821256,\n",
       "          1662.98405797, 1663.28366184, 1663.68780676, 1663.90105314,\n",
       "          1664.35623833, 1664.77560773, 1665.17765926, 1665.58384605,\n",
       "          1665.99610048, 1666.47907955, 1666.98057069, 1667.4653372 ,\n",
       "          1668.03966892, 1668.57941127, 1669.15193623, 1669.69052882,\n",
       "          1670.17630982, 1670.78060934, 1671.32439356, 1671.78994267,\n",
       "          1672.25306345, 1672.68560129, 1673.08626151, 1673.43432915,\n",
       "          1673.26839356, 1673.83096683, 1673.98187504, 1674.34112924,\n",
       "          1674.76204297, 1675.4435747 , 1676.00170219, 1676.58551669,\n",
       "          1677.31765204, 1678.08376683, 1678.8015229 , 1679.73618597,\n",
       "          1680.46102172, 1681.17152774, 1681.90737552, 1682.61121242,\n",
       "          1683.36158916, 1684.09294051, 1684.76207808, 1685.28471844,\n",
       "          1685.78694212, 1686.23401481, 1686.57469337, 1686.77290048,\n",
       "          1686.898298  , 1687.64248012, 1687.715785  , 1688.13432859,\n",
       "          1688.48825582, 1689.02127407, 1689.29032689, 1689.63592378,\n",
       "          1689.97510145, 1690.28774879, 1690.6123285 , 1690.95333333,\n",
       "          1691.03750725, 1691.32344928, 1691.60042512, 1691.87467633,\n",
       "          1692.13986473, 1692.39396135, 1692.64160386, 1692.86982609,\n",
       "          1693.20133333, 1693.4464058 , 1693.76123027, 1693.97845411,\n",
       "          1694.37285024, 1694.73495652, 1695.0837971 , 1695.41907246,\n",
       "          1695.7685314 , 1696.13149758, 1696.50932367, 1696.90786473,\n",
       "          1697.31817391, 1697.77963285, 1698.20810628, 1698.64218357,\n",
       "          1699.0910628 , 1699.52774879, 1699.9663285 , 1700.39663768,\n",
       "          1700.82540097, 1701.21048309, 1701.58974879, 1702.054     ,\n",
       "          1702.48275362, 1702.8391401 , 1703.30516908, 1703.75340097,\n",
       "          1704.31351691, 1704.75960386, 1705.23235749, 1705.72806763,\n",
       "          1706.24125604, 1706.75577778, 1707.26729469, 1707.83305314,\n",
       "          1708.3798744 , 1708.92008696, 1709.5166087 , 1710.09736232,\n",
       "          1710.66298551, 1711.21639614, 1711.74851208, 1712.21133333,\n",
       "          1712.7043285 , 1713.11805797, 1713.52811594, 1714.00948792,\n",
       "          1714.419343  , 1714.84013527, 1715.27992271, 1715.73337198,\n",
       "          1716.132657  , 1716.53561353, 1716.92535266, 1717.28048309,\n",
       "          1717.65491787, 1717.99679227, 1718.36639614, 1718.71983575,\n",
       "          1719.02458937, 1719.33639614, 1719.69361353, 1719.99038647,\n",
       "          1720.26351691, 1720.54377778, 1720.77523671, 1720.98416425,\n",
       "          1721.25303382, 1721.43541063, 1721.63657971, 1721.8838744 ,\n",
       "          1722.07974879, 1722.2692657 , 1722.46117874, 1722.65751691,\n",
       "          1722.85116908, 1723.03782609, 1723.22803865, 1723.40855072,\n",
       "          1723.60523671, 1723.77658937, 1723.95876329, 1724.0888599 ,\n",
       "          1724.22615459, 1724.34910145, 1724.49108213, 1724.59505314,\n",
       "          1724.70321739, 1724.79623188, 1724.88154589, 1724.98137198,\n",
       "          1725.06990338, 1725.14436715, 1725.20907246, 1725.28529469,\n",
       "          1725.36795169, 1725.46030274, 1725.56431884, 1725.65636715,\n",
       "          1725.74899839, 1725.83151691, 1725.93744283, 1726.03216747,\n",
       "          1726.13744928, 1726.2557037 , 1726.36521095, 1726.4731401 ,\n",
       "          1726.57929791, 1726.68714332, 1726.80509179, 1726.91139452,\n",
       "          1727.02782931, 1727.12048309, 1727.23771337, 1727.332438  ,\n",
       "          1727.4276715 , 1727.53802254, 1727.62507568, 1727.72541063,\n",
       "          1727.82494042, 1727.91694042, 1728.00181643, 1728.06115298,\n",
       "          1728.14496618, 1728.22090821, 1728.31016747, 1728.3942029 ,\n",
       "          1728.47956522, 1728.5664058 , 1728.64969082, 1728.72428986,\n",
       "          1728.80186473, 1728.88442512, 1728.96563285, 1729.04645411,\n",
       "          1729.12785507, 1729.20349758, 1729.28882126, 1729.3691401 ,\n",
       "          1729.45161353, 1729.53254106, 1729.60577778, 1729.68206763,\n",
       "          1729.7552657 , 1729.8265314 , 1729.90191304, 1729.97545894,\n",
       "          1730.05582609, 1730.12995169, 1730.19677295, 1730.26312399,\n",
       "          1730.32197101, 1730.38547504, 1730.44480129, 1730.50417971,\n",
       "          1730.58178035, 1730.67465636, 1730.75941643, 1730.85372238,\n",
       "          1730.95104283, 1731.05703961, 1731.16537456, 1731.26729404,\n",
       "          1731.37823768, 1731.47986731, 1731.58292689, 1731.6812715 ,\n",
       "          1731.7687562 , 1731.85123607, 1731.93456618, 1732.01018615,\n",
       "          1732.07683994, 1732.14546473, 1732.1956934 , 1732.24107182,\n",
       "          1732.28558068, 1732.31718132, 1732.34877874, 1732.37795169,\n",
       "          1732.43007729, 1732.48954589, 1732.55837681, 1732.64416103,\n",
       "          1732.69578744, 1732.75661836, 1732.81417069, 1732.88015459,\n",
       "          1732.94697585, 1733.0094847 , 1733.07828019, 1733.13742029,\n",
       "          1733.19880837, 1733.26234783, 1733.32324638, 1733.38160064,\n",
       "          1733.43509179, 1733.47403865, 1733.51523349, 1733.5488599 ,\n",
       "          1733.57723671, 1733.60026731, 1733.64550081, 1733.68487923,\n",
       "          1733.72766828, 1733.77470853, 1733.82445411, 1733.85709823,\n",
       "          1733.86944283, 1733.90213527, 1733.9348599 , 1733.9733752 ,\n",
       "          1734.00655072, 1734.04014493, 1734.04693076, 1734.06569565,\n",
       "          1734.08274976, 1734.11323704, 1734.16774831, 1734.22114797,\n",
       "          1734.28101872, 1734.34590903, 1734.42736232, 1734.51139571,\n",
       "          1734.6173039 , 1734.68779219, 1734.75967217, 1734.81864434,\n",
       "          1734.87527874, 1734.93860597, 1734.99691587, 1735.04827609,\n",
       "          1735.09075425, 1735.122418  , 1735.1486393 , 1735.16279015,\n",
       "          1735.1631314 , 1735.15522829, 1735.13264602, 1735.13277589,\n",
       "          1735.13241985, 1735.15041751, 1735.16166837, 1735.15286907,\n",
       "          1735.17090894, 1735.1897971 , 1735.20254267, 1735.23383253,\n",
       "          1735.24615459, 1735.22303704, 1735.23180354, 1735.24682126,\n",
       "          1735.27293076, 1735.30532045, 1735.33794203, 1735.37185829,\n",
       "          1735.4128277 , 1735.45441546, 1735.5021868 , 1735.54951369,\n",
       "          1735.60176812, 1735.64723994, 1735.70310789, 1735.75016425,\n",
       "          1735.8029211 , 1735.85397746, 1735.90062802, 1735.95699839,\n",
       "          1736.02397746, 1736.08553623, 1736.14522061, 1736.21046377,\n",
       "          1736.26439614, 1736.32342995, 1736.39022222, 1736.4638744 ,\n",
       "          1736.54228019, 1736.61837681, 1736.69824155, 1736.78061836,\n",
       "          1736.86666667, 1736.95024155, 1737.03719807, 1737.12119807,\n",
       "          1737.20301449, 1737.29300483, 1737.38463768, 1737.46649275,\n",
       "          1737.55603865, 1737.64407729, 1737.73099517, 1737.8218744 ,\n",
       "          1737.91201932, 1738.0087343 , 1738.09982609, 1738.18732367,\n",
       "          1738.27772947, 1738.37360386, 1738.47966184, 1738.60166184,\n",
       "          1738.73805797, 1738.88241546, 1739.03541063, 1739.19022222,\n",
       "          1739.35672464, 1739.51793237, 1739.68308213, 1739.8586087 ,\n",
       "          1740.04833816, 1740.25120773, 1740.44176812, 1740.63768116,\n",
       "          1740.83444444, 1741.03694686, 1741.24988406, 1741.46575845,\n",
       "          1741.67443478, 1741.88355556, 1742.09561353, 1742.31414493,\n",
       "          1742.54021256, 1742.77364251, 1743.02149758, 1743.27998068,\n",
       "          1743.53554589, 1743.78645411, 1744.03788406, 1744.28504348,\n",
       "          1744.53005797, 1744.76736232, 1745.01272464, 1745.27194203,\n",
       "          1745.52623188, 1745.77778744, 1746.0313913 , 1746.3175942 ,\n",
       "          1746.63141063, 1746.97477295, 1747.35658937, 1747.75407729,\n",
       "          1748.17067633, 1748.6082029 , 1749.06815459, 1749.54078261,\n",
       "          1750.0182029 , 1750.50392271, 1750.99953623, 1751.50599034,\n",
       "          1752.01269565, 1752.52778744, 1753.04193237, 1753.55252174,\n",
       "          1754.07344928, 1754.57466667, 1755.10568116, 1755.5996715 ,\n",
       "          1756.09814493, 1756.61319807, 1757.14610628, 1757.70799034,\n",
       "          1758.27980676, 1758.88120773, 1759.4858744 , 1760.07929469,\n",
       "          1760.67057005, 1761.25374879, 1761.83449275, 1762.41318841,\n",
       "          1762.98494686, 1763.54424155, 1764.19814493, 1764.8028599 ,\n",
       "          1765.39932367, 1765.99851208, 1766.59862802, 1767.20929469,\n",
       "          1767.82488889, 1768.43882126, 1769.11878261, 1769.77478261,\n",
       "          1770.47329469, 1771.17582609, 1771.86161353, 1772.55190338,\n",
       "          1773.30383575, 1774.15936232, 1775.04770048, 1775.99768116,\n",
       "          1777.009343  , 1778.09279227, 1779.24642512, 1780.47870531,\n",
       "          1781.77908213, 1783.20548792, 1784.70586473, 1786.1582029 ,\n",
       "          1787.68397101, 1789.24981643, 1790.85670531, 1792.49839614,\n",
       "          1794.06588406, 1795.94137198, 1797.68913043, 1799.48575845,\n",
       "          1801.26045411, 1803.02463768, 1804.79204831, 1806.49219324,\n",
       "          1808.5858744 , 1810.55201932, 1812.52809662, 1814.61700483,\n",
       "          1816.73190338, 1818.87897585, 1821.05758454, 1823.27957488,\n",
       "          1825.54755556, 1827.86950725, 1830.18104348, 1832.59978744,\n",
       "          1835.02003865, 1837.44881159, 1839.89887923, 1842.36966184,\n",
       "          1844.87161353, 1847.55802899, 1849.97381643, 1852.51644444,\n",
       "          1855.03443478, 1857.59565217, 1860.20668599, 1862.63971014,\n",
       "          1865.62678261, 1868.55271498, 1871.29572947, 1874.06373913,\n",
       "          1876.71155556, 1879.27083092, 1882.07457005, 1884.7332657 ,\n",
       "          1887.38624155, 1890.01119807, 1892.66738164, 1895.27589372,\n",
       "          1897.73708213, 1900.12775845, 1902.45033816, 1904.7110628 ,\n",
       "          1906.908     , 1909.03834783, 1911.10573913, 1913.11048309,\n",
       "          1915.139343  , 1917.16041546, 1919.17286957, 1921.17258937,\n",
       "          1923.48798068, 1925.57038647, 1927.34519807, 1929.29896618,\n",
       "          1931.21196135, 1933.14678261, 1935.1334686 , 1937.01285024,\n",
       "          1938.84896618, 1940.62686957, 1942.36778744, 1944.01591304,\n",
       "          1945.62811594, 1947.21372947, 1948.7763285 , 1950.31861836,\n",
       "          1951.83024155, 1953.32155556, 1954.78499517, 1956.18634783,\n",
       "          1957.58414493, 1959.09345894, 1960.52986473, 1961.95968116,\n",
       "          1963.37772947, 1964.8144058 , 1966.22704348, 1967.53530435,\n",
       "          1968.69531401, 1969.99196135, 1971.2325314 , 1972.47364251,\n",
       "          1973.53057971, 1974.6105314 , 1975.66482126, 1976.70321739,\n",
       "          1977.71233816, 1978.68565217, 1979.60370048, 1980.53345894,\n",
       "          1981.39645411, 1982.22727536, 1982.99909179, 1983.70318841,\n",
       "          1984.40097585, 1985.14148792, 1985.74940097, 1986.3035942 ,\n",
       "          1986.83485024, 1987.40962319, 1987.91770048, 1988.33857005,\n",
       "          1988.74086957, 1989.31666023, 1989.7017971 , 1990.06285024,\n",
       "          1990.46047665, 1990.81724638, 1991.14666667, 1991.44384863,\n",
       "          1991.70975845, 1991.94391304, 1992.13946216, 1992.34018357,\n",
       "          1992.44057005, 1992.51764573, 1992.5637971 , 1992.58992271,\n",
       "          1992.62055395, 1992.65520773, 1992.69965217, 1992.68646699,\n",
       "          1992.82857971, 1992.96226087, 1993.12675684, 1993.3058744 ,\n",
       "          1993.52650242, 1993.78016747, 1994.07251208, 1994.36324638,\n",
       "          1994.74051208, 1995.12386473, 1995.50246377, 1995.88361353,\n",
       "          1996.27345894, 1996.62098551, 1997.05535266, 1997.42555556,\n",
       "          1997.83470531, 1998.2288599 , 1998.64158454, 1999.05226087,\n",
       "          1999.48280193, 1999.92748792, 2000.3989372 , 2000.91374879,\n",
       "          2001.50999034, 2002.02627053, 2002.7694686 , 2003.41985507,\n",
       "          2004.03043478, 2004.82128502]),\n",
       "   'fitted_model': {'slope': np.float64(4.05106156204814),\n",
       "    'intercept': np.float64(1483.9277154157514),\n",
       "    'fitted_y': array([1532.71745   , 1533.45506393, 1533.54726567, 1534.10047613,\n",
       "           1535.76010748, 1536.03671271, 1536.22111619, 1537.41973884,\n",
       "           1538.06515103, 1538.433958  , 1540.37019458, 1541.20001026,\n",
       "           1541.47661549, 1542.49083465, 1543.13624684, 1543.6894573 ,\n",
       "           1544.33486949, 1545.62569388, 1545.81009736, 1546.73211478,\n",
       "           1547.28532523, 1547.74633394, 1548.66835136, 1549.4059653 ,\n",
       "           1550.32798272, 1550.69678969, 1550.97339492, 1551.61880711,\n",
       "           1552.72522801, 1553.18623672, 1553.55504369, 1555.03027156,\n",
       "           1555.21467505, 1555.67568376, 1557.05870989, 1557.79632382,\n",
       "           1557.88852557, 1558.99494647, 1559.45595518, 1559.54815692,\n",
       "           1560.56237608, 1561.02338479, 1561.29999002, 1561.4843935 ,\n",
       "           1562.59081441, 1563.05182312, 1564.15824402, 1564.34264751,\n",
       "           1564.52705099, 1564.9880597 , 1565.17246319, 1565.26466493,\n",
       "           1565.6334719 , 1565.72567364, 1565.91007712, 1566.55548932,\n",
       "           1566.64769106, 1566.92429628, 1567.20090151, 1567.47750674,\n",
       "           1567.75411196, 1567.93851545, 1568.03071719, 1568.67612938,\n",
       "           1568.76833112, 1568.86053287, 1569.22933983, 1569.32154158,\n",
       "           1569.41374332, 1570.05915551, 1570.33576074, 1570.88897119,\n",
       "           1571.16557642, 1571.44218164, 1572.17979558, 1572.36419906,\n",
       "           1572.54860255, 1572.64080429, 1572.73300603, 1573.00961126,\n",
       "           1573.101813  , 1573.37841822, 1573.56282171, 1573.83942694,\n",
       "           1573.93162868, 1574.2082339 , 1574.30043565, 1574.39263739,\n",
       "           1574.48483913, 1574.8536461 , 1574.94584784, 1575.13025132,\n",
       "           1575.68346178, 1575.77566352, 1575.960067  , 1576.23667223,\n",
       "           1576.42107571, 1576.51327745, 1576.78988268, 1576.97428616,\n",
       "           1577.15868965, 1577.34309313, 1577.43529487, 1577.7119001 ,\n",
       "           1577.89630358, 1578.08070707, 1578.44951404, 1578.72611926,\n",
       "           1578.818321  , 1579.00272449, 1579.18712797, 1579.37153146,\n",
       "           1579.83254017, 1580.01694365, 1580.20134713, 1580.5701541 ,\n",
       "           1580.75455759, 1580.84675933, 1581.12336455, 1581.49217152,\n",
       "           1581.58437326, 1581.67657501, 1581.86097849, 1581.95318023,\n",
       "           1582.13758372, 1582.3219872 , 1582.41418894, 1583.15180288,\n",
       "           1583.52060985, 1583.61281159, 1584.35042552, 1584.71923249,\n",
       "           1584.81143423, 1585.36464469, 1585.54904817, 1585.8256534 ,\n",
       "           1586.28666211, 1586.65546908, 1587.02427604, 1587.39308301,\n",
       "           1588.40730217, 1588.49950392, 1588.77610914, 1589.23711785,\n",
       "           1589.60592482, 1590.62014398, 1591.26555618, 1591.35775792,\n",
       "           1592.1875736 , 1592.37197708, 1592.64858231, 1592.74078405,\n",
       "           1593.84720495, 1594.12381018, 1594.30821366, 1595.13802934,\n",
       "           1595.32243282, 1595.41463457, 1595.96784502, 1596.33665199,\n",
       "           1596.70545895, 1597.71967812, 1598.36509031, 1599.10270425,\n",
       "           1599.37930947, 1599.56371296, 1599.84031818, 1600.02472167,\n",
       "           1600.30132689, 1600.85453735, 1601.49994954, 1601.59215128,\n",
       "           1602.42196696, 1602.88297567, 1603.43618612, 1604.72701051,\n",
       "           1604.91141399, 1605.55682619, 1606.0178349 , 1606.29444012,\n",
       "           1607.40086103, 1607.67746625, 1607.95407148, 1608.41508019,\n",
       "           1608.50728193, 1608.69168542, 1609.06049239, 1609.5215011 ,\n",
       "           1609.70590458, 1609.89030806, 1610.53572026, 1610.72012374,\n",
       "           1610.81232548, 1611.36553594, 1611.45773768, 1611.64214116,\n",
       "           1612.10314987, 1612.47195684, 1612.56415858, 1613.94718471,\n",
       "           1614.50039516, 1615.14580736, 1616.52883349, 1616.89764046,\n",
       "           1617.35864917, 1618.37286833, 1618.92607878, 1620.12470143,\n",
       "           1620.21690317, 1620.40130665, 1621.04671885, 1621.32332407,\n",
       "           1621.41552582, 1621.78433278, 1622.98295543, 1623.16735891,\n",
       "           1623.44396414, 1624.4581833 , 1624.55038504, 1624.64258679,\n",
       "           1625.19579724, 1625.28799898, 1625.47240246, 1626.11781466,\n",
       "           1626.76322685, 1627.03983208, 1628.05405124, 1629.80588434,\n",
       "           1630.45129653, 1630.91230524, 1631.74212092, 1631.83432266,\n",
       "           1632.11092789, 1632.75634008, 1632.84854183, 1633.03294531,\n",
       "           1633.58615576, 1634.04716447, 1634.13936621, 1634.50817318,\n",
       "           1635.61459409, 1635.70679583, 1635.89119931, 1636.26000628,\n",
       "           1636.35220802, 1636.53661151, 1637.1820237 , 1637.36642718,\n",
       "           1637.82743589, 1637.91963764, 1638.19624286, 1638.56504983,\n",
       "           1638.74945331, 1639.02605854, 1639.76367248, 1639.85587422,\n",
       "           1640.0402777 , 1640.22468119, 1640.31688293, 1640.50128641,\n",
       "           1640.87009338, 1641.05449686, 1641.23890035, 1641.51550557,\n",
       "           1641.7921108 , 1642.06871603, 1642.80632996, 1642.8985317 ,\n",
       "           1642.99073345, 1643.35954041, 1643.63614564, 1643.72834738,\n",
       "           1644.00495261, 1644.18935609, 1644.6503648 , 1645.11137351,\n",
       "           1646.49439964, 1647.0476101 , 1647.50861881, 1648.33843448,\n",
       "           1648.52283797, 1649.2604519 , 1649.35265365, 1649.62925887,\n",
       "           1649.9058641 , 1649.99806584, 1650.27467107, 1650.45907455,\n",
       "           1651.56549545, 1651.74989894, 1651.84210068, 1651.93430242,\n",
       "           1652.02650416, 1652.21090765, 1652.30310939, 1652.57971462,\n",
       "           1652.7641181 , 1652.94852158, 1653.13292507, 1653.870539  ,\n",
       "           1654.05494249, 1654.42374946, 1655.53017036, 1655.99117907,\n",
       "           1656.35998604, 1656.72879301, 1656.82099475, 1657.00539823,\n",
       "           1657.18980172, 1657.3742052 , 1657.92741565, 1658.29622262,\n",
       "           1658.38842436, 1658.94163482, 1659.03383656, 1659.1260383 ,\n",
       "           1659.21824004, 1659.31044178, 1659.40264353, 1659.49484527,\n",
       "           1659.77145049, 1660.04805572, 1660.14025746, 1660.60126617,\n",
       "           1660.69346791, 1661.33888011, 1661.52328359, 1661.61548533,\n",
       "           1661.79988882, 1661.89209056, 1662.16869579, 1662.26089753,\n",
       "           1662.53750275, 1662.6297045 , 1662.90630972, 1663.09071321,\n",
       "           1663.18291495, 1663.27511669, 1663.45952017, 1663.55172192,\n",
       "           1663.7361254 , 1663.82832714, 1663.92052888, 1664.01273063,\n",
       "           1664.10493237, 1664.19713411, 1664.47373934, 1664.56594108,\n",
       "           1664.65814282, 1664.75034456, 1664.93474805, 1665.02694979,\n",
       "           1665.11915153, 1665.30355501, 1665.39575676, 1666.04116895,\n",
       "           1666.5943794 , 1667.05538811, 1667.51639682, 1668.06960727,\n",
       "           1668.16180902, 1668.25401076, 1668.3462125 , 1668.43841424,\n",
       "           1668.53061599, 1668.62281773, 1668.71501947, 1668.80722121,\n",
       "           1668.89942295, 1668.9916247 , 1669.08382644, 1669.17602818,\n",
       "           1669.26822992, 1670.19024734, 1670.65125605, 1670.92786128,\n",
       "           1672.31088741, 1672.58749263, 1672.77189612, 1673.14070309,\n",
       "           1673.32510657, 1673.50951005, 1673.78611528, 1673.97051876,\n",
       "           1674.06272051, 1674.24712399, 1674.52372922, 1674.89253618,\n",
       "           1675.26134315, 1676.09115883, 1676.18336057, 1676.27556231,\n",
       "           1676.4599658 , 1676.55216754, 1676.73657102, 1677.10537799,\n",
       "           1677.38198322, 1677.47418496, 1678.39620238, 1678.58060586,\n",
       "           1678.76500935, 1678.85721109, 1679.3182198 , 1679.41042154,\n",
       "           1679.50262328, 1679.87143025, 1679.96363199, 1680.14803548,\n",
       "           1680.24023722, 1680.33243896, 1680.51684245, 1680.88564942,\n",
       "           1680.97785116, 1681.34665813, 1681.99207032, 1682.08427206,\n",
       "           1682.26867555, 1682.63748251, 1682.821886  , 1683.00628948,\n",
       "           1683.28289471, 1683.55949993, 1683.65170168, 1683.9283069 ,\n",
       "           1684.11271039, 1684.20491213, 1684.38931561, 1684.48151735,\n",
       "           1684.5737191 , 1685.03472781, 1685.21913129, 1685.40353477,\n",
       "           1685.77234174, 1686.04894697, 1686.23335045, 1686.50995568,\n",
       "           1686.60215742, 1686.7865609 , 1687.52417484, 1687.61637658,\n",
       "           1688.26178878, 1688.44619226, 1688.72279749, 1688.99940271,\n",
       "           1689.1838062 , 1689.27600794, 1689.46041142, 1690.01362187,\n",
       "           1690.19802536, 1690.56683233, 1690.65903407, 1690.75123581,\n",
       "           1690.93563929, 1691.12004278, 1691.396648  , 1691.48884975,\n",
       "           1691.94985846, 1692.22646368, 1692.41086717, 1692.77967414,\n",
       "           1692.87187588, 1693.1484811 , 1693.24068285, 1693.42508633,\n",
       "           1694.07049852, 1694.43930549, 1694.53150723, 1694.9003142 ,\n",
       "           1695.17691943, 1695.26912117, 1695.5457264 , 1695.63792814,\n",
       "           1695.73012988, 1695.82233162, 1696.37554207, 1696.6521473 ,\n",
       "           1696.83655078, 1697.11315601, 1697.38976124, 1697.48196298,\n",
       "           1697.57416472, 1697.94297169, 1698.03517343, 1698.21957691,\n",
       "           1698.49618214, 1698.68058562, 1698.86498911, 1698.95719085,\n",
       "           1699.32599782, 1699.69480479, 1699.78700653, 1699.87920827,\n",
       "           1700.06361175, 1700.52462046, 1700.80122569, 1700.89342743,\n",
       "           1701.17003266, 1701.35443614, 1701.44663788, 1701.53883963,\n",
       "           1701.81544485, 1701.90764659, 1701.99984834, 1702.18425182,\n",
       "           1702.27645356, 1702.73746227, 1703.10626924, 1703.38287447,\n",
       "           1703.84388318, 1704.58149711, 1704.85810234, 1705.31911105,\n",
       "           1705.68791802, 1705.78011976, 1706.14892673, 1706.24112847,\n",
       "           1706.33333021, 1707.6241546 , 1708.26956679, 1709.74479467,\n",
       "           1710.39020686, 1710.57461034, 1711.68103125, 1712.2342417 ,\n",
       "           1712.60304867, 1713.06405738, 1714.17047828, 1714.35488177,\n",
       "           1714.44708351, 1716.10671487, 1716.56772358, 1716.65992532,\n",
       "           1717.58194274, 1717.95074971, 1718.87276713, 1719.42597758,\n",
       "           1720.07138977, 1721.4544159 , 1721.82322287, 1722.0998281 ,\n",
       "           1723.206249  , 1723.39065248, 1723.48285423, 1724.49707339,\n",
       "           1724.9580821 , 1725.97230126, 1726.43330997, 1726.80211694,\n",
       "           1727.35532739, 1728.92275701, 1729.29156397, 1730.02917791,\n",
       "           1730.39798488, 1730.58238836, 1730.76679185, 1730.85899359,\n",
       "           1731.04339707, 1731.13559881, 1731.22780056, 1731.3200023 ,\n",
       "           1731.50440578, 1731.59660752, 1732.33422146, 1732.97963365,\n",
       "           1733.53284411, 1734.08605456, 1735.19247546, 1735.56128243,\n",
       "           1736.11449288, 1737.58972075, 1738.23513295, 1738.51173817,\n",
       "           1740.17136953, 1740.90898347, 1741.00118521, 1742.10760611,\n",
       "           1742.19980786, 1742.47641308, 1742.75301831, 1743.12182528,\n",
       "           1743.21402702, 1743.30622876, 1743.49063224, 1743.58283399,\n",
       "           1743.67503573, 1743.76723747, 1743.85943921, 1743.95164095,\n",
       "           1744.0438427 , 1744.13604444, 1744.22824618, 1744.50485141,\n",
       "           1744.59705315, 1745.1502636 , 1745.42686883, 1745.98007928,\n",
       "           1746.34888625, 1746.53328973, 1746.9020967 , 1747.91631586,\n",
       "           1748.0085176 , 1748.10071934, 1748.19292109, 1748.28512283,\n",
       "           1748.46952631, 1748.56172805, 1748.6539298 , 1748.74613154,\n",
       "           1748.93053502, 1749.11493851, 1749.20714025, 1750.12915767,\n",
       "           1750.59016638, 1750.77456986, 1752.24979774, 1752.71080645,\n",
       "           1753.35621864, 1754.09383258, 1754.46263954, 1754.55484129,\n",
       "           1754.64704303, 1754.73924477, 1754.83144651, 1754.92364825,\n",
       "           1755.01585   , 1755.10805174, 1755.20025348, 1755.29245522,\n",
       "           1755.38465696, 1755.56906045, 1755.84566567, 1755.93786742,\n",
       "           1756.1222709 , 1756.30667438, 1756.39887613, 1756.58327961,\n",
       "           1756.67548135, 1758.05850748, 1758.24291097, 1758.51951619,\n",
       "           1758.79612142, 1758.88832316, 1759.07272664, 1759.53373535,\n",
       "           1759.71813884, 1759.81034058, 1759.99474406, 1760.17914755,\n",
       "           1760.27134929, 1760.36355103, 1760.54795452, 1760.64015626,\n",
       "           1760.82455974, 1761.28556845, 1761.37777019, 1761.8387789 ,\n",
       "           1762.02318239, 1762.29978761, 1762.57639284, 1762.76079632,\n",
       "           1762.85299807, 1763.77501549, 1764.42042768, 1764.69703291,\n",
       "           1765.9878573 , 1766.63326949, 1766.72547123, 1767.46308517,\n",
       "           1767.55528691, 1767.83189214, 1767.92409388, 1769.03051478,\n",
       "           1769.30712001, 1769.58372523, 1770.69014614, 1771.24335659,\n",
       "           1771.79656704, 1773.08739143, 1773.54840014, 1773.64060188,\n",
       "           1774.65482104, 1775.02362801, 1775.39243498, 1775.76124195,\n",
       "           1776.68325937, 1776.77546111, 1776.86766285, 1777.42087331,\n",
       "           1777.51307505, 1777.69747853, 1778.98830292, 1779.63371511,\n",
       "           1779.72591686, 1781.5699517 , 1782.21536389, 1782.6763726 ,\n",
       "           1783.22958305, 1784.70481092, 1784.88921441, 1785.90343357,\n",
       "           1786.54884576, 1787.65526667, 1788.39288061, 1788.66948583,\n",
       "           1790.1447137 , 1790.88232764, 1791.43553809, 1792.17315203,\n",
       "           1793.74058164, 1794.20159035, 1795.58461648, 1796.04562519,\n",
       "           1796.59883564, 1797.61305481, 1798.258467  , 1799.27268616,\n",
       "           1799.73369487, 1800.0103001 , 1800.84011578, 1801.30112449,\n",
       "           1801.66993146, 1802.8685541 , 1803.14515933, 1803.5139663 ,\n",
       "           1804.52818546, 1805.08139591, 1805.17359765, 1806.83322901,\n",
       "           1807.75524643, 1808.49286036, 1810.15249172, 1810.9823074 ,\n",
       "           1811.62771959, 1812.36533353, 1813.74835966, 1814.30157011,\n",
       "           1815.22358753, 1815.86899973, 1817.25202586, 1817.89743805,\n",
       "           1818.08184153, 1819.83367463, 1820.75569205, 1821.49330599,\n",
       "           1822.13871818, 1823.52174431, 1823.89055128, 1824.44376173,\n",
       "           1825.36577915, 1826.01119135, 1827.30201574, 1828.13183141,\n",
       "           1828.59284012, 1829.88366451, 1830.43687496, 1830.89788367,\n",
       "           1831.45109413, 1831.81990109, 1831.91210284, 1832.83412026,\n",
       "           1833.38733071, 1834.0327429 , 1835.13916381, 1835.96897949,\n",
       "           1836.70659342, 1838.08961955, 1838.73503175, 1839.2882422 ,\n",
       "           1840.76347007, 1841.59328575, 1842.1464962 , 1842.33089968,\n",
       "           1843.99053104, 1844.26713627, 1844.35933801, 1845.28135543,\n",
       "           1845.83456588, 1845.92676762, 1847.30979375, 1848.04740769,\n",
       "           1848.78502163, 1849.89144253, 1850.44465298, 1850.99786343,\n",
       "           1852.19648608, 1852.93410002, 1853.30290698, 1854.31712615,\n",
       "           1854.96253834, 1855.23914357, 1856.43776621, 1856.99097666,\n",
       "           1857.45198537, 1858.3740028 , 1859.29602022, 1859.38822196,\n",
       "           1859.66482718, 1861.32445854, 1861.78546725, 1862.06207248,\n",
       "           1863.53730035, 1864.0905108 , 1864.18271254, 1865.1969317 ,\n",
       "           1865.65794041, 1865.75014216, 1866.85656306, 1867.40977351,\n",
       "           1867.87078222, 1868.42399267, 1869.71481706, 1869.89922055,\n",
       "           1870.08362403, 1871.28224668, 1871.83545713, 1872.57307107,\n",
       "           1873.9560972 , 1874.60150939, 1874.69371113, 1875.70793029,\n",
       "           1876.07673726, 1876.26114075, 1876.8143512 , 1877.27535991,\n",
       "           1877.9207721 , 1878.47398255, 1880.50242088, 1881.33223656,\n",
       "           1881.79324527, 1883.08406966, 1883.72948185, 1885.11250798,\n",
       "           1885.66571843, 1886.0345254 , 1886.31113063, 1887.1409463 ,\n",
       "           1887.32534979, 1887.41755153, 1888.43177069, 1888.8927794 ,\n",
       "           1890.46020902, 1891.01341947, 1891.10562121, 1892.30424386,\n",
       "           1893.04185779, 1893.22626128, 1894.05607696, 1896.08451528,\n",
       "           1896.91433096, 1897.74414664, 1899.58818148, 1900.04919019,\n",
       "           1900.14139193, 1901.80102328, 1902.35423374, 1903.64505812,\n",
       "           1904.4748738 , 1904.56707554, 1906.13450516, 1906.68771561,\n",
       "           1906.8721191 , 1907.79413652, 1908.34734697, 1908.80835568,\n",
       "           1908.90055742, 1909.82257484, 1910.09918007, 1910.28358355,\n",
       "           1910.92899574, 1911.29780271, 1912.31202187, 1913.04963581,\n",
       "           1913.78724975, 1915.07807413, 1915.81568807, 1915.90788981,\n",
       "           1916.00009155, 1917.56752117, 1917.8441264 , 1918.85834556,\n",
       "           1919.13495078, 1919.31935427, 1919.78036298, 1920.0569682 ,\n",
       "           1920.42577517, 1920.7023804 , 1921.62439782, 1921.99320479,\n",
       "           1923.00742395, 1923.09962569, 1923.19182743, 1923.65283614,\n",
       "           1923.92944137, 1924.11384485, 1924.48265182, 1924.85145879,\n",
       "           1924.94366053, 1925.3124675 , 1926.23448492, 1926.32668666,\n",
       "           1926.4188884 , 1926.51109014, 1926.60329189, 1926.69549363,\n",
       "           1926.78769537, 1926.97209885, 1927.15650234, 1927.52530931,\n",
       "           1927.61751105, 1927.70971279, 1927.80191453, 1927.89411627,\n",
       "           1928.07851976, 1928.1707215 , 1928.44732673, 1928.63173021,\n",
       "           1928.90833544, 1929.00053718, 1929.09273892, 1929.55374763,\n",
       "           1930.01475634, 1930.10695808, 1930.38356331, 1930.56796679,\n",
       "           1931.6743877 , 1932.59640512, 1933.05741383, 1934.80924693,\n",
       "           1935.6390626 , 1936.00786957, 1936.2844748 , 1936.46887828,\n",
       "           1936.83768525, 1937.02208873, 1937.29869396, 1937.3908957 ,\n",
       "           1937.57529919, 1937.75970267, 1937.85190441, 1937.94410615,\n",
       "           1938.12850964, 1938.31291312, 1939.32713228, 1939.41933403,\n",
       "           1940.61795667, 1940.98676364, 1941.07896538, 1941.81657932,\n",
       "           1942.09318455, 1942.646395  ])}},\n",
       "  {'segment': 3,\n",
       "   'data_x': array([16.321, 16.324, 16.331, 16.343, 16.347, 16.352, 16.365, 16.367,\n",
       "          16.368, 16.376, 16.38 , 16.382, 16.391, 16.398, 16.405, 16.423,\n",
       "          16.426, 16.429, 16.439, 16.44 , 16.441, 16.449, 16.452, 16.454,\n",
       "          16.463, 16.468, 16.47 , 16.479, 16.485, 16.489, 16.494, 16.508,\n",
       "          16.511, 16.512, 16.524, 16.529, 16.53 , 16.543, 16.547, 16.549,\n",
       "          16.56 , 16.562, 16.564, 16.571, 16.574, 16.576, 16.577, 16.58 ,\n",
       "          16.581, 16.583, 16.587, 16.589, 16.591, 16.593, 16.594, 16.597,\n",
       "          16.613, 16.616, 16.621, 16.626, 16.629, 16.632, 16.634, 16.638,\n",
       "          16.645, 16.648, 16.649, 16.655, 16.657, 16.659, 16.667, 16.67 ,\n",
       "          16.671, 16.678, 16.68 , 16.682, 16.69 , 16.693, 16.695, 16.702,\n",
       "          16.705, 16.706, 16.712, 16.713, 16.719, 16.721, 16.722, 16.728,\n",
       "          16.73 , 16.733, 16.744, 16.745, 16.746, 16.747, 16.748, 16.749,\n",
       "          16.75 , 16.751, 16.752, 16.753, 16.755, 16.77 , 16.775, 16.776,\n",
       "          16.793, 16.797, 16.798, 16.808, 16.812, 16.817, 16.827, 16.837,\n",
       "          16.838, 16.839, 16.854, 16.857, 16.858, 16.867, 16.873, 16.874,\n",
       "          16.885, 16.891, 16.893, 16.9  , 16.903, 16.904, 16.905, 16.916,\n",
       "          16.918, 16.92 , 16.928, 16.932, 16.934, 16.94 , 16.942, 16.945,\n",
       "          16.953, 16.96 , 16.965, 16.97 , 16.981, 16.987, 17.002, 17.004,\n",
       "          17.006, 17.014, 17.019, 17.022, 17.03 , 17.037, 17.04 , 17.045,\n",
       "          17.063, 17.066, 17.067, 17.078, 17.085, 17.099, 17.101, 17.103,\n",
       "          17.106, 17.11 , 17.113, 17.117, 17.129, 17.132, 17.142, 17.145,\n",
       "          17.147, 17.152, 17.156, 17.157, 17.163, 17.165, 17.168, 17.178,\n",
       "          17.184, 17.19 , 17.196, 17.212, 17.215, 17.223, 17.227, 17.228,\n",
       "          17.237, 17.241, 17.244, 17.25 , 17.255, 17.259, 17.262, 17.271,\n",
       "          17.274, 17.275, 17.292, 17.301, 17.316, 17.323, 17.328, 17.34 ,\n",
       "          17.349, 17.355, 17.36 ]),\n",
       "   'data_y': array([2005.5891401 , 2006.32272464, 2007.11791304, 2007.891343  ,\n",
       "          2008.70796135, 2009.58430918, 2010.53296618, 2011.54343961,\n",
       "          2012.6915942 , 2013.84479227, 2015.09584541, 2016.3165314 ,\n",
       "          2017.56954589, 2018.809343  , 2020.04877295, 2021.29081159,\n",
       "          2016.96456039, 2014.89197101, 2014.67781643, 2016.84988406,\n",
       "          2020.943343  , 2028.45697585, 2034.24512077, 2039.95927536,\n",
       "          2050.70336232, 2059.29921739, 2075.32523671, 2092.11370048,\n",
       "          2108.97350725, 2131.28896618, 2154.56374879, 2183.15619324,\n",
       "          2213.03613527, 2242.68287923, 2270.872657  , 2297.10774879,\n",
       "          2320.69364251, 2340.28624155, 2355.48562319, 2365.9501256 ,\n",
       "          2370.84742029, 2365.08657005, 2375.86173913, 2367.43495652,\n",
       "          2363.08475362, 2362.56886957, 2363.93227053, 2369.37885024,\n",
       "          2382.17377778, 2394.66180676, 2413.45843478, 2429.60965217,\n",
       "          2448.11547826, 2474.06536232, 2502.46168116, 2535.1322029 ,\n",
       "          2565.29609662, 2593.81090821, 2610.42200966, 2638.31958454,\n",
       "          2661.65433816, 2669.67133333, 2672.52747826, 2678.85774879,\n",
       "          2684.93285024, 2692.7249372 , 2714.29153623, 2720.62190338,\n",
       "          2747.87144928, 2778.63108213, 2810.78776812, 2841.41365217,\n",
       "          2871.96494686, 2896.10369082, 2920.10046377, 2940.44477295,\n",
       "          2960.94757488, 2982.01905314, 3001.53517552, 3017.0981372 ,\n",
       "          3028.99479807, 3036.80071755, 3039.75889469, 3051.55013462,\n",
       "          3048.04230596, 3038.97505314, 3039.78612882, 3047.58445089,\n",
       "          3054.44292754, 3062.18866989, 3067.05930113, 3075.45770048,\n",
       "          3083.54672786, 3090.37109823, 3095.37553623, 3098.50329791,\n",
       "          3099.65564895, 3099.29971014, 3101.32891143, 3091.69378422,\n",
       "          3088.25057971, 3088.8801095 , 3091.57477939, 3097.08956522,\n",
       "          3106.62350853, 3120.21795556, 3136.12666087, 3154.17622931,\n",
       "          3174.92395556, 3197.07698551, 3222.62416425, 3247.5835942 ,\n",
       "          3272.57799034, 3297.42421256, 3321.33922705, 3343.94013527,\n",
       "          3364.52048309, 3382.55547826, 3397.59062802, 3408.76328502,\n",
       "          3416.10050242, 3419.06251208, 3417.03049275, 3410.37513043,\n",
       "          3411.10877295, 3411.30413527, 3409.77976812, 3409.75151691,\n",
       "          3411.01451208, 3412.83003865, 3414.40798068, 3416.99749758,\n",
       "          3420.93290821, 3425.07585507, 3430.37242512, 3433.92238647,\n",
       "          3438.14713043, 3442.35      , 3446.21565217, 3449.97374879,\n",
       "          3441.56007729, 3440.11015459, 3440.65642512, 3446.82031884,\n",
       "          3454.44804831, 3469.50607729, 3485.0815942 , 3504.80644444,\n",
       "          3525.71386473, 3546.73150725, 3567.58924638, 3588.8270628 ,\n",
       "          3610.44668599, 3632.33769082, 3654.07337198, 3675.01002899,\n",
       "          3695.26761353, 3713.63557488, 3730.07487923, 3744.05621256,\n",
       "          3754.99913043, 3762.38276329, 3765.64591304, 3764.38753623,\n",
       "          3758.22533333, 3764.21370048, 3767.83319807, 3773.43474396,\n",
       "          3777.90774879, 3785.15802899, 3788.21287923, 3792.95101449,\n",
       "          3795.36147826, 3796.15518841, 3797.46039614, 3799.13145894,\n",
       "          3801.19670531, 3803.49715942, 3805.81750725, 3808.23308213,\n",
       "          3810.93024155, 3813.92015459, 3816.72131401, 3809.03458937,\n",
       "          3806.62699517, 3806.85366184, 3810.56351691, 3818.68349758,\n",
       "          3823.29037681, 3833.69729469, 3854.82968116, 3883.45116908,\n",
       "          3912.97492754, 3945.01949758, 3977.64207729, 4010.74886957,\n",
       "          4042.746657  , 4073.53275362, 4102.47657005, 4128.20429952,\n",
       "          4150.61765217, 4168.70499517, 4183.22149758]),\n",
       "   'fitted_model': {'slope': np.float64(4.05106156204814),\n",
       "    'intercept': np.float64(1483.9277154157514),\n",
       "    'fitted_y': array([1951.81326106, 1958.52894341, 1974.1988689 , 2001.06159831,\n",
       "           2010.01584145, 2021.20864537, 2050.30993557, 2054.78705714,\n",
       "           2057.02561792, 2074.9341042 , 2083.88834733, 2088.3654689 ,\n",
       "           2108.51251596, 2124.18244145, 2139.85236694, 2180.14646106,\n",
       "           2186.86214341, 2193.57782577, 2215.96343361, 2218.20199439,\n",
       "           2220.44055518, 2238.34904145, 2245.06472381, 2249.54184537,\n",
       "           2269.68889243, 2280.88169635, 2285.35881792, 2305.50586498,\n",
       "           2318.93722969, 2327.89147283, 2339.08427675, 2370.42412773,\n",
       "           2377.13981008, 2379.37837086, 2406.24110028, 2417.4339042 ,\n",
       "           2419.67246498, 2448.77375518, 2457.72799832, 2462.20511989,\n",
       "           2486.82928851, 2491.30641008, 2495.78353165, 2511.45345714,\n",
       "           2518.16913949, 2522.64626106, 2524.88482185, 2531.6005042 ,\n",
       "           2533.83906498, 2538.31618655, 2547.27042969, 2551.74755126,\n",
       "           2556.22467283, 2560.7017944 , 2562.94035518, 2569.65603753,\n",
       "           2605.47301008, 2612.18869244, 2623.38149636, 2634.57430028,\n",
       "           2641.28998263, 2648.00566498, 2652.48278655, 2661.43702969,\n",
       "           2677.10695518, 2683.82263753, 2686.06119832, 2699.49256302,\n",
       "           2703.96968459, 2708.44680616, 2726.35529244, 2733.07097479,\n",
       "           2735.30953557, 2750.97946106, 2755.45658263, 2759.9337042 ,\n",
       "           2777.84219048, 2784.55787283, 2789.0349944 , 2804.70491989,\n",
       "           2811.42060224, 2813.65916303, 2827.09052773, 2829.32908852,\n",
       "           2842.76045322, 2847.23757479, 2849.47613557, 2862.90750028,\n",
       "           2867.38462185, 2874.1003042 , 2898.72447283, 2900.96303361,\n",
       "           2903.2015944 , 2905.44015518, 2907.67871597, 2909.91727675,\n",
       "           2912.15583754, 2914.39439832, 2916.6329591 , 2918.87151989,\n",
       "           2923.34864146, 2956.92705322, 2968.11985714, 2970.35841793,\n",
       "           3008.41395126, 3017.3681944 , 3019.60675518, 3041.99236303,\n",
       "           3050.94660616, 3062.13941009, 3084.52501793, 3106.91062577,\n",
       "           3109.14918656, 3111.38774734, 3144.96615911, 3151.68184146,\n",
       "           3153.92040224, 3174.0674493 , 3187.49881401, 3189.73737479,\n",
       "           3214.36154342, 3227.79290813, 3232.2700297 , 3247.93995519,\n",
       "           3254.65563754, 3256.89419832, 3259.13275911, 3283.75692773,\n",
       "           3288.2340493 , 3292.71117087, 3310.61965715, 3319.57390028,\n",
       "           3324.05102185, 3337.48238656, 3341.95950813, 3348.67519048,\n",
       "           3366.58367675, 3382.25360225, 3393.44640617, 3404.63921009,\n",
       "           3429.26337872, 3442.69474342, 3476.27315519, 3480.75027676,\n",
       "           3485.22739832, 3503.1358846 , 3514.32868852, 3521.04437087,\n",
       "           3538.95285715, 3554.62278264, 3561.33846499, 3572.53126891,\n",
       "           3612.82536303, 3619.54104538, 3621.77960617, 3646.4037748 ,\n",
       "           3662.07370029, 3693.41355127, 3697.89067284, 3702.3677944 ,\n",
       "           3709.08347676, 3718.03771989, 3724.75340225, 3733.70764539,\n",
       "           3760.5703748 , 3767.28605715, 3789.67166499, 3796.38734735,\n",
       "           3800.86446892, 3812.05727284, 3821.01151597, 3823.25007676,\n",
       "           3836.68144146, 3841.15856303, 3847.87424539, 3870.25985323,\n",
       "           3883.69121794, 3897.12258264, 3910.55394735, 3946.3709199 ,\n",
       "           3953.08660225, 3970.99508852, 3979.94933166, 3982.18789245,\n",
       "           4002.3349395 , 4011.28918264, 4018.004865  , 4031.4362297 ,\n",
       "           4042.62903362, 4051.58327676, 4058.29895911, 4078.44600617,\n",
       "           4085.16168853, 4087.40024931, 4125.45578264, 4145.6028297 ,\n",
       "           4179.18124147, 4194.85116696, 4206.04397088, 4232.90670029,\n",
       "           4253.05374735, 4266.48511206, 4277.67791598])}},\n",
       "  {'segment': 4,\n",
       "   'data_x': array([17.367, 17.37 , 17.371, 17.372, 17.374, 17.375, 17.376, 17.377,\n",
       "          17.378, 17.379, 17.38 , 17.381, 17.39 , 17.391, 17.394, 17.4  ,\n",
       "          17.403, 17.404, 17.407, 17.409, 17.41 , 17.424, 17.427, 17.428,\n",
       "          17.43 , 17.431, 17.432, 17.433, 17.434, 17.435, 17.436, 17.437,\n",
       "          17.438, 17.443, 17.444, 17.448, 17.453, 17.461, 17.465, 17.476,\n",
       "          17.48 , 17.482, 17.491, 17.493, 17.495, 17.498, 17.502, 17.505,\n",
       "          17.508, 17.51 , 17.514, 17.524, 17.528, 17.534, 17.538, 17.555,\n",
       "          17.56 , 17.572, 17.579, 17.582, 17.594, 17.596, 17.598, 17.599,\n",
       "          17.607, 17.611, 17.612, 17.616, 17.622, 17.625, 17.637, 17.644,\n",
       "          17.649, 17.655, 17.673, 17.676, 17.688, 17.692, 17.695, 17.699,\n",
       "          17.709, 17.713, 17.725, 17.729, 17.731, 17.734, 17.749, 17.752,\n",
       "          17.766, 17.767, 17.77 , 17.78 , 17.781, 17.784, 17.792, 17.795,\n",
       "          17.797, 17.803, 17.807, 17.808, 17.815, 17.834, 17.835, 17.84 ,\n",
       "          17.851, 17.854, 17.856, 17.867, 17.869, 17.872, 17.884, 17.895,\n",
       "          17.904, 17.915, 17.947, 17.951, 17.956, 17.96 , 17.966, 17.974,\n",
       "          17.995, 18.009, 18.018, 18.048, 18.065, 18.075, 18.088, 18.113,\n",
       "          18.119, 18.125, 18.144, 18.148, 18.166, 18.173, 18.188, 18.193,\n",
       "          18.194, 18.198, 18.21 , 18.211, 18.214, 18.222, 18.224, 18.226,\n",
       "          18.236, 18.237, 18.248, 18.249, 18.252, 18.266, 18.271, 18.282,\n",
       "          18.285, 18.286, 18.296, 18.305, 18.322, 18.329, 18.33 , 18.345,\n",
       "          18.352, 18.357, 18.368, 18.369, 18.371, 18.377, 18.38 , 18.385,\n",
       "          18.389, 18.394, 18.396, 18.401, 18.402, 18.405, 18.431, 18.432,\n",
       "          18.444, 18.468, 18.484, 18.486, 18.51 , 18.519, 18.526, 18.54 ,\n",
       "          18.546, 18.551, 18.555, 18.572, 18.579, 18.58 , 18.59 , 18.591,\n",
       "          18.594]),\n",
       "   'data_y': array([ 4180.026657  ,  4176.55388406,  4173.79703382,  4170.39564251,\n",
       "           4165.49761353,  4173.87226087,  4181.33714976,  4182.30411594,\n",
       "           4188.80180676,  4196.68635749,  4222.23011594,  4245.04581643,\n",
       "           4275.2342963 ,  4310.42198068,  4340.77699517,  4360.34311369,\n",
       "           4399.657162  ,  4440.62980612,  4470.00106538,  4517.37723929,\n",
       "           4556.80308148,  4554.81731659,  4561.29976103,  4572.90368052,\n",
       "           4586.19077552,  4618.86031176,  4657.67190274,  4679.63779968,\n",
       "           4712.47046634,  4760.09552593,  4802.25850499,  4849.61764509,\n",
       "           4916.09462738,  4982.22046634,  5056.82221514,  5114.27900419,\n",
       "           5184.32636973,  5259.11973205,  5331.9735066 ,  5358.34160966,\n",
       "           5436.89097262,  5485.60784863,  5561.41376812,  5663.81405797,\n",
       "           5721.4274686 ,  5814.58223188,  5974.39409662,  6164.71115942,\n",
       "           6368.17701449,  6600.32422222,  6843.64862802,  7091.20118841,\n",
       "           7365.71247343,  7609.70513043,  7883.65517874,  8122.99738164,\n",
       "           8344.6975942 ,  8554.33255072,  8751.35162319,  8926.27528502,\n",
       "           9092.41322705,  9237.8773913 ,  9355.57144928,  9441.72438647,\n",
       "           9556.12302415,  9633.14657005,  9731.50227053,  9809.63497585,\n",
       "           9875.92241546,  9984.38329469, 10079.50119807, 10170.81019324,\n",
       "          10257.84469565, 10347.8713913 , 10420.16656039, 10479.78172947,\n",
       "          10524.1722029 , 10550.73127536, 10605.55948792, 10607.47444444,\n",
       "          10630.20833816, 10664.58103382, 10696.50661836, 10730.0286087 ,\n",
       "          10762.34402899, 10795.42426087, 10831.12368116, 10863.63923671,\n",
       "          10882.3446087 , 10903.67801932, 10894.18887923, 10897.62986473,\n",
       "          10903.31819324, 10917.84080193, 10943.53081159, 10975.77180676,\n",
       "          11008.26704348, 11056.11785507, 11112.33641546, 11176.58202899,\n",
       "          11242.00975845, 11298.01648309, 11349.71277295, 11411.27775845,\n",
       "          11485.21424155, 11569.00720773, 11653.43074396, 11689.83424155,\n",
       "          11749.11317874, 11817.66548792, 11865.07524638, 11926.40457971,\n",
       "          11977.6334686 , 12058.62736232, 12159.45431884, 12295.60645411,\n",
       "          12440.18235749, 12601.51733333, 12777.96278261, 12960.82028019,\n",
       "          13146.10599034, 13337.88205797, 13515.37638647, 13686.56791304,\n",
       "          13852.96108213, 14007.55059903, 14163.70585507, 14322.67618357,\n",
       "          14466.06086957, 14580.26209662, 14670.35594203, 14725.03689855,\n",
       "          14809.03360386, 14870.47743961, 14854.48183575, 14893.92744928,\n",
       "          14884.12666667, 14902.5443285 , 14959.63636715, 14990.23516908,\n",
       "          15144.18407729, 15317.13588406, 15505.27169082, 15731.20389372,\n",
       "          15993.49723671, 16289.96929469, 16619.87998068, 16973.11128502,\n",
       "          17339.44315942, 17705.9363285 , 18075.47442512, 18438.41487923,\n",
       "          18787.86551691, 19113.586     , 19417.47867633, 19676.69090821,\n",
       "          19889.62181643, 20049.69117874, 20141.92834783, 20242.96225121,\n",
       "          20269.2908599 , 20315.57964251, 20286.3186087 , 20266.72863768,\n",
       "          20342.8508599 , 20368.47920773, 20393.85710145, 20493.972657  ,\n",
       "          20615.51762319, 20757.6111401 , 20905.98639614, 21054.59419324,\n",
       "          21211.65097585, 21376.56601932, 21547.34841546, 21716.5641256 ,\n",
       "          21879.1409372 , 22030.7605314 , 22173.6802029 , 22303.14728502,\n",
       "          22417.32045411, 22509.36807729, 22575.74479227, 22612.88691787,\n",
       "          22615.71592271, 22582.05503382, 22507.784657  , 22517.94657005,\n",
       "          22529.00983575, 22528.89435749, 22528.60133333, 22566.80869565,\n",
       "          22589.20237681]),\n",
       "   'fitted_model': {'slope': np.float64(4.05106156204814),\n",
       "    'intercept': np.float64(1483.9277154157514),\n",
       "    'fitted_y': array([ 4358.15337332,  4403.72505988,  4418.91562207,  4434.10618426,\n",
       "            4464.48730864,  4479.67787082,  4494.86843301,  4510.0589952 ,\n",
       "            4525.24955739,  4540.44011958,  4555.63068177,  4570.82124395,\n",
       "            4707.53630365,  4722.72686584,  4768.2985524 ,  4859.44192553,\n",
       "            4905.0136121 ,  4920.20417429,  4965.77586085,  4996.15698523,\n",
       "            5011.34754742,  5224.01541805,  5269.58710462,  5284.77766681,\n",
       "            5315.15879119,  5330.34935337,  5345.53991556,  5360.73047775,\n",
       "            5375.92103994,  5391.11160213,  5406.30216432,  5421.4927265 ,\n",
       "            5436.68328869,  5512.63609963,  5527.82666182,  5588.58891058,\n",
       "            5664.54172152,  5786.06621903,  5846.82846778,  6013.92465185,\n",
       "            6074.6869006 ,  6105.06802498,  6241.78308468,  6272.16420905,\n",
       "            6302.54533343,  6348.11702   ,  6408.87926875,  6454.45095531,\n",
       "            6500.02264188,  6530.40376626,  6591.16601501,  6743.07163689,\n",
       "            6803.83388565,  6894.97725878,  6955.73950753,  7213.97906473,\n",
       "            7289.93187568,  7472.21862194,  7578.55255726,  7624.12424382,\n",
       "            7806.41099008,  7836.79211446,  7867.17323883,  7882.36380102,\n",
       "            8003.88829853,  8064.65054728,  8079.84110947,  8140.60335823,\n",
       "            8231.74673136,  8277.31841792,  8459.60516418,  8565.9390995 ,\n",
       "            8641.89191044,  8733.03528357,  9006.46540296,  9052.03708953,\n",
       "            9234.32383579,  9295.08608454,  9340.65777111,  9401.42001986,\n",
       "            9553.32564175,  9614.0878905 ,  9796.37463676,  9857.13688551,\n",
       "            9887.51800989,  9933.08969646, 10160.94812928, 10206.51981585,\n",
       "           10419.18768648, 10434.37824867, 10479.94993524, 10631.85555712,\n",
       "           10647.04611931, 10692.61780588, 10814.14230338, 10859.71398995,\n",
       "           10890.09511432, 10981.23848745, 11042.00073621, 11057.1912984 ,\n",
       "           11163.52523372, 11452.14591529, 11467.33647748, 11543.28928843,\n",
       "           11710.3854725 , 11755.95715906, 11786.33828344, 11953.43446751,\n",
       "           11983.81559189, 12029.38727845, 12211.67402471, 12378.77020879,\n",
       "           12515.48526848, 12682.58145255, 13168.67944258, 13229.44169134,\n",
       "           13305.39450228, 13366.15675103, 13457.30012416, 13578.82462167,\n",
       "           13897.82642763, 14110.49429826, 14247.20935796, 14702.92622361,\n",
       "           14961.16578081, 15113.0714027 , 15310.54871115, 15690.31276586,\n",
       "           15781.45613899, 15872.59951212, 16161.2201937 , 16221.98244245,\n",
       "           16495.41256184, 16601.74649716, 16829.60492998, 16905.55774093,\n",
       "           16920.74830312, 16981.51055187, 17163.79729813, 17178.98786032,\n",
       "           17224.55954688, 17346.08404439, 17376.46516877, 17406.84629314,\n",
       "           17558.75191503, 17573.94247722, 17741.03866129, 17756.22922348,\n",
       "           17801.80091004, 18014.46878068, 18090.42159162, 18257.51777569,\n",
       "           18303.08946226, 18318.28002445, 18470.18564633, 18606.90070603,\n",
       "           18865.14026323, 18971.47419855, 18986.66476074, 19214.52319356,\n",
       "           19320.85712888, 19396.80993982, 19563.9061239 , 19579.09668608,\n",
       "           19609.47781046, 19700.62118359, 19746.19287016, 19822.1456811 ,\n",
       "           19882.90792985, 19958.86074079, 19989.24186517, 20065.19467611,\n",
       "           20080.3852383 , 20125.95692487, 20520.91154176, 20536.10210395,\n",
       "           20718.38885021, 21082.96234273, 21326.01133775, 21356.39246213,\n",
       "           21720.96595465, 21857.68101434, 21964.01494966, 22176.6828203 ,\n",
       "           22267.82619343, 22343.77900437, 22404.54125312, 22662.78081033,\n",
       "           22769.11474565, 22784.30530783, 22936.21092972, 22951.40149191,\n",
       "           22996.97317847])}},\n",
       "  {'segment': 5,\n",
       "   'data_x': array([18.603, 18.61 , 18.614, 18.62 , 18.634, 18.639, 18.642, 18.654,\n",
       "          18.656, 18.661, 18.664, 18.665, 18.673, 18.675, 18.677, 18.686,\n",
       "          18.69 , 18.693, 18.697, 18.707, 18.709, 18.713, 18.716, 18.718,\n",
       "          18.722, 18.724, 18.727, 18.731, 18.735, 18.739, 18.745, 18.76 ,\n",
       "          18.761, 18.764, 18.77 , 18.778, 18.781, 18.795, 18.802, 18.803,\n",
       "          18.816, 18.822, 18.827, 18.836, 18.842, 18.847, 18.851, 18.863,\n",
       "          18.865, 18.867, 18.873, 18.875, 18.877, 18.883, 18.887, 18.894,\n",
       "          18.907, 18.914, 18.917, 18.927, 18.93 , 18.933, 18.934, 18.942,\n",
       "          18.946, 18.947, 18.957, 18.96 , 18.962, 18.971, 18.976, 18.977,\n",
       "          18.979, 18.985, 18.987, 19.   , 19.002, 19.005, 19.015, 19.02 ,\n",
       "          19.021, 19.036, 19.047, 19.049, 19.059, 19.082, 19.088, 19.089,\n",
       "          19.101, 19.105, 19.107, 19.115, 19.118, 19.121, 19.125, 19.132,\n",
       "          19.136, 19.145, 19.147, 19.149, 19.153, 19.155, 19.158, 19.179,\n",
       "          19.192, 19.202, 19.214, 19.224, 19.228, 19.234, 19.253, 19.255,\n",
       "          19.256, 19.267, 19.268, 19.271, 19.276, 19.279, 19.282, 19.283,\n",
       "          19.284, 19.286, 19.289, 19.29 , 19.292, 19.293, 19.295, 19.296,\n",
       "          19.298, 19.299, 19.301, 19.303, 19.305, 19.307, 19.312, 19.313,\n",
       "          19.314, 19.315, 19.316, 19.317, 19.318, 19.319, 19.32 , 19.321,\n",
       "          19.322, 19.323, 19.324, 19.326, 19.327, 19.328, 19.329, 19.331,\n",
       "          19.338, 19.344, 19.347, 19.351, 19.361, 19.364, 19.366, 19.367,\n",
       "          19.369, 19.371, 19.374, 19.375, 19.379, 19.38 , 19.383, 19.385,\n",
       "          19.39 , 19.392, 19.397, 19.406, 19.409, 19.411, 19.421, 19.426,\n",
       "          19.432, 19.443, 19.446, 19.447, 19.45 , 19.462, 19.464, 19.465,\n",
       "          19.469, 19.472, 19.48 , 19.483, 19.485, 19.494, 19.498, 19.5  ,\n",
       "          19.503, 19.505, 19.509, 19.511, 19.513, 19.514, 19.517, 19.519,\n",
       "          19.521, 19.525, 19.528, 19.533, 19.535, 19.536, 19.537, 19.55 ,\n",
       "          19.551, 19.553, 19.556, 19.557, 19.561, 19.563, 19.567, 19.568,\n",
       "          19.574, 19.578, 19.58 , 19.581, 19.585, 19.586, 19.589, 19.591,\n",
       "          19.593, 19.595, 19.597, 19.601, 19.606, 19.608, 19.609, 19.612,\n",
       "          19.614, 19.617, 19.62 , 19.623, 19.624, 19.625, 19.627, 19.628,\n",
       "          19.63 , 19.631, 19.633, 19.641, 19.645, 19.646, 19.655]),\n",
       "   'data_y': array([22617.58977778, 22638.06255072, 22660.58714976, 22685.56695652,\n",
       "          22707.72635749, 22728.64952657, 22746.84102415, 22762.53251208,\n",
       "          22778.75547826, 22797.68754589, 22817.90633816, 22838.41222222,\n",
       "          22856.14438647, 22876.6016715 , 22896.21598068, 22914.17152657,\n",
       "          22931.66655072, 22949.40383575, 22967.41799034, 22985.58304348,\n",
       "          23003.32231884, 23022.55521739, 23040.32811594, 23057.47235749,\n",
       "          23073.80674396, 23089.2913913 , 23106.22280193, 23120.22140097,\n",
       "          23135.76096618, 23150.43171981, 23164.7770628 , 23178.76826087,\n",
       "          23192.51932367, 23205.94743961, 23219.21058937, 23232.52083092,\n",
       "          23246.1356715 , 23262.75771981, 23277.10123671, 23290.46342029,\n",
       "          23308.47928502, 23325.65484058, 23343.9635942 , 23363.51149758,\n",
       "          23384.16827053, 23406.98011594, 23428.56164251, 23451.30303382,\n",
       "          23474.49458937, 23497.1432657 , 23523.0298744 , 23547.87768116,\n",
       "          23572.75024155, 23598.61837681, 23623.29845411, 23646.28231884,\n",
       "          23670.07039614, 23691.73194203, 23712.90593237, 23732.78056039,\n",
       "          23754.04857971, 23773.58476328, 23793.0734686 , 23811.37075362,\n",
       "          23830.65366184, 23848.11108213, 23865.52398068, 23882.057343  ,\n",
       "          23899.3708599 , 23915.61997101, 23930.76270531, 23945.6732657 ,\n",
       "          23960.11833816, 23974.17867633, 23989.71909179, 24002.41301449,\n",
       "          24015.88825121, 24029.51266667, 24041.0494686 , 24051.88288889,\n",
       "          24064.35511111, 24073.93753623, 24083.23151691, 24091.9231401 ,\n",
       "          24101.15972947, 24108.06252174, 24115.5131401 , 24122.09418357,\n",
       "          24129.23194203, 24136.41261836, 24141.66962319, 24147.18637681,\n",
       "          24153.31457005, 24158.1228599 , 24163.47855072, 24168.78446377,\n",
       "          24173.72933333, 24178.61532367, 24183.528     , 24188.20038647,\n",
       "          24193.29497585, 24197.74614493, 24202.74944928, 24207.73275362,\n",
       "          24213.06411594, 24217.09945894, 24221.35188406, 24225.25518841,\n",
       "          24229.6893913 , 24233.74921739, 24237.45970048, 24241.50923671,\n",
       "          24244.98082126, 24248.53547826, 24252.68243671, 24256.19525797,\n",
       "          24260.63660741, 24264.54084251, 24268.50800193, 24272.45524509,\n",
       "          24276.27043671, 24280.24673623, 24283.62207601, 24286.80884251,\n",
       "          24290.54802126, 24294.24041997, 24298.09860676, 24301.68552786,\n",
       "          24304.81110789, 24308.55592271, 24311.86918196, 24314.49529147,\n",
       "          24317.51596618, 24319.92711433, 24322.37751208, 24324.75744928,\n",
       "          24327.62860709, 24330.29358454, 24333.41810145, 24334.33938293,\n",
       "          24336.10116232, 24337.19797874, 24338.83466312, 24340.55781771,\n",
       "          24342.1115971 , 24343.99101578, 24345.33734911, 24347.52314783,\n",
       "          24350.09454718, 24352.65034911, 24354.85420966, 24357.55164767,\n",
       "          24359.97644477, 24362.79442512, 24364.87309662, 24367.17200322,\n",
       "          24369.46416908, 24371.69963285, 24373.63802254, 24375.20703382,\n",
       "          24376.65845411, 24377.77214493, 24378.98929469, 24378.70657971,\n",
       "          24379.77795169, 24380.85548792, 24381.85482126, 24383.18793237,\n",
       "          24384.43731401, 24385.93463768, 24387.336657  , 24389.1670628 ,\n",
       "          24390.72009662, 24392.53669565, 24394.3821256 , 24396.20730435,\n",
       "          24398.44883092, 24400.69675362, 24402.95499517, 24405.23008696,\n",
       "          24407.55911111, 24409.70888889, 24411.77236715, 24414.53505314,\n",
       "          24417.06602899, 24419.55288889, 24421.97642512, 24424.49549758,\n",
       "          24426.92117874, 24429.29588406, 24431.67227053, 24434.05810628,\n",
       "          24436.54057971, 24438.89217391, 24441.57677295, 24443.94119807,\n",
       "          24446.16224155, 24448.45930435, 24450.29290821, 24452.78291787,\n",
       "          24455.40110145, 24457.61321739, 24459.96927536, 24462.24790338,\n",
       "          24464.5218744 , 24466.74283092, 24469.10285024, 24472.15826409,\n",
       "          24474.47648631, 24477.28864734, 24480.2569694 , 24483.05897907,\n",
       "          24485.94802899, 24488.9770467 , 24492.02808052, 24494.86955556,\n",
       "          24498.2922351 , 24500.9152496 , 24504.10008696, 24506.59611916,\n",
       "          24509.39159742, 24512.12256039, 24514.53397424, 24516.98083414,\n",
       "          24519.76406763, 24522.2489694 , 24524.6479066 , 24527.16538164,\n",
       "          24529.40912399, 24531.61847665, 24533.88230918, 24536.22768438,\n",
       "          24538.81898873, 24541.61744928, 24544.06110145, 24546.54262802,\n",
       "          24548.68635749, 24551.10680193, 24553.88249275, 24556.4348599 ,\n",
       "          24559.08299517, 24561.05447343, 24563.41263768, 24565.41702415,\n",
       "          24567.51598068, 24569.1341256 , 24570.99744928]),\n",
       "   'fitted_model': {'slope': np.float64(4.05106156204814),\n",
       "    'intercept': np.float64(1483.9277154157514),\n",
       "    'fitted_y': array([23044.49449459, 23056.09192205, 23062.71902346, 23072.65967558,\n",
       "           23095.85453051, 23104.13840727, 23109.10873333, 23128.99003755,\n",
       "           23132.30358826, 23140.58746502, 23145.55779108, 23147.21456643,\n",
       "           23160.46876925, 23163.78231995, 23167.09587066, 23182.00684883,\n",
       "           23188.63395024, 23193.60427629, 23200.2313777 , 23216.79913123,\n",
       "           23220.11268193, 23226.73978334, 23231.7101094 , 23235.0236601 ,\n",
       "           23241.65076151, 23244.96431221, 23249.93463827, 23256.56173968,\n",
       "           23263.18884109, 23269.8159425 , 23279.75659461, 23304.6082249 ,\n",
       "           23306.26500025, 23311.23532631, 23321.17597842, 23334.43018124,\n",
       "           23339.4005073 , 23362.59536223, 23374.19278969, 23375.84956505,\n",
       "           23397.38764463, 23407.32829674, 23415.6121735 , 23430.52315167,\n",
       "           23440.46380379, 23448.74768055, 23455.37478196, 23475.25608618,\n",
       "           23478.56963689, 23481.88318759, 23491.82383971, 23495.13739041,\n",
       "           23498.45094112, 23508.39159323, 23515.01869464, 23526.61612211,\n",
       "           23548.15420169, 23559.75162915, 23564.72195521, 23581.28970873,\n",
       "           23586.26003479, 23591.23036085, 23592.8871362 , 23606.14133902,\n",
       "           23612.76844043, 23614.42521578, 23630.9929693 , 23635.96329536,\n",
       "           23639.27684606, 23654.18782423, 23662.47170099, 23664.12847635,\n",
       "           23667.44202705, 23677.38267917, 23680.69622987, 23702.23430945,\n",
       "           23705.54786015, 23710.51818621, 23727.08593973, 23735.3698165 ,\n",
       "           23737.02659185, 23761.87822213, 23780.10275101, 23783.41630171,\n",
       "           23799.98405524, 23838.08988834, 23848.03054045, 23849.68731581,\n",
       "           23869.56862003, 23876.19572144, 23879.50927215, 23892.76347496,\n",
       "           23897.73380102, 23902.70412708, 23909.33122849, 23920.92865595,\n",
       "           23927.55575736, 23942.46673553, 23945.78028624, 23949.09383694,\n",
       "           23955.72093835, 23959.03448906, 23964.00481511, 23998.79709751,\n",
       "           24020.33517709, 24036.90293062, 24056.78423484, 24073.35198837,\n",
       "           24079.97908978, 24089.91974189, 24121.39847358, 24124.71202429,\n",
       "           24126.36879964, 24144.59332851, 24146.25010387, 24151.22042992,\n",
       "           24159.50430669, 24164.47463274, 24169.4449588 , 24171.10173415,\n",
       "           24172.7585095 , 24176.07206021, 24181.04238627, 24182.69916162,\n",
       "           24186.01271232, 24187.66948767, 24190.98303838, 24192.63981373,\n",
       "           24195.95336444, 24197.61013979, 24200.92369049, 24204.2372412 ,\n",
       "           24207.5507919 , 24210.86434261, 24219.14821937, 24220.80499472,\n",
       "           24222.46177007, 24224.11854543, 24225.77532078, 24227.43209613,\n",
       "           24229.08887148, 24230.74564683, 24232.40242219, 24234.05919754,\n",
       "           24235.71597289, 24237.37274824, 24239.0295236 , 24242.3430743 ,\n",
       "           24243.99984965, 24245.65662501, 24247.31340036, 24250.62695106,\n",
       "           24262.22437853, 24272.16503064, 24277.1353567 , 24283.76245811,\n",
       "           24300.33021163, 24305.30053769, 24308.61408839, 24310.27086375,\n",
       "           24313.58441445, 24316.89796515, 24321.86829121, 24323.52506656,\n",
       "           24330.15216797, 24331.80894333, 24336.77926938, 24340.09282009,\n",
       "           24348.37669685, 24351.69024755, 24359.97412431, 24374.88510249,\n",
       "           24379.85542854, 24383.16897925, 24399.73673277, 24408.02060953,\n",
       "           24417.96126164, 24436.18579052, 24441.15611658, 24442.81289193,\n",
       "           24447.78321799, 24467.66452221, 24470.97807292, 24472.63484827,\n",
       "           24479.26194968, 24484.23227574, 24497.48647856, 24502.45680461,\n",
       "           24505.77035532, 24520.68133349, 24527.3084349 , 24530.6219856 ,\n",
       "           24535.59231166, 24538.90586236, 24545.53296377, 24548.84651448,\n",
       "           24552.16006518, 24553.81684053, 24558.78716659, 24562.1007173 ,\n",
       "           24565.414268  , 24572.04136941, 24577.01169547, 24585.29557223,\n",
       "           24588.60912293, 24590.26589828, 24591.92267364, 24613.46075322,\n",
       "           24615.11752857, 24618.43107927, 24623.40140533, 24625.05818068,\n",
       "           24631.68528209, 24634.9988328 , 24641.62593421, 24643.28270956,\n",
       "           24653.22336167, 24659.85046308, 24663.16401379, 24664.82078914,\n",
       "           24671.44789055, 24673.1046659 , 24678.07499196, 24681.38854266,\n",
       "           24684.70209337, 24688.01564407, 24691.32919477, 24697.95629618,\n",
       "           24706.24017295, 24709.55372365, 24711.210499  , 24716.18082506,\n",
       "           24719.49437576, 24724.46470182, 24729.43502788, 24734.40535393,\n",
       "           24736.06212929, 24737.71890464, 24741.03245534, 24742.6892307 ,\n",
       "           24746.0027814 , 24747.65955675, 24750.97310746, 24764.22731028,\n",
       "           24770.85441169, 24772.51118704, 24787.42216521])}},\n",
       "  {'segment': 6,\n",
       "   'data_x': array([19.659, 19.661, 19.662, 19.663, 19.665, 19.668, 19.679, 19.682,\n",
       "          19.685, 19.698, 19.7  , 19.702, 19.714, 19.721, 19.726, 19.736,\n",
       "          19.742, 19.748, 19.756, 19.772, 19.776, 19.793, 19.798, 19.801,\n",
       "          19.817, 19.822, 19.823, 19.84 , 19.847, 19.853, 19.862, 19.869,\n",
       "          19.872, 19.873, 19.889, 19.89 , 19.891, 19.9  , 19.903, 19.905,\n",
       "          19.916, 19.921, 19.923, 19.924, 19.927, 19.938, 19.94 , 19.942,\n",
       "          19.944, 19.957, 19.959, 19.966, 19.971, 19.975, 19.983, 19.986,\n",
       "          19.987, 19.988, 20.01 , 20.015, 20.02 , 20.028, 20.032, 20.038,\n",
       "          20.042, 20.043, 20.044, 20.047, 20.049, 20.051, 20.052, 20.055,\n",
       "          20.057, 20.066, 20.071, 20.073, 20.088, 20.098, 20.102, 20.106,\n",
       "          20.119, 20.121, 20.123, 20.132, 20.138, 20.152, 20.162, 20.169,\n",
       "          20.185, 20.193, 20.2  , 20.215, 20.22 , 20.228, 20.23 , 20.231,\n",
       "          20.234, 20.238, 20.242, 20.248, 20.254, 20.258, 20.261, 20.265,\n",
       "          20.267, 20.27 , 20.273, 20.276, 20.277, 20.281, 20.283, 20.286,\n",
       "          20.288, 20.292, 20.295, 20.298, 20.309, 20.31 , 20.322, 20.323,\n",
       "          20.324, 20.327, 20.328, 20.33 , 20.331, 20.333, 20.334, 20.336,\n",
       "          20.338, 20.339, 20.341, 20.343, 20.344, 20.345, 20.346, 20.349,\n",
       "          20.35 , 20.355, 20.357, 20.358, 20.362, 20.366, 20.369, 20.372,\n",
       "          20.373, 20.377, 20.38 , 20.383, 20.385, 20.392, 20.393, 20.394,\n",
       "          20.397, 20.398, 20.399, 20.4  , 20.409, 20.41 , 20.418, 20.42 ,\n",
       "          20.422, 20.423, 20.426, 20.429, 20.433, 20.435, 20.437, 20.446,\n",
       "          20.451, 20.455, 20.462, 20.463, 20.465, 20.469, 20.473, 20.485,\n",
       "          20.487, 20.491, 20.494, 20.497, 20.498, 20.499, 20.502, 20.505,\n",
       "          20.507, 20.509, 20.51 , 20.512, 20.513, 20.514, 20.515, 20.516,\n",
       "          20.518, 20.521, 20.524, 20.527, 20.529, 20.531, 20.533, 20.535,\n",
       "          20.536, 20.537, 20.538, 20.54 , 20.545, 20.546, 20.547, 20.55 ,\n",
       "          20.551, 20.552, 20.554, 20.555, 20.566, 20.568, 20.571, 20.572,\n",
       "          20.573, 20.574, 20.577, 20.58 , 20.584, 20.585, 20.587, 20.596,\n",
       "          20.597, 20.598, 20.599, 20.602, 20.605, 20.606, 20.61 , 20.611,\n",
       "          20.613, 20.614, 20.617, 20.629, 20.632, 20.635, 20.637, 20.64 ,\n",
       "          20.643, 20.646, 20.651, 20.654, 20.655, 20.658, 20.67 , 20.672,\n",
       "          20.678, 20.681, 20.682, 20.683, 20.685, 20.688, 20.689, 20.691,\n",
       "          20.693, 20.701, 20.703, 20.705, 20.71 , 20.711, 20.714, 20.72 ,\n",
       "          20.723, 20.725, 20.732, 20.738, 20.742, 20.747, 20.755, 20.756,\n",
       "          20.757, 20.769, 20.772, 20.774, 20.777, 20.778, 20.779, 20.78 ,\n",
       "          20.782, 20.785, 20.788, 20.797, 20.799, 20.801, 20.806, 20.809,\n",
       "          20.811, 20.817, 20.82 , 20.821, 20.822, 20.83 , 20.831, 20.836,\n",
       "          20.851, 20.857, 20.862, 20.874, 20.881, 20.883, 20.895, 20.903,\n",
       "          20.906, 20.911, 20.927, 20.929, 20.94 , 20.946, 20.949, 20.959,\n",
       "          20.962, 20.965, 20.973, 20.98 , 20.982, 20.988, 20.991, 20.996,\n",
       "          20.999, 21.011, 21.014, 21.02 , 21.023, 21.025, 21.036, 21.044,\n",
       "          21.048, 21.06 , 21.067, 21.072, 21.084, 21.089, 21.09 , 21.092,\n",
       "          21.097, 21.098, 21.099, 21.1  , 21.101, 21.104, 21.107, 21.108,\n",
       "          21.112, 21.113, 21.114, 21.115, 21.116, 21.118, 21.122, 21.123,\n",
       "          21.125, 21.126, 21.127, 21.128, 21.131, 21.132, 21.134, 21.137,\n",
       "          21.139, 21.142, 21.144, 21.147, 21.148, 21.149, 21.15 , 21.151,\n",
       "          21.153, 21.154, 21.155, 21.157, 21.158, 21.16 , 21.161, 21.162,\n",
       "          21.163, 21.164, 21.165, 21.166, 21.168, 21.172, 21.175, 21.178,\n",
       "          21.18 , 21.181, 21.194, 21.197, 21.199, 21.207, 21.212, 21.217,\n",
       "          21.219, 21.221, 21.224, 21.225, 21.229, 21.231, 21.234, 21.242,\n",
       "          21.243, 21.244, 21.245, 21.247, 21.248, 21.25 , 21.253, 21.254,\n",
       "          21.257, 21.259, 21.26 , 21.262, 21.267, 21.269, 21.272, 21.281,\n",
       "          21.285, 21.288, 21.29 , 21.291, 21.294, 21.295, 21.296, 21.298,\n",
       "          21.301, 21.303, 21.306, 21.309, 21.311, 21.314]),\n",
       "   'data_y': array([24572.76141063, 24575.08490821, 24576.69909179, 24578.45194203,\n",
       "          24580.47248309, 24582.2647343 , 24584.172657  , 24586.17368116,\n",
       "          24588.09254106, 24590.36158454, 24592.80995169, 24596.18197101,\n",
       "          24600.11294686, 24603.8035942 , 24610.76879227, 24617.12595169,\n",
       "          24623.7098744 , 24631.17914976, 24639.59677295, 24649.18274396,\n",
       "          24659.23319807, 24672.83283092, 24683.02222222, 24699.24475362,\n",
       "          24715.31402899, 24730.54960386, 24745.16170048, 24764.35441546,\n",
       "          24783.02059903, 24802.02761353, 24821.54599034, 24766.37851208,\n",
       "          24823.14641546, 24838.09341063, 24840.60034783, 24860.79692754,\n",
       "          24907.1931401 , 24960.00929469, 25055.29005797, 25163.36168116,\n",
       "          25292.22986473, 25432.69683092, 25589.19243478, 25763.1516715 ,\n",
       "          25953.22049275, 26152.88738164, 26353.01515942, 26556.77789372,\n",
       "          26753.01067633, 26941.24913043, 27123.63396135, 27294.33394203,\n",
       "          27443.95745894, 27571.03166184, 27672.1824058 , 27740.6721256 ,\n",
       "          27884.53425121, 27910.91402899, 27951.25575845, 28002.6498744 ,\n",
       "          28050.44213527, 28083.47356522, 28129.08242512, 28152.492657  ,\n",
       "          28174.43383575, 28189.90162319, 28208.72025121, 28228.27230918,\n",
       "          28245.3309372 , 28256.45140097, 28263.96836715, 28269.84581643,\n",
       "          28276.61433816, 28283.75884058, 28294.06788406, 28303.77635749,\n",
       "          28315.10821256, 28327.36855072, 28341.60409662, 28355.15307246,\n",
       "          28312.132657  , 28354.73510145, 28341.15184541, 28352.80515942,\n",
       "          28379.50235749, 28421.15380676, 28486.32125604, 28560.25036715,\n",
       "          28655.29190338, 28764.01423188, 28882.18461836, 29004.93863768,\n",
       "          29129.22251208, 29250.57425121, 29365.25064734, 29479.61523671,\n",
       "          29586.64983575, 29680.20122705, 29768.02542995, 29843.0863285 ,\n",
       "          29903.07024155, 29947.37883092, 29973.88894686, 29980.48530435,\n",
       "          29964.8734686 , 30010.53494686, 29971.64952657, 29984.79998068,\n",
       "          29993.09366184, 30006.06154589, 30023.64641546, 30037.21910145,\n",
       "          30062.62772947, 30083.56598068, 30100.28322705, 30116.14161353,\n",
       "          30129.22657005, 30136.30414493, 30142.51091787, 30157.80872464,\n",
       "          30171.49800966, 30183.87059903, 30199.98857971, 30212.79649275,\n",
       "          30227.04801932, 30243.44118841, 30260.72407729, 30278.18048309,\n",
       "          30294.64034783, 30312.70356522, 30329.87406763, 30346.70584541,\n",
       "          30366.23302415, 30383.87149758, 30401.08303382, 30417.25625121,\n",
       "          30434.25688889, 30447.79112399, 30455.87733333, 30468.01357488,\n",
       "          30480.60079549, 30489.46945894, 30512.53206763, 30537.07580032,\n",
       "          30552.56156522, 30568.55770048, 30582.73614815, 30604.02085024,\n",
       "          30627.39362319, 30648.68874074, 30673.31390338, 30697.95525604,\n",
       "          30724.35779388, 30754.05617391, 30783.76221256, 30814.7230306 ,\n",
       "          30846.2357971 , 30876.01446377, 30903.4247504 , 30932.60002899,\n",
       "          30960.37838647, 30982.98790016, 31004.99845411, 31031.82619324,\n",
       "          31058.83042834, 31084.13710145, 31114.98443478, 31135.08022544,\n",
       "          31153.63046377, 31175.35096618, 31194.49006119, 31223.42282609,\n",
       "          31247.40424155, 31258.97429791, 31286.12906602, 31318.01513527,\n",
       "          31345.42875362, 31382.89258776, 31420.80544928, 31456.9433124 ,\n",
       "          31490.1357037 , 31529.05102899, 31565.77655395, 31605.19106119,\n",
       "          31649.02955233, 31689.56130274, 31729.37350081, 31767.7160789 ,\n",
       "          31811.80133655, 31859.15198873, 31901.55762963, 31941.1047037 ,\n",
       "          31971.02577134, 32003.35768277, 32040.15544605, 32074.82507085,\n",
       "          32101.07222866, 32128.6056876 , 32164.76729791, 32193.47438325,\n",
       "          32215.8332818 , 32244.08566184, 32264.67104026, 32282.5366248 ,\n",
       "          32299.09657971, 32321.74311755, 32339.50407085, 32359.51742995,\n",
       "          32382.11569726, 32397.83726892, 32413.88257005, 32430.3164058 ,\n",
       "          32452.95846699, 32473.04224155, 32487.24705314, 32500.29130757,\n",
       "          32510.34971014, 32528.17540097, 32542.5706409 , 32553.61215459,\n",
       "          32565.91342995, 32578.38291787, 32586.22241546, 32596.88085024,\n",
       "          32607.95475362, 32619.36691787, 32630.86091787, 32644.79219324,\n",
       "          32657.2800934 , 32672.2906087 , 32685.25599034, 32699.103562  ,\n",
       "          32714.03844444, 32729.41462802, 32744.7109533 , 32759.99764251,\n",
       "          32777.44891787, 32796.72819968, 32811.62683092, 32829.70662802,\n",
       "          32844.94403543, 32864.09552657, 32880.88404831, 32898.80394847,\n",
       "          32915.91596135, 32932.4097971 , 32952.01301127, 32970.70678261,\n",
       "          32987.10591304, 33006.20269243, 33024.01961353, 33042.02162319,\n",
       "          33056.10104992, 33073.16392271, 33088.78714976, 33104.62736232,\n",
       "          33119.42131401, 33133.46295652, 33144.40048309, 33158.8733913 ,\n",
       "          33176.09802899, 33192.56371014, 33206.60028986, 33225.67945894,\n",
       "          33240.83899517, 33258.16403865, 33274.14983575, 33292.04917874,\n",
       "          33310.89049275, 33331.29443478, 33354.67522705, 33377.13538164,\n",
       "          33399.82714976, 33426.47489855, 33451.28135266, 33476.43385507,\n",
       "          33501.43108213, 33529.20639614, 33554.02547826, 33580.5949372 ,\n",
       "          33608.25701449, 33636.80332367, 33666.0313913 , 33699.87628986,\n",
       "          33731.32047343, 33759.03924638, 33788.84808696, 33818.12981643,\n",
       "          33844.57782609, 33873.19198068, 33901.14586473, 33928.17354589,\n",
       "          33955.46184541, 33982.57383575, 34007.52484058, 34033.8941256 ,\n",
       "          34058.03647343, 34082.0538744 , 34106.69796135, 34130.90003865,\n",
       "          34153.36990338, 34180.78535266, 34206.04597101, 34233.82966184,\n",
       "          34262.19797101, 34290.9418744 , 34320.48643478, 34349.77571014,\n",
       "          34377.81491787, 34403.71606763, 34431.51391304, 34457.07904348,\n",
       "          34481.34691787, 34512.37500483, 34539.02330435, 34567.29061836,\n",
       "          34595.09400966, 34622.9972657 , 34650.94421256, 34681.00101449,\n",
       "          34709.75207729, 34740.85195169, 34772.19965217, 34807.6042029 ,\n",
       "          34841.00948792, 34870.3086087 , 34908.06345894, 34946.38866667,\n",
       "          34983.85758454, 35018.66752657, 35049.35661836, 35084.30732367,\n",
       "          35113.74075362, 35147.30537198, 35183.79608696, 35215.6568599 ,\n",
       "          35252.40402899, 35290.292     , 35326.20994203, 35361.82894686,\n",
       "          35397.36158454, 35429.174     , 35467.37538164, 35502.98410628,\n",
       "          35538.97990338, 35578.60957488, 35618.28944928, 35650.62213527,\n",
       "          35680.88384541, 35711.00816425, 35748.4756715 , 35772.38961353,\n",
       "          35798.52778744, 35818.21477295, 35842.28614493, 35867.95011594,\n",
       "          35885.57058937, 35910.49219324, 35931.65322383, 35948.69815781,\n",
       "          35966.74285024, 35981.29169726, 35996.70941385, 36008.38584541,\n",
       "          36021.48259581, 36033.1308438 , 36049.35635749, 36062.22723349,\n",
       "          36075.14541385, 36088.43760386, 36095.45425765, 36100.53525926,\n",
       "          36110.74710145, 36119.85330113, 36126.86748148, 36134.25694686,\n",
       "          36145.89897262, 36152.90068921, 36166.46830918, 36173.39051852,\n",
       "          36184.42874718, 36198.29505314, 36207.81598712, 36219.5048438 ,\n",
       "          36231.90975845, 36244.40270531, 36256.19567794, 36264.98152657,\n",
       "          36279.14981643, 36291.09671176, 36304.29725604, 36319.90103382,\n",
       "          36334.86744605, 36352.98370048, 36370.70085024, 36393.27478905,\n",
       "          36416.21627053, 36437.8912657 , 36461.73637359, 36487.02703382,\n",
       "          36511.61130435, 36535.81165862, 36563.42141063, 36588.2675942 ,\n",
       "          36615.52349436, 36639.78328502, 36660.68924638, 36687.05034461,\n",
       "          36707.02391304, 36725.907343  , 36745.05915942, 36760.08993237,\n",
       "          36780.04590338, 36795.81900805, 36811.38383575, 36827.23338164,\n",
       "          36842.71607085, 36857.66982609, 36870.50834783, 36887.02454428,\n",
       "          36900.76007729, 36910.94827053, 36926.47475684, 36937.57365217,\n",
       "          36949.12999034, 36960.81830274, 36973.7672657 , 36984.8966087 ,\n",
       "          36996.31525926, 37006.10672464]),\n",
       "   'fitted_model': {'slope': np.float64(4.05106156204814),\n",
       "    'intercept': np.float64(1483.9277154157514),\n",
       "    'fitted_y': array([24794.54770185, 24809.89004175, 24817.5612117 , 24825.23238165,\n",
       "           24840.57472155, 24863.5882314 , 24947.97110085, 24970.98461071,\n",
       "           24993.99812056, 25093.72332991, 25109.06566981, 25124.40800971,\n",
       "           25216.46204912, 25270.16023877, 25308.51608852, 25385.22778803,\n",
       "           25431.25480773, 25477.28182743, 25538.65118703, 25661.38990624,\n",
       "           25692.07458604, 25822.4844752 , 25860.84032495, 25883.8538348 ,\n",
       "           26006.59255401, 26044.94840376, 26052.61957371, 26183.02946287,\n",
       "           26236.72765252, 26282.75467222, 26351.79520177, 26405.49339143,\n",
       "           26428.50690128, 26436.17807123, 26558.91679044, 26566.58796039,\n",
       "           26574.25913034, 26643.29965989, 26666.31316974, 26681.65550964,\n",
       "           26766.0383791 , 26804.39422885, 26819.73656875, 26827.4077387 ,\n",
       "           26850.42124855, 26934.804118  , 26950.1464579 , 26965.48879781,\n",
       "           26980.83113771, 27080.55634706, 27095.89868696, 27149.59687661,\n",
       "           27187.95272637, 27218.63740617, 27280.00676577, 27303.02027562,\n",
       "           27310.69144557, 27318.36261552, 27487.12835443, 27525.48420418,\n",
       "           27563.84005394, 27625.20941354, 27655.89409334, 27701.92111304,\n",
       "           27732.60579284, 27740.27696279, 27747.94813274, 27770.9616426 ,\n",
       "           27786.3039825 , 27801.6463224 , 27809.31749235, 27832.3310022 ,\n",
       "           27847.6733421 , 27916.71387165, 27955.06972141, 27970.41206131,\n",
       "           28085.47961056, 28162.19131007, 28192.87598987, 28223.56066967,\n",
       "           28323.28587902, 28338.62821892, 28353.97055883, 28423.01108838,\n",
       "           28469.03810808, 28576.43448739, 28653.14618689, 28706.84437654,\n",
       "           28829.58309575, 28890.95245535, 28944.650645  , 29059.71819426,\n",
       "           29098.07404401, 29159.44340362, 29174.78574352, 29182.45691347,\n",
       "           29205.47042332, 29236.15510312, 29266.83978292, 29312.86680262,\n",
       "           29358.89382233, 29389.57850213, 29412.59201198, 29443.27669178,\n",
       "           29458.61903168, 29481.63254153, 29504.64605138, 29527.65956123,\n",
       "           29535.33073118, 29566.01541099, 29581.35775089, 29604.37126074,\n",
       "           29619.71360064, 29650.39828044, 29673.41179029, 29696.42530014,\n",
       "           29780.8081696 , 29788.47933955, 29880.53337895, 29888.2045489 ,\n",
       "           29895.87571885, 29918.8892287 , 29926.56039865, 29941.90273855,\n",
       "           29949.57390851, 29964.91624841, 29972.58741836, 29987.92975826,\n",
       "           30003.27209816, 30010.94326811, 30026.28560801, 30041.62794791,\n",
       "           30049.29911786, 30056.97028781, 30064.64145776, 30087.65496761,\n",
       "           30095.32613756, 30133.68198731, 30149.02432722, 30156.69549717,\n",
       "           30187.38017697, 30218.06485677, 30241.07836662, 30264.09187647,\n",
       "           30271.76304642, 30302.44772622, 30325.46123607, 30348.47474593,\n",
       "           30363.81708583, 30417.51527548, 30425.18644543, 30432.85761538,\n",
       "           30455.87112523, 30463.54229518, 30471.21346513, 30478.88463508,\n",
       "           30547.92516464, 30555.59633459, 30616.96569419, 30632.30803409,\n",
       "           30647.65037399, 30655.32154394, 30678.33505379, 30701.34856364,\n",
       "           30732.03324344, 30747.37558335, 30762.71792325, 30831.7584528 ,\n",
       "           30870.11430255, 30900.79898235, 30954.49717201, 30962.16834196,\n",
       "           30977.51068186, 31008.19536166, 31038.88004146, 31130.93408086,\n",
       "           31146.27642077, 31176.96110057, 31199.97461042, 31222.98812027,\n",
       "           31230.65929022, 31238.33046017, 31261.34397002, 31284.35747987,\n",
       "           31299.69981977, 31315.04215967, 31322.71332962, 31338.05566952,\n",
       "           31345.72683948, 31353.39800943, 31361.06917938, 31368.74034933,\n",
       "           31384.08268923, 31407.09619908, 31430.10970893, 31453.12321878,\n",
       "           31468.46555868, 31483.80789858, 31499.15023848, 31514.49257838,\n",
       "           31522.16374833, 31529.83491828, 31537.50608823, 31552.84842814,\n",
       "           31591.20427789, 31598.87544784, 31606.54661779, 31629.56012764,\n",
       "           31637.23129759, 31644.90246754, 31660.24480744, 31667.91597739,\n",
       "           31752.29884685, 31767.64118675, 31790.6546966 , 31798.32586655,\n",
       "           31805.9970365 , 31813.66820645, 31836.6817163 , 31859.69522615,\n",
       "           31890.37990595, 31898.0510759 , 31913.3934158 , 31982.43394536,\n",
       "           31990.10511531, 31997.77628526, 32005.44745521, 32028.46096506,\n",
       "           32051.47447491, 32059.14564486, 32089.83032466, 32097.50149461,\n",
       "           32112.84383451, 32120.51500446, 32143.52851432, 32235.58255372,\n",
       "           32258.59606357, 32281.60957342, 32296.95191332, 32319.96542317,\n",
       "           32342.97893303, 32365.99244288, 32404.34829263, 32427.36180248,\n",
       "           32435.03297243, 32458.04648228, 32550.10052169, 32565.44286159,\n",
       "           32611.46988129, 32634.48339114, 32642.15456109, 32649.82573104,\n",
       "           32665.16807094, 32688.18158079, 32695.85275074, 32711.19509064,\n",
       "           32726.53743054, 32787.90679015, 32803.24913005, 32818.59146995,\n",
       "           32856.9473197 , 32864.61848965, 32887.6319995 , 32933.6590192 ,\n",
       "           32956.67252906, 32972.01486896, 33025.71305861, 33071.74007831,\n",
       "           33102.42475811, 33140.78060786, 33202.14996747, 33209.82113742,\n",
       "           33217.49230737, 33309.54634677, 33332.55985662, 33347.90219653,\n",
       "           33370.91570638, 33378.58687633, 33386.25804628, 33393.92921623,\n",
       "           33409.27155613, 33432.28506598, 33455.29857583, 33524.33910538,\n",
       "           33539.68144528, 33555.02378519, 33593.37963494, 33616.39314479,\n",
       "           33631.73548469, 33677.76250439, 33700.77601424, 33708.44718419,\n",
       "           33716.11835414, 33777.48771375, 33785.1588837 , 33823.51473345,\n",
       "           33938.5822827 , 33984.60930241, 34022.96515216, 34115.01919156,\n",
       "           34168.71738122, 34184.05972112, 34276.11376052, 34337.48312012,\n",
       "           34360.49662998, 34398.85247973, 34521.59119893, 34536.93353883,\n",
       "           34621.31640829, 34667.34342799, 34690.35693784, 34767.06863735,\n",
       "           34790.0821472 , 34813.09565705, 34874.46501665, 34928.1632063 ,\n",
       "           34943.50554621, 34989.53256591, 35012.54607576, 35050.90192551,\n",
       "           35073.91543536, 35165.96947477, 35188.98298462, 35235.01000432,\n",
       "           35258.02351417, 35273.36585407, 35357.74872353, 35419.11808313,\n",
       "           35449.80276293, 35541.85680234, 35595.55499199, 35633.91084174,\n",
       "           35725.96488114, 35764.3207309 , 35771.99190085, 35787.33424075,\n",
       "           35825.6900905 , 35833.36126045, 35841.0324304 , 35848.70360035,\n",
       "           35856.3747703 , 35879.38828015, 35902.40179   , 35910.07295995,\n",
       "           35940.75763976, 35948.42880971, 35956.09997966, 35963.77114961,\n",
       "           35971.44231956, 35986.78465946, 36017.46933926, 36025.14050921,\n",
       "           36040.48284911, 36048.15401906, 36055.82518901, 36063.49635896,\n",
       "           36086.50986881, 36094.18103876, 36109.52337866, 36132.53688851,\n",
       "           36147.87922842, 36170.89273827, 36186.23507817, 36209.24858802,\n",
       "           36216.91975797, 36224.59092792, 36232.26209787, 36239.93326782,\n",
       "           36255.27560772, 36262.94677767, 36270.61794762, 36285.96028752,\n",
       "           36293.63145747, 36308.97379737, 36316.64496732, 36324.31613727,\n",
       "           36331.98730722, 36339.65847718, 36347.32964713, 36355.00081708,\n",
       "           36370.34315698, 36401.02783678, 36424.04134663, 36447.05485648,\n",
       "           36462.39719638, 36470.06836633, 36569.79357569, 36592.80708554,\n",
       "           36608.14942544, 36669.51878504, 36707.87463479, 36746.23048455,\n",
       "           36761.57282445, 36776.91516435, 36799.9286742 , 36807.59984415,\n",
       "           36838.28452395, 36853.62686385, 36876.6403737 , 36938.00973331,\n",
       "           36945.68090326, 36953.35207321, 36961.02324316, 36976.36558306,\n",
       "           36984.03675301, 36999.37909291, 37022.39260276, 37030.06377271,\n",
       "           37053.07728256, 37068.41962246, 37076.09079241, 37091.43313231,\n",
       "           37129.78898206, 37145.13132197, 37168.14483182, 37237.18536137,\n",
       "           37267.87004117, 37290.88355102, 37306.22589092, 37313.89706087,\n",
       "           37336.91057073, 37344.58174068, 37352.25291063, 37367.59525053,\n",
       "           37390.60876038, 37405.95110028, 37428.96461013, 37451.97811998,\n",
       "           37467.32045988, 37490.33396973])}},\n",
       "  {'segment': 7,\n",
       "   'data_x': array([21.322, 21.327, 21.328, 21.33 , 21.332, 21.341, 21.345, 21.349,\n",
       "          21.353, 21.354, 21.357, 21.365, 21.366, 21.367, 21.368, 21.369,\n",
       "          21.372, 21.373, 21.375, 21.384, 21.385, 21.39 , 21.392, 21.394,\n",
       "          21.395, 21.396, 21.397, 21.398, 21.4  , 21.401, 21.403, 21.413,\n",
       "          21.415, 21.417, 21.427, 21.428, 21.429, 21.432, 21.435, 21.439,\n",
       "          21.44 , 21.441, 21.446, 21.447, 21.451, 21.452, 21.454, 21.455,\n",
       "          21.46 , 21.461, 21.465, 21.467, 21.48 , 21.481, 21.483, 21.484,\n",
       "          21.485, 21.486, 21.487, 21.488, 21.489, 21.49 , 21.492, 21.495,\n",
       "          21.497, 21.498, 21.499, 21.501, 21.502, 21.503, 21.507, 21.524,\n",
       "          21.526, 21.527, 21.545, 21.547, 21.551, 21.554, 21.555, 21.557,\n",
       "          21.562, 21.565, 21.571, 21.576, 21.58 , 21.583, 21.585, 21.587,\n",
       "          21.589, 21.59 , 21.591, 21.594, 21.6  , 21.605, 21.607, 21.608,\n",
       "          21.615, 21.616, 21.619, 21.621, 21.623, 21.624, 21.625, 21.63 ,\n",
       "          21.632, 21.633, 21.635, 21.636, 21.638, 21.643, 21.644, 21.645,\n",
       "          21.648, 21.655, 21.656, 21.659, 21.662, 21.665, 21.666, 21.669,\n",
       "          21.67 , 21.672, 21.676, 21.679, 21.681, 21.683, 21.688, 21.69 ,\n",
       "          21.692, 21.698, 21.699, 21.702, 21.703, 21.705, 21.707, 21.718,\n",
       "          21.719, 21.721, 21.724, 21.726, 21.729, 21.732, 21.733, 21.738,\n",
       "          21.741, 21.743, 21.747, 21.748, 21.749, 21.75 , 21.751, 21.752,\n",
       "          21.753, 21.756, 21.757, 21.758, 21.759, 21.76 , 21.763, 21.77 ,\n",
       "          21.772, 21.773, 21.775, 21.776, 21.777, 21.781, 21.783, 21.784,\n",
       "          21.791, 21.792, 21.794, 21.797, 21.798, 21.8  , 21.802, 21.803,\n",
       "          21.807, 21.811, 21.813, 21.816, 21.827, 21.828, 21.829, 21.831,\n",
       "          21.832, 21.838, 21.84 , 21.841, 21.844, 21.846, 21.847, 21.849,\n",
       "          21.85 , 21.854, 21.855, 21.857, 21.859, 21.861, 21.864, 21.865,\n",
       "          21.868, 21.873, 21.876, 21.879, 21.889, 21.894, 21.895, 21.898,\n",
       "          21.9  , 21.913, 21.921, 21.93 , 21.957, 21.974, 21.986, 22.004,\n",
       "          22.017, 22.026, 22.033, 22.047, 22.049, 22.051, 22.053, 22.055,\n",
       "          22.059, 22.062, 22.065, 22.075, 22.08 , 22.082, 22.093, 22.094,\n",
       "          22.095, 22.096, 22.097, 22.099, 22.1  , 22.101, 22.105, 22.107,\n",
       "          22.109, 22.111, 22.113, 22.115, 22.116, 22.118, 22.119, 22.12 ,\n",
       "          22.122, 22.127, 22.135, 22.151, 22.159, 22.184, 22.191, 22.197,\n",
       "          22.205, 22.209, 22.211, 22.213, 22.229, 22.232, 22.233, 22.245,\n",
       "          22.251, 22.254, 22.266, 22.274, 22.277, 22.28 , 22.286, 22.289,\n",
       "          22.29 , 22.294, 22.297, 22.301, 22.309, 22.314, 22.316, 22.319,\n",
       "          22.32 , 22.323, 22.324, 22.334, 22.336, 22.337, 22.346, 22.352,\n",
       "          22.366, 22.369, 22.372, 22.375, 22.395, 22.4  , 22.412, 22.418,\n",
       "          22.42 , 22.422, 22.427, 22.428, 22.431, 22.436, 22.437, 22.44 ,\n",
       "          22.441, 22.454, 22.455, 22.457, 22.461, 22.464, 22.465, 22.466,\n",
       "          22.468, 22.469, 22.47 , 22.471, 22.476, 22.479, 22.482, 22.483,\n",
       "          22.486, 22.493, 22.496, 22.497, 22.498, 22.5  , 22.503, 22.504,\n",
       "          22.515, 22.519, 22.521, 22.532, 22.534, 22.536, 22.542, 22.547,\n",
       "          22.55 , 22.562, 22.565, 22.567, 22.572, 22.59 , 22.593, 22.6  ,\n",
       "          22.601, 22.602, 22.605, 22.616, 22.622, 22.624, 22.633, 22.638,\n",
       "          22.642, 22.646, 22.659, 22.66 , 22.662, 22.667, 22.67 , 22.671,\n",
       "          22.687, 22.688, 22.69 , 22.695, 22.699, 22.7  , 22.705, 22.708,\n",
       "          22.711, 22.717, 22.721, 22.722, 22.728, 22.73 , 22.732, 22.736,\n",
       "          22.738, 22.741, 22.742, 22.746, 22.758, 22.759, 22.762, 22.764,\n",
       "          22.767, 22.768, 22.77 , 22.773, 22.774, 22.777, 22.778, 22.78 ,\n",
       "          22.783, 22.786, 22.787, 22.789, 22.79 , 22.791, 22.792, 22.797,\n",
       "          22.799, 22.8  , 22.801, 22.802, 22.805, 22.809, 22.81 , 22.812,\n",
       "          22.815, 22.816, 22.817, 22.818, 22.819, 22.82 , 22.822, 22.823,\n",
       "          22.825, 22.826, 22.827, 22.828, 22.829, 22.831, 22.834, 22.835,\n",
       "          22.842, 22.859, 22.864, 22.87 , 22.876, 22.887, 22.889, 22.891,\n",
       "          22.901, 22.904, 22.905, 22.919, 22.92 , 22.923, 22.93 , 22.935,\n",
       "          22.939, 22.945, 22.95 , 22.952, 22.963, 22.967, 22.969, 22.972,\n",
       "          22.973, 22.98 , 22.985, 22.987, 23.001, 23.009, 23.027, 23.035,\n",
       "          23.042, 23.049, 23.059, 23.063, 23.065, 23.079, 23.08 , 23.083,\n",
       "          23.089, 23.096, 23.1  , 23.105, 23.12 , 23.122, 23.127, 23.13 ,\n",
       "          23.133, 23.137, 23.141, 23.142, 23.153, 23.154, 23.158, 23.159,\n",
       "          23.167, 23.169, 23.172, 23.18 , 23.181, 23.184, 23.193, 23.194,\n",
       "          23.198, 23.201, 23.203, 23.204, 23.206, 23.208, 23.209, 23.21 ,\n",
       "          23.211, 23.212, 23.214, 23.216, 23.218, 23.219, 23.22 , 23.223,\n",
       "          23.224, 23.225, 23.226, 23.229, 23.233, 23.236, 23.246, 23.247,\n",
       "          23.248, 23.252, 23.257, 23.258, 23.259, 23.262, 23.264, 23.27 ,\n",
       "          23.272, 23.273, 23.275, 23.277, 23.281, 23.283, 23.285, 23.29 ,\n",
       "          23.291, 23.294, 23.298, 23.299, 23.31 , 23.315, 23.33 , 23.336,\n",
       "          23.338, 23.347, 23.355, 23.36 , 23.371, 23.377, 23.378, 23.381,\n",
       "          23.395, 23.398, 23.4  , 23.405, 23.407, 23.41 , 23.415, 23.42 ,\n",
       "          23.421, 23.425, 23.435, 23.438, 23.439, 23.443, 23.447, 23.454,\n",
       "          23.457, 23.462, 23.466, 23.467, 23.471, 23.483, 23.485, 23.489,\n",
       "          23.506, 23.507, 23.509, 23.517, 23.519, 23.521, 23.533, 23.536,\n",
       "          23.538, 23.542, 23.559, 23.563, 23.574, 23.579, 23.583, 23.586,\n",
       "          23.592, 23.596, 23.597, 23.599, 23.603, 23.604, 23.605, 23.609,\n",
       "          23.611, 23.615, 23.627, 23.63 , 23.631, 23.635, 23.639, 23.643,\n",
       "          23.644, 23.647, 23.653, 23.658, 23.66 , 23.663, 23.669, 23.675,\n",
       "          23.676, 23.681, 23.682, 23.683, 23.685, 23.689, 23.693, 23.694,\n",
       "          23.696, 23.705, 23.708, 23.712, 23.714, 23.715, 23.719, 23.723,\n",
       "          23.725, 23.727, 23.732, 23.734, 23.736, 23.738, 23.747, 23.75 ,\n",
       "          23.754, 23.759, 23.76 , 23.761, 23.764, 23.765, 23.77 , 23.773,\n",
       "          23.774, 23.775, 23.776, 23.777, 23.778, 23.779, 23.78 , 23.781,\n",
       "          23.782, 23.783, 23.784, 23.785, 23.786, 23.787, 23.788, 23.789,\n",
       "          23.79 , 23.791, 23.792, 23.793, 23.794, 23.795]),\n",
       "   'data_y': array([37018.31532367, 37030.70675684, 37041.71903382, 37055.03290821,\n",
       "          37071.98803865, 37083.80529469, 37099.79737198, 37114.43171659,\n",
       "          37130.41907246, 37145.97105314, 37161.34238325, 37181.87192271,\n",
       "          37200.22299517, 37218.85498229, 37239.41938164, 37257.69213527,\n",
       "          37275.34174557, 37291.18148792, 37308.11219324, 37322.01920451,\n",
       "          37338.42025121, 37353.61142995, 37366.79403543, 37378.99968116,\n",
       "          37391.69303382, 37402.64970692, 37415.91245411, 37427.37549758,\n",
       "          37441.50359098, 37451.44067633, 37463.97894686, 37476.87325604,\n",
       "          37488.86791304, 37502.94935266, 37521.06968116, 37540.14210628,\n",
       "          37554.37826087, 37569.71571014, 37588.12811594, 37601.03294686,\n",
       "          37610.64582609, 37627.44461836, 37643.33068599, 37656.45370048,\n",
       "          37671.40256039, 37687.24826087, 37699.02143961, 37711.97417391,\n",
       "          37725.24942029, 37739.84988406, 37753.58233816, 37767.73589372,\n",
       "          37781.36910145, 37795.0329372 , 37808.60601932, 37822.8633913 ,\n",
       "          37838.94889855, 37854.36472464, 37868.42478261, 37880.16849275,\n",
       "          37892.10925604, 37905.67863768, 37918.91358454, 37929.90932367,\n",
       "          37941.94670531, 37958.16880193, 37968.53121739, 37979.7889372 ,\n",
       "          37991.52780676, 38004.6464058 , 38013.40822222, 38025.16069565,\n",
       "          38036.90543961, 38048.5891401 , 38059.26884058, 38071.64371014,\n",
       "          38081.68333333, 38096.26316908, 38109.21059903, 38122.31648309,\n",
       "          38134.4592657 , 38143.43505314, 38154.86962319, 38166.08738164,\n",
       "          38177.06264734, 38188.59514976, 38197.41107246, 38208.54164251,\n",
       "          38220.23344928, 38229.98763285, 38238.61652174, 38248.55342995,\n",
       "          38256.1967343 , 38264.82705314, 38274.04357488, 38283.32749758,\n",
       "          38291.80025121, 38302.09256039, 38312.36569082, 38324.67828019,\n",
       "          38335.57343961, 38347.2411401 , 38359.07191304, 38370.75370048,\n",
       "          38381.41228019, 38392.67984541, 38404.02634783, 38414.28183575,\n",
       "          38426.05676328, 38439.05748792, 38451.58457005, 38464.09271498,\n",
       "          38476.03757488, 38486.9782029 , 38495.67519807, 38507.03928502,\n",
       "          38517.1423285 , 38526.76204831, 38537.1754686 , 38545.87223188,\n",
       "          38554.20350725, 38564.81972947, 38573.53030918, 38581.80398068,\n",
       "          38590.85797101, 38598.69569082, 38608.62274396, 38616.07123671,\n",
       "          38624.4291401 , 38633.69687923, 38642.636     , 38651.95471498,\n",
       "          38663.02541063, 38672.60953623, 38681.61172947, 38691.09714976,\n",
       "          38705.51095652, 38716.15548792, 38724.45393237, 38736.43304348,\n",
       "          38747.98485024, 38762.41360386, 38775.638657  , 38792.356657  ,\n",
       "          38803.83745894, 38818.25545894, 38831.74816425, 38845.13553623,\n",
       "          38859.4405314 , 38872.37503382, 38886.17452174, 38899.64305314,\n",
       "          38913.40300483, 38925.32953623, 38936.80932367, 38949.80903382,\n",
       "          38960.67357488, 38969.9631401 , 38982.82016425, 38995.34414493,\n",
       "          39007.48408696, 39015.15274396, 39024.14619324, 39036.1926087 ,\n",
       "          39048.23448309, 39060.71642512, 39070.15570048, 39081.28019324,\n",
       "          39087.14558454, 39096.9170628 , 39106.43509179, 39115.68121739,\n",
       "          39125.25028019, 39134.48703382, 39143.79024155, 39152.78009662,\n",
       "          39161.69945894, 39170.84571981, 39180.92836715, 39191.22231884,\n",
       "          39199.0767343 , 39209.44144928, 39221.84662802, 39230.53777778,\n",
       "          39240.82942995, 39250.55849275, 39259.96655072, 39268.73140097,\n",
       "          39278.6091401 , 39287.76927536, 39296.14557488, 39304.13775845,\n",
       "          39311.02022222, 39319.85052174, 39328.43276328, 39338.1787343 ,\n",
       "          39347.99997101, 39357.58634783, 39367.59807729, 39377.81809662,\n",
       "          39388.26839614, 39398.84457005, 39409.7561256 , 39421.1161256 ,\n",
       "          39433.60980676, 39447.52590338, 39460.81011594, 39472.37086957,\n",
       "          39490.28741063, 39504.8513913 , 39521.20491787, 39538.58800966,\n",
       "          39556.39718841, 39574.28905314, 39592.86484058, 39611.93343961,\n",
       "          39631.57317874, 39652.7074686 , 39656.46374879, 39685.48850242,\n",
       "          39713.36740097, 39739.17601932, 39764.50378744, 39777.97331401,\n",
       "          39795.20351691, 39829.16933333, 39854.94522705, 39876.6232657 ,\n",
       "          39911.5042029 , 39939.92177778, 39964.58331401, 39992.03667633,\n",
       "          40019.71039291, 40037.39603865, 40055.85177778, 40070.47453784,\n",
       "          40083.07436715, 40096.08069565, 40103.99955233, 40110.92048309,\n",
       "          40116.8913913 , 40121.23320451, 40124.3495942 , 40149.81310145,\n",
       "          40158.64032528, 40164.94991304, 40170.55792271, 40174.35631562,\n",
       "          40192.7801256 , 40215.36815459, 40224.55045089, 40239.64999034,\n",
       "          40261.82372947, 40272.7790789 , 40284.86517874, 40299.22137198,\n",
       "          40308.04236393, 40314.69719807, 40322.93198068, 40332.04313043,\n",
       "          40339.5316715 , 40347.78013527, 40356.35033816, 40366.93642512,\n",
       "          40378.27383575, 40389.98541063, 40402.33656039, 40415.22722705,\n",
       "          40427.15198068, 40441.65194203, 40455.89130435, 40469.50003865,\n",
       "          40482.35350725, 40496.8404058 , 40510.73157488, 40522.65819324,\n",
       "          40534.8506087 , 40547.87415459, 40560.92318841, 40574.11336232,\n",
       "          40587.18749758, 40600.1307343 , 40612.56971981, 40625.06972947,\n",
       "          40638.77578744, 40654.6867343 , 40670.52794203, 40685.09517874,\n",
       "          40701.95507246, 40718.38942029, 40734.49391304, 40751.51057971,\n",
       "          40767.53464734, 40784.97966184, 40799.70556522, 40813.7584058 ,\n",
       "          40826.49016425, 40839.13021256, 40848.44608696, 40860.00074396,\n",
       "          40874.10101449, 40884.80527536, 40897.28059581, 40906.78318841,\n",
       "          40913.78482126, 40922.18030596, 40928.83718841, 40937.94234783,\n",
       "          40949.23290499, 40956.69314976, 40966.49923671, 40975.08357166,\n",
       "          40987.29057971, 40997.52957488, 41007.99765862, 41018.60783575,\n",
       "          41028.13641546, 41038.09008374, 41048.08331401, 41057.18028019,\n",
       "          41067.75580354, 41079.03189372, 41090.55372947, 41104.52316586,\n",
       "          41117.18756522, 41126.05935266, 41136.67223833, 41145.99684058,\n",
       "          41154.40137198, 41164.94675362, 41173.90863768, 41184.8432657 ,\n",
       "          41192.95254106, 41202.29752657, 41214.41221256, 41223.43998068,\n",
       "          41235.0432657 , 41243.77041546, 41252.90371014, 41261.98237681,\n",
       "          41271.48239614, 41281.48597101, 41291.60647343, 41301.89464734,\n",
       "          41313.72017391, 41324.09366184, 41333.69872464, 41345.5782029 ,\n",
       "          41355.30670531, 41367.31084058, 41379.60859903, 41391.73804831,\n",
       "          41402.80347826, 41414.38544928, 41426.1142029 , 41437.72312077,\n",
       "          41449.70523671, 41462.49664734, 41476.15768116, 41488.5165314 ,\n",
       "          41500.28382609, 41513.7972657 , 41527.0316715 , 41538.89096618,\n",
       "          41552.06629952, 41563.97087923, 41577.20162319, 41588.44041546,\n",
       "          41598.80360386, 41609.15376812, 41618.81216425, 41629.29674396,\n",
       "          41639.92715942, 41652.09877295, 41662.45090821, 41671.7703285 ,\n",
       "          41681.57742029, 41691.27980676, 41700.84889855, 41709.9352657 ,\n",
       "          41719.2474686 , 41729.70281159, 41740.28435749, 41749.5296715 ,\n",
       "          41757.78024155, 41768.30472464, 41775.79885024, 41782.05295652,\n",
       "          41789.98594203, 41796.27964251, 41802.8347343 , 41806.56504348,\n",
       "          41810.0648599 , 41814.66907246, 41818.81717874, 41823.23461836,\n",
       "          41828.49431884, 41830.88821256, 41832.78515942, 41838.07186473,\n",
       "          41840.6752657 , 41845.26196135, 41850.54354589, 41856.49329469,\n",
       "          41861.78074396, 41868.54624155, 41874.97390338, 41883.95530435,\n",
       "          41892.8593913 , 41900.92007729, 41905.83211594, 41912.57847343,\n",
       "          41915.98619324, 41918.68191304, 41920.99850242, 41923.43679227,\n",
       "          41925.74656039, 41928.61416425, 41931.54389372, 41934.3545314 ,\n",
       "          41936.96178744, 41939.31692754, 41943.16601932, 41948.72136232,\n",
       "          41952.49815459, 41959.71643478, 41966.09284058, 41972.80628019,\n",
       "          41979.37793237, 41988.04314976, 41996.78942029, 42005.98052174,\n",
       "          42012.85216425, 42018.23551691, 42022.98737198, 42028.02732367,\n",
       "          42030.79424155, 42035.93911111, 42041.26304348, 42046.63029952,\n",
       "          42052.06397101, 42057.45918841, 42063.41960386, 42068.82892754,\n",
       "          42074.19131401, 42080.02641546, 42086.12708213, 42092.53828019,\n",
       "          42100.09233816, 42106.32025121, 42114.62031884, 42123.22117874,\n",
       "          42131.15896618, 42139.2942029 , 42147.58514976, 42156.41719807,\n",
       "          42165.13972947, 42174.65227053, 42184.33186473, 42194.23492754,\n",
       "          42205.30436715, 42215.38335266, 42225.35462802, 42236.44205797,\n",
       "          42246.73978744, 42256.74155556, 42266.91617391, 42278.38522705,\n",
       "          42288.80284058, 42299.11336232, 42309.31026087, 42319.39038647,\n",
       "          42329.10703382, 42339.51599034, 42350.49773913, 42358.97056039,\n",
       "          42368.04500483, 42376.74797101, 42384.37158454, 42393.20870531,\n",
       "          42398.98980676, 42408.88133333, 42418.54931079, 42428.35489855,\n",
       "          42438.51479227, 42447.47200966, 42457.8125314 , 42467.63193237,\n",
       "          42476.59574879, 42485.34882126, 42496.25496618, 42508.3571562 ,\n",
       "          42517.98565217, 42529.32551691, 42539.92121417, 42550.35898551,\n",
       "          42560.71276328, 42571.51087601, 42580.89863768, 42590.04435749,\n",
       "          42599.36828663, 42606.65231884, 42614.13303382, 42622.21114654,\n",
       "          42627.95940097, 42637.57028019, 42644.43992915, 42650.12070531,\n",
       "          42656.15947826, 42661.7650628 , 42667.4028599 , 42671.01292754,\n",
       "          42676.24705958, 42683.17766184, 42691.55877295, 42698.3980934 ,\n",
       "          42704.32144928, 42711.0164058 , 42717.38007729, 42723.82025121,\n",
       "          42730.67903382, 42737.80097585, 42744.4493913 , 42750.81384541,\n",
       "          42759.20214493, 42766.92634783, 42775.552     , 42784.22503382,\n",
       "          42793.19596135, 42803.71177778, 42813.80434783, 42825.61184541,\n",
       "          42837.79514976, 42849.82056039, 42862.02751691, 42873.73224155,\n",
       "          42889.66469565, 42905.73595169, 42919.83690821, 42933.74530435,\n",
       "          42948.18616425, 42962.58057005, 42975.63758454, 42991.75419324,\n",
       "          43007.92042512, 43022.30542029, 43037.92931401, 43051.17723671,\n",
       "          43069.24056039, 43084.50077295, 43101.41426087, 43119.14427053,\n",
       "          43138.13029952, 43157.60554589, 43177.03337198, 43197.96307246,\n",
       "          43217.16776812, 43236.27710145, 43258.31961353, 43279.02154589,\n",
       "          43301.3283285 , 43323.88479227, 43344.39455072, 43363.94299517,\n",
       "          43386.10421256, 43406.28761353, 43426.30307246, 43448.9523285 ,\n",
       "          43468.23654106, 43487.60057971, 43508.21377778, 43527.42428985,\n",
       "          43550.25296618, 43570.51992271, 43592.59414493, 43613.17244444,\n",
       "          43637.95300483, 43660.58206763, 43685.75472464, 43708.73331401,\n",
       "          43731.4378744 , 43753.85984541, 43775.71074396, 43798.48376812,\n",
       "          43821.59636715, 43843.27610628, 43863.30378744, 43882.86789372,\n",
       "          43903.15354589, 43922.60729469, 43941.83731401, 43961.00513043,\n",
       "          43980.2061256 , 44000.03025121, 44017.02674396, 44037.09664734,\n",
       "          44053.23426087, 44069.08213527, 44090.66766184, 44113.68350725,\n",
       "          44137.4016715 , 44156.85409662, 44177.26153623, 44197.50406763,\n",
       "          44217.6750628 , 44237.97631884, 44258.45019324, 44282.02283092,\n",
       "          44300.95651208, 44323.02770048, 44346.29096618, 44366.48042512,\n",
       "          44386.47570048, 44409.81922705, 44428.06248309, 44449.52469565,\n",
       "          44468.98047343, 44490.08720773, 44507.63467633, 44526.79246377,\n",
       "          44538.94542029, 44560.3547504 , 44583.73373913, 44601.63105314,\n",
       "          44617.54123349, 44635.00030918, 44653.94650242, 44627.67880837,\n",
       "          44633.62899758, 44644.6165942 , 44677.54876938, 44728.49476011,\n",
       "          44785.88071629, 44859.79360276, 44931.83554191, 45014.67593845,\n",
       "          45101.84507893, 45194.28561956, 45287.83750724, 45382.16450919,\n",
       "          45471.75403323, 45551.43988922, 45630.36000439, 45702.94927728,\n",
       "          45766.57303419, 45815.5820112 , 45840.86601505, 45848.66925831,\n",
       "          45850.03578285, 45827.28422635, 45816.46257045, 45796.49996266,\n",
       "          45767.396403  , 45729.15189147, 45681.76642805, 45625.24001276,\n",
       "          45559.57264559, 45484.76432655, 45400.81505563, 45307.72483283,\n",
       "          45205.49365816, 45094.12153161]),\n",
       "   'fitted_model': {'slope': np.float64(4.05106156204814),\n",
       "    'intercept': np.float64(1483.9277154157514),\n",
       "    'fitted_y': array([37516.6596629 , 37531.07755598, 37533.96113459, 37539.72829182,\n",
       "           37545.49544905, 37571.44765658, 37582.98197104, 37594.5162855 ,\n",
       "           37606.05059995, 37608.93417857, 37617.58491441, 37640.65354333,\n",
       "           37643.53712194, 37646.42070056, 37649.30427917, 37652.18785779,\n",
       "           37660.83859363, 37663.72217225, 37669.48932947, 37695.441537  ,\n",
       "           37698.32511562, 37712.74300869, 37718.51016592, 37724.27732315,\n",
       "           37727.16090176, 37730.04448038, 37732.92805899, 37735.81163761,\n",
       "           37741.57879484, 37744.46237345, 37750.22953068, 37779.06531683,\n",
       "           37784.83247405, 37790.59963128, 37819.43541743, 37822.31899604,\n",
       "           37825.20257466, 37833.8533105 , 37842.50404635, 37854.0383608 ,\n",
       "           37856.92193942, 37859.80551803, 37874.2234111 , 37877.10698972,\n",
       "           37888.64130418, 37891.52488279, 37897.29204002, 37900.17561864,\n",
       "           37914.59351171, 37917.47709032, 37929.01140478, 37934.77856201,\n",
       "           37972.265084  , 37975.14866261, 37980.91581984, 37983.79939846,\n",
       "           37986.68297707, 37989.56655569, 37992.4501343 , 37995.33371291,\n",
       "           37998.21729153, 38001.10087014, 38006.86802737, 38015.51876322,\n",
       "           38021.28592045, 38024.16949906, 38027.05307767, 38032.8202349 ,\n",
       "           38035.70381352, 38038.58739213, 38050.12170659, 38099.14254304,\n",
       "           38104.90970027, 38107.79327888, 38159.69769394, 38165.46485117,\n",
       "           38176.99916563, 38185.64990147, 38188.53348009, 38194.30063732,\n",
       "           38208.71853039, 38217.36926623, 38234.67073792, 38249.08863099,\n",
       "           38260.62294545, 38269.27368129, 38275.04083852, 38280.80799575,\n",
       "           38286.57515298, 38289.4587316 , 38292.34231021, 38300.99304605,\n",
       "           38318.29451774, 38332.71241081, 38338.47956804, 38341.36314666,\n",
       "           38361.54819696, 38364.43177557, 38373.08251142, 38378.84966865,\n",
       "           38384.61682587, 38387.50040449, 38390.3839831 , 38404.80187618,\n",
       "           38410.5690334 , 38413.45261202, 38419.21976925, 38422.10334786,\n",
       "           38427.87050509, 38442.28839816, 38445.17197678, 38448.05555539,\n",
       "           38456.70629124, 38476.89134154, 38479.77492015, 38488.425656  ,\n",
       "           38497.07639184, 38505.72712768, 38508.6107063 , 38517.26144214,\n",
       "           38520.14502076, 38525.91217799, 38537.44649244, 38546.09722829,\n",
       "           38551.86438552, 38557.63154275, 38572.04943582, 38577.81659305,\n",
       "           38583.58375028, 38600.88522196, 38603.76880058, 38612.41953642,\n",
       "           38615.30311504, 38621.07027226, 38626.83742949, 38658.55679425,\n",
       "           38661.44037287, 38667.2075301 , 38675.85826594, 38681.62542317,\n",
       "           38690.27615901, 38698.92689486, 38701.81047347, 38716.22836654,\n",
       "           38724.87910239, 38730.64625962, 38742.18057407, 38745.06415269,\n",
       "           38747.9477313 , 38750.83130992, 38753.71488853, 38756.59846715,\n",
       "           38759.48204576, 38768.1327816 , 38771.01636022, 38773.89993883,\n",
       "           38776.78351745, 38779.66709606, 38788.31783191, 38808.50288221,\n",
       "           38814.27003944, 38817.15361805, 38822.92077528, 38825.8043539 ,\n",
       "           38828.68793251, 38840.22224697, 38845.9894042 , 38848.87298281,\n",
       "           38869.05803311, 38871.94161173, 38877.70876896, 38886.3595048 ,\n",
       "           38889.24308341, 38895.01024064, 38900.77739787, 38903.66097649,\n",
       "           38915.19529095, 38926.7296054 , 38932.49676263, 38941.14749848,\n",
       "           38972.86686324, 38975.75044185, 38978.63402046, 38984.40117769,\n",
       "           38987.28475631, 39004.586228  , 39010.35338522, 39013.23696384,\n",
       "           39021.88769968, 39027.65485691, 39030.53843553, 39036.30559275,\n",
       "           39039.18917137, 39050.72348583, 39053.60706444, 39059.37422167,\n",
       "           39065.1413789 , 39070.90853613, 39079.55927197, 39082.44285059,\n",
       "           39091.09358643, 39105.5114795 , 39114.16221535, 39122.81295119,\n",
       "           39151.64873734, 39166.06663041, 39168.95020902, 39177.60094487,\n",
       "           39183.3681021 , 39220.85462408, 39243.923253  , 39269.87546053,\n",
       "           39347.73208312, 39396.75291957, 39431.35586294, 39483.26027801,\n",
       "           39520.74679999, 39546.69900752, 39566.88405783, 39607.25415843,\n",
       "           39613.02131566, 39618.78847289, 39624.55563012, 39630.32278735,\n",
       "           39641.8571018 , 39650.50783765, 39659.15857349, 39687.99435964,\n",
       "           39702.41225271, 39708.17940994, 39739.8987747 , 39742.78235331,\n",
       "           39745.66593193, 39748.54951054, 39751.43308916, 39757.20024638,\n",
       "           39760.083825  , 39762.96740361, 39774.50171807, 39780.2688753 ,\n",
       "           39786.03603253, 39791.80318976, 39797.57034699, 39803.33750422,\n",
       "           39806.22108283, 39811.98824006, 39814.87181867, 39817.75539729,\n",
       "           39823.52255452, 39837.94044759, 39861.00907651, 39907.14633434,\n",
       "           39930.21496326, 40002.30442862, 40022.48947892, 40039.79095061,\n",
       "           40062.85957952, 40074.39389398, 40080.16105121, 40085.92820844,\n",
       "           40132.06546627, 40140.71620211, 40143.59978073, 40178.2027241 ,\n",
       "           40195.50419579, 40204.15493163, 40238.75787501, 40261.82650392,\n",
       "           40270.47723977, 40279.12797561, 40296.4294473 , 40305.08018314,\n",
       "           40307.96376176, 40319.49807621, 40328.14881206, 40339.68312652,\n",
       "           40362.75175543, 40377.16964851, 40382.93680573, 40391.58754158,\n",
       "           40394.47112019, 40403.12185604, 40406.00543465, 40434.8412208 ,\n",
       "           40440.60837802, 40443.49195664, 40469.44416417, 40486.74563586,\n",
       "           40527.11573646, 40535.7664723 , 40544.41720815, 40553.06794399,\n",
       "           40610.73951628, 40625.15740935, 40659.76035273, 40677.06182441,\n",
       "           40682.82898164, 40688.59613887, 40703.01403195, 40705.89761056,\n",
       "           40714.5483464 , 40728.96623948, 40731.84981809, 40740.50055393,\n",
       "           40743.38413255, 40780.87065454, 40783.75423315, 40789.52139038,\n",
       "           40801.05570484, 40809.70644068, 40812.5900193 , 40815.47359791,\n",
       "           40821.24075514, 40824.12433376, 40827.00791237, 40829.89149098,\n",
       "           40844.30938406, 40852.9601199 , 40861.61085574, 40864.49443436,\n",
       "           40873.1451702 , 40893.3302205 , 40901.98095635, 40904.86453496,\n",
       "           40907.74811358, 40913.51527081, 40922.16600665, 40925.04958526,\n",
       "           40956.76895002, 40968.30326448, 40974.07042171, 41005.78978647,\n",
       "           41011.5569437 , 41017.32410093, 41034.62557261, 41049.04346569,\n",
       "           41057.69420153, 41092.29714491, 41100.94788075, 41106.71503798,\n",
       "           41121.13293105, 41173.03734611, 41181.68808196, 41201.87313226,\n",
       "           41204.75671087, 41207.64028949, 41216.29102533, 41248.01039009,\n",
       "           41265.31186178, 41271.07901901, 41297.03122654, 41311.44911961,\n",
       "           41322.98343407, 41334.51774852, 41372.00427051, 41374.88784913,\n",
       "           41380.65500636, 41395.07289943, 41403.72363527, 41406.60721389,\n",
       "           41452.74447172, 41455.62805033, 41461.39520756, 41475.81310064,\n",
       "           41487.34741509, 41490.23099371, 41504.64888678, 41513.29962262,\n",
       "           41521.95035847, 41539.25183016, 41550.78614461, 41553.66972323,\n",
       "           41570.97119491, 41576.73835214, 41582.50550937, 41594.03982383,\n",
       "           41599.80698106, 41608.4577169 , 41611.34129552, 41622.87560998,\n",
       "           41657.47855335, 41660.36213196, 41669.01286781, 41674.78002504,\n",
       "           41683.43076088, 41686.3143395 , 41692.08149672, 41700.73223257,\n",
       "           41703.61581118, 41712.26654703, 41715.15012564, 41720.91728287,\n",
       "           41729.56801871, 41738.21875456, 41741.10233317, 41746.8694904 ,\n",
       "           41749.75306901, 41752.63664763, 41755.52022624, 41769.93811932,\n",
       "           41775.70527655, 41778.58885516, 41781.47243377, 41784.35601239,\n",
       "           41793.00674823, 41804.54106269, 41807.42464131, 41813.19179853,\n",
       "           41821.84253438, 41824.72611299, 41827.60969161, 41830.49327022,\n",
       "           41833.37684884, 41836.26042745, 41842.02758468, 41844.91116329,\n",
       "           41850.67832052, 41853.56189914, 41856.44547775, 41859.32905637,\n",
       "           41862.21263498, 41867.97979221, 41876.63052805, 41879.51410667,\n",
       "           41899.69915697, 41948.71999342, 41963.13788649, 41980.43935818,\n",
       "           41997.74082986, 42029.46019462, 42035.22735185, 42040.99450908,\n",
       "           42069.83029523, 42078.48103107, 42081.36460968, 42121.73471029,\n",
       "           42124.6182889 , 42133.26902475, 42153.45407505, 42167.87196812,\n",
       "           42179.40628258, 42196.70775426, 42211.12564734, 42216.89280457,\n",
       "           42248.61216933, 42260.14648378, 42265.91364101, 42274.56437686,\n",
       "           42277.44795547, 42297.63300577, 42312.05089885, 42317.81805607,\n",
       "           42358.18815668, 42381.25678559, 42433.16120066, 42456.22982957,\n",
       "           42476.41487987, 42496.59993017, 42525.43571632, 42536.97003078,\n",
       "           42542.73718801, 42583.10728861, 42585.99086722, 42594.64160307,\n",
       "           42611.94307476, 42632.12812506, 42643.66243951, 42658.08033259,\n",
       "           42701.33401181, 42707.10116903, 42721.51906211, 42730.16979795,\n",
       "           42738.82053379, 42750.35484825, 42761.88916271, 42764.77274132,\n",
       "           42796.49210608, 42799.3756847 , 42810.90999916, 42813.79357777,\n",
       "           42836.86220669, 42842.62936392, 42851.28009976, 42874.34872868,\n",
       "           42877.23230729, 42885.88304313, 42911.83525066, 42914.71882928,\n",
       "           42926.25314374, 42934.90387958, 42940.67103681, 42943.55461542,\n",
       "           42949.32177265, 42955.08892988, 42957.9725085 , 42960.85608711,\n",
       "           42963.73966573, 42966.62324434, 42972.39040157, 42978.1575588 ,\n",
       "           42983.92471603, 42986.80829464, 42989.69187326, 42998.3426091 ,\n",
       "           43001.22618771, 43004.10976633, 43006.99334494, 43015.64408079,\n",
       "           43027.17839525, 43035.82913109, 43064.66491723, 43067.54849585,\n",
       "           43070.43207446, 43081.96638892, 43096.38428199, 43099.26786061,\n",
       "           43102.15143922, 43110.80217507, 43116.5693323 , 43133.87080398,\n",
       "           43139.63796121, 43142.52153983, 43148.28869706, 43154.05585428,\n",
       "           43165.59016874, 43171.35732597, 43177.1244832 , 43191.54237627,\n",
       "           43194.42595489, 43203.07669073, 43214.61100519, 43217.4945838 ,\n",
       "           43249.21394856, 43263.63184164, 43306.88552085, 43324.18699254,\n",
       "           43329.95414977, 43355.9063573 , 43378.97498622, 43393.39287929,\n",
       "           43425.11224405, 43442.41371574, 43445.29729435, 43453.94803019,\n",
       "           43494.3181308 , 43502.96886664, 43508.73602387, 43523.15391694,\n",
       "           43528.92107417, 43537.57181001, 43551.98970309, 43566.40759616,\n",
       "           43569.29117477, 43580.82548923, 43609.66127538, 43618.31201122,\n",
       "           43621.19558984, 43632.72990429, 43644.26421875, 43664.44926905,\n",
       "           43673.1000049 , 43687.51789797, 43699.05221243, 43701.93579104,\n",
       "           43713.4701055 , 43748.07304887, 43753.8402061 , 43765.37452056,\n",
       "           43814.39535701, 43817.27893562, 43823.04609285, 43846.11472177,\n",
       "           43851.881879  , 43857.64903623, 43892.2519796 , 43900.90271544,\n",
       "           43906.66987267, 43918.20418713, 43967.22502358, 43978.75933804,\n",
       "           44010.4787028 , 44024.89659587, 44036.43091033, 44045.08164617,\n",
       "           44062.38311786, 44073.91743232, 44076.80101093, 44082.56816816,\n",
       "           44094.10248262, 44096.98606123, 44099.86963985, 44111.4039543 ,\n",
       "           44117.17111153, 44128.70542599, 44163.30836937, 44171.95910521,\n",
       "           44174.84268382, 44186.37699828, 44197.91131274, 44209.4456272 ,\n",
       "           44212.32920581, 44220.97994166, 44238.28141334, 44252.69930642,\n",
       "           44258.46646364, 44267.11719949, 44284.41867117, 44301.72014286,\n",
       "           44304.60372148, 44319.02161455, 44321.90519316, 44324.78877178,\n",
       "           44330.55592901, 44342.09024347, 44353.62455792, 44356.50813654,\n",
       "           44362.27529377, 44388.2275013 , 44396.87823714, 44408.4125516 ,\n",
       "           44414.17970883, 44417.06328744, 44428.5976019 , 44440.13191636,\n",
       "           44445.89907359, 44451.66623082, 44466.08412389, 44471.85128112,\n",
       "           44477.61843835, 44483.38559558, 44509.33780311, 44517.98853895,\n",
       "           44529.52285341, 44543.94074648, 44546.8243251 , 44549.70790371,\n",
       "           44558.35863955, 44561.24221817, 44575.66011124, 44584.31084708,\n",
       "           44587.1944257 , 44590.07800431, 44592.96158293, 44595.84516154,\n",
       "           44598.72874016, 44601.61231877, 44604.49589739, 44607.379476  ,\n",
       "           44610.26305462, 44613.14663323, 44616.03021184, 44618.91379046,\n",
       "           44621.79736907, 44624.68094769, 44627.5645263 , 44630.44810492,\n",
       "           44633.33168353, 44636.21526215, 44639.09884076, 44641.98241937,\n",
       "           44644.86599799, 44647.7495766 ])}}]}"
      ]
     },
     "execution_count": 20,
     "metadata": {},
     "output_type": "execute_result"
    }
   ],
   "source": [
    "segments = utils.extract_segments(ms)   \n",
    "segments"
   ]
  },
  {
   "cell_type": "code",
   "execution_count": 21,
   "metadata": {},
   "outputs": [
    {
     "data": {
      "image/png": "[encoded data removed]",
      "text/plain": [
       "<Figure size 1500x1000 with 7 Axes>"
      ]
     },
     "metadata": {},
     "output_type": "display_data"
    }
   ],
   "source": [
    "plots.plot_segments(segments, metric_per_segment)"
   ]
  },
  {
   "cell_type": "markdown",
   "metadata": {},
   "source": [
    "---\n",
    "\n",
    "## Other analysis\n",
    "\n",
    "### 1. Density of points in processed data\n"
   ]
  },
  {
   "cell_type": "code",
   "execution_count": 22,
   "metadata": {},
   "outputs": [],
   "source": [
    "width = 1 # meters\n",
    "\n",
    "density = analysis.calculate_density(x_processed, y_processed, bin_width=width)"
   ]
  },
  {
   "cell_type": "code",
   "execution_count": 23,
   "metadata": {},
   "outputs": [
    {
     "data": {
      "application/vnd.plotly.v1+json": {
       "config": {
        "plotlyServerURL": "https://plot.ly"
       },
       "data": [
        {
         "marker": {
          "color": "lightgreen",
          "line": {
           "color": "black",
           "width": 1
          }
         },
         "text": [
          153,
          119,
          71,
          83,
          127,
          185,
          186,
          289,
          285,
          247,
          218,
          157,
          229,
          305,
          193,
          128,
          220,
          182,
          147,
          230,
          263,
          324,
          237,
          210
         ],
         "textposition": "auto",
         "type": "bar",
         "x": [
          0.4791666666666667,
          1.4375,
          2.3958333333333335,
          3.354166666666667,
          4.3125,
          5.270833333333334,
          6.229166666666667,
          7.1875,
          8.145833333333334,
          9.104166666666668,
          10.0625,
          11.020833333333334,
          11.979166666666668,
          12.9375,
          13.895833333333334,
          14.854166666666668,
          15.8125,
          16.770833333333336,
          17.729166666666668,
          18.6875,
          19.645833333333336,
          20.604166666666668,
          21.5625,
          22.520833333333336
         ],
         "y": [
          153,
          119,
          71,
          83,
          127,
          185,
          186,
          289,
          285,
          247,
          218,
          157,
          229,
          305,
          193,
          128,
          220,
          182,
          147,
          230,
          263,
          324,
          237,
          210
         ]
        }
       ],
       "layout": {
        "bargap": 0.1,
        "template": {
         "data": {
          "bar": [
           {
            "error_x": {
             "color": "#2a3f5f"
            },
            "error_y": {
             "color": "#2a3f5f"
            },
            "marker": {
             "line": {
              "color": "white",
              "width": 0.5
             },
             "pattern": {
              "fillmode": "overlay",
              "size": 10,
              "solidity": 0.2
             }
            },
            "type": "bar"
           }
          ],
          "barpolar": [
           {
            "marker": {
             "line": {
              "color": "white",
              "width": 0.5
             },
             "pattern": {
              "fillmode": "overlay",
              "size": 10,
              "solidity": 0.2
             }
            },
            "type": "barpolar"
           }
          ],
          "carpet": [
           {
            "aaxis": {
             "endlinecolor": "#2a3f5f",
             "gridcolor": "#C8D4E3",
             "linecolor": "#C8D4E3",
             "minorgridcolor": "#C8D4E3",
             "startlinecolor": "#2a3f5f"
            },
            "baxis": {
             "endlinecolor": "#2a3f5f",
             "gridcolor": "#C8D4E3",
             "linecolor": "#C8D4E3",
             "minorgridcolor": "#C8D4E3",
             "startlinecolor": "#2a3f5f"
            },
            "type": "carpet"
           }
          ],
          "choropleth": [
           {
            "colorbar": {
             "outlinewidth": 0,
             "ticks": ""
            },
            "type": "choropleth"
           }
          ],
          "contour": [
           {
            "colorbar": {
             "outlinewidth": 0,
             "ticks": ""
            },
            "colorscale": [
             [
              0,
              "#0d0887"
             ],
             [
              0.1111111111111111,
              "#46039f"
             ],
             [
              0.2222222222222222,
              "#7201a8"
             ],
             [
              0.3333333333333333,
              "#9c179e"
             ],
             [
              0.4444444444444444,
              "#bd3786"
             ],
             [
              0.5555555555555556,
              "#d8576b"
             ],
             [
              0.6666666666666666,
              "#ed7953"
             ],
             [
              0.7777777777777778,
              "#fb9f3a"
             ],
             [
              0.8888888888888888,
              "#fdca26"
             ],
             [
              1,
              "#f0f921"
             ]
            ],
            "type": "contour"
           }
          ],
          "contourcarpet": [
           {
            "colorbar": {
             "outlinewidth": 0,
             "ticks": ""
            },
            "type": "contourcarpet"
           }
          ],
          "heatmap": [
           {
            "colorbar": {
             "outlinewidth": 0,
             "ticks": ""
            },
            "colorscale": [
             [
              0,
              "#0d0887"
             ],
             [
              0.1111111111111111,
              "#46039f"
             ],
             [
              0.2222222222222222,
              "#7201a8"
             ],
             [
              0.3333333333333333,
              "#9c179e"
             ],
             [
              0.4444444444444444,
              "#bd3786"
             ],
             [
              0.5555555555555556,
              "#d8576b"
             ],
             [
              0.6666666666666666,
              "#ed7953"
             ],
             [
              0.7777777777777778,
              "#fb9f3a"
             ],
             [
              0.8888888888888888,
              "#fdca26"
             ],
             [
              1,
              "#f0f921"
             ]
            ],
            "type": "heatmap"
           }
          ],
          "heatmapgl": [
           {
            "colorbar": {
             "outlinewidth": 0,
             "ticks": ""
            },
            "colorscale": [
             [
              0,
              "#0d0887"
             ],
             [
              0.1111111111111111,
              "#46039f"
             ],
             [
              0.2222222222222222,
              "#7201a8"
             ],
             [
              0.3333333333333333,
              "#9c179e"
             ],
             [
              0.4444444444444444,
              "#bd3786"
             ],
             [
              0.5555555555555556,
              "#d8576b"
             ],
             [
              0.6666666666666666,
              "#ed7953"
             ],
             [
              0.7777777777777778,
              "#fb9f3a"
             ],
             [
              0.8888888888888888,
              "#fdca26"
             ],
             [
              1,
              "#f0f921"
             ]
            ],
            "type": "heatmapgl"
           }
          ],
          "histogram": [
           {
            "marker": {
             "pattern": {
              "fillmode": "overlay",
              "size": 10,
              "solidity": 0.2
             }
            },
            "type": "histogram"
           }
          ],
          "histogram2d": [
           {
            "colorbar": {
             "outlinewidth": 0,
             "ticks": ""
            },
            "colorscale": [
             [
              0,
              "#0d0887"
             ],
             [
              0.1111111111111111,
              "#46039f"
             ],
             [
              0.2222222222222222,
              "#7201a8"
             ],
             [
              0.3333333333333333,
              "#9c179e"
             ],
             [
              0.4444444444444444,
              "#bd3786"
             ],
             [
              0.5555555555555556,
              "#d8576b"
             ],
             [
              0.6666666666666666,
              "#ed7953"
             ],
             [
              0.7777777777777778,
              "#fb9f3a"
             ],
             [
              0.8888888888888888,
              "#fdca26"
             ],
             [
              1,
              "#f0f921"
             ]
            ],
            "type": "histogram2d"
           }
          ],
          "histogram2dcontour": [
           {
            "colorbar": {
             "outlinewidth": 0,
             "ticks": ""
            },
            "colorscale": [
             [
              0,
              "#0d0887"
             ],
             [
              0.1111111111111111,
              "#46039f"
             ],
             [
              0.2222222222222222,
              "#7201a8"
             ],
             [
              0.3333333333333333,
              "#9c179e"
             ],
             [
              0.4444444444444444,
              "#bd3786"
             ],
             [
              0.5555555555555556,
              "#d8576b"
             ],
             [
              0.6666666666666666,
              "#ed7953"
             ],
             [
              0.7777777777777778,
              "#fb9f3a"
             ],
             [
              0.8888888888888888,
              "#fdca26"
             ],
             [
              1,
              "#f0f921"
             ]
            ],
            "type": "histogram2dcontour"
           }
          ],
          "mesh3d": [
           {
            "colorbar": {
             "outlinewidth": 0,
             "ticks": ""
            },
            "type": "mesh3d"
           }
          ],
          "parcoords": [
           {
            "line": {
             "colorbar": {
              "outlinewidth": 0,
              "ticks": ""
             }
            },
            "type": "parcoords"
           }
          ],
          "pie": [
           {
            "automargin": true,
            "type": "pie"
           }
          ],
          "scatter": [
           {
            "fillpattern": {
             "fillmode": "overlay",
             "size": 10,
             "solidity": 0.2
            },
            "type": "scatter"
           }
          ],
          "scatter3d": [
           {
            "line": {
             "colorbar": {
              "outlinewidth": 0,
              "ticks": ""
             }
            },
            "marker": {
             "colorbar": {
              "outlinewidth": 0,
              "ticks": ""
             }
            },
            "type": "scatter3d"
           }
          ],
          "scattercarpet": [
           {
            "marker": {
             "colorbar": {
              "outlinewidth": 0,
              "ticks": ""
             }
            },
            "type": "scattercarpet"
           }
          ],
          "scattergeo": [
           {
            "marker": {
             "colorbar": {
              "outlinewidth": 0,
              "ticks": ""
             }
            },
            "type": "scattergeo"
           }
          ],
          "scattergl": [
           {
            "marker": {
             "colorbar": {
              "outlinewidth": 0,
              "ticks": ""
             }
            },
            "type": "scattergl"
           }
          ],
          "scattermapbox": [
           {
            "marker": {
             "colorbar": {
              "outlinewidth": 0,
              "ticks": ""
             }
            },
            "type": "scattermapbox"
           }
          ],
          "scatterpolar": [
           {
            "marker": {
             "colorbar": {
              "outlinewidth": 0,
              "ticks": ""
             }
            },
            "type": "scatterpolar"
           }
          ],
          "scatterpolargl": [
           {
            "marker": {
             "colorbar": {
              "outlinewidth": 0,
              "ticks": ""
             }
            },
            "type": "scatterpolargl"
           }
          ],
          "scatterternary": [
           {
            "marker": {
             "colorbar": {
              "outlinewidth": 0,
              "ticks": ""
             }
            },
            "type": "scatterternary"
           }
          ],
          "surface": [
           {
            "colorbar": {
             "outlinewidth": 0,
             "ticks": ""
            },
            "colorscale": [
             [
              0,
              "#0d0887"
             ],
             [
              0.1111111111111111,
              "#46039f"
             ],
             [
              0.2222222222222222,
              "#7201a8"
             ],
             [
              0.3333333333333333,
              "#9c179e"
             ],
             [
              0.4444444444444444,
              "#bd3786"
             ],
             [
              0.5555555555555556,
              "#d8576b"
             ],
             [
              0.6666666666666666,
              "#ed7953"
             ],
             [
              0.7777777777777778,
              "#fb9f3a"
             ],
             [
              0.8888888888888888,
              "#fdca26"
             ],
             [
              1,
              "#f0f921"
             ]
            ],
            "type": "surface"
           }
          ],
          "table": [
           {
            "cells": {
             "fill": {
              "color": "#EBF0F8"
             },
             "line": {
              "color": "white"
             }
            },
            "header": {
             "fill": {
              "color": "#C8D4E3"
             },
             "line": {
              "color": "white"
             }
            },
            "type": "table"
           }
          ]
         },
         "layout": {
          "annotationdefaults": {
           "arrowcolor": "#2a3f5f",
           "arrowhead": 0,
           "arrowwidth": 1
          },
          "autotypenumbers": "strict",
          "coloraxis": {
           "colorbar": {
            "outlinewidth": 0,
            "ticks": ""
           }
          },
          "colorscale": {
           "diverging": [
            [
             0,
             "#8e0152"
            ],
            [
             0.1,
             "#c51b7d"
            ],
            [
             0.2,
             "#de77ae"
            ],
            [
             0.3,
             "#f1b6da"
            ],
            [
             0.4,
             "#fde0ef"
            ],
            [
             0.5,
             "#f7f7f7"
            ],
            [
             0.6,
             "#e6f5d0"
            ],
            [
             0.7,
             "#b8e186"
            ],
            [
             0.8,
             "#7fbc41"
            ],
            [
             0.9,
             "#4d9221"
            ],
            [
             1,
             "#276419"
            ]
           ],
           "sequential": [
            [
             0,
             "#0d0887"
            ],
            [
             0.1111111111111111,
             "#46039f"
            ],
            [
             0.2222222222222222,
             "#7201a8"
            ],
            [
             0.3333333333333333,
             "#9c179e"
            ],
            [
             0.4444444444444444,
             "#bd3786"
            ],
            [
             0.5555555555555556,
             "#d8576b"
            ],
            [
             0.6666666666666666,
             "#ed7953"
            ],
            [
             0.7777777777777778,
             "#fb9f3a"
            ],
            [
             0.8888888888888888,
             "#fdca26"
            ],
            [
             1,
             "#f0f921"
            ]
           ],
           "sequentialminus": [
            [
             0,
             "#0d0887"
            ],
            [
             0.1111111111111111,
             "#46039f"
            ],
            [
             0.2222222222222222,
             "#7201a8"
            ],
            [
             0.3333333333333333,
             "#9c179e"
            ],
            [
             0.4444444444444444,
             "#bd3786"
            ],
            [
             0.5555555555555556,
             "#d8576b"
            ],
            [
             0.6666666666666666,
             "#ed7953"
            ],
            [
             0.7777777777777778,
             "#fb9f3a"
            ],
            [
             0.8888888888888888,
             "#fdca26"
            ],
            [
             1,
             "#f0f921"
            ]
           ]
          },
          "colorway": [
           "#636efa",
           "#EF553B",
           "#00cc96",
           "#ab63fa",
           "#FFA15A",
           "#19d3f3",
           "#FF6692",
           "#B6E880",
           "#FF97FF",
           "#FECB52"
          ],
          "font": {
           "color": "#2a3f5f"
          },
          "geo": {
           "bgcolor": "white",
           "lakecolor": "white",
           "landcolor": "white",
           "showlakes": true,
           "showland": true,
           "subunitcolor": "#C8D4E3"
          },
          "hoverlabel": {
           "align": "left"
          },
          "hovermode": "closest",
          "mapbox": {
           "style": "light"
          },
          "paper_bgcolor": "white",
          "plot_bgcolor": "white",
          "polar": {
           "angularaxis": {
            "gridcolor": "#EBF0F8",
            "linecolor": "#EBF0F8",
            "ticks": ""
           },
           "bgcolor": "white",
           "radialaxis": {
            "gridcolor": "#EBF0F8",
            "linecolor": "#EBF0F8",
            "ticks": ""
           }
          },
          "scene": {
           "xaxis": {
            "backgroundcolor": "white",
            "gridcolor": "#DFE8F3",
            "gridwidth": 2,
            "linecolor": "#EBF0F8",
            "showbackground": true,
            "ticks": "",
            "zerolinecolor": "#EBF0F8"
           },
           "yaxis": {
            "backgroundcolor": "white",
            "gridcolor": "#DFE8F3",
            "gridwidth": 2,
            "linecolor": "#EBF0F8",
            "showbackground": true,
            "ticks": "",
            "zerolinecolor": "#EBF0F8"
           },
           "zaxis": {
            "backgroundcolor": "white",
            "gridcolor": "#DFE8F3",
            "gridwidth": 2,
            "linecolor": "#EBF0F8",
            "showbackground": true,
            "ticks": "",
            "zerolinecolor": "#EBF0F8"
           }
          },
          "shapedefaults": {
           "line": {
            "color": "#2a3f5f"
           }
          },
          "ternary": {
           "aaxis": {
            "gridcolor": "#DFE8F3",
            "linecolor": "#A2B1C6",
            "ticks": ""
           },
           "baxis": {
            "gridcolor": "#DFE8F3",
            "linecolor": "#A2B1C6",
            "ticks": ""
           },
           "bgcolor": "white",
           "caxis": {
            "gridcolor": "#DFE8F3",
            "linecolor": "#A2B1C6",
            "ticks": ""
           }
          },
          "title": {
           "x": 0.05
          },
          "xaxis": {
           "automargin": true,
           "gridcolor": "#EBF0F8",
           "linecolor": "#EBF0F8",
           "ticks": "",
           "title": {
            "standoff": 15
           },
           "zerolinecolor": "#EBF0F8",
           "zerolinewidth": 2
          },
          "yaxis": {
           "automargin": true,
           "gridcolor": "#EBF0F8",
           "linecolor": "#EBF0F8",
           "ticks": "",
           "title": {
            "standoff": 15
           },
           "zerolinecolor": "#EBF0F8",
           "zerolinewidth": 2
          }
         }
        },
        "title": {
         "text": "Densidad de datos a 1 metro(s)"
        },
        "xaxis": {
         "title": {
          "text": "Vertical Position [m]"
         }
        },
        "yaxis": {
         "title": {
          "text": "Frequency"
         }
        }
       }
      }
     },
     "metadata": {},
     "output_type": "display_data"
    }
   ],
   "source": [
    "# Graficar densidad\n",
    "plots.plot_histogram(density,\n",
    "            value_column='x_bin', \n",
    "            weight_column='frequency', \n",
    "            num_bins=len(density['x_bin']),\n",
    "            title=f'Densidad de datos a {width} metro(s)',\n",
    "            x_axis_title='Vertical Position [m]',\n",
    "            bar_color='lightgreen'\n",
    "            ) "
   ]
  }
 ],
 "metadata": {
  "kernelspec": {
   "display_name": "venv",
   "language": "python",
   "name": "python3"
  },
  "language_info": {
   "codemirror_mode": {
    "name": "ipython",
    "version": 3
   },
   "file_extension": ".py",
   "mimetype": "text/x-python",
   "name": "python",
   "nbconvert_exporter": "python",
   "pygments_lexer": "ipython3",
   "version": "3.12.4"
  }
 },
 "nbformat": 4,
 "nbformat_minor": 2
}
