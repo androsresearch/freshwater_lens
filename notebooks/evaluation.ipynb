{
 "cells": [
  {
   "cell_type": "markdown",
   "metadata": {},
   "source": [
    "# Evaluation of Segmented Linear Regression"
   ]
  },
  {
   "cell_type": "markdown",
   "metadata": {},
   "source": [
    "---\n",
    "\n",
    "### Import Libraries"
   ]
  },
  {
   "cell_type": "code",
   "execution_count": 1,
   "metadata": {},
   "outputs": [],
   "source": [
    "import sys\n",
    "import os\n",
    "root = os.path.abspath('..')  \n",
    "sys.path.append(root)\n",
    "\n",
    "import pandas as pd\n",
    "import numpy as np\n",
    "import matplotlib.pyplot as plt\n",
    "from piecewise_regression import r_squared_calc\n",
    "\n",
    "\n",
    "from modules import load, plots, analysis, utils\n",
    "\n",
    "# styles\n",
    "plt.style.use('seaborn-v0_8-white')"
   ]
  },
  {
   "cell_type": "markdown",
   "metadata": {},
   "source": [
    "---\n",
    "\n",
    "### Load data"
   ]
  },
  {
   "cell_type": "code",
   "execution_count": 2,
   "metadata": {},
   "outputs": [],
   "source": [
    "# Inputs\n",
    "name = 'BW5D_YSI_20230822'"
   ]
  },
  {
   "cell_type": "code",
   "execution_count": 3,
   "metadata": {},
   "outputs": [
    {
     "data": {
      "text/html": [
       "<div>\n",
       "<style scoped>\n",
       "    .dataframe tbody tr th:only-of-type {\n",
       "        vertical-align: middle;\n",
       "    }\n",
       "\n",
       "    .dataframe tbody tr th {\n",
       "        vertical-align: top;\n",
       "    }\n",
       "\n",
       "    .dataframe thead th {\n",
       "        text-align: right;\n",
       "    }\n",
       "</style>\n",
       "<table border=\"1\" class=\"dataframe\">\n",
       "  <thead>\n",
       "    <tr style=\"text-align: right;\">\n",
       "      <th></th>\n",
       "      <th>trial_1</th>\n",
       "      <th>trial_2</th>\n",
       "      <th>trial_3</th>\n",
       "      <th>trial_4</th>\n",
       "      <th>trial_5</th>\n",
       "    </tr>\n",
       "  </thead>\n",
       "  <tbody>\n",
       "    <tr>\n",
       "      <th>df</th>\n",
       "      <td>{'bic': {'0': 93804.3535159611, '1': 89367.769...</td>\n",
       "      <td>{'bic': {'0': 93804.3535159611, '1': 89367.769...</td>\n",
       "      <td>{'bic': {'0': 93804.3535159611, '1': 89367.769...</td>\n",
       "      <td>{'bic': {'0': 93804.3535159611, '1': 89367.769...</td>\n",
       "      <td>{'bic': {'0': 93804.3535159611, '1': 89367.769...</td>\n",
       "    </tr>\n",
       "    <tr>\n",
       "      <th>best_n_breakpoint_bic</th>\n",
       "      <td>2</td>\n",
       "      <td>2</td>\n",
       "      <td>2</td>\n",
       "      <td>2</td>\n",
       "      <td>2</td>\n",
       "    </tr>\n",
       "    <tr>\n",
       "      <th>min_bic_n_breakpoint</th>\n",
       "      <td>10</td>\n",
       "      <td>8</td>\n",
       "      <td>10</td>\n",
       "      <td>9</td>\n",
       "      <td>9</td>\n",
       "    </tr>\n",
       "    <tr>\n",
       "      <th>best_n_breakpoint_rss</th>\n",
       "      <td>2</td>\n",
       "      <td>2</td>\n",
       "      <td>2</td>\n",
       "      <td>2</td>\n",
       "      <td>2</td>\n",
       "    </tr>\n",
       "  </tbody>\n",
       "</table>\n",
       "</div>"
      ],
      "text/plain": [
       "                                                                 trial_1  \\\n",
       "df                     {'bic': {'0': 93804.3535159611, '1': 89367.769...   \n",
       "best_n_breakpoint_bic                                                  2   \n",
       "min_bic_n_breakpoint                                                  10   \n",
       "best_n_breakpoint_rss                                                  2   \n",
       "\n",
       "                                                                 trial_2  \\\n",
       "df                     {'bic': {'0': 93804.3535159611, '1': 89367.769...   \n",
       "best_n_breakpoint_bic                                                  2   \n",
       "min_bic_n_breakpoint                                                   8   \n",
       "best_n_breakpoint_rss                                                  2   \n",
       "\n",
       "                                                                 trial_3  \\\n",
       "df                     {'bic': {'0': 93804.3535159611, '1': 89367.769...   \n",
       "best_n_breakpoint_bic                                                  2   \n",
       "min_bic_n_breakpoint                                                  10   \n",
       "best_n_breakpoint_rss                                                  2   \n",
       "\n",
       "                                                                 trial_4  \\\n",
       "df                     {'bic': {'0': 93804.3535159611, '1': 89367.769...   \n",
       "best_n_breakpoint_bic                                                  2   \n",
       "min_bic_n_breakpoint                                                   9   \n",
       "best_n_breakpoint_rss                                                  2   \n",
       "\n",
       "                                                                 trial_5  \n",
       "df                     {'bic': {'0': 93804.3535159611, '1': 89367.769...  \n",
       "best_n_breakpoint_bic                                                  2  \n",
       "min_bic_n_breakpoint                                                   9  \n",
       "best_n_breakpoint_rss                                                  2  "
      ]
     },
     "execution_count": 3,
     "metadata": {},
     "output_type": "execute_result"
    }
   ],
   "source": [
    "path_json = f'../data/results/{name}_results.json'\n",
    "\n",
    "df = load.load_data(filepath=path_json, json=True)\n",
    "df\n"
   ]
  },
  {
   "cell_type": "code",
   "execution_count": 4,
   "metadata": {},
   "outputs": [],
   "source": [
    "path_processed = f'../data/processed/{name}_processed.csv'\n",
    "\n",
    "x_processed, y_processed = load.load_data(filepath=path_processed, \n",
    "                            x_col='Vertical Position [m]',\n",
    "                            y_col='Corrected sp Cond [uS/cm]'\n",
    "                            )"
   ]
  },
  {
   "cell_type": "markdown",
   "metadata": {},
   "source": [
    "---\n",
    "\n",
    "### Optimal `n_breakpoint`"
   ]
  },
  {
   "cell_type": "code",
   "execution_count": 5,
   "metadata": {},
   "outputs": [],
   "source": [
    "trial = analysis.select_best_trial(path_json)\n",
    "\n",
    "trial_select = df[trial[0]]\n",
    "N_BREAKPOINT = df.loc['best_n_breakpoint_bic'].mode().iloc[0] # alternative, select 'best_n_breakpoint_rss'"
   ]
  },
  {
   "cell_type": "code",
   "execution_count": 6,
   "metadata": {},
   "outputs": [
    {
     "data": {
      "application/vnd.plotly.v1+json": {
       "config": {
        "plotlyServerURL": "https://plot.ly"
       },
       "data": [
        {
         "mode": "lines+markers",
         "name": "BIC (n = 11)",
         "type": "scatter",
         "x": [
          0,
          1,
          2,
          3,
          4,
          5,
          6,
          7,
          8,
          9,
          10
         ],
         "xaxis": "x",
         "y": [
          93804.3535159611,
          89367.7694696919,
          71653.488856534,
          68644.5944167152,
          65109.0771814109,
          62012.3067035837,
          59168.4912440233,
          58071.9996649465,
          57493.2610924375,
          57442.4359103656,
          54709.0191308535
         ],
         "yaxis": "y"
        },
        {
         "mode": "lines+markers",
         "name": "RSS (n = 11)",
         "type": "scatter",
         "x": [
          0,
          1,
          2,
          3,
          4,
          5,
          6,
          7,
          8,
          9,
          10
         ],
         "xaxis": "x",
         "y": [
          421844490345.7678,
          177565783781.1801,
          5665240360.248694,
          3146959035.2155743,
          1578077641.8858361,
          861759929.0647343,
          494297152.5778502,
          398130937.66216123,
          354609854.28619665,
          349961317.97236294,
          205086510.4493275
         ],
         "yaxis": "y2"
        }
       ],
       "layout": {
        "font": {
         "color": "black",
         "family": "Arial, sans-serif",
         "size": 14
        },
        "legend": {
         "bgcolor": "rgba(255, 255, 255, 0.8)",
         "bordercolor": "black",
         "borderwidth": 1,
         "x": 0.01,
         "xanchor": "left",
         "y": 0.99,
         "yanchor": "top"
        },
        "margin": {
         "b": 50,
         "l": 50,
         "r": 50,
         "t": 50
        },
        "template": {
         "data": {
          "bar": [
           {
            "error_x": {
             "color": "#2a3f5f"
            },
            "error_y": {
             "color": "#2a3f5f"
            },
            "marker": {
             "line": {
              "color": "white",
              "width": 0.5
             },
             "pattern": {
              "fillmode": "overlay",
              "size": 10,
              "solidity": 0.2
             }
            },
            "type": "bar"
           }
          ],
          "barpolar": [
           {
            "marker": {
             "line": {
              "color": "white",
              "width": 0.5
             },
             "pattern": {
              "fillmode": "overlay",
              "size": 10,
              "solidity": 0.2
             }
            },
            "type": "barpolar"
           }
          ],
          "carpet": [
           {
            "aaxis": {
             "endlinecolor": "#2a3f5f",
             "gridcolor": "#C8D4E3",
             "linecolor": "#C8D4E3",
             "minorgridcolor": "#C8D4E3",
             "startlinecolor": "#2a3f5f"
            },
            "baxis": {
             "endlinecolor": "#2a3f5f",
             "gridcolor": "#C8D4E3",
             "linecolor": "#C8D4E3",
             "minorgridcolor": "#C8D4E3",
             "startlinecolor": "#2a3f5f"
            },
            "type": "carpet"
           }
          ],
          "choropleth": [
           {
            "colorbar": {
             "outlinewidth": 0,
             "ticks": ""
            },
            "type": "choropleth"
           }
          ],
          "contour": [
           {
            "colorbar": {
             "outlinewidth": 0,
             "ticks": ""
            },
            "colorscale": [
             [
              0,
              "#0d0887"
             ],
             [
              0.1111111111111111,
              "#46039f"
             ],
             [
              0.2222222222222222,
              "#7201a8"
             ],
             [
              0.3333333333333333,
              "#9c179e"
             ],
             [
              0.4444444444444444,
              "#bd3786"
             ],
             [
              0.5555555555555556,
              "#d8576b"
             ],
             [
              0.6666666666666666,
              "#ed7953"
             ],
             [
              0.7777777777777778,
              "#fb9f3a"
             ],
             [
              0.8888888888888888,
              "#fdca26"
             ],
             [
              1,
              "#f0f921"
             ]
            ],
            "type": "contour"
           }
          ],
          "contourcarpet": [
           {
            "colorbar": {
             "outlinewidth": 0,
             "ticks": ""
            },
            "type": "contourcarpet"
           }
          ],
          "heatmap": [
           {
            "colorbar": {
             "outlinewidth": 0,
             "ticks": ""
            },
            "colorscale": [
             [
              0,
              "#0d0887"
             ],
             [
              0.1111111111111111,
              "#46039f"
             ],
             [
              0.2222222222222222,
              "#7201a8"
             ],
             [
              0.3333333333333333,
              "#9c179e"
             ],
             [
              0.4444444444444444,
              "#bd3786"
             ],
             [
              0.5555555555555556,
              "#d8576b"
             ],
             [
              0.6666666666666666,
              "#ed7953"
             ],
             [
              0.7777777777777778,
              "#fb9f3a"
             ],
             [
              0.8888888888888888,
              "#fdca26"
             ],
             [
              1,
              "#f0f921"
             ]
            ],
            "type": "heatmap"
           }
          ],
          "heatmapgl": [
           {
            "colorbar": {
             "outlinewidth": 0,
             "ticks": ""
            },
            "colorscale": [
             [
              0,
              "#0d0887"
             ],
             [
              0.1111111111111111,
              "#46039f"
             ],
             [
              0.2222222222222222,
              "#7201a8"
             ],
             [
              0.3333333333333333,
              "#9c179e"
             ],
             [
              0.4444444444444444,
              "#bd3786"
             ],
             [
              0.5555555555555556,
              "#d8576b"
             ],
             [
              0.6666666666666666,
              "#ed7953"
             ],
             [
              0.7777777777777778,
              "#fb9f3a"
             ],
             [
              0.8888888888888888,
              "#fdca26"
             ],
             [
              1,
              "#f0f921"
             ]
            ],
            "type": "heatmapgl"
           }
          ],
          "histogram": [
           {
            "marker": {
             "pattern": {
              "fillmode": "overlay",
              "size": 10,
              "solidity": 0.2
             }
            },
            "type": "histogram"
           }
          ],
          "histogram2d": [
           {
            "colorbar": {
             "outlinewidth": 0,
             "ticks": ""
            },
            "colorscale": [
             [
              0,
              "#0d0887"
             ],
             [
              0.1111111111111111,
              "#46039f"
             ],
             [
              0.2222222222222222,
              "#7201a8"
             ],
             [
              0.3333333333333333,
              "#9c179e"
             ],
             [
              0.4444444444444444,
              "#bd3786"
             ],
             [
              0.5555555555555556,
              "#d8576b"
             ],
             [
              0.6666666666666666,
              "#ed7953"
             ],
             [
              0.7777777777777778,
              "#fb9f3a"
             ],
             [
              0.8888888888888888,
              "#fdca26"
             ],
             [
              1,
              "#f0f921"
             ]
            ],
            "type": "histogram2d"
           }
          ],
          "histogram2dcontour": [
           {
            "colorbar": {
             "outlinewidth": 0,
             "ticks": ""
            },
            "colorscale": [
             [
              0,
              "#0d0887"
             ],
             [
              0.1111111111111111,
              "#46039f"
             ],
             [
              0.2222222222222222,
              "#7201a8"
             ],
             [
              0.3333333333333333,
              "#9c179e"
             ],
             [
              0.4444444444444444,
              "#bd3786"
             ],
             [
              0.5555555555555556,
              "#d8576b"
             ],
             [
              0.6666666666666666,
              "#ed7953"
             ],
             [
              0.7777777777777778,
              "#fb9f3a"
             ],
             [
              0.8888888888888888,
              "#fdca26"
             ],
             [
              1,
              "#f0f921"
             ]
            ],
            "type": "histogram2dcontour"
           }
          ],
          "mesh3d": [
           {
            "colorbar": {
             "outlinewidth": 0,
             "ticks": ""
            },
            "type": "mesh3d"
           }
          ],
          "parcoords": [
           {
            "line": {
             "colorbar": {
              "outlinewidth": 0,
              "ticks": ""
             }
            },
            "type": "parcoords"
           }
          ],
          "pie": [
           {
            "automargin": true,
            "type": "pie"
           }
          ],
          "scatter": [
           {
            "fillpattern": {
             "fillmode": "overlay",
             "size": 10,
             "solidity": 0.2
            },
            "type": "scatter"
           }
          ],
          "scatter3d": [
           {
            "line": {
             "colorbar": {
              "outlinewidth": 0,
              "ticks": ""
             }
            },
            "marker": {
             "colorbar": {
              "outlinewidth": 0,
              "ticks": ""
             }
            },
            "type": "scatter3d"
           }
          ],
          "scattercarpet": [
           {
            "marker": {
             "colorbar": {
              "outlinewidth": 0,
              "ticks": ""
             }
            },
            "type": "scattercarpet"
           }
          ],
          "scattergeo": [
           {
            "marker": {
             "colorbar": {
              "outlinewidth": 0,
              "ticks": ""
             }
            },
            "type": "scattergeo"
           }
          ],
          "scattergl": [
           {
            "marker": {
             "colorbar": {
              "outlinewidth": 0,
              "ticks": ""
             }
            },
            "type": "scattergl"
           }
          ],
          "scattermapbox": [
           {
            "marker": {
             "colorbar": {
              "outlinewidth": 0,
              "ticks": ""
             }
            },
            "type": "scattermapbox"
           }
          ],
          "scatterpolar": [
           {
            "marker": {
             "colorbar": {
              "outlinewidth": 0,
              "ticks": ""
             }
            },
            "type": "scatterpolar"
           }
          ],
          "scatterpolargl": [
           {
            "marker": {
             "colorbar": {
              "outlinewidth": 0,
              "ticks": ""
             }
            },
            "type": "scatterpolargl"
           }
          ],
          "scatterternary": [
           {
            "marker": {
             "colorbar": {
              "outlinewidth": 0,
              "ticks": ""
             }
            },
            "type": "scatterternary"
           }
          ],
          "surface": [
           {
            "colorbar": {
             "outlinewidth": 0,
             "ticks": ""
            },
            "colorscale": [
             [
              0,
              "#0d0887"
             ],
             [
              0.1111111111111111,
              "#46039f"
             ],
             [
              0.2222222222222222,
              "#7201a8"
             ],
             [
              0.3333333333333333,
              "#9c179e"
             ],
             [
              0.4444444444444444,
              "#bd3786"
             ],
             [
              0.5555555555555556,
              "#d8576b"
             ],
             [
              0.6666666666666666,
              "#ed7953"
             ],
             [
              0.7777777777777778,
              "#fb9f3a"
             ],
             [
              0.8888888888888888,
              "#fdca26"
             ],
             [
              1,
              "#f0f921"
             ]
            ],
            "type": "surface"
           }
          ],
          "table": [
           {
            "cells": {
             "fill": {
              "color": "#EBF0F8"
             },
             "line": {
              "color": "white"
             }
            },
            "header": {
             "fill": {
              "color": "#C8D4E3"
             },
             "line": {
              "color": "white"
             }
            },
            "type": "table"
           }
          ]
         },
         "layout": {
          "annotationdefaults": {
           "arrowcolor": "#2a3f5f",
           "arrowhead": 0,
           "arrowwidth": 1
          },
          "autotypenumbers": "strict",
          "coloraxis": {
           "colorbar": {
            "outlinewidth": 0,
            "ticks": ""
           }
          },
          "colorscale": {
           "diverging": [
            [
             0,
             "#8e0152"
            ],
            [
             0.1,
             "#c51b7d"
            ],
            [
             0.2,
             "#de77ae"
            ],
            [
             0.3,
             "#f1b6da"
            ],
            [
             0.4,
             "#fde0ef"
            ],
            [
             0.5,
             "#f7f7f7"
            ],
            [
             0.6,
             "#e6f5d0"
            ],
            [
             0.7,
             "#b8e186"
            ],
            [
             0.8,
             "#7fbc41"
            ],
            [
             0.9,
             "#4d9221"
            ],
            [
             1,
             "#276419"
            ]
           ],
           "sequential": [
            [
             0,
             "#0d0887"
            ],
            [
             0.1111111111111111,
             "#46039f"
            ],
            [
             0.2222222222222222,
             "#7201a8"
            ],
            [
             0.3333333333333333,
             "#9c179e"
            ],
            [
             0.4444444444444444,
             "#bd3786"
            ],
            [
             0.5555555555555556,
             "#d8576b"
            ],
            [
             0.6666666666666666,
             "#ed7953"
            ],
            [
             0.7777777777777778,
             "#fb9f3a"
            ],
            [
             0.8888888888888888,
             "#fdca26"
            ],
            [
             1,
             "#f0f921"
            ]
           ],
           "sequentialminus": [
            [
             0,
             "#0d0887"
            ],
            [
             0.1111111111111111,
             "#46039f"
            ],
            [
             0.2222222222222222,
             "#7201a8"
            ],
            [
             0.3333333333333333,
             "#9c179e"
            ],
            [
             0.4444444444444444,
             "#bd3786"
            ],
            [
             0.5555555555555556,
             "#d8576b"
            ],
            [
             0.6666666666666666,
             "#ed7953"
            ],
            [
             0.7777777777777778,
             "#fb9f3a"
            ],
            [
             0.8888888888888888,
             "#fdca26"
            ],
            [
             1,
             "#f0f921"
            ]
           ]
          },
          "colorway": [
           "#636efa",
           "#EF553B",
           "#00cc96",
           "#ab63fa",
           "#FFA15A",
           "#19d3f3",
           "#FF6692",
           "#B6E880",
           "#FF97FF",
           "#FECB52"
          ],
          "font": {
           "color": "#2a3f5f"
          },
          "geo": {
           "bgcolor": "white",
           "lakecolor": "white",
           "landcolor": "white",
           "showlakes": true,
           "showland": true,
           "subunitcolor": "#C8D4E3"
          },
          "hoverlabel": {
           "align": "left"
          },
          "hovermode": "closest",
          "mapbox": {
           "style": "light"
          },
          "paper_bgcolor": "white",
          "plot_bgcolor": "white",
          "polar": {
           "angularaxis": {
            "gridcolor": "#EBF0F8",
            "linecolor": "#EBF0F8",
            "ticks": ""
           },
           "bgcolor": "white",
           "radialaxis": {
            "gridcolor": "#EBF0F8",
            "linecolor": "#EBF0F8",
            "ticks": ""
           }
          },
          "scene": {
           "xaxis": {
            "backgroundcolor": "white",
            "gridcolor": "#DFE8F3",
            "gridwidth": 2,
            "linecolor": "#EBF0F8",
            "showbackground": true,
            "ticks": "",
            "zerolinecolor": "#EBF0F8"
           },
           "yaxis": {
            "backgroundcolor": "white",
            "gridcolor": "#DFE8F3",
            "gridwidth": 2,
            "linecolor": "#EBF0F8",
            "showbackground": true,
            "ticks": "",
            "zerolinecolor": "#EBF0F8"
           },
           "zaxis": {
            "backgroundcolor": "white",
            "gridcolor": "#DFE8F3",
            "gridwidth": 2,
            "linecolor": "#EBF0F8",
            "showbackground": true,
            "ticks": "",
            "zerolinecolor": "#EBF0F8"
           }
          },
          "shapedefaults": {
           "line": {
            "color": "#2a3f5f"
           }
          },
          "ternary": {
           "aaxis": {
            "gridcolor": "#DFE8F3",
            "linecolor": "#A2B1C6",
            "ticks": ""
           },
           "baxis": {
            "gridcolor": "#DFE8F3",
            "linecolor": "#A2B1C6",
            "ticks": ""
           },
           "bgcolor": "white",
           "caxis": {
            "gridcolor": "#DFE8F3",
            "linecolor": "#A2B1C6",
            "ticks": ""
           }
          },
          "title": {
           "x": 0.05
          },
          "xaxis": {
           "automargin": true,
           "gridcolor": "#EBF0F8",
           "linecolor": "#EBF0F8",
           "ticks": "",
           "title": {
            "standoff": 15
           },
           "zerolinecolor": "#EBF0F8",
           "zerolinewidth": 2
          },
          "yaxis": {
           "automargin": true,
           "gridcolor": "#EBF0F8",
           "linecolor": "#EBF0F8",
           "ticks": "",
           "title": {
            "standoff": 15
           },
           "zerolinecolor": "#EBF0F8",
           "zerolinewidth": 2
          }
         }
        },
        "title": {
         "text": "",
         "x": 0.5,
         "xanchor": "center",
         "y": 0.95,
         "yanchor": "top"
        },
        "xaxis": {
         "anchor": "y",
         "domain": [
          0,
          0.94
         ],
         "gridcolor": "LightGray",
         "gridwidth": 0.5,
         "showgrid": true,
         "title": {
          "text": "Number Breakpoints"
         },
         "zeroline": true,
         "zerolinecolor": "Gray",
         "zerolinewidth": 1
        },
        "yaxis": {
         "anchor": "x",
         "domain": [
          0,
          1
         ],
         "gridcolor": "LightGray",
         "gridwidth": 0.5,
         "showgrid": true,
         "title": {
          "text": "BIC"
         },
         "zeroline": true,
         "zerolinecolor": "Gray",
         "zerolinewidth": 1
        },
        "yaxis2": {
         "anchor": "x",
         "gridcolor": "LightGray",
         "gridwidth": 0.5,
         "overlaying": "y",
         "showgrid": true,
         "side": "right",
         "title": {
          "text": "RSS"
         },
         "zeroline": true,
         "zerolinecolor": "Gray",
         "zerolinewidth": 1
        }
       }
      }
     },
     "metadata": {},
     "output_type": "display_data"
    }
   ],
   "source": [
    "# Elbow plot\n",
    "\n",
    "x_values = np.array(list(trial_select['df']['n_breakpoints'].values()))\n",
    "y_values = np.array(list(trial_select['df']['bic'].values()))\n",
    "secondary_x = np.array(list(trial_select['df']['n_breakpoints'].values()))\n",
    "secondary_y = np.array(list(trial_select['df']['rss'].values()))\n",
    "\n",
    "plots.plot_data(\n",
    "    x_values=x_values,\n",
    "    y_values=y_values,\n",
    "    plot_mode='lines+markers',\n",
    "    x_axis_label=\"Number Breakpoints\",\n",
    "    y_axis_label=\"BIC\",\n",
    "    secondary_x=secondary_x,\n",
    "    secondary_y=secondary_y,\n",
    "    use_secondary_axis=True,\n",
    "    y2_axis_label=\"RSS\",\n",
    "    trace_names=['BIC', 'RSS']\n",
    ")"
   ]
  },
  {
   "cell_type": "markdown",
   "metadata": {},
   "source": [
    "---\n",
    "\n",
    "### Evaluation"
   ]
  },
  {
   "cell_type": "code",
   "execution_count": null,
   "metadata": {},
   "outputs": [
    {
     "data": {
      "text/plain": [
       "{'bic': 54709.0191308535,\n",
       " 'n_breakpoints': 10,\n",
       " 'estimates': {'const': {'estimate': 1320.8844336362,\n",
       "   'se': 31.6982841314,\n",
       "   'confidence_interval': [1258.7422623889, 1383.0266048835],\n",
       "   't_stat': 41.6705342208,\n",
       "   'p_t': 0.0},\n",
       "  'beta1': {'estimate': -4701.321304967,\n",
       "   'se': 72.3233615973,\n",
       "   'confidence_interval': [-4843.1059739078, -4559.5366360261],\n",
       "   't_stat': -65.0041867681,\n",
       "   'p_t': '-'},\n",
       "  'breakpoint1': {'estimate': 0.8624141556,\n",
       "   'se': 0.0090882927,\n",
       "   'confidence_interval': [0.8445972214, 0.8802310897000001],\n",
       "   't_stat': '-',\n",
       "   'p_t': '-'},\n",
       "  'beta2': {'estimate': 583.0287996452,\n",
       "   'se': 11.4103977423,\n",
       "   'confidence_interval': [560.6595481248, 605.3980511656],\n",
       "   't_stat': 51.0962731375,\n",
       "   'p_t': '-'},\n",
       "  'breakpoint2': {'estimate': 4.7235904303,\n",
       "   'se': 0.0411931343,\n",
       "   'confidence_interval': [4.6428342987, 4.8043465619],\n",
       "   't_stat': '-',\n",
       "   'p_t': '-'},\n",
       "  'beta3': {'estimate': 1047.4050597726,\n",
       "   'se': 10.4628111645,\n",
       "   'confidence_interval': [1026.8934825395, 1067.9166370056],\n",
       "   't_stat': 100.1074226898,\n",
       "   'p_t': '-'},\n",
       "  'breakpoint3': {'estimate': 8.120192035,\n",
       "   'se': 0.0215937606,\n",
       "   'confidence_interval': [8.0778590443, 8.1625250258],\n",
       "   't_stat': '-',\n",
       "   'p_t': '-'},\n",
       "  'beta4': {'estimate': 14598.8266969629,\n",
       "   'se': 80.5820675651,\n",
       "   'confidence_interval': [14440.8514380706, 14756.8019558552],\n",
       "   't_stat': 181.1671894018,\n",
       "   'p_t': '-'},\n",
       "  'breakpoint4': {'estimate': 12.5381989557,\n",
       "   'se': 0.0028302514,\n",
       "   'confidence_interval': [12.5326504545, 12.5437474569],\n",
       "   't_stat': '-',\n",
       "   'p_t': '-'},\n",
       "  'beta5': {'estimate': -7350.5816131522,\n",
       "   'se': 86.9255195934,\n",
       "   'confidence_interval': [-7520.9927465103, -7180.1704797941],\n",
       "   't_stat': -84.5618369328,\n",
       "   'p_t': '-'},\n",
       "  'breakpoint5': {'estimate': 13.3171737459,\n",
       "   'se': 0.0057960076,\n",
       "   'confidence_interval': [13.3058110962, 13.3285363955],\n",
       "   't_stat': '-',\n",
       "   'p_t': '-'},\n",
       "  'beta6': {'estimate': -3068.5475429746,\n",
       "   'se': 38.000372179,\n",
       "   'confidence_interval': [-3143.0444976243, -2994.0505883248],\n",
       "   't_stat': -80.750460246,\n",
       "   'p_t': '-'},\n",
       "  'breakpoint6': {'estimate': 14.6249458117,\n",
       "   'se': 0.0108575723,\n",
       "   'confidence_interval': [14.6036603342, 14.6462312893],\n",
       "   't_stat': '-',\n",
       "   'p_t': '-'},\n",
       "  'beta7': {'estimate': -4845.4438125966,\n",
       "   'se': 23.3452086085,\n",
       "   'confidence_interval': [-4891.2103892712, -4799.6772359221],\n",
       "   't_stat': -207.5562439327,\n",
       "   'p_t': '-'},\n",
       "  'breakpoint7': {'estimate': 16.6246180404,\n",
       "   'se': 0.005926560500000001,\n",
       "   'confidence_interval': [16.6129994513, 16.6362366295],\n",
       "   't_stat': '-',\n",
       "   'p_t': '-'},\n",
       "  'beta8': {'estimate': -801.6285892095,\n",
       "   'se': 15.7643544549,\n",
       "   'confidence_interval': [-832.5334549138, -770.7237235051],\n",
       "   't_stat': -50.8507082547,\n",
       "   'p_t': '-'},\n",
       "  'breakpoint8': {'estimate': 19.2633907018,\n",
       "   'se': 0.0355098488,\n",
       "   'confidence_interval': [19.1937762363, 19.3330051672],\n",
       "   't_stat': '-',\n",
       "   'p_t': '-'},\n",
       "  'beta9': {'estimate': -212.8065433389,\n",
       "   'se': 7.0217314116,\n",
       "   'confidence_interval': [-226.5721350038, -199.040951674],\n",
       "   't_stat': -30.3068475374,\n",
       "   'p_t': '-'},\n",
       "  'breakpoint9': {'estimate': 23.6223381278,\n",
       "   'se': 0.09413998950000001,\n",
       "   'confidence_interval': [23.437783553, 23.8068927026],\n",
       "   't_stat': '-',\n",
       "   'p_t': '-'},\n",
       "  'beta10': {'estimate': 134.6626300391,\n",
       "   'se': 18.0101387296,\n",
       "   'confidence_interval': [99.3550682643, 169.970191814],\n",
       "   't_stat': 7.477045683,\n",
       "   'p_t': '-'},\n",
       "  'breakpoint10': {'estimate': 32.1317221519,\n",
       "   'se': 0.193759483,\n",
       "   'confidence_interval': [31.751870835, 32.5115734688],\n",
       "   't_stat': '-',\n",
       "   'p_t': '-'},\n",
       "  'alpha1': {'estimate': 4747.7841749459,\n",
       "   'se': 71.8982051435,\n",
       "   'confidence_interval': [4606.8329941853, 4888.7353557066],\n",
       "   't_stat': 66.0348080382,\n",
       "   'p_t': 0.0},\n",
       "  'alpha2': {'estimate': 46.462869979,\n",
       "   'se': 7.8304999760000005,\n",
       "   'confidence_interval': [31.1117466045, 61.8139933534],\n",
       "   't_stat': 5.9335764155,\n",
       "   'p_t': 3.2e-09},\n",
       "  'alpha3': {'estimate': 629.4916696241,\n",
       "   'se': 8.2994244838,\n",
       "   'confidence_interval': [613.2212539957, 645.7620852526],\n",
       "   't_stat': 75.8476290557,\n",
       "   'p_t': 0.0},\n",
       "  'alpha4': {'estimate': 1676.8967293967,\n",
       "   'se': 6.3710258752,\n",
       "   'confidence_interval': [1664.4067984176, 1689.3866603758],\n",
       "   't_stat': 263.2067052068,\n",
       "   'p_t': 0.0},\n",
       "  'alpha5': {'estimate': 16275.7234263596,\n",
       "   'se': 80.3298178908,\n",
       "   'confidence_interval': [16118.2426845331, 16433.2041681861],\n",
       "   't_stat': 202.6112327117,\n",
       "   'p_t': 0.0},\n",
       "  'alpha6': {'estimate': 8925.1418132074,\n",
       "   'se': 33.2139475855,\n",
       "   'confidence_interval': [8860.0282944409, 8990.2553319739],\n",
       "   't_stat': 268.71668266,\n",
       "   'p_t': 0.0},\n",
       "  'alpha7': {'estimate': 5856.5942702328,\n",
       "   'se': 18.4624476041,\n",
       "   'confidence_interval': [5820.3999899398, 5892.7885505259],\n",
       "   't_stat': 317.2165682371,\n",
       "   'p_t': 0.0},\n",
       "  'alpha8': {'estimate': 1011.1504576362,\n",
       "   'se': 14.2876447827,\n",
       "   'confidence_interval': [983.1405734062, 1039.1603418662],\n",
       "   't_stat': 70.7709684145,\n",
       "   'p_t': 0.0},\n",
       "  'alpha9': {'estimate': 209.5218684268,\n",
       "   'se': 6.6616873194,\n",
       "   'confidence_interval': [196.462116912, 222.5816199415],\n",
       "   't_stat': 31.4517716579,\n",
       "   'p_t': 1.0835123339999998e-198},\n",
       "  'alpha10': {'estimate': -3.2846749121,\n",
       "   'se': 2.2196022334,\n",
       "   'confidence_interval': [-7.6360430025, 1.0666931782],\n",
       "   't_stat': -1.4798484443,\n",
       "   'p_t': 0.138975162},\n",
       "  'alpha11': {'estimate': 131.377955127,\n",
       "   'se': 17.8728414916,\n",
       "   'confidence_interval': [96.339554561, 166.416355693],\n",
       "   't_stat': 7.3507033109,\n",
       "   'p_t': 0.0}}}"
      ]
     },
     "execution_count": 7,
     "metadata": {},
     "output_type": "execute_result"
    }
   ],
   "source": [
    "# Params\n",
    "params_ms = utils.get_breakpoint_data(trial_select['df'], N_BREAKPOINT)\n",
    "params_ms"
   ]
  },
  {
   "cell_type": "code",
   "execution_count": 8,
   "metadata": {},
   "outputs": [
    {
     "data": {
      "text/plain": [
       "<piecewise_regression.main.Fit at 0x237924cae50>"
      ]
     },
     "execution_count": 8,
     "metadata": {},
     "output_type": "execute_result"
    }
   ],
   "source": [
    "# Model Select\n",
    "ms = utils.rebuild_model(x_processed,y_processed,params_ms)\n",
    "ms"
   ]
  },
  {
   "cell_type": "code",
   "execution_count": 9,
   "metadata": {},
   "outputs": [
    {
     "name": "stdout",
     "output_type": "stream",
     "text": [
      "RSS:  205086510.44932663\n",
      "TSS:  2401800866773.062\n",
      "R2:  0.9999146113596317\n",
      "R2_ajus:  0.9999140602496899\n"
     ]
    }
   ],
   "source": [
    "# Globals\n",
    "RSS, TSS, R2, R2_ajus = r_squared_calc.get_r_squared(y_processed, \n",
    "                                                    ms.predict(x_processed), \n",
    "                                                    len(ms.get_params()))\n",
    "\n",
    "\n",
    "print(\"RSS: \", RSS)\n",
    "print(\"TSS: \", TSS)\n",
    "print(\"R2: \", R2)\n",
    "print(\"R2_ajus: \", R2_ajus)"
   ]
  },
  {
   "cell_type": "code",
   "execution_count": 10,
   "metadata": {},
   "outputs": [
    {
     "data": {
      "text/plain": [
       "[{'Segment': 1,\n",
       "  'R^2': np.float64(0.970097539492035),\n",
       "  'RMS%': np.float64(8.977163775353123),\n",
       "  'RMS% (min-max)': np.float64(5.729951358803509)},\n",
       " {'Segment': 2,\n",
       "  'R^2': np.float64(0.3336733918517537),\n",
       "  'RMS%': np.float64(1.4371513269659204),\n",
       "  'RMS% (min-max)': np.float64(18.10127703893856)},\n",
       " {'Segment': 3,\n",
       "  'R^2': np.float64(0.8999876908749999),\n",
       "  'RMS%': np.float64(3.307154660800106),\n",
       "  'RMS% (min-max)': np.float64(10.148567539921848)},\n",
       " {'Segment': 4,\n",
       "  'R^2': np.float64(0.9726592539469645),\n",
       "  'RMS%': np.float64(3.1480510477407866),\n",
       "  'RMS% (min-max)': np.float64(4.042642340971493)},\n",
       " {'Segment': 5,\n",
       "  'R^2': np.float64(0.9818789734360508),\n",
       "  'RMS%': np.float64(2.44097758876971),\n",
       "  'RMS% (min-max)': np.float64(4.6731847832862865)},\n",
       " {'Segment': 6,\n",
       "  'R^2': np.float64(0.9898922318159985),\n",
       "  'RMS%': np.float64(1.0039339080143448),\n",
       "  'RMS% (min-max)': np.float64(2.74628930562775)},\n",
       " {'Segment': 7,\n",
       "  'R^2': np.float64(0.9953687787721557),\n",
       "  'RMS%': np.float64(0.5400763835011204),\n",
       "  'RMS% (min-max)': np.float64(1.999210023655335)},\n",
       " {'Segment': 8,\n",
       "  'R^2': np.float64(0.9336440633463865),\n",
       "  'RMS%': np.float64(0.3577346901130206),\n",
       "  'RMS% (min-max)': np.float64(6.050118546227178)},\n",
       " {'Segment': 9,\n",
       "  'R^2': np.float64(0.995316575890951),\n",
       "  'RMS%': np.float64(0.03286022518203447),\n",
       "  'RMS% (min-max)': np.float64(1.7874017138863445)},\n",
       " {'Segment': 10,\n",
       "  'R^2': np.float64(0.4110781461722226),\n",
       "  'RMS%': np.float64(0.01779878846517261),\n",
       "  'RMS% (min-max)': np.float64(23.992124402019595)},\n",
       " {'Segment': 11,\n",
       "  'R^2': np.float64(0.9509971992328526),\n",
       "  'RMS%': np.float64(0.03775166988067583),\n",
       "  'RMS% (min-max)': np.float64(6.918789745295525)}]"
      ]
     },
     "execution_count": 10,
     "metadata": {},
     "output_type": "execute_result"
    }
   ],
   "source": [
    "# Per segment\n",
    "metric_per_segment = analysis.calculate_metrics_per_segment(ms)\n",
    "metric_per_segment"
   ]
  },
  {
   "cell_type": "code",
   "execution_count": 11,
   "metadata": {},
   "outputs": [
    {
     "data": {
      "text/html": [
       "<div>\n",
       "<style scoped>\n",
       "    .dataframe tbody tr th:only-of-type {\n",
       "        vertical-align: middle;\n",
       "    }\n",
       "\n",
       "    .dataframe tbody tr th {\n",
       "        vertical-align: top;\n",
       "    }\n",
       "\n",
       "    .dataframe thead th {\n",
       "        text-align: right;\n",
       "    }\n",
       "</style>\n",
       "<table border=\"1\" class=\"dataframe\">\n",
       "  <thead>\n",
       "    <tr style=\"text-align: right;\">\n",
       "      <th></th>\n",
       "      <th>Breakpoint X Position</th>\n",
       "      <th>Breakpoint Y Position</th>\n",
       "      <th>Confidence Interval (X)</th>\n",
       "    </tr>\n",
       "  </thead>\n",
       "  <tbody>\n",
       "    <tr>\n",
       "      <th>0</th>\n",
       "      <td>0.862414</td>\n",
       "      <td>5415.440714</td>\n",
       "      <td>(0.8445972214051135, 0.8802310897477718)</td>\n",
       "    </tr>\n",
       "    <tr>\n",
       "      <th>1</th>\n",
       "      <td>4.723590</td>\n",
       "      <td>5594.842045</td>\n",
       "      <td>(4.642834298702246, 4.804346561908773)</td>\n",
       "    </tr>\n",
       "    <tr>\n",
       "      <th>2</th>\n",
       "      <td>8.120192</td>\n",
       "      <td>7732.974460</td>\n",
       "      <td>(8.077859044268884, 8.162525025778255)</td>\n",
       "    </tr>\n",
       "    <tr>\n",
       "      <th>3</th>\n",
       "      <td>12.538199</td>\n",
       "      <td>15141.515816</td>\n",
       "      <td>(12.532650454484996, 12.54374745693835)</td>\n",
       "    </tr>\n",
       "    <tr>\n",
       "      <th>4</th>\n",
       "      <td>13.317174</td>\n",
       "      <td>27819.894056</td>\n",
       "      <td>(13.305811096238026, 13.328536395483157)</td>\n",
       "    </tr>\n",
       "    <tr>\n",
       "      <th>5</th>\n",
       "      <td>14.624946</td>\n",
       "      <td>39491.945204</td>\n",
       "      <td>(14.60366033415171, 14.646231289315937)</td>\n",
       "    </tr>\n",
       "    <tr>\n",
       "      <th>6</th>\n",
       "      <td>16.624618</td>\n",
       "      <td>51203.214120</td>\n",
       "      <td>(16.61299945128196, 16.63623662946865)</td>\n",
       "    </tr>\n",
       "    <tr>\n",
       "      <th>7</th>\n",
       "      <td>19.263391</td>\n",
       "      <td>53871.410304</td>\n",
       "      <td>(19.19377623626818, 19.333005167233576)</td>\n",
       "    </tr>\n",
       "    <tr>\n",
       "      <th>8</th>\n",
       "      <td>23.622338</td>\n",
       "      <td>54784.705114</td>\n",
       "      <td>(23.43778355298057, 23.806892702631487)</td>\n",
       "    </tr>\n",
       "    <tr>\n",
       "      <th>9</th>\n",
       "      <td>32.131722</td>\n",
       "      <td>54756.754553</td>\n",
       "      <td>(31.75187083497752, 32.51157346880797)</td>\n",
       "    </tr>\n",
       "  </tbody>\n",
       "</table>\n",
       "</div>"
      ],
      "text/plain": [
       "   Breakpoint X Position  Breakpoint Y Position  \\\n",
       "0               0.862414            5415.440714   \n",
       "1               4.723590            5594.842045   \n",
       "2               8.120192            7732.974460   \n",
       "3              12.538199           15141.515816   \n",
       "4              13.317174           27819.894056   \n",
       "5              14.624946           39491.945204   \n",
       "6              16.624618           51203.214120   \n",
       "7              19.263391           53871.410304   \n",
       "8              23.622338           54784.705114   \n",
       "9              32.131722           54756.754553   \n",
       "\n",
       "                    Confidence Interval (X)  \n",
       "0  (0.8445972214051135, 0.8802310897477718)  \n",
       "1    (4.642834298702246, 4.804346561908773)  \n",
       "2    (8.077859044268884, 8.162525025778255)  \n",
       "3   (12.532650454484996, 12.54374745693835)  \n",
       "4  (13.305811096238026, 13.328536395483157)  \n",
       "5   (14.60366033415171, 14.646231289315937)  \n",
       "6    (16.61299945128196, 16.63623662946865)  \n",
       "7   (19.19377623626818, 19.333005167233576)  \n",
       "8   (23.43778355298057, 23.806892702631487)  \n",
       "9    (31.75187083497752, 32.51157346880797)  "
      ]
     },
     "execution_count": 11,
     "metadata": {},
     "output_type": "execute_result"
    }
   ],
   "source": [
    "# Breakpoints\n",
    "breakpoints = analysis.extract_breakpoints(ms)\n",
    "breakpoints"
   ]
  },
  {
   "cell_type": "markdown",
   "metadata": {},
   "source": [
    "##"
   ]
  },
  {
   "cell_type": "markdown",
   "metadata": {},
   "source": [
    "---\n",
    "\n",
    "### Final results\n",
    "\n",
    "#### General models"
   ]
  },
  {
   "cell_type": "code",
   "execution_count": 12,
   "metadata": {},
   "outputs": [
    {
     "data": {
      "application/vnd.jupyter.widget-view+json": {
       "model_id": "7b9db3a7b2a242e1b4bf4e9d12a852ff",
       "version_major": 2,
       "version_minor": 0
      },
      "text/plain": [
       "interactive(children=(IntSlider(value=0, description='n_breakpoints', max=10), Output()), _dom_classes=('widge…"
      ]
     },
     "metadata": {},
     "output_type": "display_data"
    }
   ],
   "source": [
    "# Visualizamos los datos procesados junto con los modelos obtenidos\n",
    "df_ms = pd.DataFrame({'n_breakpoints': trial_select['df']['n_breakpoints'], \n",
    "                    'estimates': trial_select['df']['estimates']})\n",
    "\n",
    "plots.interactive_segmented_regression(x=x_processed, y=y_processed, df=df_ms)"
   ]
  },
  {
   "cell_type": "markdown",
   "metadata": {},
   "source": [
    "#### Models per segment"
   ]
  },
  {
   "cell_type": "code",
   "execution_count": 13,
   "metadata": {},
   "outputs": [
    {
     "data": {
      "text/plain": [
       "{'segments': [{'segment': 1,\n",
       "   'data_x': array([0.001, 0.009, 0.014, 0.019, 0.032, 0.038, 0.043, 0.049, 0.064,\n",
       "          0.07 , 0.076, 0.09 , 0.096, 0.1  , 0.112, 0.117, 0.12 , 0.129,\n",
       "          0.133, 0.135, 0.145, 0.15 , 0.154, 0.158, 0.166, 0.168, 0.17 ,\n",
       "          0.177, 0.18 , 0.183, 0.193, 0.196, 0.199, 0.208, 0.213, 0.214,\n",
       "          0.218, 0.219, 0.22 , 0.221, 0.224, 0.227, 0.229, 0.232, 0.233,\n",
       "          0.234, 0.235, 0.236, 0.237, 0.238, 0.239, 0.24 , 0.241, 0.242,\n",
       "          0.243, 0.244, 0.245, 0.246, 0.247, 0.25 , 0.251, 0.253, 0.258,\n",
       "          0.265, 0.274, 0.282, 0.284, 0.286, 0.288, 0.289, 0.29 , 0.293,\n",
       "          0.295, 0.297, 0.298, 0.299, 0.302, 0.308, 0.322, 0.328, 0.332,\n",
       "          0.346, 0.351, 0.354, 0.367, 0.376, 0.385, 0.402, 0.409, 0.414,\n",
       "          0.423, 0.44 , 0.448, 0.454, 0.47 , 0.476, 0.478, 0.492, 0.499,\n",
       "          0.505, 0.512, 0.526, 0.532, 0.54 , 0.553, 0.556, 0.564, 0.57 ,\n",
       "          0.576, 0.581, 0.585, 0.597, 0.603, 0.607, 0.611, 0.621, 0.626,\n",
       "          0.629, 0.638, 0.642, 0.643, 0.653, 0.662, 0.669, 0.689, 0.698,\n",
       "          0.706, 0.714, 0.729, 0.736, 0.742, 0.756, 0.764, 0.77 , 0.788,\n",
       "          0.797, 0.801, 0.817, 0.824, 0.828, 0.833, 0.849, 0.856, 0.861]),\n",
       "   'data_y': array([1759.6502906 , 1760.68610256, 1761.8468272 , 1763.13246451,\n",
       "          1764.54301449, 1766.07847715, 1767.73885247, 1769.52414047,\n",
       "          1771.43434114, 1773.46945448, 1775.62948049, 1777.91441918,\n",
       "          1780.32427053, 1783.47828019, 1786.71300483, 1789.98542995,\n",
       "          1793.25685024, 1791.31630918, 1791.29545894, 1793.0851401 ,\n",
       "          1796.64771014, 1800.79619324, 1808.26013527, 1818.47337198,\n",
       "          1830.30258937, 1843.41732689, 1856.54193237, 1869.58885024,\n",
       "          1881.82044767, 1893.23209662, 1904.10634783, 1899.30217713,\n",
       "          1886.82144099, 1887.88529588, 1898.55835814, 1917.01195702,\n",
       "          1942.42103804, 1972.78605536, 2004.26183098, 2034.42639411,\n",
       "          2069.50135478, 2108.31574978, 2157.15252712, 2210.2268342 ,\n",
       "          2266.60081319, 2324.90617746, 2385.67388353, 2444.92404734,\n",
       "          2500.63606985, 2551.52712982, 2595.64259921, 2632.22796596,\n",
       "          2659.66447322, 2676.32547365, 2682.198774  , 2675.76493468,\n",
       "          2678.28030349, 2692.97660992, 2703.50739489, 2711.18330123,\n",
       "          2715.30824236, 2714.56984829, 2710.99525446, 2707.11056772,\n",
       "          2699.82264035, 2695.79610962, 2693.45331432, 2694.15458799,\n",
       "          2695.86150725, 2700.7273752 , 2707.31098551, 2714.54257005,\n",
       "          2722.74988406, 2732.40695652, 2753.29394203, 2786.7386087 ,\n",
       "          2828.61166184, 2877.50655072, 2933.00638647, 2991.90417391,\n",
       "          3052.52728502, 3113.08115942, 3173.84233816, 3233.76384541,\n",
       "          3291.20450242, 3345.23708213, 3395.51068599, 3438.12471498,\n",
       "          3472.57766184, 3509.58983575, 3527.26575845, 3545.61857005,\n",
       "          3564.86177778, 3589.11927536, 3607.96200966, 3624.84859903,\n",
       "          3642.90753623, 3660.65642512, 3685.42919807, 3713.49476329,\n",
       "          3743.80871498, 3776.98015459, 3812.01236715, 3847.10262802,\n",
       "          3882.2650628 , 3916.84950725, 3950.59026087, 3983.32249275,\n",
       "          4014.09518841, 4042.49901449, 4045.00278261, 4049.71561353,\n",
       "          4055.61965217, 4067.42457971, 4086.67292754, 4130.02942995,\n",
       "          4184.87184541, 4245.49634783, 4305.76193237, 4370.2168599 ,\n",
       "          4435.05325604, 4498.55323671, 4566.61491787, 4639.48699517,\n",
       "          4714.20233816, 4786.82181643, 4855.89004831, 4919.07876329,\n",
       "          4975.24164251, 5022.69103382, 5060.32962319, 5086.79399034,\n",
       "          5100.75837681, 5100.78403865, 5085.00479227, 5086.51928502,\n",
       "          5087.62191304, 5092.82558454, 5099.5988599 , 5105.67213527,\n",
       "          5112.56830918, 5118.86009662, 5125.81905314, 5132.58608696]),\n",
       "   'fitted_model': {'slope': np.float64(4747.7841749457),\n",
       "    'intercept': np.float64(1320.8844336364004),\n",
       "    'fitted_y': array([1325.63221781, 1363.61449121, 1387.35341209, 1411.09233296,\n",
       "           1472.81352723, 1501.30023228, 1525.03915316, 1553.52585821,\n",
       "           1624.74262083, 1653.22932588, 1681.71603093, 1748.18500938,\n",
       "           1776.67171443, 1795.66285113, 1852.63626123, 1876.37518211,\n",
       "           1890.61853463, 1933.3485922 , 1952.3397289 , 1961.83529725,\n",
       "           2009.313139  , 2033.05205988, 2052.04319658, 2071.03433328,\n",
       "           2109.01660668, 2118.51217503, 2128.00774338, 2161.2422326 ,\n",
       "           2175.48558513, 2189.72893765, 2237.2067794 , 2251.45013193,\n",
       "           2265.69348445, 2308.42354203, 2332.1624629 , 2336.91024707,\n",
       "           2355.90138377, 2360.64916795, 2365.39695212, 2370.1447363 ,\n",
       "           2384.38808882, 2398.63144135, 2408.1270097 , 2422.37036222,\n",
       "           2427.1181464 , 2431.86593057, 2436.61371475, 2441.36149892,\n",
       "           2446.1092831 , 2450.85706727, 2455.60485145, 2460.35263562,\n",
       "           2465.1004198 , 2469.84820397, 2474.59598815, 2479.34377232,\n",
       "           2484.0915565 , 2488.83934067, 2493.58712485, 2507.83047737,\n",
       "           2512.57826155, 2522.0738299 , 2545.81275077, 2579.04724   ,\n",
       "           2621.77729757, 2659.75957097, 2669.25513932, 2678.75070767,\n",
       "           2688.24627602, 2692.9940602 , 2697.74184437, 2711.9851969 ,\n",
       "           2721.48076525, 2730.9763336 , 2735.72411777, 2740.47190195,\n",
       "           2754.71525447, 2783.20195952, 2849.67093797, 2878.15764302,\n",
       "           2897.14877972, 2963.61775817, 2987.35667904, 3001.60003157,\n",
       "           3063.32122584, 3106.05128342, 3148.78134099, 3229.49367196,\n",
       "           3262.72816119, 3286.46708206, 3329.19713964, 3409.90947061,\n",
       "           3447.89174401, 3476.37844906, 3552.34299586, 3580.82970091,\n",
       "           3590.32526926, 3656.79424771, 3690.02873693, 3718.51544198,\n",
       "           3751.74993121, 3818.21890966, 3846.70561471, 3884.68788811,\n",
       "           3946.40908238, 3960.65243491, 3998.63470831, 4027.12141336,\n",
       "           4055.60811841, 4079.34703928, 4098.33817598, 4155.31158608,\n",
       "           4183.79829113, 4202.78942783, 4221.78056453, 4269.25840628,\n",
       "           4292.99732715, 4307.24067968, 4349.97073725, 4368.96187395,\n",
       "           4373.70965813, 4421.18749988, 4463.91755745, 4497.15204668,\n",
       "           4592.10773017, 4634.83778775, 4672.82006115, 4710.80233455,\n",
       "           4782.01909717, 4815.2535864 , 4843.74029145, 4910.2092699 ,\n",
       "           4948.19154329, 4976.67824834, 5062.13836349, 5104.86842107,\n",
       "           5123.85955777, 5199.82410457, 5233.05859379, 5252.04973049,\n",
       "           5275.78865137, 5351.75319817, 5384.98768739, 5408.72660826])}},\n",
       "  {'segment': 2,\n",
       "   'data_x': array([0.876, 0.883, 0.89 , 0.908, 0.917, 0.922, 0.937, 0.943, 0.949,\n",
       "          0.953, 0.963, 0.967, 0.97 , 0.982, 0.985, 0.987, 0.991, 0.993,\n",
       "          0.994, 1.   , 1.003, 1.004, 1.007, 1.012, 1.014, 1.016, 1.025,\n",
       "          1.03 , 1.033, 1.042, 1.047, 1.051, 1.063, 1.068, 1.07 , 1.082,\n",
       "          1.087, 1.09 , 1.095, 1.106, 1.112, 1.12 , 1.135, 1.142, 1.148,\n",
       "          1.164, 1.173, 1.182, 1.204, 1.215, 1.226, 1.238, 1.262, 1.273,\n",
       "          1.284, 1.303, 1.312, 1.319, 1.335, 1.344, 1.349, 1.366, 1.374,\n",
       "          1.381, 1.388, 1.405, 1.41 , 1.414, 1.425, 1.431, 1.436, 1.444,\n",
       "          1.449, 1.453, 1.462, 1.466, 1.471, 1.476, 1.48 , 1.483, 1.486,\n",
       "          1.495, 1.5  , 1.504, 1.514, 1.519, 1.521, 1.529, 1.534, 1.536,\n",
       "          1.544, 1.55 , 1.555, 1.561, 1.573, 1.578, 1.582, 1.595, 1.601,\n",
       "          1.605, 1.621, 1.63 , 1.637, 1.652, 1.66 , 1.667, 1.674, 1.687,\n",
       "          1.692, 1.697, 1.709, 1.717, 1.723, 1.739, 1.747, 1.751, 1.769,\n",
       "          1.778, 1.786, 1.792, 1.806, 1.811, 1.813, 1.827, 1.833, 1.837,\n",
       "          1.846, 1.85 , 1.851, 1.859, 1.863, 1.867, 1.878, 1.885, 1.891,\n",
       "          1.895, 1.911, 1.918, 1.924, 1.941, 1.95 , 1.956, 1.971, 1.977,\n",
       "          1.981, 1.993, 1.999, 2.004, 2.015, 2.022, 2.029, 2.034, 2.048,\n",
       "          2.057, 2.064, 2.087, 2.098, 2.107, 2.119, 2.14 , 2.147, 2.154,\n",
       "          2.173, 2.183, 2.191, 2.21 , 2.217, 2.221, 2.23 , 2.236, 2.244,\n",
       "          2.251, 2.256, 2.272, 2.281, 2.289, 2.294, 2.309, 2.317, 2.325,\n",
       "          2.34 , 2.344, 2.348, 2.36 , 2.365, 2.378, 2.386, 2.391, 2.397,\n",
       "          2.412, 2.417, 2.421, 2.432, 2.438, 2.441, 2.454, 2.459, 2.463,\n",
       "          2.472, 2.477, 2.481, 2.485, 2.502, 2.508, 2.513, 2.529, 2.535,\n",
       "          2.539, 2.55 , 2.558, 2.563, 2.571, 2.587, 2.593, 2.598, 2.614,\n",
       "          2.622, 2.627, 2.646, 2.655, 2.662, 2.683, 2.694, 2.703, 2.711,\n",
       "          2.729, 2.736, 2.744, 2.756, 2.759, 2.763, 2.77 , 2.773, 2.781,\n",
       "          2.787, 2.788, 2.792, 2.803, 2.807, 2.815, 2.819, 2.82 , 2.821,\n",
       "          2.829, 2.831, 2.833, 2.842, 2.847, 2.848, 2.858, 2.864, 2.868,\n",
       "          2.872, 2.883, 2.886, 2.895, 2.898, 2.9  , 2.908, 2.912, 2.915,\n",
       "          2.927, 2.935, 2.943, 2.951, 2.974, 2.988, 3.   , 3.027, 3.038,\n",
       "          3.047, 3.065, 3.07 , 3.074, 3.083, 3.088, 3.092, 3.097, 3.109,\n",
       "          3.112, 3.116, 3.131, 3.139, 3.148, 3.175, 3.192, 3.213, 3.265,\n",
       "          3.287, 3.3  , 3.314, 3.338, 3.346, 3.355, 3.369, 3.375, 3.382,\n",
       "          3.398, 3.406, 3.412, 3.43 , 3.438, 3.443, 3.456, 3.462, 3.467,\n",
       "          3.471, 3.481, 3.486, 3.488, 3.501, 3.507, 3.51 , 3.525, 3.532,\n",
       "          3.538, 3.544, 3.559, 3.563, 3.569, 3.585, 3.592, 3.596, 3.606,\n",
       "          3.611, 3.614, 3.62 , 3.622, 3.623, 3.63 , 3.636, 3.638, 3.641,\n",
       "          3.652, 3.658, 3.665, 3.681, 3.688, 3.692, 3.706, 3.714, 3.721,\n",
       "          3.733, 3.739, 3.742, 3.75 , 3.764, 3.77 , 3.777, 3.788, 3.793,\n",
       "          3.795, 3.808, 3.812, 3.814, 3.825, 3.833, 3.836, 3.845, 3.852,\n",
       "          3.856, 3.862, 3.877, 3.882, 3.885, 3.902, 3.912, 3.92 , 3.94 ,\n",
       "          3.949, 3.956, 3.963, 3.976, 3.979, 3.988, 3.994, 4.   , 4.005,\n",
       "          4.021, 4.028, 4.032, 4.047, 4.053, 4.058, 4.066, 4.074, 4.077,\n",
       "          4.083, 4.104, 4.113, 4.125, 4.147, 4.155, 4.16 , 4.174, 4.184,\n",
       "          4.189, 4.2  , 4.209, 4.214, 4.223, 4.237, 4.243, 4.249, 4.265,\n",
       "          4.273, 4.279, 4.297, 4.304, 4.306, 4.319, 4.326, 4.331, 4.342,\n",
       "          4.351, 4.354, 4.36 , 4.376, 4.383, 4.385, 4.4  , 4.406, 4.411,\n",
       "          4.425, 4.432, 4.438, 4.45 , 4.457, 4.461, 4.464, 4.478, 4.483,\n",
       "          4.485, 4.497, 4.504, 4.507, 4.52 , 4.527, 4.529, 4.535, 4.55 ,\n",
       "          4.556, 4.56 , 4.576, 4.582, 4.591, 4.596, 4.601, 4.602, 4.612,\n",
       "          4.617, 4.618, 4.628, 4.635, 4.642, 4.649, 4.663, 4.668, 4.674,\n",
       "          4.687, 4.688, 4.691, 4.692, 4.694, 4.697, 4.7  , 4.702, 4.703,\n",
       "          4.704, 4.711, 4.712, 4.716, 4.719, 4.72 , 4.721, 4.722]),\n",
       "   'data_y': array([5138.66854106, 5144.94570048, 5151.78738164, 5158.9251401 ,\n",
       "          5165.91315942, 5173.00384541, 5180.18664734, 5187.20119807,\n",
       "          5193.96224155, 5200.21064734, 5205.99551691, 5211.33172947,\n",
       "          5216.33111111, 5220.99899517, 5225.32658937, 5229.38013527,\n",
       "          5233.03922705, 5236.46347826, 5239.76266667, 5243.02231884,\n",
       "          5246.29594203, 5249.60867633, 5252.96063768, 5256.37155556,\n",
       "          5259.6731401 , 5263.02280193, 5266.53553623, 5270.10448309,\n",
       "          5273.6945314 , 5277.25051208, 5280.74639614, 5284.14523671,\n",
       "          5287.30724638, 5290.37457005, 5293.56268599, 5296.70554589,\n",
       "          5299.84670531, 5303.07594203, 5306.43312077, 5309.96687923,\n",
       "          5313.68415459, 5317.49878261, 5321.64850242, 5325.98398068,\n",
       "          5330.51097585, 5335.23230918, 5340.10436715, 5345.09971014,\n",
       "          5350.18751691, 5355.31402899, 5360.53371981, 5365.56645411,\n",
       "          5370.43916908, 5375.12753623, 5379.6272657 , 5383.89424155,\n",
       "          5387.98069565, 5391.96405797, 5396.00034783, 5399.76801932,\n",
       "          5403.45998068, 5407.13344928, 5410.79609662, 5414.47810628,\n",
       "          5418.21248309, 5422.03766184, 5426.03725604, 5429.92830918,\n",
       "          5433.82108213, 5437.708657  , 5441.58166184, 5445.4257971 ,\n",
       "          5449.23155556, 5452.97733333, 5456.66817391, 5460.23171014,\n",
       "          5463.67294686, 5466.99246377, 5470.18923671, 5473.24589372,\n",
       "          5476.19151691, 5479.05866667, 5481.87945894, 5484.55014493,\n",
       "          5487.11116908, 5489.56846377, 5491.9472657 , 5494.26322705,\n",
       "          5496.52971981, 5498.74550725, 5500.91124638, 5502.92684058,\n",
       "          5504.90056039, 5506.79679227, 5508.62278261, 5510.36531401,\n",
       "          5512.03400966, 5513.62005797, 5515.13971014, 5516.60780676,\n",
       "          5517.94796135, 5519.192657  , 5520.36732367, 5521.49337198,\n",
       "          5522.57619324, 5523.62185507, 5524.63188406, 5525.6004058 ,\n",
       "          5526.49418357, 5527.34419324, 5528.15636715, 5528.93596135,\n",
       "          5529.68736232, 5530.42361353, 5531.15180676, 5531.88997101,\n",
       "          5532.63557488, 5533.37256039, 5534.1025314 , 5534.83022222,\n",
       "          5535.55872464, 5536.27971014, 5537.00231884, 5537.72166184,\n",
       "          5538.4381256 , 5539.13793237, 5539.83188406, 5540.50952657,\n",
       "          5541.16568116, 5541.81244444, 5542.44541063, 5543.06056039,\n",
       "          5543.683343  , 5544.27437681, 5544.86241546, 5545.43323671,\n",
       "          5545.98780676, 5546.53256039, 5547.06981643, 5547.60266667,\n",
       "          5548.13256039, 5548.65930435, 5549.16403865, 5549.65267633,\n",
       "          5550.11965217, 5550.56975845, 5550.99878261, 5551.41039614,\n",
       "          5551.80643478, 5552.1942029 , 5552.55744928, 5552.8973913 ,\n",
       "          5553.21576812, 5553.5222029 , 5553.81248309, 5554.09516908,\n",
       "          5554.37470531, 5554.63925604, 5554.89800966, 5555.14116908,\n",
       "          5555.38475362, 5555.61869565, 5555.85039614, 5556.07075362,\n",
       "          5556.29524638, 5556.51313043, 5556.72604831, 5556.92122705,\n",
       "          5557.11497585, 5557.29713043, 5557.46483092, 5557.64429952,\n",
       "          5557.83064734, 5558.01937198, 5558.21105314, 5558.39674396,\n",
       "          5558.57969082, 5558.76574879, 5558.94896618, 5559.12358454,\n",
       "          5559.29603865, 5559.46076329, 5559.63292754, 5559.80135266,\n",
       "          5559.96349758, 5560.11685024, 5560.26131401, 5560.39679227,\n",
       "          5560.53049275, 5560.6527343 , 5560.77561353, 5560.89922705,\n",
       "          5561.02386473, 5561.13781643, 5561.26086957, 5561.39611594,\n",
       "          5561.52753623, 5561.66577778, 5561.80948792, 5561.95750725,\n",
       "          5562.09667633, 5562.2331401 , 5562.36573913, 5562.49331401,\n",
       "          5562.62200966, 5562.74597101, 5562.87642512, 5562.99818357,\n",
       "          5563.11555556, 5563.22815459, 5563.33337198, 5563.43120773,\n",
       "          5563.52185507, 5563.61058937, 5563.69818357, 5563.77849275,\n",
       "          5563.85045411, 5563.91319807, 5563.97824155, 5564.03818357,\n",
       "          5564.09823188, 5564.15572947, 5564.19405797, 5564.21263768,\n",
       "          5564.21597101, 5564.20894686, 5564.18725604, 5564.15675362,\n",
       "          5564.12145894, 5564.05441546, 5563.98455072, 5563.90485024,\n",
       "          5563.8037971 , 5563.70156522, 5563.59210628, 5563.47464734,\n",
       "          5563.35121739, 5563.22423188, 5563.08918841, 5562.95397101,\n",
       "          5562.814657  , 5562.67971014, 5562.54823188, 5562.42085024,\n",
       "          5562.28384541, 5562.14038647, 5561.98868599, 5561.83292754,\n",
       "          5561.6772657 , 5561.51366184, 5561.35566184, 5561.19972947,\n",
       "          5561.04702415, 5560.88390338, 5560.7448599 , 5560.60622222,\n",
       "          5560.47548792, 5560.36707246, 5560.26122705, 5560.16181643,\n",
       "          5560.07682126, 5560.01364251, 5559.96710145, 5559.93874396,\n",
       "          5559.92953623, 5559.94475362, 5559.97709179, 5560.02231884,\n",
       "          5560.07308213, 5560.13942029, 5560.22104348, 5560.31466667,\n",
       "          5560.42861836, 5560.56372947, 5560.71105314, 5560.86633816,\n",
       "          5561.03002899, 5561.1952657 , 5561.35518841, 5561.50535266,\n",
       "          5561.65350725, 5561.78340097, 5561.89586473, 5561.99922705,\n",
       "          5562.09261836, 5562.17333333, 5562.23194203, 5562.26670531,\n",
       "          5562.28357488, 5562.28177778, 5562.25381643, 5562.20477295,\n",
       "          5562.13542029, 5562.05441546, 5561.97118841, 5561.87663768,\n",
       "          5561.77443478, 5561.66641546, 5561.55016425, 5561.42137198,\n",
       "          5561.28342029, 5561.14255072, 5560.99097585, 5560.82859903,\n",
       "          5560.66301449, 5560.48778744, 5560.3090628 , 5560.11648309,\n",
       "          5559.92674396, 5559.73051208, 5559.51903382, 5559.29613527,\n",
       "          5559.06133333, 5558.81472464, 5558.54479227, 5558.2792657 ,\n",
       "          5557.94695652, 5557.64361353, 5557.33252174, 5557.01165217,\n",
       "          5556.67466667, 5556.33511111, 5555.98050242, 5555.59874396,\n",
       "          5555.21184541, 5554.81800966, 5554.41341063, 5553.99441546,\n",
       "          5553.57688889, 5553.14780676, 5552.71833816, 5552.29234783,\n",
       "          5551.87611594, 5551.46131401, 5551.05389372, 5550.65472464,\n",
       "          5550.26448309, 5549.87876329, 5549.50007729, 5549.13785507,\n",
       "          5548.76722705, 5548.46467633, 5548.15911111, 5547.87333333,\n",
       "          5547.59312077, 5547.33028019, 5547.0767343 , 5546.83360386,\n",
       "          5546.60403865, 5546.3763285 , 5546.16015459, 5545.94550725,\n",
       "          5545.73659903, 5545.52525604, 5545.32241546, 5545.12682126,\n",
       "          5544.93480193, 5544.74021256, 5544.54890821, 5544.35702415,\n",
       "          5544.16069565, 5543.95116908, 5543.73899517, 5543.52761353,\n",
       "          5543.308657  , 5543.07636715, 5542.84937198, 5542.61518841,\n",
       "          5542.37130435, 5542.1275942 , 5541.87742995, 5541.61945894,\n",
       "          5541.34052174, 5541.04206763, 5540.7352657 , 5540.41198068,\n",
       "          5540.08585507, 5539.75364251, 5539.42428986, 5539.09963285,\n",
       "          5538.76950725, 5538.44063768, 5538.12216425, 5537.81122705,\n",
       "          5537.50743961, 5537.21041546, 5536.92218357, 5536.64477295,\n",
       "          5536.37049275, 5536.10365217, 5535.85097585, 5535.59010628,\n",
       "          5535.33957488, 5535.09111111, 5534.8411401 , 5534.59078261,\n",
       "          5534.32407729, 5534.05147826, 5533.77855072, 5533.49638647,\n",
       "          5533.22027053, 5532.94376812, 5532.66774879, 5532.39308213,\n",
       "          5532.11333333, 5531.83648309, 5531.56320773, 5531.29418357,\n",
       "          5531.02030918, 5530.74917874, 5530.48088889, 5530.21775845,\n",
       "          5529.95702415, 5529.70531401, 5529.45686957, 5529.21773913,\n",
       "          5528.99130435, 5528.78075362, 5528.57936232, 5528.38732367,\n",
       "          5528.20202899, 5528.02289855, 5527.85138164, 5527.68123671,\n",
       "          5527.53244444, 5527.3884058 , 5527.25391304, 5527.13337198,\n",
       "          5527.01391304, 5526.90647343, 5526.79982609, 5526.69435749,\n",
       "          5526.59476329, 5526.512657  , 5526.4352657 , 5526.36162319,\n",
       "          5526.29768116, 5526.24430918, 5526.19487923, 5526.15457005,\n",
       "          5526.11617391, 5526.0915942 , 5526.06834783, 5526.05064734,\n",
       "          5526.03762319, 5526.02090821, 5526.00635749, 5526.36874396,\n",
       "          5526.92398068, 5527.13279227, 5527.15124638, 5526.1124058 ,\n",
       "          5525.17035749, 5525.01157488, 5524.64947826, 5524.09190338,\n",
       "          5523.35300483, 5522.46942995, 5521.27513043, 5520.72761353,\n",
       "          5519.47884058, 5518.10508213, 5517.45949758, 5516.87464734,\n",
       "          5516.43000966, 5515.62740097, 5515.57532367, 5515.25281159,\n",
       "          5515.47287923, 5516.05226409, 5516.82652174, 5517.76092754,\n",
       "          5518.34298108, 5518.59815435, 5518.7880954 , 5518.77457197]),\n",
       "   'fitted_model': {'slope': np.float64(4747.7841749457),\n",
       "    'intercept': np.float64(1320.8844336364004),\n",
       "    'fitted_y': array([5416.07195105, 5416.39719114, 5416.72243123, 5417.55876289,\n",
       "           5417.97692872, 5418.20924307, 5418.90618612, 5419.18496334,\n",
       "           5419.46374056, 5419.64959204, 5420.11422074, 5420.30007222,\n",
       "           5420.43946083, 5420.99701527, 5421.13640388, 5421.22932962,\n",
       "           5421.4151811 , 5421.50810684, 5421.55456971, 5421.83334693,\n",
       "           5421.97273554, 5422.01919841, 5422.15858702, 5422.39090137,\n",
       "           5422.48382711, 5422.57675285, 5422.99491868, 5423.22723303,\n",
       "           5423.36662164, 5423.78478747, 5424.01710182, 5424.2029533 ,\n",
       "           5424.76050774, 5424.99282209, 5425.08574783, 5425.64330227,\n",
       "           5425.87561662, 5426.01500523, 5426.24731958, 5426.75841115,\n",
       "           5427.03718837, 5427.40889133, 5428.10583438, 5428.43107447,\n",
       "           5428.70985169, 5429.45325761, 5429.87142344, 5430.28958927,\n",
       "           5431.31177241, 5431.82286398, 5432.33395555, 5432.89150999,\n",
       "           5434.00661887, 5434.51771044, 5435.02880201, 5435.91159654,\n",
       "           5436.32976237, 5436.65500246, 5437.39840837, 5437.8165742 ,\n",
       "           5438.04888855, 5438.83875734, 5439.2104603 , 5439.53570039,\n",
       "           5439.86094048, 5440.65080927, 5440.88312362, 5441.0689751 ,\n",
       "           5441.58006667, 5441.85884389, 5442.09115824, 5442.4628612 ,\n",
       "           5442.69517555, 5442.88102703, 5443.29919286, 5443.48504434,\n",
       "           5443.71735869, 5443.94967304, 5444.13552452, 5444.27491313,\n",
       "           5444.41430174, 5444.83246757, 5445.06478192, 5445.2506334 ,\n",
       "           5445.7152621 , 5445.94757645, 5446.04050219, 5446.41220515,\n",
       "           5446.6445195 , 5446.73744524, 5447.1091482 , 5447.38792542,\n",
       "           5447.62023977, 5447.89901699, 5448.45657143, 5448.68888578,\n",
       "           5448.87473726, 5449.47875457, 5449.75753179, 5449.94338327,\n",
       "           5450.68678919, 5451.10495502, 5451.43019511, 5452.12713816,\n",
       "           5452.49884112, 5452.82408121, 5453.1493213 , 5453.75333861,\n",
       "           5453.98565296, 5454.21796731, 5454.77552175, 5455.14722471,\n",
       "           5455.42600193, 5456.16940785, 5456.54111081, 5456.72696229,\n",
       "           5457.56329395, 5457.98145978, 5458.35316274, 5458.63193996,\n",
       "           5459.28242013, 5459.51473448, 5459.60766022, 5460.2581404 ,\n",
       "           5460.53691762, 5460.7227691 , 5461.14093493, 5461.32678641,\n",
       "           5461.37324928, 5461.74495224, 5461.93080372, 5462.1166552 ,\n",
       "           5462.62774677, 5462.95298686, 5463.23176408, 5463.41761556,\n",
       "           5464.16102148, 5464.48626157, 5464.76503879, 5465.55490758,\n",
       "           5465.97307341, 5466.25185063, 5466.94879368, 5467.2275709 ,\n",
       "           5467.41342238, 5467.97097682, 5468.24975404, 5468.48206839,\n",
       "           5468.99315996, 5469.31840005, 5469.64364014, 5469.87595449,\n",
       "           5470.52643467, 5470.9446005 , 5471.26984059, 5472.3384866 ,\n",
       "           5472.84957817, 5473.267744  , 5473.82529844, 5474.80101871,\n",
       "           5475.1262588 , 5475.45149889, 5476.33429342, 5476.79892212,\n",
       "           5477.17062508, 5478.05341961, 5478.3786597 , 5478.56451118,\n",
       "           5478.98267701, 5479.26145423, 5479.63315719, 5479.95839728,\n",
       "           5480.19071163, 5480.93411755, 5481.35228337, 5481.72398633,\n",
       "           5481.95630068, 5482.65324373, 5483.02494669, 5483.39664965,\n",
       "           5484.0935927 , 5484.27944418, 5484.46529566, 5485.0228501 ,\n",
       "           5485.25516445, 5485.85918176, 5486.23088472, 5486.46319907,\n",
       "           5486.74197629, 5487.43891934, 5487.67123369, 5487.85708517,\n",
       "           5488.36817674, 5488.64695396, 5488.78634257, 5489.39035988,\n",
       "           5489.62267423, 5489.80852571, 5490.22669154, 5490.45900589,\n",
       "           5490.64485737, 5490.83070885, 5491.62057764, 5491.89935486,\n",
       "           5492.13166921, 5492.87507513, 5493.15385235, 5493.33970383,\n",
       "           5493.8507954 , 5494.22249836, 5494.45481271, 5494.82651567,\n",
       "           5495.56992159, 5495.84869881, 5496.08101316, 5496.82441908,\n",
       "           5497.19612204, 5497.42843639, 5498.31123092, 5498.72939675,\n",
       "           5499.05463684, 5500.03035711, 5500.54144868, 5500.95961451,\n",
       "           5501.33131747, 5502.16764913, 5502.49288922, 5502.86459218,\n",
       "           5503.42214661, 5503.56153522, 5503.7473867 , 5504.07262679,\n",
       "           5504.2120154 , 5504.58371836, 5504.86249558, 5504.90895845,\n",
       "           5505.09480993, 5505.6059015 , 5505.79175298, 5506.16345594,\n",
       "           5506.34930742, 5506.39577029, 5506.44223316, 5506.81393612,\n",
       "           5506.90686186, 5506.9997876 , 5507.41795343, 5507.65026778,\n",
       "           5507.69673065, 5508.16135935, 5508.44013657, 5508.62598805,\n",
       "           5508.81183953, 5509.3229311 , 5509.46231971, 5509.88048554,\n",
       "           5510.01987415, 5510.11279989, 5510.48450285, 5510.67035433,\n",
       "           5510.80974294, 5511.36729738, 5511.73900034, 5512.1107033 ,\n",
       "           5512.48240626, 5513.55105227, 5514.20153245, 5514.75908689,\n",
       "           5516.01358438, 5516.52467595, 5516.94284178, 5517.77917344,\n",
       "           5518.01148779, 5518.19733927, 5518.6155051 , 5518.84781945,\n",
       "           5519.03367093, 5519.26598528, 5519.82353972, 5519.96292833,\n",
       "           5520.14877981, 5520.84572286, 5521.21742582, 5521.63559165,\n",
       "           5522.89008914, 5523.67995793, 5524.6556782 , 5527.07174743,\n",
       "           5528.09393057, 5528.69794788, 5529.34842806, 5530.46353694,\n",
       "           5530.8352399 , 5531.25340573, 5531.90388591, 5532.18266313,\n",
       "           5532.50790322, 5533.25130914, 5533.6230121 , 5533.90178932,\n",
       "           5534.73812098, 5535.10982394, 5535.34213829, 5535.9461556 ,\n",
       "           5536.22493282, 5536.45724717, 5536.64309865, 5537.10772735,\n",
       "           5537.3400417 , 5537.43296744, 5538.03698475, 5538.31576197,\n",
       "           5538.45515058, 5539.15209363, 5539.47733372, 5539.75611094,\n",
       "           5540.03488816, 5540.73183121, 5540.91768269, 5541.19645991,\n",
       "           5541.93986583, 5542.26510592, 5542.4509574 , 5542.9155861 ,\n",
       "           5543.14790045, 5543.28728906, 5543.56606628, 5543.65899202,\n",
       "           5543.70545489, 5544.03069498, 5544.3094722 , 5544.40239794,\n",
       "           5544.54178655, 5545.05287812, 5545.33165534, 5545.65689543,\n",
       "           5546.40030135, 5546.72554144, 5546.91139292, 5547.56187309,\n",
       "           5547.93357605, 5548.25881614, 5548.81637058, 5549.0951478 ,\n",
       "           5549.23453641, 5549.60623937, 5550.25671955, 5550.53549677,\n",
       "           5550.86073686, 5551.37182843, 5551.60414278, 5551.69706852,\n",
       "           5552.30108583, 5552.48693731, 5552.57986305, 5553.09095462,\n",
       "           5553.46265758, 5553.60204619, 5554.02021202, 5554.34545211,\n",
       "           5554.53130359, 5554.81008081, 5555.50702386, 5555.73933821,\n",
       "           5555.87872682, 5556.66859561, 5557.13322431, 5557.50492727,\n",
       "           5558.43418467, 5558.8523505 , 5559.17759059, 5559.50283068,\n",
       "           5560.10684799, 5560.2462366 , 5560.66440243, 5560.94317965,\n",
       "           5561.22195687, 5561.45427122, 5562.19767714, 5562.52291723,\n",
       "           5562.70876871, 5563.40571176, 5563.68448898, 5563.91680333,\n",
       "           5564.28850629, 5564.66020925, 5564.79959786, 5565.07837508,\n",
       "           5566.05409535, 5566.47226118, 5567.02981562, 5568.05199876,\n",
       "           5568.42370172, 5568.65601607, 5569.30649624, 5569.77112494,\n",
       "           5570.00343929, 5570.51453086, 5570.93269669, 5571.16501104,\n",
       "           5571.58317687, 5572.23365705, 5572.51243427, 5572.79121149,\n",
       "           5573.53461741, 5573.90632037, 5574.18509759, 5575.02142925,\n",
       "           5575.34666934, 5575.43959508, 5576.04361239, 5576.36885248,\n",
       "           5576.60116683, 5577.1122584 , 5577.53042423, 5577.66981284,\n",
       "           5577.94859006, 5578.69199598, 5579.01723607, 5579.11016181,\n",
       "           5579.80710486, 5580.08588208, 5580.31819643, 5580.96867661,\n",
       "           5581.2939167 , 5581.57269392, 5582.13024836, 5582.45548845,\n",
       "           5582.64133993, 5582.78072854, 5583.43120872, 5583.66352307,\n",
       "           5583.75644881, 5584.31400325, 5584.63924334, 5584.77863195,\n",
       "           5585.38264926, 5585.70788935, 5585.80081509, 5586.07959231,\n",
       "           5586.77653536, 5587.05531258, 5587.24116406, 5587.98456998,\n",
       "           5588.2633472 , 5588.68151303, 5588.91382738, 5589.14614173,\n",
       "           5589.1926046 , 5589.6572333 , 5589.88954765, 5589.93601052,\n",
       "           5590.40063922, 5590.72587931, 5591.0511194 , 5591.37635948,\n",
       "           5592.02683966, 5592.25915401, 5592.53793123, 5593.14194854,\n",
       "           5593.18841141, 5593.32780002, 5593.37426289, 5593.46718863,\n",
       "           5593.60657724, 5593.74596585, 5593.83889159, 5593.88535446,\n",
       "           5593.93181733, 5594.25705742, 5594.30352029, 5594.48937177,\n",
       "           5594.62876038, 5594.67522325, 5594.72168612, 5594.76814899])}},\n",
       "  {'segment': 3,\n",
       "   'data_x': array([4.724, 4.728, 4.73 , 4.732, 4.733, 4.734, 4.736, 4.737, 4.738,\n",
       "          4.739, 4.74 , 4.741, 4.742, 4.743, 4.744, 4.745, 4.746, 4.747,\n",
       "          4.748, 4.749, 4.75 , 4.751, 4.752, 4.757, 4.765, 4.773, 4.774,\n",
       "          4.787, 4.801, 4.805, 4.811, 4.817, 4.826, 4.831, 4.837, 4.841,\n",
       "          4.869, 4.881, 4.886, 4.903, 4.911, 4.922, 4.926, 4.942, 4.952,\n",
       "          4.957, 4.968, 4.97 , 4.971, 4.978, 4.981, 4.982, 4.997, 5.003,\n",
       "          5.01 , 5.016, 5.031, 5.034, 5.036, 5.055, 5.062, 5.068, 5.083,\n",
       "          5.092, 5.095, 5.109, 5.117, 5.122, 5.129, 5.141, 5.145, 5.155,\n",
       "          5.161, 5.165, 5.168, 5.18 , 5.184, 5.187, 5.194, 5.197, 5.204,\n",
       "          5.209, 5.213, 5.218, 5.229, 5.233, 5.234, 5.247, 5.252, 5.254,\n",
       "          5.265, 5.269, 5.273, 5.28 , 5.282, 5.286, 5.296, 5.299, 5.304,\n",
       "          5.312, 5.317, 5.318, 5.33 , 5.337, 5.339, 5.353, 5.358, 5.364,\n",
       "          5.37 , 5.38 , 5.383, 5.384, 5.398, 5.403, 5.407, 5.416, 5.422,\n",
       "          5.423, 5.432, 5.436, 5.438, 5.446, 5.45 , 5.454, 5.455, 5.466,\n",
       "          5.469, 5.479, 5.484, 5.488, 5.494, 5.498, 5.5  , 5.504, 5.513,\n",
       "          5.515, 5.522, 5.526, 5.53 , 5.534, 5.547, 5.554, 5.556, 5.566,\n",
       "          5.571, 5.572, 5.576, 5.587, 5.588, 5.589, 5.591, 5.596, 5.601,\n",
       "          5.603, 5.618, 5.625, 5.629, 5.637, 5.641, 5.65 , 5.665, 5.669,\n",
       "          5.671, 5.687, 5.69 , 5.691, 5.694, 5.696, 5.698, 5.706, 5.71 ,\n",
       "          5.713, 5.72 , 5.726, 5.732, 5.737, 5.746, 5.751, 5.753, 5.766,\n",
       "          5.774, 5.777, 5.79 , 5.796, 5.8  , 5.805, 5.814, 5.818, 5.828,\n",
       "          5.834, 5.84 , 5.844, 5.857, 5.862, 5.863, 5.875, 5.881, 5.887,\n",
       "          5.893, 5.908, 5.912, 5.915, 5.929, 5.934, 5.939, 5.952, 5.958,\n",
       "          5.959, 5.969, 5.975, 5.98 , 5.988, 5.994, 5.995, 6.   , 6.01 ,\n",
       "          6.015, 6.02 , 6.03 , 6.032, 6.033, 6.039, 6.046, 6.048, 6.061,\n",
       "          6.069, 6.073, 6.076, 6.084, 6.085, 6.086, 6.096, 6.102, 6.105,\n",
       "          6.122, 6.132, 6.136, 6.154, 6.164, 6.171, 6.177, 6.185, 6.186,\n",
       "          6.187, 6.189, 6.19 , 6.192, 6.193, 6.196, 6.201, 6.208, 6.221,\n",
       "          6.225, 6.226, 6.238, 6.244, 6.254, 6.26 , 6.264, 6.266, 6.278,\n",
       "          6.287, 6.294, 6.307, 6.313, 6.314, 6.32 , 6.332, 6.336, 6.339,\n",
       "          6.35 , 6.357, 6.359, 6.37 , 6.374, 6.379, 6.387, 6.392, 6.396,\n",
       "          6.4  , 6.412, 6.415, 6.418, 6.429, 6.432, 6.441, 6.446, 6.447,\n",
       "          6.457, 6.462, 6.464, 6.468, 6.476, 6.477, 6.478, 6.484, 6.487,\n",
       "          6.489, 6.495, 6.497, 6.498, 6.506, 6.511, 6.514, 6.518, 6.529,\n",
       "          6.53 , 6.532, 6.541, 6.545, 6.547, 6.558, 6.564, 6.565, 6.574,\n",
       "          6.58 , 6.583, 6.589, 6.593, 6.595, 6.597, 6.606, 6.609, 6.61 ,\n",
       "          6.619, 6.624, 6.633, 6.637, 6.641, 6.647, 6.652, 6.654, 6.661,\n",
       "          6.665, 6.668, 6.671, 6.68 , 6.685, 6.687, 6.697, 6.703, 6.707,\n",
       "          6.714, 6.717, 6.719, 6.72 , 6.727, 6.729, 6.732, 6.735, 6.738,\n",
       "          6.74 , 6.758, 6.767, 6.772, 6.787, 6.795, 6.801, 6.81 , 6.815,\n",
       "          6.819, 6.822, 6.833, 6.839, 6.842, 6.855, 6.861, 6.864, 6.875,\n",
       "          6.881, 6.886, 6.896, 6.903, 6.908, 6.917, 6.925, 6.928, 6.929,\n",
       "          6.941, 6.949, 6.953, 6.965, 6.971, 6.972, 6.977, 6.99 , 6.994,\n",
       "          6.995, 7.009, 7.013, 7.025, 7.029, 7.03 , 7.04 , 7.046, 7.048,\n",
       "          7.061, 7.067, 7.07 , 7.082, 7.088, 7.09 , 7.104, 7.108, 7.113,\n",
       "          7.12 , 7.126, 7.129, 7.132, 7.142, 7.145, 7.152, 7.158, 7.163,\n",
       "          7.165, 7.177, 7.181, 7.191, 7.195, 7.197, 7.208, 7.214, 7.218,\n",
       "          7.222, 7.236, 7.239, 7.252, 7.259, 7.264, 7.283, 7.289, 7.29 ,\n",
       "          7.302, 7.311, 7.317, 7.326, 7.339, 7.34 , 7.341, 7.352, 7.358,\n",
       "          7.359, 7.371, 7.376, 7.385, 7.39 , 7.392, 7.398, 7.413, 7.417,\n",
       "          7.424, 7.435, 7.441, 7.444, 7.452, 7.456, 7.465, 7.471, 7.476,\n",
       "          7.483, 7.501, 7.506, 7.511, 7.525, 7.528, 7.531, 7.547, 7.554,\n",
       "          7.558, 7.574, 7.582, 7.587, 7.594, 7.614, 7.619, 7.624, 7.633,\n",
       "          7.638, 7.651, 7.654, 7.657, 7.667, 7.674, 7.678, 7.684, 7.694,\n",
       "          7.696, 7.698, 7.706, 7.707, 7.708, 7.713, 7.718, 7.719, 7.73 ,\n",
       "          7.736, 7.747, 7.748, 7.75 , 7.754, 7.755, 7.759, 7.765, 7.767,\n",
       "          7.768, 7.769, 7.77 , 7.771, 7.772, 7.773, 7.774, 7.775, 7.776,\n",
       "          7.777, 7.778, 7.78 , 7.792, 7.793, 7.798, 7.803, 7.804, 7.806,\n",
       "          7.81 , 7.815, 7.818, 7.827, 7.833, 7.838, 7.844, 7.858, 7.864,\n",
       "          7.866, 7.877, 7.882, 7.893, 7.898, 7.9  , 7.911, 7.916, 7.921,\n",
       "          7.931, 7.937, 7.94 , 7.943, 7.955, 7.958, 7.959, 7.966, 7.967,\n",
       "          7.968, 7.972, 7.973, 7.974, 7.977, 7.98 , 7.982, 7.983, 7.987,\n",
       "          7.989, 7.993, 7.994, 8.005, 8.01 , 8.017, 8.03 , 8.033, 8.036,\n",
       "          8.048, 8.05 , 8.051, 8.063, 8.068, 8.079, 8.085, 8.087, 8.099,\n",
       "          8.105, 8.106, 8.111]),\n",
       "   'data_y': array([5519.79161836, 5521.07176654, 5521.53181938, 5521.86818869,\n",
       "          5522.13356057, 5522.47758783, 5522.92522734, 5523.6847896 ,\n",
       "          5523.71214048, 5524.2921523 , 5525.74240959, 5526.43726985,\n",
       "          5527.37224998, 5527.2227123 , 5528.11161334, 5527.42589029,\n",
       "          5527.68830644, 5526.8441758 , 5525.78137276, 5525.29030312,\n",
       "          5524.52962066, 5523.00309592, 5521.44605296, 5519.99038041,\n",
       "          5518.63481805, 5517.38987623, 5516.28259321, 5515.43058832,\n",
       "          5514.88333286, 5514.68831803, 5514.77236056, 5515.07966659,\n",
       "          5515.71550863, 5516.66434783, 5517.99918841, 5519.02828986,\n",
       "          5520.2102029 , 5520.77468599, 5521.95914976, 5522.29963285,\n",
       "          5523.32541063, 5523.58245411, 5524.43487923, 5525.3493913 ,\n",
       "          5525.33872464, 5525.05872464, 5525.3781256 , 5525.71700483,\n",
       "          5526.03642512, 5526.37171014, 5526.74981643, 5527.2333913 ,\n",
       "          5527.78332367, 5528.42289855, 5529.18183575, 5530.05748792,\n",
       "          5531.08722705, 5532.29047343, 5533.64195169, 5535.14127536,\n",
       "          5536.83256039, 5538.62589372, 5540.50479227, 5542.45785507,\n",
       "          5544.48117874, 5546.58591304, 5548.76245411, 5550.9903285 ,\n",
       "          5553.22450242, 5555.51500483, 5557.84676329, 5560.21152657,\n",
       "          5562.58856039, 5565.01508213, 5567.50226087, 5570.04771981,\n",
       "          5572.64782609, 5575.25181643, 5577.85828019, 5580.41756522,\n",
       "          5582.98933333, 5585.66703382, 5588.43312077, 5591.34782609,\n",
       "          5594.29321739, 5597.15783575, 5600.00430918, 5602.80324638,\n",
       "          5605.57831884, 5608.36001932, 5611.15911111, 5614.06904348,\n",
       "          5616.96771014, 5619.90953623, 5622.89111111, 5625.93915942,\n",
       "          5629.07165217, 5632.34422222, 5635.77124638, 5639.34097585,\n",
       "          5643.14481159, 5646.91529469, 5650.71109179, 5654.54385507,\n",
       "          5658.50405797, 5662.584     , 5666.70970048, 5670.87095652,\n",
       "          5674.94305314, 5678.98305314, 5683.16382609, 5687.28502415,\n",
       "          5691.41540097, 5695.60168116, 5699.6830628 , 5703.71371981,\n",
       "          5707.85521739, 5712.4906087 , 5717.36918841, 5722.55638647,\n",
       "          5728.09568116, 5734.02320773, 5740.31173913, 5747.15252174,\n",
       "          5754.65838647, 5762.5011401 , 5752.0881256 , 5747.92185507,\n",
       "          5752.89602899, 5765.73366184, 5784.76045411, 5809.47845411,\n",
       "          5838.89030918, 5872.96251208, 5908.9944058 , 5947.72697585,\n",
       "          5988.89927536, 6029.80993237, 6068.92057005, 6103.5942029 ,\n",
       "          6135.07350725, 6162.69978744, 6185.443343  , 6204.0374686 ,\n",
       "          6218.89648309, 6230.17368116, 6237.56800966, 6240.64850242,\n",
       "          6238.83867633, 6231.1512657 , 6216.72368116, 6222.31103382,\n",
       "          6232.59342029, 6245.02191304, 6258.75046377, 6274.31169082,\n",
       "          6291.58750725, 6309.62324638, 6327.12685024, 6345.52910145,\n",
       "          6362.50887923, 6375.89781643, 6385.90356522, 6392.55957488,\n",
       "          6398.21724638, 6402.11327536, 6404.83305314, 6407.65683092,\n",
       "          6410.75104348, 6414.10521739, 6417.60138164, 6421.35619324,\n",
       "          6425.6693913 , 6430.18069565, 6434.91916908, 6439.91884058,\n",
       "          6445.23250242, 6450.98500483, 6456.51752657, 6462.26647343,\n",
       "          6468.39598068, 6474.05391304, 6479.89271498, 6485.7484058 ,\n",
       "          6491.59174879, 6497.40571981, 6503.20057971, 6509.0346087 ,\n",
       "          6514.82202899, 6520.19943961, 6525.30092754, 6530.31057005,\n",
       "          6535.41615459, 6540.76423188, 6546.3902029 , 6552.32792271,\n",
       "          6558.54854106, 6565.04942995, 6571.70129469, 6578.520657  ,\n",
       "          6585.51951691, 6592.71045411, 6600.11184541, 6607.77286957,\n",
       "          6615.66564251, 6623.70757488, 6631.74144928, 6639.41696618,\n",
       "          6647.96071498, 6655.91070531, 6663.75171014, 6671.41294686,\n",
       "          6678.82790338, 6685.75686957, 6692.86510145, 6700.03178744,\n",
       "          6707.22419324, 6714.33468599, 6721.31335266, 6728.18374879,\n",
       "          6734.92486957, 6741.55899517, 6747.89259903, 6753.98738164,\n",
       "          6759.81733333, 6765.39495652, 6770.76129469, 6775.97190338,\n",
       "          6780.99561353, 6785.85715942, 6790.284657  , 6794.48407729,\n",
       "          6799.18633816, 6802.65497585, 6806.85403865, 6811.32269565,\n",
       "          6815.022657  , 6818.67131401, 6822.26458937, 6825.61257005,\n",
       "          6828.85264734, 6831.99307246, 6835.06178744, 6838.06045411,\n",
       "          6840.96882126, 6843.78503382, 6846.58138164, 6849.14824155,\n",
       "          6851.59981643, 6853.97544928, 6856.29390338, 6858.59919807,\n",
       "          6860.89258937, 6863.15846377, 6865.47303382, 6867.80416425,\n",
       "          6870.25131401, 6872.64058937, 6875.40058937, 6877.77415459,\n",
       "          6879.50728502, 6881.72624155, 6884.01636715, 6886.3134686 ,\n",
       "          6888.61066667, 6890.89474396, 6893.16017391, 6895.41120773,\n",
       "          6897.67654106, 6899.99084058, 6902.29862802, 6904.52125604,\n",
       "          6906.67193237, 6908.76255072, 6910.85415459, 6912.94554589,\n",
       "          6915.02095652, 6917.10096618, 6919.13361353, 6921.024657  ,\n",
       "          6922.64901449, 6924.55381643, 6926.36681159, 6928.00658937,\n",
       "          6929.63550725, 6931.31499517, 6932.96292754, 6934.47742995,\n",
       "          6936.15554589, 6937.72769082, 6939.31257005, 6940.92081159,\n",
       "          6942.54014493, 6944.17843478, 6945.81736232, 6947.44369082,\n",
       "          6949.05398068, 6950.69474396, 6952.36488889, 6954.02629952,\n",
       "          6955.67922705, 6957.33312077, 6958.96343961, 6960.55777778,\n",
       "          6962.12083092, 6963.92794203, 6965.40193237, 6966.81909179,\n",
       "          6968.33837681, 6969.86993237, 6971.39843478, 6972.92883092,\n",
       "          6974.54740097, 6975.92193237, 6977.31022222, 6978.70235749,\n",
       "          6980.10535266, 6981.55035749, 6983.06674396, 6984.55142029,\n",
       "          6986.04861836, 6987.55145894, 6989.0650628 , 6990.60896618,\n",
       "          6992.18092754, 6993.78340097, 6995.4527343 , 6997.08245411,\n",
       "          6998.71766184, 7000.35424155, 7002.00216425, 7003.66142995,\n",
       "          7005.33184541, 7007.00330435, 7008.71172947, 7010.34063768,\n",
       "          7011.93248309, 7013.48069565, 7015.03936232, 7016.64183575,\n",
       "          7018.2306087 , 7019.83058937, 7021.43988406, 7023.05416425,\n",
       "          7024.6497971 , 7026.23225121, 7027.80229952, 7029.37310145,\n",
       "          7030.94867633, 7032.53381643, 7034.1293913 , 7035.70571981,\n",
       "          7037.25808696, 7038.7898744 , 7040.29323671, 7041.77068599,\n",
       "          7043.2302029 , 7044.66834783, 7046.08226087, 7047.42564251,\n",
       "          7048.77810628, 7050.09920773, 7051.37849275, 7052.64247343,\n",
       "          7053.88713043, 7055.13132367, 7056.37329469, 7057.62202899,\n",
       "          7058.84618357, 7060.04141063, 7061.21557488, 7062.3887343 ,\n",
       "          7063.5665314 , 7064.74488889, 7065.93153623, 7067.12892754,\n",
       "          7068.33422222, 7069.49777778, 7070.64825121, 7071.84678261,\n",
       "          7073.08610628, 7074.36079227, 7075.67416425, 7077.04299517,\n",
       "          7078.5222029 , 7079.95771981, 7081.40075362, 7082.93097585,\n",
       "          7084.5294686 , 7086.20732367, 7087.95497585, 7089.76411594,\n",
       "          7091.66927536, 7093.55930435, 7095.47443478, 7097.40320773,\n",
       "          7099.336     , 7101.26730435, 7103.19084058, 7105.10197101,\n",
       "          7107.04658937, 7108.88890821, 7110.71476329, 7112.54173913,\n",
       "          7114.29006763, 7115.97457005, 7117.67530435, 7119.46181643,\n",
       "          7121.25887923, 7123.0004058 , 7124.80299517, 7126.69862802,\n",
       "          7128.64231884, 7130.59764251, 7132.63729469, 7134.7669372 ,\n",
       "          7136.99107246, 7139.24508213, 7141.55938164, 7143.92919807,\n",
       "          7146.34168116, 7148.79781643, 7151.26892754, 7153.81084058,\n",
       "          7156.34438647, 7158.69731401, 7161.243343  , 7163.58846377,\n",
       "          7165.87103382, 7168.14195169, 7170.44154589, 7172.72742029,\n",
       "          7174.86318841, 7176.96301449, 7179.01762319, 7181.02353623,\n",
       "          7182.98554589, 7184.90471498, 7186.91002899, 7188.87455072,\n",
       "          7190.82071498, 7192.74023188, 7194.64716908, 7196.49998068,\n",
       "          7198.32150725, 7200.18193237, 7202.12989372, 7204.09397101,\n",
       "          7205.99252174, 7207.89182609, 7209.95406763, 7211.81057005,\n",
       "          7213.79130435, 7215.8014686 , 7217.93024155, 7220.07286957,\n",
       "          7222.22962319, 7224.47619324, 7226.76556522, 7229.11132367,\n",
       "          7231.52676329, 7234.01536232, 7236.58297585, 7239.23584541,\n",
       "          7241.93028019, 7244.58894686, 7247.25207729, 7249.97609662,\n",
       "          7252.8134686 , 7255.75348792, 7258.81965217, 7261.81978744,\n",
       "          7264.83342995, 7267.8810628 , 7270.93250242, 7273.96956522,\n",
       "          7276.98573913, 7279.99851208, 7283.06995169, 7285.98997101,\n",
       "          7288.82885024, 7291.58875362, 7294.27198068, 7296.81699517,\n",
       "          7299.20603865, 7301.65774879, 7304.53330435, 7307.28043478,\n",
       "          7310.00058937, 7312.7234686 , 7315.53736232, 7318.45776812,\n",
       "          7321.31259903, 7323.97301449, 7327.07220773, 7330.23375072,\n",
       "          7333.52200676, 7336.87685797, 7340.09693182, 7343.34955086,\n",
       "          7346.57559127, 7349.75185839, 7352.73062468, 7355.50184571,\n",
       "          7358.03214949, 7360.28800946, 7362.25794735, 7363.94072644,\n",
       "          7365.43939989, 7366.96630584, 7368.35806266, 7369.16190707,\n",
       "          7369.85888254, 7370.31376202, 7370.59676773, 7370.70185136,\n",
       "          7370.65038489, 7370.63301567, 7371.01423645, 7371.25601824,\n",
       "          7371.54213207, 7371.83792961, 7372.14952874, 7372.70632271,\n",
       "          7373.38014396, 7374.17641932, 7375.05503382, 7376.1289372 ,\n",
       "          7377.26463768, 7378.57790338, 7379.97719807, 7381.46574879,\n",
       "          7383.04398068, 7384.61142995, 7386.59503382, 7387.2975942 ,\n",
       "          7389.96442512, 7391.78333333, 7394.97354589, 7398.01602899,\n",
       "          7400.33805797, 7402.57490821, 7405.19707246, 7409.46445411,\n",
       "          7412.05885024, 7416.24615459, 7420.03655072, 7422.26668599,\n",
       "          7424.44235749, 7426.58444444, 7428.78920773, 7431.27074396,\n",
       "          7434.03740097, 7437.08554589, 7440.32514976, 7443.82591304,\n",
       "          7447.26545894, 7451.71377778, 7456.14905314, 7460.37628986,\n",
       "          7466.67856039, 7471.89385507, 7478.57096618, 7484.40525604,\n",
       "          7490.38480193, 7497.38714976, 7505.2102029 , 7513.63132367,\n",
       "          7520.3404058 , 7528.51972947, 7534.78964251, 7540.41851208,\n",
       "          7547.09201932, 7553.90883092, 7560.96078261, 7568.32193237,\n",
       "          7576.09837681, 7583.92815459, 7591.85704348]),\n",
       "   'fitted_model': {'slope': np.float64(4747.7841749457),\n",
       "    'intercept': np.float64(1320.8844336364004),\n",
       "    'fitted_y': array([5595.09986566, 5597.61783234, 5598.87681568, 5600.13579902,\n",
       "           5600.76529069, 5601.39478236, 5602.6537657 , 5603.28325737,\n",
       "           5603.91274904, 5604.54224071, 5605.17173237, 5605.80122404,\n",
       "           5606.43071571, 5607.06020738, 5607.68969905, 5608.31919072,\n",
       "           5608.94868239, 5609.57817406, 5610.20766573, 5610.8371574 ,\n",
       "           5611.46664907, 5612.09614074, 5612.72563241, 5615.87309076,\n",
       "           5620.90902412, 5625.94495747, 5626.57444914, 5634.75784085,\n",
       "           5643.57072422, 5646.0886909 , 5649.86564092, 5653.64259094,\n",
       "           5659.30801596, 5662.45547431, 5666.23242433, 5668.75039101,\n",
       "           5686.37615776, 5693.93005779, 5697.07751614, 5707.77887452,\n",
       "           5712.81480788, 5719.73921625, 5722.25718292, 5732.32904964,\n",
       "           5738.62396634, 5741.77142468, 5748.69583305, 5749.95481639,\n",
       "           5750.58430806, 5754.99074975, 5756.87922475, 5757.50871642,\n",
       "           5766.95109147, 5770.72804149, 5775.13448317, 5778.91143319,\n",
       "           5788.35380824, 5790.24228324, 5791.50126658, 5803.46160831,\n",
       "           5807.86804999, 5811.64500001, 5821.08737506, 5826.75280008,\n",
       "           5828.64127509, 5837.45415847, 5842.49009182, 5845.63755017,\n",
       "           5850.04399186, 5857.59789189, 5860.11585857, 5866.41077527,\n",
       "           5870.18772529, 5872.70569196, 5874.59416697, 5882.14806701,\n",
       "           5884.66603369, 5886.5545087 , 5890.96095038, 5892.84942539,\n",
       "           5897.25586708, 5900.40332543, 5902.92129211, 5906.06875046,\n",
       "           5912.99315882, 5915.5111255 , 5916.14061717, 5924.32400887,\n",
       "           5927.47146722, 5928.73045056, 5935.65485893, 5938.17282561,\n",
       "           5940.69079228, 5945.09723397, 5946.35621731, 5948.87418399,\n",
       "           5955.16910069, 5957.05757569, 5960.20503404, 5965.2409674 ,\n",
       "           5968.38842575, 5969.01791742, 5976.57181745, 5980.97825914,\n",
       "           5982.23724248, 5991.05012585, 5994.1975842 , 5997.97453422,\n",
       "           6001.75148424, 6008.04640093, 6009.93487594, 6010.56436761,\n",
       "           6019.37725099, 6022.52470934, 6025.04267601, 6030.70810104,\n",
       "           6034.48505106, 6035.11454273, 6040.77996775, 6043.29793443,\n",
       "           6044.55691777, 6049.59285113, 6052.11081781, 6054.62878449,\n",
       "           6055.25827616, 6062.18268452, 6064.07115953, 6070.36607623,\n",
       "           6073.51353458, 6076.03150125, 6079.80845127, 6082.32641795,\n",
       "           6083.58540129, 6086.10336797, 6091.76879299, 6093.02777633,\n",
       "           6097.43421802, 6099.9521847 , 6102.47015138, 6104.98811806,\n",
       "           6113.17150976, 6117.57795145, 6118.83693479, 6125.13185148,\n",
       "           6128.27930983, 6128.9088015 , 6131.42676818, 6138.35117655,\n",
       "           6138.98066822, 6139.61015989, 6140.86914322, 6144.01660157,\n",
       "           6147.16405992, 6148.42304326, 6157.8654183 , 6162.27185999,\n",
       "           6164.78982667, 6169.82576003, 6172.34372671, 6178.00915173,\n",
       "           6187.45152678, 6189.96949346, 6191.22847679, 6201.30034351,\n",
       "           6203.18881852, 6203.81831019, 6205.7067852 , 6206.96576854,\n",
       "           6208.22475187, 6213.26068523, 6215.77865191, 6217.66712692,\n",
       "           6222.07356861, 6225.85051862, 6229.62746864, 6232.77492699,\n",
       "           6238.44035202, 6241.58781036, 6242.8467937 , 6251.03018541,\n",
       "           6256.06611877, 6257.95459377, 6266.13798548, 6269.9149355 ,\n",
       "           6272.43290218, 6275.58036052, 6281.24578555, 6283.76375223,\n",
       "           6290.05866893, 6293.83561894, 6297.61256896, 6300.13053564,\n",
       "           6308.31392734, 6311.46138569, 6312.09087736, 6319.6447774 ,\n",
       "           6323.42172742, 6327.19867743, 6330.97562745, 6340.4180025 ,\n",
       "           6342.93596917, 6344.82444418, 6353.63732756, 6356.78478591,\n",
       "           6359.93224425, 6368.11563596, 6371.89258598, 6372.52207765,\n",
       "           6378.81699434, 6382.59394436, 6385.74140271, 6390.77733607,\n",
       "           6394.55428608, 6395.18377775, 6398.3312361 , 6404.6261528 ,\n",
       "           6407.77361115, 6410.92106949, 6417.21598619, 6418.47496953,\n",
       "           6419.1044612 , 6422.88141122, 6427.2878529 , 6428.54683624,\n",
       "           6436.73022795, 6441.76616131, 6444.28412798, 6446.17260299,\n",
       "           6451.20853635, 6451.83802802, 6452.46751969, 6458.76243639,\n",
       "           6462.5393864 , 6464.42786141, 6475.1292198 , 6481.42413649,\n",
       "           6483.94210317, 6495.27295322, 6501.56786992, 6505.97431161,\n",
       "           6509.75126162, 6514.78719498, 6515.41668665, 6516.04617832,\n",
       "           6517.30516166, 6517.93465333, 6519.19363667, 6519.82312834,\n",
       "           6521.71160335, 6524.8590617 , 6529.26550338, 6537.44889509,\n",
       "           6539.96686177, 6540.59635344, 6548.15025347, 6551.92720349,\n",
       "           6558.22212019, 6561.9990702 , 6564.51703688, 6565.77602022,\n",
       "           6573.32992026, 6578.99534528, 6583.40178697, 6591.58517868,\n",
       "           6595.36212869, 6595.99162036, 6599.76857038, 6607.32247042,\n",
       "           6609.84043709, 6611.7289121 , 6618.65332047, 6623.05976216,\n",
       "           6624.3187455 , 6631.24315386, 6633.76112054, 6636.90857889,\n",
       "           6641.94451225, 6645.09197059, 6647.60993727, 6650.12790395,\n",
       "           6657.68180399, 6659.570279  , 6661.458754  , 6668.38316237,\n",
       "           6670.27163738, 6675.93706241, 6679.08452075, 6679.71401242,\n",
       "           6686.00892912, 6689.15638747, 6690.41537081, 6692.93333749,\n",
       "           6697.96927084, 6698.59876251, 6699.22825418, 6703.0052042 ,\n",
       "           6704.89367921, 6706.15266255, 6709.92961257, 6711.1885959 ,\n",
       "           6711.81808757, 6716.85402093, 6720.00147928, 6721.88995429,\n",
       "           6724.40792097, 6731.33232933, 6731.961821  , 6733.22080434,\n",
       "           6738.88622937, 6741.40419605, 6742.66317939, 6749.58758775,\n",
       "           6753.36453777, 6753.99402944, 6759.65945447, 6763.43640448,\n",
       "           6765.32487949, 6769.10182951, 6771.61979619, 6772.87877953,\n",
       "           6774.13776287, 6779.80318789, 6781.6916629 , 6782.32115457,\n",
       "           6787.9865796 , 6791.13403795, 6796.79946297, 6799.31742965,\n",
       "           6801.83539633, 6805.61234635, 6808.7598047 , 6810.01878804,\n",
       "           6814.42522972, 6816.9431964 , 6818.83167141, 6820.72014642,\n",
       "           6826.38557145, 6829.53302979, 6830.79201313, 6837.08692983,\n",
       "           6840.86387985, 6843.38184653, 6847.78828821, 6849.67676322,\n",
       "           6850.93574656, 6851.56523823, 6855.97167992, 6857.23066326,\n",
       "           6859.11913827, 6861.00761327, 6862.89608828, 6864.15507162,\n",
       "           6875.48592168, 6881.1513467 , 6884.29880505, 6893.7411801 ,\n",
       "           6898.77711345, 6902.55406347, 6908.2194885 , 6911.36694684,\n",
       "           6913.88491352, 6915.77338853, 6922.6977969 , 6926.47474692,\n",
       "           6928.36322192, 6936.54661363, 6940.32356365, 6942.21203866,\n",
       "           6949.13644702, 6952.91339704, 6956.06085539, 6962.35577208,\n",
       "           6966.76221377, 6969.90967212, 6975.57509715, 6980.6110305 ,\n",
       "           6982.49950551, 6983.12899718, 6990.68289722, 6995.71883057,\n",
       "           6998.23679725, 7005.79069729, 7009.56764731, 7010.19713898,\n",
       "           7013.34459732, 7021.52798903, 7024.04595571, 7024.67544738,\n",
       "           7033.48833075, 7036.00629743, 7043.56019747, 7046.07816414,\n",
       "           7046.70765581, 7053.00257251, 7056.77952253, 7058.03850587,\n",
       "           7066.22189757, 7069.99884759, 7071.8873226 , 7079.44122263,\n",
       "           7083.21817265, 7084.47715599, 7093.29003937, 7095.80800604,\n",
       "           7098.95546439, 7103.36190608, 7107.1388561 , 7109.02733111,\n",
       "           7110.91580612, 7117.21072281, 7119.09919782, 7123.50563951,\n",
       "           7127.28258953, 7130.43004787, 7131.68903121, 7139.24293125,\n",
       "           7141.76089793, 7148.05581462, 7150.5737813 , 7151.83276464,\n",
       "           7158.75717301, 7162.53412302, 7165.0520897 , 7167.57005638,\n",
       "           7176.38293976, 7178.27141477, 7186.45480647, 7190.86124816,\n",
       "           7194.00870651, 7205.96904823, 7209.74599825, 7210.37548992,\n",
       "           7217.92938995, 7223.59481498, 7227.371765  , 7233.03719002,\n",
       "           7241.22058173, 7241.8500734 , 7242.47956507, 7249.40397343,\n",
       "           7253.18092345, 7253.81041512, 7261.36431516, 7264.5117735 ,\n",
       "           7270.17719853, 7273.32465688, 7274.58364022, 7278.36059024,\n",
       "           7287.80296528, 7290.32093196, 7294.72737365, 7301.65178201,\n",
       "           7305.42873203, 7307.31720704, 7312.3531404 , 7314.87110707,\n",
       "           7320.5365321 , 7324.31348212, 7327.46094047, 7331.86738215,\n",
       "           7343.19823221, 7346.34569056, 7349.4931489 , 7358.30603228,\n",
       "           7360.19450729, 7362.0829823 , 7372.15484901, 7376.5612907 ,\n",
       "           7379.07925738, 7389.15112409, 7394.18705745, 7397.33451579,\n",
       "           7401.74095748, 7414.33079087, 7417.47824922, 7420.62570757,\n",
       "           7426.2911326 , 7429.43859095, 7437.62198265, 7439.51045766,\n",
       "           7441.39893267, 7447.69384936, 7452.10029105, 7454.61825773,\n",
       "           7458.39520775, 7464.69012444, 7465.94910778, 7467.20809112,\n",
       "           7472.24402448, 7472.87351615, 7473.50300782, 7476.65046617,\n",
       "           7479.79792452, 7480.42741619, 7487.35182455, 7491.12877457,\n",
       "           7498.05318293, 7498.6826746 , 7499.94165794, 7502.45962462,\n",
       "           7503.08911629, 7505.60708297, 7509.38403299, 7510.64301633,\n",
       "           7511.272508  , 7511.90199967, 7512.53149134, 7513.16098301,\n",
       "           7513.79047468, 7514.41996634, 7515.04945801, 7515.67894968,\n",
       "           7516.30844135, 7516.93793302, 7517.56742469, 7518.82640803,\n",
       "           7526.38030807, 7527.00979974, 7530.15725809, 7533.30471643,\n",
       "           7533.9342081 , 7535.19319144, 7537.71115812, 7540.85861647,\n",
       "           7542.74709148, 7548.4125165 , 7552.18946652, 7555.33692487,\n",
       "           7559.11387489, 7567.92675826, 7571.70370828, 7572.96269162,\n",
       "           7579.88709999, 7583.03455833, 7589.9589667 , 7593.10642505,\n",
       "           7594.36540839, 7601.28981675, 7604.4372751 , 7607.58473345,\n",
       "           7613.87965015, 7617.65660016, 7619.54507517, 7621.43355018,\n",
       "           7628.98745022, 7630.87592523, 7631.50541689, 7635.91185858,\n",
       "           7636.54135025, 7637.17084192, 7639.6888086 , 7640.31830027,\n",
       "           7640.94779194, 7642.83626695, 7644.72474196, 7645.9837253 ,\n",
       "           7646.61321697, 7649.13118364, 7650.39016698, 7652.90813366,\n",
       "           7653.53762533, 7660.4620337 , 7663.60949205, 7668.01593373,\n",
       "           7676.19932544, 7678.08780045, 7679.97627546, 7687.53017549,\n",
       "           7688.78915883, 7689.4186505 , 7696.97255054, 7700.12000888,\n",
       "           7707.04441725, 7710.82136727, 7712.08035061, 7719.63425064,\n",
       "           7723.41120066, 7724.04069233, 7727.18815068])}},\n",
       "  {'segment': 4,\n",
       "   'data_x': array([ 8.124,  8.129,  8.133,  8.142,  8.147,  8.148,  8.162,  8.167,\n",
       "           8.168,  8.179,  8.186,  8.191,  8.2  ,  8.205,  8.206,  8.207,\n",
       "           8.222,  8.225,  8.229,  8.237,  8.242,  8.251,  8.256,  8.26 ,\n",
       "           8.264,  8.273,  8.276,  8.278,  8.287,  8.292,  8.295,  8.302,\n",
       "           8.307,  8.316,  8.322,  8.324,  8.329,  8.343,  8.348,  8.358,\n",
       "           8.365,  8.371,  8.374,  8.389,  8.396,  8.399,  8.412,  8.416,\n",
       "           8.42 ,  8.425,  8.437,  8.441,  8.453,  8.456,  8.463,  8.466,\n",
       "           8.475,  8.48 ,  8.481,  8.485,  8.498,  8.502,  8.507,  8.517,\n",
       "           8.52 ,  8.521,  8.535,  8.54 ,  8.542,  8.553,  8.558,  8.567,\n",
       "           8.573,  8.579,  8.583,  8.593,  8.598,  8.604,  8.617,  8.622,\n",
       "           8.625,  8.639,  8.646,  8.648,  8.66 ,  8.666,  8.671,  8.683,\n",
       "           8.686,  8.688,  8.7  ,  8.704,  8.713,  8.717,  8.725,  8.73 ,\n",
       "           8.734,  8.738,  8.751,  8.754,  8.759,  8.77 ,  8.772,  8.773,\n",
       "           8.782,  8.789,  8.79 ,  8.802,  8.807,  8.81 ,  8.815,  8.831,\n",
       "           8.836,  8.844,  8.862,  8.867,  8.871,  8.881,  8.886,  8.888,\n",
       "           8.902,  8.909,  8.913,  8.924,  8.931,  8.935,  8.94 ,  8.952,\n",
       "           8.956,  8.962,  8.973,  8.979,  8.984,  8.993,  8.998,  9.009,\n",
       "           9.015,  9.022,  9.037,  9.041,  9.046,  9.058,  9.065,  9.067,\n",
       "           9.079,  9.084,  9.085,  9.096,  9.102,  9.108,  9.115,  9.132,\n",
       "           9.138,  9.144,  9.161,  9.166,  9.167,  9.182,  9.189,  9.19 ,\n",
       "           9.201,  9.208,  9.212,  9.217,  9.229,  9.233,  9.238,  9.25 ,\n",
       "           9.256,  9.263,  9.275,  9.282,  9.293,  9.297,  9.298,  9.307,\n",
       "           9.314,  9.315,  9.321,  9.335,  9.339,  9.343,  9.351,  9.357,\n",
       "           9.359,  9.374,  9.38 ,  9.385,  9.397,  9.403,  9.407,  9.416,\n",
       "           9.419,  9.423,  9.428,  9.437,  9.442,  9.453,  9.457,  9.458,\n",
       "           9.464,  9.469,  9.474,  9.478,  9.49 ,  9.494,  9.502,  9.507,\n",
       "           9.512,  9.524,  9.53 ,  9.535,  9.545,  9.551,  9.555,  9.56 ,\n",
       "           9.575,  9.579,  9.581,  9.601,  9.609,  9.616,  9.634,  9.641,\n",
       "           9.646,  9.668,  9.675,  9.683,  9.696,  9.702,  9.704,  9.707,\n",
       "           9.721,  9.723,  9.724,  9.729,  9.732,  9.747,  9.754,  9.758,\n",
       "           9.764,  9.769,  9.774,  9.779,  9.793,  9.799,  9.801,  9.817,\n",
       "           9.824,  9.826,  9.84 ,  9.847,  9.849,  9.862,  9.868,  9.872,\n",
       "           9.877,  9.89 ,  9.895,  9.896,  9.911,  9.916,  9.917,  9.929,\n",
       "           9.93 ,  9.932,  9.94 ,  9.947,  9.948,  9.954,  9.968,  9.972,\n",
       "           9.973,  9.984,  9.99 ,  9.995, 10.008, 10.011, 10.012, 10.019,\n",
       "          10.024, 10.028, 10.039, 10.045, 10.046, 10.05 , 10.066, 10.074,\n",
       "          10.08 , 10.094, 10.101, 10.104, 10.116, 10.122, 10.127, 10.138,\n",
       "          10.143, 10.148, 10.151, 10.163, 10.169, 10.17 , 10.18 , 10.184,\n",
       "          10.194, 10.2  , 10.207, 10.222, 10.227, 10.239, 10.246, 10.252,\n",
       "          10.253, 10.263, 10.267, 10.269, 10.283, 10.292, 10.293, 10.304,\n",
       "          10.314, 10.319, 10.325, 10.341, 10.345, 10.346, 10.359, 10.365,\n",
       "          10.366, 10.382, 10.388, 10.39 , 10.405, 10.414, 10.419, 10.43 ,\n",
       "          10.437, 10.442, 10.449, 10.459, 10.463, 10.468, 10.479, 10.485,\n",
       "          10.486, 10.498, 10.505, 10.51 , 10.516, 10.529, 10.531, 10.532,\n",
       "          10.546, 10.55 , 10.554, 10.563, 10.569, 10.571, 10.582, 10.589,\n",
       "          10.592, 10.604, 10.61 , 10.616, 10.621, 10.633, 10.636, 10.639,\n",
       "          10.648, 10.653, 10.657, 10.668, 10.67 , 10.672, 10.674, 10.687,\n",
       "          10.69 , 10.7  , 10.706, 10.711, 10.714, 10.727, 10.732, 10.733,\n",
       "          10.745, 10.752, 10.753, 10.764, 10.77 , 10.773, 10.778, 10.792,\n",
       "          10.799, 10.805, 10.82 , 10.825, 10.837, 10.842, 10.843, 10.853,\n",
       "          10.859, 10.863, 10.867, 10.875, 10.876, 10.887, 10.894, 10.896,\n",
       "          10.908, 10.915, 10.926, 10.931, 10.934, 10.94 , 10.944, 10.949,\n",
       "          10.954, 10.968, 10.972, 10.973, 10.981, 10.988, 10.997, 11.008,\n",
       "          11.013, 11.017, 11.031, 11.038, 11.057, 11.067, 11.075, 11.079,\n",
       "          11.093, 11.096, 11.097, 11.107, 11.114, 11.118, 11.129, 11.151,\n",
       "          11.157, 11.164, 11.185, 11.193, 11.199, 11.219, 11.225, 11.238,\n",
       "          11.242, 11.257, 11.264, 11.269, 11.276, 11.293, 11.299, 11.304,\n",
       "          11.317, 11.324, 11.331, 11.35 , 11.357, 11.358, 11.37 , 11.377,\n",
       "          11.378, 11.382, 11.396, 11.4  , 11.404, 11.416, 11.424, 11.426,\n",
       "          11.44 , 11.45 , 11.452, 11.468, 11.477, 11.483, 11.489, 11.501,\n",
       "          11.505, 11.509, 11.52 , 11.521, 11.531, 11.536, 11.537, 11.545,\n",
       "          11.551, 11.553, 11.561, 11.584, 11.588, 11.59 , 11.605, 11.61 ,\n",
       "          11.615, 11.628, 11.63 , 11.642, 11.648, 11.65 , 11.667, 11.677,\n",
       "          11.683, 11.69 , 11.707, 11.713, 11.717, 11.734, 11.742, 11.75 ,\n",
       "          11.764, 11.771, 11.773, 11.784, 11.789, 11.794, 11.799, 11.813,\n",
       "          11.817, 11.818, 11.828, 11.834, 11.838, 11.846, 11.851, 11.855,\n",
       "          11.867, 11.874, 11.88 , 11.887, 11.904, 11.909, 11.912, 11.927,\n",
       "          11.934, 11.936, 11.951, 11.959, 11.962, 11.98 , 11.988, 11.995,\n",
       "          12.012, 12.023, 12.027, 12.031, 12.052, 12.059, 12.061, 12.075,\n",
       "          12.08 , 12.081, 12.093, 12.099, 12.104, 12.115, 12.122, 12.13 ,\n",
       "          12.138, 12.161, 12.168, 12.175, 12.185, 12.19 , 12.195, 12.206,\n",
       "          12.212, 12.217, 12.231, 12.24 , 12.247, 12.251, 12.269, 12.274,\n",
       "          12.284, 12.289, 12.295, 12.306, 12.307, 12.309, 12.314, 12.317,\n",
       "          12.321, 12.328, 12.332, 12.337, 12.35 , 12.356, 12.363, 12.381,\n",
       "          12.391, 12.395, 12.41 , 12.417, 12.423, 12.434, 12.438, 12.44 ,\n",
       "          12.444, 12.462, 12.471, 12.473, 12.483, 12.488, 12.489, 12.507,\n",
       "          12.521, 12.529]),\n",
       "   'data_y': array([ 7599.87978744,  7607.97928502,  7616.61839614,  7624.56742029,\n",
       "           7632.87528502,  7641.57621256,  7650.38921739,  7659.27737198,\n",
       "           7668.02943961,  7676.65764251,  7685.48972947,  7694.57429952,\n",
       "           7704.11079227,  7713.45849275,  7722.80433816,  7732.19341063,\n",
       "           7741.67790338,  7751.20475362,  7760.77274396,  7770.35437681,\n",
       "           7779.87245411,  7789.41574879,  7798.79200966,  7808.22664734,\n",
       "           7817.71713043,  7827.25760386,  7836.81413527,  7846.35246377,\n",
       "           7856.21709179,  7866.04515942,  7875.5187343 ,  7884.86471498,\n",
       "           7894.09137198,  7903.52778744,  7895.53974879,  7895.44054106,\n",
       "           7903.6218744 ,  7918.97582609,  7939.46590338,  7965.42941063,\n",
       "           7996.24294686,  8032.19310145,  8071.87071498,  8114.40912077,\n",
       "           8159.40855072,  8205.57464734,  8253.38482126,  8300.19590338,\n",
       "           8345.82474396,  8389.45800966,  8430.65100483,  8468.36508213,\n",
       "           8501.91796135,  8530.08486957,  8552.30920773,  8567.85203865,\n",
       "           8575.92480193,  8575.76819324,  8566.56327536,  8574.32052174,\n",
       "           8581.91171981,  8588.23694686,  8592.93995169,  8597.92950725,\n",
       "           8602.864657  ,  8608.04921739,  8612.44823188,  8616.74237681,\n",
       "           8620.95528502,  8624.68890821,  8628.71230918,  8631.57522705,\n",
       "           8634.8971401 ,  8638.32813527,  8642.18448309,  8646.11068599,\n",
       "           8650.312657  ,  8654.72525604,  8659.30301449,  8663.9674686 ,\n",
       "           8668.66925604,  8673.48300483,  8678.24823188,  8683.03971981,\n",
       "           8687.71793237,  8692.18269565,  8696.42110145,  8700.46760386,\n",
       "           8704.35283092,  8707.98358454,  8711.28398068,  8714.76107246,\n",
       "           8717.64069565,  8720.23436715,  8722.67426087,  8725.06561353,\n",
       "           8727.60208696,  8730.15796135,  8732.90908213,  8735.76561353,\n",
       "           8738.71557488,  8741.75923671,  8744.91748792,  8748.22636715,\n",
       "           8751.82353623,  8755.88944928,  8760.15627053,  8764.68541063,\n",
       "           8769.41785507,  8774.3693913 ,  8779.55569082,  8784.95213527,\n",
       "           8790.5331401 ,  8796.30964251,  8802.1173913 ,  8808.10193237,\n",
       "           8813.67209662,  8819.33690821,  8825.02657005,  8830.73227053,\n",
       "           8836.42527536,  8841.89304348,  8847.2285314 ,  8852.29638647,\n",
       "           8857.11742995,  8861.75082126,  8866.41839614,  8871.15522705,\n",
       "           8876.15969082,  8881.21650242,  8886.15285024,  8891.15190338,\n",
       "           8896.28964251,  8901.62133333,  8907.1865314 ,  8912.99192271,\n",
       "           8919.21101449,  8925.62427053,  8932.00057971,  8938.44662802,\n",
       "           8944.9524058 ,  8951.50104348,  8958.06372947,  8964.63831884,\n",
       "           8971.19625121,  8977.85588406,  8984.30249275,  8990.50971981,\n",
       "           8996.6961256 ,  9002.98001932,  9009.50355556,  9016.15880193,\n",
       "           9022.98436715,  9029.92318841,  9036.88098551,  9043.8589372 ,\n",
       "           9050.83675362,  9057.84637681,  9064.93963285,  9071.90954589,\n",
       "           9078.89978744,  9085.80083092,  9094.00204831,  9101.71795169,\n",
       "           9109.63963285,  9117.73696618,  9125.99238647,  9134.41153623,\n",
       "           9143.02463768,  9152.16488889,  9161.18983575,  9170.36655072,\n",
       "           9179.7582029 ,  9189.37540097,  9199.25203865,  9209.42456039,\n",
       "           9219.93143961,  9231.10206763,  9242.17437681,  9231.10682126,\n",
       "           9227.90486957,  9231.28570048,  9246.3145314 ,  9266.94307246,\n",
       "           9299.14982609,  9341.15433816,  9396.70841546,  9453.69799034,\n",
       "           9515.23349758,  9574.63290821,  9638.45834783,  9703.58307246,\n",
       "           9769.182     ,  9834.84009662,  9899.35531401,  9962.1767343 ,\n",
       "          10021.35170048, 10075.43161353, 10123.52775845, 10164.40129469,\n",
       "          10196.78675362, 10219.3010628 , 10230.42389372, 10228.68805797,\n",
       "          10245.90169082, 10262.51538164, 10281.60364251, 10298.33938164,\n",
       "          10319.64945894, 10340.72720773, 10362.55922705, 10376.76330435,\n",
       "          10390.87201932, 10375.72827053, 10383.31810628, 10399.30096618,\n",
       "          10424.5334686 , 10458.92811594, 10499.46343961, 10549.53091787,\n",
       "          10602.18618357, 10657.02378744, 10711.7901256 , 10765.77775845,\n",
       "          10816.23904348, 10865.63543961, 10912.65684058, 10956.07482126,\n",
       "          10995.60663768, 11030.30168116, 11059.76097585, 11083.36342029,\n",
       "          11100.74986473, 11111.92993237, 11115.92911111, 11111.67920773,\n",
       "          11099.50986473, 11079.08191304, 11090.42172947, 11098.90378744,\n",
       "          11109.56070531, 11122.37192271, 11136.46771981, 11153.2094686 ,\n",
       "          11166.06138164, 11177.9596715 , 11187.93942995, 11197.22641546,\n",
       "          11205.47054106, 11215.56695652, 11225.12798068, 11234.27180676,\n",
       "          11242.83217391, 11251.31555556, 11258.56226087, 11264.95406763,\n",
       "          11270.57018357, 11275.82844444, 11280.61242512, 11285.38751691,\n",
       "          11290.27824155, 11295.35209662, 11300.6377971 , 11306.1338744 ,\n",
       "          11311.86382609, 11317.60573913, 11324.12496618, 11330.3706087 ,\n",
       "          11336.59978744, 11342.77578744, 11348.83630918, 11354.72452174,\n",
       "          11360.42761353, 11365.99936232, 11371.47696618, 11376.76324638,\n",
       "          11381.89990338, 11387.00498551, 11390.98716908, 11394.99308213,\n",
       "          11398.88243478, 11402.87184541, 11407.14117874, 11411.61097585,\n",
       "          11416.75729469, 11422.34144928, 11428.36803865, 11434.84313043,\n",
       "          11441.7835942 , 11449.17829952, 11457.34817391, 11465.23237681,\n",
       "          11473.4661256 , 11481.79676329, 11490.22086957, 11498.91191304,\n",
       "          11507.8171401 , 11516.86058937, 11526.13916908, 11535.26176812,\n",
       "          11543.99495652, 11552.38949758, 11560.53263768, 11568.53175845,\n",
       "          11576.47704348, 11584.4558744 , 11592.5057971 , 11600.73699517,\n",
       "          11608.89188406, 11616.61311111, 11624.04554589, 11631.17411594,\n",
       "          11637.99250242, 11644.48383575, 11650.63269565, 11656.54719807,\n",
       "          11662.14498551, 11667.47136232, 11672.73476329, 11678.08755556,\n",
       "          11683.41797101, 11688.77055072, 11694.17998068, 11699.40077295,\n",
       "          11704.76788406, 11710.1108599 , 11715.39750725, 11720.65472464,\n",
       "          11725.95690821, 11731.28898551, 11736.60900483, 11741.87105314,\n",
       "          11746.99026087, 11751.94388406, 11756.75238647, 11761.41957488,\n",
       "          11765.97634783, 11770.42278261, 11774.57849275, 11779.14687923,\n",
       "          11783.15310145, 11787.05942029, 11791.00701449, 11794.8832657 ,\n",
       "          11798.7247343 , 11802.57341063, 11806.45741063, 11810.37878261,\n",
       "          11814.38119807, 11818.29514976, 11822.29161353, 11826.27399034,\n",
       "          11830.21712077, 11834.10813527, 11837.92657005, 11841.69503382,\n",
       "          11845.42156522, 11848.94415459, 11852.44083092, 11855.80705314,\n",
       "          11858.96477295, 11862.29648309, 11865.372657  , 11868.64742029,\n",
       "          11871.33402899, 11874.13555556, 11876.94135266, 11879.53549758,\n",
       "          11882.05536232, 11884.5204058 , 11886.94689855, 11889.33553623,\n",
       "          11891.70496618, 11894.03571014, 11896.37644444, 11898.56510145,\n",
       "          11900.67509179, 11902.73489855, 11904.7629372 , 11906.77016425,\n",
       "          11908.72819324, 11910.67018357, 11912.68403865, 11914.55147826,\n",
       "          11916.38684058, 11918.43491787, 11920.24390338, 11922.20668599,\n",
       "          11924.20307246, 11926.25414493, 11928.42257005, 11930.324     ,\n",
       "          11932.63868599, 11934.78985507, 11937.01777778, 11939.316657  ,\n",
       "          11941.67808696, 11944.0934686 , 11946.51731401, 11948.94886957,\n",
       "          11951.42519807, 11953.92794203, 11956.4297971 , 11958.89184541,\n",
       "          11961.28971981, 11963.69868599, 11965.91331401, 11968.25084058,\n",
       "          11970.38890821, 11972.5210628 , 11974.59646377, 11976.63677295,\n",
       "          11978.60713043, 11980.56092754, 11982.53623188, 11984.42757488,\n",
       "          11986.63317874, 11988.49884058, 11990.56915942, 11992.70952657,\n",
       "          11995.01082126, 11997.2257971 , 11999.86836715, 12002.42086957,\n",
       "          12005.05136232, 12007.71609662, 12010.33528502, 12012.96533333,\n",
       "          12015.62394203, 12018.5141256 , 12021.34981643, 12024.21109179,\n",
       "          12026.71219324, 12029.40915942, 12032.02956522, 11999.57829952,\n",
       "          11986.93322705, 11980.74303382, 11989.05917874, 12011.88301449,\n",
       "          12047.50802899, 12096.13360386, 12156.19827053, 12226.98991304,\n",
       "          12302.28399034, 12384.71795169, 12473.88256039, 12569.11928502,\n",
       "          12668.17678261, 12768.31261836, 12867.03535266, 12962.43913043,\n",
       "          13053.27030918, 13135.84200966, 13208.23583575, 13268.20807729,\n",
       "          13313.76584541, 13342.76790338, 13353.24319807, 13343.9410628 ,\n",
       "          13366.33666667, 13379.20303382, 13396.31601932, 13412.46245411,\n",
       "          13427.11773913, 13441.36564251, 13454.04655072, 13465.4137971 ,\n",
       "          13474.44127536, 13487.50448309, 13501.75022222, 13518.48997101,\n",
       "          13534.18142995, 13549.11723671, 13564.39225121, 13579.01729469,\n",
       "          13593.25033816, 13605.63315942, 13617.51066667, 13628.08896618,\n",
       "          13637.52115942, 13646.01625121, 13653.98664734, 13661.78454106,\n",
       "          13669.48266667, 13676.55609662, 13683.4712657 , 13690.19335266,\n",
       "          13696.95180676, 13703.73609662, 13710.56289855, 13717.55700483,\n",
       "          13724.85062802, 13732.18850242, 13739.25818357, 13747.02057971,\n",
       "          13753.7628599 , 13760.79491787, 13767.72803865, 13773.55171014,\n",
       "          13779.86299517, 13786.04803865, 13792.25155556, 13798.39685024,\n",
       "          13804.85074396, 13811.7476715 , 13819.20181643, 13827.25843478,\n",
       "          13836.08361353, 13845.35198068, 13854.96755556, 13864.89913043,\n",
       "          13875.31248309, 13885.95524638, 13896.73571014, 13907.59520773,\n",
       "          13918.48436715, 13929.2527343 , 13939.64353623, 13949.54094686,\n",
       "          13958.86214493, 13967.50809662, 13975.40641546, 13983.14173913,\n",
       "          13990.83685024, 13998.34981643, 14005.78573913, 14013.32898551,\n",
       "          14021.02017391, 14028.92245411, 14037.06707246, 14045.38888889,\n",
       "          14053.82057971, 14062.0269372 , 14070.41710145, 14078.74745894,\n",
       "          14086.98815459, 14095.09569082, 14103.09692754, 14111.02425121,\n",
       "          14118.88523671, 14126.65617391, 14134.18788406, 14141.49399034,\n",
       "          14148.5978744 , 14155.50765217, 14162.26488889, 14168.94740097,\n",
       "          14175.52618357, 14182.04502415, 14188.37866667, 14194.53057005,\n",
       "          14200.59603865, 14206.6054686 , 14212.58684058, 14218.55522705,\n",
       "          14224.5312657 , 14230.55735266, 14236.74108213, 14243.06966184,\n",
       "          14249.41654106, 14255.87841546, 14262.57681159, 14269.53770048,\n",
       "          14276.81219324, 14284.41074396, 14292.24381643, 14300.13675362,\n",
       "          14308.08619324, 14317.07750725, 14325.82679227, 14334.71143961,\n",
       "          14343.62905314, 14352.596     , 14361.586657  , 14370.26372947,\n",
       "          14378.55378744, 14386.65426087, 14394.60656039, 14402.45190338,\n",
       "          14410.12153623, 14417.64461836, 14425.54696618, 14433.42257005,\n",
       "          14441.04099517, 14448.72801932, 14456.57995169, 14389.76657005,\n",
       "          14366.95243478, 14366.66216425, 14399.02880193, 14463.57501449,\n",
       "          14544.16743961, 14628.99004831, 14715.71468599, 14819.05192271,\n",
       "          14925.27507246, 15044.78664734, 15176.95478261, 15315.74046377,\n",
       "          15460.81157488, 15608.83586473, 15756.72885024, 15900.39006763,\n",
       "          16035.52202899, 16157.8512657 , 16263.28954589, 16348.19455072,\n",
       "          16408.61352657, 16441.11826087]),\n",
       "   'fitted_model': {'slope': np.float64(4747.7841749457),\n",
       "    'intercept': np.float64(1320.8844336364004),\n",
       "    'fitted_y': array([ 7739.36002417,  7747.74450781,  7754.45209473,  7769.5441653 ,\n",
       "            7777.92864894,  7779.60554567,  7803.08209988,  7811.46658353,\n",
       "            7813.14348026,  7831.58934428,  7843.32762139,  7851.71210504,\n",
       "            7866.8041756 ,  7875.18865925,  7876.86555598,  7878.54245271,\n",
       "            7903.69590365,  7908.72659384,  7915.43418075,  7928.84935459,\n",
       "            7937.23383824,  7952.3259088 ,  7960.71039245,  7967.41797936,\n",
       "            7974.12556628,  7989.21763685,  7994.24832703,  7997.60212049,\n",
       "            8012.69419106,  8021.07867471,  8026.10936489,  8037.847642  ,\n",
       "            8046.23212565,  8061.32419621,  8071.38557659,  8074.73937005,\n",
       "            8083.12385369,  8106.6004079 ,  8114.98489155,  8131.75385885,\n",
       "            8143.49213595,  8153.55351633,  8158.58420652,  8183.73765746,\n",
       "            8195.47593456,  8200.50662475,  8222.30628223,  8229.01386915,\n",
       "            8235.72145607,  8244.10593971,  8264.22870047,  8270.93628739,\n",
       "            8291.05904814,  8296.08973833,  8307.82801543,  8312.85870562,\n",
       "            8327.95077618,  8336.33525983,  8338.01215656,  8344.71974348,\n",
       "            8366.51940096,  8373.22698788,  8381.61147153,  8398.38043882,\n",
       "            8403.41112901,  8405.08802574,  8428.56457995,  8436.9490636 ,\n",
       "            8440.30285705,  8458.74872108,  8467.13320472,  8482.22527529,\n",
       "            8492.28665567,  8502.34803604,  8509.05562296,  8525.82459025,\n",
       "            8534.2090739 ,  8544.27045428,  8566.07011176,  8574.45459541,\n",
       "            8579.48528559,  8602.96183981,  8614.70011691,  8618.05391037,\n",
       "            8638.17667112,  8648.2380515 ,  8656.62253515,  8676.7452959 ,\n",
       "            8681.77598609,  8685.12977955,  8705.2525403 ,  8711.96012722,\n",
       "            8727.05219778,  8733.7597847 ,  8747.17495853,  8755.55944218,\n",
       "            8762.2670291 ,  8768.97461602,  8790.7742735 ,  8795.80496369,\n",
       "            8804.18944733,  8822.63531136,  8825.98910482,  8827.66600154,\n",
       "            8842.75807211,  8854.49634922,  8856.17324594,  8876.2960067 ,\n",
       "            8884.68049034,  8889.71118053,  8898.09566418,  8924.92601185,\n",
       "            8933.3104955 ,  8946.72566933,  8976.90981046,  8985.29429411,\n",
       "            8992.00188103,  9008.77084832,  9017.15533197,  9020.50912543,\n",
       "            9043.98567964,  9055.72395674,  9062.43154366,  9080.87740768,\n",
       "            9092.61568479,  9099.32327171,  9107.70775535,  9127.83051611,\n",
       "            9134.53810302,  9144.5994834 ,  9163.04534742,  9173.1067278 ,\n",
       "            9181.49121145,  9196.58328201,  9204.96776566,  9223.41362968,\n",
       "            9233.47501006,  9245.21328716,  9270.36673811,  9277.07432502,\n",
       "            9285.45880867,  9305.58156942,  9317.31984653,  9320.67363999,\n",
       "            9340.79640074,  9349.18088439,  9350.85778112,  9369.30364514,\n",
       "            9379.36502552,  9389.42640589,  9401.164683  ,  9429.6719274 ,\n",
       "            9439.73330777,  9449.79468815,  9478.30193255,  9486.6864162 ,\n",
       "            9488.36331293,  9513.51676387,  9525.25504097,  9526.9319377 ,\n",
       "            9545.37780173,  9557.11607883,  9563.82366575,  9572.2081494 ,\n",
       "            9592.33091015,  9599.03849707,  9607.42298071,  9627.54574147,\n",
       "            9637.60712184,  9649.34539895,  9669.4681597 ,  9681.20643681,\n",
       "            9699.65230083,  9706.35988775,  9708.03678448,  9723.12885504,\n",
       "            9734.86713215,  9736.54402888,  9746.60540925,  9770.08196347,\n",
       "            9776.78955038,  9783.4971373 ,  9796.91231114,  9806.97369151,\n",
       "            9810.32748497,  9835.48093591,  9845.54231629,  9853.92679994,\n",
       "            9874.04956069,  9884.11094106,  9890.81852798,  9905.91059855,\n",
       "            9910.94128874,  9917.64887565,  9926.0333593 ,  9941.12542986,\n",
       "            9949.50991351,  9967.95577753,  9974.66336445,  9976.34026118,\n",
       "            9986.40164156,  9994.78612521, 10003.17060885, 10009.87819577,\n",
       "           10030.00095652, 10036.70854344, 10050.12371728, 10058.50820092,\n",
       "           10066.89268457, 10087.01544532, 10097.0768257 , 10105.46130935,\n",
       "           10122.23027664, 10132.29165702, 10138.99924393, 10147.38372758,\n",
       "           10172.53717852, 10179.24476544, 10182.5985589 , 10216.13649349,\n",
       "           10229.55166732, 10241.28994443, 10271.47408556, 10283.21236266,\n",
       "           10291.59684631, 10328.48857435, 10340.22685146, 10353.6420253 ,\n",
       "           10375.44168278, 10385.50306315, 10388.85685661, 10393.8875468 ,\n",
       "           10417.36410101, 10420.71789447, 10422.3947912 , 10430.77927485,\n",
       "           10435.80996504, 10460.96341598, 10472.70169308, 10479.40928   ,\n",
       "           10489.47066038, 10497.85514402, 10506.23962767, 10514.62411132,\n",
       "           10538.10066553, 10548.16204591, 10551.51583936, 10578.34618704,\n",
       "           10590.08446414, 10593.4382576 , 10616.91481181, 10628.65308892,\n",
       "           10632.00688238, 10653.80653986, 10663.86792023, 10670.57550715,\n",
       "           10678.9599908 , 10700.75964828, 10709.14413193, 10710.82102866,\n",
       "           10735.9744796 , 10744.35896325, 10746.03585997, 10766.15862073,\n",
       "           10767.83551746, 10771.18931092, 10784.60448475, 10796.34276186,\n",
       "           10798.01965859, 10808.08103896, 10831.55759317, 10838.26518009,\n",
       "           10839.94207682, 10858.38794084, 10868.44932122, 10876.83380487,\n",
       "           10898.63346235, 10903.66415254, 10905.34104927, 10917.07932637,\n",
       "           10925.46381002, 10932.17139694, 10950.61726096, 10960.67864134,\n",
       "           10962.35553807, 10969.06312498, 10995.89347265, 11009.30864649,\n",
       "           11019.37002687, 11042.84658108, 11054.58485818, 11059.61554837,\n",
       "           11079.73830912, 11089.7996895 , 11098.18417315, 11116.63003717,\n",
       "           11125.01452082, 11133.39900447, 11138.42969465, 11158.55245541,\n",
       "           11168.61383578, 11170.29073251, 11187.05969981, 11193.76728672,\n",
       "           11210.53625402, 11220.59763439, 11232.3359115 , 11257.48936244,\n",
       "           11265.87384609, 11285.99660684, 11297.73488395, 11307.79626432,\n",
       "           11309.47316105, 11326.24212835, 11332.94971526, 11336.30350872,\n",
       "           11359.78006293, 11374.8721335 , 11376.54903023, 11394.99489425,\n",
       "           11411.76386155, 11420.14834519, 11430.20972557, 11457.04007324,\n",
       "           11463.74766016, 11465.42455689, 11487.22421437, 11497.28559474,\n",
       "           11498.96249147, 11525.79283914, 11535.85421952, 11539.20801298,\n",
       "           11564.36146392, 11579.45353448, 11587.83801813, 11606.28388216,\n",
       "           11618.02215926, 11626.40664291, 11638.14492001, 11654.91388731,\n",
       "           11661.62147423, 11670.00595787, 11688.4518219 , 11698.51320227,\n",
       "           11700.190099  , 11720.31285975, 11732.05113686, 11740.43562051,\n",
       "           11750.49700088, 11772.29665837, 11775.65045182, 11777.32734855,\n",
       "           11800.80390277, 11807.51148968, 11814.2190766 , 11829.31114716,\n",
       "           11839.37252754, 11842.726321  , 11861.17218502, 11872.91046213,\n",
       "           11877.94115232, 11898.06391307, 11908.12529345, 11918.18667382,\n",
       "           11926.57115747, 11946.69391822, 11951.72460841, 11956.7552986 ,\n",
       "           11971.84736916, 11980.23185281, 11986.93943973, 12005.38530375,\n",
       "           12008.73909721, 12012.09289067, 12015.44668413, 12037.24634161,\n",
       "           12042.2770318 , 12059.04599909, 12069.10737947, 12077.49186312,\n",
       "           12082.5225533 , 12104.32221079, 12112.70669443, 12114.38359116,\n",
       "           12134.50635192, 12146.24462902, 12147.92152575, 12166.36738977,\n",
       "           12176.42877015, 12181.45946034, 12189.84394399, 12213.3204982 ,\n",
       "           12225.0587753 , 12235.12015568, 12260.27360662, 12268.65809027,\n",
       "           12288.78085102, 12297.16533467, 12298.8422314 , 12315.61119869,\n",
       "           12325.67257907, 12332.38016598, 12339.0877529 , 12352.50292674,\n",
       "           12354.17982347, 12372.62568749, 12384.3639646 , 12387.71775805,\n",
       "           12407.84051881, 12419.57879591, 12438.02465994, 12446.40914358,\n",
       "           12451.43983377, 12461.50121415, 12468.20880107, 12476.59328471,\n",
       "           12484.97776836, 12508.45432257, 12515.16190949, 12516.83880622,\n",
       "           12530.25398005, 12541.99225716, 12557.08432772, 12575.53019175,\n",
       "           12583.91467539, 12590.62226231, 12614.09881652, 12625.83709363,\n",
       "           12657.69813149, 12674.46709878, 12687.88227262, 12694.58985953,\n",
       "           12718.06641375, 12723.09710393, 12724.77400066, 12741.54296796,\n",
       "           12753.28124506, 12759.98883198, 12778.434696  , 12815.32642405,\n",
       "           12825.38780443, 12837.12608153, 12872.34091285, 12885.75608668,\n",
       "           12895.81746706, 12929.35540165, 12939.41678203, 12961.21643951,\n",
       "           12967.92402643, 12993.07747737, 13004.81575447, 13013.20023812,\n",
       "           13024.93851522, 13053.44575962, 13063.50714   , 13071.89162365,\n",
       "           13093.69128113, 13105.42955824, 13117.16783534, 13149.0288732 ,\n",
       "           13160.76715031, 13162.44404704, 13182.56680779, 13194.30508489,\n",
       "           13195.98198162, 13202.68956854, 13226.16612275, 13232.87370967,\n",
       "           13239.58129659, 13259.70405734, 13273.11923118, 13276.47302463,\n",
       "           13299.94957885, 13316.71854614, 13320.0723396 , 13346.90268727,\n",
       "           13361.99475783, 13372.05613821, 13382.11751859, 13402.24027934,\n",
       "           13408.94786626, 13415.65545317, 13434.1013172 , 13435.77821393,\n",
       "           13452.54718122, 13460.93166487, 13462.6085616 , 13476.02373543,\n",
       "           13486.08511581, 13489.43890927, 13502.8540831 , 13541.42270788,\n",
       "           13548.1302948 , 13551.48408826, 13576.6375392 , 13585.02202284,\n",
       "           13593.40650649, 13615.20616397, 13618.55995743, 13638.68271818,\n",
       "           13648.74409856, 13652.09789202, 13680.60513642, 13697.37410371,\n",
       "           13707.43548409, 13719.1737612 , 13747.68100559, 13757.74238597,\n",
       "           13764.44997289, 13792.95721729, 13806.37239112, 13819.78756496,\n",
       "           13843.26411917, 13855.00239628, 13858.35618973, 13876.80205376,\n",
       "           13885.18653741, 13893.57102105, 13901.9555047 , 13925.43205891,\n",
       "           13932.13964583, 13933.81654256, 13950.58550985, 13960.64689023,\n",
       "           13967.35447715, 13980.76965098, 13989.15413463, 13995.86172155,\n",
       "           14015.9844823 , 14027.7227594 , 14037.78413978, 14049.52241689,\n",
       "           14078.02966129, 14086.41414493, 14091.44483512, 14116.59828606,\n",
       "           14128.33656317, 14131.69035663, 14156.84380757, 14170.2589814 ,\n",
       "           14175.28967159, 14205.47381272, 14218.88898656, 14230.62726366,\n",
       "           14259.13450806, 14277.58037208, 14284.287959  , 14290.99554592,\n",
       "           14326.21037724, 14337.94865434, 14341.3024478 , 14364.77900201,\n",
       "           14373.16348566, 14374.84038239, 14394.96314314, 14405.02452352,\n",
       "           14413.40900717, 14431.85487119, 14443.59314829, 14457.00832213,\n",
       "           14470.42349596, 14508.99212074, 14520.73039785, 14532.46867495,\n",
       "           14549.23764225, 14557.62212589, 14566.00660954, 14584.45247356,\n",
       "           14594.51385394, 14602.89833759, 14626.3748918 , 14641.46696236,\n",
       "           14653.20523947, 14659.91282639, 14690.09696752, 14698.48145116,\n",
       "           14715.25041846, 14723.6349021 , 14733.69628248, 14752.1421465 ,\n",
       "           14753.81904323, 14757.17283669, 14765.55732034, 14770.58801053,\n",
       "           14777.29559744, 14789.03387455, 14795.74146147, 14804.12594511,\n",
       "           14825.9256026 , 14835.98698297, 14847.72526008, 14877.90940121,\n",
       "           14894.6783685 , 14901.38595542, 14926.53940636, 14938.27768347,\n",
       "           14948.33906384, 14966.78492787, 14973.49251478, 14976.84630824,\n",
       "           14983.55389516, 15013.73803629, 15028.83010685, 15032.18390031,\n",
       "           15048.95286761, 15057.33735125, 15059.01424798, 15089.19838911,\n",
       "           15112.67494332, 15126.09011716])}},\n",
       "  {'segment': 5,\n",
       "   'data_x': array([12.547, 12.558, 12.564, 12.575, 12.582, 12.584, 12.586, 12.593,\n",
       "          12.595, 12.597, 12.607, 12.614, 12.619, 12.624, 12.64 , 12.646,\n",
       "          12.647, 12.665, 12.671, 12.672, 12.685, 12.688, 12.692, 12.702,\n",
       "          12.711, 12.716, 12.729, 12.737, 12.744, 12.748, 12.765, 12.769,\n",
       "          12.78 , 12.786, 12.789, 12.8  , 12.805, 12.81 , 12.821, 12.826,\n",
       "          12.83 , 12.841, 12.847, 12.852, 12.853, 12.867, 12.871, 12.872,\n",
       "          12.885, 12.892, 12.894, 12.907, 12.911, 12.914, 12.916, 12.932,\n",
       "          12.936, 12.937, 12.956, 12.964, 12.965, 12.98 , 12.987, 13.001,\n",
       "          13.007, 13.012, 13.018, 13.031, 13.034, 13.052, 13.057, 13.076,\n",
       "          13.083, 13.097, 13.104, 13.117, 13.123, 13.13 , 13.139, 13.141,\n",
       "          13.146, 13.148, 13.15 , 13.152, 13.163, 13.164, 13.166, 13.173,\n",
       "          13.179, 13.181, 13.185, 13.202, 13.207, 13.208, 13.219, 13.225,\n",
       "          13.228, 13.236, 13.241, 13.242, 13.247, 13.265, 13.268, 13.271,\n",
       "          13.284, 13.285, 13.287, 13.297, 13.299, 13.3  , 13.309, 13.314,\n",
       "          13.315]),\n",
       "   'data_y': array([16441.9177971 , 16408.55791304, 16450.76954589, 16480.26568116,\n",
       "          16513.88643478, 16539.34343961, 16545.62730435, 16540.51028019,\n",
       "          16536.50338164, 16477.81002899, 16457.16805797, 16449.92067633,\n",
       "          16476.55656039, 16526.70479227, 16604.81667633, 16707.90475362,\n",
       "          16829.78921739, 16966.54732367, 17119.61062802, 17275.65574879,\n",
       "          17435.99903382, 17600.40977778, 17764.95700483, 17923.99136232,\n",
       "          18076.76133333, 18222.44879227, 18358.19234783, 18483.37010628,\n",
       "          18595.97138164, 18693.10436715, 18772.60639614, 18829.73354589,\n",
       "          18861.78115942, 18866.10088889, 18934.36595169, 18984.22964251,\n",
       "          19055.54098551, 19125.55524638, 19200.78390338, 19276.49045411,\n",
       "          19280.86195169, 19325.45986473, 19375.75383575, 19440.79136232,\n",
       "          19533.14121739, 19644.53712077, 19776.455343  , 19922.40948792,\n",
       "          20086.06647343, 20265.75905314, 20455.45818357, 20655.04699517,\n",
       "          20866.77520773, 21083.75118841, 21303.97047343, 21519.99196135,\n",
       "          21729.8852657 , 21929.7506087 , 22116.21354589, 22284.8814686 ,\n",
       "          22431.60950725, 22551.32231884, 22638.89549758, 22688.04137198,\n",
       "          22696.97004831, 22766.24774879, 22719.30929469, 22738.54718841,\n",
       "          22808.30792271, 22860.30131401, 22931.89916908, 23054.15872464,\n",
       "          23189.27416425, 23350.19818357, 23540.10019324, 23756.35196135,\n",
       "          23989.82371014, 24223.02629952, 24476.41058937, 24741.94691787,\n",
       "          25015.43099517, 25289.76888889, 25557.21268599, 25810.07876328,\n",
       "          26040.99031884, 26242.86828986, 26406.92929469, 26539.59858937,\n",
       "          26625.9429372 , 26667.73826087, 26661.46981643, 26738.62699517,\n",
       "          26784.54606763, 26783.20115942, 26811.23572947, 26849.7268599 ,\n",
       "          26860.95495652, 26888.92736232, 26917.81288889, 26941.59729469,\n",
       "          26965.93733333, 26991.95731401, 27038.06628019, 27087.24859903,\n",
       "          27139.63994203, 27192.01513043, 27243.60999034, 27292.78742029,\n",
       "          27338.85715942, 27381.68365217, 27420.96477295, 27461.34719807,\n",
       "          27492.52778744]),\n",
       "   'fitted_model': {'slope': np.float64(4747.7841749457),\n",
       "    'intercept': np.float64(1320.8844336364004),\n",
       "    'fitted_y': array([15284.75917861, 15463.7921363 , 15561.44647685, 15740.47943454,\n",
       "           15854.40949853, 15886.96094538, 15919.51239223, 16033.44245622,\n",
       "           16065.99390307, 16098.54534992, 16261.30258419, 16375.23264817,\n",
       "           16456.6112653 , 16537.98988244, 16798.40145726, 16896.05579782,\n",
       "           16912.33152124, 17205.29454292, 17302.94888347, 17319.2246069 ,\n",
       "           17530.80901144, 17579.63618172, 17644.73907543, 17807.49630969,\n",
       "           17953.97782053, 18035.35643766, 18246.9408422 , 18377.14662961,\n",
       "           18491.0766936 , 18556.1795873 , 18832.86688555, 18897.96977926,\n",
       "           19077.00273695, 19174.65707751, 19223.48424778, 19402.51720547,\n",
       "           19483.89582261, 19565.27443974, 19744.30739743, 19825.68601456,\n",
       "           19890.78890827, 20069.82186596, 20167.47620651, 20248.85482365,\n",
       "           20265.13054707, 20492.99067504, 20558.09356875, 20574.36929217,\n",
       "           20785.95369672, 20899.8837607 , 20932.43520755, 21144.01961209,\n",
       "           21209.1225058 , 21257.94967608, 21290.50112293, 21550.91269775,\n",
       "           21616.01559146, 21632.29131489, 21941.53005999, 22071.7358474 ,\n",
       "           22088.01157082, 22332.14742222, 22446.0774862 , 22673.93761417,\n",
       "           22771.59195473, 22852.97057186, 22950.62491242, 23162.20931696,\n",
       "           23211.03648724, 23503.99950892, 23585.37812605, 23894.61687115,\n",
       "           24008.54693513, 24236.4070631 , 24350.33712709, 24561.92153163,\n",
       "           24659.57587219, 24773.50593617, 24919.98744701, 24952.53889386,\n",
       "           25033.91751099, 25066.46895785, 25099.0204047 , 25131.57185155,\n",
       "           25310.60480924, 25326.88053267, 25359.43197952, 25473.36204351,\n",
       "           25571.01638406, 25603.56783092, 25668.67072462, 25945.35802287,\n",
       "           26026.73664   , 26043.01236343, 26222.04532112, 26319.69966168,\n",
       "           26368.52683196, 26498.73261937, 26580.1112365 , 26596.38695993,\n",
       "           26677.76557706, 26970.72859873, 27019.55576901, 27068.38293929,\n",
       "           27279.96734383, 27296.24306726, 27328.79451411, 27491.55174838,\n",
       "           27524.10319523, 27540.37891865, 27686.86042949, 27768.23904662,\n",
       "           27784.51477005])}},\n",
       "  {'segment': 6,\n",
       "   'data_x': array([13.327, 13.333, 13.34 , 13.355, 13.36 , 13.366, 13.374, 13.378,\n",
       "          13.382, 13.392, 13.398, 13.409, 13.414, 13.418, 13.428, 13.43 ,\n",
       "          13.435, 13.449, 13.451, 13.452, 13.459, 13.462, 13.464, 13.472,\n",
       "          13.476, 13.479, 13.483, 13.496, 13.498, 13.51 , 13.511, 13.513,\n",
       "          13.521, 13.527, 13.528, 13.54 , 13.547, 13.551, 13.556, 13.568,\n",
       "          13.57 , 13.571, 13.582, 13.584, 13.585, 13.591, 13.592, 13.593,\n",
       "          13.602, 13.607, 13.615, 13.62 , 13.624, 13.629, 13.64 , 13.642,\n",
       "          13.645, 13.649, 13.652, 13.655, 13.658, 13.659, 13.662, 13.665,\n",
       "          13.667, 13.671, 13.672, 13.674, 13.675, 13.676, 13.677, 13.678,\n",
       "          13.68 , 13.681, 13.682, 13.683, 13.684, 13.685, 13.686, 13.687,\n",
       "          13.689, 13.69 , 13.691, 13.694, 13.696, 13.7  , 13.701, 13.704,\n",
       "          13.705, 13.706, 13.707, 13.708, 13.709, 13.71 , 13.711, 13.712,\n",
       "          13.715, 13.717, 13.718, 13.719, 13.724, 13.725, 13.726, 13.727,\n",
       "          13.728, 13.729, 13.73 , 13.731, 13.732, 13.733, 13.734, 13.735,\n",
       "          13.736, 13.737, 13.738, 13.739, 13.741, 13.742, 13.755, 13.762,\n",
       "          13.764, 13.782, 13.783, 13.787, 13.797, 13.801, 13.802, 13.813,\n",
       "          13.816, 13.818, 13.821, 13.832, 13.833, 13.835, 13.841, 13.844,\n",
       "          13.845, 13.85 , 13.853, 13.854, 13.862, 13.864, 13.866, 13.87 ,\n",
       "          13.875, 13.877, 13.879, 13.887, 13.888, 13.89 , 13.897, 13.899,\n",
       "          13.905, 13.907, 13.909, 13.912, 13.915, 13.916, 13.923, 13.928,\n",
       "          13.931, 13.939, 13.941, 13.943, 13.946, 13.947, 13.949, 13.957,\n",
       "          13.963, 13.964, 13.969, 13.984, 13.985, 13.987, 13.999, 14.   ,\n",
       "          14.003, 14.01 , 14.014, 14.027, 14.03 , 14.031, 14.035, 14.046,\n",
       "          14.047, 14.048, 14.055, 14.057, 14.058, 14.064, 14.065, 14.067,\n",
       "          14.075, 14.081, 14.085, 14.095, 14.101, 14.104, 14.109, 14.124,\n",
       "          14.127, 14.143, 14.148, 14.149, 14.16 , 14.166, 14.168, 14.173,\n",
       "          14.186, 14.189, 14.193, 14.206, 14.209, 14.213, 14.225, 14.227,\n",
       "          14.234, 14.238, 14.239, 14.247, 14.251, 14.252, 14.256, 14.27 ,\n",
       "          14.274, 14.277, 14.285, 14.289, 14.291, 14.297, 14.298, 14.302,\n",
       "          14.307, 14.312, 14.314, 14.316, 14.319, 14.321, 14.33 , 14.333,\n",
       "          14.334, 14.348, 14.354, 14.358, 14.368, 14.372, 14.375, 14.379,\n",
       "          14.39 , 14.393, 14.4  , 14.405, 14.409, 14.41 , 14.421, 14.424,\n",
       "          14.425, 14.437, 14.442, 14.443, 14.447, 14.46 , 14.462, 14.465,\n",
       "          14.472, 14.473, 14.476, 14.481, 14.483, 14.486, 14.493, 14.499,\n",
       "          14.501, 14.504, 14.507, 14.508, 14.51 , 14.526, 14.533, 14.539,\n",
       "          14.553, 14.556, 14.558, 14.565, 14.57 , 14.573, 14.576, 14.585,\n",
       "          14.587, 14.588, 14.6  , 14.605, 14.608, 14.616, 14.622]),\n",
       "   'data_y': array([27528.4975942 , 27565.21572947, 27600.55950725, 27566.47650242,\n",
       "          27565.53846377, 27597.87702415, 27651.32686957, 27733.54382609,\n",
       "          27838.59030918, 27953.3767343 , 28085.8434686 , 28230.50372947,\n",
       "          28379.68795169, 28534.42036715, 28692.47554589, 28851.2410628 ,\n",
       "          29007.07287923, 29156.81439614, 29295.62068599, 29421.87814493,\n",
       "          29531.8809372 , 29621.41951691, 29692.53811594, 29739.17250242,\n",
       "          29762.47468599, 29757.19132367, 29722.61400966, 29657.1050628 ,\n",
       "          29662.97914976, 29670.43744928, 29680.20034783, 29692.97565217,\n",
       "          29705.30533333, 29718.55074396, 29735.52349758, 29756.0378744 ,\n",
       "          29777.50152657, 29799.40109179, 29823.88355556, 29850.66312077,\n",
       "          29878.37037681, 29905.97780676, 29932.75884058, 29958.86777778,\n",
       "          29983.463343  , 30006.25765217, 30031.19068599, 30050.58942029,\n",
       "          30073.66933333, 30095.92758454, 30117.21074396, 30138.4358744 ,\n",
       "          30159.34315942, 30162.62867633, 30175.15671498, 30192.97450242,\n",
       "          30235.49277295, 30273.92327536, 30290.01696618, 30331.75257971,\n",
       "          30359.08054879, 30382.28385314, 30415.16894686, 30446.39949758,\n",
       "          30466.11138937, 30492.45861159, 30511.78261643, 30528.62370338,\n",
       "          30546.32941353, 30565.90459549, 30585.17267923, 30604.98052464,\n",
       "          30626.98869211, 30646.24227343, 30663.69667923, 30679.62474042,\n",
       "          30693.74915266, 30682.40057939, 30724.36732013, 30775.79994493,\n",
       "          30831.34296586, 30861.61093366, 30885.73957778, 30899.68031852,\n",
       "          30934.10712689, 30942.91390821, 30938.53932528, 31009.49300129,\n",
       "          31034.67181932, 31095.68671659, 31133.09261868, 31176.20049469,\n",
       "          31237.13182576, 31293.62361868, 31343.97619517, 31401.32288438,\n",
       "          31457.00646033, 31506.67627085, 31555.69495845, 31582.82278884,\n",
       "          31621.78090692, 31638.95086828, 31706.73625099, 31734.20489082,\n",
       "          31746.18317746, 31767.68048288, 31776.9582467 , 31783.73453655,\n",
       "          31833.89689834, 31848.14208567, 31902.49759614, 32007.98071476,\n",
       "          32042.32242705, 32117.8377475 , 32170.52065679, 32238.07316264,\n",
       "          32309.04158776, 32367.84469737, 32425.55763929, 32484.98575845,\n",
       "          32534.3434278 , 32574.67325604, 32607.20774879, 32631.1423752 ,\n",
       "          32667.10007729, 32681.55437681, 32709.13657327, 32714.66324638,\n",
       "          32729.86081159, 32752.23250242, 32765.81758454, 32785.36351691,\n",
       "          32805.51091787, 32826.49994203, 32850.10384541, 32869.53302415,\n",
       "          32895.56687923, 32921.56019324, 32944.64806763, 32970.57028019,\n",
       "          32995.81908213, 33023.18251208, 33051.8201256 , 33080.52975845,\n",
       "          33109.73809662, 33138.38730435, 33166.64795169, 33198.95337198,\n",
       "          33228.01158454, 33254.39082126, 33289.71077295, 33325.70678261,\n",
       "          33356.23548792, 33387.85677295, 33425.92576812, 33459.05648309,\n",
       "          33494.23268599, 33530.43321739, 33566.6049372 , 33601.3934686 ,\n",
       "          33638.2038744 , 33672.56197101, 33702.87778744, 33734.04479227,\n",
       "          33765.91638647, 33796.35132367, 33827.16532367, 33853.49876328,\n",
       "          33877.79885024, 33905.07294686, 33930.17272464, 33956.42772947,\n",
       "          33983.34080193, 34011.97321739, 34043.28961353, 34073.58742029,\n",
       "          34103.35597101, 34133.45613527, 34163.92319807, 34195.04345894,\n",
       "          34225.05602899, 34255.94846377, 34285.50569082, 34314.32616425,\n",
       "          34342.59657005, 34372.43766184, 34398.53322705, 34425.73654106,\n",
       "          34453.85883092, 34479.07876328, 34504.11042512, 34535.73029952,\n",
       "          34565.97528502, 34600.34595169, 34632.66189372, 34668.92025121,\n",
       "          34707.620657  , 34750.13569082, 34793.55686957, 34841.86668599,\n",
       "          34887.05984541, 34932.65752657, 34977.5753913 , 35030.23976812,\n",
       "          35077.17608696, 35126.53586473, 35183.22795169, 35236.61286957,\n",
       "          35287.90002899, 35347.03520773, 35402.22596135, 35457.66463768,\n",
       "          35513.39616425, 35572.4334686 , 35631.4427343 , 35693.90266667,\n",
       "          35750.63150725, 35809.86421256, 35866.62955556, 35930.68960386,\n",
       "          35990.69993237, 36052.18104348, 36110.93003865, 36168.17683092,\n",
       "          36222.69063768, 36275.47476328, 36328.47668599, 36383.24485024,\n",
       "          36441.20668599, 36500.64782609, 36562.84823188, 36617.8204058 ,\n",
       "          36675.45045411, 36737.16243478, 36791.46081159, 36848.5622029 ,\n",
       "          36905.52096618, 36962.27087923, 37016.57397101, 37070.87489855,\n",
       "          37121.80566184, 37176.07907246, 37226.04307246, 37276.81998068,\n",
       "          37323.56881159, 37368.80616425, 37409.56629952, 37451.66792271,\n",
       "          37490.21882126, 37528.8844058 , 37568.17028019, 37606.85752657,\n",
       "          37645.06638325, 37683.86975845, 37719.60577778, 37753.06099195,\n",
       "          37785.84772947, 37823.25344928, 37859.31652818, 37896.19994203,\n",
       "          37934.47362319, 37971.72276973, 38009.91354589, 38053.04063768,\n",
       "          38090.82271176, 38131.07862802, 38166.12092754, 38202.49971659,\n",
       "          38241.75630918, 38273.98645411, 38310.98572625, 38346.44682126,\n",
       "          38377.49806763, 38408.25160064, 38437.75914976, 38466.0573913 ,\n",
       "          38492.15552335, 38525.82556522, 38549.35101449, 38574.46177778,\n",
       "          38601.68896618, 38631.40647343, 38656.80851208, 38683.54226087,\n",
       "          38712.54524638, 38741.54568116, 38773.36331401, 38806.65482126,\n",
       "          38835.31127536, 38867.50581643, 38900.63728502, 38933.86170048,\n",
       "          38971.08810628, 39006.42409662, 39044.25716908]),\n",
       "   'fitted_model': {'slope': np.float64(4747.7841749457),\n",
       "    'intercept': np.float64(1320.8844336364004),\n",
       "    'fitted_y': array([27907.59476816, 27961.14561904, 28023.62161173, 28157.49873893,\n",
       "           28202.124448  , 28255.67529888, 28327.07643338, 28362.77700064,\n",
       "           28398.47756789, 28487.72898602, 28541.2798369 , 28639.45639685,\n",
       "           28684.08210591, 28719.78267316, 28809.0340913 , 28826.88437492,\n",
       "           28871.51008399, 28996.46206937, 29014.312353  , 29023.23749481,\n",
       "           29085.71348751, 29112.48891295, 29130.33919657, 29201.74033108,\n",
       "           29237.44089833, 29264.21632377, 29299.91689102, 29415.94373459,\n",
       "           29433.79401822, 29540.89571998, 29549.82086179, 29567.67114542,\n",
       "           29639.07227992, 29692.6231308 , 29701.54827262, 29808.64997438,\n",
       "           29871.12596707, 29906.82653432, 29951.45224339, 30058.55394515,\n",
       "           30076.40422877, 30085.32937059, 30183.50593053, 30201.35621416,\n",
       "           30210.28135597, 30263.83220685, 30272.75734866, 30281.68249048,\n",
       "           30362.00876679, 30406.63447586, 30478.03561037, 30522.66131943,\n",
       "           30558.36188669, 30602.98759575, 30701.1641557 , 30719.01443932,\n",
       "           30745.78986476, 30781.49043202, 30808.26585746, 30835.04128289,\n",
       "           30861.81670833, 30870.74185015, 30897.51727559, 30924.29270103,\n",
       "           30942.14298465, 30977.84355191, 30986.76869372, 31004.61897735,\n",
       "           31013.54411916, 31022.46926097, 31031.39440279, 31040.3195446 ,\n",
       "           31058.16982822, 31067.09497004, 31076.02011185, 31084.94525366,\n",
       "           31093.87039548, 31102.79553729, 31111.7206791 , 31120.64582092,\n",
       "           31138.49610454, 31147.42124636, 31156.34638817, 31183.12181361,\n",
       "           31200.97209724, 31236.67266449, 31245.5978063 , 31272.37323174,\n",
       "           31281.29837356, 31290.22351537, 31299.14865718, 31308.07379899,\n",
       "           31316.99894081, 31325.92408262, 31334.84922443, 31343.77436625,\n",
       "           31370.54979169, 31388.40007531, 31397.32521713, 31406.25035894,\n",
       "           31450.87606801, 31459.80120982, 31468.72635163, 31477.65149345,\n",
       "           31486.57663526, 31495.50177707, 31504.42691889, 31513.3520607 ,\n",
       "           31522.27720251, 31531.20234432, 31540.12748614, 31549.05262795,\n",
       "           31557.97776976, 31566.90291158, 31575.82805339, 31584.7531952 ,\n",
       "           31602.60347883, 31611.52862064, 31727.55546422, 31790.03145691,\n",
       "           31807.88174053, 31968.53429317, 31977.45943499, 32013.16000224,\n",
       "           32102.41142037, 32138.11198762, 32147.03712944, 32245.21368938,\n",
       "           32271.98911482, 32289.83939845, 32316.61482389, 32414.79138383,\n",
       "           32423.71652565, 32441.56680927, 32495.11766015, 32521.89308559,\n",
       "           32530.8182274 , 32575.44393647, 32602.21936191, 32611.14450372,\n",
       "           32682.54563823, 32700.39592186, 32718.24620548, 32753.94677273,\n",
       "           32798.5724818 , 32816.42276543, 32834.27304905, 32905.67418356,\n",
       "           32914.59932537, 32932.449609  , 32994.92560169, 33012.77588532,\n",
       "           33066.3267362 , 33084.17701982, 33102.02730345, 33128.80272889,\n",
       "           33155.57815433, 33164.50329614, 33226.97928883, 33271.6049979 ,\n",
       "           33298.38042334, 33369.78155785, 33387.63184147, 33405.4821251 ,\n",
       "           33432.25755054, 33441.18269235, 33459.03297598, 33530.43411048,\n",
       "           33583.98496136, 33592.91010318, 33637.53581224, 33771.41293944,\n",
       "           33780.33808125, 33798.18836488, 33905.29006664, 33914.21520845,\n",
       "           33940.99063389, 34003.46662658, 34039.16719384, 34155.19403741,\n",
       "           34181.96946285, 34190.89460466, 34226.59517191, 34324.77173186,\n",
       "           34333.69687367, 34342.62201549, 34405.09800818, 34422.9482918 ,\n",
       "           34431.87343362, 34485.4242845 , 34494.34942631, 34512.19970994,\n",
       "           34583.60084444, 34637.15169532, 34672.85226257, 34762.10368071,\n",
       "           34815.65453159, 34842.42995702, 34887.05566609, 35020.93279329,\n",
       "           35047.70821873, 35190.51048774, 35235.13619681, 35244.06133862,\n",
       "           35342.23789856, 35395.78874944, 35413.63903307, 35458.26474214,\n",
       "           35574.29158571, 35601.06701115, 35636.7675784 , 35752.79442197,\n",
       "           35779.56984741, 35815.27041466, 35922.37211642, 35940.22240005,\n",
       "           36002.69839274, 36038.39895999, 36047.32410181, 36118.72523631,\n",
       "           36154.42580357, 36163.35094538, 36199.05151263, 36324.00349802,\n",
       "           36359.70406527, 36386.47949071, 36457.88062522, 36493.58119247,\n",
       "           36511.43147609, 36564.98232697, 36573.90746879, 36609.60803604,\n",
       "           36654.23374511, 36698.85945417, 36716.7097378 , 36734.56002142,\n",
       "           36761.33544686, 36779.18573049, 36859.51200681, 36886.28743225,\n",
       "           36895.21257406, 37020.16455945, 37073.71541033, 37109.41597758,\n",
       "           37198.66739571, 37234.36796296, 37261.1433884 , 37296.84395566,\n",
       "           37395.0205156 , 37421.79594104, 37484.27193373, 37528.8976428 ,\n",
       "           37564.59821005, 37573.52335187, 37671.69991181, 37698.47533725,\n",
       "           37707.40047906, 37814.50218082, 37859.12788989, 37868.0530317 ,\n",
       "           37903.75359896, 38019.78044253, 38037.63072615, 38064.40615159,\n",
       "           38126.88214429, 38135.8072861 , 38162.58271154, 38207.2084206 ,\n",
       "           38225.05870423, 38251.83412967, 38314.31012236, 38367.86097324,\n",
       "           38385.71125687, 38412.48668231, 38439.26210775, 38448.18724956,\n",
       "           38466.03753319, 38608.8398022 , 38671.31579489, 38724.86664577,\n",
       "           38849.81863116, 38876.59405659, 38894.44434022, 38956.92033291,\n",
       "           39001.54604198, 39028.32146742, 39055.09689286, 39135.42316918,\n",
       "           39153.2734528 , 39162.19859462, 39269.30029638, 39313.92600544,\n",
       "           39340.70143088, 39412.10256539, 39465.65341627])}},\n",
       "  {'segment': 7,\n",
       "   'data_x': array([14.636, 14.644, 14.65 , 14.656, 14.668, 14.672, 14.675, 14.688,\n",
       "          14.69 , 14.692, 14.703, 14.708, 14.709, 14.718, 14.722, 14.723,\n",
       "          14.735, 14.741, 14.744, 14.756, 14.758, 14.759, 14.764, 14.767,\n",
       "          14.768, 14.771, 14.776, 14.779, 14.789, 14.795, 14.803, 14.82 ,\n",
       "          14.824, 14.834, 14.836, 14.838, 14.846, 14.85 , 14.853, 14.862,\n",
       "          14.869, 14.875, 14.881, 14.897, 14.902, 14.912, 14.917, 14.927,\n",
       "          14.933, 14.937, 14.946, 14.95 , 14.953, 14.958, 14.967, 14.97 ,\n",
       "          14.971, 14.983, 14.985, 14.992, 14.996, 14.997, 15.008, 15.012,\n",
       "          15.015, 15.022, 15.028, 15.029, 15.03 , 15.042, 15.046, 15.047,\n",
       "          15.059, 15.064, 15.069, 15.077, 15.085, 15.087, 15.095, 15.1  ,\n",
       "          15.101, 15.106, 15.119, 15.121, 15.122, 15.131, 15.137, 15.148,\n",
       "          15.152, 15.156, 15.16 , 15.174, 15.175, 15.176, 15.188, 15.19 ,\n",
       "          15.192, 15.198, 15.201, 15.203, 15.207, 15.21 , 15.213, 15.22 ,\n",
       "          15.225, 15.228, 15.232, 15.242, 15.243, 15.245, 15.253, 15.257,\n",
       "          15.259, 15.266, 15.269, 15.272, 15.277, 15.283, 15.287, 15.297,\n",
       "          15.303, 15.307, 15.319, 15.323, 15.334, 15.34 , 15.352, 15.356,\n",
       "          15.362, 15.366, 15.381, 15.385, 15.39 , 15.405, 15.41 , 15.411,\n",
       "          15.422, 15.427, 15.43 , 15.439, 15.441, 15.444, 15.446, 15.458,\n",
       "          15.46 , 15.463, 15.472, 15.476, 15.484, 15.489, 15.491, 15.499,\n",
       "          15.503, 15.504, 15.512, 15.518, 15.521, 15.529, 15.533, 15.536,\n",
       "          15.542, 15.546, 15.549, 15.556, 15.557, 15.559, 15.563, 15.578,\n",
       "          15.581, 15.59 , 15.596, 15.6  , 15.601, 15.618, 15.622, 15.624,\n",
       "          15.632, 15.636, 15.637, 15.65 , 15.655, 15.661, 15.666, 15.68 ,\n",
       "          15.685, 15.701, 15.704, 15.707, 15.716, 15.724, 15.725, 15.74 ,\n",
       "          15.746, 15.747, 15.754, 15.77 , 15.774, 15.777, 15.789, 15.79 ,\n",
       "          15.793, 15.802, 15.804, 15.805, 15.815, 15.82 , 15.821, 15.832,\n",
       "          15.838, 15.842, 15.845, 15.857, 15.861, 15.863, 15.865, 15.867,\n",
       "          15.868, 15.87 , 15.873, 15.879, 15.888, 15.889, 15.893, 15.908,\n",
       "          15.911, 15.927, 15.937, 15.944, 15.963, 15.97 , 15.971, 15.977,\n",
       "          15.992, 15.997, 16.003, 16.022, 16.027, 16.028, 16.043, 16.046,\n",
       "          16.049, 16.061, 16.064, 16.067, 16.076, 16.082, 16.084, 16.087,\n",
       "          16.101, 16.105, 16.108, 16.122, 16.125, 16.127, 16.134, 16.137,\n",
       "          16.139, 16.148, 16.151, 16.153, 16.156, 16.169, 16.172, 16.177,\n",
       "          16.185, 16.188, 16.19 , 16.2  , 16.203, 16.21 , 16.215, 16.218,\n",
       "          16.222, 16.233, 16.235, 16.245, 16.246, 16.264, 16.268, 16.269,\n",
       "          16.28 , 16.281, 16.285, 16.287, 16.297, 16.298, 16.301, 16.306,\n",
       "          16.307, 16.31 , 16.314, 16.317, 16.322, 16.324, 16.326, 16.333,\n",
       "          16.336, 16.337, 16.343, 16.354, 16.358, 16.363, 16.373, 16.379,\n",
       "          16.394, 16.401, 16.402, 16.415, 16.421, 16.425, 16.431, 16.444,\n",
       "          16.448, 16.451, 16.456, 16.457, 16.459, 16.468, 16.469, 16.472,\n",
       "          16.479, 16.486, 16.493, 16.498, 16.509, 16.511, 16.523, 16.525,\n",
       "          16.527, 16.533, 16.534, 16.537, 16.542, 16.547, 16.55 , 16.557,\n",
       "          16.562, 16.565, 16.566, 16.58 , 16.583, 16.586, 16.597, 16.599,\n",
       "          16.602, 16.605, 16.611, 16.617]),\n",
       "   'data_y': array([39078.6866087 , 39114.78482126, 39149.42803865, 39188.46932367,\n",
       "          39225.02552657, 39262.38201932, 39299.45654106, 39331.36171014,\n",
       "          39364.73862802, 39398.23241546, 39428.71296618, 39465.49392271,\n",
       "          39502.75344928, 39540.00390338, 39576.2261256 , 39612.4261256 ,\n",
       "          39648.4093913 , 39683.14403865, 39717.30036715, 39752.556657  ,\n",
       "          39788.98297585, 39826.72798068, 39860.54071498, 39902.06857971,\n",
       "          39941.45499517, 39982.0364058 , 40023.78112077, 40069.01770048,\n",
       "          40112.19319807, 40157.25109179, 40201.41283092, 40246.95974879,\n",
       "          40293.06630918, 40339.43717874, 40387.27756522, 40441.2774686 ,\n",
       "          40491.65882126, 40542.54817391, 40594.96707246, 40647.83385507,\n",
       "          40700.64915942, 40753.12950725, 40807.76131401, 40861.0949372 ,\n",
       "          40919.05621256, 40971.08333333, 41026.83889855, 41083.05135266,\n",
       "          41131.64264734, 41187.45255072, 41240.71943961, 41292.8958744 ,\n",
       "          41343.97250242, 41392.05444444, 41438.39654106, 41480.67684058,\n",
       "          41525.94724638, 41567.84064734, 41609.19117874, 41655.16770048,\n",
       "          41697.91932367, 41740.07104348, 41781.80046377, 41823.18205797,\n",
       "          41864.25909179, 41905.06321739, 41945.76038647, 41985.7695942 ,\n",
       "          42027.87114976, 42063.77743961, 42103.75657971, 42138.72011594,\n",
       "          42180.78415459, 42223.40970048, 42260.85199034, 42298.4916715 ,\n",
       "          42338.01083092, 42378.12556522, 42418.63038647, 42459.37267633,\n",
       "          42501.96671498, 42543.02382609, 42584.10847343, 42626.69333333,\n",
       "          42664.2758744 , 42702.90100483, 42739.09363285, 42777.58718841,\n",
       "          42812.91461836, 42845.73391304, 42881.1092657 , 42913.4742029 ,\n",
       "          42944.30408696, 42973.65329469, 43001.65769082, 43025.46191304,\n",
       "          43057.34986473, 43082.89945894, 43107.63788406, 43132.07082126,\n",
       "          43161.90189372, 43188.63808696, 43213.74844444, 43242.85395169,\n",
       "          43269.75482126, 43299.05930435, 43325.19671498, 43353.15329469,\n",
       "          43382.59416425, 43410.374657  , 43437.87922705, 43467.69382609,\n",
       "          43494.69366184, 43524.51671498, 43558.03192271, 43590.09754589,\n",
       "          43625.580657  , 43661.78591304, 43699.26197101, 43737.83590338,\n",
       "          43781.97540097, 43822.49331401, 43862.63006763, 43904.48838647,\n",
       "          43947.54830918, 43986.30144928, 44025.84137198, 44066.95744928,\n",
       "          44101.66081159, 44140.64798068, 44176.87377778, 44211.48102415,\n",
       "          44244.49897585, 44274.54635749, 44303.85000966, 44331.93202899,\n",
       "          44359.49169082, 44388.94281159, 44418.86896618, 44449.51920773,\n",
       "          44478.89596135, 44512.44164251, 44543.95277295, 44575.87205797,\n",
       "          44608.2505314 , 44641.16085024, 44672.80394203, 44706.36888889,\n",
       "          44738.37936232, 44770.86798068, 44803.75729469, 44836.90228019,\n",
       "          44869.6741256 , 44907.17839614, 44939.73111111, 44972.36678261,\n",
       "          45004.24021256, 45035.21072464, 45065.30687923, 45094.53470531,\n",
       "          45124.0124058 , 45154.70836715, 45182.50844444, 45212.50181643,\n",
       "          45239.86842512, 45267.58357488, 45293.77858937, 45318.81045411,\n",
       "          45343.14912077, 45367.00438647, 45391.22869565, 45415.78448309,\n",
       "          45437.24730435, 45459.53669565, 45480.9782029 , 45507.64226087,\n",
       "          45533.04798068, 45561.57858937, 45588.46631884, 45616.7771401 ,\n",
       "          45645.98962319, 45676.13648309, 45707.36467633, 45739.70595169,\n",
       "          45773.03719807, 45808.25113043, 45839.43516908, 45879.83433816,\n",
       "          45916.38131401, 45951.36643478, 45986.36034783, 46022.5541256 ,\n",
       "          46057.26500483, 46090.99607729, 46127.81171014, 46161.61518841,\n",
       "          46194.60086957, 46227.95957488, 46262.21484058, 46297.13487923,\n",
       "          46330.93965217, 46362.31111111, 46400.40616425, 46438.24502415,\n",
       "          46474.18525604, 46509.00910145, 46548.69215459, 46586.29294686,\n",
       "          46624.38950725, 46663.07717874, 46701.82148792, 46745.82838647,\n",
       "          46782.51882126, 46817.39638647, 46854.42363285, 46894.33621256,\n",
       "          46929.69319807, 46966.84135266, 47006.22342029, 47041.57851208,\n",
       "          47076.90672464, 47111.27914976, 47144.63712077, 47176.97383575,\n",
       "          47211.35178744, 47243.16502415, 47282.103343  , 47314.62127536,\n",
       "          47345.98036715, 47378.6832657 , 47411.89824155, 47444.91694686,\n",
       "          47477.12044444, 47508.63791304, 47543.14121739, 47574.97269565,\n",
       "          47606.01333333, 47637.38968116, 47669.71441546, 47702.08774879,\n",
       "          47732.940657  , 47767.95298551, 47801.8145314 , 47832.8021256 ,\n",
       "          47867.22836715, 47898.82643478, 47928.26247343, 47961.50618357,\n",
       "          47992.15028019, 48022.98378744, 48054.07128502, 48085.06844444,\n",
       "          48115.40463768, 48143.38023188, 48176.11884058, 48206.8154686 ,\n",
       "          48236.52888889, 48266.81206763, 48300.89615459, 48332.94333333,\n",
       "          48366.56222222, 48399.95101449, 48433.70347826, 48467.566657  ,\n",
       "          48506.09513043, 48547.90611594, 48588.05520773, 48630.34140097,\n",
       "          48676.14459903, 48717.55123671, 48765.13358454, 48813.54994203,\n",
       "          48857.52747826, 48903.4929372 , 48952.55907246, 48997.67958454,\n",
       "          49038.86597101, 49081.46940097, 49122.06491787, 49157.49409662,\n",
       "          49194.82014493, 49226.7982029 , 49262.0623285 , 49292.30600966,\n",
       "          49318.95461836, 49346.77074396, 49372.10327536, 49397.59222222,\n",
       "          49425.04731401, 49450.68284058, 49476.77666667, 49501.78679227,\n",
       "          49526.31713043, 49549.99573913, 49580.02062802, 49604.79102415,\n",
       "          49632.47036715, 49661.57923671, 49691.42416425, 49717.10766184,\n",
       "          49744.70010628, 49774.15589372, 49800.29311111, 49827.96940097,\n",
       "          49856.66369082, 49884.51307246, 49912.55814493, 49939.4336715 ,\n",
       "          49965.38521739, 49992.68076328, 50016.00713043, 50040.1282029 ,\n",
       "          50063.05082126, 50086.75657005, 50107.89153623, 50128.23154589,\n",
       "          50148.6952657 , 50169.59644444, 50191.70981643, 50212.19501449,\n",
       "          50233.32794203, 50253.26297585, 50272.65406763, 50291.47719807,\n",
       "          50309.77723671, 50326.79408696, 50345.60991304, 50362.81978744,\n",
       "          50381.54193237, 50397.88096618, 50414.36108213, 50431.24575845,\n",
       "          50447.24477295, 50462.98643478, 50478.66877295, 50494.34314976,\n",
       "          50509.94600966, 50526.78879227, 50542.09198068, 50558.06815459,\n",
       "          50573.92942995, 50589.37207729, 50604.6930628 , 50621.59211594,\n",
       "          50637.20927536, 50653.14838647, 50669.0134686 , 50684.75569082]),\n",
       "   'fitted_model': {'slope': np.float64(4747.7841749457),\n",
       "    'intercept': np.float64(1320.8844336364004),\n",
       "    'fitted_y': array([39556.68509941, 39603.53785357, 39638.67741919, 39673.81698481,\n",
       "           39744.09611605, 39767.52249314, 39785.09227595, 39861.22800146,\n",
       "           39872.94119   , 39884.65437854, 39949.07691551, 39978.35988686,\n",
       "           39984.21648113, 40036.92582957, 40060.35220665, 40066.20880092,\n",
       "           40136.48793216, 40171.62749778, 40189.19728059, 40259.47641184,\n",
       "           40271.18960038, 40277.04619465, 40306.329166  , 40323.89894881,\n",
       "           40329.75554308, 40347.32532589, 40376.60829724, 40394.17808005,\n",
       "           40452.74402275, 40487.88358837, 40534.73634254, 40634.29844513,\n",
       "           40657.72482221, 40716.29076491, 40728.00395345, 40739.71714199,\n",
       "           40786.56989616, 40809.99627324, 40827.56605605, 40880.27540448,\n",
       "           40921.27156437, 40956.41112999, 40991.55069561, 41085.25620394,\n",
       "           41114.53917529, 41173.10511799, 41202.38808934, 41260.95403205,\n",
       "           41296.09359767, 41319.51997475, 41372.22932318, 41395.65570026,\n",
       "           41413.22548307, 41442.50845442, 41495.21780285, 41512.78758567,\n",
       "           41518.64417994, 41588.92331118, 41600.63649972, 41641.63265961,\n",
       "           41665.05903669, 41670.91563096, 41735.33816793, 41758.76454502,\n",
       "           41776.33432783, 41817.33048772, 41852.47005334, 41858.32664761,\n",
       "           41864.18324188, 41934.46237312, 41957.8887502 , 41963.74534447,\n",
       "           42034.02447572, 42063.30744707, 42092.59041842, 42139.44317258,\n",
       "           42186.29592674, 42198.00911528, 42244.86186944, 42274.1448408 ,\n",
       "           42280.00143507, 42309.28440642, 42385.42013193, 42397.13332047,\n",
       "           42402.98991474, 42455.69926317, 42490.83882879, 42555.26136577,\n",
       "           42578.68774285, 42602.11411993, 42625.54049701, 42707.53281679,\n",
       "           42713.38941106, 42719.24600533, 42789.52513658, 42801.23832512,\n",
       "           42812.95151366, 42848.09107928, 42865.66086209, 42877.37405063,\n",
       "           42900.80042771, 42918.37021052, 42935.93999333, 42976.93615322,\n",
       "           43006.21912457, 43023.78890739, 43047.21528447, 43105.78122717,\n",
       "           43111.63782144, 43123.35100998, 43170.20376414, 43193.63014122,\n",
       "           43205.34332976, 43246.33948965, 43263.90927246, 43281.47905528,\n",
       "           43310.76202663, 43345.90159225, 43369.32796933, 43427.89391203,\n",
       "           43463.03347765, 43486.45985473, 43556.73898598, 43580.16536306,\n",
       "           43644.58790003, 43679.72746565, 43750.00659689, 43773.43297398,\n",
       "           43808.5725396 , 43831.99891668, 43919.84783073, 43943.27420781,\n",
       "           43972.55717916, 44060.40609322, 44089.68906457, 44095.54565884,\n",
       "           44159.96819581, 44189.25116716, 44206.82094997, 44259.5302984 ,\n",
       "           44271.24348694, 44288.81326976, 44300.5264583 , 44370.80558954,\n",
       "           44382.51877808, 44400.08856089, 44452.79790932, 44476.2242864 ,\n",
       "           44523.07704056, 44552.36001192, 44564.07320046, 44610.92595462,\n",
       "           44634.3523317 , 44640.20892597, 44687.06168013, 44722.20124575,\n",
       "           44739.77102856, 44786.62378273, 44810.05015981, 44827.61994262,\n",
       "           44862.75950824, 44886.18588532, 44903.75566813, 44944.75182802,\n",
       "           44950.60842229, 44962.32161083, 44985.74798791, 45073.59690197,\n",
       "           45091.16668478, 45143.87603321, 45179.01559883, 45202.44197591,\n",
       "           45208.29857018, 45307.86067278, 45331.28704986, 45343.0002384 ,\n",
       "           45389.85299256, 45413.27936964, 45419.13596391, 45495.27168942,\n",
       "           45524.55466077, 45559.6942264 , 45588.97719775, 45670.96951753,\n",
       "           45700.25248888, 45793.95799721, 45811.52778002, 45829.09756283,\n",
       "           45881.80691126, 45928.65966542, 45934.51625969, 46022.36517374,\n",
       "           46057.50473937, 46063.36133364, 46104.35749353, 46198.06300185,\n",
       "           46221.48937893, 46239.05916174, 46309.33829299, 46315.19488726,\n",
       "           46332.76467007, 46385.4740185 , 46397.18720704, 46403.04380131,\n",
       "           46461.60974401, 46490.89271536, 46496.74930963, 46561.17184661,\n",
       "           46596.31141223, 46619.73778931, 46637.30757212, 46707.58670336,\n",
       "           46731.01308044, 46742.72626898, 46754.43945752, 46766.15264606,\n",
       "           46772.00924033, 46783.72242887, 46801.29221169, 46836.43177731,\n",
       "           46889.14112574, 46894.99772001, 46918.42409709, 47006.27301114,\n",
       "           47023.84279395, 47117.54830228, 47176.11424498, 47217.11040487,\n",
       "           47328.38569601, 47369.3818559 , 47375.23845017, 47410.37801579,\n",
       "           47498.22692984, 47527.50990119, 47562.64946682, 47673.92475795,\n",
       "           47703.2077293 , 47709.06432357, 47796.91323762, 47814.48302044,\n",
       "           47832.05280325, 47902.33193449, 47919.9017173 , 47937.47150011,\n",
       "           47990.18084854, 48025.32041416, 48037.0336027 , 48054.60338552,\n",
       "           48136.5957053 , 48160.02208238, 48177.59186519, 48259.58418497,\n",
       "           48277.15396778, 48288.86715632, 48329.86331622, 48347.43309903,\n",
       "           48359.14628757, 48411.855636  , 48429.42541881, 48441.13860735,\n",
       "           48458.70839016, 48534.84411567, 48552.41389848, 48581.69686984,\n",
       "           48628.549624  , 48646.11940681, 48657.83259535, 48716.39853805,\n",
       "           48733.96832086, 48774.96448075, 48804.2474521 , 48821.81723492,\n",
       "           48845.243612  , 48909.66614897, 48921.37933751, 48979.94528021,\n",
       "           48985.80187448, 49091.22057135, 49114.64694843, 49120.5035427 ,\n",
       "           49184.92607967, 49190.78267394, 49214.20905102, 49225.92223956,\n",
       "           49284.48818226, 49290.34477653, 49307.91455934, 49337.1975307 ,\n",
       "           49343.05412497, 49360.62390778, 49384.05028486, 49401.62006767,\n",
       "           49430.90303902, 49442.61622756, 49454.3294161 , 49495.32557599,\n",
       "           49512.8953588 , 49518.75195307, 49553.89151869, 49618.31405567,\n",
       "           49641.74043275, 49671.0234041 , 49729.5893468 , 49764.72891242,\n",
       "           49852.57782648, 49893.57398637, 49899.43058064, 49975.56630615,\n",
       "           50010.70587177, 50034.13224885, 50069.27181448, 50145.40753999,\n",
       "           50168.83391707, 50186.40369988, 50215.68667123, 50221.5432655 ,\n",
       "           50233.25645404, 50285.96580247, 50291.82239674, 50309.39217955,\n",
       "           50350.38833945, 50391.38449934, 50432.38065923, 50461.66363058,\n",
       "           50526.08616755, 50537.79935609, 50608.07848734, 50619.79167588,\n",
       "           50631.50486442, 50666.64443004, 50672.50102431, 50690.07080712,\n",
       "           50719.35377847, 50748.63674982, 50766.20653263, 50807.20269252,\n",
       "           50836.48566388, 50854.05544669, 50859.91204096, 50941.90436074,\n",
       "           50959.47414355, 50977.04392636, 51041.46646333, 51053.17965187,\n",
       "           51070.74943469, 51088.3192175 , 51123.45878312, 51158.59834874])}},\n",
       "  {'segment': 8,\n",
       "   'data_x': array([16.633, 16.642, 16.649, 16.654, 16.673, 16.678, 16.692, 16.699,\n",
       "          16.701, 16.718, 16.726, 16.73 , 16.742, 16.746, 16.749, 16.753,\n",
       "          16.761, 16.764, 16.768, 16.776, 16.781, 16.786, 16.794, 16.795,\n",
       "          16.799, 16.802, 16.807, 16.81 , 16.814, 16.826, 16.829, 16.839,\n",
       "          16.841, 16.843, 16.85 , 16.86 , 16.867, 16.879, 16.889, 16.894,\n",
       "          16.908, 16.917, 16.922, 16.935, 16.941, 16.944, 16.961, 16.969,\n",
       "          16.979, 16.986, 16.989, 16.997, 17.002, 17.003, 17.004, 17.016,\n",
       "          17.017, 17.019, 17.027, 17.032, 17.036, 17.042, 17.046, 17.049,\n",
       "          17.056, 17.058, 17.059, 17.063, 17.065, 17.068, 17.07 , 17.076,\n",
       "          17.08 , 17.081, 17.087, 17.091, 17.094, 17.104, 17.11 , 17.111,\n",
       "          17.114, 17.12 , 17.124, 17.128, 17.134, 17.139, 17.14 , 17.154,\n",
       "          17.161, 17.166, 17.176, 17.18 , 17.181, 17.183, 17.193, 17.194,\n",
       "          17.196, 17.201, 17.202, 17.204, 17.212, 17.215, 17.216, 17.219,\n",
       "          17.228, 17.23 , 17.232, 17.237, 17.24 , 17.241, 17.244, 17.247,\n",
       "          17.248, 17.261, 17.264, 17.265, 17.27 , 17.284, 17.286, 17.291,\n",
       "          17.294, 17.297, 17.308, 17.309, 17.311, 17.317, 17.322, 17.324,\n",
       "          17.329, 17.345, 17.349, 17.353, 17.368, 17.37 , 17.371, 17.382,\n",
       "          17.387, 17.402, 17.408, 17.416, 17.434, 17.437, 17.441, 17.452,\n",
       "          17.454, 17.456, 17.464, 17.466, 17.469, 17.475, 17.48 , 17.484,\n",
       "          17.493, 17.498, 17.501, 17.504, 17.512, 17.515, 17.517, 17.533,\n",
       "          17.536, 17.537, 17.547, 17.551, 17.552, 17.562, 17.57 , 17.571,\n",
       "          17.576, 17.59 , 17.596, 17.6  , 17.615, 17.619, 17.623, 17.633,\n",
       "          17.639, 17.652, 17.659, 17.66 , 17.667, 17.683, 17.686, 17.688,\n",
       "          17.702, 17.705, 17.711, 17.713, 17.715, 17.718, 17.722, 17.727,\n",
       "          17.73 , 17.743, 17.746, 17.747, 17.749, 17.751, 17.753, 17.754,\n",
       "          17.755, 17.757, 17.758, 17.76 , 17.761, 17.764, 17.773, 17.781,\n",
       "          17.783, 17.785, 17.786, 17.788, 17.789, 17.791, 17.792, 17.794,\n",
       "          17.796, 17.797, 17.798, 17.8  , 17.801, 17.803, 17.804, 17.805,\n",
       "          17.806, 17.807, 17.809, 17.81 , 17.811, 17.812, 17.813, 17.814,\n",
       "          17.815, 17.816, 17.817, 17.818, 17.819, 17.823, 17.824, 17.825,\n",
       "          17.829, 17.83 , 17.848, 17.855, 17.856, 17.877, 17.884, 17.885,\n",
       "          17.896, 17.902, 17.905, 17.909, 17.924, 17.925, 17.927, 17.938,\n",
       "          17.939, 17.941, 17.949, 17.952, 17.954, 17.965, 17.972, 17.973,\n",
       "          17.986, 17.991, 17.995, 17.996, 18.012, 18.016, 18.028, 18.033,\n",
       "          18.036, 18.043, 18.052, 18.055, 18.064, 18.066, 18.069, 18.077,\n",
       "          18.078, 18.081, 18.082, 18.083, 18.086, 18.091, 18.093, 18.097,\n",
       "          18.115, 18.118, 18.122, 18.138, 18.139, 18.141, 18.152, 18.157,\n",
       "          18.169, 18.175, 18.176, 18.19 , 18.203, 18.208, 18.215, 18.232,\n",
       "          18.235, 18.236, 18.253, 18.257, 18.258, 18.27 , 18.277, 18.278,\n",
       "          18.294, 18.304, 18.309, 18.319, 18.327, 18.332, 18.348, 18.355,\n",
       "          18.36 , 18.375, 18.383, 18.385, 18.401, 18.408, 18.413, 18.417,\n",
       "          18.432, 18.435, 18.44 , 18.455, 18.461, 18.462, 18.472, 18.479,\n",
       "          18.486, 18.501, 18.51 , 18.514, 18.521, 18.541, 18.546, 18.548,\n",
       "          18.566, 18.573, 18.581, 18.598, 18.606, 18.613, 18.626, 18.632,\n",
       "          18.633, 18.639, 18.658, 18.661, 18.665, 18.679, 18.684, 18.685,\n",
       "          18.698, 18.704, 18.71 , 18.725, 18.729, 18.731, 18.742, 18.751,\n",
       "          18.757, 18.763, 18.78 , 18.785, 18.786, 18.805, 18.811, 18.828,\n",
       "          18.837, 18.853, 18.862, 18.871, 18.881, 18.91 , 18.918, 18.925,\n",
       "          18.942, 18.95 , 18.952, 18.974, 18.985, 18.988, 19.001, 19.007,\n",
       "          19.014, 19.025, 19.053, 19.062, 19.07 , 19.089, 19.095, 19.101,\n",
       "          19.116, 19.126, 19.127, 19.144, 19.155, 19.157, 19.168, 19.182,\n",
       "          19.187, 19.191, 19.205, 19.211, 19.233, 19.238, 19.245, 19.26 ]),\n",
       "   'data_y': array([50700.44017391, 50716.10257005, 50733.00970048, 50747.7909372 ,\n",
       "          50763.30728502, 50778.73986473, 50793.79540097, 50808.48558454,\n",
       "          50824.00144928, 50837.22011594, 50850.76295652, 50863.39609662,\n",
       "          50877.07207729, 50889.61791304, 50901.60631884, 50913.0786087 ,\n",
       "          50924.11174879, 50934.22267633, 50945.58875362, 50956.68033816,\n",
       "          50967.80830918, 50979.90578744, 50991.70591304, 51003.66039614,\n",
       "          51015.74456039, 51027.95892754, 51040.3029372 , 51052.79278261,\n",
       "          51065.37528502, 51078.56717874, 51091.4567343 , 51103.85966184,\n",
       "          51116.70728502, 51129.92806763, 51143.52469565, 51157.46292754,\n",
       "          51172.664657  , 51187.10976812, 51202.62241546, 51218.13119807,\n",
       "          51233.88533333, 51249.18696618, 51267.09354589, 51283.36821256,\n",
       "          51300.13373913, 51318.95114976, 51335.43692754, 51351.84386473,\n",
       "          51367.84651208, 51382.82113043, 51398.25348792, 51412.83622222,\n",
       "          51427.02222222, 51440.83206763, 51453.75864734, 51466.00285024,\n",
       "          51479.34619324, 51491.46335266, 51504.74617391, 51517.74068599,\n",
       "          51531.06188406, 51544.68292754, 51558.39023188, 51572.11515942,\n",
       "          51585.84230918, 51599.50002899, 51614.29890821, 51626.67353623,\n",
       "          51640.90636715, 51654.62940097, 51666.49154589, 51678.78596135,\n",
       "          51690.72770048, 51701.98742995, 51714.49287923, 51725.42059903,\n",
       "          51736.24114976, 51746.64921739, 51756.6256715 , 51766.12629952,\n",
       "          51775.85110145, 51785.51464734, 51795.29652174, 51804.9964058 ,\n",
       "          51814.7996715 , 51823.82131401, 51832.19451208, 51841.176657  ,\n",
       "          51849.37524638, 51857.39804831, 51865.31275362, 51872.95234783,\n",
       "          51881.31084058, 51888.15062802, 51895.52747826, 51902.16050242,\n",
       "          51909.94604831, 51917.48282126, 51924.86494686, 51931.14324638,\n",
       "          51938.37441546, 51944.90666667, 51950.97603865, 51958.01286957,\n",
       "          51964.54228019, 51971.68535266, 51978.00977778, 51985.50697585,\n",
       "          51991.97259903, 51998.62883092, 52004.57520773, 52012.7211401 ,\n",
       "          52019.95051208, 52027.18651208, 52034.63047343, 52042.51742995,\n",
       "          52050.32834783, 52058.21694686, 52066.17748792, 52074.16005797,\n",
       "          52083.1043285 , 52090.568657  , 52098.58956522, 52106.3897971 ,\n",
       "          52114.40669565, 52121.23458937, 52128.18883092, 52135.49018357,\n",
       "          52141.75828019, 52148.28740097, 52154.90123671, 52160.79511111,\n",
       "          52167.74716908, 52174.66247343, 52180.57601932, 52187.56521739,\n",
       "          52194.00088889, 52199.83627053, 52206.23795169, 52212.64349758,\n",
       "          52218.76749758, 52224.77731401, 52230.70622222, 52236.57163285,\n",
       "          52242.37542029, 52247.8225314 , 52254.43429952, 52259.79808696,\n",
       "          52265.28264734, 52271.27783575, 52276.85081159, 52282.19828019,\n",
       "          52288.3294686 , 52294.05511111, 52299.50038647, 52305.44490821,\n",
       "          52311.97437681, 52317.38168116, 52322.57907246, 52328.02467633,\n",
       "          52333.90954589, 52339.05157488, 52344.52235749, 52349.83130435,\n",
       "          52355.14124638, 52360.33026087, 52365.35313043, 52371.19810628,\n",
       "          52376.7278744 , 52382.37014493, 52388.60356522, 52394.39431884,\n",
       "          52400.32670531, 52406.94562319, 52412.26985507, 52418.84378744,\n",
       "          52425.79681159, 52431.83694686, 52438.2817971 , 52445.09731401,\n",
       "          52451.13393237, 52457.13972947, 52462.987343  , 52468.68343961,\n",
       "          52472.98141063, 52477.80417391, 52483.67687729, 52488.92369082,\n",
       "          52493.75655072, 52498.37165217, 52503.35095652, 52509.27180676,\n",
       "          52514.58933333, 52519.53920773, 52524.37856039, 52529.00330435,\n",
       "          52533.69345894, 52538.49147826, 52543.07831884, 52548.25723671,\n",
       "          52552.527343  , 52556.50720773, 52560.37725604, 52563.79014493,\n",
       "          52566.90435749, 52569.5671562 , 52571.77365217, 52573.43008696,\n",
       "          52574.60910596, 52576.925457  , 52578.9977372 , 52579.67308857,\n",
       "          52580.41798841, 52581.18232657, 52582.15290306, 52582.79301256,\n",
       "          52582.97678068, 52582.36678712, 52582.18456167, 52581.8511285 ,\n",
       "          52581.90942287, 52581.75490757, 52581.64658551, 52581.39416296,\n",
       "          52581.24642061, 52581.16671691, 52581.14772818, 52581.22686506,\n",
       "          52581.37203092, 52581.57377649, 52581.82159936, 52582.12598261,\n",
       "          52582.54900676, 52582.9173694 , 52583.30965604, 52583.78580097,\n",
       "          52584.20203607, 52584.55890242, 52584.97723092, 52585.30223897,\n",
       "          52585.76886377, 52586.23090242, 52586.95992979, 52587.53369469,\n",
       "          52588.30695072, 52589.14692367, 52589.86895266, 52590.67885604,\n",
       "          52591.61244444, 52592.56351691, 52593.43536232, 52594.4825314 ,\n",
       "          52595.42115942, 52596.42948792, 52597.2945314 , 52598.44125604,\n",
       "          52599.48316908, 52600.544     , 52601.62231884, 52602.76608696,\n",
       "          52604.03198068, 52605.25992271, 52606.59404831, 52608.05943961,\n",
       "          52609.67889855, 52611.41137198, 52613.62156522, 52614.88916908,\n",
       "          52617.34226087, 52620.39059903, 52623.26452174, 52626.97898551,\n",
       "          52630.24436715, 52633.50070531, 52636.85344928, 52640.38613527,\n",
       "          52643.75128502, 52647.2495942 , 52650.77157488, 52654.48625121,\n",
       "          52657.89000966, 52661.97647343, 52665.68063768, 52669.31603865,\n",
       "          52672.98258937, 52676.31277295, 52680.52852174, 52684.6149372 ,\n",
       "          52688.75437681, 52692.96666667, 52697.5098744 , 52701.66491787,\n",
       "          52706.95447343, 52712.69011594, 52717.78599034, 52723.09376812,\n",
       "          52728.45074396, 52733.81651208, 52738.90218357, 52744.82312077,\n",
       "          52750.32009662, 52755.8926087 , 52761.56589372, 52767.35885024,\n",
       "          52773.44803865, 52779.61228985, 52785.10962319, 52790.97899517,\n",
       "          52797.07172947, 52803.46532367, 52810.44573913, 52817.14211594,\n",
       "          52824.00571981, 52830.91809662, 52837.84508213, 52844.82165217,\n",
       "          52851.81478261, 52859.30491787, 52865.98921739, 52873.17448309,\n",
       "          52880.11737198, 52887.09311111, 52893.69418357, 52900.70095652,\n",
       "          52906.89590338, 52913.39626087, 52919.90123671, 52926.43086957,\n",
       "          52933.124     , 52939.48802899, 52945.95128502, 52952.53646377,\n",
       "          52959.08023188, 52965.63916908, 52972.25072464, 52978.93503382,\n",
       "          52985.71659903, 52992.46456039, 52999.19884058, 53005.5505314 ,\n",
       "          53012.963343  , 53019.81942029, 53026.77536232, 53033.87288889,\n",
       "          53041.10755556, 53048.99213527, 53056.01035749, 53063.55833816,\n",
       "          53071.27246377, 53079.16701449, 53087.25480193, 53095.52774879,\n",
       "          53103.74405797, 53112.6068599 , 53121.10508213, 53129.54243478,\n",
       "          53137.89972947, 53146.219343  , 53154.54299517, 53162.90508213,\n",
       "          53171.35712077, 53179.85708213, 53188.07608696, 53196.1298744 ,\n",
       "          53204.71352657, 53212.311343  , 53220.76148792, 53229.64231884,\n",
       "          53239.28322705, 53248.9611401 , 53258.94500483, 53269.24255072,\n",
       "          53279.89091787, 53290.88921739, 53302.18842512, 53313.76521739,\n",
       "          53325.89744928, 53338.4523285 , 53350.30133333, 53362.34510145,\n",
       "          53374.32342029, 53386.23478261, 53398.07327536, 53409.83410628,\n",
       "          53421.81507246, 53433.5533913 , 53444.64834783, 53455.63051208,\n",
       "          53466.61778744, 53477.7690628 , 53489.24231884, 53500.81489855,\n",
       "          53512.30171981, 53524.3887343 , 53536.00052174, 53547.48624155,\n",
       "          53558.85907246, 53570.13045411, 53581.26691787, 53592.02760386,\n",
       "          53602.57254106, 53612.87141063, 53623.48152657, 53634.00818357,\n",
       "          53644.51058937, 53655.04058937, 53665.63410628, 53676.31171981,\n",
       "          53687.08844444, 53697.51336232, 53708.09569082, 53718.30144928,\n",
       "          53728.30079227, 53738.02343961, 53748.74629952, 53758.98877295]),\n",
       "   'fitted_model': {'slope': np.float64(4747.7841749457),\n",
       "    'intercept': np.float64(1320.8844336364004),\n",
       "    'fitted_y': array([51211.68954266, 51220.78989678, 51227.86794998, 51232.92370227,\n",
       "           51252.13556097, 51257.19131325, 51271.34741966, 51278.42547287,\n",
       "           51280.44777378, 51297.63733156, 51305.72653522, 51309.77113705,\n",
       "           51321.90494254, 51325.94954437, 51328.98299575, 51333.02759758,\n",
       "           51341.11680124, 51344.15025261, 51348.19485444, 51356.2840581 ,\n",
       "           51361.33981039, 51366.39556268, 51374.48476634, 51375.4959168 ,\n",
       "           51379.54051863, 51382.57397   , 51387.62972229, 51390.66317366,\n",
       "           51394.70777549, 51406.84158099, 51409.87503236, 51419.98653693,\n",
       "           51422.00883785, 51424.03113876, 51431.10919197, 51441.22069654,\n",
       "           51448.29874975, 51460.43255524, 51470.54405982, 51475.5998121 ,\n",
       "           51489.75591851, 51498.85627263, 51503.91202492, 51517.05698087,\n",
       "           51523.12388361, 51526.15733499, 51543.34689277, 51551.43609643,\n",
       "           51561.547601  , 51568.62565421, 51571.65910558, 51579.74830924,\n",
       "           51584.80406153, 51585.81521199, 51586.82636244, 51598.96016794,\n",
       "           51599.97131839, 51601.99361931, 51610.08282297, 51615.13857526,\n",
       "           51619.18317709, 51625.25007983, 51629.29468167, 51632.32813304,\n",
       "           51639.40618624, 51641.42848716, 51642.43963761, 51646.48423944,\n",
       "           51648.50654036, 51651.53999173, 51653.56229265, 51659.62919539,\n",
       "           51663.67379722, 51664.68494768, 51670.75185043, 51674.79645226,\n",
       "           51677.82990363, 51687.94140821, 51694.00831095, 51695.01946141,\n",
       "           51698.05291278, 51704.11981553, 51708.16441736, 51712.20901919,\n",
       "           51718.27592194, 51723.33167423, 51724.34282468, 51738.49893109,\n",
       "           51745.57698429, 51750.63273658, 51760.74424116, 51764.78884299,\n",
       "           51765.79999345, 51767.82229436, 51777.93379894, 51778.9449494 ,\n",
       "           51780.96725031, 51786.0230026 , 51787.03415306, 51789.05645397,\n",
       "           51797.14565763, 51800.17910901, 51801.19025946, 51804.22371084,\n",
       "           51813.32406495, 51815.34636587, 51817.36866679, 51822.42441907,\n",
       "           51825.45787045, 51826.4690209 , 51829.50247228, 51832.53592365,\n",
       "           51833.54707411, 51846.69203006, 51849.72548143, 51850.73663189,\n",
       "           51855.79238418, 51869.94849058, 51871.9707915 , 51877.02654379,\n",
       "           51880.05999516, 51883.09344653, 51894.21610157, 51895.22725202,\n",
       "           51897.24955294, 51903.31645568, 51908.37220797, 51910.39450889,\n",
       "           51915.45026118, 51931.6286685 , 51935.67327033, 51939.71787216,\n",
       "           51954.88512902, 51956.90742994, 51957.9185804 , 51969.04123543,\n",
       "           51974.09698772, 51989.26424458, 51995.33114733, 52003.42035099,\n",
       "           52021.62105923, 52024.6545106 , 52028.69911243, 52039.82176747,\n",
       "           52041.84406838, 52043.8663693 , 52051.95557296, 52053.97787387,\n",
       "           52057.01132525, 52063.07822799, 52068.13398028, 52072.17858211,\n",
       "           52081.27893623, 52086.33468852, 52089.36813989, 52092.40159126,\n",
       "           52100.49079492, 52103.5242463 , 52105.54654721, 52121.72495453,\n",
       "           52124.75840591, 52125.76955636, 52135.88106094, 52139.92566277,\n",
       "           52140.93681323, 52151.04831781, 52159.13752147, 52160.14867192,\n",
       "           52165.20442421, 52179.36053062, 52185.42743336, 52189.4720352 ,\n",
       "           52204.63929206, 52208.68389389, 52212.72849572, 52222.8400003 ,\n",
       "           52228.90690304, 52242.05185899, 52249.1299122 , 52250.14106265,\n",
       "           52257.21911586, 52273.39752318, 52276.43097455, 52278.45327547,\n",
       "           52292.60938187, 52295.64283325, 52301.70973599, 52303.73203691,\n",
       "           52305.75433782, 52308.7877892 , 52312.83239103, 52317.88814332,\n",
       "           52320.92159469, 52334.06655064, 52337.10000201, 52338.11115247,\n",
       "           52340.13345338, 52342.1557543 , 52344.17805521, 52345.18920567,\n",
       "           52346.20035613, 52348.22265704, 52349.2338075 , 52351.25610842,\n",
       "           52352.26725887, 52355.30071025, 52364.40106437, 52372.49026803,\n",
       "           52374.51256894, 52376.53486986, 52377.54602032, 52379.56832123,\n",
       "           52380.57947169, 52382.6017726 , 52383.61292306, 52385.63522398,\n",
       "           52387.65752489, 52388.66867535, 52389.67982581, 52391.70212672,\n",
       "           52392.71327718, 52394.7355781 , 52395.74672855, 52396.75787901,\n",
       "           52397.76902947, 52398.78017993, 52400.80248084, 52401.8136313 ,\n",
       "           52402.82478176, 52403.83593221, 52404.84708267, 52405.85823313,\n",
       "           52406.86938359, 52407.88053404, 52408.8916845 , 52409.90283496,\n",
       "           52410.91398542, 52414.95858725, 52415.96973771, 52416.98088816,\n",
       "           52421.02548999, 52422.03664045, 52440.23734869, 52447.31540189,\n",
       "           52448.32655235, 52469.56071196, 52476.63876516, 52477.64991562,\n",
       "           52488.77257066, 52494.8394734 , 52497.87292477, 52501.9175266 ,\n",
       "           52517.08478347, 52518.09593393, 52520.11823484, 52531.24088988,\n",
       "           52532.25204033, 52534.27434125, 52542.36354491, 52545.39699628,\n",
       "           52547.4192972 , 52558.54195223, 52565.62000544, 52566.63115589,\n",
       "           52579.77611184, 52584.83186413, 52588.87646596, 52589.88761642,\n",
       "           52606.06602374, 52610.11062557, 52622.24443106, 52627.30018335,\n",
       "           52630.33363472, 52637.41168793, 52646.51204205, 52649.54549342,\n",
       "           52658.64584754, 52660.66814845, 52663.70159983, 52671.79080349,\n",
       "           52672.80195395, 52675.83540532, 52676.84655578, 52677.85770623,\n",
       "           52680.89115761, 52685.94690989, 52687.96921081, 52692.01381264,\n",
       "           52710.21452088, 52713.24797225, 52717.29257408, 52733.4709814 ,\n",
       "           52734.48213186, 52736.50443278, 52747.62708781, 52752.6828401 ,\n",
       "           52764.81664559, 52770.88354834, 52771.89469879, 52786.0508052 ,\n",
       "           52799.19576115, 52804.25151344, 52811.32956664, 52828.51912442,\n",
       "           52831.55257579, 52832.56372625, 52849.75328403, 52853.79788586,\n",
       "           52854.80903632, 52866.94284181, 52874.02089502, 52875.03204547,\n",
       "           52891.21045279, 52901.32195737, 52906.37770966, 52916.48921424,\n",
       "           52924.5784179 , 52929.63417019, 52945.81257751, 52952.89063071,\n",
       "           52957.946383  , 52973.11363986, 52981.20284352, 52983.22514444,\n",
       "           52999.40355176, 53006.48160497, 53011.53735725, 53015.58195908,\n",
       "           53030.74921595, 53033.78266732, 53038.83841961, 53054.00567647,\n",
       "           53060.07257922, 53061.08372968, 53071.19523425, 53078.27328746,\n",
       "           53085.35134066, 53100.51859753, 53109.61895164, 53113.66355347,\n",
       "           53120.74160668, 53140.96461583, 53146.02036812, 53148.04266903,\n",
       "           53166.24337727, 53173.32143048, 53181.41063414, 53198.60019192,\n",
       "           53206.68939558, 53213.76744878, 53226.91240473, 53232.97930748,\n",
       "           53233.99045793, 53240.05736068, 53259.26921937, 53262.30267075,\n",
       "           53266.34727258, 53280.50337898, 53285.55913127, 53286.57028173,\n",
       "           53299.71523768, 53305.78214043, 53311.84904317, 53327.01630004,\n",
       "           53331.06090187, 53333.08320278, 53344.20585782, 53353.30621193,\n",
       "           53359.37311468, 53365.44001743, 53382.62957521, 53387.68532749,\n",
       "           53388.69647795, 53407.90833665, 53413.97523939, 53431.16479717,\n",
       "           53440.26515129, 53456.44355861, 53465.54391273, 53474.64426685,\n",
       "           53484.75577143, 53514.0791347 , 53522.16833836, 53529.24639156,\n",
       "           53546.43594934, 53554.525153  , 53556.54745392, 53578.79276399,\n",
       "           53589.91541902, 53592.94887039, 53606.09382634, 53612.16072909,\n",
       "           53619.23878229, 53630.36143733, 53658.67365014, 53667.77400426,\n",
       "           53675.86320792, 53695.07506662, 53701.14196936, 53707.20887211,\n",
       "           53722.37612897, 53732.48763355, 53733.49878401, 53750.68834179,\n",
       "           53761.81099682, 53763.83329773, 53774.95595277, 53789.11205918,\n",
       "           53794.16781146, 53798.21241329, 53812.3685197 , 53818.43542245,\n",
       "           53840.68073252, 53845.7364848 , 53852.81453801, 53867.98179487])}},\n",
       "  {'segment': 9,\n",
       "   'data_x': array([19.268, 19.269, 19.289, 19.303, 19.309, 19.321, 19.327, 19.332,\n",
       "          19.352, 19.355, 19.356, 19.366, 19.373, 19.393, 19.408, 19.419,\n",
       "          19.43 , 19.456, 19.464, 19.479, 19.492, 19.493, 19.496, 19.503,\n",
       "          19.509, 19.513, 19.519, 19.525, 19.528, 19.53 , 19.539, 19.542,\n",
       "          19.547, 19.564, 19.569, 19.57 , 19.59 , 19.595, 19.597, 19.612,\n",
       "          19.623, 19.632, 19.651, 19.662, 19.672, 19.674, 19.696, 19.702,\n",
       "          19.703, 19.717, 19.724, 19.739, 19.746, 19.751, 19.756, 19.768,\n",
       "          19.771, 19.773, 19.79 , 19.795, 19.799, 19.807, 19.811, 19.813,\n",
       "          19.823, 19.834, 19.837, 19.846, 19.858, 19.86 , 19.864, 19.879,\n",
       "          19.884, 19.889, 19.9  , 19.903, 19.906, 19.914, 19.92 , 19.924,\n",
       "          19.928, 19.936, 19.938, 19.942, 19.958, 19.96 , 19.961, 19.972,\n",
       "          19.977, 19.978, 19.998, 20.005, 20.007, 20.016, 20.023, 20.026,\n",
       "          20.028, 20.04 , 20.041, 20.043, 20.053, 20.058, 20.061, 20.074,\n",
       "          20.075, 20.078, 20.086, 20.093, 20.098, 20.108, 20.117, 20.126,\n",
       "          20.128, 20.152, 20.159, 20.162, 20.181, 20.189, 20.204, 20.211,\n",
       "          20.228, 20.234, 20.242, 20.25 , 20.274, 20.286, 20.289, 20.309,\n",
       "          20.317, 20.335, 20.341, 20.345, 20.351, 20.367, 20.368, 20.37 ,\n",
       "          20.371, 20.373, 20.374, 20.377, 20.381, 20.389, 20.392, 20.394,\n",
       "          20.405, 20.413, 20.416, 20.425, 20.432, 20.436, 20.44 , 20.449,\n",
       "          20.456, 20.467, 20.471, 20.473, 20.481, 20.485, 20.49 , 20.494,\n",
       "          20.506, 20.508, 20.51 , 20.521, 20.522, 20.524, 20.53 , 20.532,\n",
       "          20.535, 20.54 , 20.547, 20.552, 20.564, 20.57 , 20.574, 20.578,\n",
       "          20.591, 20.592, 20.594, 20.603, 20.607, 20.608, 20.62 , 20.628,\n",
       "          20.633, 20.64 , 20.655, 20.659, 20.666, 20.67 , 20.674, 20.676,\n",
       "          20.677, 20.678, 20.68 , 20.683, 20.687, 20.688, 20.69 , 20.691,\n",
       "          20.692, 20.695, 20.698, 20.702, 20.705, 20.714, 20.719, 20.722,\n",
       "          20.726, 20.737, 20.739, 20.741, 20.75 , 20.752, 20.755, 20.758,\n",
       "          20.761, 20.768, 20.772, 20.777, 20.789, 20.794, 20.798, 20.8  ,\n",
       "          20.813, 20.817, 20.824, 20.827, 20.83 , 20.838, 20.845, 20.847,\n",
       "          20.855, 20.88 , 20.887, 20.899, 20.91 , 20.919, 20.936, 20.938,\n",
       "          20.941, 20.943, 20.947, 20.959, 20.962, 20.965, 20.982, 20.984,\n",
       "          20.986, 21.002, 21.007, 21.008, 21.021, 21.027, 21.033, 21.051,\n",
       "          21.062, 21.067, 21.083, 21.112, 21.121, 21.123, 21.141, 21.147,\n",
       "          21.148, 21.151, 21.158, 21.159, 21.162, 21.164, 21.17 , 21.186,\n",
       "          21.188, 21.195, 21.21 , 21.217, 21.218, 21.237, 21.245, 21.246,\n",
       "          21.262, 21.274, 21.28 , 21.287, 21.301, 21.304, 21.31 , 21.33 ,\n",
       "          21.337, 21.358, 21.362, 21.364, 21.369, 21.372, 21.375, 21.379,\n",
       "          21.399, 21.405, 21.406, 21.428, 21.431, 21.433, 21.45 , 21.454,\n",
       "          21.459, 21.464, 21.465, 21.471, 21.474, 21.475, 21.478, 21.487,\n",
       "          21.488, 21.489, 21.493, 21.496, 21.503, 21.507, 21.517, 21.522,\n",
       "          21.526, 21.529, 21.542, 21.546, 21.565, 21.573, 21.576, 21.594,\n",
       "          21.604, 21.613, 21.628, 21.636, 21.64 , 21.646, 21.661, 21.665,\n",
       "          21.671, 21.676, 21.682, 21.696, 21.702, 21.707, 21.719, 21.727,\n",
       "          21.734, 21.749, 21.756, 21.763, 21.766, 21.787, 21.794, 21.796,\n",
       "          21.81 , 21.815, 21.816, 21.831, 21.839, 21.845, 21.858, 21.864,\n",
       "          21.869, 21.873, 21.884, 21.886, 21.888, 21.895, 21.898, 21.905,\n",
       "          21.911, 21.919, 21.928, 21.952, 21.959, 21.962, 21.986, 21.992,\n",
       "          21.999, 22.012, 22.02 , 22.026, 22.039, 22.044, 22.045, 22.057,\n",
       "          22.063, 22.068, 22.081, 22.089, 22.094, 22.095, 22.109, 22.117,\n",
       "          22.124, 22.135, 22.138, 22.141, 22.148, 22.152, 22.154, 22.162,\n",
       "          22.167, 22.171, 22.172, 22.187, 22.194, 22.195, 22.213, 22.22 ,\n",
       "          22.226, 22.235, 22.24 , 22.245, 22.249, 22.267, 22.272, 22.278,\n",
       "          22.296, 22.3  , 22.307, 22.322, 22.33 , 22.331, 22.348, 22.356,\n",
       "          22.36 , 22.364, 22.378, 22.384, 22.386, 22.411, 22.423, 22.429,\n",
       "          22.45 , 22.459, 22.479, 22.49 , 22.491, 22.508, 22.52 , 22.526,\n",
       "          22.539, 22.552, 22.557, 22.574, 22.58 , 22.587, 22.599, 22.602,\n",
       "          22.606, 22.616, 22.624, 22.629, 22.639, 22.645, 22.648, 22.65 ,\n",
       "          22.668, 22.675, 22.676, 22.689, 22.694, 22.696, 22.71 , 22.721,\n",
       "          22.727, 22.732, 22.747, 22.748, 22.75 , 22.758, 22.762, 22.766,\n",
       "          22.778, 22.787, 22.793, 22.806, 22.812, 22.814, 22.819, 22.837,\n",
       "          22.843, 22.848, 22.862, 22.869, 22.87 , 22.885, 22.891, 22.893,\n",
       "          22.904, 22.907, 22.911, 22.917, 22.918, 22.922, 22.923, 22.938,\n",
       "          22.94 , 22.941, 22.947, 22.961, 22.974, 23.003, 23.012, 23.019,\n",
       "          23.028, 23.035, 23.041, 23.047, 23.057, 23.061, 23.062, 23.064,\n",
       "          23.069, 23.085, 23.09 , 23.092, 23.102, 23.108, 23.109, 23.116,\n",
       "          23.136, 23.139, 23.14 , 23.153, 23.155, 23.156, 23.159, 23.161,\n",
       "          23.162, 23.166, 23.168, 23.176, 23.195, 23.199, 23.204, 23.218,\n",
       "          23.222, 23.224, 23.243, 23.253, 23.267, 23.268, 23.269, 23.27 ,\n",
       "          23.275, 23.277, 23.279, 23.288, 23.295, 23.297, 23.31 , 23.312,\n",
       "          23.315, 23.322, 23.329, 23.333, 23.338, 23.353, 23.354, 23.356,\n",
       "          23.373, 23.379, 23.386, 23.408, 23.418, 23.419, 23.439, 23.449,\n",
       "          23.469, 23.478, 23.486, 23.504, 23.508, 23.512, 23.522, 23.523,\n",
       "          23.526, 23.536, 23.546, 23.548, 23.56 , 23.569, 23.573, 23.578,\n",
       "          23.593, 23.596, 23.603, 23.609, 23.61 ]),\n",
       "   'data_y': array([53769.22731401, 53779.78970048, 53789.35960386, 53799.00886957,\n",
       "          53808.42988406, 53817.56649275, 53826.38878261, 53834.87429952,\n",
       "          53843.53428985, 53852.12389372, 53861.05135266, 53869.11736232,\n",
       "          53876.69228019, 53884.3856715 , 53891.52333333, 53898.26074396,\n",
       "          53904.65942995, 53910.99718841, 53916.6081256 , 53921.4526087 ,\n",
       "          53926.08315942, 53930.56208696, 53935.1463285 , 53938.79428019,\n",
       "          53942.37388406, 53945.56838647, 53948.87543961, 53951.76600966,\n",
       "          53954.47661836, 53957.09074396, 53959.65895652, 53962.18411594,\n",
       "          53964.77590338, 53967.18749758, 53969.83107246, 53971.83945894,\n",
       "          53974.27215459, 53976.86407729, 53979.02321739, 53981.31897585,\n",
       "          53983.74549758, 53986.17113043, 53988.13102415, 53990.22340097,\n",
       "          53992.24221256, 53994.20197101, 53996.11336232, 53998.11733333,\n",
       "          53999.77003865, 54001.37043478, 54003.00686957, 54004.36720773,\n",
       "          54005.72149758, 54007.03582609, 54008.29508213, 54009.50171981,\n",
       "          54010.70236715, 54011.78428985, 54012.81314976, 54013.77654106,\n",
       "          54014.82455072, 54015.62541063, 54016.47904348, 54017.32056039,\n",
       "          54018.27971014, 54019.14672464, 54019.94950725, 54020.81062802,\n",
       "          54021.58057971, 54022.29619324, 54023.09377778, 54023.81826087,\n",
       "          54024.54490821, 54025.23524638, 54026.00401932, 54026.79120773,\n",
       "          54027.42332367, 54028.1978744 , 54028.91501449, 54029.59290821,\n",
       "          54030.35833816, 54031.0752657 , 54031.78457971, 54032.48608696,\n",
       "          54033.19217391, 54033.82558454, 54034.57770048, 54035.30272464,\n",
       "          54036.01068599, 54036.62624155, 54037.2666087 , 54037.93810628,\n",
       "          54038.46556522, 54039.12558454, 54039.76765217, 54040.31878261,\n",
       "          54040.91252174, 54041.51491787, 54042.18649275, 54042.78162319,\n",
       "          54043.43172947, 54044.15675362, 54044.82160386, 54045.55596135,\n",
       "          54046.37294686, 54047.12528502, 54047.93800966, 54048.75748792,\n",
       "          54049.59080193, 54050.48112077, 54051.55862802, 54052.55793237,\n",
       "          54053.59000966, 54054.77039614, 54056.00589372, 54057.26461836,\n",
       "          54058.52364251, 54059.87634783, 54061.22889855, 54062.7275942 ,\n",
       "          54064.37007729, 54066.09352657, 54067.89011594, 54069.50189372,\n",
       "          54071.52219324, 54073.52085024, 54075.42927536, 54077.24991304,\n",
       "          54079.10624155, 54080.93855072, 54082.68782609, 54084.55409662,\n",
       "          54086.28888889, 54088.01433816, 54089.69901449, 54091.31404831,\n",
       "          54092.90067633, 54094.46687923, 54095.97319807, 54097.41472464,\n",
       "          54098.76756522, 54100.13171014, 54101.49916908, 54103.0454686 ,\n",
       "          54104.53750725, 54106.00915942, 54107.47497585, 54108.91391304,\n",
       "          54110.49242512, 54111.99833816, 54113.40537198, 54114.74330435,\n",
       "          54116.10760386, 54117.57742995, 54118.89975845, 54120.25184541,\n",
       "          54121.54688889, 54122.81924638, 54124.08449275, 54125.344657  ,\n",
       "          54126.62945894, 54127.89986473, 54129.15191304, 54130.33878261,\n",
       "          54131.47684058, 54132.57667633, 54133.81029952, 54135.05659903,\n",
       "          54136.09099517, 54137.29768116, 54138.34342029, 54139.33764251,\n",
       "          54140.29679227, 54141.43688889, 54142.33847343, 54143.20608696,\n",
       "          54144.14830918, 54145.14662802, 54145.95628985, 54146.9905314 ,\n",
       "          54147.97242512, 54149.21802899, 54150.42246377, 54151.78112077,\n",
       "          54153.03135266, 54154.47396135, 54155.67784541, 54157.20358454,\n",
       "          54158.87481159, 54160.44091787, 54161.98433816, 54163.35210628,\n",
       "          54164.91168116, 54166.43158454, 54167.79392271, 54169.21057971,\n",
       "          54170.61604831, 54171.88267633, 54173.27521739, 54174.57952657,\n",
       "          54175.73761353, 54176.89956522, 54178.00377778, 54179.14522705,\n",
       "          54180.26849275, 54181.57788406, 54182.5368599 , 54183.5765314 ,\n",
       "          54184.46264734, 54185.49413527, 54186.33443478, 54187.48898551,\n",
       "          54188.3977971 , 54189.12593237, 54189.82757488, 54190.56859903,\n",
       "          54191.46208696, 54192.18600966, 54192.9654686 , 54193.75084058,\n",
       "          54194.50380676, 54195.19843478, 54196.00307246, 54196.62948792,\n",
       "          54197.20647343, 54197.82302415, 54198.30245411, 54199.04572947,\n",
       "          54199.81621256, 54200.38933333, 54201.03890821, 54201.68687923,\n",
       "          54202.40505314, 54203.21951691, 54204.08580676, 54204.95323671,\n",
       "          54206.01929469, 54207.09228985, 54208.15351691, 54209.42500483,\n",
       "          54210.71834783, 54212.0094686 , 54213.31394203, 54214.60995169,\n",
       "          54215.85013527, 54217.06019324, 54218.23005797, 54219.36233816,\n",
       "          54220.46259903, 54221.58591304, 54222.72281159, 54223.91181643,\n",
       "          54225.1194686 , 54226.07475362, 54227.35450242, 54228.68510145,\n",
       "          54230.00649275, 54231.42850242, 54232.8621256 , 54234.25551691,\n",
       "          54235.96301449, 54237.45198068, 54239.02975845, 54240.69762319,\n",
       "          54242.26046377, 54243.90616425, 54245.49292754, 54247.04042512,\n",
       "          54248.55283092, 54250.04117874, 54251.51161353, 54252.97288889,\n",
       "          54254.43656039, 54255.90504348, 54257.36931401, 54258.79667633,\n",
       "          54260.24895652, 54261.45563285, 54262.95628019, 54264.35742995,\n",
       "          54265.742657  , 54267.21918841, 54268.8824058 , 54270.49951691,\n",
       "          54272.28006763, 54273.92166184, 54275.6951401 , 54277.52904348,\n",
       "          54279.32389372, 54281.44127536, 54283.36709179, 54285.4502029 ,\n",
       "          54287.47866667, 54289.53006763, 54291.79990338, 54294.01113043,\n",
       "          54296.22322705, 54298.42510145, 54300.72349758, 54302.6762963 ,\n",
       "          54304.62809662, 54306.55748792, 54308.4614847 , 54310.2490628 ,\n",
       "          54311.96080193, 54313.59175523, 54315.23962319, 54316.64425121,\n",
       "          54318.05485668, 54319.42365217, 54320.74800966, 54322.04798712,\n",
       "          54323.28105314, 54324.6810628 , 54325.85754267, 54327.25918841,\n",
       "          54328.61845411, 54330.16027697, 54331.88017391, 54333.59223188,\n",
       "          54335.43289533, 54337.37068599, 54339.31727536, 54341.24671176,\n",
       "          54343.3367343 , 54345.38166184, 54347.46423188, 54349.51756522,\n",
       "          54351.57824155, 54353.62917874, 54355.67715942, 54357.72388406,\n",
       "          54359.75644444, 54361.74713043, 54363.73342995, 54365.64666667,\n",
       "          54367.48104348, 54369.31802899, 54371.11661836, 54372.89219324,\n",
       "          54374.64604831, 54376.29422222, 54378.20577778, 54380.0123285 ,\n",
       "          54381.74742029, 54383.48411594, 54385.2102029 , 54387.02486957,\n",
       "          54388.73638647, 54390.51627053, 54392.16743961, 54394.18552657,\n",
       "          54396.24885024, 54398.09429952, 54400.14036715, 54402.13646377,\n",
       "          54404.22258937, 54406.37029952, 54408.64028985, 54410.8774686 ,\n",
       "          54413.14790338, 54415.44628019, 54417.7715942 , 54420.12003865,\n",
       "          54422.48278261, 54424.84610628, 54427.35451208, 54429.65238647,\n",
       "          54431.97101449, 54434.1346087 , 54436.44529469, 54438.55429952,\n",
       "          54440.61201932, 54442.62647343, 54444.61675362, 54446.87882126,\n",
       "          54448.65800966, 54450.48131401, 54452.36844444, 54454.08392271,\n",
       "          54455.86765217, 54457.6225314 , 54459.30836715, 54461.10127536,\n",
       "          54462.83151691, 54464.54919807, 54466.25528502, 54467.94537198,\n",
       "          54469.60948792, 54471.15837681, 54472.86191304, 54474.42867633,\n",
       "          54475.93321739, 54477.35760386, 54478.87103382, 54480.12533333,\n",
       "          54481.4508599 , 54482.75257971, 54484.06264734, 54485.38960386,\n",
       "          54486.70863768, 54488.15321739, 54489.38270531, 54490.70774879,\n",
       "          54492.05130435, 54493.42597101, 54494.86535266, 54496.47571014,\n",
       "          54497.99267633, 54499.64604831, 54501.32154589, 54503.01366184,\n",
       "          54504.72081159, 54506.44552657, 54508.28973913, 54509.8653913 ,\n",
       "          54511.73576812, 54513.46382609, 54515.17414493, 54516.86917874,\n",
       "          54518.5534686 , 54520.17256039, 54521.76202899, 54523.32846377,\n",
       "          54525.09569082, 54526.73681159, 54528.37630918, 54530.02345894,\n",
       "          54531.70645411, 54533.42910145, 54535.17781643, 54536.95710145,\n",
       "          54538.84508213, 54540.871343  , 54542.891343  , 54544.85033816,\n",
       "          54547.08925604, 54549.20019324, 54551.33312077, 54553.48142995,\n",
       "          54555.77671498, 54557.9105314 , 54559.96170048, 54562.19497585,\n",
       "          54564.23385507, 54566.09476328, 54568.20933333, 54570.19429952,\n",
       "          54572.19225121, 54574.15642512, 54576.05205797, 54577.91215459,\n",
       "          54579.7410628 , 54581.53132367, 54583.29744928, 54585.1054686 ,\n",
       "          54586.97712077, 54588.90722705, 54590.77084058, 54592.61466667,\n",
       "          54594.5829372 , 54596.2901256 , 54598.09609662, 54599.90057971,\n",
       "          54601.66119807, 54603.62571981, 54605.46730435, 54607.43283092,\n",
       "          54609.15120773, 54610.95076328, 54612.91118841, 54614.52386473,\n",
       "          54616.55051208, 54618.51395169, 54620.2872657 , 54622.38716908,\n",
       "          54624.34500483, 54626.223343  , 54628.38342029, 54630.4333913 ,\n",
       "          54632.40830918, 54634.65408696, 54636.74645411, 54638.80003865,\n",
       "          54640.83362319, 54642.86599034, 54644.88983575, 54646.91057005,\n",
       "          54648.91704348, 54651.00747826, 54652.96311111, 54654.91217391,\n",
       "          54656.82977778, 54658.72264734, 54660.60722705, 54662.50034783,\n",
       "          54664.47764251, 54666.38287923, 54668.57000966, 54670.71348792,\n",
       "          54672.53491787, 54674.39644444, 54676.36332367, 54678.22761353,\n",
       "          54680.08224155, 54682.03659903, 54683.82985507, 54685.56191304,\n",
       "          54687.23408696, 54688.79797101, 54690.40973913, 54691.86720773,\n",
       "          54693.36224155, 54694.78981643, 54696.24242512, 54697.57078261,\n",
       "          54698.8391401 , 54700.02649275, 54701.12953623, 54702.18672464,\n",
       "          54703.19394203, 54704.30641546, 54705.21171981, 54705.82736232,\n",
       "          54706.38686957, 54706.91613527, 54707.36789372, 54707.80692754,\n",
       "          54708.03687923, 54708.29457971, 54708.60257971, 54708.75127536,\n",
       "          54708.87950725, 54709.11521739, 54709.43989372, 54709.62143961,\n",
       "          54709.92051208, 54710.222657  , 54710.59761353, 54710.954     ,\n",
       "          54711.37192271, 54711.77776812, 54712.19683092, 54712.646657  ,\n",
       "          54713.11049275, 54713.51200966, 54714.04438647, 54714.56715942,\n",
       "          54715.00695652, 54715.4452657 , 54715.83029952, 54716.26263768,\n",
       "          54716.76268599, 54717.31342995, 54717.95814493, 54718.57596135,\n",
       "          54719.22403865, 54720.00221256, 54720.78108213, 54721.66942029,\n",
       "          54722.73360386, 54723.99123671, 54725.31416425, 54726.6438744 ,\n",
       "          54728.25084058, 54729.74391304, 54731.23124638, 54732.95583575,\n",
       "          54734.64537198, 54736.39204831, 54738.22931401, 54739.92611594,\n",
       "          54741.48991304, 54743.15554589, 54744.74461836, 54746.30855072,\n",
       "          54747.95727536, 54749.51214493, 54750.97628985, 54752.47668599,\n",
       "          54753.82005797, 54755.15755556, 54756.48554589, 54757.81914976,\n",
       "          54759.12523671, 54760.42481159, 54761.68166184, 54762.89426087,\n",
       "          54764.1469372 ]),\n",
       "   'fitted_model': {'slope': np.float64(4747.7841749457),\n",
       "    'intercept': np.float64(1320.8844336364004),\n",
       "    'fitted_y': array([53872.37605328, 53872.58557515, 53876.77601252, 53879.70931867,\n",
       "           53880.96644989, 53883.48071231, 53884.73784352, 53885.78545286,\n",
       "           53889.97589023, 53890.60445583, 53890.8139777 , 53892.90919639,\n",
       "           53894.37584946, 53898.56628683, 53901.70911486, 53904.01385541,\n",
       "           53906.31859596, 53911.76616454, 53913.44233949, 53916.58516752,\n",
       "           53919.30895181, 53919.51847368, 53920.14703928, 53921.61369236,\n",
       "           53922.87082357, 53923.70891104, 53924.96604225, 53926.22317347,\n",
       "           53926.85173907, 53927.27078281, 53929.15647962, 53929.78504523,\n",
       "           53930.83265457, 53934.39452633, 53935.44213568, 53935.65165754,\n",
       "           53939.84209491, 53940.88970426, 53941.30874799, 53944.45157602,\n",
       "           53946.75631657, 53948.64201339, 53952.62292889, 53954.92766944,\n",
       "           53957.02288812, 53957.44193186, 53962.05141297, 53963.30854418,\n",
       "           53963.51806605, 53966.4513722 , 53967.91802528, 53971.06085331,\n",
       "           53972.52750639, 53973.57511573, 53974.62272507, 53977.13698749,\n",
       "           53977.7655531 , 53978.18459684, 53981.7464686 , 53982.79407794,\n",
       "           53983.63216541, 53985.30834036, 53986.14642784, 53986.56547157,\n",
       "           53988.66069026, 53990.96543081, 53991.59399641, 53993.47969323,\n",
       "           53995.99395565, 53996.41299939, 53997.25108686, 54000.39391489,\n",
       "           54001.44152423, 54002.48913357, 54004.79387413, 54005.42243973,\n",
       "           54006.05100534, 54007.72718028, 54008.98431149, 54009.82239897,\n",
       "           54010.66048644, 54012.33666139, 54012.75570513, 54013.5937926 ,\n",
       "           54016.94614249, 54017.36518623, 54017.5747081 , 54019.87944865,\n",
       "           54020.92705799, 54021.13657986, 54025.32701723, 54026.79367031,\n",
       "           54027.21271405, 54029.09841086, 54030.56506394, 54031.19362955,\n",
       "           54031.61267328, 54034.12693571, 54034.33645757, 54034.75550131,\n",
       "           54036.85071999, 54037.89832934, 54038.52689494, 54041.25067923,\n",
       "           54041.4602011 , 54042.08876671, 54043.76494165, 54045.23159473,\n",
       "           54046.27920407, 54048.37442276, 54050.26011957, 54052.14581639,\n",
       "           54052.56486013, 54057.59338497, 54059.06003805, 54059.68860365,\n",
       "           54063.66951915, 54065.3456941 , 54068.48852213, 54069.95517521,\n",
       "           54073.51704697, 54074.77417818, 54076.45035313, 54078.12652807,\n",
       "           54083.15505292, 54085.66931534, 54086.29788094, 54090.48831831,\n",
       "           54092.16449326, 54095.93588689, 54097.1930181 , 54098.03110558,\n",
       "           54099.28823679, 54102.64058668, 54102.85010855, 54103.26915229,\n",
       "           54103.47867415, 54103.89771789, 54104.10723976, 54104.73580536,\n",
       "           54105.57389284, 54107.25006779, 54107.87863339, 54108.29767713,\n",
       "           54110.60241768, 54112.27859263, 54112.90715823, 54114.79285505,\n",
       "           54116.25950813, 54117.0975956 , 54117.93568308, 54119.82137989,\n",
       "           54121.28803297, 54123.59277352, 54124.430861  , 54124.84990473,\n",
       "           54126.52607968, 54127.36416715, 54128.4117765 , 54129.24986397,\n",
       "           54131.76412639, 54132.18317013, 54132.60221387, 54134.90695442,\n",
       "           54135.11647629, 54135.53552002, 54136.79265123, 54137.21169497,\n",
       "           54137.84026058, 54138.88786992, 54140.354523  , 54141.40213234,\n",
       "           54143.91639476, 54145.17352597, 54146.01161344, 54146.84970092,\n",
       "           54149.57348521, 54149.78300708, 54150.20205081, 54152.08774763,\n",
       "           54152.9258351 , 54153.13535697, 54155.64961939, 54157.32579434,\n",
       "           54158.37340368, 54159.84005676, 54162.98288479, 54163.82097226,\n",
       "           54165.28762534, 54166.12571281, 54166.96380029, 54167.38284402,\n",
       "           54167.59236589, 54167.80188776, 54168.2209315 , 54168.8494971 ,\n",
       "           54169.68758458, 54169.89710645, 54170.31615018, 54170.52567205,\n",
       "           54170.73519392, 54171.36375952, 54171.99232513, 54172.8304126 ,\n",
       "           54173.45897821, 54175.34467502, 54176.39228437, 54177.02084997,\n",
       "           54177.85893745, 54180.163678  , 54180.58272174, 54181.00176547,\n",
       "           54182.88746229, 54183.30650602, 54183.93507163, 54184.56363724,\n",
       "           54185.19220284, 54186.65885592, 54187.49694339, 54188.54455274,\n",
       "           54191.05881516, 54192.1064245 , 54192.94451197, 54193.36355571,\n",
       "           54196.08734   , 54196.92542747, 54198.39208055, 54199.02064616,\n",
       "           54199.64921176, 54201.32538671, 54202.79203979, 54203.21108353,\n",
       "           54204.88725847, 54210.12530518, 54211.59195826, 54214.10622068,\n",
       "           54216.41096124, 54218.29665805, 54221.85852982, 54222.27757355,\n",
       "           54222.90613916, 54223.32518289, 54224.16327037, 54226.67753279,\n",
       "           54227.30609839, 54227.934664  , 54231.49653576, 54231.9155795 ,\n",
       "           54232.33462324, 54235.68697313, 54236.73458247, 54236.94410434,\n",
       "           54239.66788863, 54240.92501984, 54242.18215105, 54245.95354468,\n",
       "           54248.25828524, 54249.30589458, 54252.65824447, 54258.73437866,\n",
       "           54260.62007547, 54261.03911921, 54264.81051284, 54266.06764405,\n",
       "           54266.27716592, 54266.90573153, 54268.37238461, 54268.58190647,\n",
       "           54269.21047208, 54269.62951582, 54270.88664703, 54274.23899692,\n",
       "           54274.65804066, 54276.12469374, 54279.26752176, 54280.73417484,\n",
       "           54280.94369671, 54284.92461221, 54286.60078716, 54286.81030903,\n",
       "           54290.16265892, 54292.67692134, 54293.93405255, 54295.40070563,\n",
       "           54298.33401179, 54298.9625774 , 54300.21970861, 54304.41014598,\n",
       "           54305.87679905, 54310.27675829, 54311.11484577, 54311.5338895 ,\n",
       "           54312.58149884, 54313.21006445, 54313.83863005, 54314.67671753,\n",
       "           54318.8671549 , 54320.12428611, 54320.33380798, 54324.94328908,\n",
       "           54325.57185469, 54325.99089842, 54329.55277019, 54330.39085766,\n",
       "           54331.438467  , 54332.48607634, 54332.69559821, 54333.95272942,\n",
       "           54334.58129503, 54334.7908169 , 54335.4193825 , 54337.30507932,\n",
       "           54337.51460119, 54337.72412306, 54338.56221053, 54339.19077613,\n",
       "           54340.65742921, 54341.49551669, 54343.59073537, 54344.63834471,\n",
       "           54345.47643219, 54346.10499779, 54348.82878208, 54349.66686956,\n",
       "           54353.64778506, 54355.32396   , 54355.95252561, 54359.72391924,\n",
       "           54361.81913792, 54363.70483474, 54366.84766277, 54368.52383771,\n",
       "           54369.36192519, 54370.6190564 , 54373.76188442, 54374.5999719 ,\n",
       "           54375.85710311, 54376.90471245, 54378.16184366, 54381.09514982,\n",
       "           54382.35228103, 54383.39989037, 54385.91415279, 54387.59032774,\n",
       "           54389.05698082, 54392.19980885, 54393.66646193, 54395.133115  ,\n",
       "           54395.76168061, 54400.16163985, 54401.62829293, 54402.04733666,\n",
       "           54404.98064282, 54406.02825216, 54406.23777403, 54409.38060206,\n",
       "           54411.056777  , 54412.31390822, 54415.0376925 , 54416.29482372,\n",
       "           54417.34243306, 54418.18052053, 54420.48526108, 54420.90430482,\n",
       "           54421.32334856, 54422.79000164, 54423.41856724, 54424.88522032,\n",
       "           54426.14235153, 54427.81852648, 54429.70422329, 54434.73274814,\n",
       "           54436.19940122, 54436.82796682, 54441.85649166, 54443.11362287,\n",
       "           54444.58027595, 54447.30406024, 54448.98023519, 54450.2373664 ,\n",
       "           54452.96115069, 54454.00876003, 54454.2182819 , 54456.73254432,\n",
       "           54457.98967553, 54459.03728487, 54461.76106916, 54463.43724411,\n",
       "           54464.48485345, 54464.69437532, 54467.62768148, 54469.30385643,\n",
       "           54470.77050951, 54473.07525006, 54473.70381566, 54474.33238127,\n",
       "           54475.79903435, 54476.63712182, 54477.05616556, 54478.73234051,\n",
       "           54479.77994985, 54480.61803732, 54480.82755919, 54483.97038722,\n",
       "           54485.4370403 , 54485.64656216, 54489.4179558 , 54490.88460888,\n",
       "           54492.14174009, 54494.0274369 , 54495.07504624, 54496.12265559,\n",
       "           54496.96074306, 54500.73213669, 54501.77974603, 54503.03687724,\n",
       "           54506.80827088, 54507.64635835, 54509.11301143, 54512.25583945,\n",
       "           54513.9320144 , 54514.14153627, 54517.70340803, 54519.37958298,\n",
       "           54520.21767045, 54521.05575793, 54523.98906409, 54525.2461953 ,\n",
       "           54525.66523903, 54530.90328574, 54533.41754817, 54534.67467938,\n",
       "           54539.07463861, 54540.96033543, 54545.1507728 , 54547.45551335,\n",
       "           54547.66503522, 54551.22690698, 54553.7411694 , 54554.99830061,\n",
       "           54557.7220849 , 54560.44586919, 54561.49347853, 54565.0553503 ,\n",
       "           54566.31248151, 54567.77913459, 54570.29339701, 54570.92196261,\n",
       "           54571.76005009, 54573.85526877, 54575.53144372, 54576.57905306,\n",
       "           54578.67427175, 54579.93140296, 54580.55996856, 54580.9790123 ,\n",
       "           54584.75040593, 54586.21705901, 54586.42658088, 54589.15036517,\n",
       "           54590.19797451, 54590.61701825, 54593.5503244 , 54595.85506496,\n",
       "           54597.11219617, 54598.15980551, 54601.30263354, 54601.5121554 ,\n",
       "           54601.93119914, 54603.60737409, 54604.44546156, 54605.28354904,\n",
       "           54607.79781146, 54609.68350827, 54610.94063948, 54613.66442377,\n",
       "           54614.92155498, 54615.34059872, 54616.38820806, 54620.15960169,\n",
       "           54621.4167329 , 54622.46434225, 54625.3976484 , 54626.86430148,\n",
       "           54627.07382335, 54630.21665138, 54631.47378259, 54631.89282633,\n",
       "           54634.19756688, 54634.82613248, 54635.66421996, 54636.92135117,\n",
       "           54637.13087304, 54637.96896051, 54638.17848238, 54641.32131041,\n",
       "           54641.74035414, 54641.94987601, 54643.20700722, 54646.14031338,\n",
       "           54648.86409767, 54654.94023185, 54656.82592867, 54658.29258175,\n",
       "           54660.17827856, 54661.64493164, 54662.90206285, 54664.15919406,\n",
       "           54666.25441275, 54667.09250022, 54667.30202209, 54667.72106583,\n",
       "           54668.76867517, 54672.12102506, 54673.16863441, 54673.58767814,\n",
       "           54675.68289683, 54676.94002804, 54677.14954991, 54678.61620299,\n",
       "           54682.80664035, 54683.43520596, 54683.64472783, 54686.36851212,\n",
       "           54686.78755585, 54686.99707772, 54687.62564333, 54688.04468706,\n",
       "           54688.25420893, 54689.09229641, 54689.51134014, 54691.18751509,\n",
       "           54695.16843059, 54696.00651806, 54697.05412741, 54699.98743356,\n",
       "           54700.82552104, 54701.24456478, 54705.22548028, 54707.32069896,\n",
       "           54710.25400512, 54710.46352699, 54710.67304885, 54710.88257072,\n",
       "           54711.93018007, 54712.3492238 , 54712.76826754, 54714.65396435,\n",
       "           54716.12061743, 54716.53966117, 54719.26344546, 54719.6824892 ,\n",
       "           54720.3110548 , 54721.77770788, 54723.24436096, 54724.08244843,\n",
       "           54725.13005778, 54728.2728858 , 54728.48240767, 54728.90145141,\n",
       "           54732.46332317, 54733.72045438, 54735.18710746, 54739.79658857,\n",
       "           54741.89180725, 54742.10132912, 54746.29176649, 54748.38698517,\n",
       "           54752.57742254, 54754.46311936, 54756.1392943 , 54759.91068793,\n",
       "           54760.74877541, 54761.58686288, 54763.68208157, 54763.89160343,\n",
       "           54764.52016904, 54766.61538772, 54768.71060641, 54769.12965015,\n",
       "           54771.64391257, 54773.52960938, 54774.36769686, 54775.4153062 ,\n",
       "           54778.55813422, 54779.18669983, 54780.65335291, 54781.91048412,\n",
       "           54782.12000599])}},\n",
       "  {'segment': 10,\n",
       "   'data_x': array([23.63 , 23.634, 23.636, ..., 32.127, 32.128, 32.131], shape=(1321,)),\n",
       "   'data_y': array([54765.29791304, 54766.44564251, 54767.68069565, ...,\n",
       "          54783.97762319, 54784.15627053, 54784.34745894], shape=(1321,)),\n",
       "   'fitted_model': {'slope': np.float64(4747.7841749457),\n",
       "    'intercept': np.float64(1320.8844336364004),\n",
       "    'fitted_y': array([54784.67994682, 54784.66680812, 54784.66023877, ...,\n",
       "           54756.77006409, 54756.76677942, 54756.75692539], shape=(1321,))}},\n",
       "  {'segment': 11,\n",
       "   'data_x': array([32.143, 32.146, 32.149, 32.161, 32.168, 32.172, 32.182, 32.188,\n",
       "          32.191, 32.2  , 32.203, 32.204, 32.206, 32.218, 32.223, 32.226,\n",
       "          32.24 , 32.246, 32.248, 32.264, 32.275, 32.278, 32.282, 32.302,\n",
       "          32.307, 32.324, 32.327, 32.331, 32.34 , 32.346, 32.35 , 32.361,\n",
       "          32.367, 32.374, 32.38 , 32.385, 32.394, 32.401, 32.413, 32.42 ,\n",
       "          32.426, 32.433, 32.44 , 32.442, 32.458, 32.465, 32.467, 32.471,\n",
       "          32.491, 32.496, 32.502, 32.513, 32.518, 32.52 , 32.536, 32.544,\n",
       "          32.55 , 32.556, 32.57 , 32.574, 32.575, 32.588, 32.593, 32.596,\n",
       "          32.609, 32.615, 32.617, 32.631, 32.639, 32.645, 32.65 , 32.657,\n",
       "          32.66 , 32.669, 32.675, 32.676, 32.68 , 32.69 , 32.694, 32.697,\n",
       "          32.708, 32.713, 32.717, 32.734, 32.753, 32.759, 32.775, 32.789,\n",
       "          32.791, 32.793, 32.817, 32.83 , 32.835, 32.864, 32.875, 32.886,\n",
       "          32.906, 32.919, 32.927, 32.937, 32.972, 32.983, 32.984, 33.01 ,\n",
       "          33.018, 33.02 , 33.037, 33.045, 33.047, 33.077, 33.09 , 33.099,\n",
       "          33.107, 33.127, 33.13 , 33.134, 33.154, 33.156, 33.158, 33.181,\n",
       "          33.192, 33.195, 33.219, 33.24 , 33.254, 33.282, 33.288, 33.293,\n",
       "          33.31 , 33.312, 33.316, 33.326, 33.331, 33.334, 33.346, 33.352,\n",
       "          33.354, 33.364, 33.386, 33.395, 33.404, 33.428, 33.431, 33.433,\n",
       "          33.459, 33.465, 33.467, 33.48 , 33.486, 33.488, 33.507, 33.525,\n",
       "          33.531, 33.539, 33.564, 33.568, 33.573, 33.593, 33.597, 33.6  ,\n",
       "          33.616, 33.623, 33.627, 33.643, 33.65 , 33.652, 33.659, 33.681,\n",
       "          33.689, 33.698, 33.715, 33.72 , 33.723, 33.74 , 33.752, 33.756,\n",
       "          33.772, 33.781, 33.783, 33.79 , 33.814, 33.818, 33.822, 33.834,\n",
       "          33.838, 33.841, 33.858, 33.866, 33.872, 33.89 , 33.9  , 33.909,\n",
       "          33.933, 33.938, 33.944, 33.967, 33.973, 33.98 , 34.003, 34.008,\n",
       "          34.01 , 34.03 , 34.039, 34.046, 34.059, 34.072, 34.075, 34.078,\n",
       "          34.099, 34.102, 34.108, 34.122, 34.126, 34.129, 34.143, 34.147,\n",
       "          34.151, 34.163, 34.174, 34.182, 34.188, 34.206, 34.209, 34.212,\n",
       "          34.214, 34.218, 34.22 , 34.221, 34.224, 34.225, 34.226, 34.228,\n",
       "          34.229, 34.23 , 34.231, 34.232, 34.233, 34.234, 34.235, 34.236,\n",
       "          34.237, 34.238, 34.239, 34.24 , 34.241, 34.242, 34.243, 34.244,\n",
       "          34.245, 34.246, 34.247, 34.248, 34.249, 34.25 , 34.251, 34.252]),\n",
       "   'data_y': array([54784.54017391, 54784.70189372, 54784.8530628 , 54785.05043478,\n",
       "          54785.22287923, 54785.38595169, 54785.60560386, 54785.84162319,\n",
       "          54786.05601932, 54786.29225121, 54786.56927536, 54786.81866667,\n",
       "          54787.10183575, 54787.39008696, 54787.70266667, 54788.02438647,\n",
       "          54788.3636715 , 54788.71872464, 54789.08964251, 54789.42711111,\n",
       "          54789.82340097, 54790.19576812, 54790.59090821, 54791.07771981,\n",
       "          54791.51890821, 54791.96774879, 54792.47108213, 54793.01222222,\n",
       "          54793.57255072, 54794.17610628, 54794.84043478, 54795.48323671,\n",
       "          54796.1757971 , 54796.89421256, 54797.58447343, 54798.39490821,\n",
       "          54799.16657971, 54799.9575942 , 54800.76462802, 54801.57655072,\n",
       "          54802.33262802, 54803.19135266, 54803.98223188, 54804.74928502,\n",
       "          54805.557343  , 54806.35019324, 54807.09017391, 54808.0117971 ,\n",
       "          54808.86017391, 54809.67459903, 54810.49350725, 54811.30901449,\n",
       "          54812.14571981, 54812.94071498, 54813.83800966, 54814.65084058,\n",
       "          54815.46303382, 54816.27057005, 54817.07393237, 54817.94626087,\n",
       "          54818.72591304, 54819.57228985, 54820.42001932, 54821.21592271,\n",
       "          54822.11000966, 54823.01406763, 54823.75969082, 54824.66108213,\n",
       "          54825.5155942 , 54826.38494686, 54827.25323671, 54828.2287343 ,\n",
       "          54829.04745894, 54829.85031884, 54830.68815459, 54831.51371981,\n",
       "          54832.28954589, 54833.16457971, 54833.98877295, 54834.71321739,\n",
       "          54835.46430918, 54836.20141063, 54836.93219324, 54837.68063768,\n",
       "          54838.45572947, 54839.26123671, 54840.09323671, 54840.94486957,\n",
       "          54841.86707246, 54842.65543961, 54843.64595169, 54844.66251208,\n",
       "          54845.60629952, 54846.63288889, 54847.69377778, 54848.70291787,\n",
       "          54849.89971014, 54851.05715942, 54852.21149758, 54853.36108213,\n",
       "          54854.52483092, 54855.75252174, 54856.88498551, 54858.068657  ,\n",
       "          54859.23375845, 54860.43368116, 54861.63712077, 54862.8564058 ,\n",
       "          54864.09903382, 54865.34589372, 54866.58968116, 54867.79070531,\n",
       "          54868.97789372, 54870.19596135, 54871.51644444, 54872.72535266,\n",
       "          54873.99443478, 54875.22585507, 54876.62208696, 54877.95598068,\n",
       "          54879.36823188, 54880.78419324, 54882.1363285 , 54883.41615459,\n",
       "          54884.8690628 , 54886.21196135, 54887.56075362, 54888.91447343,\n",
       "          54890.31368116, 54891.70541063, 54893.00019324, 54894.41580676,\n",
       "          54895.71895652, 54896.92034783, 54898.22386473, 54899.41145894,\n",
       "          54900.58498551, 54901.8693913 , 54903.03132367, 54904.18867633,\n",
       "          54905.31924638, 54906.43062802, 54907.61147826, 54908.62931401,\n",
       "          54909.69124638, 54910.82390338, 54911.72057971, 54912.78751691,\n",
       "          54913.85236715, 54914.74131401, 54915.70481159, 54916.68150725,\n",
       "          54917.64204831, 54918.69014493, 54919.680657  , 54920.76363285,\n",
       "          54921.70363285, 54922.72067633, 54923.84591304, 54924.7854686 ,\n",
       "          54925.99596135, 54927.21905314, 54928.2487343 , 54929.56121739,\n",
       "          54930.76471498, 54931.91582609, 54933.28689855, 54934.58463768,\n",
       "          54935.92121739, 54937.30316908, 54938.72423188, 54940.22394203,\n",
       "          54941.50369082, 54943.05625121, 54944.48461836, 54945.92088889,\n",
       "          54947.37163285, 54948.89808696, 54950.33510145, 54951.7894686 ,\n",
       "          54953.2713913 , 54954.81285024, 54956.39888889, 54958.03777778,\n",
       "          54959.85369082, 54961.53940097, 54963.35398068, 54965.17773913,\n",
       "          54967.10354589, 54968.9622029 , 54970.96828019, 54972.82417391,\n",
       "          54974.79782609, 54976.75829952, 54978.95933333, 54981.01147826,\n",
       "          54983.06041546, 54985.23810628, 54987.20350725, 54989.25122705,\n",
       "          54991.20887923, 54993.47516908, 54995.62828019, 54997.66991304,\n",
       "          55000.03151691, 55002.25057005, 55004.47402899, 55006.70687923,\n",
       "          55008.96330435, 55011.22827053, 55013.50363285, 55015.75750725,\n",
       "          55017.97211594, 55020.22641546, 55022.31400966, 55024.7301256 ,\n",
       "          55026.41909179, 55028.17762802, 55030.28205797, 55032.66703865,\n",
       "          55034.88028019, 55036.42486957, 55038.32412008, 55040.88701225,\n",
       "          55043.53372468, 55046.8462706 , 55049.68118618, 55052.63430512,\n",
       "          55055.83188345, 55058.71618888, 55061.59802771, 55064.46722187,\n",
       "          55067.35181989, 55070.03271731, 55072.42190602, 55074.55996955,\n",
       "          55076.65497164, 55078.41884927, 55079.73012724, 55080.99640338,\n",
       "          55081.19337928, 55081.29917482, 55081.59340353, 55082.23798973,\n",
       "          55082.84777424, 55083.36543992, 55083.79098676, 55084.12441476,\n",
       "          55084.36572393, 55084.51491427, 55084.57198576, 55084.53693843,\n",
       "          55084.40977225, 55084.19048725, 55083.8790834 , 55083.47556072]),\n",
       "   'fitted_model': {'slope': np.float64(4747.7841749457),\n",
       "    'intercept': np.float64(1320.8844336364004),\n",
       "    'fitted_y': array([54758.23621398, 54758.63034784, 54759.02448171, 54760.60101717,\n",
       "           54761.52066286, 54762.04617468, 54763.35995423, 54764.14822196,\n",
       "           54764.54235582, 54765.72475742, 54766.11889129, 54766.25026924,\n",
       "           54766.51302515, 54768.08956061, 54768.74645039, 54769.14058425,\n",
       "           54770.97987563, 54771.76814336, 54772.03089927, 54774.13294655,\n",
       "           54775.57810406, 54775.97223792, 54776.49774974, 54779.12530884,\n",
       "           54779.78219862, 54782.01562386, 54782.40975772, 54782.93526954,\n",
       "           54784.11767114, 54784.90593887, 54785.43145069, 54786.8766082 ,\n",
       "           54787.66487593, 54788.58452161, 54789.37278934, 54790.02967912,\n",
       "           54791.21208072, 54792.1317264 , 54793.70826186, 54794.62790755,\n",
       "           54795.41617528, 54796.33582097, 54797.25546665, 54797.51822256,\n",
       "           54799.62026984, 54800.53991553, 54800.80267144, 54801.32818326,\n",
       "           54803.95574236, 54804.61263214, 54805.40089987, 54806.84605738,\n",
       "           54807.50294715, 54807.76570306, 54809.86775034, 54810.91877398,\n",
       "           54811.70704172, 54812.49530945, 54814.33460082, 54814.86011264,\n",
       "           54814.99149059, 54816.69940401, 54817.35629379, 54817.75042765,\n",
       "           54819.45834107, 54820.2466088 , 54820.50936471, 54822.34865608,\n",
       "           54823.39967972, 54824.18794745, 54824.84483723, 54825.76448291,\n",
       "           54826.15861678, 54827.34101838, 54828.12928611, 54828.26066406,\n",
       "           54828.78617588, 54830.09995543, 54830.62546725, 54831.01960112,\n",
       "           54832.46475863, 54833.1216484 , 54833.64716022, 54835.88058546,\n",
       "           54838.37676661, 54839.16503434, 54841.26708162, 54843.10637299,\n",
       "           54843.3691289 , 54843.63188481, 54846.78495573, 54848.49286915,\n",
       "           54849.14975893, 54852.95971963, 54854.40487713, 54855.85003464,\n",
       "           54858.47759374, 54860.18550716, 54861.2365308 , 54862.55031035,\n",
       "           54867.14853878, 54868.59369629, 54868.72507424, 54872.14090107,\n",
       "           54873.19192471, 54873.45468063, 54875.68810586, 54876.7391295 ,\n",
       "           54877.00188541, 54880.94322407, 54882.65113748, 54883.83353908,\n",
       "           54884.88456272, 54887.51212182, 54887.90625569, 54888.43176751,\n",
       "           54891.05932661, 54891.32208252, 54891.58483843, 54894.6065314 ,\n",
       "           54896.05168891, 54896.44582277, 54899.5988937 , 54902.35783075,\n",
       "           54904.19712212, 54907.87570487, 54908.6639726 , 54909.32086237,\n",
       "           54911.55428761, 54911.81704352, 54912.34255534, 54913.65633489,\n",
       "           54914.31322467, 54914.70735853, 54916.283894  , 54917.07216173,\n",
       "           54917.33491764, 54918.64869719, 54921.5390122 , 54922.7214138 ,\n",
       "           54923.90381539, 54927.05688632, 54927.45102018, 54927.71377609,\n",
       "           54931.12960293, 54931.91787066, 54932.18062657, 54933.88853998,\n",
       "           54934.67680771, 54934.93956362, 54937.43574477, 54939.80054796,\n",
       "           54940.58881569, 54941.63983934, 54944.92428821, 54945.44980003,\n",
       "           54946.10668981, 54948.73424891, 54949.25976073, 54949.6538946 ,\n",
       "           54951.75594188, 54952.67558757, 54953.20109939, 54955.30314667,\n",
       "           54956.22279235, 54956.48554827, 54957.40519395, 54960.29550896,\n",
       "           54961.3465326 , 54962.5289342 , 54964.76235944, 54965.41924921,\n",
       "           54965.81338308, 54968.04680832, 54969.62334378, 54970.1488556 ,\n",
       "           54972.25090288, 54973.43330448, 54973.69606039, 54974.61570607,\n",
       "           54977.768777  , 54978.29428882, 54978.81980064, 54980.3963361 ,\n",
       "           54980.92184792, 54981.31598178, 54983.54940702, 54984.60043066,\n",
       "           54985.38869839, 54987.75350159, 54989.06728114, 54990.24968273,\n",
       "           54993.40275366, 54994.05964343, 54994.84791116, 54997.86960413,\n",
       "           54998.65787186, 54999.57751755, 55002.59921051, 55003.25610029,\n",
       "           55003.5188562 , 55006.1464153 , 55007.3288169 , 55008.24846259,\n",
       "           55009.956376  , 55011.66428942, 55012.05842328, 55012.45255715,\n",
       "           55015.21149421, 55015.60562807, 55016.3938958 , 55018.23318717,\n",
       "           55018.758699  , 55019.15283286, 55020.99212423, 55021.51763605,\n",
       "           55022.04314787, 55023.61968334, 55025.06484084, 55026.11586448,\n",
       "           55026.90413221, 55029.26893541, 55029.66306927, 55030.05720314,\n",
       "           55030.31995905, 55030.84547087, 55031.10822678, 55031.23960473,\n",
       "           55031.6337386 , 55031.76511655, 55031.89649451, 55032.15925042,\n",
       "           55032.29062837, 55032.42200633, 55032.55338428, 55032.68476224,\n",
       "           55032.81614019, 55032.94751815, 55033.0788961 , 55033.21027406,\n",
       "           55033.34165201, 55033.47302997, 55033.60440792, 55033.73578588,\n",
       "           55033.86716384, 55033.99854179, 55034.12991975, 55034.2612977 ,\n",
       "           55034.39267566, 55034.52405361, 55034.65543157, 55034.78680952,\n",
       "           55034.91818748, 55035.04956543, 55035.18094339, 55035.31232134])}}]}"
      ]
     },
     "execution_count": 13,
     "metadata": {},
     "output_type": "execute_result"
    }
   ],
   "source": [
    "segments = utils.extract_segments(ms)   \n",
    "segments"
   ]
  },
  {
   "cell_type": "code",
   "execution_count": 14,
   "metadata": {},
   "outputs": [
    {
     "data": {
      "image/png": "[encoded data removed]",
      "text/plain": [
       "<Figure size 1500x1000 with 11 Axes>"
      ]
     },
     "metadata": {},
     "output_type": "display_data"
    }
   ],
   "source": [
    "plots.plot_segments(segments, metric_per_segment)"
   ]
  },
  {
   "cell_type": "markdown",
   "metadata": {},
   "source": [
    "---\n",
    "\n",
    "## Other analysis\n",
    "\n",
    "### 1. Density of points in processed data\n"
   ]
  },
  {
   "cell_type": "code",
   "execution_count": 15,
   "metadata": {},
   "outputs": [],
   "source": [
    "width = 1 # meters\n",
    "\n",
    "density = analysis.calculate_density(x_processed, y_processed, bin_width=width)"
   ]
  },
  {
   "cell_type": "code",
   "execution_count": 16,
   "metadata": {},
   "outputs": [
    {
     "data": {
      "application/vnd.plotly.v1+json": {
       "config": {
        "plotlyServerURL": "https://plot.ly"
       },
       "data": [
        {
         "marker": {
          "color": "lightgreen",
          "line": {
           "color": "black",
           "width": 1
          }
         },
         "text": [
          163,
          128,
          120,
          109,
          153,
          161,
          174,
          173,
          153,
          141,
          147,
          121,
          129,
          225,
          182,
          172,
          166,
          216,
          122,
          117,
          158,
          128,
          124,
          167,
          132,
          182,
          138,
          129,
          144,
          180,
          180,
          131,
          129,
          95,
          58
         ],
         "textposition": "auto",
         "type": "bar",
         "x": [
          0.4857142857142857,
          1.457142857142857,
          2.4285714285714284,
          3.4,
          4.371428571428571,
          5.3428571428571425,
          6.314285714285714,
          7.285714285714286,
          8.257142857142856,
          9.228571428571428,
          10.2,
          11.17142857142857,
          12.142857142857142,
          13.114285714285714,
          14.085714285714285,
          15.057142857142857,
          16.02857142857143,
          17,
          17.971428571428568,
          18.942857142857143,
          19.91428571428571,
          20.885714285714286,
          21.857142857142854,
          22.82857142857143,
          23.799999999999997,
          24.771428571428572,
          25.74285714285714,
          26.714285714285715,
          27.685714285714283,
          28.65714285714286,
          29.628571428571426,
          30.6,
          31.57142857142857,
          32.542857142857144,
          33.51428571428571
         ],
         "y": [
          163,
          128,
          120,
          109,
          153,
          161,
          174,
          173,
          153,
          141,
          147,
          121,
          129,
          225,
          182,
          172,
          166,
          216,
          122,
          117,
          158,
          128,
          124,
          167,
          132,
          182,
          138,
          129,
          144,
          180,
          180,
          131,
          129,
          95,
          58
         ]
        }
       ],
       "layout": {
        "bargap": 0.1,
        "template": {
         "data": {
          "bar": [
           {
            "error_x": {
             "color": "#2a3f5f"
            },
            "error_y": {
             "color": "#2a3f5f"
            },
            "marker": {
             "line": {
              "color": "white",
              "width": 0.5
             },
             "pattern": {
              "fillmode": "overlay",
              "size": 10,
              "solidity": 0.2
             }
            },
            "type": "bar"
           }
          ],
          "barpolar": [
           {
            "marker": {
             "line": {
              "color": "white",
              "width": 0.5
             },
             "pattern": {
              "fillmode": "overlay",
              "size": 10,
              "solidity": 0.2
             }
            },
            "type": "barpolar"
           }
          ],
          "carpet": [
           {
            "aaxis": {
             "endlinecolor": "#2a3f5f",
             "gridcolor": "#C8D4E3",
             "linecolor": "#C8D4E3",
             "minorgridcolor": "#C8D4E3",
             "startlinecolor": "#2a3f5f"
            },
            "baxis": {
             "endlinecolor": "#2a3f5f",
             "gridcolor": "#C8D4E3",
             "linecolor": "#C8D4E3",
             "minorgridcolor": "#C8D4E3",
             "startlinecolor": "#2a3f5f"
            },
            "type": "carpet"
           }
          ],
          "choropleth": [
           {
            "colorbar": {
             "outlinewidth": 0,
             "ticks": ""
            },
            "type": "choropleth"
           }
          ],
          "contour": [
           {
            "colorbar": {
             "outlinewidth": 0,
             "ticks": ""
            },
            "colorscale": [
             [
              0,
              "#0d0887"
             ],
             [
              0.1111111111111111,
              "#46039f"
             ],
             [
              0.2222222222222222,
              "#7201a8"
             ],
             [
              0.3333333333333333,
              "#9c179e"
             ],
             [
              0.4444444444444444,
              "#bd3786"
             ],
             [
              0.5555555555555556,
              "#d8576b"
             ],
             [
              0.6666666666666666,
              "#ed7953"
             ],
             [
              0.7777777777777778,
              "#fb9f3a"
             ],
             [
              0.8888888888888888,
              "#fdca26"
             ],
             [
              1,
              "#f0f921"
             ]
            ],
            "type": "contour"
           }
          ],
          "contourcarpet": [
           {
            "colorbar": {
             "outlinewidth": 0,
             "ticks": ""
            },
            "type": "contourcarpet"
           }
          ],
          "heatmap": [
           {
            "colorbar": {
             "outlinewidth": 0,
             "ticks": ""
            },
            "colorscale": [
             [
              0,
              "#0d0887"
             ],
             [
              0.1111111111111111,
              "#46039f"
             ],
             [
              0.2222222222222222,
              "#7201a8"
             ],
             [
              0.3333333333333333,
              "#9c179e"
             ],
             [
              0.4444444444444444,
              "#bd3786"
             ],
             [
              0.5555555555555556,
              "#d8576b"
             ],
             [
              0.6666666666666666,
              "#ed7953"
             ],
             [
              0.7777777777777778,
              "#fb9f3a"
             ],
             [
              0.8888888888888888,
              "#fdca26"
             ],
             [
              1,
              "#f0f921"
             ]
            ],
            "type": "heatmap"
           }
          ],
          "heatmapgl": [
           {
            "colorbar": {
             "outlinewidth": 0,
             "ticks": ""
            },
            "colorscale": [
             [
              0,
              "#0d0887"
             ],
             [
              0.1111111111111111,
              "#46039f"
             ],
             [
              0.2222222222222222,
              "#7201a8"
             ],
             [
              0.3333333333333333,
              "#9c179e"
             ],
             [
              0.4444444444444444,
              "#bd3786"
             ],
             [
              0.5555555555555556,
              "#d8576b"
             ],
             [
              0.6666666666666666,
              "#ed7953"
             ],
             [
              0.7777777777777778,
              "#fb9f3a"
             ],
             [
              0.8888888888888888,
              "#fdca26"
             ],
             [
              1,
              "#f0f921"
             ]
            ],
            "type": "heatmapgl"
           }
          ],
          "histogram": [
           {
            "marker": {
             "pattern": {
              "fillmode": "overlay",
              "size": 10,
              "solidity": 0.2
             }
            },
            "type": "histogram"
           }
          ],
          "histogram2d": [
           {
            "colorbar": {
             "outlinewidth": 0,
             "ticks": ""
            },
            "colorscale": [
             [
              0,
              "#0d0887"
             ],
             [
              0.1111111111111111,
              "#46039f"
             ],
             [
              0.2222222222222222,
              "#7201a8"
             ],
             [
              0.3333333333333333,
              "#9c179e"
             ],
             [
              0.4444444444444444,
              "#bd3786"
             ],
             [
              0.5555555555555556,
              "#d8576b"
             ],
             [
              0.6666666666666666,
              "#ed7953"
             ],
             [
              0.7777777777777778,
              "#fb9f3a"
             ],
             [
              0.8888888888888888,
              "#fdca26"
             ],
             [
              1,
              "#f0f921"
             ]
            ],
            "type": "histogram2d"
           }
          ],
          "histogram2dcontour": [
           {
            "colorbar": {
             "outlinewidth": 0,
             "ticks": ""
            },
            "colorscale": [
             [
              0,
              "#0d0887"
             ],
             [
              0.1111111111111111,
              "#46039f"
             ],
             [
              0.2222222222222222,
              "#7201a8"
             ],
             [
              0.3333333333333333,
              "#9c179e"
             ],
             [
              0.4444444444444444,
              "#bd3786"
             ],
             [
              0.5555555555555556,
              "#d8576b"
             ],
             [
              0.6666666666666666,
              "#ed7953"
             ],
             [
              0.7777777777777778,
              "#fb9f3a"
             ],
             [
              0.8888888888888888,
              "#fdca26"
             ],
             [
              1,
              "#f0f921"
             ]
            ],
            "type": "histogram2dcontour"
           }
          ],
          "mesh3d": [
           {
            "colorbar": {
             "outlinewidth": 0,
             "ticks": ""
            },
            "type": "mesh3d"
           }
          ],
          "parcoords": [
           {
            "line": {
             "colorbar": {
              "outlinewidth": 0,
              "ticks": ""
             }
            },
            "type": "parcoords"
           }
          ],
          "pie": [
           {
            "automargin": true,
            "type": "pie"
           }
          ],
          "scatter": [
           {
            "fillpattern": {
             "fillmode": "overlay",
             "size": 10,
             "solidity": 0.2
            },
            "type": "scatter"
           }
          ],
          "scatter3d": [
           {
            "line": {
             "colorbar": {
              "outlinewidth": 0,
              "ticks": ""
             }
            },
            "marker": {
             "colorbar": {
              "outlinewidth": 0,
              "ticks": ""
             }
            },
            "type": "scatter3d"
           }
          ],
          "scattercarpet": [
           {
            "marker": {
             "colorbar": {
              "outlinewidth": 0,
              "ticks": ""
             }
            },
            "type": "scattercarpet"
           }
          ],
          "scattergeo": [
           {
            "marker": {
             "colorbar": {
              "outlinewidth": 0,
              "ticks": ""
             }
            },
            "type": "scattergeo"
           }
          ],
          "scattergl": [
           {
            "marker": {
             "colorbar": {
              "outlinewidth": 0,
              "ticks": ""
             }
            },
            "type": "scattergl"
           }
          ],
          "scattermapbox": [
           {
            "marker": {
             "colorbar": {
              "outlinewidth": 0,
              "ticks": ""
             }
            },
            "type": "scattermapbox"
           }
          ],
          "scatterpolar": [
           {
            "marker": {
             "colorbar": {
              "outlinewidth": 0,
              "ticks": ""
             }
            },
            "type": "scatterpolar"
           }
          ],
          "scatterpolargl": [
           {
            "marker": {
             "colorbar": {
              "outlinewidth": 0,
              "ticks": ""
             }
            },
            "type": "scatterpolargl"
           }
          ],
          "scatterternary": [
           {
            "marker": {
             "colorbar": {
              "outlinewidth": 0,
              "ticks": ""
             }
            },
            "type": "scatterternary"
           }
          ],
          "surface": [
           {
            "colorbar": {
             "outlinewidth": 0,
             "ticks": ""
            },
            "colorscale": [
             [
              0,
              "#0d0887"
             ],
             [
              0.1111111111111111,
              "#46039f"
             ],
             [
              0.2222222222222222,
              "#7201a8"
             ],
             [
              0.3333333333333333,
              "#9c179e"
             ],
             [
              0.4444444444444444,
              "#bd3786"
             ],
             [
              0.5555555555555556,
              "#d8576b"
             ],
             [
              0.6666666666666666,
              "#ed7953"
             ],
             [
              0.7777777777777778,
              "#fb9f3a"
             ],
             [
              0.8888888888888888,
              "#fdca26"
             ],
             [
              1,
              "#f0f921"
             ]
            ],
            "type": "surface"
           }
          ],
          "table": [
           {
            "cells": {
             "fill": {
              "color": "#EBF0F8"
             },
             "line": {
              "color": "white"
             }
            },
            "header": {
             "fill": {
              "color": "#C8D4E3"
             },
             "line": {
              "color": "white"
             }
            },
            "type": "table"
           }
          ]
         },
         "layout": {
          "annotationdefaults": {
           "arrowcolor": "#2a3f5f",
           "arrowhead": 0,
           "arrowwidth": 1
          },
          "autotypenumbers": "strict",
          "coloraxis": {
           "colorbar": {
            "outlinewidth": 0,
            "ticks": ""
           }
          },
          "colorscale": {
           "diverging": [
            [
             0,
             "#8e0152"
            ],
            [
             0.1,
             "#c51b7d"
            ],
            [
             0.2,
             "#de77ae"
            ],
            [
             0.3,
             "#f1b6da"
            ],
            [
             0.4,
             "#fde0ef"
            ],
            [
             0.5,
             "#f7f7f7"
            ],
            [
             0.6,
             "#e6f5d0"
            ],
            [
             0.7,
             "#b8e186"
            ],
            [
             0.8,
             "#7fbc41"
            ],
            [
             0.9,
             "#4d9221"
            ],
            [
             1,
             "#276419"
            ]
           ],
           "sequential": [
            [
             0,
             "#0d0887"
            ],
            [
             0.1111111111111111,
             "#46039f"
            ],
            [
             0.2222222222222222,
             "#7201a8"
            ],
            [
             0.3333333333333333,
             "#9c179e"
            ],
            [
             0.4444444444444444,
             "#bd3786"
            ],
            [
             0.5555555555555556,
             "#d8576b"
            ],
            [
             0.6666666666666666,
             "#ed7953"
            ],
            [
             0.7777777777777778,
             "#fb9f3a"
            ],
            [
             0.8888888888888888,
             "#fdca26"
            ],
            [
             1,
             "#f0f921"
            ]
           ],
           "sequentialminus": [
            [
             0,
             "#0d0887"
            ],
            [
             0.1111111111111111,
             "#46039f"
            ],
            [
             0.2222222222222222,
             "#7201a8"
            ],
            [
             0.3333333333333333,
             "#9c179e"
            ],
            [
             0.4444444444444444,
             "#bd3786"
            ],
            [
             0.5555555555555556,
             "#d8576b"
            ],
            [
             0.6666666666666666,
             "#ed7953"
            ],
            [
             0.7777777777777778,
             "#fb9f3a"
            ],
            [
             0.8888888888888888,
             "#fdca26"
            ],
            [
             1,
             "#f0f921"
            ]
           ]
          },
          "colorway": [
           "#636efa",
           "#EF553B",
           "#00cc96",
           "#ab63fa",
           "#FFA15A",
           "#19d3f3",
           "#FF6692",
           "#B6E880",
           "#FF97FF",
           "#FECB52"
          ],
          "font": {
           "color": "#2a3f5f"
          },
          "geo": {
           "bgcolor": "white",
           "lakecolor": "white",
           "landcolor": "white",
           "showlakes": true,
           "showland": true,
           "subunitcolor": "#C8D4E3"
          },
          "hoverlabel": {
           "align": "left"
          },
          "hovermode": "closest",
          "mapbox": {
           "style": "light"
          },
          "paper_bgcolor": "white",
          "plot_bgcolor": "white",
          "polar": {
           "angularaxis": {
            "gridcolor": "#EBF0F8",
            "linecolor": "#EBF0F8",
            "ticks": ""
           },
           "bgcolor": "white",
           "radialaxis": {
            "gridcolor": "#EBF0F8",
            "linecolor": "#EBF0F8",
            "ticks": ""
           }
          },
          "scene": {
           "xaxis": {
            "backgroundcolor": "white",
            "gridcolor": "#DFE8F3",
            "gridwidth": 2,
            "linecolor": "#EBF0F8",
            "showbackground": true,
            "ticks": "",
            "zerolinecolor": "#EBF0F8"
           },
           "yaxis": {
            "backgroundcolor": "white",
            "gridcolor": "#DFE8F3",
            "gridwidth": 2,
            "linecolor": "#EBF0F8",
            "showbackground": true,
            "ticks": "",
            "zerolinecolor": "#EBF0F8"
           },
           "zaxis": {
            "backgroundcolor": "white",
            "gridcolor": "#DFE8F3",
            "gridwidth": 2,
            "linecolor": "#EBF0F8",
            "showbackground": true,
            "ticks": "",
            "zerolinecolor": "#EBF0F8"
           }
          },
          "shapedefaults": {
           "line": {
            "color": "#2a3f5f"
           }
          },
          "ternary": {
           "aaxis": {
            "gridcolor": "#DFE8F3",
            "linecolor": "#A2B1C6",
            "ticks": ""
           },
           "baxis": {
            "gridcolor": "#DFE8F3",
            "linecolor": "#A2B1C6",
            "ticks": ""
           },
           "bgcolor": "white",
           "caxis": {
            "gridcolor": "#DFE8F3",
            "linecolor": "#A2B1C6",
            "ticks": ""
           }
          },
          "title": {
           "x": 0.05
          },
          "xaxis": {
           "automargin": true,
           "gridcolor": "#EBF0F8",
           "linecolor": "#EBF0F8",
           "ticks": "",
           "title": {
            "standoff": 15
           },
           "zerolinecolor": "#EBF0F8",
           "zerolinewidth": 2
          },
          "yaxis": {
           "automargin": true,
           "gridcolor": "#EBF0F8",
           "linecolor": "#EBF0F8",
           "ticks": "",
           "title": {
            "standoff": 15
           },
           "zerolinecolor": "#EBF0F8",
           "zerolinewidth": 2
          }
         }
        },
        "title": {
         "text": "Densidad de datos a 1 metro(s)"
        },
        "xaxis": {
         "title": {
          "text": "Vertical Position [m]"
         }
        },
        "yaxis": {
         "title": {
          "text": "Frequency"
         }
        }
       }
      }
     },
     "metadata": {},
     "output_type": "display_data"
    }
   ],
   "source": [
    "# Graficar densidad\n",
    "plots.plot_histogram(density,\n",
    "            value_column='x_bin', \n",
    "            weight_column='frequency', \n",
    "            num_bins=len(density['x_bin']),\n",
    "            title=f'Densidad de datos a {width} metro(s)',\n",
    "            x_axis_title='Vertical Position [m]',\n",
    "            bar_color='lightgreen'\n",
    "            ) "
   ]
  }
 ],
 "metadata": {
  "kernelspec": {
   "display_name": ".venv",
   "language": "python",
   "name": "python3"
  },
  "language_info": {
   "codemirror_mode": {
    "name": "ipython",
    "version": 3
   },
   "file_extension": ".py",
   "mimetype": "text/x-python",
   "name": "python",
   "nbconvert_exporter": "python",
   "pygments_lexer": "ipython3",
   "version": "3.11.9"
  }
 },
 "nbformat": 4,
 "nbformat_minor": 2
}
