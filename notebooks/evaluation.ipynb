{
 "cells": [
  {
   "cell_type": "markdown",
   "metadata": {},
   "source": [
    "# Evaluation of Segmented Linear Regression"
   ]
  },
  {
   "cell_type": "markdown",
   "metadata": {},
   "source": [
    "---\n",
    "\n",
    "### Import Libraries"
   ]
  },
  {
   "cell_type": "code",
   "execution_count": 1,
   "metadata": {},
   "outputs": [],
   "source": [
    "import sys\n",
    "import os\n",
    "root = os.path.abspath('..')  \n",
    "sys.path.append(root)\n",
    "\n",
    "import pandas as pd\n",
    "import numpy as np\n",
    "import matplotlib.pyplot as plt\n",
    "from piecewise_regression import r_squared_calc\n",
    "\n",
    "\n",
    "from modules import load, plots, analysis, utils\n",
    "\n",
    "# styles\n",
    "plt.style.use('seaborn-v0_8-white')"
   ]
  },
  {
   "cell_type": "markdown",
   "metadata": {},
   "source": [
    "---\n",
    "\n",
    "### Load data"
   ]
  },
  {
   "cell_type": "code",
   "execution_count": 2,
   "metadata": {},
   "outputs": [],
   "source": [
    "# Inputs\n",
    "#name = 'AW1D_YSI_20230826'\n",
    "#name = 'AW2D_YSI_20230815'\n",
    "#name = 'AW5D_YSI_20230824'\n",
    "#name = 'AW6D_YSI_20230815'\n",
    "#name = 'AW7D_YSI_20230814'\n",
    "#name = 'BW1D_YSI_20230824'\n",
    "#name = 'BW2D_YSI_20230819'\n",
    "#name = 'BW3D_YSI_20230818'\n",
    "#name = 'BW4D_YSI_20230816'\n",
    "name = 'BW5D_YSI_20230822'\n",
    "#name = 'BW6D_YSI_20230826'\n",
    "#name = 'BW7D_YSI_20230826'\n",
    "#name = 'BW8D_YSI_20230823'\n",
    "#name = 'BW9D_YSI_20230823'\n",
    "#name = 'BW10D_YSI_20230825'\n",
    "#name = 'BW11D_YSI_20230823'\n",
    "#name = 'LRS33D_YSI_20230822'\n",
    "#name = 'LRS69D_YSI_20230818'\n",
    "## name = 'LRS70D_YSI_20230822'  por qué best BIC es cero?\n",
    "## name = 'LRS75D_YSI_20230819'\n",
    "#name = 'LRS79D_YSI_20230827'\n",
    "#name = 'LRS81D_YSI_20230823'\n",
    "#name = 'LRS89D_YSI_20230825'\n",
    "#name = 'LRS90D_YSI_20230827'"
   ]
  },
  {
   "cell_type": "code",
   "execution_count": 3,
   "metadata": {},
   "outputs": [
    {
     "data": {
      "text/html": [
       "<div>\n",
       "<style scoped>\n",
       "    .dataframe tbody tr th:only-of-type {\n",
       "        vertical-align: middle;\n",
       "    }\n",
       "\n",
       "    .dataframe tbody tr th {\n",
       "        vertical-align: top;\n",
       "    }\n",
       "\n",
       "    .dataframe thead th {\n",
       "        text-align: right;\n",
       "    }\n",
       "</style>\n",
       "<table border=\"1\" class=\"dataframe\">\n",
       "  <thead>\n",
       "    <tr style=\"text-align: right;\">\n",
       "      <th></th>\n",
       "      <th>trial_1</th>\n",
       "      <th>trial_2</th>\n",
       "      <th>trial_3</th>\n",
       "      <th>trial_4</th>\n",
       "      <th>trial_5</th>\n",
       "    </tr>\n",
       "  </thead>\n",
       "  <tbody>\n",
       "    <tr>\n",
       "      <th>df</th>\n",
       "      <td>{'bic': {'0': 93804.3535159611, '1': 89367.769...</td>\n",
       "      <td>{'bic': {'0': 93804.3535159611, '1': 89367.769...</td>\n",
       "      <td>{'bic': {'0': 93804.3535159611, '1': 89367.769...</td>\n",
       "      <td>{'bic': {'0': 93804.3535159611, '1': 89367.769...</td>\n",
       "      <td>{'bic': {'0': 93804.3535159611, '1': 89367.769...</td>\n",
       "    </tr>\n",
       "    <tr>\n",
       "      <th>best_n_breakpoint_bic</th>\n",
       "      <td>2</td>\n",
       "      <td>2</td>\n",
       "      <td>2</td>\n",
       "      <td>2</td>\n",
       "      <td>2</td>\n",
       "    </tr>\n",
       "    <tr>\n",
       "      <th>min_bic_n_breakpoint</th>\n",
       "      <td>10</td>\n",
       "      <td>10</td>\n",
       "      <td>9</td>\n",
       "      <td>10</td>\n",
       "      <td>10</td>\n",
       "    </tr>\n",
       "    <tr>\n",
       "      <th>best_n_breakpoint_rss</th>\n",
       "      <td>2</td>\n",
       "      <td>2</td>\n",
       "      <td>2</td>\n",
       "      <td>2</td>\n",
       "      <td>2</td>\n",
       "    </tr>\n",
       "  </tbody>\n",
       "</table>\n",
       "</div>"
      ],
      "text/plain": [
       "                                                                 trial_1  \\\n",
       "df                     {'bic': {'0': 93804.3535159611, '1': 89367.769...   \n",
       "best_n_breakpoint_bic                                                  2   \n",
       "min_bic_n_breakpoint                                                  10   \n",
       "best_n_breakpoint_rss                                                  2   \n",
       "\n",
       "                                                                 trial_2  \\\n",
       "df                     {'bic': {'0': 93804.3535159611, '1': 89367.769...   \n",
       "best_n_breakpoint_bic                                                  2   \n",
       "min_bic_n_breakpoint                                                  10   \n",
       "best_n_breakpoint_rss                                                  2   \n",
       "\n",
       "                                                                 trial_3  \\\n",
       "df                     {'bic': {'0': 93804.3535159611, '1': 89367.769...   \n",
       "best_n_breakpoint_bic                                                  2   \n",
       "min_bic_n_breakpoint                                                   9   \n",
       "best_n_breakpoint_rss                                                  2   \n",
       "\n",
       "                                                                 trial_4  \\\n",
       "df                     {'bic': {'0': 93804.3535159611, '1': 89367.769...   \n",
       "best_n_breakpoint_bic                                                  2   \n",
       "min_bic_n_breakpoint                                                  10   \n",
       "best_n_breakpoint_rss                                                  2   \n",
       "\n",
       "                                                                 trial_5  \n",
       "df                     {'bic': {'0': 93804.3535159611, '1': 89367.769...  \n",
       "best_n_breakpoint_bic                                                  2  \n",
       "min_bic_n_breakpoint                                                  10  \n",
       "best_n_breakpoint_rss                                                  2  "
      ]
     },
     "execution_count": 3,
     "metadata": {},
     "output_type": "execute_result"
    }
   ],
   "source": [
    "path_json = f'../data/results/{name}_results.json'\n",
    "\n",
    "df = load.load_data(filepath=path_json, json=True)\n",
    "df\n"
   ]
  },
  {
   "cell_type": "code",
   "execution_count": 4,
   "metadata": {},
   "outputs": [],
   "source": [
    "path_processed = f'../data/processed/{name}_processed.csv'\n",
    "\n",
    "x_processed, y_processed = load.load_data(filepath=path_processed, \n",
    "                            x_col='Vertical Position [m]',\n",
    "                            y_col='Corrected sp Cond [uS/cm]'\n",
    "                            )"
   ]
  },
  {
   "cell_type": "markdown",
   "metadata": {},
   "source": [
    "---\n",
    "\n",
    "### Optimal `n_breakpoint`"
   ]
  },
  {
   "cell_type": "code",
   "execution_count": 5,
   "metadata": {},
   "outputs": [],
   "source": [
    "trial = analysis.select_best_trial(path_json)\n",
    "\n",
    "trial_select = df[trial[0]]\n",
    "#N_BREAKPOINT = df.loc['best_n_breakpoint_bic'].mode().iloc[0] # alternative, select 'best_n_breakpoint_rss'\n",
    "N_BREAKPOINT = 7"
   ]
  },
  {
   "cell_type": "code",
   "execution_count": 6,
   "metadata": {},
   "outputs": [
    {
     "data": {
      "application/vnd.plotly.v1+json": {
       "config": {
        "plotlyServerURL": "https://plot.ly"
       },
       "data": [
        {
         "mode": "lines+markers",
         "name": "BIC (n = 11)",
         "type": "scatter",
         "x": [
          0,
          1,
          2,
          3,
          4,
          5,
          6,
          7,
          8,
          9,
          10
         ],
         "xaxis": "x",
         "y": [
          93804.3535159611,
          89367.7694696919,
          71653.488856534,
          68644.5944167152,
          65109.0771814109,
          62012.3067035837,
          59168.4912440233,
          58073.34897172,
          57493.2610924375,
          54807.7740505739,
          54749.7814230552
         ],
         "yaxis": "y"
        },
        {
         "mode": "lines+markers",
         "name": "RSS (n = 11)",
         "type": "scatter",
         "x": [
          0,
          1,
          2,
          3,
          4,
          5,
          6,
          7,
          8,
          9,
          10
         ],
         "xaxis": "x",
         "y": [
          421844490345.7678,
          177565783781.18008,
          5665240360.248688,
          3146959035.215567,
          1578077641.8858304,
          861759929.0647377,
          494297152.5778497,
          398235322.97238564,
          354609854.2861963,
          209754881.2595603,
          206717166.56717432
         ],
         "yaxis": "y2"
        }
       ],
       "layout": {
        "font": {
         "color": "black",
         "family": "Arial, sans-serif",
         "size": 14
        },
        "legend": {
         "bgcolor": "rgba(255, 255, 255, 0.8)",
         "bordercolor": "black",
         "borderwidth": 1,
         "x": 0.01,
         "xanchor": "left",
         "y": 0.99,
         "yanchor": "top"
        },
        "margin": {
         "b": 50,
         "l": 50,
         "r": 50,
         "t": 50
        },
        "template": {
         "data": {
          "bar": [
           {
            "error_x": {
             "color": "#2a3f5f"
            },
            "error_y": {
             "color": "#2a3f5f"
            },
            "marker": {
             "line": {
              "color": "white",
              "width": 0.5
             },
             "pattern": {
              "fillmode": "overlay",
              "size": 10,
              "solidity": 0.2
             }
            },
            "type": "bar"
           }
          ],
          "barpolar": [
           {
            "marker": {
             "line": {
              "color": "white",
              "width": 0.5
             },
             "pattern": {
              "fillmode": "overlay",
              "size": 10,
              "solidity": 0.2
             }
            },
            "type": "barpolar"
           }
          ],
          "carpet": [
           {
            "aaxis": {
             "endlinecolor": "#2a3f5f",
             "gridcolor": "#C8D4E3",
             "linecolor": "#C8D4E3",
             "minorgridcolor": "#C8D4E3",
             "startlinecolor": "#2a3f5f"
            },
            "baxis": {
             "endlinecolor": "#2a3f5f",
             "gridcolor": "#C8D4E3",
             "linecolor": "#C8D4E3",
             "minorgridcolor": "#C8D4E3",
             "startlinecolor": "#2a3f5f"
            },
            "type": "carpet"
           }
          ],
          "choropleth": [
           {
            "colorbar": {
             "outlinewidth": 0,
             "ticks": ""
            },
            "type": "choropleth"
           }
          ],
          "contour": [
           {
            "colorbar": {
             "outlinewidth": 0,
             "ticks": ""
            },
            "colorscale": [
             [
              0,
              "#0d0887"
             ],
             [
              0.1111111111111111,
              "#46039f"
             ],
             [
              0.2222222222222222,
              "#7201a8"
             ],
             [
              0.3333333333333333,
              "#9c179e"
             ],
             [
              0.4444444444444444,
              "#bd3786"
             ],
             [
              0.5555555555555556,
              "#d8576b"
             ],
             [
              0.6666666666666666,
              "#ed7953"
             ],
             [
              0.7777777777777778,
              "#fb9f3a"
             ],
             [
              0.8888888888888888,
              "#fdca26"
             ],
             [
              1,
              "#f0f921"
             ]
            ],
            "type": "contour"
           }
          ],
          "contourcarpet": [
           {
            "colorbar": {
             "outlinewidth": 0,
             "ticks": ""
            },
            "type": "contourcarpet"
           }
          ],
          "heatmap": [
           {
            "colorbar": {
             "outlinewidth": 0,
             "ticks": ""
            },
            "colorscale": [
             [
              0,
              "#0d0887"
             ],
             [
              0.1111111111111111,
              "#46039f"
             ],
             [
              0.2222222222222222,
              "#7201a8"
             ],
             [
              0.3333333333333333,
              "#9c179e"
             ],
             [
              0.4444444444444444,
              "#bd3786"
             ],
             [
              0.5555555555555556,
              "#d8576b"
             ],
             [
              0.6666666666666666,
              "#ed7953"
             ],
             [
              0.7777777777777778,
              "#fb9f3a"
             ],
             [
              0.8888888888888888,
              "#fdca26"
             ],
             [
              1,
              "#f0f921"
             ]
            ],
            "type": "heatmap"
           }
          ],
          "heatmapgl": [
           {
            "colorbar": {
             "outlinewidth": 0,
             "ticks": ""
            },
            "colorscale": [
             [
              0,
              "#0d0887"
             ],
             [
              0.1111111111111111,
              "#46039f"
             ],
             [
              0.2222222222222222,
              "#7201a8"
             ],
             [
              0.3333333333333333,
              "#9c179e"
             ],
             [
              0.4444444444444444,
              "#bd3786"
             ],
             [
              0.5555555555555556,
              "#d8576b"
             ],
             [
              0.6666666666666666,
              "#ed7953"
             ],
             [
              0.7777777777777778,
              "#fb9f3a"
             ],
             [
              0.8888888888888888,
              "#fdca26"
             ],
             [
              1,
              "#f0f921"
             ]
            ],
            "type": "heatmapgl"
           }
          ],
          "histogram": [
           {
            "marker": {
             "pattern": {
              "fillmode": "overlay",
              "size": 10,
              "solidity": 0.2
             }
            },
            "type": "histogram"
           }
          ],
          "histogram2d": [
           {
            "colorbar": {
             "outlinewidth": 0,
             "ticks": ""
            },
            "colorscale": [
             [
              0,
              "#0d0887"
             ],
             [
              0.1111111111111111,
              "#46039f"
             ],
             [
              0.2222222222222222,
              "#7201a8"
             ],
             [
              0.3333333333333333,
              "#9c179e"
             ],
             [
              0.4444444444444444,
              "#bd3786"
             ],
             [
              0.5555555555555556,
              "#d8576b"
             ],
             [
              0.6666666666666666,
              "#ed7953"
             ],
             [
              0.7777777777777778,
              "#fb9f3a"
             ],
             [
              0.8888888888888888,
              "#fdca26"
             ],
             [
              1,
              "#f0f921"
             ]
            ],
            "type": "histogram2d"
           }
          ],
          "histogram2dcontour": [
           {
            "colorbar": {
             "outlinewidth": 0,
             "ticks": ""
            },
            "colorscale": [
             [
              0,
              "#0d0887"
             ],
             [
              0.1111111111111111,
              "#46039f"
             ],
             [
              0.2222222222222222,
              "#7201a8"
             ],
             [
              0.3333333333333333,
              "#9c179e"
             ],
             [
              0.4444444444444444,
              "#bd3786"
             ],
             [
              0.5555555555555556,
              "#d8576b"
             ],
             [
              0.6666666666666666,
              "#ed7953"
             ],
             [
              0.7777777777777778,
              "#fb9f3a"
             ],
             [
              0.8888888888888888,
              "#fdca26"
             ],
             [
              1,
              "#f0f921"
             ]
            ],
            "type": "histogram2dcontour"
           }
          ],
          "mesh3d": [
           {
            "colorbar": {
             "outlinewidth": 0,
             "ticks": ""
            },
            "type": "mesh3d"
           }
          ],
          "parcoords": [
           {
            "line": {
             "colorbar": {
              "outlinewidth": 0,
              "ticks": ""
             }
            },
            "type": "parcoords"
           }
          ],
          "pie": [
           {
            "automargin": true,
            "type": "pie"
           }
          ],
          "scatter": [
           {
            "fillpattern": {
             "fillmode": "overlay",
             "size": 10,
             "solidity": 0.2
            },
            "type": "scatter"
           }
          ],
          "scatter3d": [
           {
            "line": {
             "colorbar": {
              "outlinewidth": 0,
              "ticks": ""
             }
            },
            "marker": {
             "colorbar": {
              "outlinewidth": 0,
              "ticks": ""
             }
            },
            "type": "scatter3d"
           }
          ],
          "scattercarpet": [
           {
            "marker": {
             "colorbar": {
              "outlinewidth": 0,
              "ticks": ""
             }
            },
            "type": "scattercarpet"
           }
          ],
          "scattergeo": [
           {
            "marker": {
             "colorbar": {
              "outlinewidth": 0,
              "ticks": ""
             }
            },
            "type": "scattergeo"
           }
          ],
          "scattergl": [
           {
            "marker": {
             "colorbar": {
              "outlinewidth": 0,
              "ticks": ""
             }
            },
            "type": "scattergl"
           }
          ],
          "scattermapbox": [
           {
            "marker": {
             "colorbar": {
              "outlinewidth": 0,
              "ticks": ""
             }
            },
            "type": "scattermapbox"
           }
          ],
          "scatterpolar": [
           {
            "marker": {
             "colorbar": {
              "outlinewidth": 0,
              "ticks": ""
             }
            },
            "type": "scatterpolar"
           }
          ],
          "scatterpolargl": [
           {
            "marker": {
             "colorbar": {
              "outlinewidth": 0,
              "ticks": ""
             }
            },
            "type": "scatterpolargl"
           }
          ],
          "scatterternary": [
           {
            "marker": {
             "colorbar": {
              "outlinewidth": 0,
              "ticks": ""
             }
            },
            "type": "scatterternary"
           }
          ],
          "surface": [
           {
            "colorbar": {
             "outlinewidth": 0,
             "ticks": ""
            },
            "colorscale": [
             [
              0,
              "#0d0887"
             ],
             [
              0.1111111111111111,
              "#46039f"
             ],
             [
              0.2222222222222222,
              "#7201a8"
             ],
             [
              0.3333333333333333,
              "#9c179e"
             ],
             [
              0.4444444444444444,
              "#bd3786"
             ],
             [
              0.5555555555555556,
              "#d8576b"
             ],
             [
              0.6666666666666666,
              "#ed7953"
             ],
             [
              0.7777777777777778,
              "#fb9f3a"
             ],
             [
              0.8888888888888888,
              "#fdca26"
             ],
             [
              1,
              "#f0f921"
             ]
            ],
            "type": "surface"
           }
          ],
          "table": [
           {
            "cells": {
             "fill": {
              "color": "#EBF0F8"
             },
             "line": {
              "color": "white"
             }
            },
            "header": {
             "fill": {
              "color": "#C8D4E3"
             },
             "line": {
              "color": "white"
             }
            },
            "type": "table"
           }
          ]
         },
         "layout": {
          "annotationdefaults": {
           "arrowcolor": "#2a3f5f",
           "arrowhead": 0,
           "arrowwidth": 1
          },
          "autotypenumbers": "strict",
          "coloraxis": {
           "colorbar": {
            "outlinewidth": 0,
            "ticks": ""
           }
          },
          "colorscale": {
           "diverging": [
            [
             0,
             "#8e0152"
            ],
            [
             0.1,
             "#c51b7d"
            ],
            [
             0.2,
             "#de77ae"
            ],
            [
             0.3,
             "#f1b6da"
            ],
            [
             0.4,
             "#fde0ef"
            ],
            [
             0.5,
             "#f7f7f7"
            ],
            [
             0.6,
             "#e6f5d0"
            ],
            [
             0.7,
             "#b8e186"
            ],
            [
             0.8,
             "#7fbc41"
            ],
            [
             0.9,
             "#4d9221"
            ],
            [
             1,
             "#276419"
            ]
           ],
           "sequential": [
            [
             0,
             "#0d0887"
            ],
            [
             0.1111111111111111,
             "#46039f"
            ],
            [
             0.2222222222222222,
             "#7201a8"
            ],
            [
             0.3333333333333333,
             "#9c179e"
            ],
            [
             0.4444444444444444,
             "#bd3786"
            ],
            [
             0.5555555555555556,
             "#d8576b"
            ],
            [
             0.6666666666666666,
             "#ed7953"
            ],
            [
             0.7777777777777778,
             "#fb9f3a"
            ],
            [
             0.8888888888888888,
             "#fdca26"
            ],
            [
             1,
             "#f0f921"
            ]
           ],
           "sequentialminus": [
            [
             0,
             "#0d0887"
            ],
            [
             0.1111111111111111,
             "#46039f"
            ],
            [
             0.2222222222222222,
             "#7201a8"
            ],
            [
             0.3333333333333333,
             "#9c179e"
            ],
            [
             0.4444444444444444,
             "#bd3786"
            ],
            [
             0.5555555555555556,
             "#d8576b"
            ],
            [
             0.6666666666666666,
             "#ed7953"
            ],
            [
             0.7777777777777778,
             "#fb9f3a"
            ],
            [
             0.8888888888888888,
             "#fdca26"
            ],
            [
             1,
             "#f0f921"
            ]
           ]
          },
          "colorway": [
           "#636efa",
           "#EF553B",
           "#00cc96",
           "#ab63fa",
           "#FFA15A",
           "#19d3f3",
           "#FF6692",
           "#B6E880",
           "#FF97FF",
           "#FECB52"
          ],
          "font": {
           "color": "#2a3f5f"
          },
          "geo": {
           "bgcolor": "white",
           "lakecolor": "white",
           "landcolor": "white",
           "showlakes": true,
           "showland": true,
           "subunitcolor": "#C8D4E3"
          },
          "hoverlabel": {
           "align": "left"
          },
          "hovermode": "closest",
          "mapbox": {
           "style": "light"
          },
          "paper_bgcolor": "white",
          "plot_bgcolor": "white",
          "polar": {
           "angularaxis": {
            "gridcolor": "#EBF0F8",
            "linecolor": "#EBF0F8",
            "ticks": ""
           },
           "bgcolor": "white",
           "radialaxis": {
            "gridcolor": "#EBF0F8",
            "linecolor": "#EBF0F8",
            "ticks": ""
           }
          },
          "scene": {
           "xaxis": {
            "backgroundcolor": "white",
            "gridcolor": "#DFE8F3",
            "gridwidth": 2,
            "linecolor": "#EBF0F8",
            "showbackground": true,
            "ticks": "",
            "zerolinecolor": "#EBF0F8"
           },
           "yaxis": {
            "backgroundcolor": "white",
            "gridcolor": "#DFE8F3",
            "gridwidth": 2,
            "linecolor": "#EBF0F8",
            "showbackground": true,
            "ticks": "",
            "zerolinecolor": "#EBF0F8"
           },
           "zaxis": {
            "backgroundcolor": "white",
            "gridcolor": "#DFE8F3",
            "gridwidth": 2,
            "linecolor": "#EBF0F8",
            "showbackground": true,
            "ticks": "",
            "zerolinecolor": "#EBF0F8"
           }
          },
          "shapedefaults": {
           "line": {
            "color": "#2a3f5f"
           }
          },
          "ternary": {
           "aaxis": {
            "gridcolor": "#DFE8F3",
            "linecolor": "#A2B1C6",
            "ticks": ""
           },
           "baxis": {
            "gridcolor": "#DFE8F3",
            "linecolor": "#A2B1C6",
            "ticks": ""
           },
           "bgcolor": "white",
           "caxis": {
            "gridcolor": "#DFE8F3",
            "linecolor": "#A2B1C6",
            "ticks": ""
           }
          },
          "title": {
           "x": 0.05
          },
          "xaxis": {
           "automargin": true,
           "gridcolor": "#EBF0F8",
           "linecolor": "#EBF0F8",
           "ticks": "",
           "title": {
            "standoff": 15
           },
           "zerolinecolor": "#EBF0F8",
           "zerolinewidth": 2
          },
          "yaxis": {
           "automargin": true,
           "gridcolor": "#EBF0F8",
           "linecolor": "#EBF0F8",
           "ticks": "",
           "title": {
            "standoff": 15
           },
           "zerolinecolor": "#EBF0F8",
           "zerolinewidth": 2
          }
         }
        },
        "title": {
         "text": "Elbow Plot: <b>BW5D_YSI_20230822<b>",
         "x": 0.5,
         "xanchor": "center",
         "y": 0.95,
         "yanchor": "top"
        },
        "xaxis": {
         "anchor": "y",
         "domain": [
          0,
          0.94
         ],
         "gridcolor": "LightGray",
         "gridwidth": 0.5,
         "showgrid": true,
         "title": {
          "text": "Number Breakpoints"
         },
         "zeroline": true,
         "zerolinecolor": "Gray",
         "zerolinewidth": 1
        },
        "yaxis": {
         "anchor": "x",
         "domain": [
          0,
          1
         ],
         "gridcolor": "LightGray",
         "gridwidth": 0.5,
         "showgrid": true,
         "title": {
          "text": "BIC"
         },
         "zeroline": true,
         "zerolinecolor": "Gray",
         "zerolinewidth": 1
        },
        "yaxis2": {
         "anchor": "x",
         "gridcolor": "LightGray",
         "gridwidth": 0.5,
         "overlaying": "y",
         "showgrid": true,
         "side": "right",
         "title": {
          "text": "RSS"
         },
         "zeroline": true,
         "zerolinecolor": "Gray",
         "zerolinewidth": 1
        }
       }
      }
     },
     "metadata": {},
     "output_type": "display_data"
    }
   ],
   "source": [
    "# Elbow plot\n",
    "\n",
    "x_values = np.array(list(trial_select['df']['n_breakpoints'].values()))\n",
    "y_values = np.array(list(trial_select['df']['bic'].values()))\n",
    "secondary_x = np.array(list(trial_select['df']['n_breakpoints'].values()))\n",
    "secondary_y = np.array(list(trial_select['df']['rss'].values()))\n",
    "\n",
    "plots.plot_data(\n",
    "    x_values=x_values,\n",
    "    y_values=y_values,\n",
    "    plot_mode='lines+markers',\n",
    "    x_axis_label=\"Number Breakpoints\",\n",
    "    y_axis_label=\"BIC\",\n",
    "    secondary_x=secondary_x,\n",
    "    secondary_y=secondary_y,\n",
    "    use_secondary_axis=True,\n",
    "    y2_axis_label=\"RSS\",\n",
    "    trace_names=['BIC', 'RSS'],\n",
    "    title=f\"Elbow Plot: <b>{name}<b>\",\n",
    ")"
   ]
  },
  {
   "cell_type": "markdown",
   "metadata": {},
   "source": [
    "---\n",
    "\n",
    "### Evaluation"
   ]
  },
  {
   "cell_type": "code",
   "execution_count": 7,
   "metadata": {},
   "outputs": [
    {
     "data": {
      "text/plain": [
       "{'bic': 58073.34897172,\n",
       " 'n_breakpoints': 7,\n",
       " 'estimates': {'const': {'estimate': 1316.122606913,\n",
       "   'se': 44.3882549631,\n",
       "   'confidence_interval': [1229.1026985828, 1403.1425152432],\n",
       "   't_stat': 29.6502443723,\n",
       "   'p_t': 1.816158679e-178},\n",
       "  'beta1': {'estimate': -4713.8543936587,\n",
       "   'se': 102.3318300668,\n",
       "   'confidence_interval': [-4914.4684182264, -4513.240369091],\n",
       "   't_stat': -46.064400398,\n",
       "   'p_t': '-'},\n",
       "  'breakpoint1': {'estimate': 0.8584455781,\n",
       "   'se': 0.0127817975,\n",
       "   'confidence_interval': [0.8333878044, 0.8835033517],\n",
       "   't_stat': '-',\n",
       "   'p_t': '-'},\n",
       "  'beta2': {'estimate': 583.237911234,\n",
       "   'se': 16.0498695641,\n",
       "   'confidence_interval': [551.7733226994, 614.7024997687],\n",
       "   't_stat': 36.3391059911,\n",
       "   'p_t': '-'},\n",
       "  'breakpoint2': {'estimate': 4.7631699822,\n",
       "   'se': 0.058402234500000004,\n",
       "   'confidence_interval': [4.648676698, 4.8776632664],\n",
       "   't_stat': '-',\n",
       "   'p_t': '-'},\n",
       "  'beta3': {'estimate': 1017.6414304604,\n",
       "   'se': 14.4277895606,\n",
       "   'confidence_interval': [989.3568104407, 1045.92605048],\n",
       "   't_stat': 70.5334262181,\n",
       "   'p_t': '-'},\n",
       "  'breakpoint3': {'estimate': 8.0993477422,\n",
       "   'se': 0.0309011363,\n",
       "   'confidence_interval': [8.0387683379, 8.1599271465],\n",
       "   't_stat': '-',\n",
       "   'p_t': '-'},\n",
       "  'beta4': {'estimate': 11389.4388823727,\n",
       "   'se': 40.0881671109,\n",
       "   'confidence_interval': [11310.8489799308, 11468.0287848147],\n",
       "   't_stat': 284.1097436774,\n",
       "   'p_t': '-'},\n",
       "  'breakpoint4': {'estimate': 12.4232543215,\n",
       "   'se': 0.0039461307,\n",
       "   'confidence_interval': [12.4155182227, 12.4309904204],\n",
       "   't_stat': '-',\n",
       "   'p_t': '-'},\n",
       "  'beta5': {'estimate': -6537.9799121266,\n",
       "   'se': 42.4447381071,\n",
       "   'confidence_interval': [-6621.18969864, -6454.7701256132],\n",
       "   't_stat': -154.0351102092,\n",
       "   'p_t': '-'},\n",
       "  'breakpoint5': {'estimate': 13.8922967115,\n",
       "   'se': 0.005758591,\n",
       "   'confidence_interval': [13.8810074174, 13.9035860055],\n",
       "   't_stat': '-',\n",
       "   'p_t': '-'},\n",
       "  'beta6': {'estimate': -5534.9726922829,\n",
       "   'se': 20.8911173857,\n",
       "   'confidence_interval': [-5575.9281910141, -5494.0171935517],\n",
       "   't_stat': -264.9438318734,\n",
       "   'p_t': '-'},\n",
       "  'breakpoint6': {'estimate': 16.5131032864,\n",
       "   'se': 0.0062285746,\n",
       "   'confidence_interval': [16.5008926241, 16.5253139487],\n",
       "   't_stat': '-',\n",
       "   'p_t': '-'},\n",
       "  'beta7': {'estimate': -929.2030694058,\n",
       "   'se': 12.7331459795,\n",
       "   'confidence_interval': [-954.1654653552, -904.2406734564],\n",
       "   't_stat': -72.9751367731,\n",
       "   'p_t': '-'},\n",
       "  'breakpoint7': {'estimate': 19.9449721386,\n",
       "   'se': 0.0319229454,\n",
       "   'confidence_interval': [19.8823895526, 20.0075547246],\n",
       "   't_stat': '-',\n",
       "   'p_t': '-'},\n",
       "  'alpha1': {'estimate': 4765.7957627799,\n",
       "   'se': 101.6871160165,\n",
       "   'confidence_interval': [4566.445652678, 4965.1458728819],\n",
       "   't_stat': 46.867252701,\n",
       "   'p_t': 0.0},\n",
       "  'alpha2': {'estimate': 51.9413691212,\n",
       "   'se': 11.468822131,\n",
       "   'confidence_interval': [29.4575870638, 74.4251511786],\n",
       "   't_stat': 4.5289192323,\n",
       "   'p_t': 6.0629e-06},\n",
       "  'alpha3': {'estimate': 635.1792803553,\n",
       "   'se': 11.2278418208,\n",
       "   'confidence_interval': [613.1679224678, 657.1906382427],\n",
       "   't_stat': 56.5718052048,\n",
       "   'p_t': 0.0},\n",
       "  'alpha4': {'estimate': 1652.8207108156,\n",
       "   'se': 9.0607218063,\n",
       "   'confidence_interval': [1635.0578322873, 1670.5835893439],\n",
       "   't_stat': 182.4160090274,\n",
       "   'p_t': 0.0},\n",
       "  'alpha5': {'estimate': 13042.2595931884,\n",
       "   'se': 39.0507933679,\n",
       "   'confidence_interval': [12965.7033856528, 13118.8158007239],\n",
       "   't_stat': 333.9819365596,\n",
       "   'p_t': 0.0},\n",
       "  'alpha6': {'estimate': 6504.2796810617,\n",
       "   'se': 16.6310351548,\n",
       "   'confidence_interval': [6471.6757601415, 6536.883601982],\n",
       "   't_stat': 391.0928947319,\n",
       "   'p_t': 0.0},\n",
       "  'alpha7': {'estimate': 969.3069887788,\n",
       "   'se': 12.6430793442,\n",
       "   'confidence_interval': [944.5211618419, 994.0928157157],\n",
       "   't_stat': 76.6670019533,\n",
       "   'p_t': 0.0},\n",
       "  'alpha8': {'estimate': 40.103919373,\n",
       "   'se': 1.5118039658,\n",
       "   'confidence_interval': [37.1401389174, 43.0676998286],\n",
       "   't_stat': 26.5271955096,\n",
       "   'p_t': 2.040592326e-145}}}"
      ]
     },
     "execution_count": 7,
     "metadata": {},
     "output_type": "execute_result"
    }
   ],
   "source": [
    "# Params\n",
    "params_ms = utils.get_breakpoint_data(trial_select['df'], N_BREAKPOINT)\n",
    "params_ms"
   ]
  },
  {
   "cell_type": "code",
   "execution_count": 8,
   "metadata": {},
   "outputs": [
    {
     "data": {
      "text/plain": [
       "<piecewise_regression.main.Fit at 0x16fbd806a10>"
      ]
     },
     "execution_count": 8,
     "metadata": {},
     "output_type": "execute_result"
    }
   ],
   "source": [
    "# Model Select\n",
    "ms = utils.rebuild_model(x_processed,y_processed,params_ms)\n",
    "ms"
   ]
  },
  {
   "cell_type": "code",
   "execution_count": 9,
   "metadata": {},
   "outputs": [
    {
     "name": "stdout",
     "output_type": "stream",
     "text": [
      "RSS:  398235322.9723866\n",
      "TSS:  2401800866773.062\n",
      "R2:  0.9998341930305373\n",
      "R2_ajus:  0.999833416113851\n"
     ]
    }
   ],
   "source": [
    "# Globals\n",
    "RSS, TSS, R2, R2_ajus = r_squared_calc.get_r_squared(y_processed, \n",
    "                                                    ms.predict(x_processed), \n",
    "                                                    len(ms.get_params()))\n",
    "\n",
    "\n",
    "print(\"RSS: \", RSS)\n",
    "print(\"TSS: \", TSS)\n",
    "print(\"R2: \", R2)\n",
    "print(\"R2_ajus: \", R2_ajus)"
   ]
  },
  {
   "cell_type": "code",
   "execution_count": 10,
   "metadata": {},
   "outputs": [
    {
     "data": {
      "text/plain": [
       "[{'Segment': 1,\n",
       "  'R^2': np.float64(0.96984127720464),\n",
       "  'RMS%': np.float64(9.002753605900123),\n",
       "  'RMS% (min-max)': np.float64(5.718923679325165)},\n",
       " {'Segment': 2,\n",
       "  'R^2': np.float64(0.2946583162751588),\n",
       "  'RMS%': np.float64(1.4620682688607314),\n",
       "  'RMS% (min-max)': np.float64(18.20591678165512)},\n",
       " {'Segment': 3,\n",
       "  'R^2': np.float64(0.8849284235125511),\n",
       "  'RMS%': np.float64(3.3591427265532943),\n",
       "  'RMS% (min-max)': np.float64(10.477090326069236)},\n",
       " {'Segment': 4,\n",
       "  'R^2': np.float64(0.9745032366015407),\n",
       "  'RMS%': np.float64(3.0729962600924163),\n",
       "  'RMS% (min-max)': np.float64(4.5312577410973995)},\n",
       " {'Segment': 5,\n",
       "  'R^2': np.float64(0.9837395256436943),\n",
       "  'RMS%': np.float64(2.9480355005657186),\n",
       "  'RMS% (min-max)': np.float64(3.953548261695468)},\n",
       " {'Segment': 6,\n",
       "  'R^2': np.float64(0.9928408453776775),\n",
       "  'RMS%': np.float64(1.0719421002863954),\n",
       "  'RMS% (min-max)': np.float64(2.501830290324984)},\n",
       " {'Segment': 7,\n",
       "  'R^2': np.float64(0.9422974525992251),\n",
       "  'RMS%': np.float64(0.4479431168082995),\n",
       "  'RMS% (min-max)': np.float64(6.273511953854419)},\n",
       " {'Segment': 8,\n",
       "  'R^2': np.float64(0.569322602058467),\n",
       "  'RMS%': np.float64(0.2582181723263559),\n",
       "  'RMS% (min-max)': np.float64(13.382008805157753)}]"
      ]
     },
     "execution_count": 10,
     "metadata": {},
     "output_type": "execute_result"
    }
   ],
   "source": [
    "# Per segment\n",
    "metric_per_segment = analysis.calculate_metrics_per_segment(ms)\n",
    "metric_per_segment"
   ]
  },
  {
   "cell_type": "code",
   "execution_count": 11,
   "metadata": {},
   "outputs": [
    {
     "data": {
      "text/html": [
       "<div>\n",
       "<style scoped>\n",
       "    .dataframe tbody tr th:only-of-type {\n",
       "        vertical-align: middle;\n",
       "    }\n",
       "\n",
       "    .dataframe tbody tr th {\n",
       "        vertical-align: top;\n",
       "    }\n",
       "\n",
       "    .dataframe thead th {\n",
       "        text-align: right;\n",
       "    }\n",
       "</style>\n",
       "<table border=\"1\" class=\"dataframe\">\n",
       "  <thead>\n",
       "    <tr style=\"text-align: right;\">\n",
       "      <th></th>\n",
       "      <th>Breakpoint X Position</th>\n",
       "      <th>Breakpoint Y Position</th>\n",
       "      <th>Confidence Interval (X)</th>\n",
       "    </tr>\n",
       "  </thead>\n",
       "  <tbody>\n",
       "    <tr>\n",
       "      <th>1</th>\n",
       "      <td>0.858446</td>\n",
       "      <td>5407.298905</td>\n",
       "      <td>(0.8333878044166649, 0.8835033517402902)</td>\n",
       "    </tr>\n",
       "    <tr>\n",
       "      <th>2</th>\n",
       "      <td>4.763170</td>\n",
       "      <td>5610.115637</td>\n",
       "      <td>(4.648676697987064, 4.877663266361521)</td>\n",
       "    </tr>\n",
       "    <tr>\n",
       "      <th>3</th>\n",
       "      <td>8.099348</td>\n",
       "      <td>7729.186626</td>\n",
       "      <td>(8.038768337882338, 8.159927146538799)</td>\n",
       "    </tr>\n",
       "    <tr>\n",
       "      <th>4</th>\n",
       "      <td>12.423254</td>\n",
       "      <td>14875.828972</td>\n",
       "      <td>(12.415518222665629, 12.430990420423658)</td>\n",
       "    </tr>\n",
       "    <tr>\n",
       "      <th>5</th>\n",
       "      <td>13.892297</td>\n",
       "      <td>34035.461175</td>\n",
       "      <td>(13.881007417444273, 13.903586005486051)</td>\n",
       "    </tr>\n",
       "    <tr>\n",
       "      <th>6</th>\n",
       "      <td>16.513103</td>\n",
       "      <td>51081.920128</td>\n",
       "      <td>(16.50089262406631, 16.52531394866174)</td>\n",
       "    </tr>\n",
       "    <tr>\n",
       "      <th>7</th>\n",
       "      <td>19.944972</td>\n",
       "      <td>54408.454591</td>\n",
       "      <td>(19.882389552617273, 20.007554724646152)</td>\n",
       "    </tr>\n",
       "  </tbody>\n",
       "</table>\n",
       "</div>"
      ],
      "text/plain": [
       "   Breakpoint X Position  Breakpoint Y Position  \\\n",
       "1               0.858446            5407.298905   \n",
       "2               4.763170            5610.115637   \n",
       "3               8.099348            7729.186626   \n",
       "4              12.423254           14875.828972   \n",
       "5              13.892297           34035.461175   \n",
       "6              16.513103           51081.920128   \n",
       "7              19.944972           54408.454591   \n",
       "\n",
       "                    Confidence Interval (X)  \n",
       "1  (0.8333878044166649, 0.8835033517402902)  \n",
       "2    (4.648676697987064, 4.877663266361521)  \n",
       "3    (8.038768337882338, 8.159927146538799)  \n",
       "4  (12.415518222665629, 12.430990420423658)  \n",
       "5  (13.881007417444273, 13.903586005486051)  \n",
       "6    (16.50089262406631, 16.52531394866174)  \n",
       "7  (19.882389552617273, 20.007554724646152)  "
      ]
     },
     "execution_count": 11,
     "metadata": {},
     "output_type": "execute_result"
    }
   ],
   "source": [
    "# Breakpoints\n",
    "breakpoints = analysis.extract_breakpoints(ms)\n",
    "breakpoints"
   ]
  },
  {
   "cell_type": "markdown",
   "metadata": {},
   "source": [
    "##"
   ]
  },
  {
   "cell_type": "markdown",
   "metadata": {},
   "source": [
    "---\n",
    "\n",
    "### Final results\n",
    "\n",
    "#### General models"
   ]
  },
  {
   "cell_type": "code",
   "execution_count": 12,
   "metadata": {},
   "outputs": [
    {
     "data": {
      "application/vnd.jupyter.widget-view+json": {
       "model_id": "43be7ab4bbd441cd807e0710628156fa",
       "version_major": 2,
       "version_minor": 0
      },
      "text/plain": [
       "interactive(children=(IntSlider(value=7, description='n_breakpoints', max=10), Output()), _dom_classes=('widge…"
      ]
     },
     "metadata": {},
     "output_type": "display_data"
    }
   ],
   "source": [
    "# Visualizamos los datos procesados junto con los modelos obtenidos\n",
    "df_ms = pd.DataFrame({'n_breakpoints': trial_select['df']['n_breakpoints'], \n",
    "                    'estimates': trial_select['df']['estimates']})\n",
    "\n",
    "plots.interactive_segmented_regression(x=x_processed, \n",
    "                                       y=y_processed, \n",
    "                                       df=df_ms, \n",
    "                                       title=name,\n",
    "                                       breakpoints=N_BREAKPOINT)"
   ]
  },
  {
   "cell_type": "markdown",
   "metadata": {},
   "source": [
    "#### Models per segment"
   ]
  },
  {
   "cell_type": "code",
   "execution_count": 13,
   "metadata": {},
   "outputs": [
    {
     "data": {
      "text/plain": [
       "{'segments': [{'segment': 1,\n",
       "   'data_x': array([0.001, 0.009, 0.014, 0.019, 0.032, 0.038, 0.043, 0.049, 0.064,\n",
       "          0.07 , 0.076, 0.09 , 0.096, 0.1  , 0.112, 0.117, 0.12 , 0.129,\n",
       "          0.133, 0.135, 0.145, 0.15 , 0.154, 0.158, 0.166, 0.168, 0.17 ,\n",
       "          0.177, 0.18 , 0.183, 0.193, 0.196, 0.199, 0.208, 0.213, 0.214,\n",
       "          0.218, 0.219, 0.22 , 0.221, 0.224, 0.227, 0.229, 0.232, 0.233,\n",
       "          0.234, 0.235, 0.236, 0.237, 0.238, 0.239, 0.24 , 0.241, 0.242,\n",
       "          0.243, 0.244, 0.245, 0.246, 0.247, 0.25 , 0.251, 0.253, 0.258,\n",
       "          0.265, 0.274, 0.282, 0.284, 0.286, 0.288, 0.289, 0.29 , 0.293,\n",
       "          0.295, 0.297, 0.298, 0.299, 0.302, 0.308, 0.322, 0.328, 0.332,\n",
       "          0.346, 0.351, 0.354, 0.367, 0.376, 0.385, 0.402, 0.409, 0.414,\n",
       "          0.423, 0.44 , 0.448, 0.454, 0.47 , 0.476, 0.478, 0.492, 0.499,\n",
       "          0.505, 0.512, 0.526, 0.532, 0.54 , 0.553, 0.556, 0.564, 0.57 ,\n",
       "          0.576, 0.581, 0.585, 0.597, 0.603, 0.607, 0.611, 0.621, 0.626,\n",
       "          0.629, 0.638, 0.642, 0.643, 0.653, 0.662, 0.669, 0.689, 0.698,\n",
       "          0.706, 0.714, 0.729, 0.736, 0.742, 0.756, 0.764, 0.77 , 0.788,\n",
       "          0.797, 0.801, 0.817, 0.824, 0.828, 0.833, 0.849, 0.856]),\n",
       "   'data_y': array([1759.6502906 , 1760.68610256, 1761.8468272 , 1763.13246451,\n",
       "          1764.54301449, 1766.07847715, 1767.73885247, 1769.52414047,\n",
       "          1771.43434114, 1773.46945448, 1775.62948049, 1777.91441918,\n",
       "          1780.32427053, 1783.47828019, 1786.71300483, 1789.98542995,\n",
       "          1793.25685024, 1791.31630918, 1791.29545894, 1793.0851401 ,\n",
       "          1796.64771014, 1800.79619324, 1808.26013527, 1818.47337198,\n",
       "          1830.30258937, 1843.41732689, 1856.54193237, 1869.58885024,\n",
       "          1881.82044767, 1893.23209662, 1904.10634783, 1899.30217713,\n",
       "          1886.82144099, 1887.88529588, 1898.55835814, 1917.01195702,\n",
       "          1942.42103804, 1972.78605536, 2004.26183098, 2034.42639411,\n",
       "          2069.50135478, 2108.31574978, 2157.15252712, 2210.2268342 ,\n",
       "          2266.60081319, 2324.90617746, 2385.67388353, 2444.92404734,\n",
       "          2500.63606985, 2551.52712982, 2595.64259921, 2632.22796596,\n",
       "          2659.66447322, 2676.32547365, 2682.198774  , 2675.76493468,\n",
       "          2678.28030349, 2692.97660992, 2703.50739489, 2711.18330123,\n",
       "          2715.30824236, 2714.56984829, 2710.99525446, 2707.11056772,\n",
       "          2699.82264035, 2695.79610962, 2693.45331432, 2694.15458799,\n",
       "          2695.86150725, 2700.7273752 , 2707.31098551, 2714.54257005,\n",
       "          2722.74988406, 2732.40695652, 2753.29394203, 2786.7386087 ,\n",
       "          2828.61166184, 2877.50655072, 2933.00638647, 2991.90417391,\n",
       "          3052.52728502, 3113.08115942, 3173.84233816, 3233.76384541,\n",
       "          3291.20450242, 3345.23708213, 3395.51068599, 3438.12471498,\n",
       "          3472.57766184, 3509.58983575, 3527.26575845, 3545.61857005,\n",
       "          3564.86177778, 3589.11927536, 3607.96200966, 3624.84859903,\n",
       "          3642.90753623, 3660.65642512, 3685.42919807, 3713.49476329,\n",
       "          3743.80871498, 3776.98015459, 3812.01236715, 3847.10262802,\n",
       "          3882.2650628 , 3916.84950725, 3950.59026087, 3983.32249275,\n",
       "          4014.09518841, 4042.49901449, 4045.00278261, 4049.71561353,\n",
       "          4055.61965217, 4067.42457971, 4086.67292754, 4130.02942995,\n",
       "          4184.87184541, 4245.49634783, 4305.76193237, 4370.2168599 ,\n",
       "          4435.05325604, 4498.55323671, 4566.61491787, 4639.48699517,\n",
       "          4714.20233816, 4786.82181643, 4855.89004831, 4919.07876329,\n",
       "          4975.24164251, 5022.69103382, 5060.32962319, 5086.79399034,\n",
       "          5100.75837681, 5100.78403865, 5085.00479227, 5086.51928502,\n",
       "          5087.62191304, 5092.82558454, 5099.5988599 , 5105.67213527,\n",
       "          5112.56830918, 5118.86009662, 5125.81905314]),\n",
       "   'fitted_model': {'slope': np.float64(4765.7957627800615),\n",
       "    'intercept': np.float64(1316.1226069129264),\n",
       "    'fitted_y': array([1320.88840268, 1359.01476878, 1382.84374759, 1406.67272641,\n",
       "           1468.62807132, 1497.2228459 , 1521.05182471, 1549.64659929,\n",
       "           1621.13353573, 1649.72831031, 1678.32308488, 1745.04422556,\n",
       "           1773.63900014, 1792.70218319, 1849.89173234, 1873.72071116,\n",
       "           1888.01809845, 1930.91026031, 1949.97344336, 1959.50503489,\n",
       "           2007.16299252, 2030.99197133, 2050.05515438, 2069.11833743,\n",
       "           2107.24470353, 2116.77629506, 2126.30788659, 2159.66845692,\n",
       "           2173.96584421, 2188.2632315 , 2235.92118913, 2250.21857642,\n",
       "           2264.51596371, 2307.40812557, 2331.23710439, 2336.00290015,\n",
       "           2355.0660832 , 2359.83187896, 2364.59767472, 2369.36347049,\n",
       "           2383.66085778, 2397.95824506, 2407.48983659, 2421.78722388,\n",
       "           2426.55301964, 2431.3188154 , 2436.08461117, 2440.85040693,\n",
       "           2445.61620269, 2450.38199845, 2455.14779422, 2459.91358998,\n",
       "           2464.67938574, 2469.44518151, 2474.21097727, 2478.97677303,\n",
       "           2483.74256879, 2488.50836456, 2493.27416032, 2507.57154761,\n",
       "           2512.33734337, 2521.8689349 , 2545.69791371, 2579.05848405,\n",
       "           2621.95064591, 2660.07701202, 2669.60860354, 2679.14019507,\n",
       "           2688.67178659, 2693.43758236, 2698.20337812, 2712.50076541,\n",
       "           2722.03235693, 2731.56394846, 2736.32974422, 2741.09553998,\n",
       "           2755.39292727, 2783.98770185, 2850.70884253, 2879.3036171 ,\n",
       "           2898.36680016, 2965.08794083, 2988.91691965, 3003.21430694,\n",
       "           3065.16965185, 3108.06181372, 3150.95397558, 3231.97250355,\n",
       "           3265.33307389, 3289.1620527 , 3332.05421457, 3413.07274254,\n",
       "           3451.19910864, 3479.79388322, 3556.04661542, 3584.64139   ,\n",
       "           3594.17298152, 3660.8941222 , 3694.25469254, 3722.84946712,\n",
       "           3756.21003746, 3822.93117814, 3851.52595271, 3889.65231881,\n",
       "           3951.60766373, 3965.90505102, 4004.03141712, 4032.6261917 ,\n",
       "           4061.22096627, 4085.04994509, 4104.11312814, 4161.30267729,\n",
       "           4189.89745187, 4208.96063492, 4228.02381797, 4275.6817756 ,\n",
       "           4299.51075441, 4313.8081417 , 4356.70030357, 4375.76348662,\n",
       "           4380.52928238, 4428.18724001, 4471.07940187, 4504.43997221,\n",
       "           4599.75588747, 4642.64804933, 4680.77441544, 4718.90078154,\n",
       "           4790.38771798, 4823.74828832, 4852.3430629 , 4919.06420357,\n",
       "           4957.19056968, 4985.78534425, 5071.56966798, 5114.46182985,\n",
       "           5133.5250129 , 5209.7777451 , 5243.13831544, 5262.20149849,\n",
       "           5286.03047731, 5362.28320951, 5395.64377985])}},\n",
       "  {'segment': 2,\n",
       "   'data_x': array([0.861, 0.876, 0.883, 0.89 , 0.908, 0.917, 0.922, 0.937, 0.943,\n",
       "          0.949, 0.953, 0.963, 0.967, 0.97 , 0.982, 0.985, 0.987, 0.991,\n",
       "          0.993, 0.994, 1.   , 1.003, 1.004, 1.007, 1.012, 1.014, 1.016,\n",
       "          1.025, 1.03 , 1.033, 1.042, 1.047, 1.051, 1.063, 1.068, 1.07 ,\n",
       "          1.082, 1.087, 1.09 , 1.095, 1.106, 1.112, 1.12 , 1.135, 1.142,\n",
       "          1.148, 1.164, 1.173, 1.182, 1.204, 1.215, 1.226, 1.238, 1.262,\n",
       "          1.273, 1.284, 1.303, 1.312, 1.319, 1.335, 1.344, 1.349, 1.366,\n",
       "          1.374, 1.381, 1.388, 1.405, 1.41 , 1.414, 1.425, 1.431, 1.436,\n",
       "          1.444, 1.449, 1.453, 1.462, 1.466, 1.471, 1.476, 1.48 , 1.483,\n",
       "          1.486, 1.495, 1.5  , 1.504, 1.514, 1.519, 1.521, 1.529, 1.534,\n",
       "          1.536, 1.544, 1.55 , 1.555, 1.561, 1.573, 1.578, 1.582, 1.595,\n",
       "          1.601, 1.605, 1.621, 1.63 , 1.637, 1.652, 1.66 , 1.667, 1.674,\n",
       "          1.687, 1.692, 1.697, 1.709, 1.717, 1.723, 1.739, 1.747, 1.751,\n",
       "          1.769, 1.778, 1.786, 1.792, 1.806, 1.811, 1.813, 1.827, 1.833,\n",
       "          1.837, 1.846, 1.85 , 1.851, 1.859, 1.863, 1.867, 1.878, 1.885,\n",
       "          1.891, 1.895, 1.911, 1.918, 1.924, 1.941, 1.95 , 1.956, 1.971,\n",
       "          1.977, 1.981, 1.993, 1.999, 2.004, 2.015, 2.022, 2.029, 2.034,\n",
       "          2.048, 2.057, 2.064, 2.087, 2.098, 2.107, 2.119, 2.14 , 2.147,\n",
       "          2.154, 2.173, 2.183, 2.191, 2.21 , 2.217, 2.221, 2.23 , 2.236,\n",
       "          2.244, 2.251, 2.256, 2.272, 2.281, 2.289, 2.294, 2.309, 2.317,\n",
       "          2.325, 2.34 , 2.344, 2.348, 2.36 , 2.365, 2.378, 2.386, 2.391,\n",
       "          2.397, 2.412, 2.417, 2.421, 2.432, 2.438, 2.441, 2.454, 2.459,\n",
       "          2.463, 2.472, 2.477, 2.481, 2.485, 2.502, 2.508, 2.513, 2.529,\n",
       "          2.535, 2.539, 2.55 , 2.558, 2.563, 2.571, 2.587, 2.593, 2.598,\n",
       "          2.614, 2.622, 2.627, 2.646, 2.655, 2.662, 2.683, 2.694, 2.703,\n",
       "          2.711, 2.729, 2.736, 2.744, 2.756, 2.759, 2.763, 2.77 , 2.773,\n",
       "          2.781, 2.787, 2.788, 2.792, 2.803, 2.807, 2.815, 2.819, 2.82 ,\n",
       "          2.821, 2.829, 2.831, 2.833, 2.842, 2.847, 2.848, 2.858, 2.864,\n",
       "          2.868, 2.872, 2.883, 2.886, 2.895, 2.898, 2.9  , 2.908, 2.912,\n",
       "          2.915, 2.927, 2.935, 2.943, 2.951, 2.974, 2.988, 3.   , 3.027,\n",
       "          3.038, 3.047, 3.065, 3.07 , 3.074, 3.083, 3.088, 3.092, 3.097,\n",
       "          3.109, 3.112, 3.116, 3.131, 3.139, 3.148, 3.175, 3.192, 3.213,\n",
       "          3.265, 3.287, 3.3  , 3.314, 3.338, 3.346, 3.355, 3.369, 3.375,\n",
       "          3.382, 3.398, 3.406, 3.412, 3.43 , 3.438, 3.443, 3.456, 3.462,\n",
       "          3.467, 3.471, 3.481, 3.486, 3.488, 3.501, 3.507, 3.51 , 3.525,\n",
       "          3.532, 3.538, 3.544, 3.559, 3.563, 3.569, 3.585, 3.592, 3.596,\n",
       "          3.606, 3.611, 3.614, 3.62 , 3.622, 3.623, 3.63 , 3.636, 3.638,\n",
       "          3.641, 3.652, 3.658, 3.665, 3.681, 3.688, 3.692, 3.706, 3.714,\n",
       "          3.721, 3.733, 3.739, 3.742, 3.75 , 3.764, 3.77 , 3.777, 3.788,\n",
       "          3.793, 3.795, 3.808, 3.812, 3.814, 3.825, 3.833, 3.836, 3.845,\n",
       "          3.852, 3.856, 3.862, 3.877, 3.882, 3.885, 3.902, 3.912, 3.92 ,\n",
       "          3.94 , 3.949, 3.956, 3.963, 3.976, 3.979, 3.988, 3.994, 4.   ,\n",
       "          4.005, 4.021, 4.028, 4.032, 4.047, 4.053, 4.058, 4.066, 4.074,\n",
       "          4.077, 4.083, 4.104, 4.113, 4.125, 4.147, 4.155, 4.16 , 4.174,\n",
       "          4.184, 4.189, 4.2  , 4.209, 4.214, 4.223, 4.237, 4.243, 4.249,\n",
       "          4.265, 4.273, 4.279, 4.297, 4.304, 4.306, 4.319, 4.326, 4.331,\n",
       "          4.342, 4.351, 4.354, 4.36 , 4.376, 4.383, 4.385, 4.4  , 4.406,\n",
       "          4.411, 4.425, 4.432, 4.438, 4.45 , 4.457, 4.461, 4.464, 4.478,\n",
       "          4.483, 4.485, 4.497, 4.504, 4.507, 4.52 , 4.527, 4.529, 4.535,\n",
       "          4.55 , 4.556, 4.56 , 4.576, 4.582, 4.591, 4.596, 4.601, 4.602,\n",
       "          4.612, 4.617, 4.618, 4.628, 4.635, 4.642, 4.649, 4.663, 4.668,\n",
       "          4.674, 4.687, 4.688, 4.691, 4.692, 4.694, 4.697, 4.7  , 4.702,\n",
       "          4.703, 4.704, 4.711, 4.712, 4.716, 4.719, 4.72 , 4.721, 4.722,\n",
       "          4.724, 4.728, 4.73 , 4.732, 4.733, 4.734, 4.736, 4.737, 4.738,\n",
       "          4.739, 4.74 , 4.741, 4.742, 4.743, 4.744, 4.745, 4.746, 4.747,\n",
       "          4.748, 4.749, 4.75 , 4.751, 4.752, 4.757]),\n",
       "   'data_y': array([5132.58608696, 5138.66854106, 5144.94570048, 5151.78738164,\n",
       "          5158.9251401 , 5165.91315942, 5173.00384541, 5180.18664734,\n",
       "          5187.20119807, 5193.96224155, 5200.21064734, 5205.99551691,\n",
       "          5211.33172947, 5216.33111111, 5220.99899517, 5225.32658937,\n",
       "          5229.38013527, 5233.03922705, 5236.46347826, 5239.76266667,\n",
       "          5243.02231884, 5246.29594203, 5249.60867633, 5252.96063768,\n",
       "          5256.37155556, 5259.6731401 , 5263.02280193, 5266.53553623,\n",
       "          5270.10448309, 5273.6945314 , 5277.25051208, 5280.74639614,\n",
       "          5284.14523671, 5287.30724638, 5290.37457005, 5293.56268599,\n",
       "          5296.70554589, 5299.84670531, 5303.07594203, 5306.43312077,\n",
       "          5309.96687923, 5313.68415459, 5317.49878261, 5321.64850242,\n",
       "          5325.98398068, 5330.51097585, 5335.23230918, 5340.10436715,\n",
       "          5345.09971014, 5350.18751691, 5355.31402899, 5360.53371981,\n",
       "          5365.56645411, 5370.43916908, 5375.12753623, 5379.6272657 ,\n",
       "          5383.89424155, 5387.98069565, 5391.96405797, 5396.00034783,\n",
       "          5399.76801932, 5403.45998068, 5407.13344928, 5410.79609662,\n",
       "          5414.47810628, 5418.21248309, 5422.03766184, 5426.03725604,\n",
       "          5429.92830918, 5433.82108213, 5437.708657  , 5441.58166184,\n",
       "          5445.4257971 , 5449.23155556, 5452.97733333, 5456.66817391,\n",
       "          5460.23171014, 5463.67294686, 5466.99246377, 5470.18923671,\n",
       "          5473.24589372, 5476.19151691, 5479.05866667, 5481.87945894,\n",
       "          5484.55014493, 5487.11116908, 5489.56846377, 5491.9472657 ,\n",
       "          5494.26322705, 5496.52971981, 5498.74550725, 5500.91124638,\n",
       "          5502.92684058, 5504.90056039, 5506.79679227, 5508.62278261,\n",
       "          5510.36531401, 5512.03400966, 5513.62005797, 5515.13971014,\n",
       "          5516.60780676, 5517.94796135, 5519.192657  , 5520.36732367,\n",
       "          5521.49337198, 5522.57619324, 5523.62185507, 5524.63188406,\n",
       "          5525.6004058 , 5526.49418357, 5527.34419324, 5528.15636715,\n",
       "          5528.93596135, 5529.68736232, 5530.42361353, 5531.15180676,\n",
       "          5531.88997101, 5532.63557488, 5533.37256039, 5534.1025314 ,\n",
       "          5534.83022222, 5535.55872464, 5536.27971014, 5537.00231884,\n",
       "          5537.72166184, 5538.4381256 , 5539.13793237, 5539.83188406,\n",
       "          5540.50952657, 5541.16568116, 5541.81244444, 5542.44541063,\n",
       "          5543.06056039, 5543.683343  , 5544.27437681, 5544.86241546,\n",
       "          5545.43323671, 5545.98780676, 5546.53256039, 5547.06981643,\n",
       "          5547.60266667, 5548.13256039, 5548.65930435, 5549.16403865,\n",
       "          5549.65267633, 5550.11965217, 5550.56975845, 5550.99878261,\n",
       "          5551.41039614, 5551.80643478, 5552.1942029 , 5552.55744928,\n",
       "          5552.8973913 , 5553.21576812, 5553.5222029 , 5553.81248309,\n",
       "          5554.09516908, 5554.37470531, 5554.63925604, 5554.89800966,\n",
       "          5555.14116908, 5555.38475362, 5555.61869565, 5555.85039614,\n",
       "          5556.07075362, 5556.29524638, 5556.51313043, 5556.72604831,\n",
       "          5556.92122705, 5557.11497585, 5557.29713043, 5557.46483092,\n",
       "          5557.64429952, 5557.83064734, 5558.01937198, 5558.21105314,\n",
       "          5558.39674396, 5558.57969082, 5558.76574879, 5558.94896618,\n",
       "          5559.12358454, 5559.29603865, 5559.46076329, 5559.63292754,\n",
       "          5559.80135266, 5559.96349758, 5560.11685024, 5560.26131401,\n",
       "          5560.39679227, 5560.53049275, 5560.6527343 , 5560.77561353,\n",
       "          5560.89922705, 5561.02386473, 5561.13781643, 5561.26086957,\n",
       "          5561.39611594, 5561.52753623, 5561.66577778, 5561.80948792,\n",
       "          5561.95750725, 5562.09667633, 5562.2331401 , 5562.36573913,\n",
       "          5562.49331401, 5562.62200966, 5562.74597101, 5562.87642512,\n",
       "          5562.99818357, 5563.11555556, 5563.22815459, 5563.33337198,\n",
       "          5563.43120773, 5563.52185507, 5563.61058937, 5563.69818357,\n",
       "          5563.77849275, 5563.85045411, 5563.91319807, 5563.97824155,\n",
       "          5564.03818357, 5564.09823188, 5564.15572947, 5564.19405797,\n",
       "          5564.21263768, 5564.21597101, 5564.20894686, 5564.18725604,\n",
       "          5564.15675362, 5564.12145894, 5564.05441546, 5563.98455072,\n",
       "          5563.90485024, 5563.8037971 , 5563.70156522, 5563.59210628,\n",
       "          5563.47464734, 5563.35121739, 5563.22423188, 5563.08918841,\n",
       "          5562.95397101, 5562.814657  , 5562.67971014, 5562.54823188,\n",
       "          5562.42085024, 5562.28384541, 5562.14038647, 5561.98868599,\n",
       "          5561.83292754, 5561.6772657 , 5561.51366184, 5561.35566184,\n",
       "          5561.19972947, 5561.04702415, 5560.88390338, 5560.7448599 ,\n",
       "          5560.60622222, 5560.47548792, 5560.36707246, 5560.26122705,\n",
       "          5560.16181643, 5560.07682126, 5560.01364251, 5559.96710145,\n",
       "          5559.93874396, 5559.92953623, 5559.94475362, 5559.97709179,\n",
       "          5560.02231884, 5560.07308213, 5560.13942029, 5560.22104348,\n",
       "          5560.31466667, 5560.42861836, 5560.56372947, 5560.71105314,\n",
       "          5560.86633816, 5561.03002899, 5561.1952657 , 5561.35518841,\n",
       "          5561.50535266, 5561.65350725, 5561.78340097, 5561.89586473,\n",
       "          5561.99922705, 5562.09261836, 5562.17333333, 5562.23194203,\n",
       "          5562.26670531, 5562.28357488, 5562.28177778, 5562.25381643,\n",
       "          5562.20477295, 5562.13542029, 5562.05441546, 5561.97118841,\n",
       "          5561.87663768, 5561.77443478, 5561.66641546, 5561.55016425,\n",
       "          5561.42137198, 5561.28342029, 5561.14255072, 5560.99097585,\n",
       "          5560.82859903, 5560.66301449, 5560.48778744, 5560.3090628 ,\n",
       "          5560.11648309, 5559.92674396, 5559.73051208, 5559.51903382,\n",
       "          5559.29613527, 5559.06133333, 5558.81472464, 5558.54479227,\n",
       "          5558.2792657 , 5557.94695652, 5557.64361353, 5557.33252174,\n",
       "          5557.01165217, 5556.67466667, 5556.33511111, 5555.98050242,\n",
       "          5555.59874396, 5555.21184541, 5554.81800966, 5554.41341063,\n",
       "          5553.99441546, 5553.57688889, 5553.14780676, 5552.71833816,\n",
       "          5552.29234783, 5551.87611594, 5551.46131401, 5551.05389372,\n",
       "          5550.65472464, 5550.26448309, 5549.87876329, 5549.50007729,\n",
       "          5549.13785507, 5548.76722705, 5548.46467633, 5548.15911111,\n",
       "          5547.87333333, 5547.59312077, 5547.33028019, 5547.0767343 ,\n",
       "          5546.83360386, 5546.60403865, 5546.3763285 , 5546.16015459,\n",
       "          5545.94550725, 5545.73659903, 5545.52525604, 5545.32241546,\n",
       "          5545.12682126, 5544.93480193, 5544.74021256, 5544.54890821,\n",
       "          5544.35702415, 5544.16069565, 5543.95116908, 5543.73899517,\n",
       "          5543.52761353, 5543.308657  , 5543.07636715, 5542.84937198,\n",
       "          5542.61518841, 5542.37130435, 5542.1275942 , 5541.87742995,\n",
       "          5541.61945894, 5541.34052174, 5541.04206763, 5540.7352657 ,\n",
       "          5540.41198068, 5540.08585507, 5539.75364251, 5539.42428986,\n",
       "          5539.09963285, 5538.76950725, 5538.44063768, 5538.12216425,\n",
       "          5537.81122705, 5537.50743961, 5537.21041546, 5536.92218357,\n",
       "          5536.64477295, 5536.37049275, 5536.10365217, 5535.85097585,\n",
       "          5535.59010628, 5535.33957488, 5535.09111111, 5534.8411401 ,\n",
       "          5534.59078261, 5534.32407729, 5534.05147826, 5533.77855072,\n",
       "          5533.49638647, 5533.22027053, 5532.94376812, 5532.66774879,\n",
       "          5532.39308213, 5532.11333333, 5531.83648309, 5531.56320773,\n",
       "          5531.29418357, 5531.02030918, 5530.74917874, 5530.48088889,\n",
       "          5530.21775845, 5529.95702415, 5529.70531401, 5529.45686957,\n",
       "          5529.21773913, 5528.99130435, 5528.78075362, 5528.57936232,\n",
       "          5528.38732367, 5528.20202899, 5528.02289855, 5527.85138164,\n",
       "          5527.68123671, 5527.53244444, 5527.3884058 , 5527.25391304,\n",
       "          5527.13337198, 5527.01391304, 5526.90647343, 5526.79982609,\n",
       "          5526.69435749, 5526.59476329, 5526.512657  , 5526.4352657 ,\n",
       "          5526.36162319, 5526.29768116, 5526.24430918, 5526.19487923,\n",
       "          5526.15457005, 5526.11617391, 5526.0915942 , 5526.06834783,\n",
       "          5526.05064734, 5526.03762319, 5526.02090821, 5526.00635749,\n",
       "          5526.36874396, 5526.92398068, 5527.13279227, 5527.15124638,\n",
       "          5526.1124058 , 5525.17035749, 5525.01157488, 5524.64947826,\n",
       "          5524.09190338, 5523.35300483, 5522.46942995, 5521.27513043,\n",
       "          5520.72761353, 5519.47884058, 5518.10508213, 5517.45949758,\n",
       "          5516.87464734, 5516.43000966, 5515.62740097, 5515.57532367,\n",
       "          5515.25281159, 5515.47287923, 5516.05226409, 5516.82652174,\n",
       "          5517.76092754, 5518.34298108, 5518.59815435, 5518.7880954 ,\n",
       "          5518.77457197, 5519.79161836, 5521.07176654, 5521.53181938,\n",
       "          5521.86818869, 5522.13356057, 5522.47758783, 5522.92522734,\n",
       "          5523.6847896 , 5523.71214048, 5524.2921523 , 5525.74240959,\n",
       "          5526.43726985, 5527.37224998, 5527.2227123 , 5528.11161334,\n",
       "          5527.42589029, 5527.68830644, 5526.8441758 , 5525.78137276,\n",
       "          5525.29030312, 5524.52962066, 5523.00309592, 5521.44605296,\n",
       "          5519.99038041]),\n",
       "   'fitted_model': {'slope': np.float64(4765.7957627800615),\n",
       "    'intercept': np.float64(1316.1226069129264),\n",
       "    'fitted_y': array([5407.43158567, 5408.21070621, 5408.57429579, 5408.93788537,\n",
       "           5409.87283002, 5410.34030234, 5410.60000918, 5411.37912972,\n",
       "           5411.69077794, 5412.00242615, 5412.21019163, 5412.72960532,\n",
       "           5412.9373708 , 5413.0931949 , 5413.71649133, 5413.87231544,\n",
       "           5413.97619818, 5414.18396365, 5414.28784639, 5414.33978776,\n",
       "           5414.65143598, 5414.80726008, 5414.85920145, 5415.01502556,\n",
       "           5415.27473241, 5415.37861514, 5415.48249788, 5415.9499702 ,\n",
       "           5416.20967705, 5416.36550116, 5416.83297348, 5417.09268033,\n",
       "           5417.3004458 , 5417.92374223, 5418.18344908, 5418.28733181,\n",
       "           5418.91062824, 5419.17033509, 5419.3261592 , 5419.58586604,\n",
       "           5420.1572211 , 5420.46886932, 5420.88440027, 5421.66352081,\n",
       "           5422.02711039, 5422.33875861, 5423.16982051, 5423.63729283,\n",
       "           5424.10476516, 5425.24747528, 5425.81883034, 5426.3901854 ,\n",
       "           5427.01348183, 5428.26007469, 5428.83142975, 5429.40278481,\n",
       "           5430.38967082, 5430.85714314, 5431.22073273, 5432.05179463,\n",
       "           5432.51926695, 5432.7789738 , 5433.66197707, 5434.07750803,\n",
       "           5434.44109761, 5434.8046872 , 5435.68769047, 5435.94739732,\n",
       "           5436.15516279, 5436.72651785, 5437.03816607, 5437.29787291,\n",
       "           5437.71340387, 5437.97311071, 5438.18087619, 5438.64834851,\n",
       "           5438.85611399, 5439.11582083, 5439.37552768, 5439.58329315,\n",
       "           5439.73911726, 5439.89494137, 5440.36241369, 5440.62212054,\n",
       "           5440.82988601, 5441.3492997 , 5441.60900655, 5441.71288929,\n",
       "           5442.12842024, 5442.38812709, 5442.49200983, 5442.90754078,\n",
       "           5443.21918899, 5443.47889584, 5443.79054405, 5444.41384048,\n",
       "           5444.67354733, 5444.8813128 , 5445.5565506 , 5445.86819882,\n",
       "           5446.07596429, 5446.9070262 , 5447.37449852, 5447.73808811,\n",
       "           5448.51720864, 5448.9327396 , 5449.29632918, 5449.65991876,\n",
       "           5450.33515656, 5450.59486341, 5450.85457025, 5451.47786668,\n",
       "           5451.89339764, 5452.20504585, 5453.03610776, 5453.45163871,\n",
       "           5453.65940419, 5454.59434883, 5455.06182115, 5455.47735211,\n",
       "           5455.78900032, 5456.51617949, 5456.77588633, 5456.87976907,\n",
       "           5457.60694824, 5457.91859645, 5458.12636193, 5458.59383425,\n",
       "           5458.80159973, 5458.8535411 , 5459.26907205, 5459.47683753,\n",
       "           5459.684603  , 5460.25595806, 5460.61954765, 5460.93119586,\n",
       "           5461.13896134, 5461.97002325, 5462.33361283, 5462.64526104,\n",
       "           5463.52826432, 5463.99573664, 5464.30738486, 5465.08650539,\n",
       "           5465.39815361, 5465.60591908, 5466.22921551, 5466.54086373,\n",
       "           5466.80057057, 5467.37192563, 5467.73551522, 5468.0991048 ,\n",
       "           5468.35881165, 5469.08599082, 5469.55346314, 5469.91705272,\n",
       "           5471.11170421, 5471.68305927, 5472.15053159, 5472.77382802,\n",
       "           5473.86459677, 5474.22818636, 5474.59177594, 5475.57866196,\n",
       "           5476.09807565, 5476.5136066 , 5477.50049261, 5477.8640822 ,\n",
       "           5478.07184767, 5478.53932   , 5478.85096821, 5479.26649916,\n",
       "           5479.63008875, 5479.88979559, 5480.7208575 , 5481.18832982,\n",
       "           5481.60386077, 5481.86356762, 5482.64268816, 5483.05821911,\n",
       "           5483.47375006, 5484.2528706 , 5484.46063608, 5484.66840155,\n",
       "           5485.29169798, 5485.55140483, 5486.22664263, 5486.64217358,\n",
       "           5486.90188042, 5487.21352864, 5487.99264918, 5488.25235602,\n",
       "           5488.4601215 , 5489.03147656, 5489.34312477, 5489.49894888,\n",
       "           5490.17418668, 5490.43389352, 5490.641659  , 5491.10913132,\n",
       "           5491.36883817, 5491.57660364, 5491.78436912, 5492.6673724 ,\n",
       "           5492.97902061, 5493.23872746, 5494.06978936, 5494.38143758,\n",
       "           5494.58920305, 5495.16055811, 5495.57608907, 5495.83579591,\n",
       "           5496.25132687, 5497.08238877, 5497.39403699, 5497.65374383,\n",
       "           5498.48480574, 5498.90033669, 5499.16004354, 5500.14692955,\n",
       "           5500.61440187, 5500.97799146, 5502.06876021, 5502.64011527,\n",
       "           5503.10758759, 5503.52311854, 5504.45806319, 5504.82165277,\n",
       "           5505.23718372, 5505.86048015, 5506.01630426, 5506.22406974,\n",
       "           5506.58765932, 5506.74348343, 5507.15901438, 5507.4706626 ,\n",
       "           5507.52260397, 5507.73036944, 5508.3017245 , 5508.50948998,\n",
       "           5508.92502093, 5509.13278641, 5509.18472778, 5509.23666915,\n",
       "           5509.6522001 , 5509.75608284, 5509.85996558, 5510.3274379 ,\n",
       "           5510.58714474, 5510.63908611, 5511.1584998 , 5511.47014802,\n",
       "           5511.67791349, 5511.88567897, 5512.45703403, 5512.61285814,\n",
       "           5513.08033046, 5513.23615457, 5513.34003731, 5513.75556826,\n",
       "           5513.96333374, 5514.11915784, 5514.74245427, 5515.15798523,\n",
       "           5515.57351618, 5515.98904713, 5517.18369862, 5517.91087779,\n",
       "           5518.53417422, 5519.93659119, 5520.50794625, 5520.97541857,\n",
       "           5521.91036321, 5522.17007006, 5522.37783553, 5522.84530786,\n",
       "           5523.1050147 , 5523.31278018, 5523.57248702, 5524.19578345,\n",
       "           5524.35160756, 5524.55937304, 5525.33849357, 5525.75402453,\n",
       "           5526.22149685, 5527.62391382, 5528.50691709, 5529.59768584,\n",
       "           5532.29863704, 5533.44134716, 5534.11658496, 5534.84376412,\n",
       "           5536.09035698, 5536.50588793, 5536.97336026, 5537.70053942,\n",
       "           5538.01218764, 5538.37577722, 5539.20683913, 5539.62237008,\n",
       "           5539.9340183 , 5540.86896294, 5541.28449389, 5541.54420074,\n",
       "           5542.21943854, 5542.53108675, 5542.7907936 , 5542.99855907,\n",
       "           5543.51797277, 5543.77767961, 5543.88156235, 5544.55680015,\n",
       "           5544.86844836, 5545.02427247, 5545.80339301, 5546.16698259,\n",
       "           5546.47863081, 5546.79027902, 5547.56939956, 5547.77716503,\n",
       "           5548.08881325, 5548.91987515, 5549.28346474, 5549.49123022,\n",
       "           5550.01064391, 5550.27035075, 5550.42617486, 5550.73782307,\n",
       "           5550.84170581, 5550.89364718, 5551.25723677, 5551.56888498,\n",
       "           5551.67276772, 5551.82859183, 5552.39994689, 5552.7115951 ,\n",
       "           5553.07518468, 5553.90624659, 5554.26983617, 5554.47760165,\n",
       "           5555.20478082, 5555.62031177, 5555.98390136, 5556.60719778,\n",
       "           5556.918846  , 5557.07467011, 5557.49020106, 5558.21738023,\n",
       "           5558.52902844, 5558.89261803, 5559.46397309, 5559.72367993,\n",
       "           5559.82756267, 5560.50280047, 5560.71056595, 5560.81444868,\n",
       "           5561.38580374, 5561.8013347 , 5561.9571588 , 5562.42463113,\n",
       "           5562.78822071, 5562.99598619, 5563.3076344 , 5564.08675494,\n",
       "           5564.34646178, 5564.50228589, 5565.38528917, 5565.90470286,\n",
       "           5566.32023381, 5567.35906119, 5567.82653351, 5568.1901231 ,\n",
       "           5568.55371268, 5569.22895048, 5569.38477459, 5569.85224691,\n",
       "           5570.16389513, 5570.47554334, 5570.73525019, 5571.56631209,\n",
       "           5571.92990168, 5572.13766715, 5572.91678769, 5573.2284359 ,\n",
       "           5573.48814275, 5573.9036737 , 5574.31920466, 5574.47502876,\n",
       "           5574.78667698, 5575.87744573, 5576.34491805, 5576.96821448,\n",
       "           5578.1109246 , 5578.52645555, 5578.7861624 , 5579.51334157,\n",
       "           5580.03275526, 5580.2924621 , 5580.86381716, 5581.33128949,\n",
       "           5581.59099633, 5582.05846865, 5582.78564782, 5583.09729604,\n",
       "           5583.40894425, 5584.24000616, 5584.65553711, 5584.96718532,\n",
       "           5585.90212997, 5586.26571955, 5586.36960229, 5587.04484009,\n",
       "           5587.40842967, 5587.66813652, 5588.23949158, 5588.7069639 ,\n",
       "           5588.86278801, 5589.17443622, 5590.00549813, 5590.36908771,\n",
       "           5590.47297045, 5591.25209099, 5591.5637392 , 5591.82344605,\n",
       "           5592.55062522, 5592.9142148 , 5593.22586302, 5593.84915944,\n",
       "           5594.21274903, 5594.4205145 , 5594.57633861, 5595.30351778,\n",
       "           5595.56322463, 5595.66710736, 5596.29040379, 5596.65399338,\n",
       "           5596.80981748, 5597.48505528, 5597.84864487, 5597.95252761,\n",
       "           5598.26417582, 5599.04329636, 5599.35494457, 5599.56271005,\n",
       "           5600.39377195, 5600.70542017, 5601.17289249, 5601.43259934,\n",
       "           5601.69230618, 5601.74424755, 5602.26366124, 5602.52336809,\n",
       "           5602.57530946, 5603.09472315, 5603.45831273, 5603.82190232,\n",
       "           5604.1854919 , 5604.91267107, 5605.17237791, 5605.48402613,\n",
       "           5606.15926393, 5606.2112053 , 5606.3670294 , 5606.41897077,\n",
       "           5606.52285351, 5606.67867762, 5606.83450172, 5606.93838446,\n",
       "           5606.99032583, 5607.0422672 , 5607.40585679, 5607.45779815,\n",
       "           5607.66556363, 5607.82138774, 5607.87332911, 5607.92527048,\n",
       "           5607.97721185, 5608.08109458, 5608.28886006, 5608.3927428 ,\n",
       "           5608.49662554, 5608.54856691, 5608.60050828, 5608.70439101,\n",
       "           5608.75633238, 5608.80827375, 5608.86021512, 5608.91215649,\n",
       "           5608.96409786, 5609.01603923, 5609.0679806 , 5609.11992197,\n",
       "           5609.17186334, 5609.2238047 , 5609.27574607, 5609.32768744,\n",
       "           5609.37962881, 5609.43157018, 5609.48351155, 5609.53545292,\n",
       "           5609.79515976])}},\n",
       "  {'segment': 3,\n",
       "   'data_x': array([4.765, 4.773, 4.774, 4.787, 4.801, 4.805, 4.811, 4.817, 4.826,\n",
       "          4.831, 4.837, 4.841, 4.869, 4.881, 4.886, 4.903, 4.911, 4.922,\n",
       "          4.926, 4.942, 4.952, 4.957, 4.968, 4.97 , 4.971, 4.978, 4.981,\n",
       "          4.982, 4.997, 5.003, 5.01 , 5.016, 5.031, 5.034, 5.036, 5.055,\n",
       "          5.062, 5.068, 5.083, 5.092, 5.095, 5.109, 5.117, 5.122, 5.129,\n",
       "          5.141, 5.145, 5.155, 5.161, 5.165, 5.168, 5.18 , 5.184, 5.187,\n",
       "          5.194, 5.197, 5.204, 5.209, 5.213, 5.218, 5.229, 5.233, 5.234,\n",
       "          5.247, 5.252, 5.254, 5.265, 5.269, 5.273, 5.28 , 5.282, 5.286,\n",
       "          5.296, 5.299, 5.304, 5.312, 5.317, 5.318, 5.33 , 5.337, 5.339,\n",
       "          5.353, 5.358, 5.364, 5.37 , 5.38 , 5.383, 5.384, 5.398, 5.403,\n",
       "          5.407, 5.416, 5.422, 5.423, 5.432, 5.436, 5.438, 5.446, 5.45 ,\n",
       "          5.454, 5.455, 5.466, 5.469, 5.479, 5.484, 5.488, 5.494, 5.498,\n",
       "          5.5  , 5.504, 5.513, 5.515, 5.522, 5.526, 5.53 , 5.534, 5.547,\n",
       "          5.554, 5.556, 5.566, 5.571, 5.572, 5.576, 5.587, 5.588, 5.589,\n",
       "          5.591, 5.596, 5.601, 5.603, 5.618, 5.625, 5.629, 5.637, 5.641,\n",
       "          5.65 , 5.665, 5.669, 5.671, 5.687, 5.69 , 5.691, 5.694, 5.696,\n",
       "          5.698, 5.706, 5.71 , 5.713, 5.72 , 5.726, 5.732, 5.737, 5.746,\n",
       "          5.751, 5.753, 5.766, 5.774, 5.777, 5.79 , 5.796, 5.8  , 5.805,\n",
       "          5.814, 5.818, 5.828, 5.834, 5.84 , 5.844, 5.857, 5.862, 5.863,\n",
       "          5.875, 5.881, 5.887, 5.893, 5.908, 5.912, 5.915, 5.929, 5.934,\n",
       "          5.939, 5.952, 5.958, 5.959, 5.969, 5.975, 5.98 , 5.988, 5.994,\n",
       "          5.995, 6.   , 6.01 , 6.015, 6.02 , 6.03 , 6.032, 6.033, 6.039,\n",
       "          6.046, 6.048, 6.061, 6.069, 6.073, 6.076, 6.084, 6.085, 6.086,\n",
       "          6.096, 6.102, 6.105, 6.122, 6.132, 6.136, 6.154, 6.164, 6.171,\n",
       "          6.177, 6.185, 6.186, 6.187, 6.189, 6.19 , 6.192, 6.193, 6.196,\n",
       "          6.201, 6.208, 6.221, 6.225, 6.226, 6.238, 6.244, 6.254, 6.26 ,\n",
       "          6.264, 6.266, 6.278, 6.287, 6.294, 6.307, 6.313, 6.314, 6.32 ,\n",
       "          6.332, 6.336, 6.339, 6.35 , 6.357, 6.359, 6.37 , 6.374, 6.379,\n",
       "          6.387, 6.392, 6.396, 6.4  , 6.412, 6.415, 6.418, 6.429, 6.432,\n",
       "          6.441, 6.446, 6.447, 6.457, 6.462, 6.464, 6.468, 6.476, 6.477,\n",
       "          6.478, 6.484, 6.487, 6.489, 6.495, 6.497, 6.498, 6.506, 6.511,\n",
       "          6.514, 6.518, 6.529, 6.53 , 6.532, 6.541, 6.545, 6.547, 6.558,\n",
       "          6.564, 6.565, 6.574, 6.58 , 6.583, 6.589, 6.593, 6.595, 6.597,\n",
       "          6.606, 6.609, 6.61 , 6.619, 6.624, 6.633, 6.637, 6.641, 6.647,\n",
       "          6.652, 6.654, 6.661, 6.665, 6.668, 6.671, 6.68 , 6.685, 6.687,\n",
       "          6.697, 6.703, 6.707, 6.714, 6.717, 6.719, 6.72 , 6.727, 6.729,\n",
       "          6.732, 6.735, 6.738, 6.74 , 6.758, 6.767, 6.772, 6.787, 6.795,\n",
       "          6.801, 6.81 , 6.815, 6.819, 6.822, 6.833, 6.839, 6.842, 6.855,\n",
       "          6.861, 6.864, 6.875, 6.881, 6.886, 6.896, 6.903, 6.908, 6.917,\n",
       "          6.925, 6.928, 6.929, 6.941, 6.949, 6.953, 6.965, 6.971, 6.972,\n",
       "          6.977, 6.99 , 6.994, 6.995, 7.009, 7.013, 7.025, 7.029, 7.03 ,\n",
       "          7.04 , 7.046, 7.048, 7.061, 7.067, 7.07 , 7.082, 7.088, 7.09 ,\n",
       "          7.104, 7.108, 7.113, 7.12 , 7.126, 7.129, 7.132, 7.142, 7.145,\n",
       "          7.152, 7.158, 7.163, 7.165, 7.177, 7.181, 7.191, 7.195, 7.197,\n",
       "          7.208, 7.214, 7.218, 7.222, 7.236, 7.239, 7.252, 7.259, 7.264,\n",
       "          7.283, 7.289, 7.29 , 7.302, 7.311, 7.317, 7.326, 7.339, 7.34 ,\n",
       "          7.341, 7.352, 7.358, 7.359, 7.371, 7.376, 7.385, 7.39 , 7.392,\n",
       "          7.398, 7.413, 7.417, 7.424, 7.435, 7.441, 7.444, 7.452, 7.456,\n",
       "          7.465, 7.471, 7.476, 7.483, 7.501, 7.506, 7.511, 7.525, 7.528,\n",
       "          7.531, 7.547, 7.554, 7.558, 7.574, 7.582, 7.587, 7.594, 7.614,\n",
       "          7.619, 7.624, 7.633, 7.638, 7.651, 7.654, 7.657, 7.667, 7.674,\n",
       "          7.678, 7.684, 7.694, 7.696, 7.698, 7.706, 7.707, 7.708, 7.713,\n",
       "          7.718, 7.719, 7.73 , 7.736, 7.747, 7.748, 7.75 , 7.754, 7.755,\n",
       "          7.759, 7.765, 7.767, 7.768, 7.769, 7.77 , 7.771, 7.772, 7.773,\n",
       "          7.774, 7.775, 7.776, 7.777, 7.778, 7.78 , 7.792, 7.793, 7.798,\n",
       "          7.803, 7.804, 7.806, 7.81 , 7.815, 7.818, 7.827, 7.833, 7.838,\n",
       "          7.844, 7.858, 7.864, 7.866, 7.877, 7.882, 7.893, 7.898, 7.9  ,\n",
       "          7.911, 7.916, 7.921, 7.931, 7.937, 7.94 , 7.943, 7.955, 7.958,\n",
       "          7.959, 7.966, 7.967, 7.968, 7.972, 7.973, 7.974, 7.977, 7.98 ,\n",
       "          7.982, 7.983, 7.987, 7.989, 7.993, 7.994, 8.005, 8.01 , 8.017,\n",
       "          8.03 , 8.033, 8.036, 8.048, 8.05 , 8.051, 8.063, 8.068, 8.079,\n",
       "          8.085, 8.087, 8.099]),\n",
       "   'data_y': array([5518.63481805, 5517.38987623, 5516.28259321, 5515.43058832,\n",
       "          5514.88333286, 5514.68831803, 5514.77236056, 5515.07966659,\n",
       "          5515.71550863, 5516.66434783, 5517.99918841, 5519.02828986,\n",
       "          5520.2102029 , 5520.77468599, 5521.95914976, 5522.29963285,\n",
       "          5523.32541063, 5523.58245411, 5524.43487923, 5525.3493913 ,\n",
       "          5525.33872464, 5525.05872464, 5525.3781256 , 5525.71700483,\n",
       "          5526.03642512, 5526.37171014, 5526.74981643, 5527.2333913 ,\n",
       "          5527.78332367, 5528.42289855, 5529.18183575, 5530.05748792,\n",
       "          5531.08722705, 5532.29047343, 5533.64195169, 5535.14127536,\n",
       "          5536.83256039, 5538.62589372, 5540.50479227, 5542.45785507,\n",
       "          5544.48117874, 5546.58591304, 5548.76245411, 5550.9903285 ,\n",
       "          5553.22450242, 5555.51500483, 5557.84676329, 5560.21152657,\n",
       "          5562.58856039, 5565.01508213, 5567.50226087, 5570.04771981,\n",
       "          5572.64782609, 5575.25181643, 5577.85828019, 5580.41756522,\n",
       "          5582.98933333, 5585.66703382, 5588.43312077, 5591.34782609,\n",
       "          5594.29321739, 5597.15783575, 5600.00430918, 5602.80324638,\n",
       "          5605.57831884, 5608.36001932, 5611.15911111, 5614.06904348,\n",
       "          5616.96771014, 5619.90953623, 5622.89111111, 5625.93915942,\n",
       "          5629.07165217, 5632.34422222, 5635.77124638, 5639.34097585,\n",
       "          5643.14481159, 5646.91529469, 5650.71109179, 5654.54385507,\n",
       "          5658.50405797, 5662.584     , 5666.70970048, 5670.87095652,\n",
       "          5674.94305314, 5678.98305314, 5683.16382609, 5687.28502415,\n",
       "          5691.41540097, 5695.60168116, 5699.6830628 , 5703.71371981,\n",
       "          5707.85521739, 5712.4906087 , 5717.36918841, 5722.55638647,\n",
       "          5728.09568116, 5734.02320773, 5740.31173913, 5747.15252174,\n",
       "          5754.65838647, 5762.5011401 , 5752.0881256 , 5747.92185507,\n",
       "          5752.89602899, 5765.73366184, 5784.76045411, 5809.47845411,\n",
       "          5838.89030918, 5872.96251208, 5908.9944058 , 5947.72697585,\n",
       "          5988.89927536, 6029.80993237, 6068.92057005, 6103.5942029 ,\n",
       "          6135.07350725, 6162.69978744, 6185.443343  , 6204.0374686 ,\n",
       "          6218.89648309, 6230.17368116, 6237.56800966, 6240.64850242,\n",
       "          6238.83867633, 6231.1512657 , 6216.72368116, 6222.31103382,\n",
       "          6232.59342029, 6245.02191304, 6258.75046377, 6274.31169082,\n",
       "          6291.58750725, 6309.62324638, 6327.12685024, 6345.52910145,\n",
       "          6362.50887923, 6375.89781643, 6385.90356522, 6392.55957488,\n",
       "          6398.21724638, 6402.11327536, 6404.83305314, 6407.65683092,\n",
       "          6410.75104348, 6414.10521739, 6417.60138164, 6421.35619324,\n",
       "          6425.6693913 , 6430.18069565, 6434.91916908, 6439.91884058,\n",
       "          6445.23250242, 6450.98500483, 6456.51752657, 6462.26647343,\n",
       "          6468.39598068, 6474.05391304, 6479.89271498, 6485.7484058 ,\n",
       "          6491.59174879, 6497.40571981, 6503.20057971, 6509.0346087 ,\n",
       "          6514.82202899, 6520.19943961, 6525.30092754, 6530.31057005,\n",
       "          6535.41615459, 6540.76423188, 6546.3902029 , 6552.32792271,\n",
       "          6558.54854106, 6565.04942995, 6571.70129469, 6578.520657  ,\n",
       "          6585.51951691, 6592.71045411, 6600.11184541, 6607.77286957,\n",
       "          6615.66564251, 6623.70757488, 6631.74144928, 6639.41696618,\n",
       "          6647.96071498, 6655.91070531, 6663.75171014, 6671.41294686,\n",
       "          6678.82790338, 6685.75686957, 6692.86510145, 6700.03178744,\n",
       "          6707.22419324, 6714.33468599, 6721.31335266, 6728.18374879,\n",
       "          6734.92486957, 6741.55899517, 6747.89259903, 6753.98738164,\n",
       "          6759.81733333, 6765.39495652, 6770.76129469, 6775.97190338,\n",
       "          6780.99561353, 6785.85715942, 6790.284657  , 6794.48407729,\n",
       "          6799.18633816, 6802.65497585, 6806.85403865, 6811.32269565,\n",
       "          6815.022657  , 6818.67131401, 6822.26458937, 6825.61257005,\n",
       "          6828.85264734, 6831.99307246, 6835.06178744, 6838.06045411,\n",
       "          6840.96882126, 6843.78503382, 6846.58138164, 6849.14824155,\n",
       "          6851.59981643, 6853.97544928, 6856.29390338, 6858.59919807,\n",
       "          6860.89258937, 6863.15846377, 6865.47303382, 6867.80416425,\n",
       "          6870.25131401, 6872.64058937, 6875.40058937, 6877.77415459,\n",
       "          6879.50728502, 6881.72624155, 6884.01636715, 6886.3134686 ,\n",
       "          6888.61066667, 6890.89474396, 6893.16017391, 6895.41120773,\n",
       "          6897.67654106, 6899.99084058, 6902.29862802, 6904.52125604,\n",
       "          6906.67193237, 6908.76255072, 6910.85415459, 6912.94554589,\n",
       "          6915.02095652, 6917.10096618, 6919.13361353, 6921.024657  ,\n",
       "          6922.64901449, 6924.55381643, 6926.36681159, 6928.00658937,\n",
       "          6929.63550725, 6931.31499517, 6932.96292754, 6934.47742995,\n",
       "          6936.15554589, 6937.72769082, 6939.31257005, 6940.92081159,\n",
       "          6942.54014493, 6944.17843478, 6945.81736232, 6947.44369082,\n",
       "          6949.05398068, 6950.69474396, 6952.36488889, 6954.02629952,\n",
       "          6955.67922705, 6957.33312077, 6958.96343961, 6960.55777778,\n",
       "          6962.12083092, 6963.92794203, 6965.40193237, 6966.81909179,\n",
       "          6968.33837681, 6969.86993237, 6971.39843478, 6972.92883092,\n",
       "          6974.54740097, 6975.92193237, 6977.31022222, 6978.70235749,\n",
       "          6980.10535266, 6981.55035749, 6983.06674396, 6984.55142029,\n",
       "          6986.04861836, 6987.55145894, 6989.0650628 , 6990.60896618,\n",
       "          6992.18092754, 6993.78340097, 6995.4527343 , 6997.08245411,\n",
       "          6998.71766184, 7000.35424155, 7002.00216425, 7003.66142995,\n",
       "          7005.33184541, 7007.00330435, 7008.71172947, 7010.34063768,\n",
       "          7011.93248309, 7013.48069565, 7015.03936232, 7016.64183575,\n",
       "          7018.2306087 , 7019.83058937, 7021.43988406, 7023.05416425,\n",
       "          7024.6497971 , 7026.23225121, 7027.80229952, 7029.37310145,\n",
       "          7030.94867633, 7032.53381643, 7034.1293913 , 7035.70571981,\n",
       "          7037.25808696, 7038.7898744 , 7040.29323671, 7041.77068599,\n",
       "          7043.2302029 , 7044.66834783, 7046.08226087, 7047.42564251,\n",
       "          7048.77810628, 7050.09920773, 7051.37849275, 7052.64247343,\n",
       "          7053.88713043, 7055.13132367, 7056.37329469, 7057.62202899,\n",
       "          7058.84618357, 7060.04141063, 7061.21557488, 7062.3887343 ,\n",
       "          7063.5665314 , 7064.74488889, 7065.93153623, 7067.12892754,\n",
       "          7068.33422222, 7069.49777778, 7070.64825121, 7071.84678261,\n",
       "          7073.08610628, 7074.36079227, 7075.67416425, 7077.04299517,\n",
       "          7078.5222029 , 7079.95771981, 7081.40075362, 7082.93097585,\n",
       "          7084.5294686 , 7086.20732367, 7087.95497585, 7089.76411594,\n",
       "          7091.66927536, 7093.55930435, 7095.47443478, 7097.40320773,\n",
       "          7099.336     , 7101.26730435, 7103.19084058, 7105.10197101,\n",
       "          7107.04658937, 7108.88890821, 7110.71476329, 7112.54173913,\n",
       "          7114.29006763, 7115.97457005, 7117.67530435, 7119.46181643,\n",
       "          7121.25887923, 7123.0004058 , 7124.80299517, 7126.69862802,\n",
       "          7128.64231884, 7130.59764251, 7132.63729469, 7134.7669372 ,\n",
       "          7136.99107246, 7139.24508213, 7141.55938164, 7143.92919807,\n",
       "          7146.34168116, 7148.79781643, 7151.26892754, 7153.81084058,\n",
       "          7156.34438647, 7158.69731401, 7161.243343  , 7163.58846377,\n",
       "          7165.87103382, 7168.14195169, 7170.44154589, 7172.72742029,\n",
       "          7174.86318841, 7176.96301449, 7179.01762319, 7181.02353623,\n",
       "          7182.98554589, 7184.90471498, 7186.91002899, 7188.87455072,\n",
       "          7190.82071498, 7192.74023188, 7194.64716908, 7196.49998068,\n",
       "          7198.32150725, 7200.18193237, 7202.12989372, 7204.09397101,\n",
       "          7205.99252174, 7207.89182609, 7209.95406763, 7211.81057005,\n",
       "          7213.79130435, 7215.8014686 , 7217.93024155, 7220.07286957,\n",
       "          7222.22962319, 7224.47619324, 7226.76556522, 7229.11132367,\n",
       "          7231.52676329, 7234.01536232, 7236.58297585, 7239.23584541,\n",
       "          7241.93028019, 7244.58894686, 7247.25207729, 7249.97609662,\n",
       "          7252.8134686 , 7255.75348792, 7258.81965217, 7261.81978744,\n",
       "          7264.83342995, 7267.8810628 , 7270.93250242, 7273.96956522,\n",
       "          7276.98573913, 7279.99851208, 7283.06995169, 7285.98997101,\n",
       "          7288.82885024, 7291.58875362, 7294.27198068, 7296.81699517,\n",
       "          7299.20603865, 7301.65774879, 7304.53330435, 7307.28043478,\n",
       "          7310.00058937, 7312.7234686 , 7315.53736232, 7318.45776812,\n",
       "          7321.31259903, 7323.97301449, 7327.07220773, 7330.23375072,\n",
       "          7333.52200676, 7336.87685797, 7340.09693182, 7343.34955086,\n",
       "          7346.57559127, 7349.75185839, 7352.73062468, 7355.50184571,\n",
       "          7358.03214949, 7360.28800946, 7362.25794735, 7363.94072644,\n",
       "          7365.43939989, 7366.96630584, 7368.35806266, 7369.16190707,\n",
       "          7369.85888254, 7370.31376202, 7370.59676773, 7370.70185136,\n",
       "          7370.65038489, 7370.63301567, 7371.01423645, 7371.25601824,\n",
       "          7371.54213207, 7371.83792961, 7372.14952874, 7372.70632271,\n",
       "          7373.38014396, 7374.17641932, 7375.05503382, 7376.1289372 ,\n",
       "          7377.26463768, 7378.57790338, 7379.97719807, 7381.46574879,\n",
       "          7383.04398068, 7384.61142995, 7386.59503382, 7387.2975942 ,\n",
       "          7389.96442512, 7391.78333333, 7394.97354589, 7398.01602899,\n",
       "          7400.33805797, 7402.57490821, 7405.19707246, 7409.46445411,\n",
       "          7412.05885024, 7416.24615459, 7420.03655072, 7422.26668599,\n",
       "          7424.44235749, 7426.58444444, 7428.78920773, 7431.27074396,\n",
       "          7434.03740097, 7437.08554589, 7440.32514976, 7443.82591304,\n",
       "          7447.26545894, 7451.71377778, 7456.14905314, 7460.37628986,\n",
       "          7466.67856039, 7471.89385507, 7478.57096618, 7484.40525604,\n",
       "          7490.38480193, 7497.38714976, 7505.2102029 , 7513.63132367,\n",
       "          7520.3404058 , 7528.51972947, 7534.78964251, 7540.41851208,\n",
       "          7547.09201932, 7553.90883092, 7560.96078261, 7568.32193237]),\n",
       "   'fitted_model': {'slope': np.float64(4765.7957627800615),\n",
       "    'intercept': np.float64(1316.1226069129264),\n",
       "    'fitted_y': array([5611.27802649, 5616.35946073, 5616.99464002, 5625.25197066,\n",
       "           5634.14448058, 5636.68519771, 5640.49627339, 5644.30734907,\n",
       "           5650.02396259, 5653.199859  , 5657.01093468, 5659.5516518 ,\n",
       "           5677.33667165, 5684.95882301, 5688.13471941, 5698.93276718,\n",
       "           5704.01420142, 5711.00117351, 5713.54189063, 5723.70475911,\n",
       "           5730.05655192, 5733.23244832, 5740.2194204 , 5741.48977896,\n",
       "           5742.12495825, 5746.57121321, 5748.47675105, 5749.11193033,\n",
       "           5758.63961953, 5762.45069522, 5766.89695018, 5770.70802586,\n",
       "           5780.23571507, 5782.14125291, 5783.41161147, 5795.4800178 ,\n",
       "           5799.92627276, 5803.73734844, 5813.26503764, 5818.98165117,\n",
       "           5820.88718901, 5829.77969893, 5834.86113318, 5838.03702958,\n",
       "           5842.48328454, 5850.10543591, 5852.64615303, 5858.99794583,\n",
       "           5862.80902151, 5865.34973863, 5867.25527648, 5874.87742784,\n",
       "           5877.41814496, 5879.3236828 , 5883.76993776, 5885.67547561,\n",
       "           5890.12173057, 5893.29762697, 5895.83834409, 5899.01424049,\n",
       "           5906.00121258, 5908.5419297 , 5909.17710898, 5917.43443962,\n",
       "           5920.61033602, 5921.88069459, 5928.86766667, 5931.40838379,\n",
       "           5933.94910091, 5938.39535587, 5939.66571444, 5942.20643156,\n",
       "           5948.55822436, 5950.4637622 , 5953.6396586 , 5958.72109285,\n",
       "           5961.89698925, 5962.53216853, 5970.15431989, 5974.60057486,\n",
       "           5975.87093342, 5984.76344334, 5987.93933974, 5991.75041542,\n",
       "           5995.56149111, 6001.91328391, 6003.81882175, 6004.45400103,\n",
       "           6013.34651096, 6016.52240736, 6019.06312448, 6024.779738  ,\n",
       "           6028.59081369, 6029.22599297, 6034.94260649, 6037.48332361,\n",
       "           6038.75368217, 6043.83511641, 6046.37583354, 6048.91655066,\n",
       "           6049.55172994, 6056.53870202, 6058.44423986, 6064.79603267,\n",
       "           6067.97192907, 6070.51264619, 6074.32372187, 6076.86443899,\n",
       "           6078.13479755, 6080.67551467, 6086.3921282 , 6087.66248676,\n",
       "           6092.10874172, 6094.64945884, 6097.19017596, 6099.73089309,\n",
       "           6107.98822373, 6112.43447869, 6113.70483725, 6120.05663006,\n",
       "           6123.23252646, 6123.86770574, 6126.40842286, 6133.39539494,\n",
       "           6134.03057422, 6134.6657535 , 6135.93611207, 6139.11200847,\n",
       "           6142.28790487, 6143.55826343, 6153.08595264, 6157.5322076 ,\n",
       "           6160.07292472, 6165.15435896, 6167.69507608, 6173.41168961,\n",
       "           6182.93937881, 6185.48009593, 6186.75045449, 6196.91332298,\n",
       "           6198.81886082, 6199.4540401 , 6201.35957794, 6202.6299365 ,\n",
       "           6203.90029506, 6208.98172931, 6211.52244643, 6213.42798427,\n",
       "           6217.87423923, 6221.68531491, 6225.4963906 , 6228.672287  ,\n",
       "           6234.38890052, 6237.56479692, 6238.83515548, 6247.09248613,\n",
       "           6252.17392037, 6254.07945821, 6262.33678886, 6266.14786454,\n",
       "           6268.68858166, 6271.86447806, 6277.58109158, 6280.12180871,\n",
       "           6286.47360151, 6290.28467719, 6294.09575287, 6296.63647   ,\n",
       "           6304.89380064, 6308.06969704, 6308.70487632, 6316.32702769,\n",
       "           6320.13810337, 6323.94917905, 6327.76025473, 6337.28794394,\n",
       "           6339.82866106, 6341.7341989 , 6350.62670883, 6353.80260523,\n",
       "           6356.97850163, 6365.23583227, 6369.04690796, 6369.68208724,\n",
       "           6376.03388004, 6379.84495572, 6383.02085212, 6388.10228637,\n",
       "           6391.91336205, 6392.54854133, 6395.72443773, 6402.07623053,\n",
       "           6405.25212694, 6408.42802334, 6414.77981614, 6416.0501747 ,\n",
       "           6416.68535398, 6420.49642966, 6424.94268463, 6426.21304319,\n",
       "           6434.47037383, 6439.55180808, 6442.0925252 , 6443.99806304,\n",
       "           6449.07949728, 6449.71467656, 6450.34985584, 6456.70164864,\n",
       "           6460.51272433, 6462.41826217, 6473.21630993, 6479.56810274,\n",
       "           6482.10881986, 6493.54204691, 6499.89383971, 6504.34009467,\n",
       "           6508.15117035, 6513.2326046 , 6513.86778388, 6514.50296316,\n",
       "           6515.77332172, 6516.408501  , 6517.67885956, 6518.31403884,\n",
       "           6520.21957668, 6523.39547308, 6527.84172804, 6536.09905869,\n",
       "           6538.63977581, 6539.27495509, 6546.89710646, 6550.70818214,\n",
       "           6557.05997494, 6560.87105062, 6563.41176774, 6564.68212631,\n",
       "           6572.30427767, 6578.02089119, 6582.46714616, 6590.7244768 ,\n",
       "           6594.53555248, 6595.17073176, 6598.98180744, 6606.60395881,\n",
       "           6609.14467593, 6611.05021377, 6618.03718586, 6622.48344082,\n",
       "           6623.75379938, 6630.74077146, 6633.28148858, 6636.45738499,\n",
       "           6641.53881923, 6644.71471563, 6647.25543275, 6649.79614987,\n",
       "           6657.41830124, 6659.32383908, 6661.22937692, 6668.216349  ,\n",
       "           6670.12188684, 6675.83850037, 6679.01439677, 6679.64957605,\n",
       "           6686.00136885, 6689.17726525, 6690.44762382, 6692.98834094,\n",
       "           6698.06977518, 6698.70495446, 6699.34013374, 6703.15120942,\n",
       "           6705.05674726, 6706.32710582, 6710.13818151, 6711.40854007,\n",
       "           6712.04371935, 6717.12515359, 6720.30104999, 6722.20658783,\n",
       "           6724.74730495, 6731.73427704, 6732.36945632, 6733.63981488,\n",
       "           6739.3564284 , 6741.89714552, 6743.16750409, 6750.15447617,\n",
       "           6753.96555185, 6754.60073113, 6760.31734465, 6764.12842034,\n",
       "           6766.03395818, 6769.84503386, 6772.38575098, 6773.65610954,\n",
       "           6774.9264681 , 6780.64308163, 6782.54861947, 6783.18379875,\n",
       "           6788.90041227, 6792.07630867, 6797.7929222 , 6800.33363932,\n",
       "           6802.87435644, 6806.68543212, 6809.86132852, 6811.13168708,\n",
       "           6815.57794205, 6818.11865917, 6820.02419701, 6821.92973485,\n",
       "           6827.64634837, 6830.82224477, 6832.09260333, 6838.44439614,\n",
       "           6842.25547182, 6844.79618894, 6849.2424439 , 6851.14798175,\n",
       "           6852.41834031, 6853.05351959, 6857.49977455, 6858.77013311,\n",
       "           6860.67567095, 6862.58120879, 6864.48674663, 6865.75710519,\n",
       "           6877.19033224, 6882.90694576, 6886.08284217, 6895.61053137,\n",
       "           6900.69196561, 6904.5030413 , 6910.21965482, 6913.39555122,\n",
       "           6915.93626834, 6917.84180618, 6924.82877827, 6928.63985395,\n",
       "           6930.54539179, 6938.80272243, 6942.61379812, 6944.51933596,\n",
       "           6951.50630804, 6955.31738372, 6958.49328013, 6964.84507293,\n",
       "           6969.29132789, 6972.46722429, 6978.18383782, 6983.26527206,\n",
       "           6985.1708099 , 6985.80598918, 6993.42814055, 6998.50957479,\n",
       "           7001.05029191, 7008.67244327, 7012.48351896, 7013.11869824,\n",
       "           7016.29459464, 7024.55192528, 7027.0926424 , 7027.72782168,\n",
       "           7036.62033161, 7039.16104873, 7046.78320009, 7049.32391722,\n",
       "           7049.9590965 , 7056.3108893 , 7060.12196498, 7061.39232354,\n",
       "           7069.64965419, 7073.46072987, 7075.36626771, 7082.98841908,\n",
       "           7086.79949476, 7088.06985332, 7096.96236324, 7099.50308036,\n",
       "           7102.67897677, 7107.12523173, 7110.93630741, 7112.84184525,\n",
       "           7114.74738309, 7121.0991759 , 7123.00471374, 7127.4509687 ,\n",
       "           7131.26204438, 7134.43794078, 7135.70829934, 7143.33045071,\n",
       "           7145.87116783, 7152.22296063, 7154.76367776, 7156.03403632,\n",
       "           7163.0210084 , 7166.83208408, 7169.3728012 , 7171.91351832,\n",
       "           7180.80602825, 7182.71156609, 7190.96889674, 7195.4151517 ,\n",
       "           7198.5910481 , 7210.65945443, 7214.47053011, 7215.10570939,\n",
       "           7222.72786075, 7228.44447428, 7232.25554996, 7237.97216348,\n",
       "           7246.22949413, 7246.86467341, 7247.49985269, 7254.48682477,\n",
       "           7258.29790045, 7258.93307973, 7266.5552311 , 7269.7311275 ,\n",
       "           7275.44774102, 7278.62363742, 7279.89399599, 7283.70507167,\n",
       "           7293.23276087, 7295.77347799, 7300.21973296, 7307.20670504,\n",
       "           7311.01778072, 7312.92331856, 7318.00475281, 7320.54546993,\n",
       "           7326.26208345, 7330.07315913, 7333.24905554, 7337.6953105 ,\n",
       "           7349.12853754, 7352.30443395, 7355.48033035, 7364.37284027,\n",
       "           7366.27837811, 7368.18391595, 7378.34678444, 7382.7930394 ,\n",
       "           7385.33375652, 7395.49662501, 7400.57805925, 7403.75395565,\n",
       "           7408.20021062, 7420.90379622, 7424.07969263, 7427.25558903,\n",
       "           7432.97220255, 7436.14809895, 7444.4054296 , 7446.31096744,\n",
       "           7448.21650528, 7454.56829808, 7459.01455305, 7461.55527017,\n",
       "           7465.36634585, 7471.71813865, 7472.98849721, 7474.25885577,\n",
       "           7479.34029002, 7479.9754693 , 7480.61064858, 7483.78654498,\n",
       "           7486.96244138, 7487.59762066, 7494.58459275, 7498.39566843,\n",
       "           7505.38264051, 7506.01781979, 7507.28817835, 7509.82889547,\n",
       "           7510.46407475, 7513.00479188, 7516.81586756, 7518.08622612,\n",
       "           7518.7214054 , 7519.35658468, 7519.99176396, 7520.62694324,\n",
       "           7521.26212252, 7521.8973018 , 7522.53248108, 7523.16766036,\n",
       "           7523.80283964, 7524.43801892, 7525.0731982 , 7526.34355676,\n",
       "           7533.96570813, 7534.60088741, 7537.77678381, 7540.95268021,\n",
       "           7541.58785949, 7542.85821805, 7545.39893517, 7548.57483158,\n",
       "           7550.48036942, 7556.19698294, 7560.00805862, 7563.18395502,\n",
       "           7566.99503071, 7575.88754063, 7579.69861631, 7580.96897487,\n",
       "           7587.95594696, 7591.13184336, 7598.11881544, 7601.29471185,\n",
       "           7602.56507041, 7609.55204249, 7612.72793889, 7615.90383529,\n",
       "           7622.2556281 , 7626.06670378, 7627.97224162, 7629.87777946,\n",
       "           7637.49993083, 7639.40546867, 7640.04064795, 7644.48690291,\n",
       "           7645.12208219, 7645.75726147, 7648.29797859, 7648.93315787,\n",
       "           7649.56833715, 7651.47387499, 7653.37941283, 7654.64977139,\n",
       "           7655.28495068, 7657.8256678 , 7659.09602636, 7661.63674348,\n",
       "           7662.27192276, 7669.25889484, 7672.43479124, 7676.88104621,\n",
       "           7685.13837685, 7687.04391469, 7688.94945253, 7696.5716039 ,\n",
       "           7697.84196246, 7698.47714174, 7706.0992931 , 7709.27518951,\n",
       "           7716.26216159, 7720.07323727, 7721.34359583, 7728.9657472 ])}},\n",
       "  {'segment': 4,\n",
       "   'data_x': array([ 8.105,  8.106,  8.111,  8.124,  8.129,  8.133,  8.142,  8.147,\n",
       "           8.148,  8.162,  8.167,  8.168,  8.179,  8.186,  8.191,  8.2  ,\n",
       "           8.205,  8.206,  8.207,  8.222,  8.225,  8.229,  8.237,  8.242,\n",
       "           8.251,  8.256,  8.26 ,  8.264,  8.273,  8.276,  8.278,  8.287,\n",
       "           8.292,  8.295,  8.302,  8.307,  8.316,  8.322,  8.324,  8.329,\n",
       "           8.343,  8.348,  8.358,  8.365,  8.371,  8.374,  8.389,  8.396,\n",
       "           8.399,  8.412,  8.416,  8.42 ,  8.425,  8.437,  8.441,  8.453,\n",
       "           8.456,  8.463,  8.466,  8.475,  8.48 ,  8.481,  8.485,  8.498,\n",
       "           8.502,  8.507,  8.517,  8.52 ,  8.521,  8.535,  8.54 ,  8.542,\n",
       "           8.553,  8.558,  8.567,  8.573,  8.579,  8.583,  8.593,  8.598,\n",
       "           8.604,  8.617,  8.622,  8.625,  8.639,  8.646,  8.648,  8.66 ,\n",
       "           8.666,  8.671,  8.683,  8.686,  8.688,  8.7  ,  8.704,  8.713,\n",
       "           8.717,  8.725,  8.73 ,  8.734,  8.738,  8.751,  8.754,  8.759,\n",
       "           8.77 ,  8.772,  8.773,  8.782,  8.789,  8.79 ,  8.802,  8.807,\n",
       "           8.81 ,  8.815,  8.831,  8.836,  8.844,  8.862,  8.867,  8.871,\n",
       "           8.881,  8.886,  8.888,  8.902,  8.909,  8.913,  8.924,  8.931,\n",
       "           8.935,  8.94 ,  8.952,  8.956,  8.962,  8.973,  8.979,  8.984,\n",
       "           8.993,  8.998,  9.009,  9.015,  9.022,  9.037,  9.041,  9.046,\n",
       "           9.058,  9.065,  9.067,  9.079,  9.084,  9.085,  9.096,  9.102,\n",
       "           9.108,  9.115,  9.132,  9.138,  9.144,  9.161,  9.166,  9.167,\n",
       "           9.182,  9.189,  9.19 ,  9.201,  9.208,  9.212,  9.217,  9.229,\n",
       "           9.233,  9.238,  9.25 ,  9.256,  9.263,  9.275,  9.282,  9.293,\n",
       "           9.297,  9.298,  9.307,  9.314,  9.315,  9.321,  9.335,  9.339,\n",
       "           9.343,  9.351,  9.357,  9.359,  9.374,  9.38 ,  9.385,  9.397,\n",
       "           9.403,  9.407,  9.416,  9.419,  9.423,  9.428,  9.437,  9.442,\n",
       "           9.453,  9.457,  9.458,  9.464,  9.469,  9.474,  9.478,  9.49 ,\n",
       "           9.494,  9.502,  9.507,  9.512,  9.524,  9.53 ,  9.535,  9.545,\n",
       "           9.551,  9.555,  9.56 ,  9.575,  9.579,  9.581,  9.601,  9.609,\n",
       "           9.616,  9.634,  9.641,  9.646,  9.668,  9.675,  9.683,  9.696,\n",
       "           9.702,  9.704,  9.707,  9.721,  9.723,  9.724,  9.729,  9.732,\n",
       "           9.747,  9.754,  9.758,  9.764,  9.769,  9.774,  9.779,  9.793,\n",
       "           9.799,  9.801,  9.817,  9.824,  9.826,  9.84 ,  9.847,  9.849,\n",
       "           9.862,  9.868,  9.872,  9.877,  9.89 ,  9.895,  9.896,  9.911,\n",
       "           9.916,  9.917,  9.929,  9.93 ,  9.932,  9.94 ,  9.947,  9.948,\n",
       "           9.954,  9.968,  9.972,  9.973,  9.984,  9.99 ,  9.995, 10.008,\n",
       "          10.011, 10.012, 10.019, 10.024, 10.028, 10.039, 10.045, 10.046,\n",
       "          10.05 , 10.066, 10.074, 10.08 , 10.094, 10.101, 10.104, 10.116,\n",
       "          10.122, 10.127, 10.138, 10.143, 10.148, 10.151, 10.163, 10.169,\n",
       "          10.17 , 10.18 , 10.184, 10.194, 10.2  , 10.207, 10.222, 10.227,\n",
       "          10.239, 10.246, 10.252, 10.253, 10.263, 10.267, 10.269, 10.283,\n",
       "          10.292, 10.293, 10.304, 10.314, 10.319, 10.325, 10.341, 10.345,\n",
       "          10.346, 10.359, 10.365, 10.366, 10.382, 10.388, 10.39 , 10.405,\n",
       "          10.414, 10.419, 10.43 , 10.437, 10.442, 10.449, 10.459, 10.463,\n",
       "          10.468, 10.479, 10.485, 10.486, 10.498, 10.505, 10.51 , 10.516,\n",
       "          10.529, 10.531, 10.532, 10.546, 10.55 , 10.554, 10.563, 10.569,\n",
       "          10.571, 10.582, 10.589, 10.592, 10.604, 10.61 , 10.616, 10.621,\n",
       "          10.633, 10.636, 10.639, 10.648, 10.653, 10.657, 10.668, 10.67 ,\n",
       "          10.672, 10.674, 10.687, 10.69 , 10.7  , 10.706, 10.711, 10.714,\n",
       "          10.727, 10.732, 10.733, 10.745, 10.752, 10.753, 10.764, 10.77 ,\n",
       "          10.773, 10.778, 10.792, 10.799, 10.805, 10.82 , 10.825, 10.837,\n",
       "          10.842, 10.843, 10.853, 10.859, 10.863, 10.867, 10.875, 10.876,\n",
       "          10.887, 10.894, 10.896, 10.908, 10.915, 10.926, 10.931, 10.934,\n",
       "          10.94 , 10.944, 10.949, 10.954, 10.968, 10.972, 10.973, 10.981,\n",
       "          10.988, 10.997, 11.008, 11.013, 11.017, 11.031, 11.038, 11.057,\n",
       "          11.067, 11.075, 11.079, 11.093, 11.096, 11.097, 11.107, 11.114,\n",
       "          11.118, 11.129, 11.151, 11.157, 11.164, 11.185, 11.193, 11.199,\n",
       "          11.219, 11.225, 11.238, 11.242, 11.257, 11.264, 11.269, 11.276,\n",
       "          11.293, 11.299, 11.304, 11.317, 11.324, 11.331, 11.35 , 11.357,\n",
       "          11.358, 11.37 , 11.377, 11.378, 11.382, 11.396, 11.4  , 11.404,\n",
       "          11.416, 11.424, 11.426, 11.44 , 11.45 , 11.452, 11.468, 11.477,\n",
       "          11.483, 11.489, 11.501, 11.505, 11.509, 11.52 , 11.521, 11.531,\n",
       "          11.536, 11.537, 11.545, 11.551, 11.553, 11.561, 11.584, 11.588,\n",
       "          11.59 , 11.605, 11.61 , 11.615, 11.628, 11.63 , 11.642, 11.648,\n",
       "          11.65 , 11.667, 11.677, 11.683, 11.69 , 11.707, 11.713, 11.717,\n",
       "          11.734, 11.742, 11.75 , 11.764, 11.771, 11.773, 11.784, 11.789,\n",
       "          11.794, 11.799, 11.813, 11.817, 11.818, 11.828, 11.834, 11.838,\n",
       "          11.846, 11.851, 11.855, 11.867, 11.874, 11.88 , 11.887, 11.904,\n",
       "          11.909, 11.912, 11.927, 11.934, 11.936, 11.951, 11.959, 11.962,\n",
       "          11.98 , 11.988, 11.995, 12.012, 12.023, 12.027, 12.031, 12.052,\n",
       "          12.059, 12.061, 12.075, 12.08 , 12.081, 12.093, 12.099, 12.104,\n",
       "          12.115, 12.122, 12.13 , 12.138, 12.161, 12.168, 12.175, 12.185,\n",
       "          12.19 , 12.195, 12.206, 12.212, 12.217, 12.231, 12.24 , 12.247,\n",
       "          12.251, 12.269, 12.274, 12.284, 12.289, 12.295, 12.306, 12.307,\n",
       "          12.309, 12.314, 12.317, 12.321, 12.328, 12.332, 12.337, 12.35 ,\n",
       "          12.356, 12.363, 12.381, 12.391, 12.395, 12.41 , 12.417, 12.423]),\n",
       "   'data_y': array([ 7576.09837681,  7583.92815459,  7591.85704348,  7599.87978744,\n",
       "           7607.97928502,  7616.61839614,  7624.56742029,  7632.87528502,\n",
       "           7641.57621256,  7650.38921739,  7659.27737198,  7668.02943961,\n",
       "           7676.65764251,  7685.48972947,  7694.57429952,  7704.11079227,\n",
       "           7713.45849275,  7722.80433816,  7732.19341063,  7741.67790338,\n",
       "           7751.20475362,  7760.77274396,  7770.35437681,  7779.87245411,\n",
       "           7789.41574879,  7798.79200966,  7808.22664734,  7817.71713043,\n",
       "           7827.25760386,  7836.81413527,  7846.35246377,  7856.21709179,\n",
       "           7866.04515942,  7875.5187343 ,  7884.86471498,  7894.09137198,\n",
       "           7903.52778744,  7895.53974879,  7895.44054106,  7903.6218744 ,\n",
       "           7918.97582609,  7939.46590338,  7965.42941063,  7996.24294686,\n",
       "           8032.19310145,  8071.87071498,  8114.40912077,  8159.40855072,\n",
       "           8205.57464734,  8253.38482126,  8300.19590338,  8345.82474396,\n",
       "           8389.45800966,  8430.65100483,  8468.36508213,  8501.91796135,\n",
       "           8530.08486957,  8552.30920773,  8567.85203865,  8575.92480193,\n",
       "           8575.76819324,  8566.56327536,  8574.32052174,  8581.91171981,\n",
       "           8588.23694686,  8592.93995169,  8597.92950725,  8602.864657  ,\n",
       "           8608.04921739,  8612.44823188,  8616.74237681,  8620.95528502,\n",
       "           8624.68890821,  8628.71230918,  8631.57522705,  8634.8971401 ,\n",
       "           8638.32813527,  8642.18448309,  8646.11068599,  8650.312657  ,\n",
       "           8654.72525604,  8659.30301449,  8663.9674686 ,  8668.66925604,\n",
       "           8673.48300483,  8678.24823188,  8683.03971981,  8687.71793237,\n",
       "           8692.18269565,  8696.42110145,  8700.46760386,  8704.35283092,\n",
       "           8707.98358454,  8711.28398068,  8714.76107246,  8717.64069565,\n",
       "           8720.23436715,  8722.67426087,  8725.06561353,  8727.60208696,\n",
       "           8730.15796135,  8732.90908213,  8735.76561353,  8738.71557488,\n",
       "           8741.75923671,  8744.91748792,  8748.22636715,  8751.82353623,\n",
       "           8755.88944928,  8760.15627053,  8764.68541063,  8769.41785507,\n",
       "           8774.3693913 ,  8779.55569082,  8784.95213527,  8790.5331401 ,\n",
       "           8796.30964251,  8802.1173913 ,  8808.10193237,  8813.67209662,\n",
       "           8819.33690821,  8825.02657005,  8830.73227053,  8836.42527536,\n",
       "           8841.89304348,  8847.2285314 ,  8852.29638647,  8857.11742995,\n",
       "           8861.75082126,  8866.41839614,  8871.15522705,  8876.15969082,\n",
       "           8881.21650242,  8886.15285024,  8891.15190338,  8896.28964251,\n",
       "           8901.62133333,  8907.1865314 ,  8912.99192271,  8919.21101449,\n",
       "           8925.62427053,  8932.00057971,  8938.44662802,  8944.9524058 ,\n",
       "           8951.50104348,  8958.06372947,  8964.63831884,  8971.19625121,\n",
       "           8977.85588406,  8984.30249275,  8990.50971981,  8996.6961256 ,\n",
       "           9002.98001932,  9009.50355556,  9016.15880193,  9022.98436715,\n",
       "           9029.92318841,  9036.88098551,  9043.8589372 ,  9050.83675362,\n",
       "           9057.84637681,  9064.93963285,  9071.90954589,  9078.89978744,\n",
       "           9085.80083092,  9094.00204831,  9101.71795169,  9109.63963285,\n",
       "           9117.73696618,  9125.99238647,  9134.41153623,  9143.02463768,\n",
       "           9152.16488889,  9161.18983575,  9170.36655072,  9179.7582029 ,\n",
       "           9189.37540097,  9199.25203865,  9209.42456039,  9219.93143961,\n",
       "           9231.10206763,  9242.17437681,  9231.10682126,  9227.90486957,\n",
       "           9231.28570048,  9246.3145314 ,  9266.94307246,  9299.14982609,\n",
       "           9341.15433816,  9396.70841546,  9453.69799034,  9515.23349758,\n",
       "           9574.63290821,  9638.45834783,  9703.58307246,  9769.182     ,\n",
       "           9834.84009662,  9899.35531401,  9962.1767343 , 10021.35170048,\n",
       "          10075.43161353, 10123.52775845, 10164.40129469, 10196.78675362,\n",
       "          10219.3010628 , 10230.42389372, 10228.68805797, 10245.90169082,\n",
       "          10262.51538164, 10281.60364251, 10298.33938164, 10319.64945894,\n",
       "          10340.72720773, 10362.55922705, 10376.76330435, 10390.87201932,\n",
       "          10375.72827053, 10383.31810628, 10399.30096618, 10424.5334686 ,\n",
       "          10458.92811594, 10499.46343961, 10549.53091787, 10602.18618357,\n",
       "          10657.02378744, 10711.7901256 , 10765.77775845, 10816.23904348,\n",
       "          10865.63543961, 10912.65684058, 10956.07482126, 10995.60663768,\n",
       "          11030.30168116, 11059.76097585, 11083.36342029, 11100.74986473,\n",
       "          11111.92993237, 11115.92911111, 11111.67920773, 11099.50986473,\n",
       "          11079.08191304, 11090.42172947, 11098.90378744, 11109.56070531,\n",
       "          11122.37192271, 11136.46771981, 11153.2094686 , 11166.06138164,\n",
       "          11177.9596715 , 11187.93942995, 11197.22641546, 11205.47054106,\n",
       "          11215.56695652, 11225.12798068, 11234.27180676, 11242.83217391,\n",
       "          11251.31555556, 11258.56226087, 11264.95406763, 11270.57018357,\n",
       "          11275.82844444, 11280.61242512, 11285.38751691, 11290.27824155,\n",
       "          11295.35209662, 11300.6377971 , 11306.1338744 , 11311.86382609,\n",
       "          11317.60573913, 11324.12496618, 11330.3706087 , 11336.59978744,\n",
       "          11342.77578744, 11348.83630918, 11354.72452174, 11360.42761353,\n",
       "          11365.99936232, 11371.47696618, 11376.76324638, 11381.89990338,\n",
       "          11387.00498551, 11390.98716908, 11394.99308213, 11398.88243478,\n",
       "          11402.87184541, 11407.14117874, 11411.61097585, 11416.75729469,\n",
       "          11422.34144928, 11428.36803865, 11434.84313043, 11441.7835942 ,\n",
       "          11449.17829952, 11457.34817391, 11465.23237681, 11473.4661256 ,\n",
       "          11481.79676329, 11490.22086957, 11498.91191304, 11507.8171401 ,\n",
       "          11516.86058937, 11526.13916908, 11535.26176812, 11543.99495652,\n",
       "          11552.38949758, 11560.53263768, 11568.53175845, 11576.47704348,\n",
       "          11584.4558744 , 11592.5057971 , 11600.73699517, 11608.89188406,\n",
       "          11616.61311111, 11624.04554589, 11631.17411594, 11637.99250242,\n",
       "          11644.48383575, 11650.63269565, 11656.54719807, 11662.14498551,\n",
       "          11667.47136232, 11672.73476329, 11678.08755556, 11683.41797101,\n",
       "          11688.77055072, 11694.17998068, 11699.40077295, 11704.76788406,\n",
       "          11710.1108599 , 11715.39750725, 11720.65472464, 11725.95690821,\n",
       "          11731.28898551, 11736.60900483, 11741.87105314, 11746.99026087,\n",
       "          11751.94388406, 11756.75238647, 11761.41957488, 11765.97634783,\n",
       "          11770.42278261, 11774.57849275, 11779.14687923, 11783.15310145,\n",
       "          11787.05942029, 11791.00701449, 11794.8832657 , 11798.7247343 ,\n",
       "          11802.57341063, 11806.45741063, 11810.37878261, 11814.38119807,\n",
       "          11818.29514976, 11822.29161353, 11826.27399034, 11830.21712077,\n",
       "          11834.10813527, 11837.92657005, 11841.69503382, 11845.42156522,\n",
       "          11848.94415459, 11852.44083092, 11855.80705314, 11858.96477295,\n",
       "          11862.29648309, 11865.372657  , 11868.64742029, 11871.33402899,\n",
       "          11874.13555556, 11876.94135266, 11879.53549758, 11882.05536232,\n",
       "          11884.5204058 , 11886.94689855, 11889.33553623, 11891.70496618,\n",
       "          11894.03571014, 11896.37644444, 11898.56510145, 11900.67509179,\n",
       "          11902.73489855, 11904.7629372 , 11906.77016425, 11908.72819324,\n",
       "          11910.67018357, 11912.68403865, 11914.55147826, 11916.38684058,\n",
       "          11918.43491787, 11920.24390338, 11922.20668599, 11924.20307246,\n",
       "          11926.25414493, 11928.42257005, 11930.324     , 11932.63868599,\n",
       "          11934.78985507, 11937.01777778, 11939.316657  , 11941.67808696,\n",
       "          11944.0934686 , 11946.51731401, 11948.94886957, 11951.42519807,\n",
       "          11953.92794203, 11956.4297971 , 11958.89184541, 11961.28971981,\n",
       "          11963.69868599, 11965.91331401, 11968.25084058, 11970.38890821,\n",
       "          11972.5210628 , 11974.59646377, 11976.63677295, 11978.60713043,\n",
       "          11980.56092754, 11982.53623188, 11984.42757488, 11986.63317874,\n",
       "          11988.49884058, 11990.56915942, 11992.70952657, 11995.01082126,\n",
       "          11997.2257971 , 11999.86836715, 12002.42086957, 12005.05136232,\n",
       "          12007.71609662, 12010.33528502, 12012.96533333, 12015.62394203,\n",
       "          12018.5141256 , 12021.34981643, 12024.21109179, 12026.71219324,\n",
       "          12029.40915942, 12032.02956522, 11999.57829952, 11986.93322705,\n",
       "          11980.74303382, 11989.05917874, 12011.88301449, 12047.50802899,\n",
       "          12096.13360386, 12156.19827053, 12226.98991304, 12302.28399034,\n",
       "          12384.71795169, 12473.88256039, 12569.11928502, 12668.17678261,\n",
       "          12768.31261836, 12867.03535266, 12962.43913043, 13053.27030918,\n",
       "          13135.84200966, 13208.23583575, 13268.20807729, 13313.76584541,\n",
       "          13342.76790338, 13353.24319807, 13343.9410628 , 13366.33666667,\n",
       "          13379.20303382, 13396.31601932, 13412.46245411, 13427.11773913,\n",
       "          13441.36564251, 13454.04655072, 13465.4137971 , 13474.44127536,\n",
       "          13487.50448309, 13501.75022222, 13518.48997101, 13534.18142995,\n",
       "          13549.11723671, 13564.39225121, 13579.01729469, 13593.25033816,\n",
       "          13605.63315942, 13617.51066667, 13628.08896618, 13637.52115942,\n",
       "          13646.01625121, 13653.98664734, 13661.78454106, 13669.48266667,\n",
       "          13676.55609662, 13683.4712657 , 13690.19335266, 13696.95180676,\n",
       "          13703.73609662, 13710.56289855, 13717.55700483, 13724.85062802,\n",
       "          13732.18850242, 13739.25818357, 13747.02057971, 13753.7628599 ,\n",
       "          13760.79491787, 13767.72803865, 13773.55171014, 13779.86299517,\n",
       "          13786.04803865, 13792.25155556, 13798.39685024, 13804.85074396,\n",
       "          13811.7476715 , 13819.20181643, 13827.25843478, 13836.08361353,\n",
       "          13845.35198068, 13854.96755556, 13864.89913043, 13875.31248309,\n",
       "          13885.95524638, 13896.73571014, 13907.59520773, 13918.48436715,\n",
       "          13929.2527343 , 13939.64353623, 13949.54094686, 13958.86214493,\n",
       "          13967.50809662, 13975.40641546, 13983.14173913, 13990.83685024,\n",
       "          13998.34981643, 14005.78573913, 14013.32898551, 14021.02017391,\n",
       "          14028.92245411, 14037.06707246, 14045.38888889, 14053.82057971,\n",
       "          14062.0269372 , 14070.41710145, 14078.74745894, 14086.98815459,\n",
       "          14095.09569082, 14103.09692754, 14111.02425121, 14118.88523671,\n",
       "          14126.65617391, 14134.18788406, 14141.49399034, 14148.5978744 ,\n",
       "          14155.50765217, 14162.26488889, 14168.94740097, 14175.52618357,\n",
       "          14182.04502415, 14188.37866667, 14194.53057005, 14200.59603865,\n",
       "          14206.6054686 , 14212.58684058, 14218.55522705, 14224.5312657 ,\n",
       "          14230.55735266, 14236.74108213, 14243.06966184, 14249.41654106,\n",
       "          14255.87841546, 14262.57681159, 14269.53770048, 14276.81219324,\n",
       "          14284.41074396, 14292.24381643, 14300.13675362, 14308.08619324,\n",
       "          14317.07750725, 14325.82679227, 14334.71143961, 14343.62905314,\n",
       "          14352.596     , 14361.586657  , 14370.26372947, 14378.55378744,\n",
       "          14386.65426087, 14394.60656039, 14402.45190338, 14410.12153623,\n",
       "          14417.64461836, 14425.54696618, 14433.42257005, 14441.04099517,\n",
       "          14448.72801932, 14456.57995169, 14389.76657005, 14366.95243478,\n",
       "          14366.66216425, 14399.02880193, 14463.57501449, 14544.16743961,\n",
       "          14628.99004831, 14715.71468599, 14819.05192271, 14925.27507246]),\n",
       "   'fitted_model': {'slope': np.float64(4765.7957627800615),\n",
       "    'intercept': np.float64(1316.1226069129264),\n",
       "    'fitted_y': array([ 7738.52879458,  7740.18161529,  7748.44571885,  7769.93238809,\n",
       "            7778.19649164,  7784.80777448,  7799.68316088,  7807.94726444,\n",
       "            7809.60008515,  7832.7395751 ,  7841.00367865,  7842.65649936,\n",
       "            7860.83752718,  7872.40727216,  7880.67137571,  7895.54676211,\n",
       "            7903.81086566,  7905.46368637,  7907.11650708,  7931.90881775,\n",
       "            7936.86727988,  7943.47856272,  7956.70112841,  7964.96523196,\n",
       "            7979.84061836,  7988.10472191,  7994.71600476,  8001.3272876 ,\n",
       "            8016.202674  ,  8021.16113613,  8024.46677755,  8039.34216395,\n",
       "            8047.6062675 ,  8052.56472964,  8064.13447461,  8072.39857817,\n",
       "            8087.27396456,  8097.19088883,  8100.49653025,  8108.7606338 ,\n",
       "            8131.90012375,  8140.16422731,  8156.69243442,  8168.26217939,\n",
       "            8178.17910366,  8183.13756579,  8207.92987645,  8219.49962143,\n",
       "            8224.45808356,  8245.9447528 ,  8252.55603564,  8259.16731849,\n",
       "            8267.43142204,  8287.26527057,  8293.87655341,  8313.71040194,\n",
       "            8318.66886408,  8330.23860905,  8335.19707119,  8350.07245758,\n",
       "            8358.33656114,  8359.98938185,  8366.60066469,  8388.08733393,\n",
       "            8394.69861677,  8402.96272033,  8419.49092744,  8424.44938957,\n",
       "            8426.10221028,  8449.24170023,  8457.50580379,  8460.81144521,\n",
       "            8478.99247303,  8487.25657658,  8502.13196298,  8512.04888724,\n",
       "            8521.96581151,  8528.57709435,  8545.10530146,  8553.36940501,\n",
       "            8563.28632928,  8584.77299852,  8593.03710207,  8597.9955642 ,\n",
       "            8621.13505416,  8632.70479913,  8636.01044055,  8655.84428908,\n",
       "            8665.76121335,  8674.0253169 ,  8693.85916543,  8698.81762756,\n",
       "            8702.12326899,  8721.95711752,  8728.56840036,  8743.44378676,\n",
       "            8750.0550696 ,  8763.27763529,  8771.54173884,  8778.15302168,\n",
       "            8784.76430453,  8806.25097377,  8811.2094359 ,  8819.47353945,\n",
       "            8837.65456727,  8840.96020869,  8842.61302941,  8857.4884158 ,\n",
       "            8869.05816078,  8870.71098149,  8890.54483002,  8898.80893357,\n",
       "            8903.76739571,  8912.03149926,  8938.47663063,  8946.74073419,\n",
       "            8959.96329987,  8989.71407267,  8997.97817622,  9004.58945907,\n",
       "            9021.11766617,  9029.38176973,  9032.68741115,  9055.8269011 ,\n",
       "            9067.39664608,  9074.00792892,  9092.18895674,  9103.75870171,\n",
       "            9110.36998456,  9118.63408811,  9138.46793664,  9145.07921948,\n",
       "            9154.99614375,  9173.17717157,  9183.09409583,  9191.35819939,\n",
       "            9206.23358579,  9214.49768934,  9232.67871716,  9242.59564142,\n",
       "            9254.1653864 ,  9278.95769706,  9285.5689799 ,  9293.83308346,\n",
       "            9313.66693199,  9325.23667696,  9328.54231839,  9348.37616692,\n",
       "            9356.64027047,  9358.29309118,  9376.474119  ,  9386.39104326,\n",
       "            9396.30796753,  9407.8777125 ,  9435.97566459,  9445.89258885,\n",
       "            9455.80951312,  9483.9074652 ,  9492.17156876,  9493.82438947,\n",
       "            9518.61670013,  9530.1864451 ,  9531.83926582,  9550.02029363,\n",
       "            9561.59003861,  9568.20132145,  9576.46542501,  9596.29927354,\n",
       "            9602.91055638,  9611.17465993,  9631.00850846,  9640.92543273,\n",
       "            9652.49517771,  9672.32902624,  9683.89877121,  9702.07979903,\n",
       "            9708.69108187,  9710.34390258,  9725.21928898,  9736.78903396,\n",
       "            9738.44185467,  9748.35877893,  9771.49826888,  9778.10955173,\n",
       "            9784.72083457,  9797.94340026,  9807.86032452,  9811.16596594,\n",
       "            9835.95827661,  9845.87520087,  9854.13930442,  9873.97315295,\n",
       "            9883.89007722,  9890.50136006,  9905.37674646,  9910.33520859,\n",
       "            9916.94649144,  9925.21059499,  9940.08598139,  9948.35008494,\n",
       "            9966.53111276,  9973.1423956 ,  9974.79521631,  9984.71214058,\n",
       "            9992.97624413, 10001.24034769, 10007.85163053, 10027.68547906,\n",
       "           10034.2967619 , 10047.51932759, 10055.78343114, 10064.0475347 ,\n",
       "           10083.88138323, 10093.79830749, 10102.06241105, 10118.59061816,\n",
       "           10128.50754242, 10135.11882526, 10143.38292882, 10168.17523948,\n",
       "           10174.78652232, 10178.09216374, 10211.14857796, 10224.37114365,\n",
       "           10235.94088862, 10265.69166142, 10277.26140639, 10285.52550995,\n",
       "           10321.88756559, 10333.45731056, 10346.67987625, 10368.16654549,\n",
       "           10378.08346975, 10381.38911117, 10386.34757331, 10409.48706326,\n",
       "           10412.79270468, 10414.44552539, 10422.70962895, 10427.66809108,\n",
       "           10452.46040174, 10464.03014672, 10470.64142956, 10480.55835382,\n",
       "           10488.82245738, 10497.08656093, 10505.35066449, 10528.49015444,\n",
       "           10538.4070787 , 10541.71272012, 10568.1578515 , 10579.72759647,\n",
       "           10583.03323789, 10606.17272785, 10617.74247282, 10621.04811424,\n",
       "           10642.53478348, 10652.45170775, 10659.06299059, 10667.32709415,\n",
       "           10688.81376339, 10697.07786694, 10698.73068765, 10723.52299831,\n",
       "           10731.78710187, 10733.43992258, 10753.27377111, 10754.92659182,\n",
       "           10758.23223324, 10771.45479893, 10783.0245439 , 10784.67736461,\n",
       "           10794.59428888, 10817.73377883, 10824.34506167, 10825.99788238,\n",
       "           10844.1789102 , 10854.09583447, 10862.35993802, 10883.84660726,\n",
       "           10888.8050694 , 10890.45789011, 10902.02763508, 10910.29173864,\n",
       "           10916.90302148, 10935.0840493 , 10945.00097356, 10946.65379427,\n",
       "           10953.26507712, 10979.71020849, 10992.93277418, 11002.84969844,\n",
       "           11025.98918839, 11037.55893337, 11042.5173955 , 11062.35124403,\n",
       "           11072.2681683 , 11080.53227185, 11098.71329967, 11106.97740322,\n",
       "           11115.24150678, 11120.19996891, 11140.03381744, 11149.9507417 ,\n",
       "           11151.60356242, 11168.13176952, 11174.74305237, 11191.27125947,\n",
       "           11201.18818374, 11212.75792872, 11237.55023938, 11245.81434293,\n",
       "           11265.64819146, 11277.21793644, 11287.1348607 , 11288.78768141,\n",
       "           11305.31588852, 11311.92717136, 11315.23281279, 11338.37230274,\n",
       "           11353.24768913, 11354.90050985, 11373.08153766, 11389.60974477,\n",
       "           11397.87384833, 11407.79077259, 11434.23590396, 11440.84718681,\n",
       "           11442.50000752, 11463.98667676, 11473.90360102, 11475.55642173,\n",
       "           11502.00155311, 11511.91847737, 11515.22411879, 11540.01642946,\n",
       "           11554.89181585, 11563.15591941, 11581.33694723, 11592.9066922 ,\n",
       "           11601.17079576, 11612.74054073, 11629.26874784, 11635.88003068,\n",
       "           11644.14413424, 11662.32516206, 11672.24208632, 11673.89490703,\n",
       "           11693.72875556, 11705.29850054, 11713.56260409, 11723.47952836,\n",
       "           11744.9661976 , 11748.27183902, 11749.92465973, 11773.06414968,\n",
       "           11779.67543252, 11786.28671537, 11801.16210177, 11811.07902603,\n",
       "           11814.38466745, 11832.56569527, 11844.13544025, 11849.09390238,\n",
       "           11868.92775091, 11878.84467517, 11888.76159944, 11897.02570299,\n",
       "           11916.85955152, 11921.81801366, 11926.77647579, 11941.65186218,\n",
       "           11949.91596574, 11956.52724858, 11974.7082764 , 11978.01391782,\n",
       "           11981.31955924, 11984.62520067, 12006.11186991, 12011.07033204,\n",
       "           12027.59853915, 12037.51546341, 12045.77956697, 12050.7380291 ,\n",
       "           12072.22469834, 12080.48880189, 12082.1416226 , 12101.97547113,\n",
       "           12113.54521611, 12115.19803682, 12133.37906464, 12143.2959889 ,\n",
       "           12148.25445104, 12156.51855459, 12179.65804454, 12191.22778952,\n",
       "           12201.14471378, 12225.93702445, 12234.201128  , 12254.03497653,\n",
       "           12262.29908008, 12263.95190079, 12280.4801079 , 12290.39703217,\n",
       "           12297.00831501, 12303.61959785, 12316.84216354, 12318.49498425,\n",
       "           12336.67601207, 12348.24575705, 12351.55139847, 12371.385247  ,\n",
       "           12382.95499197, 12401.13601979, 12409.40012335, 12414.35858548,\n",
       "           12424.27550974, 12430.88679259, 12439.15089614, 12447.41499969,\n",
       "           12470.55448965, 12477.16577249, 12478.8185932 , 12492.04115889,\n",
       "           12503.61090386, 12518.48629026, 12536.66731808, 12544.93142163,\n",
       "           12551.54270448, 12574.68219443, 12586.2519394 , 12617.65553291,\n",
       "           12634.18374002, 12647.4063057 , 12654.01758855, 12677.1570785 ,\n",
       "           12682.11554063, 12683.76836134, 12700.29656845, 12711.86631343,\n",
       "           12718.47759627, 12736.65862409, 12773.02067973, 12782.93760399,\n",
       "           12794.50734897, 12829.21658389, 12842.43914958, 12852.35607384,\n",
       "           12885.41248806, 12895.32941233, 12916.81608157, 12923.42736441,\n",
       "           12948.21967507, 12959.78942005, 12968.0535236 , 12979.62326858,\n",
       "           13007.72122066, 13017.63814493, 13025.90224848, 13047.38891772,\n",
       "           13058.9586627 , 13070.52840767, 13101.93200118, 13113.50174615,\n",
       "           13115.15456686, 13134.98841539, 13146.55816037, 13148.21098108,\n",
       "           13154.82226392, 13177.96175388, 13184.57303672, 13191.18431956,\n",
       "           13211.01816809, 13224.24073378, 13227.5463752 , 13250.68586515,\n",
       "           13267.21407226, 13270.51971368, 13296.96484505, 13311.84023145,\n",
       "           13321.75715572, 13331.67407998, 13351.50792851, 13358.11921135,\n",
       "           13364.7304942 , 13382.91152202, 13384.56434273, 13401.09254984,\n",
       "           13409.35665339, 13411.0094741 , 13424.23203979, 13434.14896405,\n",
       "           13437.45460547, 13450.67717116, 13488.69204751, 13495.30333035,\n",
       "           13498.60897177, 13523.40128244, 13531.66538599, 13539.92948954,\n",
       "           13561.41615878, 13564.72180021, 13584.55564874, 13594.472573  ,\n",
       "           13597.77821442, 13625.87616651, 13642.40437361, 13652.32129788,\n",
       "           13663.89104285, 13691.98899494, 13701.9059192 , 13708.51720205,\n",
       "           13736.61515413, 13749.83771982, 13763.0602855 , 13786.19977546,\n",
       "           13797.76952043, 13801.07516185, 13819.25618967, 13827.52029323,\n",
       "           13835.78439678, 13844.04850033, 13867.18799029, 13873.79927313,\n",
       "           13875.45209384, 13891.98030095, 13901.89722521, 13908.50850806,\n",
       "           13921.73107374, 13929.9951773 , 13936.60646014, 13956.44030867,\n",
       "           13968.01005364, 13977.92697791, 13989.49672289, 14017.59467497,\n",
       "           14025.85877852, 14030.81724066, 14055.60955132, 14067.17929629,\n",
       "           14070.48493772, 14095.27724838, 14108.49981406, 14113.4582762 ,\n",
       "           14143.20904899, 14156.43161468, 14168.00135965, 14196.09931174,\n",
       "           14214.28033956, 14220.8916224 , 14227.50290524, 14262.21214017,\n",
       "           14273.78188515, 14277.08752657, 14300.22701652, 14308.49112007,\n",
       "           14310.14394078, 14329.97778931, 14339.89471358, 14348.15881713,\n",
       "           14366.33984495, 14377.90958993, 14391.13215561, 14404.3547213 ,\n",
       "           14442.36959765, 14453.93934262, 14465.5090876 , 14482.03729471,\n",
       "           14490.30139826, 14498.56550182, 14516.74652964, 14526.6634539 ,\n",
       "           14534.92755745, 14558.06704741, 14572.9424338 , 14584.51217878,\n",
       "           14591.12346162, 14620.87423442, 14629.13833797, 14645.66654508,\n",
       "           14653.93064863, 14663.8475729 , 14682.02860072, 14683.68142143,\n",
       "           14686.98706285, 14695.2511664 , 14700.20962854, 14706.82091138,\n",
       "           14718.39065636, 14725.0019392 , 14733.26604275, 14754.75271199,\n",
       "           14764.66963626, 14776.23938123, 14805.99015403, 14822.51836114,\n",
       "           14829.12964398, 14853.92195464, 14865.49169962, 14875.40862388])}},\n",
       "  {'segment': 5,\n",
       "   'data_x': array([12.434, 12.438, 12.44 , 12.444, 12.462, 12.471, 12.473, 12.483,\n",
       "          12.488, 12.489, 12.507, 12.521, 12.529, 12.547, 12.558, 12.564,\n",
       "          12.575, 12.582, 12.584, 12.586, 12.593, 12.595, 12.597, 12.607,\n",
       "          12.614, 12.619, 12.624, 12.64 , 12.646, 12.647, 12.665, 12.671,\n",
       "          12.672, 12.685, 12.688, 12.692, 12.702, 12.711, 12.716, 12.729,\n",
       "          12.737, 12.744, 12.748, 12.765, 12.769, 12.78 , 12.786, 12.789,\n",
       "          12.8  , 12.805, 12.81 , 12.821, 12.826, 12.83 , 12.841, 12.847,\n",
       "          12.852, 12.853, 12.867, 12.871, 12.872, 12.885, 12.892, 12.894,\n",
       "          12.907, 12.911, 12.914, 12.916, 12.932, 12.936, 12.937, 12.956,\n",
       "          12.964, 12.965, 12.98 , 12.987, 13.001, 13.007, 13.012, 13.018,\n",
       "          13.031, 13.034, 13.052, 13.057, 13.076, 13.083, 13.097, 13.104,\n",
       "          13.117, 13.123, 13.13 , 13.139, 13.141, 13.146, 13.148, 13.15 ,\n",
       "          13.152, 13.163, 13.164, 13.166, 13.173, 13.179, 13.181, 13.185,\n",
       "          13.202, 13.207, 13.208, 13.219, 13.225, 13.228, 13.236, 13.241,\n",
       "          13.242, 13.247, 13.265, 13.268, 13.271, 13.284, 13.285, 13.287,\n",
       "          13.297, 13.299, 13.3  , 13.309, 13.314, 13.315, 13.327, 13.333,\n",
       "          13.34 , 13.355, 13.36 , 13.366, 13.374, 13.378, 13.382, 13.392,\n",
       "          13.398, 13.409, 13.414, 13.418, 13.428, 13.43 , 13.435, 13.449,\n",
       "          13.451, 13.452, 13.459, 13.462, 13.464, 13.472, 13.476, 13.479,\n",
       "          13.483, 13.496, 13.498, 13.51 , 13.511, 13.513, 13.521, 13.527,\n",
       "          13.528, 13.54 , 13.547, 13.551, 13.556, 13.568, 13.57 , 13.571,\n",
       "          13.582, 13.584, 13.585, 13.591, 13.592, 13.593, 13.602, 13.607,\n",
       "          13.615, 13.62 , 13.624, 13.629, 13.64 , 13.642, 13.645, 13.649,\n",
       "          13.652, 13.655, 13.658, 13.659, 13.662, 13.665, 13.667, 13.671,\n",
       "          13.672, 13.674, 13.675, 13.676, 13.677, 13.678, 13.68 , 13.681,\n",
       "          13.682, 13.683, 13.684, 13.685, 13.686, 13.687, 13.689, 13.69 ,\n",
       "          13.691, 13.694, 13.696, 13.7  , 13.701, 13.704, 13.705, 13.706,\n",
       "          13.707, 13.708, 13.709, 13.71 , 13.711, 13.712, 13.715, 13.717,\n",
       "          13.718, 13.719, 13.724, 13.725, 13.726, 13.727, 13.728, 13.729,\n",
       "          13.73 , 13.731, 13.732, 13.733, 13.734, 13.735, 13.736, 13.737,\n",
       "          13.738, 13.739, 13.741, 13.742, 13.755, 13.762, 13.764, 13.782,\n",
       "          13.783, 13.787, 13.797, 13.801, 13.802, 13.813, 13.816, 13.818,\n",
       "          13.821, 13.832, 13.833, 13.835, 13.841, 13.844, 13.845, 13.85 ,\n",
       "          13.853, 13.854, 13.862, 13.864, 13.866, 13.87 , 13.875, 13.877,\n",
       "          13.879, 13.887, 13.888, 13.89 ]),\n",
       "   'data_y': array([15044.78664734, 15176.95478261, 15315.74046377, 15460.81157488,\n",
       "          15608.83586473, 15756.72885024, 15900.39006763, 16035.52202899,\n",
       "          16157.8512657 , 16263.28954589, 16348.19455072, 16408.61352657,\n",
       "          16441.11826087, 16441.9177971 , 16408.55791304, 16450.76954589,\n",
       "          16480.26568116, 16513.88643478, 16539.34343961, 16545.62730435,\n",
       "          16540.51028019, 16536.50338164, 16477.81002899, 16457.16805797,\n",
       "          16449.92067633, 16476.55656039, 16526.70479227, 16604.81667633,\n",
       "          16707.90475362, 16829.78921739, 16966.54732367, 17119.61062802,\n",
       "          17275.65574879, 17435.99903382, 17600.40977778, 17764.95700483,\n",
       "          17923.99136232, 18076.76133333, 18222.44879227, 18358.19234783,\n",
       "          18483.37010628, 18595.97138164, 18693.10436715, 18772.60639614,\n",
       "          18829.73354589, 18861.78115942, 18866.10088889, 18934.36595169,\n",
       "          18984.22964251, 19055.54098551, 19125.55524638, 19200.78390338,\n",
       "          19276.49045411, 19280.86195169, 19325.45986473, 19375.75383575,\n",
       "          19440.79136232, 19533.14121739, 19644.53712077, 19776.455343  ,\n",
       "          19922.40948792, 20086.06647343, 20265.75905314, 20455.45818357,\n",
       "          20655.04699517, 20866.77520773, 21083.75118841, 21303.97047343,\n",
       "          21519.99196135, 21729.8852657 , 21929.7506087 , 22116.21354589,\n",
       "          22284.8814686 , 22431.60950725, 22551.32231884, 22638.89549758,\n",
       "          22688.04137198, 22696.97004831, 22766.24774879, 22719.30929469,\n",
       "          22738.54718841, 22808.30792271, 22860.30131401, 22931.89916908,\n",
       "          23054.15872464, 23189.27416425, 23350.19818357, 23540.10019324,\n",
       "          23756.35196135, 23989.82371014, 24223.02629952, 24476.41058937,\n",
       "          24741.94691787, 25015.43099517, 25289.76888889, 25557.21268599,\n",
       "          25810.07876328, 26040.99031884, 26242.86828986, 26406.92929469,\n",
       "          26539.59858937, 26625.9429372 , 26667.73826087, 26661.46981643,\n",
       "          26738.62699517, 26784.54606763, 26783.20115942, 26811.23572947,\n",
       "          26849.7268599 , 26860.95495652, 26888.92736232, 26917.81288889,\n",
       "          26941.59729469, 26965.93733333, 26991.95731401, 27038.06628019,\n",
       "          27087.24859903, 27139.63994203, 27192.01513043, 27243.60999034,\n",
       "          27292.78742029, 27338.85715942, 27381.68365217, 27420.96477295,\n",
       "          27461.34719807, 27492.52778744, 27528.4975942 , 27565.21572947,\n",
       "          27600.55950725, 27566.47650242, 27565.53846377, 27597.87702415,\n",
       "          27651.32686957, 27733.54382609, 27838.59030918, 27953.3767343 ,\n",
       "          28085.8434686 , 28230.50372947, 28379.68795169, 28534.42036715,\n",
       "          28692.47554589, 28851.2410628 , 29007.07287923, 29156.81439614,\n",
       "          29295.62068599, 29421.87814493, 29531.8809372 , 29621.41951691,\n",
       "          29692.53811594, 29739.17250242, 29762.47468599, 29757.19132367,\n",
       "          29722.61400966, 29657.1050628 , 29662.97914976, 29670.43744928,\n",
       "          29680.20034783, 29692.97565217, 29705.30533333, 29718.55074396,\n",
       "          29735.52349758, 29756.0378744 , 29777.50152657, 29799.40109179,\n",
       "          29823.88355556, 29850.66312077, 29878.37037681, 29905.97780676,\n",
       "          29932.75884058, 29958.86777778, 29983.463343  , 30006.25765217,\n",
       "          30031.19068599, 30050.58942029, 30073.66933333, 30095.92758454,\n",
       "          30117.21074396, 30138.4358744 , 30159.34315942, 30162.62867633,\n",
       "          30175.15671498, 30192.97450242, 30235.49277295, 30273.92327536,\n",
       "          30290.01696618, 30331.75257971, 30359.08054879, 30382.28385314,\n",
       "          30415.16894686, 30446.39949758, 30466.11138937, 30492.45861159,\n",
       "          30511.78261643, 30528.62370338, 30546.32941353, 30565.90459549,\n",
       "          30585.17267923, 30604.98052464, 30626.98869211, 30646.24227343,\n",
       "          30663.69667923, 30679.62474042, 30693.74915266, 30682.40057939,\n",
       "          30724.36732013, 30775.79994493, 30831.34296586, 30861.61093366,\n",
       "          30885.73957778, 30899.68031852, 30934.10712689, 30942.91390821,\n",
       "          30938.53932528, 31009.49300129, 31034.67181932, 31095.68671659,\n",
       "          31133.09261868, 31176.20049469, 31237.13182576, 31293.62361868,\n",
       "          31343.97619517, 31401.32288438, 31457.00646033, 31506.67627085,\n",
       "          31555.69495845, 31582.82278884, 31621.78090692, 31638.95086828,\n",
       "          31706.73625099, 31734.20489082, 31746.18317746, 31767.68048288,\n",
       "          31776.9582467 , 31783.73453655, 31833.89689834, 31848.14208567,\n",
       "          31902.49759614, 32007.98071476, 32042.32242705, 32117.8377475 ,\n",
       "          32170.52065679, 32238.07316264, 32309.04158776, 32367.84469737,\n",
       "          32425.55763929, 32484.98575845, 32534.3434278 , 32574.67325604,\n",
       "          32607.20774879, 32631.1423752 , 32667.10007729, 32681.55437681,\n",
       "          32709.13657327, 32714.66324638, 32729.86081159, 32752.23250242,\n",
       "          32765.81758454, 32785.36351691, 32805.51091787, 32826.49994203,\n",
       "          32850.10384541, 32869.53302415, 32895.56687923, 32921.56019324,\n",
       "          32944.64806763, 32970.57028019, 32995.81908213, 33023.18251208,\n",
       "          33051.8201256 , 33080.52975845, 33109.73809662, 33138.38730435,\n",
       "          33166.64795169, 33198.95337198, 33228.01158454, 33254.39082126]),\n",
       "   'fitted_model': {'slope': np.float64(4765.7957627800615),\n",
       "    'intercept': np.float64(1316.1226069129264),\n",
       "    'fitted_y': array([15015.97689972, 15068.14593809, 15094.23045728, 15146.39949565,\n",
       "           15381.16016833, 15498.54050467, 15524.62502385, 15655.04761978,\n",
       "           15720.25891775, 15733.30117734, 15968.06185002, 16150.65348433,\n",
       "           16254.99156107, 16489.75223375, 16633.21708927, 16711.47064683,\n",
       "           16854.93550236, 16946.23131951, 16972.3158387 , 16998.40035788,\n",
       "           17089.69617504, 17115.78069422, 17141.86521341, 17272.28780934,\n",
       "           17363.58362649, 17428.79492446, 17494.00622242, 17702.68237592,\n",
       "           17780.93593347, 17793.97819307, 18028.73886575, 18106.9924233 ,\n",
       "           18120.0346829 , 18289.58405761, 18328.71083639, 18380.87987476,\n",
       "           18511.30247069, 18628.68280703, 18693.894105  , 18863.44347971,\n",
       "           18967.78155645, 19059.07737361, 19111.24641198, 19332.96482506,\n",
       "           19385.13386344, 19528.59871896, 19606.85227652, 19645.9790553 ,\n",
       "           19789.44391083, 19854.65520879, 19919.86650676, 20063.33136228,\n",
       "           20128.54266025, 20180.71169862, 20324.17655415, 20402.43011171,\n",
       "           20467.64140967, 20480.68366926, 20663.27530357, 20715.44434194,\n",
       "           20728.48660154, 20898.03597625, 20989.3317934 , 21015.41631259,\n",
       "           21184.9656873 , 21237.13472567, 21276.26150445, 21302.34602364,\n",
       "           21511.02217713, 21563.1912155 , 21576.23347509, 21824.03640736,\n",
       "           21928.37448411, 21941.4167437 , 22137.0506376 , 22228.34645475,\n",
       "           22410.93808906, 22489.19164662, 22554.40294458, 22632.65650214,\n",
       "           22802.20587685, 22841.33265563, 23076.09332831, 23141.30462627,\n",
       "           23389.10755855, 23480.4033757 , 23662.99501   , 23754.29082715,\n",
       "           23923.84020187, 24002.09375943, 24093.38957658, 24210.76991292,\n",
       "           24236.8544321 , 24302.06573007, 24328.15024926, 24354.23476844,\n",
       "           24380.31928763, 24523.78414315, 24536.82640275, 24562.91092193,\n",
       "           24654.20673908, 24732.46029664, 24758.54481583, 24810.7138542 ,\n",
       "           25032.43226729, 25097.64356525, 25110.68582485, 25254.15068037,\n",
       "           25332.40423793, 25371.53101671, 25475.86909346, 25541.08039142,\n",
       "           25554.12265101, 25619.33394898, 25854.09462166, 25893.22140044,\n",
       "           25932.34817922, 26101.89755393, 26114.93981352, 26141.02433271,\n",
       "           26271.44692864, 26297.53144783, 26310.57370742, 26427.95404376,\n",
       "           26493.16534172, 26506.20760132, 26662.71471644, 26740.96827399,\n",
       "           26832.26409115, 27027.89798504, 27093.10928301, 27171.36284057,\n",
       "           27275.70091732, 27327.86995569, 27380.03899406, 27510.46158999,\n",
       "           27588.71514755, 27732.18000308, 27797.39130104, 27849.56033942,\n",
       "           27979.98293535, 28006.06745453, 28071.2787525 , 28253.8703868 ,\n",
       "           28279.95490599, 28292.99716558, 28384.29298274, 28423.41976152,\n",
       "           28449.5042807 , 28553.84235745, 28606.01139582, 28645.1381746 ,\n",
       "           28697.30721297, 28866.85658768, 28892.94110687, 29049.44822199,\n",
       "           29062.49048158, 29088.57500077, 29192.91307751, 29271.16663507,\n",
       "           29284.20889467, 29440.71600978, 29532.01182694, 29584.18086531,\n",
       "           29649.39216328, 29805.89927839, 29831.98379758, 29845.02605717,\n",
       "           29988.4909127 , 30014.57543189, 30027.61769148, 30105.87124904,\n",
       "           30118.91350863, 30131.95576822, 30249.33610456, 30314.54740253,\n",
       "           30418.88547927, 30484.09677724, 30536.26581561, 30601.47711358,\n",
       "           30744.9419691 , 30771.02648829, 30810.15326707, 30862.32230544,\n",
       "           30901.44908422, 30940.575863  , 30979.70264178, 30992.74490137,\n",
       "           31031.87168015, 31070.99845893, 31097.08297812, 31149.25201649,\n",
       "           31162.29427609, 31188.37879527, 31201.42105487, 31214.46331446,\n",
       "           31227.50557405, 31240.54783364, 31266.63235283, 31279.67461242,\n",
       "           31292.71687202, 31305.75913161, 31318.8013912 , 31331.8436508 ,\n",
       "           31344.88591039, 31357.92816998, 31384.01268917, 31397.05494876,\n",
       "           31410.09720836, 31449.22398714, 31475.30850632, 31527.47754469,\n",
       "           31540.51980429, 31579.64658307, 31592.68884266, 31605.73110225,\n",
       "           31618.77336185, 31631.81562144, 31644.85788103, 31657.90014063,\n",
       "           31670.94240022, 31683.98465981, 31723.11143859, 31749.19595778,\n",
       "           31762.23821737, 31775.28047697, 31840.49177493, 31853.53403452,\n",
       "           31866.57629412, 31879.61855371, 31892.6608133 , 31905.7030729 ,\n",
       "           31918.74533249, 31931.78759208, 31944.82985168, 31957.87211127,\n",
       "           31970.91437086, 31983.95663046, 31996.99889005, 32010.04114964,\n",
       "           32023.08340924, 32036.12566883, 32062.21018802, 32075.25244761,\n",
       "           32244.80182232, 32336.09763947, 32362.18215866, 32596.94283134,\n",
       "           32609.98509093, 32662.1541293 , 32792.57672523, 32844.74576361,\n",
       "           32857.7880232 , 33001.25287873, 33040.3796575 , 33066.46417669,\n",
       "           33105.59095547, 33249.055811  , 33262.09807059, 33288.18258978,\n",
       "           33366.43614733, 33405.56292611, 33418.60518571, 33483.81648367,\n",
       "           33522.94326245, 33535.98552205, 33640.32359879, 33666.40811798,\n",
       "           33692.49263716, 33744.66167554, 33809.8729735 , 33835.95749269,\n",
       "           33862.04201188, 33966.38008862, 33979.42234821, 34005.5068674 ])}},\n",
       "  {'segment': 6,\n",
       "   'data_x': array([13.897, 13.899, 13.905, 13.907, 13.909, 13.912, 13.915, 13.916,\n",
       "          13.923, 13.928, 13.931, 13.939, 13.941, 13.943, 13.946, 13.947,\n",
       "          13.949, 13.957, 13.963, 13.964, 13.969, 13.984, 13.985, 13.987,\n",
       "          13.999, 14.   , 14.003, 14.01 , 14.014, 14.027, 14.03 , 14.031,\n",
       "          14.035, 14.046, 14.047, 14.048, 14.055, 14.057, 14.058, 14.064,\n",
       "          14.065, 14.067, 14.075, 14.081, 14.085, 14.095, 14.101, 14.104,\n",
       "          14.109, 14.124, 14.127, 14.143, 14.148, 14.149, 14.16 , 14.166,\n",
       "          14.168, 14.173, 14.186, 14.189, 14.193, 14.206, 14.209, 14.213,\n",
       "          14.225, 14.227, 14.234, 14.238, 14.239, 14.247, 14.251, 14.252,\n",
       "          14.256, 14.27 , 14.274, 14.277, 14.285, 14.289, 14.291, 14.297,\n",
       "          14.298, 14.302, 14.307, 14.312, 14.314, 14.316, 14.319, 14.321,\n",
       "          14.33 , 14.333, 14.334, 14.348, 14.354, 14.358, 14.368, 14.372,\n",
       "          14.375, 14.379, 14.39 , 14.393, 14.4  , 14.405, 14.409, 14.41 ,\n",
       "          14.421, 14.424, 14.425, 14.437, 14.442, 14.443, 14.447, 14.46 ,\n",
       "          14.462, 14.465, 14.472, 14.473, 14.476, 14.481, 14.483, 14.486,\n",
       "          14.493, 14.499, 14.501, 14.504, 14.507, 14.508, 14.51 , 14.526,\n",
       "          14.533, 14.539, 14.553, 14.556, 14.558, 14.565, 14.57 , 14.573,\n",
       "          14.576, 14.585, 14.587, 14.588, 14.6  , 14.605, 14.608, 14.616,\n",
       "          14.622, 14.636, 14.644, 14.65 , 14.656, 14.668, 14.672, 14.675,\n",
       "          14.688, 14.69 , 14.692, 14.703, 14.708, 14.709, 14.718, 14.722,\n",
       "          14.723, 14.735, 14.741, 14.744, 14.756, 14.758, 14.759, 14.764,\n",
       "          14.767, 14.768, 14.771, 14.776, 14.779, 14.789, 14.795, 14.803,\n",
       "          14.82 , 14.824, 14.834, 14.836, 14.838, 14.846, 14.85 , 14.853,\n",
       "          14.862, 14.869, 14.875, 14.881, 14.897, 14.902, 14.912, 14.917,\n",
       "          14.927, 14.933, 14.937, 14.946, 14.95 , 14.953, 14.958, 14.967,\n",
       "          14.97 , 14.971, 14.983, 14.985, 14.992, 14.996, 14.997, 15.008,\n",
       "          15.012, 15.015, 15.022, 15.028, 15.029, 15.03 , 15.042, 15.046,\n",
       "          15.047, 15.059, 15.064, 15.069, 15.077, 15.085, 15.087, 15.095,\n",
       "          15.1  , 15.101, 15.106, 15.119, 15.121, 15.122, 15.131, 15.137,\n",
       "          15.148, 15.152, 15.156, 15.16 , 15.174, 15.175, 15.176, 15.188,\n",
       "          15.19 , 15.192, 15.198, 15.201, 15.203, 15.207, 15.21 , 15.213,\n",
       "          15.22 , 15.225, 15.228, 15.232, 15.242, 15.243, 15.245, 15.253,\n",
       "          15.257, 15.259, 15.266, 15.269, 15.272, 15.277, 15.283, 15.287,\n",
       "          15.297, 15.303, 15.307, 15.319, 15.323, 15.334, 15.34 , 15.352,\n",
       "          15.356, 15.362, 15.366, 15.381, 15.385, 15.39 , 15.405, 15.41 ,\n",
       "          15.411, 15.422, 15.427, 15.43 , 15.439, 15.441, 15.444, 15.446,\n",
       "          15.458, 15.46 , 15.463, 15.472, 15.476, 15.484, 15.489, 15.491,\n",
       "          15.499, 15.503, 15.504, 15.512, 15.518, 15.521, 15.529, 15.533,\n",
       "          15.536, 15.542, 15.546, 15.549, 15.556, 15.557, 15.559, 15.563,\n",
       "          15.578, 15.581, 15.59 , 15.596, 15.6  , 15.601, 15.618, 15.622,\n",
       "          15.624, 15.632, 15.636, 15.637, 15.65 , 15.655, 15.661, 15.666,\n",
       "          15.68 , 15.685, 15.701, 15.704, 15.707, 15.716, 15.724, 15.725,\n",
       "          15.74 , 15.746, 15.747, 15.754, 15.77 , 15.774, 15.777, 15.789,\n",
       "          15.79 , 15.793, 15.802, 15.804, 15.805, 15.815, 15.82 , 15.821,\n",
       "          15.832, 15.838, 15.842, 15.845, 15.857, 15.861, 15.863, 15.865,\n",
       "          15.867, 15.868, 15.87 , 15.873, 15.879, 15.888, 15.889, 15.893,\n",
       "          15.908, 15.911, 15.927, 15.937, 15.944, 15.963, 15.97 , 15.971,\n",
       "          15.977, 15.992, 15.997, 16.003, 16.022, 16.027, 16.028, 16.043,\n",
       "          16.046, 16.049, 16.061, 16.064, 16.067, 16.076, 16.082, 16.084,\n",
       "          16.087, 16.101, 16.105, 16.108, 16.122, 16.125, 16.127, 16.134,\n",
       "          16.137, 16.139, 16.148, 16.151, 16.153, 16.156, 16.169, 16.172,\n",
       "          16.177, 16.185, 16.188, 16.19 , 16.2  , 16.203, 16.21 , 16.215,\n",
       "          16.218, 16.222, 16.233, 16.235, 16.245, 16.246, 16.264, 16.268,\n",
       "          16.269, 16.28 , 16.281, 16.285, 16.287, 16.297, 16.298, 16.301,\n",
       "          16.306, 16.307, 16.31 , 16.314, 16.317, 16.322, 16.324, 16.326,\n",
       "          16.333, 16.336, 16.337, 16.343, 16.354, 16.358, 16.363, 16.373,\n",
       "          16.379, 16.394, 16.401, 16.402, 16.415, 16.421, 16.425, 16.431,\n",
       "          16.444, 16.448, 16.451, 16.456, 16.457, 16.459, 16.468, 16.469,\n",
       "          16.472, 16.479, 16.486, 16.493, 16.498, 16.509, 16.511]),\n",
       "   'data_y': array([33289.71077295, 33325.70678261, 33356.23548792, 33387.85677295,\n",
       "          33425.92576812, 33459.05648309, 33494.23268599, 33530.43321739,\n",
       "          33566.6049372 , 33601.3934686 , 33638.2038744 , 33672.56197101,\n",
       "          33702.87778744, 33734.04479227, 33765.91638647, 33796.35132367,\n",
       "          33827.16532367, 33853.49876328, 33877.79885024, 33905.07294686,\n",
       "          33930.17272464, 33956.42772947, 33983.34080193, 34011.97321739,\n",
       "          34043.28961353, 34073.58742029, 34103.35597101, 34133.45613527,\n",
       "          34163.92319807, 34195.04345894, 34225.05602899, 34255.94846377,\n",
       "          34285.50569082, 34314.32616425, 34342.59657005, 34372.43766184,\n",
       "          34398.53322705, 34425.73654106, 34453.85883092, 34479.07876328,\n",
       "          34504.11042512, 34535.73029952, 34565.97528502, 34600.34595169,\n",
       "          34632.66189372, 34668.92025121, 34707.620657  , 34750.13569082,\n",
       "          34793.55686957, 34841.86668599, 34887.05984541, 34932.65752657,\n",
       "          34977.5753913 , 35030.23976812, 35077.17608696, 35126.53586473,\n",
       "          35183.22795169, 35236.61286957, 35287.90002899, 35347.03520773,\n",
       "          35402.22596135, 35457.66463768, 35513.39616425, 35572.4334686 ,\n",
       "          35631.4427343 , 35693.90266667, 35750.63150725, 35809.86421256,\n",
       "          35866.62955556, 35930.68960386, 35990.69993237, 36052.18104348,\n",
       "          36110.93003865, 36168.17683092, 36222.69063768, 36275.47476328,\n",
       "          36328.47668599, 36383.24485024, 36441.20668599, 36500.64782609,\n",
       "          36562.84823188, 36617.8204058 , 36675.45045411, 36737.16243478,\n",
       "          36791.46081159, 36848.5622029 , 36905.52096618, 36962.27087923,\n",
       "          37016.57397101, 37070.87489855, 37121.80566184, 37176.07907246,\n",
       "          37226.04307246, 37276.81998068, 37323.56881159, 37368.80616425,\n",
       "          37409.56629952, 37451.66792271, 37490.21882126, 37528.8844058 ,\n",
       "          37568.17028019, 37606.85752657, 37645.06638325, 37683.86975845,\n",
       "          37719.60577778, 37753.06099195, 37785.84772947, 37823.25344928,\n",
       "          37859.31652818, 37896.19994203, 37934.47362319, 37971.72276973,\n",
       "          38009.91354589, 38053.04063768, 38090.82271176, 38131.07862802,\n",
       "          38166.12092754, 38202.49971659, 38241.75630918, 38273.98645411,\n",
       "          38310.98572625, 38346.44682126, 38377.49806763, 38408.25160064,\n",
       "          38437.75914976, 38466.0573913 , 38492.15552335, 38525.82556522,\n",
       "          38549.35101449, 38574.46177778, 38601.68896618, 38631.40647343,\n",
       "          38656.80851208, 38683.54226087, 38712.54524638, 38741.54568116,\n",
       "          38773.36331401, 38806.65482126, 38835.31127536, 38867.50581643,\n",
       "          38900.63728502, 38933.86170048, 38971.08810628, 39006.42409662,\n",
       "          39044.25716908, 39078.6866087 , 39114.78482126, 39149.42803865,\n",
       "          39188.46932367, 39225.02552657, 39262.38201932, 39299.45654106,\n",
       "          39331.36171014, 39364.73862802, 39398.23241546, 39428.71296618,\n",
       "          39465.49392271, 39502.75344928, 39540.00390338, 39576.2261256 ,\n",
       "          39612.4261256 , 39648.4093913 , 39683.14403865, 39717.30036715,\n",
       "          39752.556657  , 39788.98297585, 39826.72798068, 39860.54071498,\n",
       "          39902.06857971, 39941.45499517, 39982.0364058 , 40023.78112077,\n",
       "          40069.01770048, 40112.19319807, 40157.25109179, 40201.41283092,\n",
       "          40246.95974879, 40293.06630918, 40339.43717874, 40387.27756522,\n",
       "          40441.2774686 , 40491.65882126, 40542.54817391, 40594.96707246,\n",
       "          40647.83385507, 40700.64915942, 40753.12950725, 40807.76131401,\n",
       "          40861.0949372 , 40919.05621256, 40971.08333333, 41026.83889855,\n",
       "          41083.05135266, 41131.64264734, 41187.45255072, 41240.71943961,\n",
       "          41292.8958744 , 41343.97250242, 41392.05444444, 41438.39654106,\n",
       "          41480.67684058, 41525.94724638, 41567.84064734, 41609.19117874,\n",
       "          41655.16770048, 41697.91932367, 41740.07104348, 41781.80046377,\n",
       "          41823.18205797, 41864.25909179, 41905.06321739, 41945.76038647,\n",
       "          41985.7695942 , 42027.87114976, 42063.77743961, 42103.75657971,\n",
       "          42138.72011594, 42180.78415459, 42223.40970048, 42260.85199034,\n",
       "          42298.4916715 , 42338.01083092, 42378.12556522, 42418.63038647,\n",
       "          42459.37267633, 42501.96671498, 42543.02382609, 42584.10847343,\n",
       "          42626.69333333, 42664.2758744 , 42702.90100483, 42739.09363285,\n",
       "          42777.58718841, 42812.91461836, 42845.73391304, 42881.1092657 ,\n",
       "          42913.4742029 , 42944.30408696, 42973.65329469, 43001.65769082,\n",
       "          43025.46191304, 43057.34986473, 43082.89945894, 43107.63788406,\n",
       "          43132.07082126, 43161.90189372, 43188.63808696, 43213.74844444,\n",
       "          43242.85395169, 43269.75482126, 43299.05930435, 43325.19671498,\n",
       "          43353.15329469, 43382.59416425, 43410.374657  , 43437.87922705,\n",
       "          43467.69382609, 43494.69366184, 43524.51671498, 43558.03192271,\n",
       "          43590.09754589, 43625.580657  , 43661.78591304, 43699.26197101,\n",
       "          43737.83590338, 43781.97540097, 43822.49331401, 43862.63006763,\n",
       "          43904.48838647, 43947.54830918, 43986.30144928, 44025.84137198,\n",
       "          44066.95744928, 44101.66081159, 44140.64798068, 44176.87377778,\n",
       "          44211.48102415, 44244.49897585, 44274.54635749, 44303.85000966,\n",
       "          44331.93202899, 44359.49169082, 44388.94281159, 44418.86896618,\n",
       "          44449.51920773, 44478.89596135, 44512.44164251, 44543.95277295,\n",
       "          44575.87205797, 44608.2505314 , 44641.16085024, 44672.80394203,\n",
       "          44706.36888889, 44738.37936232, 44770.86798068, 44803.75729469,\n",
       "          44836.90228019, 44869.6741256 , 44907.17839614, 44939.73111111,\n",
       "          44972.36678261, 45004.24021256, 45035.21072464, 45065.30687923,\n",
       "          45094.53470531, 45124.0124058 , 45154.70836715, 45182.50844444,\n",
       "          45212.50181643, 45239.86842512, 45267.58357488, 45293.77858937,\n",
       "          45318.81045411, 45343.14912077, 45367.00438647, 45391.22869565,\n",
       "          45415.78448309, 45437.24730435, 45459.53669565, 45480.9782029 ,\n",
       "          45507.64226087, 45533.04798068, 45561.57858937, 45588.46631884,\n",
       "          45616.7771401 , 45645.98962319, 45676.13648309, 45707.36467633,\n",
       "          45739.70595169, 45773.03719807, 45808.25113043, 45839.43516908,\n",
       "          45879.83433816, 45916.38131401, 45951.36643478, 45986.36034783,\n",
       "          46022.5541256 , 46057.26500483, 46090.99607729, 46127.81171014,\n",
       "          46161.61518841, 46194.60086957, 46227.95957488, 46262.21484058,\n",
       "          46297.13487923, 46330.93965217, 46362.31111111, 46400.40616425,\n",
       "          46438.24502415, 46474.18525604, 46509.00910145, 46548.69215459,\n",
       "          46586.29294686, 46624.38950725, 46663.07717874, 46701.82148792,\n",
       "          46745.82838647, 46782.51882126, 46817.39638647, 46854.42363285,\n",
       "          46894.33621256, 46929.69319807, 46966.84135266, 47006.22342029,\n",
       "          47041.57851208, 47076.90672464, 47111.27914976, 47144.63712077,\n",
       "          47176.97383575, 47211.35178744, 47243.16502415, 47282.103343  ,\n",
       "          47314.62127536, 47345.98036715, 47378.6832657 , 47411.89824155,\n",
       "          47444.91694686, 47477.12044444, 47508.63791304, 47543.14121739,\n",
       "          47574.97269565, 47606.01333333, 47637.38968116, 47669.71441546,\n",
       "          47702.08774879, 47732.940657  , 47767.95298551, 47801.8145314 ,\n",
       "          47832.8021256 , 47867.22836715, 47898.82643478, 47928.26247343,\n",
       "          47961.50618357, 47992.15028019, 48022.98378744, 48054.07128502,\n",
       "          48085.06844444, 48115.40463768, 48143.38023188, 48176.11884058,\n",
       "          48206.8154686 , 48236.52888889, 48266.81206763, 48300.89615459,\n",
       "          48332.94333333, 48366.56222222, 48399.95101449, 48433.70347826,\n",
       "          48467.566657  , 48506.09513043, 48547.90611594, 48588.05520773,\n",
       "          48630.34140097, 48676.14459903, 48717.55123671, 48765.13358454,\n",
       "          48813.54994203, 48857.52747826, 48903.4929372 , 48952.55907246,\n",
       "          48997.67958454, 49038.86597101, 49081.46940097, 49122.06491787,\n",
       "          49157.49409662, 49194.82014493, 49226.7982029 , 49262.0623285 ,\n",
       "          49292.30600966, 49318.95461836, 49346.77074396, 49372.10327536,\n",
       "          49397.59222222, 49425.04731401, 49450.68284058, 49476.77666667,\n",
       "          49501.78679227, 49526.31713043, 49549.99573913, 49580.02062802,\n",
       "          49604.79102415, 49632.47036715, 49661.57923671, 49691.42416425,\n",
       "          49717.10766184, 49744.70010628, 49774.15589372, 49800.29311111,\n",
       "          49827.96940097, 49856.66369082, 49884.51307246, 49912.55814493,\n",
       "          49939.4336715 , 49965.38521739, 49992.68076328, 50016.00713043,\n",
       "          50040.1282029 , 50063.05082126, 50086.75657005, 50107.89153623,\n",
       "          50128.23154589, 50148.6952657 , 50169.59644444, 50191.70981643,\n",
       "          50212.19501449, 50233.32794203, 50253.26297585, 50272.65406763,\n",
       "          50291.47719807, 50309.77723671, 50326.79408696]),\n",
       "   'fitted_model': {'slope': np.float64(4765.7957627800615),\n",
       "    'intercept': np.float64(1316.1226069129264),\n",
       "    'fitted_y': array([34066.05267859, 34079.06123795, 34118.08691604, 34131.0954754 ,\n",
       "           34144.10403476, 34163.61687381, 34183.12971285, 34189.63399253,\n",
       "           34235.1639503 , 34267.6853487 , 34287.19818775, 34339.2324252 ,\n",
       "           34352.24098456, 34365.24954392, 34384.76238296, 34391.26666264,\n",
       "           34404.27522201, 34456.30945946, 34495.33513754, 34501.83941722,\n",
       "           34534.36081563, 34631.92501084, 34638.42929052, 34651.43784989,\n",
       "           34729.48920606, 34735.99348574, 34755.50632478, 34801.03628255,\n",
       "           34827.05340128, 34911.60903713, 34931.12187617, 34937.62615585,\n",
       "           34963.64327458, 35035.19035107, 35041.69463075, 35048.19891043,\n",
       "           35093.7288682 , 35106.73742756, 35113.24170724, 35152.26738533,\n",
       "           35158.77166501, 35171.78022437, 35223.81446182, 35262.84013991,\n",
       "           35288.85725863, 35353.90005544, 35392.92573353, 35412.43857257,\n",
       "           35444.95997098, 35542.52416619, 35562.03700524, 35666.10548013,\n",
       "           35698.62687854, 35705.13115822, 35776.67823471, 35815.7039128 ,\n",
       "           35828.71247216, 35861.23387056, 35945.78950642, 35965.30234546,\n",
       "           35991.31946419, 36075.87510004, 36095.38793908, 36121.40505781,\n",
       "           36199.45641398, 36212.46497334, 36257.99493111, 36284.01204983,\n",
       "           36290.51632951, 36342.55056696, 36368.56768569, 36375.07196537,\n",
       "           36401.08908409, 36492.14899963, 36518.16611835, 36537.67895739,\n",
       "           36589.71319484, 36615.73031357, 36628.73887293, 36667.76455102,\n",
       "           36674.2688307 , 36700.28594942, 36732.80734783, 36765.32874623,\n",
       "           36778.33730559, 36791.34586496, 36810.858704  , 36823.86726336,\n",
       "           36882.40578049, 36901.91861953, 36908.42289922, 36999.48281475,\n",
       "           37038.50849284, 37064.52561156, 37129.56840837, 37155.5855271 ,\n",
       "           37175.09836614, 37201.11548486, 37272.66256135, 37292.1754004 ,\n",
       "           37337.70535817, 37370.22675657, 37396.24387529, 37402.74815498,\n",
       "           37474.29523147, 37493.80807051, 37500.31235019, 37578.36370636,\n",
       "           37610.88510477, 37617.38938445, 37643.40650318, 37727.96213903,\n",
       "           37740.97069839, 37760.48353743, 37806.0134952 , 37812.51777488,\n",
       "           37832.03061393, 37864.55201233, 37877.56057169, 37897.07341074,\n",
       "           37942.6033685 , 37981.62904659, 37994.63760595, 38014.150445  ,\n",
       "           38033.66328404, 38040.16756372, 38053.17612308, 38157.24459798,\n",
       "           38202.77455575, 38241.80023383, 38332.86014937, 38352.37298841,\n",
       "           38365.38154777, 38410.91150554, 38443.43290395, 38462.94574299,\n",
       "           38482.45858203, 38540.99709916, 38554.00565852, 38560.50993821,\n",
       "           38638.56129438, 38671.08269278, 38690.59553183, 38742.62976927,\n",
       "           38781.65544736, 38872.7153629 , 38924.74960034, 38963.77527843,\n",
       "           39002.80095652, 39080.85231269, 39106.86943141, 39126.38227046,\n",
       "           39210.93790631, 39223.94646567, 39236.95502504, 39308.50210153,\n",
       "           39341.02349993, 39347.52777961, 39406.06629674, 39432.08341547,\n",
       "           39438.58769515, 39516.63905132, 39555.66472941, 39575.17756845,\n",
       "           39653.22892462, 39666.23748399, 39672.74176367, 39705.26316207,\n",
       "           39724.77600112, 39731.2802808 , 39750.79311984, 39783.31451824,\n",
       "           39802.82735729, 39867.8701541 , 39906.89583218, 39958.93006963,\n",
       "           40069.50282421, 40095.51994294, 40160.56273975, 40173.57129911,\n",
       "           40186.57985847, 40238.61409592, 40264.63121464, 40284.14405369,\n",
       "           40342.68257082, 40388.21252858, 40427.23820667, 40466.26388476,\n",
       "           40570.33235965, 40602.85375806, 40667.89655487, 40700.41795327,\n",
       "           40765.46075008, 40804.48642817, 40830.5035469 , 40889.04206403,\n",
       "           40915.05918275, 40934.57202179, 40967.0934202 , 41025.63193733,\n",
       "           41045.14477637, 41051.64905605, 41129.70041222, 41142.70897159,\n",
       "           41188.23892935, 41214.25604808, 41220.76032776, 41292.30740425,\n",
       "           41318.32452298, 41337.83736202, 41383.36731979, 41422.39299787,\n",
       "           41428.89727755, 41435.40155723, 41513.45291341, 41539.47003213,\n",
       "           41545.97431181, 41624.02566799, 41656.54706639, 41689.0684648 ,\n",
       "           41741.10270224, 41793.13693969, 41806.14549905, 41858.1797365 ,\n",
       "           41890.70113491, 41897.20541459, 41929.726813  , 42014.28244885,\n",
       "           42027.29100821, 42033.79528789, 42092.33380502, 42131.35948311,\n",
       "           42202.9065596 , 42228.92367832, 42254.94079705, 42280.95791577,\n",
       "           42372.01783131, 42378.52211099, 42385.02639067, 42463.07774684,\n",
       "           42476.0863062 , 42489.09486557, 42528.12054365, 42547.6333827 ,\n",
       "           42560.64194206, 42586.65906078, 42606.17189983, 42625.68473887,\n",
       "           42671.21469664, 42703.73609504, 42723.24893408, 42749.26605281,\n",
       "           42814.30884962, 42820.8131293 , 42833.82168866, 42885.85592611,\n",
       "           42911.87304484, 42924.8816042 , 42970.41156196, 42989.92440101,\n",
       "           43009.43724005, 43041.95863846, 43080.98431654, 43107.00143527,\n",
       "           43172.04423208, 43211.06991016, 43237.08702889, 43315.13838506,\n",
       "           43341.15550379, 43412.70258028, 43451.72825836, 43529.77961454,\n",
       "           43555.79673326, 43594.82241135, 43620.83953007, 43718.40372529,\n",
       "           43744.42084401, 43776.94224242, 43874.50643763, 43907.02783604,\n",
       "           43913.53211572, 43985.07919221, 44017.60059062, 44037.11342966,\n",
       "           44095.65194679, 44108.66050615, 44128.17334519, 44141.18190456,\n",
       "           44219.23326073, 44232.24182009, 44251.75465913, 44310.29317626,\n",
       "           44336.31029499, 44388.34453244, 44420.86593084, 44433.8744902 ,\n",
       "           44485.90872765, 44511.92584638, 44518.43012606, 44570.46436351,\n",
       "           44609.49004159, 44629.00288064, 44681.03711808, 44707.05423681,\n",
       "           44726.56707585, 44765.59275394, 44791.60987266, 44811.12271171,\n",
       "           44856.65266947, 44863.15694915, 44876.16550852, 44902.18262724,\n",
       "           44999.74682246, 45019.2596615 , 45077.79817863, 45116.82385672,\n",
       "           45142.84097544, 45149.34525512, 45259.9180097 , 45285.93512842,\n",
       "           45298.94368778, 45350.97792523, 45376.99504396, 45383.49932364,\n",
       "           45468.05495949, 45500.5763579 , 45539.60203598, 45572.12343439,\n",
       "           45663.18334992, 45695.70474833, 45799.77322323, 45819.28606227,\n",
       "           45838.79890131, 45897.33741844, 45949.37165589, 45955.87593557,\n",
       "           46053.44013079, 46092.46580887, 46098.97008856, 46144.50004632,\n",
       "           46248.56852122, 46274.58563994, 46294.09847899, 46372.14983516,\n",
       "           46378.65411484, 46398.16695388, 46456.70547101, 46469.71403038,\n",
       "           46476.21831006, 46541.26110687, 46573.78250527, 46580.28678495,\n",
       "           46651.83386145, 46690.85953953, 46716.87665826, 46736.3894973 ,\n",
       "           46814.44085347, 46840.4579722 , 46853.46653156, 46866.47509092,\n",
       "           46879.48365028, 46885.98792996, 46898.99648933, 46918.50932837,\n",
       "           46957.53500646, 47016.07352359, 47022.57780327, 47048.59492199,\n",
       "           47146.15911721, 47165.67195625, 47269.74043115, 47334.78322796,\n",
       "           47380.31318572, 47503.89449966, 47549.42445743, 47555.92873711,\n",
       "           47594.9544152 , 47692.51861042, 47725.04000882, 47764.06568691,\n",
       "           47887.64700085, 47920.16839925, 47926.67267893, 48024.23687415,\n",
       "           48043.74971319, 48063.26255224, 48141.31390841, 48160.82674745,\n",
       "           48180.3395865 , 48238.87810362, 48277.90378171, 48290.91234107,\n",
       "           48310.42518012, 48401.48509565, 48427.50221438, 48447.01505342,\n",
       "           48538.07496895, 48557.587808  , 48570.59636736, 48616.12632513,\n",
       "           48635.63916417, 48648.64772353, 48707.18624066, 48726.6990797 ,\n",
       "           48739.70763907, 48759.22047811, 48843.77611396, 48863.28895301,\n",
       "           48895.81035141, 48947.84458886, 48967.3574279 , 48980.36598727,\n",
       "           49045.40878408, 49064.92162312, 49110.45158089, 49142.97297929,\n",
       "           49162.48581834, 49188.50293706, 49260.05001355, 49273.05857291,\n",
       "           49338.10136972, 49344.60564941, 49461.68268366, 49487.69980239,\n",
       "           49494.20408207, 49565.75115856, 49572.25543824, 49598.27255697,\n",
       "           49611.28111633, 49676.32391314, 49682.82819282, 49702.34103186,\n",
       "           49734.86243027, 49741.36670995, 49760.87954899, 49786.89666772,\n",
       "           49806.40950676, 49838.93090517, 49851.93946453, 49864.94802389,\n",
       "           49910.47798166, 49929.9908207 , 49936.49510038, 49975.52077847,\n",
       "           50047.06785496, 50073.08497368, 50105.60637209, 50170.6491689 ,\n",
       "           50209.67484699, 50307.2390422 , 50352.76899997, 50359.27327965,\n",
       "           50443.8289155 , 50482.85459359, 50508.87171232, 50547.8973904 ,\n",
       "           50632.45302626, 50658.47014498, 50677.98298402, 50710.50438243,\n",
       "           50717.00866211, 50730.01722147, 50788.5557386 , 50795.06001828,\n",
       "           50814.57285733, 50860.10281509, 50905.63277286, 50951.16273063,\n",
       "           50983.68412903, 51055.23120552, 51068.23976489])}},\n",
       "  {'segment': 7,\n",
       "   'data_x': array([16.523, 16.525, 16.527, 16.533, 16.534, 16.537, 16.542, 16.547,\n",
       "          16.55 , 16.557, 16.562, 16.565, 16.566, 16.58 , 16.583, 16.586,\n",
       "          16.597, 16.599, 16.602, 16.605, 16.611, 16.617, 16.633, 16.642,\n",
       "          16.649, 16.654, 16.673, 16.678, 16.692, 16.699, 16.701, 16.718,\n",
       "          16.726, 16.73 , 16.742, 16.746, 16.749, 16.753, 16.761, 16.764,\n",
       "          16.768, 16.776, 16.781, 16.786, 16.794, 16.795, 16.799, 16.802,\n",
       "          16.807, 16.81 , 16.814, 16.826, 16.829, 16.839, 16.841, 16.843,\n",
       "          16.85 , 16.86 , 16.867, 16.879, 16.889, 16.894, 16.908, 16.917,\n",
       "          16.922, 16.935, 16.941, 16.944, 16.961, 16.969, 16.979, 16.986,\n",
       "          16.989, 16.997, 17.002, 17.003, 17.004, 17.016, 17.017, 17.019,\n",
       "          17.027, 17.032, 17.036, 17.042, 17.046, 17.049, 17.056, 17.058,\n",
       "          17.059, 17.063, 17.065, 17.068, 17.07 , 17.076, 17.08 , 17.081,\n",
       "          17.087, 17.091, 17.094, 17.104, 17.11 , 17.111, 17.114, 17.12 ,\n",
       "          17.124, 17.128, 17.134, 17.139, 17.14 , 17.154, 17.161, 17.166,\n",
       "          17.176, 17.18 , 17.181, 17.183, 17.193, 17.194, 17.196, 17.201,\n",
       "          17.202, 17.204, 17.212, 17.215, 17.216, 17.219, 17.228, 17.23 ,\n",
       "          17.232, 17.237, 17.24 , 17.241, 17.244, 17.247, 17.248, 17.261,\n",
       "          17.264, 17.265, 17.27 , 17.284, 17.286, 17.291, 17.294, 17.297,\n",
       "          17.308, 17.309, 17.311, 17.317, 17.322, 17.324, 17.329, 17.345,\n",
       "          17.349, 17.353, 17.368, 17.37 , 17.371, 17.382, 17.387, 17.402,\n",
       "          17.408, 17.416, 17.434, 17.437, 17.441, 17.452, 17.454, 17.456,\n",
       "          17.464, 17.466, 17.469, 17.475, 17.48 , 17.484, 17.493, 17.498,\n",
       "          17.501, 17.504, 17.512, 17.515, 17.517, 17.533, 17.536, 17.537,\n",
       "          17.547, 17.551, 17.552, 17.562, 17.57 , 17.571, 17.576, 17.59 ,\n",
       "          17.596, 17.6  , 17.615, 17.619, 17.623, 17.633, 17.639, 17.652,\n",
       "          17.659, 17.66 , 17.667, 17.683, 17.686, 17.688, 17.702, 17.705,\n",
       "          17.711, 17.713, 17.715, 17.718, 17.722, 17.727, 17.73 , 17.743,\n",
       "          17.746, 17.747, 17.749, 17.751, 17.753, 17.754, 17.755, 17.757,\n",
       "          17.758, 17.76 , 17.761, 17.764, 17.773, 17.781, 17.783, 17.785,\n",
       "          17.786, 17.788, 17.789, 17.791, 17.792, 17.794, 17.796, 17.797,\n",
       "          17.798, 17.8  , 17.801, 17.803, 17.804, 17.805, 17.806, 17.807,\n",
       "          17.809, 17.81 , 17.811, 17.812, 17.813, 17.814, 17.815, 17.816,\n",
       "          17.817, 17.818, 17.819, 17.823, 17.824, 17.825, 17.829, 17.83 ,\n",
       "          17.848, 17.855, 17.856, 17.877, 17.884, 17.885, 17.896, 17.902,\n",
       "          17.905, 17.909, 17.924, 17.925, 17.927, 17.938, 17.939, 17.941,\n",
       "          17.949, 17.952, 17.954, 17.965, 17.972, 17.973, 17.986, 17.991,\n",
       "          17.995, 17.996, 18.012, 18.016, 18.028, 18.033, 18.036, 18.043,\n",
       "          18.052, 18.055, 18.064, 18.066, 18.069, 18.077, 18.078, 18.081,\n",
       "          18.082, 18.083, 18.086, 18.091, 18.093, 18.097, 18.115, 18.118,\n",
       "          18.122, 18.138, 18.139, 18.141, 18.152, 18.157, 18.169, 18.175,\n",
       "          18.176, 18.19 , 18.203, 18.208, 18.215, 18.232, 18.235, 18.236,\n",
       "          18.253, 18.257, 18.258, 18.27 , 18.277, 18.278, 18.294, 18.304,\n",
       "          18.309, 18.319, 18.327, 18.332, 18.348, 18.355, 18.36 , 18.375,\n",
       "          18.383, 18.385, 18.401, 18.408, 18.413, 18.417, 18.432, 18.435,\n",
       "          18.44 , 18.455, 18.461, 18.462, 18.472, 18.479, 18.486, 18.501,\n",
       "          18.51 , 18.514, 18.521, 18.541, 18.546, 18.548, 18.566, 18.573,\n",
       "          18.581, 18.598, 18.606, 18.613, 18.626, 18.632, 18.633, 18.639,\n",
       "          18.658, 18.661, 18.665, 18.679, 18.684, 18.685, 18.698, 18.704,\n",
       "          18.71 , 18.725, 18.729, 18.731, 18.742, 18.751, 18.757, 18.763,\n",
       "          18.78 , 18.785, 18.786, 18.805, 18.811, 18.828, 18.837, 18.853,\n",
       "          18.862, 18.871, 18.881, 18.91 , 18.918, 18.925, 18.942, 18.95 ,\n",
       "          18.952, 18.974, 18.985, 18.988, 19.001, 19.007, 19.014, 19.025,\n",
       "          19.053, 19.062, 19.07 , 19.089, 19.095, 19.101, 19.116, 19.126,\n",
       "          19.127, 19.144, 19.155, 19.157, 19.168, 19.182, 19.187, 19.191,\n",
       "          19.205, 19.211, 19.233, 19.238, 19.245, 19.26 , 19.268, 19.269,\n",
       "          19.289, 19.303, 19.309, 19.321, 19.327, 19.332, 19.352, 19.355,\n",
       "          19.356, 19.366, 19.373, 19.393, 19.408, 19.419, 19.43 , 19.456,\n",
       "          19.464, 19.479, 19.492, 19.493, 19.496, 19.503, 19.509, 19.513,\n",
       "          19.519, 19.525, 19.528, 19.53 , 19.539, 19.542, 19.547, 19.564,\n",
       "          19.569, 19.57 , 19.59 , 19.595, 19.597, 19.612, 19.623, 19.632,\n",
       "          19.651, 19.662, 19.672, 19.674, 19.696, 19.702, 19.703, 19.717,\n",
       "          19.724, 19.739, 19.746, 19.751, 19.756, 19.768, 19.771, 19.773,\n",
       "          19.79 , 19.795, 19.799, 19.807, 19.811, 19.813, 19.823, 19.834,\n",
       "          19.837, 19.846, 19.858, 19.86 , 19.864, 19.879, 19.884, 19.889,\n",
       "          19.9  , 19.903, 19.906, 19.914, 19.92 , 19.924, 19.928, 19.936,\n",
       "          19.938, 19.942]),\n",
       "   'data_y': array([50345.60991304, 50362.81978744, 50381.54193237, 50397.88096618,\n",
       "          50414.36108213, 50431.24575845, 50447.24477295, 50462.98643478,\n",
       "          50478.66877295, 50494.34314976, 50509.94600966, 50526.78879227,\n",
       "          50542.09198068, 50558.06815459, 50573.92942995, 50589.37207729,\n",
       "          50604.6930628 , 50621.59211594, 50637.20927536, 50653.14838647,\n",
       "          50669.0134686 , 50684.75569082, 50700.44017391, 50716.10257005,\n",
       "          50733.00970048, 50747.7909372 , 50763.30728502, 50778.73986473,\n",
       "          50793.79540097, 50808.48558454, 50824.00144928, 50837.22011594,\n",
       "          50850.76295652, 50863.39609662, 50877.07207729, 50889.61791304,\n",
       "          50901.60631884, 50913.0786087 , 50924.11174879, 50934.22267633,\n",
       "          50945.58875362, 50956.68033816, 50967.80830918, 50979.90578744,\n",
       "          50991.70591304, 51003.66039614, 51015.74456039, 51027.95892754,\n",
       "          51040.3029372 , 51052.79278261, 51065.37528502, 51078.56717874,\n",
       "          51091.4567343 , 51103.85966184, 51116.70728502, 51129.92806763,\n",
       "          51143.52469565, 51157.46292754, 51172.664657  , 51187.10976812,\n",
       "          51202.62241546, 51218.13119807, 51233.88533333, 51249.18696618,\n",
       "          51267.09354589, 51283.36821256, 51300.13373913, 51318.95114976,\n",
       "          51335.43692754, 51351.84386473, 51367.84651208, 51382.82113043,\n",
       "          51398.25348792, 51412.83622222, 51427.02222222, 51440.83206763,\n",
       "          51453.75864734, 51466.00285024, 51479.34619324, 51491.46335266,\n",
       "          51504.74617391, 51517.74068599, 51531.06188406, 51544.68292754,\n",
       "          51558.39023188, 51572.11515942, 51585.84230918, 51599.50002899,\n",
       "          51614.29890821, 51626.67353623, 51640.90636715, 51654.62940097,\n",
       "          51666.49154589, 51678.78596135, 51690.72770048, 51701.98742995,\n",
       "          51714.49287923, 51725.42059903, 51736.24114976, 51746.64921739,\n",
       "          51756.6256715 , 51766.12629952, 51775.85110145, 51785.51464734,\n",
       "          51795.29652174, 51804.9964058 , 51814.7996715 , 51823.82131401,\n",
       "          51832.19451208, 51841.176657  , 51849.37524638, 51857.39804831,\n",
       "          51865.31275362, 51872.95234783, 51881.31084058, 51888.15062802,\n",
       "          51895.52747826, 51902.16050242, 51909.94604831, 51917.48282126,\n",
       "          51924.86494686, 51931.14324638, 51938.37441546, 51944.90666667,\n",
       "          51950.97603865, 51958.01286957, 51964.54228019, 51971.68535266,\n",
       "          51978.00977778, 51985.50697585, 51991.97259903, 51998.62883092,\n",
       "          52004.57520773, 52012.7211401 , 52019.95051208, 52027.18651208,\n",
       "          52034.63047343, 52042.51742995, 52050.32834783, 52058.21694686,\n",
       "          52066.17748792, 52074.16005797, 52083.1043285 , 52090.568657  ,\n",
       "          52098.58956522, 52106.3897971 , 52114.40669565, 52121.23458937,\n",
       "          52128.18883092, 52135.49018357, 52141.75828019, 52148.28740097,\n",
       "          52154.90123671, 52160.79511111, 52167.74716908, 52174.66247343,\n",
       "          52180.57601932, 52187.56521739, 52194.00088889, 52199.83627053,\n",
       "          52206.23795169, 52212.64349758, 52218.76749758, 52224.77731401,\n",
       "          52230.70622222, 52236.57163285, 52242.37542029, 52247.8225314 ,\n",
       "          52254.43429952, 52259.79808696, 52265.28264734, 52271.27783575,\n",
       "          52276.85081159, 52282.19828019, 52288.3294686 , 52294.05511111,\n",
       "          52299.50038647, 52305.44490821, 52311.97437681, 52317.38168116,\n",
       "          52322.57907246, 52328.02467633, 52333.90954589, 52339.05157488,\n",
       "          52344.52235749, 52349.83130435, 52355.14124638, 52360.33026087,\n",
       "          52365.35313043, 52371.19810628, 52376.7278744 , 52382.37014493,\n",
       "          52388.60356522, 52394.39431884, 52400.32670531, 52406.94562319,\n",
       "          52412.26985507, 52418.84378744, 52425.79681159, 52431.83694686,\n",
       "          52438.2817971 , 52445.09731401, 52451.13393237, 52457.13972947,\n",
       "          52462.987343  , 52468.68343961, 52472.98141063, 52477.80417391,\n",
       "          52483.67687729, 52488.92369082, 52493.75655072, 52498.37165217,\n",
       "          52503.35095652, 52509.27180676, 52514.58933333, 52519.53920773,\n",
       "          52524.37856039, 52529.00330435, 52533.69345894, 52538.49147826,\n",
       "          52543.07831884, 52548.25723671, 52552.527343  , 52556.50720773,\n",
       "          52560.37725604, 52563.79014493, 52566.90435749, 52569.5671562 ,\n",
       "          52571.77365217, 52573.43008696, 52574.60910596, 52576.925457  ,\n",
       "          52578.9977372 , 52579.67308857, 52580.41798841, 52581.18232657,\n",
       "          52582.15290306, 52582.79301256, 52582.97678068, 52582.36678712,\n",
       "          52582.18456167, 52581.8511285 , 52581.90942287, 52581.75490757,\n",
       "          52581.64658551, 52581.39416296, 52581.24642061, 52581.16671691,\n",
       "          52581.14772818, 52581.22686506, 52581.37203092, 52581.57377649,\n",
       "          52581.82159936, 52582.12598261, 52582.54900676, 52582.9173694 ,\n",
       "          52583.30965604, 52583.78580097, 52584.20203607, 52584.55890242,\n",
       "          52584.97723092, 52585.30223897, 52585.76886377, 52586.23090242,\n",
       "          52586.95992979, 52587.53369469, 52588.30695072, 52589.14692367,\n",
       "          52589.86895266, 52590.67885604, 52591.61244444, 52592.56351691,\n",
       "          52593.43536232, 52594.4825314 , 52595.42115942, 52596.42948792,\n",
       "          52597.2945314 , 52598.44125604, 52599.48316908, 52600.544     ,\n",
       "          52601.62231884, 52602.76608696, 52604.03198068, 52605.25992271,\n",
       "          52606.59404831, 52608.05943961, 52609.67889855, 52611.41137198,\n",
       "          52613.62156522, 52614.88916908, 52617.34226087, 52620.39059903,\n",
       "          52623.26452174, 52626.97898551, 52630.24436715, 52633.50070531,\n",
       "          52636.85344928, 52640.38613527, 52643.75128502, 52647.2495942 ,\n",
       "          52650.77157488, 52654.48625121, 52657.89000966, 52661.97647343,\n",
       "          52665.68063768, 52669.31603865, 52672.98258937, 52676.31277295,\n",
       "          52680.52852174, 52684.6149372 , 52688.75437681, 52692.96666667,\n",
       "          52697.5098744 , 52701.66491787, 52706.95447343, 52712.69011594,\n",
       "          52717.78599034, 52723.09376812, 52728.45074396, 52733.81651208,\n",
       "          52738.90218357, 52744.82312077, 52750.32009662, 52755.8926087 ,\n",
       "          52761.56589372, 52767.35885024, 52773.44803865, 52779.61228985,\n",
       "          52785.10962319, 52790.97899517, 52797.07172947, 52803.46532367,\n",
       "          52810.44573913, 52817.14211594, 52824.00571981, 52830.91809662,\n",
       "          52837.84508213, 52844.82165217, 52851.81478261, 52859.30491787,\n",
       "          52865.98921739, 52873.17448309, 52880.11737198, 52887.09311111,\n",
       "          52893.69418357, 52900.70095652, 52906.89590338, 52913.39626087,\n",
       "          52919.90123671, 52926.43086957, 52933.124     , 52939.48802899,\n",
       "          52945.95128502, 52952.53646377, 52959.08023188, 52965.63916908,\n",
       "          52972.25072464, 52978.93503382, 52985.71659903, 52992.46456039,\n",
       "          52999.19884058, 53005.5505314 , 53012.963343  , 53019.81942029,\n",
       "          53026.77536232, 53033.87288889, 53041.10755556, 53048.99213527,\n",
       "          53056.01035749, 53063.55833816, 53071.27246377, 53079.16701449,\n",
       "          53087.25480193, 53095.52774879, 53103.74405797, 53112.6068599 ,\n",
       "          53121.10508213, 53129.54243478, 53137.89972947, 53146.219343  ,\n",
       "          53154.54299517, 53162.90508213, 53171.35712077, 53179.85708213,\n",
       "          53188.07608696, 53196.1298744 , 53204.71352657, 53212.311343  ,\n",
       "          53220.76148792, 53229.64231884, 53239.28322705, 53248.9611401 ,\n",
       "          53258.94500483, 53269.24255072, 53279.89091787, 53290.88921739,\n",
       "          53302.18842512, 53313.76521739, 53325.89744928, 53338.4523285 ,\n",
       "          53350.30133333, 53362.34510145, 53374.32342029, 53386.23478261,\n",
       "          53398.07327536, 53409.83410628, 53421.81507246, 53433.5533913 ,\n",
       "          53444.64834783, 53455.63051208, 53466.61778744, 53477.7690628 ,\n",
       "          53489.24231884, 53500.81489855, 53512.30171981, 53524.3887343 ,\n",
       "          53536.00052174, 53547.48624155, 53558.85907246, 53570.13045411,\n",
       "          53581.26691787, 53592.02760386, 53602.57254106, 53612.87141063,\n",
       "          53623.48152657, 53634.00818357, 53644.51058937, 53655.04058937,\n",
       "          53665.63410628, 53676.31171981, 53687.08844444, 53697.51336232,\n",
       "          53708.09569082, 53718.30144928, 53728.30079227, 53738.02343961,\n",
       "          53748.74629952, 53758.98877295, 53769.22731401, 53779.78970048,\n",
       "          53789.35960386, 53799.00886957, 53808.42988406, 53817.56649275,\n",
       "          53826.38878261, 53834.87429952, 53843.53428985, 53852.12389372,\n",
       "          53861.05135266, 53869.11736232, 53876.69228019, 53884.3856715 ,\n",
       "          53891.52333333, 53898.26074396, 53904.65942995, 53910.99718841,\n",
       "          53916.6081256 , 53921.4526087 , 53926.08315942, 53930.56208696,\n",
       "          53935.1463285 , 53938.79428019, 53942.37388406, 53945.56838647,\n",
       "          53948.87543961, 53951.76600966, 53954.47661836, 53957.09074396,\n",
       "          53959.65895652, 53962.18411594, 53964.77590338, 53967.18749758,\n",
       "          53969.83107246, 53971.83945894, 53974.27215459, 53976.86407729,\n",
       "          53979.02321739, 53981.31897585, 53983.74549758, 53986.17113043,\n",
       "          53988.13102415, 53990.22340097, 53992.24221256, 53994.20197101,\n",
       "          53996.11336232, 53998.11733333, 53999.77003865, 54001.37043478,\n",
       "          54003.00686957, 54004.36720773, 54005.72149758, 54007.03582609,\n",
       "          54008.29508213, 54009.50171981, 54010.70236715, 54011.78428985,\n",
       "          54012.81314976, 54013.77654106, 54014.82455072, 54015.62541063,\n",
       "          54016.47904348, 54017.32056039, 54018.27971014, 54019.14672464,\n",
       "          54019.94950725, 54020.81062802, 54021.58057971, 54022.29619324,\n",
       "          54023.09377778, 54023.81826087, 54024.54490821, 54025.23524638,\n",
       "          54026.00401932, 54026.79120773, 54027.42332367, 54028.1978744 ,\n",
       "          54028.91501449, 54029.59290821, 54030.35833816, 54031.0752657 ,\n",
       "          54031.78457971, 54032.48608696]),\n",
       "   'fitted_model': {'slope': np.float64(4765.7957627800615),\n",
       "    'intercept': np.float64(1316.1226069129264),\n",
       "    'fitted_y': array([51091.51308134, 51093.45169532, 51095.3903093 , 51101.20615123,\n",
       "           51102.17545822, 51105.08337918, 51109.92991413, 51114.77644907,\n",
       "           51117.68437004, 51124.46951896, 51129.3160539 , 51132.22397487,\n",
       "           51133.19328186, 51146.7635797 , 51149.67150067, 51152.57942163,\n",
       "           51163.24179851, 51165.18041249, 51168.08833345, 51170.99625442,\n",
       "           51176.81209635, 51182.62793829, 51198.13685011, 51206.86061301,\n",
       "           51213.64576193, 51218.49229687, 51236.90912966, 51241.7556646 ,\n",
       "           51255.32596244, 51262.11111137, 51264.04972534, 51280.52794415,\n",
       "           51288.28240006, 51292.15962802, 51303.79131188, 51307.66853984,\n",
       "           51310.5764608 , 51314.45368876, 51322.20814467, 51325.11606564,\n",
       "           51328.99329359, 51336.7477495 , 51341.59428445, 51346.44081939,\n",
       "           51354.1952753 , 51355.16458229, 51359.04181024, 51361.94973121,\n",
       "           51366.79626615, 51369.70418712, 51373.58141508, 51385.21309894,\n",
       "           51388.12101991, 51397.8140898 , 51399.75270377, 51401.69131775,\n",
       "           51408.47646667, 51418.16953656, 51424.95468548, 51436.58636935,\n",
       "           51446.27943923, 51451.12597418, 51464.69627202, 51473.42003492,\n",
       "           51478.26656986, 51490.86756072, 51496.68340265, 51499.59132362,\n",
       "           51516.06954243, 51523.82399834, 51533.51706822, 51540.30221715,\n",
       "           51543.21013811, 51550.96459402, 51555.81112897, 51556.78043595,\n",
       "           51557.74974294, 51569.38142681, 51570.3507338 , 51572.28934778,\n",
       "           51580.04380369, 51584.89033863, 51588.76756658, 51594.58340852,\n",
       "           51598.46063647, 51601.36855744, 51608.15370636, 51610.09232034,\n",
       "           51611.06162733, 51614.93885528, 51616.87746926, 51619.78539023,\n",
       "           51621.7240042 , 51627.53984614, 51631.41707409, 51632.38638108,\n",
       "           51638.20222301, 51642.07945097, 51644.98737193, 51654.68044182,\n",
       "           51660.49628375, 51661.46559074, 51664.37351171, 51670.18935364,\n",
       "           51674.0665816 , 51677.94380955, 51683.75965148, 51688.60618643,\n",
       "           51689.57549342, 51703.14579126, 51709.93094018, 51714.77747513,\n",
       "           51724.47054501, 51728.34777297, 51729.31707996, 51731.25569393,\n",
       "           51740.94876382, 51741.91807081, 51743.85668479, 51748.70321973,\n",
       "           51749.67252672, 51751.6111407 , 51759.36559661, 51762.27351758,\n",
       "           51763.24282456, 51766.15074553, 51774.87450843, 51776.81312241,\n",
       "           51778.75173639, 51783.59827133, 51786.5061923 , 51787.47549928,\n",
       "           51790.38342025, 51793.29134122, 51794.26064821, 51806.86163906,\n",
       "           51809.76956003, 51810.73886701, 51815.58540196, 51829.1556998 ,\n",
       "           51831.09431378, 51835.94084872, 51838.84876969, 51841.75669066,\n",
       "           51852.41906753, 51853.38837452, 51855.3269885 , 51861.14283043,\n",
       "           51865.98936538, 51867.92797935, 51872.7745143 , 51888.28342612,\n",
       "           51892.16065407, 51896.03788203, 51910.57748686, 51912.51610084,\n",
       "           51913.48540783, 51924.1477847 , 51928.99431965, 51943.53392448,\n",
       "           51949.34976641, 51957.10422232, 51974.55174812, 51977.45966908,\n",
       "           51981.33689704, 51991.99927392, 51993.93788789, 51995.87650187,\n",
       "           52003.63095778, 52005.56957176, 52008.47749273, 52014.29333466,\n",
       "           52019.1398696 , 52023.01709756, 52031.74086046, 52036.5873954 ,\n",
       "           52039.49531637, 52042.40323733, 52050.15769324, 52053.06561421,\n",
       "           52055.00422819, 52070.51314001, 52073.42106097, 52074.39036796,\n",
       "           52084.08343785, 52087.96066581, 52088.92997279, 52098.62304268,\n",
       "           52106.37749859, 52107.34680558, 52112.19334053, 52125.76363837,\n",
       "           52131.5794803 , 52135.45670826, 52149.99631309, 52153.87354104,\n",
       "           52157.750769  , 52167.44383889, 52173.25968082, 52185.86067167,\n",
       "           52192.64582059, 52193.61512758, 52200.4002765 , 52215.90918832,\n",
       "           52218.81710929, 52220.75572327, 52234.32602111, 52237.23394208,\n",
       "           52243.04978401, 52244.98839799, 52246.92701197, 52249.83493293,\n",
       "           52253.71216089, 52258.55869583, 52261.4666168 , 52274.06760765,\n",
       "           52276.97552862, 52277.94483561, 52279.88344958, 52281.82206356,\n",
       "           52283.76067754, 52284.72998453, 52285.69929152, 52287.63790549,\n",
       "           52288.60721248, 52290.54582646, 52291.51513345, 52294.42305442,\n",
       "           52303.14681731, 52310.90127322, 52312.8398872 , 52314.77850118,\n",
       "           52315.74780817, 52317.68642215, 52318.65572913, 52320.59434311,\n",
       "           52321.5636501 , 52323.50226408, 52325.44087806, 52326.41018505,\n",
       "           52327.37949203, 52329.31810601, 52330.287413  , 52332.22602698,\n",
       "           52333.19533397, 52334.16464096, 52335.13394794, 52336.10325493,\n",
       "           52338.04186891, 52339.0111759 , 52339.98048289, 52340.94978988,\n",
       "           52341.91909687, 52342.88840385, 52343.85771084, 52344.82701783,\n",
       "           52345.79632482, 52346.76563181, 52347.7349388 , 52351.61216675,\n",
       "           52352.58147374, 52353.55078073, 52357.42800869, 52358.39731567,\n",
       "           52375.84484147, 52382.62999039, 52383.59929738, 52403.95474415,\n",
       "           52410.73989307, 52411.70920006, 52422.37157693, 52428.18741887,\n",
       "           52431.09533983, 52434.97256779, 52449.51217262, 52450.48147961,\n",
       "           52452.42009359, 52463.08247046, 52464.05177745, 52465.99039143,\n",
       "           52473.74484734, 52476.65276831, 52478.59138228, 52489.25375916,\n",
       "           52496.03890808, 52497.00821507, 52509.60920592, 52514.45574087,\n",
       "           52518.33296882, 52519.30227581, 52534.81118763, 52538.68841559,\n",
       "           52550.32009945, 52555.1666344 , 52558.07455536, 52564.85970428,\n",
       "           52573.58346718, 52576.49138815, 52585.21515105, 52587.15376503,\n",
       "           52590.06168599, 52597.8161419 , 52598.78544889, 52601.69336986,\n",
       "           52602.66267685, 52603.63198384, 52606.5399048 , 52611.38643975,\n",
       "           52613.32505372, 52617.20228168, 52634.64980748, 52637.55772844,\n",
       "           52641.4349564 , 52656.94386822, 52657.91317521, 52659.85178919,\n",
       "           52670.51416606, 52675.36070101, 52686.99238487, 52692.8082268 ,\n",
       "           52693.77753379, 52707.34783164, 52719.94882249, 52724.79535743,\n",
       "           52731.58050635, 52748.05872516, 52750.96664613, 52751.93595312,\n",
       "           52768.41417193, 52772.29139988, 52773.26070687, 52784.89239074,\n",
       "           52791.67753966, 52792.64684665, 52808.15575847, 52817.84882836,\n",
       "           52822.6953633 , 52832.38843319, 52840.1428891 , 52844.98942404,\n",
       "           52860.49833586, 52867.28348478, 52872.13001973, 52886.66962456,\n",
       "           52894.42408047, 52896.36269445, 52911.87160627, 52918.65675519,\n",
       "           52923.50329013, 52927.38051809, 52941.92012292, 52944.82804389,\n",
       "           52949.67457883, 52964.21418366, 52970.03002559, 52970.99933258,\n",
       "           52980.69240247, 52987.47755139, 52994.26270031, 53008.80230515,\n",
       "           53017.52606804, 53021.403296  , 53028.18844492, 53047.5745847 ,\n",
       "           53052.42111964, 53054.35973362, 53071.80725942, 53078.59240834,\n",
       "           53086.34686425, 53102.82508306, 53110.57953897, 53117.36468789,\n",
       "           53129.96567874, 53135.78152068, 53136.75082766, 53142.5666696 ,\n",
       "           53160.98350238, 53163.89142335, 53167.76865131, 53181.33894915,\n",
       "           53186.18548409, 53187.15479108, 53199.75578193, 53205.57162387,\n",
       "           53211.3874658 , 53225.92707063, 53229.80429859, 53231.74291256,\n",
       "           53242.40528944, 53251.12905234, 53256.94489427, 53262.76073621,\n",
       "           53279.23895501, 53284.08548996, 53285.05479695, 53303.47162973,\n",
       "           53309.28747167, 53325.76569048, 53334.48945338, 53349.9983652 ,\n",
       "           53358.72212809, 53367.44589099, 53377.13896088, 53405.24886356,\n",
       "           53413.00331947, 53419.78846839, 53436.2666872 , 53444.02114311,\n",
       "           53445.95975708, 53467.28451084, 53477.94688771, 53480.85480868,\n",
       "           53493.45579953, 53499.27164147, 53506.05679039, 53516.71916727,\n",
       "           53543.85976295, 53552.58352585, 53560.33798176, 53578.75481455,\n",
       "           53584.57065648, 53590.38649841, 53604.92610324, 53614.61917313,\n",
       "           53615.58848012, 53632.06669893, 53642.72907581, 53644.66768978,\n",
       "           53655.33006666, 53668.9003645 , 53673.74689945, 53677.6241274 ,\n",
       "           53691.19442525, 53697.01026718, 53718.33502093, 53723.18155588,\n",
       "           53729.9667048 , 53744.50630963, 53752.26076554, 53753.23007253,\n",
       "           53772.6162123 , 53786.18651015, 53792.00235208, 53803.63403594,\n",
       "           53809.44987788, 53814.29641282, 53833.6825526 , 53836.59047356,\n",
       "           53837.55978055, 53847.25285044, 53854.03799936, 53873.42413914,\n",
       "           53887.96374397, 53898.62612084, 53909.28849772, 53934.49047943,\n",
       "           53942.24493534, 53956.78454017, 53969.38553103, 53970.35483801,\n",
       "           53973.26275898, 53980.0479079 , 53985.86374983, 53989.74097779,\n",
       "           53995.55681972, 54001.37266165, 54004.28058262, 54006.2191966 ,\n",
       "           54014.9429595 , 54017.85088046, 54022.69741541, 54039.17563422,\n",
       "           54044.02216916, 54044.99147615, 54064.37761593, 54069.22415087,\n",
       "           54071.16276485, 54085.70236968, 54096.36474656, 54105.08850945,\n",
       "           54123.50534224, 54134.16771912, 54143.86078901, 54145.79940298,\n",
       "           54167.12415674, 54172.93999867, 54173.90930566, 54187.4796035 ,\n",
       "           54194.26475242, 54208.80435725, 54215.58950618, 54220.43604112,\n",
       "           54225.28257606, 54236.91425993, 54239.82218089, 54241.76079487,\n",
       "           54258.23901368, 54263.08554863, 54266.96277658, 54274.71723249,\n",
       "           54278.59446045, 54280.53307442, 54290.22614431, 54300.88852119,\n",
       "           54303.79644215, 54312.52020505, 54324.15188892, 54326.0905029 ,\n",
       "           54329.96773085, 54344.50733568, 54349.35387063, 54354.20040557,\n",
       "           54364.86278245, 54367.77070341, 54370.67862438, 54378.43308029,\n",
       "           54384.24892222, 54388.12615018, 54392.00337813, 54399.75783404,\n",
       "           54401.69644802, 54405.57367598])}},\n",
       "  {'segment': 8,\n",
       "   'data_x': array([19.958, 19.96 , 19.961, ..., 34.25 , 34.251, 34.252], shape=(2082,)),\n",
       "   'data_y': array([54033.19217391, 54033.82558454, 54034.57770048, ...,\n",
       "          55084.19048725, 55083.8790834 , 55083.47556072], shape=(2082,)),\n",
       "   'fitted_model': {'slope': np.float64(4765.7957627800615),\n",
       "    'intercept': np.float64(1316.1226069129264),\n",
       "    'fitted_y': array([54408.97705903, 54409.05726686, 54409.09737078, ...,\n",
       "           54982.1422747 , 54982.18237862, 54982.22248254], shape=(2082,))}}]}"
      ]
     },
     "execution_count": 13,
     "metadata": {},
     "output_type": "execute_result"
    }
   ],
   "source": [
    "segments = utils.extract_segments(ms)   \n",
    "segments"
   ]
  },
  {
   "cell_type": "code",
   "execution_count": 19,
   "metadata": {},
   "outputs": [
    {
     "data": {
      "image/png": "[encoded data removed]",
      "text/plain": [
       "<Figure size 1500x1000 with 8 Axes>"
      ]
     },
     "metadata": {},
     "output_type": "display_data"
    }
   ],
   "source": [
    "plots.plot_segments(segments, \n",
    "                    metric_per_segment, \n",
    "                    title=f\"Segment-wise linear fitting: {name}\")"
   ]
  },
  {
   "cell_type": "markdown",
   "metadata": {},
   "source": [
    "---\n",
    "\n",
    "## Other analysis\n",
    "\n",
    "### 1. Density of points in processed data\n"
   ]
  },
  {
   "cell_type": "code",
   "execution_count": 20,
   "metadata": {},
   "outputs": [],
   "source": [
    "width = 1 # meters\n",
    "\n",
    "density = analysis.calculate_density(x_processed, y_processed, bin_width=width)"
   ]
  },
  {
   "cell_type": "code",
   "execution_count": 21,
   "metadata": {},
   "outputs": [
    {
     "data": {
      "application/vnd.plotly.v1+json": {
       "config": {
        "plotlyServerURL": "https://plot.ly"
       },
       "data": [
        {
         "marker": {
          "color": "lightgreen",
          "line": {
           "color": "black",
           "width": 1
          }
         },
         "text": [
          163,
          128,
          120,
          109,
          153,
          161,
          174,
          173,
          153,
          141,
          147,
          121,
          129,
          225,
          182,
          172,
          166,
          216,
          122,
          117,
          158,
          128,
          124,
          167,
          132,
          182,
          138,
          129,
          144,
          180,
          180,
          131,
          129,
          95,
          58
         ],
         "textposition": "auto",
         "type": "bar",
         "x": [
          0.4857142857142857,
          1.457142857142857,
          2.4285714285714284,
          3.4,
          4.371428571428571,
          5.3428571428571425,
          6.314285714285714,
          7.285714285714286,
          8.257142857142856,
          9.228571428571428,
          10.2,
          11.17142857142857,
          12.142857142857142,
          13.114285714285714,
          14.085714285714285,
          15.057142857142857,
          16.02857142857143,
          17,
          17.971428571428568,
          18.942857142857143,
          19.91428571428571,
          20.885714285714286,
          21.857142857142854,
          22.82857142857143,
          23.799999999999997,
          24.771428571428572,
          25.74285714285714,
          26.714285714285715,
          27.685714285714283,
          28.65714285714286,
          29.628571428571426,
          30.6,
          31.57142857142857,
          32.542857142857144,
          33.51428571428571
         ],
         "y": [
          163,
          128,
          120,
          109,
          153,
          161,
          174,
          173,
          153,
          141,
          147,
          121,
          129,
          225,
          182,
          172,
          166,
          216,
          122,
          117,
          158,
          128,
          124,
          167,
          132,
          182,
          138,
          129,
          144,
          180,
          180,
          131,
          129,
          95,
          58
         ]
        }
       ],
       "layout": {
        "bargap": 0.1,
        "template": {
         "data": {
          "bar": [
           {
            "error_x": {
             "color": "#2a3f5f"
            },
            "error_y": {
             "color": "#2a3f5f"
            },
            "marker": {
             "line": {
              "color": "white",
              "width": 0.5
             },
             "pattern": {
              "fillmode": "overlay",
              "size": 10,
              "solidity": 0.2
             }
            },
            "type": "bar"
           }
          ],
          "barpolar": [
           {
            "marker": {
             "line": {
              "color": "white",
              "width": 0.5
             },
             "pattern": {
              "fillmode": "overlay",
              "size": 10,
              "solidity": 0.2
             }
            },
            "type": "barpolar"
           }
          ],
          "carpet": [
           {
            "aaxis": {
             "endlinecolor": "#2a3f5f",
             "gridcolor": "#C8D4E3",
             "linecolor": "#C8D4E3",
             "minorgridcolor": "#C8D4E3",
             "startlinecolor": "#2a3f5f"
            },
            "baxis": {
             "endlinecolor": "#2a3f5f",
             "gridcolor": "#C8D4E3",
             "linecolor": "#C8D4E3",
             "minorgridcolor": "#C8D4E3",
             "startlinecolor": "#2a3f5f"
            },
            "type": "carpet"
           }
          ],
          "choropleth": [
           {
            "colorbar": {
             "outlinewidth": 0,
             "ticks": ""
            },
            "type": "choropleth"
           }
          ],
          "contour": [
           {
            "colorbar": {
             "outlinewidth": 0,
             "ticks": ""
            },
            "colorscale": [
             [
              0,
              "#0d0887"
             ],
             [
              0.1111111111111111,
              "#46039f"
             ],
             [
              0.2222222222222222,
              "#7201a8"
             ],
             [
              0.3333333333333333,
              "#9c179e"
             ],
             [
              0.4444444444444444,
              "#bd3786"
             ],
             [
              0.5555555555555556,
              "#d8576b"
             ],
             [
              0.6666666666666666,
              "#ed7953"
             ],
             [
              0.7777777777777778,
              "#fb9f3a"
             ],
             [
              0.8888888888888888,
              "#fdca26"
             ],
             [
              1,
              "#f0f921"
             ]
            ],
            "type": "contour"
           }
          ],
          "contourcarpet": [
           {
            "colorbar": {
             "outlinewidth": 0,
             "ticks": ""
            },
            "type": "contourcarpet"
           }
          ],
          "heatmap": [
           {
            "colorbar": {
             "outlinewidth": 0,
             "ticks": ""
            },
            "colorscale": [
             [
              0,
              "#0d0887"
             ],
             [
              0.1111111111111111,
              "#46039f"
             ],
             [
              0.2222222222222222,
              "#7201a8"
             ],
             [
              0.3333333333333333,
              "#9c179e"
             ],
             [
              0.4444444444444444,
              "#bd3786"
             ],
             [
              0.5555555555555556,
              "#d8576b"
             ],
             [
              0.6666666666666666,
              "#ed7953"
             ],
             [
              0.7777777777777778,
              "#fb9f3a"
             ],
             [
              0.8888888888888888,
              "#fdca26"
             ],
             [
              1,
              "#f0f921"
             ]
            ],
            "type": "heatmap"
           }
          ],
          "heatmapgl": [
           {
            "colorbar": {
             "outlinewidth": 0,
             "ticks": ""
            },
            "colorscale": [
             [
              0,
              "#0d0887"
             ],
             [
              0.1111111111111111,
              "#46039f"
             ],
             [
              0.2222222222222222,
              "#7201a8"
             ],
             [
              0.3333333333333333,
              "#9c179e"
             ],
             [
              0.4444444444444444,
              "#bd3786"
             ],
             [
              0.5555555555555556,
              "#d8576b"
             ],
             [
              0.6666666666666666,
              "#ed7953"
             ],
             [
              0.7777777777777778,
              "#fb9f3a"
             ],
             [
              0.8888888888888888,
              "#fdca26"
             ],
             [
              1,
              "#f0f921"
             ]
            ],
            "type": "heatmapgl"
           }
          ],
          "histogram": [
           {
            "marker": {
             "pattern": {
              "fillmode": "overlay",
              "size": 10,
              "solidity": 0.2
             }
            },
            "type": "histogram"
           }
          ],
          "histogram2d": [
           {
            "colorbar": {
             "outlinewidth": 0,
             "ticks": ""
            },
            "colorscale": [
             [
              0,
              "#0d0887"
             ],
             [
              0.1111111111111111,
              "#46039f"
             ],
             [
              0.2222222222222222,
              "#7201a8"
             ],
             [
              0.3333333333333333,
              "#9c179e"
             ],
             [
              0.4444444444444444,
              "#bd3786"
             ],
             [
              0.5555555555555556,
              "#d8576b"
             ],
             [
              0.6666666666666666,
              "#ed7953"
             ],
             [
              0.7777777777777778,
              "#fb9f3a"
             ],
             [
              0.8888888888888888,
              "#fdca26"
             ],
             [
              1,
              "#f0f921"
             ]
            ],
            "type": "histogram2d"
           }
          ],
          "histogram2dcontour": [
           {
            "colorbar": {
             "outlinewidth": 0,
             "ticks": ""
            },
            "colorscale": [
             [
              0,
              "#0d0887"
             ],
             [
              0.1111111111111111,
              "#46039f"
             ],
             [
              0.2222222222222222,
              "#7201a8"
             ],
             [
              0.3333333333333333,
              "#9c179e"
             ],
             [
              0.4444444444444444,
              "#bd3786"
             ],
             [
              0.5555555555555556,
              "#d8576b"
             ],
             [
              0.6666666666666666,
              "#ed7953"
             ],
             [
              0.7777777777777778,
              "#fb9f3a"
             ],
             [
              0.8888888888888888,
              "#fdca26"
             ],
             [
              1,
              "#f0f921"
             ]
            ],
            "type": "histogram2dcontour"
           }
          ],
          "mesh3d": [
           {
            "colorbar": {
             "outlinewidth": 0,
             "ticks": ""
            },
            "type": "mesh3d"
           }
          ],
          "parcoords": [
           {
            "line": {
             "colorbar": {
              "outlinewidth": 0,
              "ticks": ""
             }
            },
            "type": "parcoords"
           }
          ],
          "pie": [
           {
            "automargin": true,
            "type": "pie"
           }
          ],
          "scatter": [
           {
            "fillpattern": {
             "fillmode": "overlay",
             "size": 10,
             "solidity": 0.2
            },
            "type": "scatter"
           }
          ],
          "scatter3d": [
           {
            "line": {
             "colorbar": {
              "outlinewidth": 0,
              "ticks": ""
             }
            },
            "marker": {
             "colorbar": {
              "outlinewidth": 0,
              "ticks": ""
             }
            },
            "type": "scatter3d"
           }
          ],
          "scattercarpet": [
           {
            "marker": {
             "colorbar": {
              "outlinewidth": 0,
              "ticks": ""
             }
            },
            "type": "scattercarpet"
           }
          ],
          "scattergeo": [
           {
            "marker": {
             "colorbar": {
              "outlinewidth": 0,
              "ticks": ""
             }
            },
            "type": "scattergeo"
           }
          ],
          "scattergl": [
           {
            "marker": {
             "colorbar": {
              "outlinewidth": 0,
              "ticks": ""
             }
            },
            "type": "scattergl"
           }
          ],
          "scattermapbox": [
           {
            "marker": {
             "colorbar": {
              "outlinewidth": 0,
              "ticks": ""
             }
            },
            "type": "scattermapbox"
           }
          ],
          "scatterpolar": [
           {
            "marker": {
             "colorbar": {
              "outlinewidth": 0,
              "ticks": ""
             }
            },
            "type": "scatterpolar"
           }
          ],
          "scatterpolargl": [
           {
            "marker": {
             "colorbar": {
              "outlinewidth": 0,
              "ticks": ""
             }
            },
            "type": "scatterpolargl"
           }
          ],
          "scatterternary": [
           {
            "marker": {
             "colorbar": {
              "outlinewidth": 0,
              "ticks": ""
             }
            },
            "type": "scatterternary"
           }
          ],
          "surface": [
           {
            "colorbar": {
             "outlinewidth": 0,
             "ticks": ""
            },
            "colorscale": [
             [
              0,
              "#0d0887"
             ],
             [
              0.1111111111111111,
              "#46039f"
             ],
             [
              0.2222222222222222,
              "#7201a8"
             ],
             [
              0.3333333333333333,
              "#9c179e"
             ],
             [
              0.4444444444444444,
              "#bd3786"
             ],
             [
              0.5555555555555556,
              "#d8576b"
             ],
             [
              0.6666666666666666,
              "#ed7953"
             ],
             [
              0.7777777777777778,
              "#fb9f3a"
             ],
             [
              0.8888888888888888,
              "#fdca26"
             ],
             [
              1,
              "#f0f921"
             ]
            ],
            "type": "surface"
           }
          ],
          "table": [
           {
            "cells": {
             "fill": {
              "color": "#EBF0F8"
             },
             "line": {
              "color": "white"
             }
            },
            "header": {
             "fill": {
              "color": "#C8D4E3"
             },
             "line": {
              "color": "white"
             }
            },
            "type": "table"
           }
          ]
         },
         "layout": {
          "annotationdefaults": {
           "arrowcolor": "#2a3f5f",
           "arrowhead": 0,
           "arrowwidth": 1
          },
          "autotypenumbers": "strict",
          "coloraxis": {
           "colorbar": {
            "outlinewidth": 0,
            "ticks": ""
           }
          },
          "colorscale": {
           "diverging": [
            [
             0,
             "#8e0152"
            ],
            [
             0.1,
             "#c51b7d"
            ],
            [
             0.2,
             "#de77ae"
            ],
            [
             0.3,
             "#f1b6da"
            ],
            [
             0.4,
             "#fde0ef"
            ],
            [
             0.5,
             "#f7f7f7"
            ],
            [
             0.6,
             "#e6f5d0"
            ],
            [
             0.7,
             "#b8e186"
            ],
            [
             0.8,
             "#7fbc41"
            ],
            [
             0.9,
             "#4d9221"
            ],
            [
             1,
             "#276419"
            ]
           ],
           "sequential": [
            [
             0,
             "#0d0887"
            ],
            [
             0.1111111111111111,
             "#46039f"
            ],
            [
             0.2222222222222222,
             "#7201a8"
            ],
            [
             0.3333333333333333,
             "#9c179e"
            ],
            [
             0.4444444444444444,
             "#bd3786"
            ],
            [
             0.5555555555555556,
             "#d8576b"
            ],
            [
             0.6666666666666666,
             "#ed7953"
            ],
            [
             0.7777777777777778,
             "#fb9f3a"
            ],
            [
             0.8888888888888888,
             "#fdca26"
            ],
            [
             1,
             "#f0f921"
            ]
           ],
           "sequentialminus": [
            [
             0,
             "#0d0887"
            ],
            [
             0.1111111111111111,
             "#46039f"
            ],
            [
             0.2222222222222222,
             "#7201a8"
            ],
            [
             0.3333333333333333,
             "#9c179e"
            ],
            [
             0.4444444444444444,
             "#bd3786"
            ],
            [
             0.5555555555555556,
             "#d8576b"
            ],
            [
             0.6666666666666666,
             "#ed7953"
            ],
            [
             0.7777777777777778,
             "#fb9f3a"
            ],
            [
             0.8888888888888888,
             "#fdca26"
            ],
            [
             1,
             "#f0f921"
            ]
           ]
          },
          "colorway": [
           "#636efa",
           "#EF553B",
           "#00cc96",
           "#ab63fa",
           "#FFA15A",
           "#19d3f3",
           "#FF6692",
           "#B6E880",
           "#FF97FF",
           "#FECB52"
          ],
          "font": {
           "color": "#2a3f5f"
          },
          "geo": {
           "bgcolor": "white",
           "lakecolor": "white",
           "landcolor": "white",
           "showlakes": true,
           "showland": true,
           "subunitcolor": "#C8D4E3"
          },
          "hoverlabel": {
           "align": "left"
          },
          "hovermode": "closest",
          "mapbox": {
           "style": "light"
          },
          "paper_bgcolor": "white",
          "plot_bgcolor": "white",
          "polar": {
           "angularaxis": {
            "gridcolor": "#EBF0F8",
            "linecolor": "#EBF0F8",
            "ticks": ""
           },
           "bgcolor": "white",
           "radialaxis": {
            "gridcolor": "#EBF0F8",
            "linecolor": "#EBF0F8",
            "ticks": ""
           }
          },
          "scene": {
           "xaxis": {
            "backgroundcolor": "white",
            "gridcolor": "#DFE8F3",
            "gridwidth": 2,
            "linecolor": "#EBF0F8",
            "showbackground": true,
            "ticks": "",
            "zerolinecolor": "#EBF0F8"
           },
           "yaxis": {
            "backgroundcolor": "white",
            "gridcolor": "#DFE8F3",
            "gridwidth": 2,
            "linecolor": "#EBF0F8",
            "showbackground": true,
            "ticks": "",
            "zerolinecolor": "#EBF0F8"
           },
           "zaxis": {
            "backgroundcolor": "white",
            "gridcolor": "#DFE8F3",
            "gridwidth": 2,
            "linecolor": "#EBF0F8",
            "showbackground": true,
            "ticks": "",
            "zerolinecolor": "#EBF0F8"
           }
          },
          "shapedefaults": {
           "line": {
            "color": "#2a3f5f"
           }
          },
          "ternary": {
           "aaxis": {
            "gridcolor": "#DFE8F3",
            "linecolor": "#A2B1C6",
            "ticks": ""
           },
           "baxis": {
            "gridcolor": "#DFE8F3",
            "linecolor": "#A2B1C6",
            "ticks": ""
           },
           "bgcolor": "white",
           "caxis": {
            "gridcolor": "#DFE8F3",
            "linecolor": "#A2B1C6",
            "ticks": ""
           }
          },
          "title": {
           "x": 0.05
          },
          "xaxis": {
           "automargin": true,
           "gridcolor": "#EBF0F8",
           "linecolor": "#EBF0F8",
           "ticks": "",
           "title": {
            "standoff": 15
           },
           "zerolinecolor": "#EBF0F8",
           "zerolinewidth": 2
          },
          "yaxis": {
           "automargin": true,
           "gridcolor": "#EBF0F8",
           "linecolor": "#EBF0F8",
           "ticks": "",
           "title": {
            "standoff": 15
           },
           "zerolinecolor": "#EBF0F8",
           "zerolinewidth": 2
          }
         }
        },
        "title": {
         "text": "Data density histogram (bin width = 1 m) | <b>BW5D_YSI_20230822<b>"
        },
        "xaxis": {
         "title": {
          "text": "Vertical Position [m]"
         }
        },
        "yaxis": {
         "title": {
          "text": "Frequency"
         }
        }
       }
      }
     },
     "metadata": {},
     "output_type": "display_data"
    }
   ],
   "source": [
    "# Plot data density\n",
    "plots.plot_histogram(density,\n",
    "            value_column='x_bin', \n",
    "            weight_column='frequency', \n",
    "            num_bins=len(density['x_bin']),\n",
    "            title=f'Data density histogram (bin width = {width} m) | <b>{name}<b>',\n",
    "            x_axis_title='Vertical Position [m]',\n",
    "            bar_color='lightgreen'\n",
    "            ) "
   ]
  }
 ],
 "metadata": {
  "kernelspec": {
   "display_name": ".venv",
   "language": "python",
   "name": "python3"
  },
  "language_info": {
   "codemirror_mode": {
    "name": "ipython",
    "version": 3
   },
   "file_extension": ".py",
   "mimetype": "text/x-python",
   "name": "python",
   "nbconvert_exporter": "python",
   "pygments_lexer": "ipython3",
   "version": "3.11.9"
  }
 },
 "nbformat": 4,
 "nbformat_minor": 2
}
