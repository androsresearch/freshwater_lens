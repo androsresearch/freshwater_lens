{
 "cells": [
  {
   "cell_type": "markdown",
   "metadata": {},
   "source": [
    "# Evaluation of Segmented Linear Regression"
   ]
  },
  {
   "cell_type": "markdown",
   "metadata": {},
   "source": [
    "---\n",
    "\n",
    "### Import Libraries"
   ]
  },
  {
   "cell_type": "code",
   "execution_count": 1,
   "metadata": {},
   "outputs": [],
   "source": [
    "import sys\n",
    "import os\n",
    "root = os.path.abspath('..')  \n",
    "sys.path.append(root)\n",
    "\n",
    "import pandas as pd\n",
    "import numpy as np\n",
    "import matplotlib.pyplot as plt\n",
    "from piecewise_regression import r_squared_calc\n",
    "\n",
    "\n",
    "from modules import load, plots, analysis, utils\n",
    "\n",
    "# styles\n",
    "plt.style.use('seaborn-v0_8-white')"
   ]
  },
  {
   "cell_type": "markdown",
   "metadata": {},
   "source": [
    "---\n",
    "\n",
    "### Load data"
   ]
  },
  {
   "cell_type": "code",
   "execution_count": 2,
   "metadata": {},
   "outputs": [],
   "source": [
    "# Inputs\n",
    "#name = 'AW1D_YSI_20230826'\n",
    "#name = 'AW2D_YSI_20230815'\n",
    "#name = 'AW5D_YSI_20230824'\n",
    "#name = 'AW6D_YSI_20230815'\n",
    "#name = 'AW7D_YSI_20230814'\n",
    "#name = 'BW1D_YSI_20230824'\n",
    "#name = 'BW2D_YSI_20230819'\n",
    "#name = 'BW3D_YSI_20230818'\n",
    "#name = 'BW4D_YSI_20230816'\n",
    "#name = 'BW5D_YSI_20230822'\n",
    "#name = 'BW6D_YSI_20230826'\n",
    "#name = 'BW7D_YSI_20230826'\n",
    "#name = 'BW8D_YSI_20230823'\n",
    "#name = 'BW9D_YSI_20230823'\n",
    "#name = 'BW10D_YSI_20230825'\n",
    "#name = 'BW11D_YSI_20230823'\n",
    "#name = 'LRS33D_YSI_20230822'\n",
    "#name = 'LRS69D_YSI_20230818'\n",
    "## name = 'LRS70D_YSI_20230822'  por qué best BIC es cero?\n",
    "## name = 'LRS75D_YSI_20230819'\n",
    "#name = 'LRS79D_YSI_20230827'\n",
    "#name = 'LRS81D_YSI_20230823'\n",
    "#name = 'LRS89D_YSI_20230825'\n",
    "name = 'LRS90D_YSI_20230827'"
   ]
  },
  {
   "cell_type": "code",
   "execution_count": 3,
   "metadata": {},
   "outputs": [
    {
     "data": {
      "text/html": [
       "<div>\n",
       "<style scoped>\n",
       "    .dataframe tbody tr th:only-of-type {\n",
       "        vertical-align: middle;\n",
       "    }\n",
       "\n",
       "    .dataframe tbody tr th {\n",
       "        vertical-align: top;\n",
       "    }\n",
       "\n",
       "    .dataframe thead th {\n",
       "        text-align: right;\n",
       "    }\n",
       "</style>\n",
       "<table border=\"1\" class=\"dataframe\">\n",
       "  <thead>\n",
       "    <tr style=\"text-align: right;\">\n",
       "      <th></th>\n",
       "      <th>trial_1</th>\n",
       "      <th>trial_2</th>\n",
       "      <th>trial_3</th>\n",
       "      <th>trial_4</th>\n",
       "      <th>trial_5</th>\n",
       "    </tr>\n",
       "  </thead>\n",
       "  <tbody>\n",
       "    <tr>\n",
       "      <th>df</th>\n",
       "      <td>{'bic': {'0': 76623.585903623, '1': 66559.1964...</td>\n",
       "      <td>{'bic': {'0': 76623.585903623, '1': 66559.1964...</td>\n",
       "      <td>{'bic': {'0': 76623.585903623, '1': 66559.1964...</td>\n",
       "      <td>{'bic': {'0': 76623.585903623, '1': 66559.1964...</td>\n",
       "      <td>{'bic': {'0': 76623.585903623, '1': 66559.1964...</td>\n",
       "    </tr>\n",
       "    <tr>\n",
       "      <th>best_n_breakpoint_bic</th>\n",
       "      <td>3</td>\n",
       "      <td>3</td>\n",
       "      <td>3</td>\n",
       "      <td>0</td>\n",
       "      <td>0</td>\n",
       "    </tr>\n",
       "    <tr>\n",
       "      <th>min_bic_n_breakpoint</th>\n",
       "      <td>8</td>\n",
       "      <td>5</td>\n",
       "      <td>6</td>\n",
       "      <td>9</td>\n",
       "      <td>7</td>\n",
       "    </tr>\n",
       "    <tr>\n",
       "      <th>best_n_breakpoint_rss</th>\n",
       "      <td>1</td>\n",
       "      <td>1</td>\n",
       "      <td>1</td>\n",
       "      <td>0</td>\n",
       "      <td>0</td>\n",
       "    </tr>\n",
       "  </tbody>\n",
       "</table>\n",
       "</div>"
      ],
      "text/plain": [
       "                                                                 trial_1  \\\n",
       "df                     {'bic': {'0': 76623.585903623, '1': 66559.1964...   \n",
       "best_n_breakpoint_bic                                                  3   \n",
       "min_bic_n_breakpoint                                                   8   \n",
       "best_n_breakpoint_rss                                                  1   \n",
       "\n",
       "                                                                 trial_2  \\\n",
       "df                     {'bic': {'0': 76623.585903623, '1': 66559.1964...   \n",
       "best_n_breakpoint_bic                                                  3   \n",
       "min_bic_n_breakpoint                                                   5   \n",
       "best_n_breakpoint_rss                                                  1   \n",
       "\n",
       "                                                                 trial_3  \\\n",
       "df                     {'bic': {'0': 76623.585903623, '1': 66559.1964...   \n",
       "best_n_breakpoint_bic                                                  3   \n",
       "min_bic_n_breakpoint                                                   6   \n",
       "best_n_breakpoint_rss                                                  1   \n",
       "\n",
       "                                                                 trial_4  \\\n",
       "df                     {'bic': {'0': 76623.585903623, '1': 66559.1964...   \n",
       "best_n_breakpoint_bic                                                  0   \n",
       "min_bic_n_breakpoint                                                   9   \n",
       "best_n_breakpoint_rss                                                  0   \n",
       "\n",
       "                                                                 trial_5  \n",
       "df                     {'bic': {'0': 76623.585903623, '1': 66559.1964...  \n",
       "best_n_breakpoint_bic                                                  0  \n",
       "min_bic_n_breakpoint                                                   7  \n",
       "best_n_breakpoint_rss                                                  0  "
      ]
     },
     "execution_count": 3,
     "metadata": {},
     "output_type": "execute_result"
    }
   ],
   "source": [
    "path_json = f'../data/results/{name}_results.json'\n",
    "\n",
    "df = load.load_data(filepath=path_json, json=True)\n",
    "df\n"
   ]
  },
  {
   "cell_type": "code",
   "execution_count": 4,
   "metadata": {},
   "outputs": [],
   "source": [
    "path_processed = f'../data/processed/{name}_processed.csv'\n",
    "\n",
    "x_processed, y_processed = load.load_data(filepath=path_processed, \n",
    "                            x_col='Vertical Position [m]',\n",
    "                            y_col='Corrected sp Cond [uS/cm]'\n",
    "                            )"
   ]
  },
  {
   "cell_type": "markdown",
   "metadata": {},
   "source": [
    "---\n",
    "\n",
    "### Optimal `n_breakpoint`"
   ]
  },
  {
   "cell_type": "code",
   "execution_count": 5,
   "metadata": {},
   "outputs": [],
   "source": [
    "trial = analysis.select_best_trial(path_json)\n",
    "\n",
    "trial_select = df[trial[0]]\n",
    "#N_BREAKPOINT = df.loc['best_n_breakpoint_bic'].mode().iloc[0] # alternative, select 'best_n_breakpoint_rss'\n",
    "N_BREAKPOINT = 7"
   ]
  },
  {
   "cell_type": "code",
   "execution_count": 6,
   "metadata": {},
   "outputs": [
    {
     "data": {
      "application/vnd.plotly.v1+json": {
       "config": {
        "plotlyServerURL": "https://plot.ly"
       },
       "data": [
        {
         "mode": "lines+markers",
         "name": "BIC (n = 11)",
         "type": "scatter",
         "x": [
          0,
          1,
          2,
          3,
          4,
          5,
          6,
          7,
          8,
          9,
          10
         ],
         "xaxis": "x",
         "y": [
          76623.585903623,
          66559.1964817045,
          62904.6111596828,
          58234.0797125094,
          57338.6706136295,
          57591.609304475,
          57630.8098033972,
          52597.485230457,
          49683.8079332351,
          57729.0653417068,
          57674.6557272078
         ],
         "yaxis": "y"
        },
        {
         "mode": "lines+markers",
         "name": "RSS (n = 11)",
         "type": "scatter",
         "x": [
          0,
          1,
          2,
          3,
          4,
          5,
          6,
          7,
          8,
          9,
          10
         ],
         "xaxis": "x",
         "y": [
          249017626178.3694,
          23685697049.396748,
          10055194014.880997,
          3367644906.9622207,
          2721945049.4112954,
          2876206552.114766,
          2891331834.5410075,
          889741541.7554255,
          449015014.70580465,
          2923955650.9019103,
          2875815699.466596
         ],
         "yaxis": "y2"
        }
       ],
       "layout": {
        "font": {
         "color": "black",
         "family": "Arial, sans-serif",
         "size": 14
        },
        "legend": {
         "bgcolor": "rgba(255, 255, 255, 0.8)",
         "bordercolor": "black",
         "borderwidth": 1,
         "x": 0.01,
         "xanchor": "left",
         "y": 0.99,
         "yanchor": "top"
        },
        "margin": {
         "b": 50,
         "l": 50,
         "r": 50,
         "t": 50
        },
        "template": {
         "data": {
          "bar": [
           {
            "error_x": {
             "color": "#2a3f5f"
            },
            "error_y": {
             "color": "#2a3f5f"
            },
            "marker": {
             "line": {
              "color": "white",
              "width": 0.5
             },
             "pattern": {
              "fillmode": "overlay",
              "size": 10,
              "solidity": 0.2
             }
            },
            "type": "bar"
           }
          ],
          "barpolar": [
           {
            "marker": {
             "line": {
              "color": "white",
              "width": 0.5
             },
             "pattern": {
              "fillmode": "overlay",
              "size": 10,
              "solidity": 0.2
             }
            },
            "type": "barpolar"
           }
          ],
          "carpet": [
           {
            "aaxis": {
             "endlinecolor": "#2a3f5f",
             "gridcolor": "#C8D4E3",
             "linecolor": "#C8D4E3",
             "minorgridcolor": "#C8D4E3",
             "startlinecolor": "#2a3f5f"
            },
            "baxis": {
             "endlinecolor": "#2a3f5f",
             "gridcolor": "#C8D4E3",
             "linecolor": "#C8D4E3",
             "minorgridcolor": "#C8D4E3",
             "startlinecolor": "#2a3f5f"
            },
            "type": "carpet"
           }
          ],
          "choropleth": [
           {
            "colorbar": {
             "outlinewidth": 0,
             "ticks": ""
            },
            "type": "choropleth"
           }
          ],
          "contour": [
           {
            "colorbar": {
             "outlinewidth": 0,
             "ticks": ""
            },
            "colorscale": [
             [
              0,
              "#0d0887"
             ],
             [
              0.1111111111111111,
              "#46039f"
             ],
             [
              0.2222222222222222,
              "#7201a8"
             ],
             [
              0.3333333333333333,
              "#9c179e"
             ],
             [
              0.4444444444444444,
              "#bd3786"
             ],
             [
              0.5555555555555556,
              "#d8576b"
             ],
             [
              0.6666666666666666,
              "#ed7953"
             ],
             [
              0.7777777777777778,
              "#fb9f3a"
             ],
             [
              0.8888888888888888,
              "#fdca26"
             ],
             [
              1,
              "#f0f921"
             ]
            ],
            "type": "contour"
           }
          ],
          "contourcarpet": [
           {
            "colorbar": {
             "outlinewidth": 0,
             "ticks": ""
            },
            "type": "contourcarpet"
           }
          ],
          "heatmap": [
           {
            "colorbar": {
             "outlinewidth": 0,
             "ticks": ""
            },
            "colorscale": [
             [
              0,
              "#0d0887"
             ],
             [
              0.1111111111111111,
              "#46039f"
             ],
             [
              0.2222222222222222,
              "#7201a8"
             ],
             [
              0.3333333333333333,
              "#9c179e"
             ],
             [
              0.4444444444444444,
              "#bd3786"
             ],
             [
              0.5555555555555556,
              "#d8576b"
             ],
             [
              0.6666666666666666,
              "#ed7953"
             ],
             [
              0.7777777777777778,
              "#fb9f3a"
             ],
             [
              0.8888888888888888,
              "#fdca26"
             ],
             [
              1,
              "#f0f921"
             ]
            ],
            "type": "heatmap"
           }
          ],
          "heatmapgl": [
           {
            "colorbar": {
             "outlinewidth": 0,
             "ticks": ""
            },
            "colorscale": [
             [
              0,
              "#0d0887"
             ],
             [
              0.1111111111111111,
              "#46039f"
             ],
             [
              0.2222222222222222,
              "#7201a8"
             ],
             [
              0.3333333333333333,
              "#9c179e"
             ],
             [
              0.4444444444444444,
              "#bd3786"
             ],
             [
              0.5555555555555556,
              "#d8576b"
             ],
             [
              0.6666666666666666,
              "#ed7953"
             ],
             [
              0.7777777777777778,
              "#fb9f3a"
             ],
             [
              0.8888888888888888,
              "#fdca26"
             ],
             [
              1,
              "#f0f921"
             ]
            ],
            "type": "heatmapgl"
           }
          ],
          "histogram": [
           {
            "marker": {
             "pattern": {
              "fillmode": "overlay",
              "size": 10,
              "solidity": 0.2
             }
            },
            "type": "histogram"
           }
          ],
          "histogram2d": [
           {
            "colorbar": {
             "outlinewidth": 0,
             "ticks": ""
            },
            "colorscale": [
             [
              0,
              "#0d0887"
             ],
             [
              0.1111111111111111,
              "#46039f"
             ],
             [
              0.2222222222222222,
              "#7201a8"
             ],
             [
              0.3333333333333333,
              "#9c179e"
             ],
             [
              0.4444444444444444,
              "#bd3786"
             ],
             [
              0.5555555555555556,
              "#d8576b"
             ],
             [
              0.6666666666666666,
              "#ed7953"
             ],
             [
              0.7777777777777778,
              "#fb9f3a"
             ],
             [
              0.8888888888888888,
              "#fdca26"
             ],
             [
              1,
              "#f0f921"
             ]
            ],
            "type": "histogram2d"
           }
          ],
          "histogram2dcontour": [
           {
            "colorbar": {
             "outlinewidth": 0,
             "ticks": ""
            },
            "colorscale": [
             [
              0,
              "#0d0887"
             ],
             [
              0.1111111111111111,
              "#46039f"
             ],
             [
              0.2222222222222222,
              "#7201a8"
             ],
             [
              0.3333333333333333,
              "#9c179e"
             ],
             [
              0.4444444444444444,
              "#bd3786"
             ],
             [
              0.5555555555555556,
              "#d8576b"
             ],
             [
              0.6666666666666666,
              "#ed7953"
             ],
             [
              0.7777777777777778,
              "#fb9f3a"
             ],
             [
              0.8888888888888888,
              "#fdca26"
             ],
             [
              1,
              "#f0f921"
             ]
            ],
            "type": "histogram2dcontour"
           }
          ],
          "mesh3d": [
           {
            "colorbar": {
             "outlinewidth": 0,
             "ticks": ""
            },
            "type": "mesh3d"
           }
          ],
          "parcoords": [
           {
            "line": {
             "colorbar": {
              "outlinewidth": 0,
              "ticks": ""
             }
            },
            "type": "parcoords"
           }
          ],
          "pie": [
           {
            "automargin": true,
            "type": "pie"
           }
          ],
          "scatter": [
           {
            "fillpattern": {
             "fillmode": "overlay",
             "size": 10,
             "solidity": 0.2
            },
            "type": "scatter"
           }
          ],
          "scatter3d": [
           {
            "line": {
             "colorbar": {
              "outlinewidth": 0,
              "ticks": ""
             }
            },
            "marker": {
             "colorbar": {
              "outlinewidth": 0,
              "ticks": ""
             }
            },
            "type": "scatter3d"
           }
          ],
          "scattercarpet": [
           {
            "marker": {
             "colorbar": {
              "outlinewidth": 0,
              "ticks": ""
             }
            },
            "type": "scattercarpet"
           }
          ],
          "scattergeo": [
           {
            "marker": {
             "colorbar": {
              "outlinewidth": 0,
              "ticks": ""
             }
            },
            "type": "scattergeo"
           }
          ],
          "scattergl": [
           {
            "marker": {
             "colorbar": {
              "outlinewidth": 0,
              "ticks": ""
             }
            },
            "type": "scattergl"
           }
          ],
          "scattermapbox": [
           {
            "marker": {
             "colorbar": {
              "outlinewidth": 0,
              "ticks": ""
             }
            },
            "type": "scattermapbox"
           }
          ],
          "scatterpolar": [
           {
            "marker": {
             "colorbar": {
              "outlinewidth": 0,
              "ticks": ""
             }
            },
            "type": "scatterpolar"
           }
          ],
          "scatterpolargl": [
           {
            "marker": {
             "colorbar": {
              "outlinewidth": 0,
              "ticks": ""
             }
            },
            "type": "scatterpolargl"
           }
          ],
          "scatterternary": [
           {
            "marker": {
             "colorbar": {
              "outlinewidth": 0,
              "ticks": ""
             }
            },
            "type": "scatterternary"
           }
          ],
          "surface": [
           {
            "colorbar": {
             "outlinewidth": 0,
             "ticks": ""
            },
            "colorscale": [
             [
              0,
              "#0d0887"
             ],
             [
              0.1111111111111111,
              "#46039f"
             ],
             [
              0.2222222222222222,
              "#7201a8"
             ],
             [
              0.3333333333333333,
              "#9c179e"
             ],
             [
              0.4444444444444444,
              "#bd3786"
             ],
             [
              0.5555555555555556,
              "#d8576b"
             ],
             [
              0.6666666666666666,
              "#ed7953"
             ],
             [
              0.7777777777777778,
              "#fb9f3a"
             ],
             [
              0.8888888888888888,
              "#fdca26"
             ],
             [
              1,
              "#f0f921"
             ]
            ],
            "type": "surface"
           }
          ],
          "table": [
           {
            "cells": {
             "fill": {
              "color": "#EBF0F8"
             },
             "line": {
              "color": "white"
             }
            },
            "header": {
             "fill": {
              "color": "#C8D4E3"
             },
             "line": {
              "color": "white"
             }
            },
            "type": "table"
           }
          ]
         },
         "layout": {
          "annotationdefaults": {
           "arrowcolor": "#2a3f5f",
           "arrowhead": 0,
           "arrowwidth": 1
          },
          "autotypenumbers": "strict",
          "coloraxis": {
           "colorbar": {
            "outlinewidth": 0,
            "ticks": ""
           }
          },
          "colorscale": {
           "diverging": [
            [
             0,
             "#8e0152"
            ],
            [
             0.1,
             "#c51b7d"
            ],
            [
             0.2,
             "#de77ae"
            ],
            [
             0.3,
             "#f1b6da"
            ],
            [
             0.4,
             "#fde0ef"
            ],
            [
             0.5,
             "#f7f7f7"
            ],
            [
             0.6,
             "#e6f5d0"
            ],
            [
             0.7,
             "#b8e186"
            ],
            [
             0.8,
             "#7fbc41"
            ],
            [
             0.9,
             "#4d9221"
            ],
            [
             1,
             "#276419"
            ]
           ],
           "sequential": [
            [
             0,
             "#0d0887"
            ],
            [
             0.1111111111111111,
             "#46039f"
            ],
            [
             0.2222222222222222,
             "#7201a8"
            ],
            [
             0.3333333333333333,
             "#9c179e"
            ],
            [
             0.4444444444444444,
             "#bd3786"
            ],
            [
             0.5555555555555556,
             "#d8576b"
            ],
            [
             0.6666666666666666,
             "#ed7953"
            ],
            [
             0.7777777777777778,
             "#fb9f3a"
            ],
            [
             0.8888888888888888,
             "#fdca26"
            ],
            [
             1,
             "#f0f921"
            ]
           ],
           "sequentialminus": [
            [
             0,
             "#0d0887"
            ],
            [
             0.1111111111111111,
             "#46039f"
            ],
            [
             0.2222222222222222,
             "#7201a8"
            ],
            [
             0.3333333333333333,
             "#9c179e"
            ],
            [
             0.4444444444444444,
             "#bd3786"
            ],
            [
             0.5555555555555556,
             "#d8576b"
            ],
            [
             0.6666666666666666,
             "#ed7953"
            ],
            [
             0.7777777777777778,
             "#fb9f3a"
            ],
            [
             0.8888888888888888,
             "#fdca26"
            ],
            [
             1,
             "#f0f921"
            ]
           ]
          },
          "colorway": [
           "#636efa",
           "#EF553B",
           "#00cc96",
           "#ab63fa",
           "#FFA15A",
           "#19d3f3",
           "#FF6692",
           "#B6E880",
           "#FF97FF",
           "#FECB52"
          ],
          "font": {
           "color": "#2a3f5f"
          },
          "geo": {
           "bgcolor": "white",
           "lakecolor": "white",
           "landcolor": "white",
           "showlakes": true,
           "showland": true,
           "subunitcolor": "#C8D4E3"
          },
          "hoverlabel": {
           "align": "left"
          },
          "hovermode": "closest",
          "mapbox": {
           "style": "light"
          },
          "paper_bgcolor": "white",
          "plot_bgcolor": "white",
          "polar": {
           "angularaxis": {
            "gridcolor": "#EBF0F8",
            "linecolor": "#EBF0F8",
            "ticks": ""
           },
           "bgcolor": "white",
           "radialaxis": {
            "gridcolor": "#EBF0F8",
            "linecolor": "#EBF0F8",
            "ticks": ""
           }
          },
          "scene": {
           "xaxis": {
            "backgroundcolor": "white",
            "gridcolor": "#DFE8F3",
            "gridwidth": 2,
            "linecolor": "#EBF0F8",
            "showbackground": true,
            "ticks": "",
            "zerolinecolor": "#EBF0F8"
           },
           "yaxis": {
            "backgroundcolor": "white",
            "gridcolor": "#DFE8F3",
            "gridwidth": 2,
            "linecolor": "#EBF0F8",
            "showbackground": true,
            "ticks": "",
            "zerolinecolor": "#EBF0F8"
           },
           "zaxis": {
            "backgroundcolor": "white",
            "gridcolor": "#DFE8F3",
            "gridwidth": 2,
            "linecolor": "#EBF0F8",
            "showbackground": true,
            "ticks": "",
            "zerolinecolor": "#EBF0F8"
           }
          },
          "shapedefaults": {
           "line": {
            "color": "#2a3f5f"
           }
          },
          "ternary": {
           "aaxis": {
            "gridcolor": "#DFE8F3",
            "linecolor": "#A2B1C6",
            "ticks": ""
           },
           "baxis": {
            "gridcolor": "#DFE8F3",
            "linecolor": "#A2B1C6",
            "ticks": ""
           },
           "bgcolor": "white",
           "caxis": {
            "gridcolor": "#DFE8F3",
            "linecolor": "#A2B1C6",
            "ticks": ""
           }
          },
          "title": {
           "x": 0.05
          },
          "xaxis": {
           "automargin": true,
           "gridcolor": "#EBF0F8",
           "linecolor": "#EBF0F8",
           "ticks": "",
           "title": {
            "standoff": 15
           },
           "zerolinecolor": "#EBF0F8",
           "zerolinewidth": 2
          },
          "yaxis": {
           "automargin": true,
           "gridcolor": "#EBF0F8",
           "linecolor": "#EBF0F8",
           "ticks": "",
           "title": {
            "standoff": 15
           },
           "zerolinecolor": "#EBF0F8",
           "zerolinewidth": 2
          }
         }
        },
        "title": {
         "text": "LRS90D_YSI_20230827",
         "x": 0.5,
         "xanchor": "center",
         "y": 0.95,
         "yanchor": "top"
        },
        "xaxis": {
         "anchor": "y",
         "domain": [
          0,
          0.94
         ],
         "gridcolor": "LightGray",
         "gridwidth": 0.5,
         "showgrid": true,
         "title": {
          "text": "Number Breakpoints"
         },
         "zeroline": true,
         "zerolinecolor": "Gray",
         "zerolinewidth": 1
        },
        "yaxis": {
         "anchor": "x",
         "domain": [
          0,
          1
         ],
         "gridcolor": "LightGray",
         "gridwidth": 0.5,
         "showgrid": true,
         "title": {
          "text": "BIC"
         },
         "zeroline": true,
         "zerolinecolor": "Gray",
         "zerolinewidth": 1
        },
        "yaxis2": {
         "anchor": "x",
         "gridcolor": "LightGray",
         "gridwidth": 0.5,
         "overlaying": "y",
         "showgrid": true,
         "side": "right",
         "title": {
          "text": "RSS"
         },
         "zeroline": true,
         "zerolinecolor": "Gray",
         "zerolinewidth": 1
        }
       }
      }
     },
     "metadata": {},
     "output_type": "display_data"
    }
   ],
   "source": [
    "# Elbow plot\n",
    "\n",
    "x_values = np.array(list(trial_select['df']['n_breakpoints'].values()))\n",
    "y_values = np.array(list(trial_select['df']['bic'].values()))\n",
    "secondary_x = np.array(list(trial_select['df']['n_breakpoints'].values()))\n",
    "secondary_y = np.array(list(trial_select['df']['rss'].values()))\n",
    "\n",
    "plots.plot_data(\n",
    "    x_values=x_values,\n",
    "    y_values=y_values,\n",
    "    plot_mode='lines+markers',\n",
    "    x_axis_label=\"Number Breakpoints\",\n",
    "    y_axis_label=\"BIC\",\n",
    "    secondary_x=secondary_x,\n",
    "    secondary_y=secondary_y,\n",
    "    use_secondary_axis=True,\n",
    "    y2_axis_label=\"RSS\",\n",
    "    trace_names=['BIC', 'RSS'],\n",
    "    title=name\n",
    ")"
   ]
  },
  {
   "cell_type": "markdown",
   "metadata": {},
   "source": [
    "---\n",
    "\n",
    "### Evaluation"
   ]
  },
  {
   "cell_type": "code",
   "execution_count": 7,
   "metadata": {},
   "outputs": [
    {
     "data": {
      "text/plain": [
       "{'bic': 52597.485230457,\n",
       " 'n_breakpoints': 7,\n",
       " 'estimates': {'const': {'estimate': 432.1633896254,\n",
       "   'se': 21.8749330855,\n",
       "   'confidence_interval': [389.2771493865, 475.0496298642],\n",
       "   't_stat': 19.7561011015,\n",
       "   'p_t': 3.342728198e-83},\n",
       "  'beta1': {'estimate': 17215.9784709623,\n",
       "   'se': 437.164623829,\n",
       "   'confidence_interval': [16358.9085540767, 18073.0483878479],\n",
       "   't_stat': 39.3809963857,\n",
       "   'p_t': '-'},\n",
       "  'breakpoint1': {'estimate': 14.1617848836,\n",
       "   'se': 0.0066484238,\n",
       "   'confidence_interval': [14.1487505169, 14.1748192503],\n",
       "   't_stat': '-',\n",
       "   'p_t': '-'},\n",
       "  'beta2': {'estimate': -16226.9926836448,\n",
       "   'se': 437.5305471756,\n",
       "   'confidence_interval': [-17084.78000051, -15369.2053667797],\n",
       "   't_stat': -37.0876794509,\n",
       "   'p_t': '-'},\n",
       "  'breakpoint2': {'estimate': 14.6029896752,\n",
       "   'se': 0.0069828378,\n",
       "   'confidence_interval': [14.5892996831, 14.6166796672],\n",
       "   't_stat': '-',\n",
       "   'p_t': '-'},\n",
       "  'beta3': {'estimate': 2953.2384350101,\n",
       "   'se': 37.0148338429,\n",
       "   'confidence_interval': [2880.6701190119, 3025.8067510082],\n",
       "   't_stat': 79.7852679158,\n",
       "   'p_t': '-'},\n",
       "  'breakpoint3': {'estimate': 18.049920327,\n",
       "   'se': 0.018907710600000002,\n",
       "   'confidence_interval': [18.0128513854, 18.0869892687],\n",
       "   't_stat': '-',\n",
       "   'p_t': '-'},\n",
       "  'beta4': {'estimate': -3254.7211675289,\n",
       "   'se': 100.4957151332,\n",
       "   'confidence_interval': [-3451.745010543, -3057.6973245149],\n",
       "   't_stat': -32.3866660704,\n",
       "   'p_t': '-'},\n",
       "  'breakpoint4': {'estimate': 20.4762966095,\n",
       "   'se': 0.026699514400000002,\n",
       "   'confidence_interval': [20.4239516818, 20.5286415371],\n",
       "   't_stat': '-',\n",
       "   'p_t': '-'},\n",
       "  'beta5': {'estimate': 3317.6026661358,\n",
       "   'se': 348.717156337,\n",
       "   'confidence_interval': [2633.9357637672, 4001.2695685044],\n",
       "   't_stat': 9.5137351457,\n",
       "   'p_t': '-'},\n",
       "  'breakpoint5': {'estimate': 21.7863908223,\n",
       "   'se': 0.0389509012,\n",
       "   'confidence_interval': [21.7100268078, 21.8627548368],\n",
       "   't_stat': '-',\n",
       "   'p_t': '-'},\n",
       "  'beta6': {'estimate': 4699.4864800542,\n",
       "   'se': 338.4945247534,\n",
       "   'confidence_interval': [4035.8612496877, 5363.1117104207],\n",
       "   't_stat': 13.88349334,\n",
       "   'p_t': '-'},\n",
       "  'breakpoint6': {'estimate': 22.338110653,\n",
       "   'se': 0.024676819500000002,\n",
       "   'confidence_interval': [22.2897312588, 22.3864900472],\n",
       "   't_stat': '-',\n",
       "   'p_t': '-'},\n",
       "  'beta7': {'estimate': -6333.6623900682,\n",
       "   'se': 48.212534934,\n",
       "   'confidence_interval': [-6428.18402118, -6239.1407589564],\n",
       "   't_stat': -131.3696199286,\n",
       "   'p_t': '-'},\n",
       "  'breakpoint7': {'estimate': 24.5070655811,\n",
       "   'se': 0.0115342224,\n",
       "   'confidence_interval': [24.4844525092, 24.529678653],\n",
       "   't_stat': '-',\n",
       "   'p_t': '-'},\n",
       "  'alpha1': {'estimate': 52.9358562845,\n",
       "   'se': 2.6155922433,\n",
       "   'confidence_interval': [47.807935807, 58.063776762],\n",
       "   't_stat': 20.2385736616,\n",
       "   'p_t': 4.823439763e-87},\n",
       "  'alpha2': {'estimate': 17268.9143272468,\n",
       "   'se': 437.1567991062,\n",
       "   'confidence_interval': [16411.8597508855, 18125.9689036081],\n",
       "   't_stat': 39.502792505,\n",
       "   'p_t': 3.702428376e-291},\n",
       "  'alpha3': {'estimate': 1041.9216436019,\n",
       "   'se': 18.0807275006,\n",
       "   'confidence_interval': [1006.4740186764, 1077.3692685275],\n",
       "   't_stat': 57.6260907403,\n",
       "   'p_t': 0.0},\n",
       "  'alpha4': {'estimate': 3995.160078612,\n",
       "   'se': 32.2983779386,\n",
       "   'confidence_interval': [3931.8384679728, 4058.4816892513],\n",
       "   't_stat': 123.6953783317,\n",
       "   'p_t': 0.0},\n",
       "  'alpha5': {'estimate': 740.4389110831,\n",
       "   'se': 95.1640874631,\n",
       "   'confidence_interval': [553.8678298779, 927.0099922883],\n",
       "   't_stat': 7.7806547703,\n",
       "   'p_t': 0.0},\n",
       "  'alpha6': {'estimate': 4058.0415772189,\n",
       "   'se': 335.4809258081,\n",
       "   'confidence_interval': [3400.3245673642, 4715.7585870736],\n",
       "   't_stat': 12.0961916611,\n",
       "   'p_t': 3.8327591600000006e-33},\n",
       "  'alpha7': {'estimate': 8757.5280572731,\n",
       "   'se': 45.0676348053,\n",
       "   'confidence_interval': [8669.1720652478, 8845.8840492984],\n",
       "   't_stat': 194.3196729785,\n",
       "   'p_t': 0.0},\n",
       "  'alpha8': {'estimate': 2423.8656672049,\n",
       "   'se': 17.1276623571,\n",
       "   'confidence_interval': [2390.2865453988, 2457.4447890109],\n",
       "   't_stat': 141.5175998142,\n",
       "   'p_t': 0.0}}}"
      ]
     },
     "execution_count": 7,
     "metadata": {},
     "output_type": "execute_result"
    }
   ],
   "source": [
    "# Params\n",
    "params_ms = utils.get_breakpoint_data(trial_select['df'], N_BREAKPOINT)\n",
    "params_ms"
   ]
  },
  {
   "cell_type": "code",
   "execution_count": 8,
   "metadata": {},
   "outputs": [
    {
     "data": {
      "text/plain": [
       "<piecewise_regression.main.Fit at 0x1f4aa8c9880>"
      ]
     },
     "execution_count": 8,
     "metadata": {},
     "output_type": "execute_result"
    }
   ],
   "source": [
    "# Model Select\n",
    "ms = utils.rebuild_model(x_processed,y_processed,params_ms)\n",
    "ms"
   ]
  },
  {
   "cell_type": "code",
   "execution_count": 9,
   "metadata": {},
   "outputs": [
    {
     "name": "stdout",
     "output_type": "stream",
     "text": [
      "RSS:  889741541.7554256\n",
      "TSS:  1163013958153.4927\n",
      "R2:  0.9992349691630803\n",
      "R2_ajus:  0.9992306591301963\n"
     ]
    }
   ],
   "source": [
    "# Globals\n",
    "RSS, TSS, R2, R2_ajus = r_squared_calc.get_r_squared(y_processed, \n",
    "                                                    ms.predict(x_processed), \n",
    "                                                    len(ms.get_params()))\n",
    "\n",
    "\n",
    "print(\"RSS: \", RSS)\n",
    "print(\"TSS: \", TSS)\n",
    "print(\"R2: \", R2)\n",
    "print(\"R2_ajus: \", R2_ajus)"
   ]
  },
  {
   "cell_type": "code",
   "execution_count": 10,
   "metadata": {},
   "outputs": [
    {
     "data": {
      "text/plain": [
       "[{'Segment': 1,\n",
       "  'R^2': np.float64(0.3037226259063984),\n",
       "  'RMS%': np.float64(24.991894454834707),\n",
       "  'RMS% (min-max)': np.float64(16.334197711297325)},\n",
       " {'Segment': 2,\n",
       "  'R^2': np.float64(0.9438990691451654),\n",
       "  'RMS%': np.float64(14.847493689794527),\n",
       "  'RMS% (min-max)': np.float64(8.979511389884074)},\n",
       " {'Segment': 3,\n",
       "  'R^2': np.float64(0.9647565414155934),\n",
       "  'RMS%': np.float64(2.016782275731963),\n",
       "  'RMS% (min-max)': np.float64(4.921404871003262)},\n",
       " {'Segment': 4,\n",
       "  'R^2': np.float64(0.974666564358715),\n",
       "  'RMS%': np.float64(2.88800102825818),\n",
       "  'RMS% (min-max)': np.float64(4.496523421185931)},\n",
       " {'Segment': 5,\n",
       "  'R^2': np.float64(0.982201157563862),\n",
       "  'RMS%': np.float64(0.16266067404582593),\n",
       "  'RMS% (min-max)': np.float64(3.279958346133433)},\n",
       " {'Segment': 6,\n",
       "  'R^2': np.float64(0.9721350943665524),\n",
       "  'RMS%': np.float64(0.4363640438849932),\n",
       "  'RMS% (min-max)': np.float64(5.221800022438336)},\n",
       " {'Segment': 7,\n",
       "  'R^2': np.float64(0.9669649053130753),\n",
       "  'RMS%': np.float64(2.898983523261899),\n",
       "  'RMS% (min-max)': np.float64(5.686109506763376)},\n",
       " {'Segment': 8,\n",
       "  'R^2': np.float64(0.9338670928681516),\n",
       "  'RMS%': np.float64(1.550392528397828),\n",
       "  'RMS% (min-max)': np.float64(7.571188607147598)}]"
      ]
     },
     "execution_count": 10,
     "metadata": {},
     "output_type": "execute_result"
    }
   ],
   "source": [
    "# Per segment\n",
    "metric_per_segment = analysis.calculate_metrics_per_segment(ms)\n",
    "metric_per_segment"
   ]
  },
  {
   "cell_type": "code",
   "execution_count": 11,
   "metadata": {},
   "outputs": [
    {
     "data": {
      "text/html": [
       "<div>\n",
       "<style scoped>\n",
       "    .dataframe tbody tr th:only-of-type {\n",
       "        vertical-align: middle;\n",
       "    }\n",
       "\n",
       "    .dataframe tbody tr th {\n",
       "        vertical-align: top;\n",
       "    }\n",
       "\n",
       "    .dataframe thead th {\n",
       "        text-align: right;\n",
       "    }\n",
       "</style>\n",
       "<table border=\"1\" class=\"dataframe\">\n",
       "  <thead>\n",
       "    <tr style=\"text-align: right;\">\n",
       "      <th></th>\n",
       "      <th>Breakpoint X Position</th>\n",
       "      <th>Breakpoint Y Position</th>\n",
       "      <th>Confidence Interval (X)</th>\n",
       "    </tr>\n",
       "  </thead>\n",
       "  <tbody>\n",
       "    <tr>\n",
       "      <th>1</th>\n",
       "      <td>14.161785</td>\n",
       "      <td>1181.829599</td>\n",
       "      <td>(14.14875051688652, 14.174819250348945)</td>\n",
       "    </tr>\n",
       "    <tr>\n",
       "      <th>2</th>\n",
       "      <td>14.602990</td>\n",
       "      <td>8800.957345</td>\n",
       "      <td>(14.589299683082443, 14.616679667236648)</td>\n",
       "    </tr>\n",
       "    <tr>\n",
       "      <th>3</th>\n",
       "      <td>18.049920</td>\n",
       "      <td>12392.388995</td>\n",
       "      <td>(18.012851385385886, 18.08698926870413)</td>\n",
       "    </tr>\n",
       "    <tr>\n",
       "      <th>4</th>\n",
       "      <td>20.476297</td>\n",
       "      <td>22086.150654</td>\n",
       "      <td>(20.423951681833383, 20.528641537108623)</td>\n",
       "    </tr>\n",
       "    <tr>\n",
       "      <th>5</th>\n",
       "      <td>21.786391</td>\n",
       "      <td>23056.195387</td>\n",
       "      <td>(21.710026807755117, 21.86275483676309)</td>\n",
       "    </tr>\n",
       "    <tr>\n",
       "      <th>6</th>\n",
       "      <td>22.338111</td>\n",
       "      <td>25295.097399</td>\n",
       "      <td>(22.28973125884911, 22.386490047153046)</td>\n",
       "    </tr>\n",
       "    <tr>\n",
       "      <th>7</th>\n",
       "      <td>24.507066</td>\n",
       "      <td>44289.781036</td>\n",
       "      <td>(24.484452509219167, 24.529678652956314)</td>\n",
       "    </tr>\n",
       "  </tbody>\n",
       "</table>\n",
       "</div>"
      ],
      "text/plain": [
       "   Breakpoint X Position  Breakpoint Y Position  \\\n",
       "1              14.161785            1181.829599   \n",
       "2              14.602990            8800.957345   \n",
       "3              18.049920           12392.388995   \n",
       "4              20.476297           22086.150654   \n",
       "5              21.786391           23056.195387   \n",
       "6              22.338111           25295.097399   \n",
       "7              24.507066           44289.781036   \n",
       "\n",
       "                    Confidence Interval (X)  \n",
       "1   (14.14875051688652, 14.174819250348945)  \n",
       "2  (14.589299683082443, 14.616679667236648)  \n",
       "3   (18.012851385385886, 18.08698926870413)  \n",
       "4  (20.423951681833383, 20.528641537108623)  \n",
       "5   (21.710026807755117, 21.86275483676309)  \n",
       "6   (22.28973125884911, 22.386490047153046)  \n",
       "7  (24.484452509219167, 24.529678652956314)  "
      ]
     },
     "execution_count": 11,
     "metadata": {},
     "output_type": "execute_result"
    }
   ],
   "source": [
    "# Breakpoints\n",
    "breakpoints = analysis.extract_breakpoints(ms)\n",
    "breakpoints"
   ]
  },
  {
   "cell_type": "markdown",
   "metadata": {},
   "source": [
    "##"
   ]
  },
  {
   "cell_type": "markdown",
   "metadata": {},
   "source": [
    "---\n",
    "\n",
    "### Final results\n",
    "\n",
    "#### General models"
   ]
  },
  {
   "cell_type": "code",
   "execution_count": 12,
   "metadata": {},
   "outputs": [
    {
     "data": {
      "application/vnd.jupyter.widget-view+json": {
       "model_id": "973ff1b2b1ea4ff58561948ddd25e447",
       "version_major": 2,
       "version_minor": 0
      },
      "text/plain": [
       "interactive(children=(IntSlider(value=2, description='n_breakpoints', max=10), Output()), _dom_classes=('widge…"
      ]
     },
     "metadata": {},
     "output_type": "display_data"
    }
   ],
   "source": [
    "# Visualizamos los datos procesados junto con los modelos obtenidos\n",
    "df_ms = pd.DataFrame({'n_breakpoints': trial_select['df']['n_breakpoints'], \n",
    "                    'estimates': trial_select['df']['estimates']})\n",
    "\n",
    "plots.interactive_segmented_regression(x=x_processed, y=y_processed, df=df_ms, title=name)"
   ]
  },
  {
   "cell_type": "markdown",
   "metadata": {},
   "source": [
    "#### Models per segment"
   ]
  },
  {
   "cell_type": "code",
   "execution_count": 13,
   "metadata": {},
   "outputs": [
    {
     "data": {
      "text/plain": [
       "{'segments': [{'segment': 1,\n",
       "   'data_x': array([1.0000e-02, 2.8000e-02, 4.7000e-02, ..., 1.4147e+01, 1.4150e+01,\n",
       "          1.4153e+01], shape=(2076,)),\n",
       "   'data_y': array([ 652.06392652,  653.57888188,  655.06492163, ..., 2467.95058937,\n",
       "          2499.3270628 , 2531.76956522], shape=(2076,)),\n",
       "   'fitted_model': {'slope': np.float64(52.93585628450877),\n",
       "    'intercept': np.float64(432.16338962534513),\n",
       "    'fitted_y': array([ 432.69274819,  433.6455936 ,  434.65137487, ..., 1181.04694848,\n",
       "           1181.20575605, 1181.36456362], shape=(2076,))}},\n",
       "  {'segment': 2,\n",
       "   'data_x': array([14.173, 14.182, 14.184, 14.199, 14.205, 14.218, 14.225, 14.229,\n",
       "          14.241, 14.246, 14.25 , 14.254, 14.266, 14.268, 14.27 , 14.271,\n",
       "          14.273, 14.274, 14.276, 14.277, 14.282, 14.283, 14.292, 14.301,\n",
       "          14.317, 14.325, 14.327, 14.332, 14.343, 14.345, 14.35 , 14.364,\n",
       "          14.369, 14.372, 14.382, 14.387, 14.388, 14.398, 14.402, 14.403,\n",
       "          14.405, 14.411, 14.413, 14.416, 14.423, 14.425, 14.432, 14.434,\n",
       "          14.444, 14.45 , 14.466, 14.474, 14.481, 14.487, 14.49 , 14.492,\n",
       "          14.505, 14.508, 14.514, 14.518, 14.52 , 14.527, 14.534, 14.537,\n",
       "          14.54 , 14.549, 14.556, 14.561, 14.579, 14.583, 14.585, 14.592,\n",
       "          14.598, 14.601]),\n",
       "   'data_y': array([2564.33380676, 2596.8982029 , 2631.17867633, 2660.30349758,\n",
       "          2688.05909179, 2713.47208696, 2734.02269565, 2747.90059903,\n",
       "          2754.50997101, 2752.60048309, 2736.69700483, 2719.30971981,\n",
       "          2724.77855072, 2734.74427053, 2745.72168116, 2742.34266667,\n",
       "          2747.34629952, 2742.73118841, 2729.56798068, 2736.0389372 ,\n",
       "          2778.39470531, 2843.74624155, 2929.40616425, 3028.80048309,\n",
       "          3139.64090821, 3259.0669372 , 3337.77953623, 3424.16771014,\n",
       "          3573.10844444, 3675.70206763, 3786.49030918, 3912.44271498,\n",
       "          4047.48887923, 4191.50554589, 4325.37051208, 4487.4892657 ,\n",
       "          4657.73029952, 4814.89113366, 4974.15041546, 5130.23191304,\n",
       "          5300.47668921, 5465.12571014, 5638.30079227, 5845.57795491,\n",
       "          6055.7856715 , 6255.21981643, 6440.79144283, 6606.86783575,\n",
       "          6732.37003865, 6839.7559066 , 6919.21419324, 7036.16700483,\n",
       "          7158.34697907, 7202.06317874, 7282.9953913 , 7378.81594525,\n",
       "          7466.67647343, 7550.12215459, 7619.28004187, 7686.25742029,\n",
       "          7741.42580676, 7802.26206119, 7866.83564251, 7929.67982609,\n",
       "          7988.43469565, 8043.61721739, 8091.9215942 , 8138.61435749,\n",
       "          8171.48057005, 8203.55142029, 8224.83969082, 8236.54211594,\n",
       "          8238.67236715, 8256.1431401 ]),\n",
       "   'fitted_model': {'slope': np.float64(52.93585628450877),\n",
       "    'intercept': np.float64(432.16338962534513),\n",
       "    'fitted_y': array([1375.50248293, 1530.92271188, 1565.46054053, 1824.49425544,\n",
       "           1928.1077414 , 2152.60362766, 2273.48602795, 2342.56168526,\n",
       "           2549.78865718, 2636.13322882, 2705.20888613, 2774.28454344,\n",
       "           2981.51151537, 3016.04934402, 3050.58717268, 3067.856087  ,\n",
       "           3102.39391566, 3119.66282998, 3154.20065864, 3171.46957297,\n",
       "           3257.8141446 , 3275.08305893, 3430.50328787, 3585.92351682,\n",
       "           3862.22614606, 4000.37746067, 4034.91528933, 4121.25986096,\n",
       "           4311.21791856, 4345.75574722, 4432.10031885, 4673.86511944,\n",
       "           4760.20969107, 4812.01643405, 4984.70557733, 5071.05014896,\n",
       "           5088.31906329, 5261.00820656, 5330.08386387, 5347.3527782 ,\n",
       "           5381.89060685, 5485.50409282, 5520.04192147, 5571.84866445,\n",
       "           5692.73106474, 5727.2688934 , 5848.15129369, 5882.68912234,\n",
       "           6055.37826562, 6158.99175158, 6435.29438082, 6573.44569543,\n",
       "           6694.32809572, 6797.94158169, 6849.74832467, 6884.28615332,\n",
       "           7108.78203958, 7160.58878256, 7264.20226852, 7333.27792583,\n",
       "           7367.81575449, 7488.69815478, 7609.58055507, 7661.38729805,\n",
       "           7713.19404103, 7868.61426998, 7989.49667027, 8075.8412419 ,\n",
       "           8386.68169979, 8455.7573571 , 8490.29518576, 8611.17758605,\n",
       "           8714.79107201, 8766.59781499])}},\n",
       "  {'segment': 3,\n",
       "   'data_x': array([14.615, 14.623, 14.63 , 14.637, 14.652, 14.655, 14.659, 14.666,\n",
       "          14.669, 14.67 , 14.671, 14.678, 14.679, 14.681, 14.683, 14.693,\n",
       "          14.694, 14.696, 14.704, 14.706, 14.711, 14.714, 14.717, 14.724,\n",
       "          14.725, 14.727, 14.732, 14.737, 14.74 , 14.744, 14.751, 14.754,\n",
       "          14.755, 14.769, 14.772, 14.774, 14.783, 14.787, 14.788, 14.797,\n",
       "          14.802, 14.805, 14.815, 14.824, 14.832, 14.838, 14.853, 14.854,\n",
       "          14.857, 14.858, 14.86 , 14.861, 14.862, 14.863, 14.865, 14.878,\n",
       "          14.882, 14.886, 14.895, 14.896, 14.898, 14.906, 14.911, 14.922,\n",
       "          14.926, 14.927, 14.931, 14.945, 14.948, 14.952, 14.965, 14.967,\n",
       "          14.97 , 14.979, 14.983, 14.986, 14.994, 14.999, 15.005, 15.006,\n",
       "          15.012, 15.017, 15.02 , 15.036, 15.041, 15.042, 15.057, 15.062,\n",
       "          15.075, 15.08 , 15.086, 15.1  , 15.104, 15.114, 15.119, 15.123,\n",
       "          15.126, 15.132, 15.135, 15.136, 15.144, 15.149, 15.153, 15.164,\n",
       "          15.172, 15.173, 15.179, 15.194, 15.198, 15.207, 15.214, 15.218,\n",
       "          15.229, 15.236, 15.237, 15.248, 15.255, 15.256, 15.261, 15.278,\n",
       "          15.282, 15.294, 15.3  , 15.301, 15.314, 15.316, 15.318, 15.326,\n",
       "          15.332, 15.339, 15.343, 15.348, 15.349, 15.366, 15.371, 15.382,\n",
       "          15.389, 15.403, 15.406, 15.407, 15.417, 15.423, 15.424, 15.434,\n",
       "          15.439, 15.443, 15.447, 15.456, 15.46 , 15.463, 15.471, 15.474,\n",
       "          15.476, 15.483, 15.487, 15.491, 15.495, 15.511, 15.514, 15.515,\n",
       "          15.528, 15.53 , 15.531, 15.541, 15.548, 15.558, 15.559, 15.562,\n",
       "          15.563, 15.57 , 15.571, 15.573, 15.578, 15.579, 15.582, 15.585,\n",
       "          15.587, 15.588, 15.591, 15.594, 15.601, 15.603, 15.605, 15.608,\n",
       "          15.616, 15.617, 15.619, 15.62 , 15.621, 15.623, 15.628, 15.631,\n",
       "          15.634, 15.638, 15.641, 15.642, 15.645, 15.652, 15.653, 15.655,\n",
       "          15.66 , 15.665, 15.668, 15.674, 15.679, 15.68 , 15.689, 15.693,\n",
       "          15.696, 15.698, 15.711, 15.712, 15.713, 15.721, 15.725, 15.729,\n",
       "          15.738, 15.743, 15.744, 15.755, 15.762, 15.766, 15.774, 15.777,\n",
       "          15.782, 15.786, 15.793, 15.797, 15.801, 15.809, 15.814, 15.819,\n",
       "          15.825, 15.832, 15.837, 15.847, 15.852, 15.857, 15.86 , 15.866,\n",
       "          15.87 , 15.871, 15.879, 15.882, 15.885, 15.889, 15.894, 15.905,\n",
       "          15.911, 15.915, 15.917, 15.925, 15.927, 15.928, 15.931, 15.932,\n",
       "          15.934, 15.936, 15.937, 15.939, 15.941, 15.956, 15.959, 15.971,\n",
       "          15.977, 15.981, 15.991, 15.997, 16.003, 16.017, 16.019, 16.028,\n",
       "          16.035, 16.042, 16.057, 16.063, 16.069, 16.079, 16.085, 16.097,\n",
       "          16.102, 16.107, 16.117, 16.122, 16.124, 16.129, 16.139, 16.144,\n",
       "          16.156, 16.162, 16.164, 16.178, 16.186, 16.192, 16.198, 16.213,\n",
       "          16.216, 16.219, 16.227, 16.228, 16.229, 16.234, 16.239, 16.24 ,\n",
       "          16.251, 16.257, 16.261, 16.273, 16.281, 16.287, 16.289, 16.308,\n",
       "          16.322, 16.332, 16.335, 16.34 , 16.343, 16.345, 16.347, 16.358,\n",
       "          16.359, 16.361, 16.363, 16.365, 16.366, 16.367, 16.368, 16.369,\n",
       "          16.37 , 16.372, 16.373, 16.374, 16.375, 16.376, 16.377, 16.378,\n",
       "          16.379, 16.38 , 16.381, 16.382, 16.383, 16.384, 16.385, 16.386,\n",
       "          16.387, 16.388, 16.389, 16.39 , 16.391, 16.392, 16.393, 16.394,\n",
       "          16.395, 16.397, 16.399, 16.401, 16.402, 16.403, 16.406, 16.408,\n",
       "          16.409, 16.41 , 16.412, 16.414, 16.415, 16.416, 16.417, 16.418,\n",
       "          16.419, 16.42 , 16.422, 16.423, 16.426, 16.43 , 16.431, 16.432,\n",
       "          16.433, 16.434, 16.436, 16.437, 16.438, 16.439, 16.44 , 16.441,\n",
       "          16.442, 16.443, 16.444, 16.445, 16.446, 16.447, 16.449, 16.45 ,\n",
       "          16.454, 16.455, 16.456, 16.457, 16.459, 16.46 , 16.461, 16.463,\n",
       "          16.466, 16.468, 16.469, 16.471, 16.484, 16.485, 16.487, 16.489,\n",
       "          16.491, 16.493, 16.497, 16.501, 16.508, 16.522, 16.53 , 16.531,\n",
       "          16.546, 16.553, 16.559, 16.565, 16.584, 16.587, 16.597, 16.603,\n",
       "          16.607, 16.622, 16.628, 16.63 , 16.642, 16.649, 16.65 , 16.661,\n",
       "          16.668, 16.672, 16.68 , 16.684, 16.688, 16.703, 16.707, 16.71 ,\n",
       "          16.717, 16.719, 16.721, 16.729, 16.734, 16.738, 16.742, 16.755,\n",
       "          16.756, 16.765, 16.771, 16.784, 16.788, 16.789, 16.8  , 16.806,\n",
       "          16.81 , 16.814, 16.827, 16.828, 16.83 , 16.835, 16.836, 16.839,\n",
       "          16.847, 16.851, 16.852, 16.863, 16.869, 16.874, 16.88 , 16.896,\n",
       "          16.9  , 16.902, 16.911, 16.913, 16.916, 16.923, 16.927, 16.928,\n",
       "          16.939, 16.942, 16.944, 16.952, 16.958, 16.962, 16.969, 16.97 ,\n",
       "          16.971, 16.973, 16.982, 16.986, 16.987, 16.995, 17.001, 17.004,\n",
       "          17.012, 17.016, 17.019, 17.022, 17.032, 17.034, 17.036, 17.044,\n",
       "          17.048, 17.05 , 17.055, 17.059, 17.06 , 17.067, 17.07 , 17.072,\n",
       "          17.075, 17.084, 17.085, 17.088, 17.094, 17.096, 17.097, 17.106,\n",
       "          17.11 , 17.111, 17.122, 17.128, 17.132, 17.14 , 17.144, 17.147,\n",
       "          17.153, 17.154, 17.162, 17.172, 17.177, 17.178, 17.192, 17.199,\n",
       "          17.203, 17.213, 17.219, 17.222, 17.223, 17.234, 17.235, 17.236,\n",
       "          17.238, 17.239, 17.24 , 17.241, 17.245, 17.246, 17.248, 17.25 ,\n",
       "          17.251, 17.262, 17.271, 17.274, 17.289, 17.296, 17.297, 17.303,\n",
       "          17.319, 17.323, 17.332, 17.342, 17.346, 17.359, 17.365, 17.378,\n",
       "          17.387, 17.388, 17.402, 17.411, 17.413, 17.42 , 17.439, 17.445,\n",
       "          17.45 , 17.464, 17.466, 17.467, 17.483, 17.489, 17.49 , 17.502,\n",
       "          17.51 , 17.515, 17.528, 17.535, 17.537, 17.539, 17.559, 17.566,\n",
       "          17.567, 17.581, 17.589, 17.595, 17.607, 17.613, 17.618, 17.623,\n",
       "          17.636, 17.641, 17.643, 17.659, 17.662, 17.669, 17.675, 17.678,\n",
       "          17.685, 17.688, 17.689, 17.695, 17.713, 17.717, 17.722, 17.733,\n",
       "          17.736, 17.737, 17.749, 17.751, 17.757, 17.761, 17.762, 17.765,\n",
       "          17.779, 17.78 , 17.782, 17.783, 17.785, 17.788, 17.789, 17.79 ,\n",
       "          17.791, 17.792, 17.793, 17.794, 17.797, 17.799, 17.803, 17.804,\n",
       "          17.805, 17.806, 17.808, 17.823, 17.827, 17.831, 17.85 , 17.852,\n",
       "          17.853, 17.863, 17.866, 17.868, 17.876, 17.879, 17.881, 17.885,\n",
       "          17.898, 17.9  , 17.903, 17.912, 17.914, 17.915, 17.923, 17.926,\n",
       "          17.929, 17.937, 17.939, 17.942, 17.945, 17.962, 17.965, 17.968,\n",
       "          17.979, 17.982, 17.983, 17.994, 17.998, 18.   , 18.009, 18.014,\n",
       "          18.017, 18.022, 18.03 , 18.036, 18.044, 18.045, 18.046, 18.047]),\n",
       "   'data_y': array([ 8267.33833816,  8275.77357488,  8278.62856039,  8274.45971981,\n",
       "           8282.46454106,  8296.15937198,  8298.54007729,  8298.34186473,\n",
       "           8291.6767343 ,  8279.95960386,  8271.09876329,  8267.96615459,\n",
       "           8264.70711111,  8263.29471498,  8261.95824155,  8261.85181643,\n",
       "           8262.93480193,  8265.42317874,  8269.60919807,  8274.75475362,\n",
       "           8281.28085024,  8287.3154686 ,  8272.9508599 ,  8268.74297585,\n",
       "           8276.17161353,  8290.07721739,  8313.68541063,  8343.98527536,\n",
       "           8379.58975845,  8417.69984541,  8457.53806763,  8503.32094686,\n",
       "           8557.53514976,  8615.78997101,  8675.88085024,  8736.82527536,\n",
       "           8795.8644058 ,  8856.01884058,  8909.524657  ,  8959.53771981,\n",
       "           9001.53279227,  9036.94272464,  9063.5506087 ,  9079.72057971,\n",
       "           9085.3403285 ,  9077.97228986,  9058.42052174,  9059.51344928,\n",
       "           9059.63663768,  9055.27406763,  9051.44931401,  9044.4662029 ,\n",
       "           9036.05037681,  9027.84160386,  9022.88481159,  9024.51982609,\n",
       "           9029.852     ,  9034.36390338,  9039.49884058,  9045.66291787,\n",
       "           9052.25698551,  9060.95694686,  9067.33889855,  9075.13646377,\n",
       "           9081.15563285,  9088.31899517,  9093.86850242,  9099.12108213,\n",
       "           9104.03547826,  9109.14479227,  9113.94657005,  9118.69410628,\n",
       "           9123.49586473,  9128.33004831,  9132.80170048,  9137.21215459,\n",
       "           9141.74724638,  9146.81079227,  9151.54488889,  9156.76775845,\n",
       "           9162.36740097,  9168.3405314 ,  9174.68991304,  9181.39044444,\n",
       "           9188.54237681,  9195.7747343 ,  9202.33849275,  9210.57282126,\n",
       "           9218.06413527,  9225.8114686 ,  9233.84446377,  9242.64768116,\n",
       "           9251.17725604,  9261.11600966,  9270.70112077,  9280.38866667,\n",
       "           9290.18564251,  9300.60891787,  9310.21269565,  9319.9917971 ,\n",
       "           9330.19246377,  9340.33438647,  9352.02328502,  9363.3426087 ,\n",
       "           9374.34722705,  9386.70115942,  9398.32944928,  9409.90162319,\n",
       "           9421.30017391,  9432.04531401,  9442.31209662,  9454.77895652,\n",
       "           9465.08684058,  9475.65837681,  9487.50463768,  9498.80141063,\n",
       "           9510.41300483,  9522.11990338,  9533.04593237,  9543.45430918,\n",
       "           9554.78303382,  9564.93997101,  9574.87845411,  9584.62422222,\n",
       "           9594.4453913 ,  9604.09168116,  9614.23410628,  9623.73251208,\n",
       "           9633.23424155,  9643.31778744,  9652.08318841,  9660.87711111,\n",
       "           9669.49352657,  9677.71177778,  9685.91789372,  9694.617343  ,\n",
       "           9701.86892754,  9709.36858937,  9717.4586087 ,  9723.78389372,\n",
       "           9731.05201932,  9737.26990338,  9743.50330435,  9749.20688889,\n",
       "           9755.40962319,  9760.1945314 ,  9765.38589372,  9771.23366184,\n",
       "           9776.55694686,  9781.69072464,  9787.71839614,  9793.80655072,\n",
       "           9799.0691401 ,  9804.61789372,  9810.26013527,  9815.95947826,\n",
       "           9822.65988406,  9828.2453913 ,  9834.82867633,  9841.3213913 ,\n",
       "           9847.46908213,  9853.39192271,  9859.85091787,  9865.39495652,\n",
       "           9871.87022222,  9877.76278261,  9883.35770048,  9888.85283092,\n",
       "           9894.24214493,  9899.44336232,  9904.88589372,  9910.29354589,\n",
       "           9914.3955942 ,  9919.26714976,  9924.25897585,  9927.83062802,\n",
       "           9932.04436715,  9936.22059903,  9940.33980676,  9944.54457971,\n",
       "           9948.71974879,  9951.94001932,  9956.08718841,  9959.26284058,\n",
       "           9962.18564251,  9965.0545314 ,  9968.52749758,  9971.32960386,\n",
       "           9974.56989372,  9977.29377778,  9979.47822222,  9981.93897585,\n",
       "           9984.35221256,  9986.74944928,  9989.28521739,  9991.51990338,\n",
       "           9993.82079227,  9996.60071498,  9998.76229952, 10000.71584541,\n",
       "          10003.46361353, 10005.51965217, 10007.46342029, 10009.49804831,\n",
       "          10011.46158454, 10013.335343  , 10015.14697585, 10016.92112077,\n",
       "          10018.68332367, 10020.48085024, 10022.63781643, 10024.7173913 ,\n",
       "          10026.79990338, 10029.17101449, 10031.74944928, 10034.55041546,\n",
       "          10037.61582609, 10040.9773913 , 10044.6658744 , 10048.6767343 ,\n",
       "          10053.11111111, 10057.74079227, 10062.57491787, 10067.61194203,\n",
       "          10073.0149372 , 10078.36575845, 10084.03507246, 10089.90993237,\n",
       "          10096.04243478, 10102.20684058, 10108.07635749, 10114.56504348,\n",
       "          10120.78298551, 10127.26444444, 10133.99796135, 10140.97410628,\n",
       "          10148.19828986, 10155.50270531, 10162.92111111, 10170.44504348,\n",
       "          10178.06835749, 10185.79771981, 10193.63171981, 10201.39795169,\n",
       "          10209.26217391, 10217.04413527, 10224.51780676, 10231.77724638,\n",
       "          10239.56443478, 10247.2118744 , 10254.77915942, 10262.32930435,\n",
       "          10270.04254106, 10277.62341063, 10285.21842512, 10293.19259903,\n",
       "          10300.70834783, 10308.59683092, 10316.45451208, 10324.25155556,\n",
       "          10331.96560386, 10339.15296618, 10346.00815459, 10352.78531401,\n",
       "          10359.28028986, 10365.49578744, 10371.30828986, 10376.7131401 ,\n",
       "          10382.012     , 10387.07348792, 10391.72651208, 10396.5524058 ,\n",
       "          10401.5746087 , 10406.02957488, 10410.48121739, 10414.86391304,\n",
       "          10419.27742995, 10423.74708213, 10428.36599034, 10432.94897585,\n",
       "          10437.62813527, 10442.2973913 , 10446.91750725, 10451.46025121,\n",
       "          10455.9250628 , 10460.29802899, 10464.37018357, 10469.55397101,\n",
       "          10474.44948792, 10478.89337198, 10483.26071498, 10487.66519807,\n",
       "          10492.15319807, 10496.66917874, 10501.2571401 , 10505.9611401 ,\n",
       "          10510.78778744, 10515.60496618, 10520.40191304, 10524.93478261,\n",
       "          10529.69439614, 10534.64755556, 10540.34450242, 10546.05971014,\n",
       "          10551.81656039, 10558.72995169, 10565.48081159, 10572.53882126,\n",
       "          10579.92295652, 10587.55945894, 10595.22551691, 10599.37866667,\n",
       "          10600.0562029 , 10604.19617391, 10612.8721256 , 10624.13433333,\n",
       "          10638.66243961, 10654.45091626, 10671.52736393, 10692.08074557,\n",
       "          10709.72064573, 10727.16649243, 10747.44705696, 10768.60265162,\n",
       "          10787.17108512, 10809.46533908, 10827.10175362, 10843.41789819,\n",
       "          10860.30613636, 10875.90630507, 10890.90469875, 10903.72511087,\n",
       "          10914.68236992, 10924.03712397, 10930.08779142, 10932.87292209,\n",
       "          10938.00359022, 10948.10756105, 10958.70604764, 10968.3979218 ,\n",
       "          10977.9373845 , 10986.03636327, 11010.01419145, 11010.44860334,\n",
       "          11007.61832036, 11007.82367422, 11025.3419841 , 11033.59954564,\n",
       "          11018.19798534, 11009.66478184, 10992.86686008, 10996.3715875 ,\n",
       "          10980.10520707, 10965.58549772, 10954.55010984, 10944.53146039,\n",
       "          10937.75393502, 10933.6230253 , 10935.75891179, 10933.47887649,\n",
       "          10933.81462448, 10937.14334992, 10943.18984348, 10967.29387762,\n",
       "          10973.68853784, 10981.28160386, 10999.79722705, 10986.93047021,\n",
       "          10993.36685024, 11005.86521546, 11017.25365806, 11008.45971189,\n",
       "          10994.69544044, 10998.54380644, 10999.67223501, 11005.98029137,\n",
       "          10998.2423942 , 10996.99289133, 11004.41598565, 11017.06600566,\n",
       "          11010.63626538, 11019.42258123, 11024.00904017, 11020.0188789 ,\n",
       "          11017.42229068, 11012.9460098 , 11007.34223915, 10996.74384831,\n",
       "          10965.74190973, 10935.02117704, 10911.45967923, 10882.171996  ,\n",
       "          10877.344166  , 10871.2735902 , 10862.82695652, 10857.12704371,\n",
       "          10853.17442098, 10845.8313285 , 10848.2551401 , 10842.76337198,\n",
       "          10845.18495652, 10845.00422222, 10859.50659903, 10870.73624155,\n",
       "          10875.19360386, 10900.86646377, 10914.21870531, 10928.58704348,\n",
       "          10941.01514976, 10953.02509179, 10963.27066667, 10970.46866667,\n",
       "          10979.88811594, 10985.03633816, 11005.25064734, 11028.39772947,\n",
       "          11054.69142029, 11066.48103382, 11076.9937971 , 11082.54652174,\n",
       "          11085.28148792, 11083.56426087, 11085.08662802, 11076.89242512,\n",
       "          11079.37749758, 11081.8170628 , 11084.35034783, 11086.97016425,\n",
       "          11089.67295652, 11092.30274396, 11095.39278261, 11098.32535266,\n",
       "          11101.39322705, 11104.53899517, 11107.71910145, 11110.75342029,\n",
       "          11114.05919807, 11117.21197101, 11120.359343  , 11123.54422222,\n",
       "          11126.80606763, 11130.51771014, 11134.25128502, 11137.70980676,\n",
       "          11141.36977778, 11145.07784541, 11148.82446377, 11152.71448309,\n",
       "          11156.60521739, 11160.45763285, 11164.22719807, 11168.34443478,\n",
       "          11172.20381643, 11175.81999034, 11180.00354589, 11183.4608599 ,\n",
       "          11187.06321739, 11190.40810628, 11193.56760386, 11196.55206763,\n",
       "          11199.62124638, 11202.36419324, 11205.19888889, 11208.11918841,\n",
       "          11211.26999034, 11214.58558454, 11217.27557488, 11220.59449275,\n",
       "          11223.64177778, 11226.50481159, 11229.90411594, 11233.0454686 ,\n",
       "          11236.36494686, 11239.61615459, 11242.78129469, 11246.36268599,\n",
       "          11249.39584541, 11253.13799034, 11256.88038647, 11260.14206763,\n",
       "          11264.07325604, 11267.75182609, 11271.46127536, 11275.24100483,\n",
       "          11279.07951691, 11283.00127536, 11286.99634783, 11291.10028986,\n",
       "          11295.29756522, 11299.58239614, 11303.87188406, 11308.45037681,\n",
       "          11312.58401932, 11316.94869565, 11321.66908213, 11325.95399034,\n",
       "          11330.5097971 , 11335.0937971 , 11339.6487343 , 11344.34038647,\n",
       "          11348.89972947, 11353.74541063, 11358.03907246, 11362.52977778,\n",
       "          11367.21288889, 11371.36618357, 11376.06129469, 11380.38112077,\n",
       "          11384.41953623, 11388.95901449, 11393.13721739, 11397.30927536,\n",
       "          11401.47312077, 11405.66815459, 11409.85441546, 11413.88480193,\n",
       "          11417.85507246, 11421.93896618, 11426.12342029, 11430.40669565,\n",
       "          11434.77399034, 11439.3289372 , 11443.76852174, 11448.19875362,\n",
       "          11452.62191304, 11457.01991304, 11461.39285024, 11465.56839614,\n",
       "          11470.17163285, 11474.30165217, 11479.02200966, 11482.6471401 ,\n",
       "          11487.04773913, 11491.20940097, 11494.93533333, 11498.70029952,\n",
       "          11502.1796715 , 11505.9470628 , 11509.41082126, 11512.54252174,\n",
       "          11516.05657971, 11519.40521739, 11522.67824155, 11525.9767343 ,\n",
       "          11529.18877295, 11532.35627053, 11535.35163285, 11538.28803865,\n",
       "          11541.18635749, 11544.06320773, 11546.93337198, 11549.91234783,\n",
       "          11553.07780676, 11555.76009662, 11558.90547826, 11561.60645411,\n",
       "          11565.02014493, 11568.04763285, 11571.57066667, 11575.00902415,\n",
       "          11578.58573913, 11582.54425121, 11586.26422222, 11590.2789372 ,\n",
       "          11594.61079227, 11598.73783575, 11603.01129469, 11607.93176812,\n",
       "          11612.46961353, 11616.78811594, 11621.75610628, 11626.34971981,\n",
       "          11630.95142995, 11635.58160386, 11640.20574879, 11644.82861836,\n",
       "          11649.43657005, 11653.99712077, 11658.55480193, 11663.18415459,\n",
       "          11667.9865314 , 11672.891343  , 11677.76450242, 11682.73026087,\n",
       "          11688.0167343 , 11693.39768116, 11698.90942995, 11704.59039614,\n",
       "          11710.48127536, 11716.57429952, 11722.89304348, 11729.41208696,\n",
       "          11736.00950725, 11742.61318841, 11749.76477295, 11756.42416425,\n",
       "          11763.46098551, 11770.45780676, 11777.995343  , 11785.2707343 ,\n",
       "          11792.46396135, 11799.3597971 , 11806.11267633, 11812.75794203,\n",
       "          11819.06448309, 11825.86656039, 11832.0748599 , 11838.55189372,\n",
       "          11844.70390338, 11850.36615459, 11856.42017391, 11862.05057971,\n",
       "          11867.58301449, 11873.02118841, 11878.48052174, 11883.47434783,\n",
       "          11888.57513043, 11893.4224058 , 11899.15627053, 11904.20679227,\n",
       "          11909.04531401, 11914.10735266, 11919.05515942, 11923.20298551,\n",
       "          11927.47524638, 11931.38138164, 11935.29102738, 11939.24723671,\n",
       "          11942.99942029, 11946.81683414, 11949.77777778, 11952.95664734,\n",
       "          11955.52495974, 11958.05575845, 11960.65292754, 11962.54106602,\n",
       "          11964.45916908, 11966.23320773, 11967.83993559, 11969.43191304,\n",
       "          11971.21986473, 11973.29909501, 11975.48224155, 11976.79659903,\n",
       "          11978.50986795, 11980.39049275, 11981.95257971, 11983.60409018,\n",
       "          11985.27309179, 11987.04813527, 11988.90432206, 11990.68813527,\n",
       "          11992.25522705, 11993.75128502, 11995.20525604, 11996.86861836,\n",
       "          11998.39184541, 11999.85914976, 12001.31215459, 12002.78850242,\n",
       "          12004.3308599 , 12005.69281159, 12007.92100483, 12010.15627053,\n",
       "          12012.00450242, 12014.94687923, 12017.68931401, 12020.49234783,\n",
       "          12023.57480193, 12026.94013527, 12030.62575845, 12034.57790338,\n",
       "          12038.55586473, 12043.82022222, 12047.20881159, 12053.50683092,\n",
       "          12060.64249275, 12068.70503382, 12078.63783575, 12089.28389372,\n",
       "          12097.40226087, 12105.24712077, 12114.42057971, 12122.76497585,\n",
       "          12131.07710145, 12139.418     , 12148.61957488, 12157.09966184]),\n",
       "   'fitted_model': {'slope': np.float64(52.93585628450877),\n",
       "    'intercept': np.float64(432.16338962534513),\n",
       "    'fitted_y': array([ 8813.47116226,  8821.80653541,  8829.09998691,  8836.39343842,\n",
       "            8852.02226307,  8855.148028  ,  8859.31571458,  8866.60916608,\n",
       "            8869.73493102,  8870.77685266,  8871.8187743 ,  8879.11222581,\n",
       "            8880.15414745,  8882.23799074,  8884.32183403,  8894.74105046,\n",
       "            8895.78297211,  8897.86681539,  8906.20218854,  8908.28603183,\n",
       "            8913.49564005,  8916.62140498,  8919.74716991,  8927.04062141,\n",
       "            8928.08254306,  8930.16638634,  8935.37599456,  8940.58560278,\n",
       "            8943.71136771,  8947.87905429,  8955.17250579,  8958.29827072,\n",
       "            8959.34019237,  8973.92709538,  8977.05286031,  8979.13670359,\n",
       "            8988.51399839,  8992.68168496,  8993.7236066 ,  9003.1009014 ,\n",
       "            9008.31050961,  9011.43627455,  9021.85549098,  9031.23278577,\n",
       "            9039.56815892,  9045.81968878,  9061.44851344,  9062.49043508,\n",
       "            9065.61620001,  9066.65812166,  9068.74196494,  9069.78388659,\n",
       "            9070.82580823,  9071.86772987,  9073.95157316,  9087.49655453,\n",
       "            9091.6642411 ,  9095.83192768,  9105.20922247,  9106.25114411,\n",
       "            9108.3349874 ,  9116.67036055,  9121.87996877,  9133.34110685,\n",
       "            9137.50879342,  9138.55071506,  9142.71840164,  9157.30530465,\n",
       "            9160.43106958,  9164.59875615,  9178.14373752,  9180.22758081,\n",
       "            9183.35334574,  9192.73064053,  9196.89832711,  9200.02409204,\n",
       "            9208.35946519,  9213.5690734 ,  9219.82060327,  9220.86252491,\n",
       "            9227.11405477,  9232.32366299,  9235.44942792,  9252.12017422,\n",
       "            9257.32978244,  9258.37170408,  9274.00052873,  9279.21013695,\n",
       "            9292.75511832,  9297.96472654,  9304.2162564 ,  9318.80315941,\n",
       "            9322.97084598,  9333.39006242,  9338.59967064,  9342.76735721,\n",
       "            9345.89312214,  9352.144652  ,  9355.27041693,  9356.31233858,\n",
       "            9364.64771173,  9369.85731994,  9374.02500652,  9385.4861446 ,\n",
       "            9393.82151775,  9394.86343939,  9401.11496925,  9416.74379391,\n",
       "            9420.91148048,  9430.28877527,  9437.58222678,  9441.74991335,\n",
       "            9453.21105143,  9460.50450294,  9461.54642458,  9473.00756266,\n",
       "            9480.30101417,  9481.34293581,  9486.55254403,  9504.26521197,\n",
       "            9508.43289854,  9520.93595827,  9527.18748813,  9528.22940977,\n",
       "            9541.77439114,  9543.85823443,  9545.94207771,  9554.27745086,\n",
       "            9560.52898072,  9567.82243223,  9571.9901188 ,  9577.19972702,\n",
       "            9578.24164866,  9595.95431661,  9601.16392482,  9612.6250629 ,\n",
       "            9619.91851441,  9634.50541742,  9637.63118235,  9638.67310399,\n",
       "            9649.09232043,  9655.34385029,  9656.38577193,  9666.80498837,\n",
       "            9672.01459659,  9676.18228316,  9680.34996974,  9689.72726453,\n",
       "            9693.8949511 ,  9697.02071604,  9705.35608918,  9708.48185411,\n",
       "            9710.5656974 ,  9717.85914891,  9722.02683548,  9726.19452206,\n",
       "            9730.36220863,  9747.03295493,  9750.15871986,  9751.2006415 ,\n",
       "            9764.74562287,  9766.82946616,  9767.8713878 ,  9778.29060424,\n",
       "            9785.58405574,  9796.00327218,  9797.04519382,  9800.17095875,\n",
       "            9801.2128804 ,  9808.5063319 ,  9809.54825354,  9811.63209683,\n",
       "            9816.84170505,  9817.88362669,  9821.00939162,  9824.13515655,\n",
       "            9826.21899984,  9827.26092149,  9830.38668642,  9833.51245135,\n",
       "            9840.80590285,  9842.88974614,  9844.97358943,  9848.09935436,\n",
       "            9856.43472751,  9857.47664915,  9859.56049244,  9860.60241408,\n",
       "            9861.64433572,  9863.72817901,  9868.93778723,  9872.06355216,\n",
       "            9875.18931709,  9879.35700367,  9882.4827686 ,  9883.52469024,\n",
       "            9886.65045517,  9893.94390668,  9894.98582832,  9897.06967161,\n",
       "            9902.27927982,  9907.48888804,  9910.61465297,  9916.86618284,\n",
       "            9922.07579105,  9923.1177127 ,  9932.49500749,  9936.66269406,\n",
       "            9939.78845899,  9941.87230228,  9955.41728365,  9956.45920529,\n",
       "            9957.50112694,  9965.83650008,  9970.00418666,  9974.17187323,\n",
       "            9983.54916803,  9988.75877624,  9989.80069789, 10001.26183597,\n",
       "           10008.55528747, 10012.72297405, 10021.0583472 , 10024.18411213,\n",
       "           10029.39372034, 10033.56140692, 10040.85485842, 10045.022545  ,\n",
       "           10049.19023157, 10057.52560472, 10062.73521294, 10067.94482116,\n",
       "           10074.19635102, 10081.48980252, 10086.69941074, 10097.11862718,\n",
       "           10102.3282354 , 10107.53784361, 10110.66360855, 10116.91513841,\n",
       "           10121.08282498, 10122.12474662, 10130.46011977, 10133.5858847 ,\n",
       "           10136.71164964, 10140.87933621, 10146.08894443, 10157.55008251,\n",
       "           10163.80161237, 10167.96929894, 10170.05314223, 10178.38851538,\n",
       "           10180.47235867, 10181.51428031, 10184.64004524, 10185.68196688,\n",
       "           10187.76581017, 10189.84965346, 10190.8915751 , 10192.97541839,\n",
       "           10195.05926168, 10210.68808633, 10213.81385126, 10226.31691099,\n",
       "           10232.56844085, 10236.73612742, 10247.15534386, 10253.40687372,\n",
       "           10259.65840358, 10274.24530659, 10276.32914988, 10285.70644467,\n",
       "           10292.99989618, 10300.29334768, 10315.92217233, 10322.1737022 ,\n",
       "           10328.42523206, 10338.84444849, 10345.09597836, 10357.59903808,\n",
       "           10362.8086463 , 10368.01825451, 10378.43747095, 10383.64707917,\n",
       "           10385.73092246, 10390.94053067, 10401.35974711, 10406.56935533,\n",
       "           10419.07241505, 10425.32394491, 10427.4077882 , 10441.99469121,\n",
       "           10450.33006436, 10456.58159422, 10462.83312408, 10478.46194874,\n",
       "           10481.58771367, 10484.7134786 , 10493.04885175, 10494.09077339,\n",
       "           10495.13269503, 10500.34230325, 10505.55191147, 10506.59383311,\n",
       "           10518.05497119, 10524.30650106, 10528.47418763, 10540.97724735,\n",
       "           10549.3126205 , 10555.56415036, 10557.64799365, 10577.44450488,\n",
       "           10592.03140789, 10602.45062433, 10605.57638926, 10610.78599747,\n",
       "           10613.91176241, 10615.99560569, 10618.07944898, 10629.54058706,\n",
       "           10630.5825087 , 10632.66635199, 10634.75019528, 10636.83403856,\n",
       "           10637.87596021, 10638.91788185, 10639.9598035 , 10641.00172514,\n",
       "           10642.04364678, 10644.12749007, 10645.16941171, 10646.21133336,\n",
       "           10647.253255  , 10648.29517664, 10649.33709829, 10650.37901993,\n",
       "           10651.42094157, 10652.46286322, 10653.50478486, 10654.54670651,\n",
       "           10655.58862815, 10656.63054979, 10657.67247144, 10658.71439308,\n",
       "           10659.75631472, 10660.79823637, 10661.84015801, 10662.88207965,\n",
       "           10663.9240013 , 10664.96592294, 10666.00784459, 10667.04976623,\n",
       "           10668.09168787, 10670.17553116, 10672.25937445, 10674.34321773,\n",
       "           10675.38513938, 10676.42706102, 10679.55282595, 10681.63666924,\n",
       "           10682.67859088, 10683.72051253, 10685.80435581, 10687.8881991 ,\n",
       "           10688.93012074, 10689.97204239, 10691.01396403, 10692.05588568,\n",
       "           10693.09780732, 10694.13972896, 10696.22357225, 10697.26549389,\n",
       "           10700.39125882, 10704.5589454 , 10705.60086704, 10706.64278869,\n",
       "           10707.68471033, 10708.72663197, 10710.81047526, 10711.8523969 ,\n",
       "           10712.89431855, 10713.93624019, 10714.97816183, 10716.02008348,\n",
       "           10717.06200512, 10718.10392677, 10719.14584841, 10720.18777005,\n",
       "           10721.2296917 , 10722.27161334, 10724.35545663, 10725.39737827,\n",
       "           10729.56506484, 10730.60698649, 10731.64890813, 10732.69082978,\n",
       "           10734.77467306, 10735.81659471, 10736.85851635, 10738.94235964,\n",
       "           10742.06812457, 10744.15196786, 10745.1938895 , 10747.27773279,\n",
       "           10760.82271415, 10761.8646358 , 10763.94847908, 10766.03232237,\n",
       "           10768.11616566, 10770.20000895, 10774.36769552, 10778.53538209,\n",
       "           10785.8288336 , 10800.41573661, 10808.75110976, 10809.7930314 ,\n",
       "           10825.42185606, 10832.71530756, 10838.96683742, 10845.21836728,\n",
       "           10865.01487851, 10868.14064344, 10878.55985988, 10884.81138974,\n",
       "           10888.97907632, 10904.60790097, 10910.85943083, 10912.94327412,\n",
       "           10925.44633384, 10932.73978535, 10933.78170699, 10945.24284507,\n",
       "           10952.53629658, 10956.70398315, 10965.0393563 , 10969.20704287,\n",
       "           10973.37472945, 10989.0035541 , 10993.17124068, 10996.29700561,\n",
       "           11003.59045711, 11005.6743004 , 11007.75814369, 11016.09351684,\n",
       "           11021.30312505, 11025.47081163, 11029.6384982 , 11043.18347957,\n",
       "           11044.22540121, 11053.60269601, 11059.85422587, 11073.39920723,\n",
       "           11077.56689381, 11078.60881545, 11090.06995353, 11096.32148339,\n",
       "           11100.48916997, 11104.65685654, 11118.20183791, 11119.24375955,\n",
       "           11121.32760284, 11126.53721106, 11127.5791327 , 11130.70489763,\n",
       "           11139.04027078, 11143.20795735, 11144.249879  , 11155.71101708,\n",
       "           11161.96254694, 11167.17215516, 11173.42368502, 11190.09443132,\n",
       "           11194.26211789, 11196.34596118, 11205.72325597, 11207.80709926,\n",
       "           11210.93286419, 11218.22631569, 11222.39400227, 11223.43592391,\n",
       "           11234.89706199, 11238.02282692, 11240.10667021, 11248.44204336,\n",
       "           11254.69357322, 11258.86125979, 11266.1547113 , 11267.19663294,\n",
       "           11268.23855459, 11270.32239787, 11279.69969267, 11283.86737924,\n",
       "           11284.90930088, 11293.24467403, 11299.4962039 , 11302.62196883,\n",
       "           11310.95734197, 11315.12502855, 11318.25079348, 11321.37655841,\n",
       "           11331.79577485, 11333.87961813, 11335.96346142, 11344.29883457,\n",
       "           11348.46652114, 11350.55036443, 11355.75997265, 11359.92765922,\n",
       "           11360.96958087, 11368.26303237, 11371.3887973 , 11373.47264059,\n",
       "           11376.59840552, 11385.97570031, 11387.01762196, 11390.14338689,\n",
       "           11396.39491675, 11398.47876004, 11399.52068168, 11408.89797647,\n",
       "           11413.06566305, 11414.10758469, 11425.56872277, 11431.82025263,\n",
       "           11435.98793921, 11444.32331236, 11448.49099893, 11451.61676386,\n",
       "           11457.86829372, 11458.91021537, 11467.24558852, 11477.66480495,\n",
       "           11482.87441317, 11483.91633481, 11498.50323782, 11505.79668933,\n",
       "           11509.9643759 , 11520.38359234, 11526.6351222 , 11529.76088713,\n",
       "           11530.80280877, 11542.26394685, 11543.3058685 , 11544.34779014,\n",
       "           11546.43163343, 11547.47355507, 11548.51547672, 11549.55739836,\n",
       "           11553.72508493, 11554.76700658, 11556.85084986, 11558.93469315,\n",
       "           11559.9766148 , 11571.43775288, 11580.81504767, 11583.9408126 ,\n",
       "           11599.56963725, 11606.86308876, 11607.9050104 , 11614.15654026,\n",
       "           11630.82728656, 11634.99497313, 11644.37226793, 11654.79148436,\n",
       "           11658.95917094, 11672.5041523 , 11678.75568217, 11692.30066353,\n",
       "           11701.67795833, 11702.71987997, 11717.30678298, 11726.68407777,\n",
       "           11728.76792106, 11736.06137256, 11755.85788379, 11762.10941365,\n",
       "           11767.31902187, 11781.90592488, 11783.98976817, 11785.03168981,\n",
       "           11801.70243611, 11807.95396597, 11808.99588762, 11821.49894734,\n",
       "           11829.83432049, 11835.04392871, 11848.58891007, 11855.88236158,\n",
       "           11857.96620487, 11860.05004815, 11880.88848103, 11888.18193253,\n",
       "           11889.22385417, 11903.81075718, 11912.14613033, 11918.39766019,\n",
       "           11930.90071992, 11937.15224978, 11942.361858  , 11947.57146622,\n",
       "           11961.11644758, 11966.3260558 , 11968.40989909, 11985.08064539,\n",
       "           11988.20641032, 11995.49986182, 12001.75139168, 12004.87715661,\n",
       "           12012.17060812, 12015.29637305, 12016.33829469, 12022.58982455,\n",
       "           12041.34441414, 12045.51210071, 12050.72170893, 12062.18284701,\n",
       "           12065.30861194, 12066.35053359, 12078.85359331, 12080.9374366 ,\n",
       "           12087.18896646, 12091.35665303, 12092.39857468, 12095.52433961,\n",
       "           12110.11124262, 12111.15316426, 12113.23700755, 12114.27892919,\n",
       "           12116.36277248, 12119.48853741, 12120.53045905, 12121.5723807 ,\n",
       "           12122.61430234, 12123.65622398, 12124.69814563, 12125.74006727,\n",
       "           12128.8658322 , 12130.94967549, 12135.11736206, 12136.15928371,\n",
       "           12137.20120535, 12138.24312699, 12140.32697028, 12155.95579494,\n",
       "           12160.12348151, 12164.29116808, 12184.08767931, 12186.1715226 ,\n",
       "           12187.21344424, 12197.63266068, 12200.75842561, 12202.8422689 ,\n",
       "           12211.17764205, 12214.30340698, 12216.38725026, 12220.55493684,\n",
       "           12234.09991821, 12236.18376149, 12239.30952642, 12248.68682122,\n",
       "           12250.7706645 , 12251.81258615, 12260.1479593 , 12263.27372423,\n",
       "           12266.39948916, 12274.73486231, 12276.81870559, 12279.94447052,\n",
       "           12283.07023546, 12300.7829034 , 12303.90866833, 12307.03443326,\n",
       "           12318.49557134, 12321.62133627, 12322.66325791, 12334.12439599,\n",
       "           12338.29208257, 12340.37592585, 12349.75322065, 12354.96282886,\n",
       "           12358.08859379, 12363.29820201, 12371.63357516, 12377.88510502,\n",
       "           12386.22047817, 12387.26239982, 12388.30432146, 12389.3462431 ])}},\n",
       "  {'segment': 4,\n",
       "   'data_x': array([18.05 , 18.051, 18.052, 18.053, 18.055, 18.06 , 18.061, 18.065,\n",
       "          18.082, 18.086, 18.09 , 18.098, 18.101, 18.106, 18.114, 18.116,\n",
       "          18.122, 18.127, 18.131, 18.136, 18.147, 18.155, 18.159, 18.164,\n",
       "          18.179, 18.18 , 18.182, 18.189, 18.194, 18.198, 18.206, 18.214,\n",
       "          18.219, 18.221, 18.233, 18.236, 18.24 , 18.249, 18.25 , 18.253,\n",
       "          18.26 , 18.263, 18.265, 18.27 , 18.274, 18.276, 18.279, 18.29 ,\n",
       "          18.292, 18.294, 18.295, 18.296, 18.297, 18.298, 18.299, 18.3  ,\n",
       "          18.302, 18.311, 18.315, 18.316, 18.32 , 18.323, 18.325, 18.326,\n",
       "          18.338, 18.344, 18.356, 18.363, 18.364, 18.377, 18.386, 18.391,\n",
       "          18.397, 18.41 , 18.415, 18.429, 18.435, 18.443, 18.458, 18.465,\n",
       "          18.469, 18.485, 18.493, 18.508, 18.517, 18.526, 18.535, 18.539,\n",
       "          18.561, 18.567, 18.576, 18.581, 18.587, 18.588, 18.595, 18.599,\n",
       "          18.6  , 18.602, 18.603, 18.604, 18.611, 18.613, 18.615, 18.617,\n",
       "          18.62 , 18.621, 18.622, 18.623, 18.624, 18.626, 18.627, 18.628,\n",
       "          18.629, 18.63 , 18.631, 18.633, 18.642, 18.649, 18.653, 18.659,\n",
       "          18.669, 18.671, 18.672, 18.677, 18.678, 18.68 , 18.688, 18.69 ,\n",
       "          18.692, 18.699, 18.702, 18.705, 18.709, 18.71 , 18.712, 18.719,\n",
       "          18.722, 18.734, 18.738, 18.74 , 18.749, 18.754, 18.758, 18.765,\n",
       "          18.772, 18.774, 18.777, 18.787, 18.788, 18.789, 18.8  , 18.802,\n",
       "          18.804, 18.814, 18.823, 18.826, 18.83 , 18.839, 18.844, 18.856,\n",
       "          18.859, 18.86 , 18.871, 18.879, 18.896, 18.901, 18.902, 18.906,\n",
       "          18.92 , 18.924, 18.931, 18.939, 18.943, 18.944, 18.956, 18.964,\n",
       "          18.966, 18.981, 18.989, 18.995, 19.   , 19.006, 19.011, 19.015,\n",
       "          19.027, 19.03 , 19.038, 19.041, 19.042, 19.053, 19.059, 19.072,\n",
       "          19.079, 19.083, 19.088, 19.102, 19.106, 19.111, 19.126, 19.129,\n",
       "          19.131, 19.14 , 19.142, 19.144, 19.154, 19.16 , 19.165, 19.171,\n",
       "          19.184, 19.187, 19.196, 19.201, 19.206, 19.21 , 19.217, 19.222,\n",
       "          19.234, 19.239, 19.25 , 19.255, 19.259, 19.265, 19.279, 19.28 ,\n",
       "          19.282, 19.293, 19.298, 19.303, 19.313, 19.317, 19.32 , 19.325,\n",
       "          19.332, 19.337, 19.347, 19.352, 19.353, 19.355, 19.366, 19.37 ,\n",
       "          19.374, 19.377, 19.379, 19.386, 19.391, 19.394, 19.399, 19.416,\n",
       "          19.42 , 19.429, 19.433, 19.437, 19.439, 19.448, 19.454, 19.455,\n",
       "          19.46 , 19.462, 19.465, 19.47 , 19.485, 19.49 , 19.503, 19.51 ,\n",
       "          19.523, 19.529, 19.532, 19.544, 19.551, 19.555, 19.56 , 19.568,\n",
       "          19.569, 19.571, 19.572, 19.573, 19.574, 19.575, 19.576, 19.577,\n",
       "          19.578, 19.579, 19.58 , 19.581, 19.582, 19.583, 19.584, 19.585,\n",
       "          19.589, 19.594, 19.601, 19.606, 19.61 , 19.611, 19.627, 19.632,\n",
       "          19.646, 19.649, 19.657, 19.661, 19.663, 19.665, 19.667, 19.668,\n",
       "          19.67 , 19.672, 19.673, 19.674, 19.675, 19.676, 19.677, 19.678,\n",
       "          19.679, 19.699, 19.709, 19.715, 19.744, 19.748, 19.772, 19.782,\n",
       "          19.789, 19.806, 19.814, 19.815, 19.826, 19.851, 19.858, 19.864,\n",
       "          19.876, 19.883, 19.884, 19.9  , 19.903, 19.904, 19.919, 19.926,\n",
       "          19.931, 19.935, 19.952, 19.955, 19.96 , 19.97 , 19.977, 19.981,\n",
       "          19.994, 19.998, 19.999, 20.012, 20.019, 20.024, 20.035, 20.04 ,\n",
       "          20.046, 20.05 , 20.063, 20.067, 20.076, 20.081, 20.082, 20.094,\n",
       "          20.1  , 20.104, 20.114, 20.118, 20.122, 20.125, 20.14 , 20.142,\n",
       "          20.144, 20.154, 20.158, 20.16 , 20.169, 20.174, 20.176, 20.187,\n",
       "          20.192, 20.194, 20.198, 20.209, 20.213, 20.216, 20.225, 20.232,\n",
       "          20.238, 20.25 , 20.257, 20.259, 20.27 , 20.277, 20.283, 20.288,\n",
       "          20.303, 20.305, 20.309, 20.314, 20.315, 20.318, 20.328, 20.335,\n",
       "          20.35 , 20.358, 20.365, 20.378, 20.387, 20.394, 20.399, 20.418,\n",
       "          20.423, 20.43 , 20.444, 20.449, 20.45 , 20.464, 20.47 , 20.476]),\n",
       "   'data_y': array([12165.69285024, 12174.76849275, 12139.03721739, 12168.35162319,\n",
       "          12162.06803865, 12151.65786473, 12163.28751691, 12188.26132367,\n",
       "          12229.576657  , 12284.38821256, 12343.48817391, 12430.1109372 ,\n",
       "          12527.96718841, 12636.39400966, 12755.20885024, 12876.55638647,\n",
       "          12999.85920773, 13125.47858937, 13248.9266087 , 13364.76222222,\n",
       "          13471.94094686, 13568.57140097, 13653.15089855, 13723.15936232,\n",
       "          13777.30562319, 13812.50570048, 13825.74564251, 13882.32628019,\n",
       "          13868.25236715, 13876.07480193, 13899.04707246, 13914.31285024,\n",
       "          13930.17806763, 13943.56342029, 13957.47507246, 13984.45828019,\n",
       "          14003.71615459, 14024.54895652, 14045.02345894, 14062.57622222,\n",
       "          14079.75105314, 14094.36035266, 14105.2156087 , 14113.79705475,\n",
       "          14120.02813043, 14125.98535749, 14131.93810789, 14137.77770531,\n",
       "          14143.57448792, 14148.55040741, 14153.21133816, 14158.30725121,\n",
       "          14161.49445572, 14164.6557343 , 14167.9974058 , 14169.8080306 ,\n",
       "          14171.84822705, 14173.27886473, 14174.40490982, 14175.27563768,\n",
       "          14176.01070048, 14178.04426248, 14179.10934783, 14180.82063285,\n",
       "          14182.44201127, 14184.01988889, 14185.62711594, 14188.11434461,\n",
       "          14190.28954589, 14193.33900483, 14196.93696618, 14200.8343285 ,\n",
       "          14205.41984541, 14210.58205797, 14216.00776812, 14221.57649275,\n",
       "          14227.28228019, 14232.9761256 , 14238.80624155, 14245.12072464,\n",
       "          14251.22805797, 14258.72916908, 14266.04695652, 14273.16815459,\n",
       "          14279.50606763, 14287.74805797, 14295.25478261, 14304.42438647,\n",
       "          14312.05252174, 14321.08498551, 14328.92086957, 14338.55485024,\n",
       "          14348.18877295, 14352.92198068, 14364.85227053, 14376.1056715 ,\n",
       "          14386.3828744 , 14396.18155556, 14408.32144444, 14416.8689372 ,\n",
       "          14428.43939614, 14437.47382609, 14450.49104831, 14460.21117874,\n",
       "          14469.67425604, 14480.0089372 , 14489.30735749, 14498.75962319,\n",
       "          14508.11290338, 14519.7207343 , 14529.59980193, 14539.78173913,\n",
       "          14547.71701932, 14557.37609662, 14565.01313527, 14573.50077295,\n",
       "          14580.42378261, 14586.02204831, 14598.12212077, 14604.07831884,\n",
       "          14609.56387923, 14615.52741063, 14622.51072464, 14625.9508599 ,\n",
       "          14632.6188599 , 14636.11814493, 14641.79037681, 14643.67586473,\n",
       "          14647.18100483, 14651.07499517, 14655.12048309, 14659.38376812,\n",
       "          14664.15744928, 14669.63758454, 14674.46950725, 14678.35748792,\n",
       "          14684.76784541, 14691.58096618, 14697.32320773, 14703.02299517,\n",
       "          14710.96985507, 14718.24119807, 14726.12108213, 14734.10813527,\n",
       "          14742.57781643, 14751.38861836, 14760.40199034, 14768.93227053,\n",
       "          14777.92894686, 14789.46966184, 14800.51406763, 14812.25912077,\n",
       "          14823.63557488, 14835.57736232, 14850.49341063, 14865.59303382,\n",
       "          14881.4454686 , 14897.52994203, 14914.0018744 , 14930.81856039,\n",
       "          14948.40382609, 14966.83852174, 14983.71671498, 15001.84833816,\n",
       "          15020.81549758, 15038.094     , 15055.49410628, 15032.20932367,\n",
       "          15029.0124058 , 15043.71025121, 15072.97833816, 15114.71562319,\n",
       "          15167.37605797, 15231.16174879, 15296.66595169, 15370.63713043,\n",
       "          15452.38828986, 15539.87207729, 15631.72618357, 15724.09920773,\n",
       "          15816.71828019, 15907.42562319, 15994.79936232, 16076.88997101,\n",
       "          16151.83447343, 16219.39002899, 16274.97845411, 16318.39078261,\n",
       "          16350.63400966, 16366.50600966, 16365.39055072, 16349.23569082,\n",
       "          16373.35207729, 16396.07142029, 16416.47416425, 16435.50784541,\n",
       "          16453.25924638, 16470.33514976, 16485.05748792, 16503.99321739,\n",
       "          16523.85656039, 16543.48332367, 16563.14778744, 16583.42742995,\n",
       "          16602.36295652, 16621.53927536, 16640.49269565, 16659.29763285,\n",
       "          16677.94736232, 16696.86538164, 16715.83489855, 16733.24789372,\n",
       "          16753.9956715 , 16770.77629952, 16788.4130628 , 16807.24462802,\n",
       "          16823.40991304, 16840.25436715, 16856.96363285, 16873.79011594,\n",
       "          16889.53418357, 16904.74246377, 16919.38602899, 16933.51003865,\n",
       "          16946.58332367, 16960.82547826, 16973.42795169, 16986.41336232,\n",
       "          16997.43761353, 17007.6563285 , 17021.19436715, 17033.46392271,\n",
       "          17046.43407729, 17060.3094686 , 17075.2932657 , 17090.99503382,\n",
       "          17108.55703382, 17125.31437681, 17143.67384541, 17161.85084058,\n",
       "          17183.95494686, 17205.25225121, 17226.83332367, 17251.97263768,\n",
       "          17273.40051208, 17297.79148792, 17324.03809662, 17347.39499839,\n",
       "          17370.59977778, 17394.64371014, 17416.94939452, 17440.13033816,\n",
       "          17462.21690821, 17486.26613849, 17514.10999034, 17539.60019324,\n",
       "          17567.26244767, 17595.58067633, 17624.43435749, 17651.12155878,\n",
       "          17669.04072464, 17702.90255072, 17717.84779066, 17740.03911111,\n",
       "          17782.4768599 , 17816.82159742, 17862.84288245, 17906.85736812,\n",
       "          17944.34288341, 17992.00621836, 18036.01892022, 18079.20067292,\n",
       "          18119.30056825, 18154.06074341, 18174.00058261, 18212.75442595,\n",
       "          18228.00985797, 18244.55671442, 18261.15571028, 18276.34616922,\n",
       "          18289.8183521 , 18301.75106087, 18310.48742595, 18315.5369256 ,\n",
       "          18318.6598207 , 18333.80196632, 18333.57805811, 18356.79600911,\n",
       "          18386.3925343 , 18404.75455155, 18431.26358744, 18450.00907191,\n",
       "          18472.42264168, 18499.52216986, 18526.33534631, 18549.17150918,\n",
       "          18559.78895845, 18570.03336425, 18580.07835749, 18601.28709179,\n",
       "          18598.85764251, 18611.66301449, 18624.34525604, 18636.92805797,\n",
       "          18599.00655072, 18588.63773913, 18593.27522705, 18621.83998068,\n",
       "          18661.13793237, 18719.87272464, 18787.59348792, 18861.45054106,\n",
       "          18942.48606763, 19031.07050242, 19132.00069565, 19235.84847343,\n",
       "          19344.01833816, 19453.01177778, 19562.14633816, 19660.41903382,\n",
       "          19749.84929469, 19840.64560386, 19915.53358454, 19977.03292754,\n",
       "          20025.78566184, 20057.89445411, 20074.65381643, 20073.3407343 ,\n",
       "          20052.04330435, 20083.95729469, 20111.88390338, 20145.47628986,\n",
       "          20172.59397101, 20202.3309372 , 20230.69681159, 20255.7363285 ,\n",
       "          20286.74098551, 20322.36687923, 20360.76902415, 20395.28500483,\n",
       "          20432.67507246, 20468.50757488, 20502.50732367, 20533.7416715 ,\n",
       "          20563.12989372, 20594.43736232, 20623.41120773, 20654.81981643,\n",
       "          20685.65543961, 20716.64006763, 20747.62436715, 20778.342     ,\n",
       "          20808.4977971 , 20837.88433816, 20866.55615459, 20894.13753623,\n",
       "          20922.00697585, 20947.49898551, 20973.73348792, 20996.88565217,\n",
       "          21020.75385507, 21042.96785507, 21064.27184541, 21085.89813527,\n",
       "          21106.36900483, 21124.86476328, 21142.17147826, 21158.30601932,\n",
       "          21173.11996135, 21187.59082126, 21203.48742029, 21216.6054686 ,\n",
       "          21231.54622222, 21246.86079227, 21262.94610628, 21279.95016425,\n",
       "          21298.09918841, 21317.62859903, 21338.7061256 , 21361.49615459,\n",
       "          21386.74436715, 21411.40369082, 21438.99528502, 21468.87368116,\n",
       "          21496.68413527, 21528.29741063, 21558.80771014, 21588.87937198,\n",
       "          21618.47963285, 21647.64443478, 21675.6956715 , 21702.18263768,\n",
       "          21726.62181643, 21750.35092754, 21773.42104348, 21795.83034783,\n",
       "          21817.58500483, 21837.76545894, 21856.82231884, 21874.21100483,\n",
       "          21891.81545894, 21907.84457005, 21923.09810628, 21937.72155556,\n",
       "          21951.75327536, 21965.45772947, 21978.4937971 , 21990.15780676,\n",
       "          22001.04063768, 22012.18171014, 22021.38707246, 22030.2711401 ,\n",
       "          22039.2222029 , 22048.46320773, 22057.25080193, 22066.03252174]),\n",
       "   'fitted_model': {'slope': np.float64(52.93585628450877),\n",
       "    'intercept': np.float64(432.16338962534513),\n",
       "    'fitted_y': array([12392.70730127, 12396.70246135, 12400.69762142, 12404.6927815 ,\n",
       "           12412.68310166, 12432.65890205, 12436.65406213, 12452.63470245,\n",
       "           12520.55242378, 12536.5330641 , 12552.51370441, 12584.47498504,\n",
       "           12596.46046528, 12616.43626567, 12648.3975463 , 12656.38786645,\n",
       "           12680.35882693, 12700.33462732, 12716.31526763, 12736.29106803,\n",
       "           12780.23782889, 12812.19910952, 12828.17974984, 12848.15555023,\n",
       "           12908.08295141, 12912.07811149, 12920.06843164, 12948.03455219,\n",
       "           12968.01035259, 12983.9909929 , 13015.95227353, 13047.91355416,\n",
       "           13067.88935455, 13075.87967471, 13123.82159565, 13135.80707589,\n",
       "           13151.7877162 , 13187.74415691, 13191.73931699, 13203.72479722,\n",
       "           13231.69091778, 13243.67639801, 13251.66671817, 13271.64251856,\n",
       "           13287.62315888, 13295.61347903, 13307.59895927, 13351.54572013,\n",
       "           13359.53604029, 13367.52636045, 13371.52152053, 13375.51668061,\n",
       "           13379.51184068, 13383.50700076, 13387.50216084, 13391.49732092,\n",
       "           13399.48764108, 13435.44408178, 13451.4247221 , 13455.41988218,\n",
       "           13471.40052249, 13483.38600273, 13491.37632288, 13495.37148296,\n",
       "           13543.31340391, 13567.28436438, 13615.22628532, 13643.19240587,\n",
       "           13647.18756595, 13699.12464697, 13735.08108768, 13755.05688807,\n",
       "           13779.02784854, 13830.96492957, 13850.94072996, 13906.87297106,\n",
       "           13930.84393153, 13962.80521216, 14022.73261334, 14050.69873389,\n",
       "           14066.6793742 , 14130.60193546, 14162.56321609, 14222.49061727,\n",
       "           14258.44705798, 14294.40349869, 14330.35993939, 14346.34057971,\n",
       "           14434.23410144, 14458.20506191, 14494.16150262, 14514.13730301,\n",
       "           14538.10826348, 14542.10342356, 14570.06954411, 14586.05018442,\n",
       "           14590.0453445 , 14598.03566466, 14602.03082474, 14606.02598482,\n",
       "           14633.99210537, 14641.98242553, 14649.97274568, 14657.96306584,\n",
       "           14669.94854608, 14673.94370615, 14677.93886623, 14681.93402631,\n",
       "           14685.92918639, 14693.91950655, 14697.91466663, 14701.9098267 ,\n",
       "           14705.90498678, 14709.90014686, 14713.89530694, 14721.8856271 ,\n",
       "           14757.8420678 , 14785.80818836, 14801.78882867, 14825.75978914,\n",
       "           14865.71138993, 14873.70171008, 14877.69687016, 14897.67267056,\n",
       "           14901.66783063, 14909.65815079, 14941.61943142, 14949.60975158,\n",
       "           14957.60007174, 14985.56619229, 14997.55167252, 15009.53715276,\n",
       "           15025.51779307, 15029.51295315, 15037.50327331, 15065.46939386,\n",
       "           15077.45487409, 15125.39679504, 15141.37743535, 15149.36775551,\n",
       "           15185.32419622, 15205.29999661, 15221.28063692, 15249.24675747,\n",
       "           15277.21287802, 15285.20319818, 15297.18867842, 15337.1402792 ,\n",
       "           15341.13543928, 15345.13059936, 15389.07736023, 15397.06768038,\n",
       "           15405.05800054, 15445.00960133, 15480.96604203, 15492.95152227,\n",
       "           15508.93216258, 15544.88860329, 15564.86440368, 15612.80632463,\n",
       "           15624.79180486, 15628.78696494, 15672.73372581, 15704.69500644,\n",
       "           15772.61272777, 15792.58852817, 15796.58368824, 15812.56432856,\n",
       "           15868.49656966, 15884.47720997, 15912.44333052, 15944.40461115,\n",
       "           15960.38525147, 15964.38041155, 16012.32233249, 16044.28361312,\n",
       "           16052.27393328, 16112.20133445, 16144.16261508, 16168.13357555,\n",
       "           16188.10937595, 16212.08033642, 16232.05613681, 16248.03677713,\n",
       "           16295.97869807, 16307.96417831, 16339.92545894, 16351.91093917,\n",
       "           16355.90609925, 16399.85286011, 16423.82382059, 16475.76090161,\n",
       "           16503.72702216, 16519.70766247, 16539.68346287, 16595.61570397,\n",
       "           16611.59634428, 16631.57214467, 16691.49954585, 16703.48502609,\n",
       "           16711.47534625, 16747.43178695, 16755.42210711, 16763.41242727,\n",
       "           16803.36402805, 16827.33498853, 16847.31078892, 16871.28174939,\n",
       "           16923.21883041, 16935.20431065, 16971.16075136, 16991.13655175,\n",
       "           17011.11235214, 17027.09299246, 17055.05911301, 17075.0349134 ,\n",
       "           17122.97683434, 17142.95263474, 17186.8993956 , 17206.87519599,\n",
       "           17222.85583631, 17246.82679678, 17302.75903788, 17306.75419796,\n",
       "           17314.74451812, 17358.69127898, 17378.66707937, 17398.64287977,\n",
       "           17438.59448055, 17454.57512087, 17466.5606011 , 17486.5364015 ,\n",
       "           17514.50252205, 17534.47832244, 17574.42992323, 17594.40572362,\n",
       "           17598.4008837 , 17606.39120386, 17650.33796472, 17666.31860503,\n",
       "           17682.29924535, 17694.28472558, 17702.27504574, 17730.24116629,\n",
       "           17750.21696669, 17762.20244692, 17782.17824731, 17850.09596865,\n",
       "           17866.07660896, 17902.03304967, 17918.01368999, 17933.9943303 ,\n",
       "           17941.98465046, 17977.94109117, 18001.91205164, 18005.90721172,\n",
       "           18025.88301211, 18033.87333227, 18045.8588125 , 18065.8346129 ,\n",
       "           18125.76201407, 18145.73781447, 18197.67489549, 18225.64101604,\n",
       "           18277.57809706, 18301.54905753, 18313.53453777, 18361.47645871,\n",
       "           18389.44257926, 18405.42321958, 18425.39901997, 18457.3603006 ,\n",
       "           18461.35546068, 18469.34578084, 18473.34094091, 18477.33610099,\n",
       "           18481.33126107, 18485.32642115, 18489.32158123, 18493.31674131,\n",
       "           18497.31190139, 18501.30706146, 18505.30222154, 18509.29738162,\n",
       "           18513.2925417 , 18517.28770178, 18521.28286186, 18525.27802194,\n",
       "           18541.25866225, 18561.23446264, 18589.20058319, 18609.17638359,\n",
       "           18625.1570239 , 18629.15218398, 18693.07474524, 18713.05054563,\n",
       "           18768.98278673, 18780.96826697, 18812.9295476 , 18828.91018791,\n",
       "           18836.90050807, 18844.89082822, 18852.88114838, 18856.87630846,\n",
       "           18864.86662862, 18872.85694878, 18876.85210885, 18880.84726893,\n",
       "           18884.84242901, 18888.83758909, 18892.83274917, 18896.82790925,\n",
       "           18900.82306933, 18980.7262709 , 19020.67787168, 19044.64883216,\n",
       "           19160.50847444, 19176.48911475, 19272.37295664, 19312.32455742,\n",
       "           19340.29067797, 19408.20839931, 19440.16967994, 19444.16484002,\n",
       "           19488.11160088, 19587.99060285, 19615.9567234 , 19639.92768387,\n",
       "           19687.86960481, 19715.83572536, 19719.83088544, 19783.7534467 ,\n",
       "           19795.73892693, 19799.73408701, 19859.66148819, 19887.62760874,\n",
       "           19907.60340914, 19923.58404945, 19991.50177079, 20003.48725102,\n",
       "           20023.46305142, 20063.4146522 , 20091.38077275, 20107.36141307,\n",
       "           20159.29849409, 20175.2791344 , 20179.27429448, 20231.2113755 ,\n",
       "           20259.17749605, 20279.15329645, 20323.10005731, 20343.0758577 ,\n",
       "           20367.04681818, 20383.02745849, 20434.96453951, 20450.94517983,\n",
       "           20486.90162053, 20506.87742093, 20510.87258101, 20558.81450195,\n",
       "           20582.78546242, 20598.76610274, 20638.71770352, 20654.69834384,\n",
       "           20670.67898415, 20682.66446439, 20742.59186557, 20750.58218572,\n",
       "           20758.57250588, 20798.52410667, 20814.50474698, 20822.49506714,\n",
       "           20858.45150785, 20878.42730824, 20886.4176284 , 20930.36438926,\n",
       "           20950.34018965, 20958.33050981, 20974.31115013, 21018.25791099,\n",
       "           21034.2385513 , 21046.22403154, 21082.18047225, 21110.1465928 ,\n",
       "           21134.11755327, 21182.05947421, 21210.02559476, 21218.01591492,\n",
       "           21261.96267579, 21289.92879634, 21313.89975681, 21333.8755572 ,\n",
       "           21393.80295838, 21401.79327854, 21417.77391885, 21437.74971924,\n",
       "           21441.74487932, 21453.73035956, 21493.68196034, 21521.64808089,\n",
       "           21581.57548207, 21613.5367627 , 21641.50288325, 21693.43996428,\n",
       "           21729.39640498, 21757.36252553, 21777.33832593, 21853.24636742,\n",
       "           21873.22216781, 21901.18828836, 21957.12052946, 21977.09632986,\n",
       "           21981.09148994, 22037.02373104, 22060.99469151, 22084.96565198])}},\n",
       "  {'segment': 5,\n",
       "   'data_x': array([20.491, 20.501, 20.507, 20.508, 20.529, 20.533, 20.534, 20.546,\n",
       "          20.554, 20.569, 20.575, 20.58 , 20.585, 20.603, 20.608, 20.619,\n",
       "          20.625, 20.631, 20.636, 20.648, 20.653, 20.656, 20.666, 20.671,\n",
       "          20.672, 20.679, 20.693, 20.698, 20.704, 20.72 , 20.729, 20.731,\n",
       "          20.754, 20.761, 20.763, 20.776, 20.783, 20.787, 20.799, 20.802,\n",
       "          20.804, 20.809, 20.825, 20.83 , 20.834, 20.85 , 20.851, 20.853,\n",
       "          20.869, 20.874, 20.875, 20.89 , 20.899, 20.907, 20.919, 20.927,\n",
       "          20.933, 20.938, 20.959, 20.97 , 20.973, 20.995, 21.006, 21.01 ,\n",
       "          21.029, 21.038, 21.04 , 21.05 , 21.074, 21.081, 21.102, 21.109,\n",
       "          21.111, 21.125, 21.132, 21.134, 21.149, 21.159, 21.16 , 21.169,\n",
       "          21.193, 21.2  , 21.206, 21.219, 21.225, 21.226, 21.238, 21.239,\n",
       "          21.243, 21.244, 21.245, 21.246, 21.248, 21.249, 21.25 , 21.251,\n",
       "          21.252, 21.253, 21.256, 21.258, 21.259, 21.263, 21.266, 21.269,\n",
       "          21.274, 21.29 , 21.298, 21.307, 21.329, 21.336, 21.343, 21.36 ,\n",
       "          21.368, 21.371, 21.388, 21.399, 21.405, 21.412, 21.429, 21.432,\n",
       "          21.437, 21.452, 21.457, 21.458, 21.476, 21.486, 21.497, 21.502,\n",
       "          21.506, 21.517, 21.525, 21.53 , 21.536, 21.553, 21.558, 21.563,\n",
       "          21.574, 21.579, 21.58 , 21.594, 21.602, 21.606, 21.62 , 21.626,\n",
       "          21.63 , 21.633, 21.651, 21.654, 21.658, 21.67 , 21.676, 21.693,\n",
       "          21.701, 21.702, 21.72 , 21.728, 21.734, 21.741, 21.759, 21.76 ,\n",
       "          21.763, 21.773, 21.778, 21.783]),\n",
       "   'data_y': array([22074.83252174, 22083.70425121, 22092.67385507, 22101.74670531,\n",
       "          22111.10689855, 22120.51122705, 22129.57748792, 22138.5421256 ,\n",
       "          22148.10007729, 22156.3108599 , 22164.83729469, 22172.91062802,\n",
       "          22181.44181643, 22189.47350725, 22196.89263768, 22203.94788406,\n",
       "          22210.63385507, 22216.94950725, 22223.60608696, 22228.85880193,\n",
       "          22234.33095652, 22239.85501449, 22245.32892754, 22250.53410628,\n",
       "          22255.85267633, 22261.15114976, 22266.44786473, 22271.46013527,\n",
       "          22277.2222029 , 22282.52857971, 22287.77634783, 22292.93901449,\n",
       "          22298.06175845, 22303.16885024, 22307.96968116, 22313.65018357,\n",
       "          22319.3447343 , 22324.48094686, 22330.01271498, 22335.62305314,\n",
       "          22341.32711111, 22347.0995942 , 22352.98144928, 22358.94239614,\n",
       "          22364.96792271, 22371.01748792, 22377.02641546, 22382.88583575,\n",
       "          22388.81572947, 22394.49623188, 22400.07373913, 22405.55087923,\n",
       "          22411.42446377, 22416.57368116, 22421.96336232, 22427.24537198,\n",
       "          22432.479343  , 22437.54997101, 22442.60428986, 22448.43760386,\n",
       "          22453.76028986, 22459.75775845, 22466.28803865, 22472.88714976,\n",
       "          22479.68628019, 22486.61727536, 22493.69404831, 22500.84531401,\n",
       "          22508.06419324, 22515.33804831, 22522.82975845, 22530.09002899,\n",
       "          22536.97644444, 22544.49942029, 22551.49371981, 22558.1475942 ,\n",
       "          22565.32401932, 22571.72568116, 22578.17495652, 22584.65098551,\n",
       "          22589.17442512, 22596.53100483, 22601.706657  , 22607.1910628 ,\n",
       "          22613.54014493, 22620.88312077, 22628.13919807, 22633.75343961,\n",
       "          22639.61571981, 22645.66122705, 22651.61337198, 22657.52810628,\n",
       "          22663.20183575, 22668.66516908, 22673.87385507, 22678.61314976,\n",
       "          22682.94595169, 22687.27388406, 22690.40641546, 22693.37593237,\n",
       "          22696.23634783, 22698.05823188, 22700.16245411, 22702.00004831,\n",
       "          22703.16999034, 22706.61366184, 22707.0831401 , 22709.59611594,\n",
       "          22712.75811594, 22715.74208696, 22717.56532367, 22719.64780676,\n",
       "          22722.81999034, 22726.11913043, 22729.43917874, 22733.05462802,\n",
       "          22736.78479227, 22740.77029952, 22744.92827053, 22749.25242512,\n",
       "          22753.81596135, 22758.4069372 , 22763.03961353, 22767.77215459,\n",
       "          22772.63213527, 22777.23731401, 22783.09130435, 22788.49582609,\n",
       "          22794.35675362, 22800.37397101, 22806.44531401, 22812.72910145,\n",
       "          22819.23194203, 22825.91350725, 22832.73586473, 22840.09000966,\n",
       "          22847.3614686 , 22854.96231884, 22862.3366087 , 22869.7134686 ,\n",
       "          22877.68775845, 22886.36602899, 22895.78524638, 22906.3771401 ,\n",
       "          22917.5713913 , 22929.14713043, 22941.29019324, 22953.18284058,\n",
       "          22967.82528502, 22981.79945894, 22997.02051208, 23011.78846377,\n",
       "          23028.09672464, 23043.50206763, 23061.48978744, 23078.29219324,\n",
       "          23095.26569082, 23112.30162319, 23129.34918841, 23146.19573913,\n",
       "          23162.96109179, 23179.49063768, 23196.04402899, 23213.22078261]),\n",
       "   'fitted_model': {'slope': np.float64(52.93585628450877),\n",
       "    'intercept': np.float64(432.16338962534513),\n",
       "    'fitted_y': array([22097.03761677, 22104.44200588, 22108.88463935, 22109.62507826,\n",
       "           22125.17429539, 22128.13605103, 22128.87648995, 22137.76175688,\n",
       "           22143.68526817, 22154.79185183, 22159.2344853 , 22162.93667986,\n",
       "           22166.63887441, 22179.96677481, 22183.66896937, 22191.81379739,\n",
       "           22196.25643085, 22200.69906432, 22204.40125888, 22213.28652581,\n",
       "           22216.98872036, 22219.2100371 , 22226.61442621, 22230.31662076,\n",
       "           22231.05705968, 22236.24013205, 22246.60627681, 22250.30847136,\n",
       "           22254.75110483, 22266.59812741, 22273.26207761, 22274.74295543,\n",
       "           22291.77305038, 22296.95612276, 22298.43700058, 22308.06270643,\n",
       "           22313.24577881, 22316.20753445, 22325.09280138, 22327.31411812,\n",
       "           22328.79499594, 22332.49719049, 22344.34421307, 22348.04640763,\n",
       "           22351.00816327, 22362.85518585, 22363.59562476, 22365.07650258,\n",
       "           22376.92352516, 22380.62571971, 22381.36615863, 22392.47274229,\n",
       "           22399.13669249, 22405.06020378, 22413.94547071, 22419.868982  ,\n",
       "           22424.31161547, 22428.01381002, 22443.56302716, 22451.70785518,\n",
       "           22453.92917191, 22470.21882796, 22478.36365598, 22481.32541162,\n",
       "           22495.39375093, 22502.05770113, 22503.53857895, 22510.94296806,\n",
       "           22528.71350193, 22533.89657431, 22549.44579144, 22554.62886382,\n",
       "           22556.10974164, 22566.4758864 , 22571.65895877, 22573.1398366 ,\n",
       "           22584.24642026, 22591.65080937, 22592.39124828, 22599.05519848,\n",
       "           22616.82573235, 22622.00880473, 22626.45143819, 22636.07714404,\n",
       "           22640.5197775 , 22641.26021642, 22650.14548335, 22650.88592226,\n",
       "           22653.8476779 , 22654.58811681, 22655.32855573, 22656.06899464,\n",
       "           22657.54987246, 22658.29031137, 22659.03075028, 22659.77118919,\n",
       "           22660.5116281 , 22661.25206701, 22663.47338375, 22664.95426157,\n",
       "           22665.69470048, 22668.65645613, 22670.87777286, 22673.09908959,\n",
       "           22676.80128415, 22688.64830672, 22694.57181801, 22701.23576821,\n",
       "           22717.52542426, 22722.70849663, 22727.89156901, 22740.4790305 ,\n",
       "           22746.40254179, 22748.62385852, 22761.21132001, 22769.35614803,\n",
       "           22773.7987815 , 22778.98185388, 22791.56931537, 22793.7906321 ,\n",
       "           22797.49282665, 22808.59941032, 22812.30160488, 22813.04204379,\n",
       "           22826.36994419, 22833.7743333 , 22841.91916132, 22845.62135587,\n",
       "           22848.58311152, 22856.72793954, 22862.65145083, 22866.35364538,\n",
       "           22870.79627885, 22883.38374034, 22887.08593489, 22890.78812945,\n",
       "           22898.93295747, 22902.63515203, 22903.37559094, 22913.74173569,\n",
       "           22919.66524698, 22922.62700263, 22932.99314738, 22937.43578085,\n",
       "           22940.39753649, 22942.61885323, 22955.94675363, 22958.16807036,\n",
       "           22961.129826  , 22970.01509294, 22974.4577264 , 22987.04518789,\n",
       "           22992.96869918, 22993.70913809, 23007.03703849, 23012.96054978,\n",
       "           23017.40318325, 23022.58625562, 23035.91415602, 23036.65459493,\n",
       "           23038.87591167, 23046.28030078, 23049.98249533, 23053.68468989])}},\n",
       "  {'segment': 6,\n",
       "   'data_x': array([21.797, 21.799, 21.801, 21.808, 21.811, 21.815, 21.821, 21.84 ,\n",
       "          21.843, 21.863, 21.871, 21.877, 21.89 , 21.894, 21.896, 21.908,\n",
       "          21.914, 21.919, 21.93 , 21.937, 21.941, 21.948, 21.965, 21.969,\n",
       "          21.973, 21.984, 21.987, 21.989, 22.002, 22.007, 22.013, 22.026,\n",
       "          22.033, 22.04 , 22.062, 22.069, 22.077, 22.092, 22.1  , 22.101,\n",
       "          22.119, 22.127, 22.131, 22.142, 22.145, 22.146, 22.147, 22.148,\n",
       "          22.149, 22.15 , 22.151, 22.152, 22.154, 22.155, 22.156, 22.157,\n",
       "          22.16 , 22.172, 22.18 , 22.185, 22.197, 22.202, 22.205, 22.215,\n",
       "          22.221, 22.225, 22.236, 22.242, 22.248, 22.251, 22.266, 22.271,\n",
       "          22.285, 22.29 , 22.292, 22.304, 22.312, 22.314, 22.325]),\n",
       "   'data_y': array([23231.30695652, 23248.85745894, 23269.45574879, 23289.50182609,\n",
       "          23309.18222222, 23328.94317874, 23348.81741063, 23368.81541063,\n",
       "          23390.21996135, 23409.66230918, 23430.17236715, 23450.98611594,\n",
       "          23472.73735266, 23493.90169082, 23515.21764251, 23537.02685024,\n",
       "          23557.8555942 , 23578.53807729, 23599.15698551, 23619.7728599 ,\n",
       "          23641.50602899, 23662.68824155, 23683.55876328, 23705.28234783,\n",
       "          23727.93514976, 23751.49456039, 23777.61644444, 23803.06317874,\n",
       "          23829.50740097, 23856.52190338, 23884.20456039, 23912.60849275,\n",
       "          23929.35252174, 23962.01942995, 24001.10235749, 24035.28779066,\n",
       "          24065.35501449, 24100.94625121, 24145.45622544, 24188.25753623,\n",
       "          24221.34454106, 24270.16793559, 24298.84944928, 24332.77433816,\n",
       "          24366.08250564, 24396.17594203, 24426.59435749, 24458.22087279,\n",
       "          24489.24098551, 24518.34839614, 24549.78637037, 24578.71316908,\n",
       "          24605.67594203, 24631.41119163, 24655.8417971 , 24679.39299517,\n",
       "          24701.07046699, 24739.34207729, 24768.12160386, 24789.32355878,\n",
       "          24814.34695652, 24847.36296618, 24881.35976812, 24905.4944058 ,\n",
       "          24929.79140097, 24960.62006763, 24972.24778744, 24999.66701449,\n",
       "          25022.53333333, 25044.64629952, 25068.05712077, 25092.09804831,\n",
       "          25115.07084058, 25137.70728502, 25161.33008696, 25181.37561353,\n",
       "          25202.81055072, 25224.27342995, 25245.72318841]),\n",
       "   'fitted_model': {'slope': np.float64(52.93585628450877),\n",
       "    'intercept': np.float64(432.16338962534513),\n",
       "    'fitted_y': array([23099.247871  , 23107.36395416, 23115.48003731, 23143.88632835,\n",
       "           23156.06045308, 23172.29261939, 23196.64086886, 23273.74365882,\n",
       "           23285.91778355, 23367.0786151 , 23399.54294772, 23423.89119718,\n",
       "           23476.64573768, 23492.87790399, 23500.99398715, 23549.69048607,\n",
       "           23574.03873554, 23594.32894342, 23638.96740077, 23667.37369181,\n",
       "           23683.60585812, 23712.01214916, 23780.99885598, 23797.23102228,\n",
       "           23813.46318859, 23858.10164594, 23870.27577067, 23878.39185383,\n",
       "           23931.14639433, 23951.43660222, 23975.78485168, 24028.53939219,\n",
       "           24056.94568323, 24085.35197427, 24174.62888897, 24203.03518001,\n",
       "           24235.49951262, 24296.37013628, 24328.8344689 , 24332.89251048,\n",
       "           24405.93725887, 24438.40159148, 24454.63375779, 24499.27221514,\n",
       "           24511.44633987, 24515.50438145, 24519.56242303, 24523.62046461,\n",
       "           24527.67850618, 24531.73654776, 24535.79458934, 24539.85263092,\n",
       "           24547.96871407, 24552.02675565, 24556.08479722, 24560.1428388 ,\n",
       "           24572.31696353, 24621.01346246, 24653.47779508, 24673.76800296,\n",
       "           24722.46450189, 24742.75470978, 24754.92883451, 24795.50925028,\n",
       "           24819.85749974, 24836.08966605, 24880.7281234 , 24905.07637286,\n",
       "           24929.42462233, 24941.59874706, 25002.46937072, 25022.7595786 ,\n",
       "           25079.57216069, 25099.86236857, 25107.97845173, 25156.67495065,\n",
       "           25189.13928327, 25197.25536642, 25241.89382377])}},\n",
       "  {'segment': 7,\n",
       "   'data_x': array([22.345, 22.353, 22.359, 22.374, 22.38 , 22.381, 22.401, 22.408,\n",
       "          22.42 , 22.427, 22.43 , 22.438, 22.442, 22.443, 22.444, 22.459,\n",
       "          22.462, 22.463, 22.471, 22.476, 22.491, 22.492, 22.496, 22.502,\n",
       "          22.509, 22.512, 22.524, 22.534, 22.542, 22.557, 22.567, 22.568,\n",
       "          22.581, 22.583, 22.586, 22.597, 22.602, 22.605, 22.612, 22.623,\n",
       "          22.628, 22.636, 22.658, 22.663, 22.665, 22.675, 22.678, 22.681,\n",
       "          22.69 , 22.695, 22.696, 22.703, 22.709, 22.71 , 22.721, 22.728,\n",
       "          22.737, 22.757, 22.765, 22.768, 22.784, 22.792, 22.797, 22.804,\n",
       "          22.825, 22.832, 22.856, 22.862, 22.863, 22.874, 22.878, 22.88 ,\n",
       "          22.895, 22.903, 22.904, 22.914, 22.938, 22.942, 22.946, 22.953,\n",
       "          22.959, 22.96 , 22.961, 22.964, 22.965, 22.966, 22.968, 22.969,\n",
       "          22.97 , 22.971, 22.972, 22.974, 22.976, 22.977, 22.978, 22.979,\n",
       "          22.98 , 22.981, 22.982, 22.983, 22.984, 22.985, 22.986, 22.987,\n",
       "          23.003, 23.014, 23.024, 23.031, 23.041, 23.043, 23.046, 23.053,\n",
       "          23.054, 23.056, 23.065, 23.072, 23.075, 23.079, 23.093, 23.096,\n",
       "          23.099, 23.105, 23.106, 23.109, 23.12 , 23.122, 23.125, 23.134,\n",
       "          23.141, 23.147, 23.151, 23.167, 23.168, 23.171, 23.18 , 23.182,\n",
       "          23.185, 23.189, 23.197, 23.198, 23.206, 23.209, 23.224, 23.231,\n",
       "          23.237, 23.251, 23.255, 23.261, 23.275, 23.28 , 23.281, 23.297,\n",
       "          23.305, 23.313, 23.327, 23.332, 23.337, 23.348, 23.353, 23.358,\n",
       "          23.373, 23.381, 23.387, 23.402, 23.408, 23.423, 23.429, 23.435,\n",
       "          23.441, 23.461, 23.462, 23.464, 23.479, 23.484, 23.487, 23.498,\n",
       "          23.507, 23.51 , 23.525, 23.533, 23.536, 23.549, 23.555, 23.561,\n",
       "          23.568, 23.583, 23.59 , 23.599, 23.619, 23.623, 23.627, 23.636,\n",
       "          23.645, 23.651, 23.653, 23.665, 23.671, 23.674, 23.677, 23.693,\n",
       "          23.7  , 23.716, 23.725, 23.731, 23.738, 23.751, 23.758, 23.765,\n",
       "          23.784, 23.793, 23.796, 23.82 , 23.83 , 23.838, 23.853, 23.86 ,\n",
       "          23.866, 23.874, 23.895, 23.9  , 23.908, 23.924, 23.928, 23.934,\n",
       "          23.949, 23.955, 23.956, 23.974, 23.982, 23.99 , 24.006, 24.015,\n",
       "          24.024, 24.041, 24.049, 24.055, 24.072, 24.08 , 24.082, 24.102,\n",
       "          24.119, 24.127, 24.142, 24.157, 24.161, 24.167, 24.185, 24.189,\n",
       "          24.211, 24.22 , 24.221, 24.239, 24.248, 24.25 , 24.266, 24.279,\n",
       "          24.282, 24.285, 24.299, 24.302, 24.304, 24.318, 24.319, 24.32 ,\n",
       "          24.331, 24.338, 24.353, 24.368, 24.369, 24.376, 24.397, 24.403,\n",
       "          24.409, 24.424, 24.431, 24.432, 24.452, 24.46 , 24.461, 24.481,\n",
       "          24.495, 24.502]),\n",
       "   'data_y': array([25267.12971981, 25286.96191304, 25309.36823188, 25329.45321739,\n",
       "          25349.21037681, 25369.66608696, 25391.16160386, 25413.29905314,\n",
       "          25434.38502415, 25455.23151691, 25480.68502415, 25504.67352657,\n",
       "          25529.67795169, 25555.66042512, 25582.8253913 , 25610.87828986,\n",
       "          25639.76678261, 25668.9391401 , 25697.39194203, 25728.78878261,\n",
       "          25759.98115942, 25791.41604831, 25825.36044444, 25857.96435749,\n",
       "          25890.20687923, 25922.01691787, 25954.22036715, 25982.27001932,\n",
       "          26010.63569082, 26038.12804831, 26065.63943961, 26090.16704348,\n",
       "          26119.43084058, 26145.85374879, 26173.15582609, 26200.96800966,\n",
       "          26228.46929469, 26254.7016715 , 26285.73203865, 26315.30717874,\n",
       "          26268.59700483, 26258.21165217, 26285.54409662, 26340.8306087 ,\n",
       "          26402.04610628, 26482.05325604, 26586.40755556, 26705.48699517,\n",
       "          26849.97683092, 27011.33536232, 27191.16158454, 27390.81986473,\n",
       "          27609.51996135, 27838.24086957, 28074.40291787, 28311.05261836,\n",
       "          28553.67099517, 28783.19547826, 29001.6586087 , 29209.17194203,\n",
       "          29387.58011594, 29539.60776812, 29661.6316715 , 29740.20034783,\n",
       "          29775.37165217, 29876.01538164, 29961.9893913 , 30021.85192271,\n",
       "          30062.62393237, 30101.31277295, 30134.06913043, 30162.2424058 ,\n",
       "          30191.00371981, 30213.96816425, 30179.2993913 , 30232.96300483,\n",
       "          30223.9605314 , 30269.60057778, 30346.29344734, 30388.95445217,\n",
       "          30416.97590531, 30461.85438357, 30550.79701643, 30627.24292222,\n",
       "          30698.50462029, 30757.17465813, 30823.00367987, 30869.91406017,\n",
       "          30925.46433816, 30978.34203462, 31021.37650993, 31050.05244042,\n",
       "          31029.07131401, 31014.38737225, 31006.35078905, 31005.30064654,\n",
       "          31004.55798819, 31002.7372971 , 31002.40526892, 31085.37179737,\n",
       "          31104.76996457, 31210.37604106, 31285.9454394 , 31330.00111224,\n",
       "          31406.28826924, 31520.56909012, 31639.72822995, 31720.53081047,\n",
       "          31805.61661911, 31881.07314138, 31959.57809469, 32021.49867225,\n",
       "          32085.76449082, 32124.32614493, 32144.66713043, 32142.53153623,\n",
       "          32125.10827053, 32148.33269565, 32171.30479227, 32149.04569082,\n",
       "          32193.25818357, 32236.25492754, 32188.18083092, 32271.89701449,\n",
       "          32259.94229952, 32298.01879227, 32350.46664734, 32439.62192271,\n",
       "          32536.78338164, 32662.99218357, 32804.82459903, 32975.15272464,\n",
       "          33161.81461836, 33357.01552657, 33562.49631884, 33774.28652174,\n",
       "          33981.18441546, 34184.54228986, 34382.02518841, 34563.20584541,\n",
       "          34728.91697585, 34871.96228986, 34988.86710145, 35075.7405314 ,\n",
       "          35195.83081159, 35233.51721739, 35230.302     , 35320.02077295,\n",
       "          35268.78505314, 35305.70141063, 35321.22236715, 35342.12742029,\n",
       "          35348.80480193, 35370.29553623, 35389.922657  , 35419.51084058,\n",
       "          35443.24004831, 35466.04200966, 35490.46231884, 35517.76564251,\n",
       "          35541.94649275, 35567.78740097, 35595.54542995, 35623.6378744 ,\n",
       "          35651.56287923, 35679.4298744 , 35707.27312077, 35735.15731401,\n",
       "          35762.74332367, 35790.40600966, 35818.84056039, 35847.00927536,\n",
       "          35874.78372947, 35902.99594203, 35932.88338164, 35962.87744928,\n",
       "          35992.84904348, 36023.34608696, 36054.50007729, 36085.81762319,\n",
       "          36116.57281159, 36102.11258937, 36059.88886957, 36154.83682126,\n",
       "          36145.91953623, 36175.04101449, 36238.95888889, 36325.45401932,\n",
       "          36442.77890821, 36579.93411594, 36737.73981643, 36913.63017391,\n",
       "          37101.7802029 , 37303.24522705, 37511.62870531, 37720.52516908,\n",
       "          37925.19148792, 38122.78225121, 38312.40773913, 38489.22737198,\n",
       "          38651.28628986, 38796.58781643, 38919.15950725, 39015.27262802,\n",
       "          39079.26373913, 39107.65423188, 39162.92312077, 39269.53843478,\n",
       "          39238.24176812, 39296.68821256, 39360.14561353, 39417.81308213,\n",
       "          39477.69095652, 39531.88558454, 39587.36888889, 39641.25385507,\n",
       "          39692.03603865, 39742.99590338, 39787.30662802, 39825.80790338,\n",
       "          39859.52141063, 39891.18510145, 39922.23971014, 39952.34937198,\n",
       "          39982.80486957, 40015.40544928, 40047.04270531, 40079.22952657,\n",
       "          40111.40436715, 40143.6964058 , 40176.09547826, 40208.42318841,\n",
       "          40240.96697585, 40274.4530628 , 40311.65961353, 40341.5562029 ,\n",
       "          40369.69491787, 40398.95981643, 40427.71814493, 40455.88727536,\n",
       "          40484.25563285, 40511.75467633, 40537.35663768, 40562.21825121,\n",
       "          40584.91491787, 40606.85883092, 40629.12063768, 40652.4006087 ,\n",
       "          40678.62428986, 40708.2743285 , 40738.39545894, 40777.63303382,\n",
       "          40814.62349758, 40852.55213527, 40892.02670531, 40934.89114976,\n",
       "          40980.96483092, 41031.41331401, 41083.0447343 , 41136.07207729,\n",
       "          41191.26983575, 41248.82938164, 41307.90050242, 41368.17181643,\n",
       "          41429.33596135, 41491.38337198, 41552.60541063, 41612.53973913,\n",
       "          41669.23854106, 41725.29471498, 41782.45902415, 41840.58203865,\n",
       "          41900.87629952, 41961.20230918, 42020.04609662, 42080.08791304,\n",
       "          42130.37021256, 42191.09170048, 42249.39100483, 42309.02883092,\n",
       "          42375.9998744 , 42439.42216425]),\n",
       "   'fitted_model': {'slope': np.float64(52.93585628450877),\n",
       "    'intercept': np.float64(432.16338962534513),\n",
       "    'fitted_y': array([25355.4310484 , 25425.49127285, 25478.0364412 , 25609.39936206,\n",
       "           25661.9445304 , 25670.70205846, 25845.8526196 , 25907.155316  ,\n",
       "           26012.24565269, 26073.54834909, 26099.82093326, 26169.88115772,\n",
       "           26204.91126995, 26213.66879801, 26222.42632607, 26353.78924693,\n",
       "           26380.0618311 , 26388.81935915, 26458.87958361, 26502.6672239 ,\n",
       "           26634.03014476, 26642.78767282, 26677.81778504, 26730.36295339,\n",
       "           26791.66564979, 26817.93823396, 26923.02857065, 27010.60385122,\n",
       "           27080.66407568, 27212.02699654, 27299.60227711, 27308.35980517,\n",
       "           27422.20766991, 27439.72272603, 27465.9953102 , 27562.32811883,\n",
       "           27606.11575912, 27632.38834329, 27693.69103969, 27790.02384832,\n",
       "           27833.8114886 , 27903.87171306, 28096.53733032, 28140.32497061,\n",
       "           28157.84002672, 28245.4153073 , 28271.68789147, 28297.96047564,\n",
       "           28376.77822816, 28420.56586844, 28429.3233965 , 28490.6260929 ,\n",
       "           28543.17126124, 28551.9287893 , 28648.26159793, 28709.56429433,\n",
       "           28788.38204685, 28963.53260799, 29033.59283245, 29059.86541662,\n",
       "           29199.98586554, 29270.04609   , 29313.83373028, 29375.13642668,\n",
       "           29559.04451589, 29620.34721229, 29830.52788566, 29883.07305401,\n",
       "           29891.83058206, 29988.16339069, 30023.19350292, 30040.70855904,\n",
       "           30172.0714799 , 30242.13170435, 30250.88923241, 30338.46451298,\n",
       "           30548.64518636, 30583.67529859, 30618.70541082, 30680.00810722,\n",
       "           30732.55327556, 30741.31080362, 30750.06833168, 30776.34091585,\n",
       "           30785.09844391, 30793.85597196, 30811.37102808, 30820.12855613,\n",
       "           30828.88608419, 30837.64361225, 30846.40114031, 30863.91619642,\n",
       "           30881.43125254, 30890.18878059, 30898.94630865, 30907.70383671,\n",
       "           30916.46136476, 30925.21889282, 30933.97642088, 30942.73394894,\n",
       "           30951.49147699, 30960.24900505, 30969.00653311, 30977.76406117,\n",
       "           31117.88451008, 31214.21731871, 31301.79259928, 31363.09529569,\n",
       "           31450.67057626, 31468.18563237, 31494.45821654, 31555.76091295,\n",
       "           31564.518441  , 31582.03349712, 31660.85124963, 31722.15394603,\n",
       "           31748.42653021, 31783.45664243, 31906.06203524, 31932.33461941,\n",
       "           31958.60720358, 32011.15237192, 32019.90989998, 32046.18248415,\n",
       "           32142.51529278, 32160.0303489 , 32186.30293307, 32265.12068558,\n",
       "           32326.42338199, 32378.96855033, 32413.99866256, 32554.11911147,\n",
       "           32562.87663953, 32589.1492237 , 32667.96697622, 32685.48203233,\n",
       "           32711.75461651, 32746.78472873, 32816.84495319, 32825.60248125,\n",
       "           32895.66270571, 32921.93528988, 33053.29821074, 33114.60090714,\n",
       "           33167.14607548, 33289.75146829, 33324.78158051, 33377.32674886,\n",
       "           33499.93214166, 33543.71978195, 33552.47731   , 33692.59775892,\n",
       "           33762.65798338, 33832.71820784, 33955.32360064, 33999.11124092,\n",
       "           34042.89888121, 34139.23168984, 34183.01933013, 34226.80697041,\n",
       "           34358.16989127, 34428.23011573, 34480.77528407, 34612.13820493,\n",
       "           34664.68337328, 34796.04629414, 34848.59146248, 34901.13663082,\n",
       "           34953.68179917, 35128.83236031, 35137.58988837, 35155.10494448,\n",
       "           35286.46786534, 35330.25550563, 35356.5280898 , 35452.86089843,\n",
       "           35531.67865095, 35557.95123512, 35689.31415598, 35759.37438044,\n",
       "           35785.64696461, 35899.49482935, 35952.0399977 , 36004.58516604,\n",
       "           36065.88786244, 36197.2507833 , 36258.5534797 , 36337.37123222,\n",
       "           36512.52179336, 36547.55190559, 36582.58201782, 36661.39977034,\n",
       "           36740.21752285, 36792.76269119, 36810.27774731, 36915.368084  ,\n",
       "           36967.91325234, 36994.18583651, 37020.45842068, 37160.5788696 ,\n",
       "           37221.881566  , 37362.00201492, 37440.81976743, 37493.36493578,\n",
       "           37554.66763218, 37668.51549692, 37729.81819332, 37791.12088972,\n",
       "           37957.51392281, 38036.33167533, 38062.6042595 , 38272.78493287,\n",
       "           38360.36021345, 38430.4204379 , 38561.78335876, 38623.08605516,\n",
       "           38675.63122351, 38745.69144797, 38929.59953717, 38973.38717746,\n",
       "           39043.44740191, 39183.56785083, 39218.59796306, 39271.1431314 ,\n",
       "           39402.50605226, 39455.05122061, 39463.80874866, 39621.44425369,\n",
       "           39691.50447815, 39761.56470261, 39901.68515153, 39980.50290404,\n",
       "           40059.32065656, 40208.19863353, 40278.25885799, 40330.80402633,\n",
       "           40479.68200331, 40549.74222777, 40567.25728388, 40742.40784503,\n",
       "           40891.285822  , 40961.34604646, 41092.70896732, 41224.07188818,\n",
       "           41259.1020004 , 41311.64716875, 41469.28267378, 41504.31278601,\n",
       "           41696.97840327, 41775.79615578, 41784.55368384, 41942.18918887,\n",
       "           42021.00694139, 42038.5219975 , 42178.64244642, 42292.49031116,\n",
       "           42318.76289533, 42345.03547951, 42467.64087231, 42493.91345648,\n",
       "           42511.42851259, 42634.0339054 , 42642.79143345, 42651.54896151,\n",
       "           42747.88177014, 42809.18446654, 42940.5473874 , 43071.91030826,\n",
       "           43080.66783632, 43141.97053272, 43325.87862192, 43378.42379026,\n",
       "           43430.96895861, 43562.33187947, 43623.63457587, 43632.39210393,\n",
       "           43807.54266507, 43877.60288953, 43886.36041759, 44061.51097873,\n",
       "           44184.11637153, 44245.41906793])}},\n",
       "  {'segment': 8,\n",
       "   'data_x': array([24.522, 24.527, 24.532, 24.547, 24.551, 24.567, 24.568, 24.572,\n",
       "          24.579, 24.584, 24.585, 24.598, 24.611, 24.616, 24.622, 24.643,\n",
       "          24.649, 24.654, 24.674, 24.678, 24.679, 24.694, 24.701, 24.718,\n",
       "          24.733, 24.74 , 24.756, 24.76 , 24.766, 24.779, 24.786, 24.794,\n",
       "          24.81 , 24.818, 24.839, 24.851, 24.86 , 24.876, 24.886, 24.891,\n",
       "          24.898, 24.919, 24.924, 24.926, 24.941, 24.947, 24.953, 24.966,\n",
       "          24.97 , 24.975, 24.982, 24.999, 25.004, 25.015, 25.023, 25.03 ,\n",
       "          25.052, 25.062, 25.064, 25.079, 25.086, 25.088, 25.103, 25.112,\n",
       "          25.123, 25.142, 25.152, 25.153, 25.171, 25.179, 25.183, 25.193,\n",
       "          25.198, 25.201, 25.214, 25.221, 25.226, 25.234, 25.254, 25.258,\n",
       "          25.264, 25.28 , 25.29 , 25.293, 25.317, 25.327, 25.33 , 25.353,\n",
       "          25.363, 25.371, 25.388, 25.396, 25.402, 25.417, 25.424, 25.441,\n",
       "          25.45 , 25.451, 25.473, 25.481, 25.487, 25.493, 25.506, 25.52 ,\n",
       "          25.521, 25.54 , 25.545, 25.546, 25.559, 25.566, 25.567, 25.584,\n",
       "          25.597, 25.599, 25.613, 25.626, 25.632, 25.647, 25.649, 25.657,\n",
       "          25.661, 25.665, 25.667, 25.679, 25.69 , 25.691, 25.697, 25.702,\n",
       "          25.707, 25.708, 25.719, 25.72 , 25.721, 25.729, 25.731, 25.734,\n",
       "          25.748, 25.751, 25.757, 25.762, 25.775, 25.777, 25.78 , 25.783,\n",
       "          25.784, 25.786, 25.788, 25.789, 25.79 , 25.791, 25.795, 25.796,\n",
       "          25.797, 25.798, 25.805, 25.813, 25.819, 25.821, 25.834, 25.836,\n",
       "          25.838, 25.851, 25.854, 25.855, 25.87 , 25.878, 25.898, 25.913,\n",
       "          25.92 , 25.927, 25.946, 25.947, 25.953, 25.97 , 25.979, 25.993,\n",
       "          26.   , 26.018, 26.038, 26.05 , 26.073, 26.078, 26.084, 26.096,\n",
       "          26.097, 26.099, 26.115, 26.124, 26.127, 26.148, 26.159, 26.167,\n",
       "          26.185, 26.2  , 26.206, 26.217, 26.23 , 26.232, 26.234, 26.247,\n",
       "          26.251, 26.253, 26.267, 26.27 , 26.273, 26.286, 26.295, 26.301,\n",
       "          26.309, 26.329, 26.331, 26.336, 26.355, 26.36 , 26.378, 26.382,\n",
       "          26.385, 26.395, 26.403, 26.408, 26.413, 26.428, 26.435, 26.443,\n",
       "          26.465, 26.475, 26.482, 26.5  , 26.507, 26.514, 26.53 , 26.536,\n",
       "          26.537, 26.541, 26.554, 26.555, 26.563, 26.564, 26.565, 26.57 ,\n",
       "          26.575, 26.576, 26.598, 26.609, 26.61 , 26.615, 26.617, 26.618,\n",
       "          26.629, 26.631, 26.633, 26.652, 26.655, 26.657, 26.673, 26.681,\n",
       "          26.682, 26.7  , 26.71 , 26.719, 26.736, 26.743, 26.749, 26.759,\n",
       "          26.775, 26.78 , 26.781, 26.796, 26.802, 26.806, 26.818, 26.823,\n",
       "          26.825, 26.831, 26.852, 26.858, 26.873, 26.883, 26.893, 26.894,\n",
       "          26.911, 26.919, 26.935, 26.943, 26.953, 26.978, 26.983, 26.989,\n",
       "          27.004, 27.008, 27.01 , 27.033, 27.04 , 27.045, 27.054, 27.059,\n",
       "          27.061, 27.072, 27.074, 27.076, 27.089, 27.091, 27.096, 27.112,\n",
       "          27.113, 27.117, 27.127, 27.135, 27.14 , 27.148, 27.162, 27.165,\n",
       "          27.18 , 27.187, 27.194, 27.202, 27.216, 27.223, 27.23 , 27.247,\n",
       "          27.252, 27.254, 27.266, 27.271, 27.277, 27.283, 27.297, 27.305,\n",
       "          27.314, 27.333, 27.337, 27.338, 27.359, 27.365, 27.371, 27.384,\n",
       "          27.394, 27.395, 27.403, 27.423, 27.428, 27.44 , 27.442, 27.445,\n",
       "          27.453, 27.455, 27.46 , 27.467, 27.471, 27.474, 27.476, 27.48 ,\n",
       "          27.481, 27.487, 27.49 , 27.492, 27.501, 27.505, 27.507, 27.522,\n",
       "          27.528, 27.535, 27.549, 27.555, 27.562, 27.565, 27.589, 27.596,\n",
       "          27.604, 27.619, 27.624, 27.626, 27.639, 27.646, 27.651, 27.663,\n",
       "          27.669, 27.674, 27.681, 27.701, 27.703, 27.705, 27.724, 27.732,\n",
       "          27.751, 27.758, 27.759, 27.773, 27.781, 27.787, 27.794, 27.811,\n",
       "          27.814, 27.816, 27.829, 27.834, 27.836, 27.854, 27.865, 27.879,\n",
       "          27.886, 27.887, 27.894, 27.895, 27.899, 27.902, 27.923, 27.931,\n",
       "          27.932, 27.955, 27.967, 27.969, 27.989, 27.994, 27.995, 28.006,\n",
       "          28.012, 28.018, 28.025, 28.039, 28.044, 28.049, 28.057, 28.062,\n",
       "          28.063, 28.079, 28.088, 28.093, 28.099, 28.119, 28.123, 28.129,\n",
       "          28.148, 28.151, 28.153, 28.167, 28.175, 28.194, 28.204, 28.22 ,\n",
       "          28.229, 28.236, 28.251, 28.26 , 28.267, 28.284, 28.291, 28.309,\n",
       "          28.316, 28.318, 28.332, 28.338, 28.344, 28.349, 28.364, 28.366,\n",
       "          28.369, 28.373, 28.374, 28.377, 28.379, 28.38 , 28.382, 28.383,\n",
       "          28.384, 28.392, 28.393, 28.395, 28.396, 28.397, 28.398, 28.399,\n",
       "          28.4  , 28.401, 28.402, 28.403, 28.404, 28.405, 28.406, 28.407,\n",
       "          28.408, 28.409, 28.41 , 28.411, 28.412, 28.413, 28.414, 28.415,\n",
       "          28.416, 28.417, 28.418, 28.419, 28.42 , 28.421, 28.422, 28.423,\n",
       "          28.424, 28.425, 28.426, 28.427, 28.428, 28.429, 28.43 , 28.431,\n",
       "          28.432, 28.433]),\n",
       "   'data_y': array([42501.40916908, 42563.22411594, 42624.90580676, 42686.36566184,\n",
       "          42747.59166184, 42808.41945894, 42869.96091787, 42928.07642512,\n",
       "          42988.52397101, 43043.25228985, 43094.40223188, 43142.76213527,\n",
       "          43193.67286957, 43244.68010628, 43295.68276328, 43344.52972947,\n",
       "          43392.34728502, 43441.14681159, 43491.87574879, 43547.75666667,\n",
       "          43598.28297585, 43651.14363285, 43705.95507246, 43754.75435749,\n",
       "          43807.00160386, 43859.80332367, 43912.91725604, 43966.12651208,\n",
       "          44020.0003285 , 44072.86714976, 44124.48027053, 44172.93383575,\n",
       "          44222.6418744 , 44264.23659903, 44305.74541063, 44346.55903382,\n",
       "          44390.7752657 , 44433.16097585, 44474.40021256, 44514.42601932,\n",
       "          44553.35584541, 44591.31699517, 44628.5134686 , 44664.20234783,\n",
       "          44699.78983575, 44733.66617391, 44768.56983575, 44804.98933333,\n",
       "          44841.89679227, 44879.44011594, 44917.59507246, 44955.87918841,\n",
       "          44994.3730628 , 45032.54958454, 45071.40384541, 45111.07569082,\n",
       "          45151.47799034, 45192.58954589, 45234.34355556, 45277.38510145,\n",
       "          45320.43733333, 45361.99281159, 45402.86859903, 45442.94728502,\n",
       "          45482.15528502, 45520.4036715 , 45557.58709179, 45593.58728502,\n",
       "          45630.28046377, 45665.66944928, 45699.58641546, 45732.01773913,\n",
       "          45763.07657971, 45792.83708213, 45821.39605797, 45848.76651208,\n",
       "          45876.61891787, 45904.39605797, 45931.92289855, 45959.43750725,\n",
       "          45986.31878261, 46013.03441546, 46040.19405797, 46067.90778744,\n",
       "          46095.40228985, 46123.38952657, 46151.80996135, 46180.68423188,\n",
       "          46209.97535266, 46239.64421256, 46269.62466667, 46299.09404831,\n",
       "          46330.83856039, 46360.31298551, 46388.0151401 , 46418.09501449,\n",
       "          46446.00686957, 46473.45348792, 46500.377343  , 46527.36678261,\n",
       "          46552.59985507, 46578.91986473, 46602.8037971 , 46625.79043478,\n",
       "          46647.15596135, 46668.08753623, 46689.56314976, 46711.33955556,\n",
       "          46734.16360386, 46755.69275362, 46780.21628019, 46803.02444444,\n",
       "          46825.95682126, 46849.05884058, 46872.39999034, 46895.44371014,\n",
       "          46920.162657  , 46946.01808696, 46968.13542995, 46995.91576812,\n",
       "          47020.35419324, 47044.48185507, 47067.56428019, 47092.90560386,\n",
       "          47116.36532367, 47139.91945894, 47162.19119807, 47183.30508213,\n",
       "          47203.42428019, 47223.40017391, 47243.53480193, 47262.04900483,\n",
       "          47277.21557488, 47294.07511111, 47314.62869565, 47336.19155556,\n",
       "          47359.12202512, 47380.537381  , 47398.60153237, 47419.80387053,\n",
       "          47444.31232786, 47472.16385121, 47491.7276    , 47516.33835684,\n",
       "          47539.27132947, 47561.40657585, 47584.75706216, 47608.73204444,\n",
       "          47630.92419903, 47651.8324438 , 47672.24217005, 47690.15749372,\n",
       "          47706.54680129, 47720.91010242, 47733.20443092, 47743.41179646,\n",
       "          47753.41668213, 47767.54801546, 47781.5138351 , 47795.31414106,\n",
       "          47805.31842126, 47813.31281481, 47822.2088599 , 47836.26205797,\n",
       "          47849.73368116, 47862.4435942 , 47872.10039614, 47887.33650242,\n",
       "          47904.92317874, 47923.00599034, 47942.95896618, 47961.43762319,\n",
       "          47985.39241546, 48011.5829372 , 48035.07962319, 48060.61130435,\n",
       "          48084.86884058, 48109.6010628 , 48134.56872464, 48159.75807729,\n",
       "          48185.19500483, 48210.99262802, 48237.19098551, 48263.87786473,\n",
       "          48292.15071498, 48318.32489855, 48350.65784541, 48380.19225121,\n",
       "          48408.25166184, 48442.68094686, 48475.55568116, 48509.16641546,\n",
       "          48547.60935266, 48585.16417391, 48623.26257005, 48661.91120773,\n",
       "          48704.73584541, 48745.53476328, 48782.99872464, 48823.43758454,\n",
       "          48864.24386473, 48903.65921739, 48942.18152657, 48979.43931401,\n",
       "          49022.72357488, 49063.90105314, 49106.06090821, 49149.17384541,\n",
       "          49194.26523671, 49238.30654106, 49285.51594203, 49327.56285024,\n",
       "          49371.88834783, 49419.37262802, 49461.85719807, 49506.354     ,\n",
       "          49553.45308213, 49596.08184541, 49638.86108213, 49678.877343  ,\n",
       "          49723.02216425, 49763.54652174, 49802.51200966, 49841.41825121,\n",
       "          49880.32010628, 49917.67419324, 49955.95125604, 49995.61547826,\n",
       "          50038.60572947, 50076.60063768, 50116.59995169, 50155.7964058 ,\n",
       "          50196.85637681, 50234.84289855, 50271.09985507, 50305.95242512,\n",
       "          50340.04729469, 50372.26763285, 50406.22648309, 50438.27099517,\n",
       "          50468.22837681, 50498.29520773, 50525.41210628, 50551.22249275,\n",
       "          50578.77888889, 50600.34713043, 50622.93512077, 50645.90892754,\n",
       "          50668.50929469, 50691.20133333, 50713.27445411, 50734.85317874,\n",
       "          50756.01990338, 50775.84805797, 50797.15733333, 50816.69414493,\n",
       "          50836.73468599, 50854.33399034, 50871.71702415, 50888.50137198,\n",
       "          50907.02533333, 50924.28189372, 50942.76908213, 50958.34057971,\n",
       "          50973.98678261, 50991.15402899, 51005.28769082, 51019.96902415,\n",
       "          51034.15149758, 51047.65571014, 51060.58195169, 51073.16654106,\n",
       "          51085.72309179, 51098.52254106, 51111.00284058, 51123.63017391,\n",
       "          51136.47451208, 51148.94858937, 51164.52890821, 51177.82849275,\n",
       "          51192.23385507, 51206.93177778, 51221.39744928, 51235.64870531,\n",
       "          51251.31128502, 51265.43314976, 51279.97722705, 51294.42576812,\n",
       "          51308.96839614, 51323.54186473, 51337.60122705, 51350.21477295,\n",
       "          51364.76700483, 51378.60480193, 51391.51774879, 51404.75115942,\n",
       "          51417.96047343, 51431.21764251, 51444.37798068, 51457.37128502,\n",
       "          51470.1993913 , 51482.79721739, 51496.08028019, 51507.71122705,\n",
       "          51519.05718841, 51529.83652174, 51540.02741063, 51549.63051208,\n",
       "          51558.65960386, 51568.45737198, 51577.08955556, 51586.01565217,\n",
       "          51594.97246377, 51603.86753623, 51612.80570048, 51621.92776812,\n",
       "          51633.05478261, 51642.55829952, 51651.65089855, 51663.09174879,\n",
       "          51673.95182609, 51684.85574879, 51695.8124058 , 51706.83916908,\n",
       "          51717.96247343, 51729.12861836, 51740.36809662, 51751.65055072,\n",
       "          51762.61162319, 51772.28272464, 51784.09096618, 51795.85514976,\n",
       "          51806.78859903, 51818.87735266, 51830.15066667, 51842.18956522,\n",
       "          51854.0004058 , 51864.37377778, 51877.51323671, 51890.47891787,\n",
       "          51903.26361353, 51915.37717874, 51927.47940097, 51940.64228019,\n",
       "          51952.2534686 , 51963.38571981, 51975.45532367, 51986.55174879,\n",
       "          51997.37681159, 52007.92131401, 52018.23988406, 52028.5053913 ,\n",
       "          52038.3483285 , 52047.85026087, 52058.89902415, 52067.94092754,\n",
       "          52076.36132367, 52085.41868599, 52094.0715942 , 52102.92535266,\n",
       "          52111.21696618, 52119.18794203, 52129.10790338, 52136.58197101,\n",
       "          52143.59721739, 52150.14299517, 52156.94531401, 52163.56268599,\n",
       "          52169.58776812, 52176.02369082, 52182.63385507, 52187.78727536,\n",
       "          52193.26890821, 52198.63417391, 52204.54904348, 52210.38462802,\n",
       "          52215.90264734, 52221.36814493, 52226.79965217, 52232.14992271,\n",
       "          52237.12276328, 52242.60656039, 52247.53002899, 52252.66491787,\n",
       "          52257.45194203, 52262.05133333, 52266.4052657 , 52270.75247343,\n",
       "          52275.19255072, 52279.65461836, 52284.2147343 , 52288.66754589,\n",
       "          52293.96484058, 52299.35635749, 52304.162     , 52309.26356522,\n",
       "          52314.59595169, 52320.19627053, 52326.18920773, 52331.8253913 ,\n",
       "          52337.53600966, 52343.14365217, 52349.29494686, 52355.02537198,\n",
       "          52360.6449372 , 52366.53205797, 52371.69314976, 52377.01070531,\n",
       "          52382.42731401, 52387.22044444, 52391.91971981, 52396.45132367,\n",
       "          52401.19024155, 52405.48521739, 52409.64852174, 52413.67553623,\n",
       "          52417.99945894, 52421.48316908, 52424.87354589, 52428.03176812,\n",
       "          52430.9795942 , 52433.59089855, 52436.49586473, 52439.10788406,\n",
       "          52441.65690821, 52444.20193237, 52446.95143961, 52449.17491787,\n",
       "          52451.82892754, 52454.68738164, 52457.73791304, 52461.04401932,\n",
       "          52464.37378744, 52467.78314976, 52471.22743961, 52474.79043478,\n",
       "          52478.75178744, 52482.90471498, 52487.24003865, 52491.70152657,\n",
       "          52496.26295652, 52500.79124638, 52505.34115942, 52509.888     ,\n",
       "          52514.40154589, 52518.67279227, 52522.90622222, 52527.28208696,\n",
       "          52531.86025121, 52536.15998068, 52539.98038647, 52543.82633816,\n",
       "          52547.796     , 52550.90595169, 52555.05025121, 52557.23880193,\n",
       "          52561.31883092, 52565.75561997, 52570.29321187, 52577.49139054,\n",
       "          52583.13460179, 52583.97516966, 52590.14329907, 52594.62536056,\n",
       "          52596.44401578, 52596.89135976, 52594.59167448, 52592.25782976,\n",
       "          52588.89139759, 52583.8015841 , 52578.14893007, 52571.82129398,\n",
       "          52563.57375724, 52554.83793468, 52546.11012287, 52538.00271553,\n",
       "          52530.84755899, 52524.55070612, 52520.65918459, 52517.28431294,\n",
       "          52518.2060099 , 52519.79775435, 52523.03068882, 52528.08865181,\n",
       "          52530.98513807, 52534.7776898 , 52544.63093887, 52549.17366704,\n",
       "          52553.04974812, 52557.34930871, 52560.86654342, 52565.44734348,\n",
       "          52568.50583098, 52570.45281983, 52572.47499448, 52574.09063752,\n",
       "          52575.29974894, 52576.10232874, 52576.49837693, 52576.4878935 ,\n",
       "          52576.07087846, 52575.2473318 , 52574.01725353, 52572.38064364,\n",
       "          52570.33750214, 52567.88782902]),\n",
       "   'fitted_model': {'slope': np.float64(52.93585628450877),\n",
       "    'intercept': np.float64(432.16338962534513),\n",
       "    'fitted_y': array([44325.9800617 , 44338.09939003, 44350.21871837, 44386.57670338,\n",
       "           44396.27216605, 44435.05401672, 44437.47788239, 44447.17334506,\n",
       "           44464.14040473, 44476.25973306, 44478.68359873, 44510.19385241,\n",
       "           44541.70410608, 44553.82343441, 44568.36662842, 44619.26780743,\n",
       "           44633.81100143, 44645.93032977, 44694.40764311, 44704.10310578,\n",
       "           44706.52697145, 44742.88495646, 44759.85201613, 44801.05773247,\n",
       "           44837.41571748, 44854.38277715, 44893.16462782, 44902.86009049,\n",
       "           44917.4032845 , 44948.91353817, 44965.88059784, 44985.27152318,\n",
       "           45024.05337385, 45043.44429919, 45094.3454782 , 45123.43186621,\n",
       "           45145.24665721, 45184.02850789, 45208.26716456, 45220.3864929 ,\n",
       "           45237.35355257, 45288.25473158, 45300.37405991, 45305.22179125,\n",
       "           45341.57977626, 45356.12297026, 45370.66616426, 45402.17641794,\n",
       "           45411.87188061, 45423.99120894, 45440.95826861, 45482.16398495,\n",
       "           45494.28331329, 45520.94583563, 45540.33676097, 45557.30382064,\n",
       "           45610.62886532, 45634.86752199, 45639.71525332, 45676.07323833,\n",
       "           45693.040298  , 45697.88802934, 45734.24601434, 45756.06080535,\n",
       "           45782.72332769, 45828.77677536, 45853.01543204, 45855.4392977 ,\n",
       "           45899.06887971, 45918.45980505, 45928.15526772, 45952.39392439,\n",
       "           45964.51325273, 45971.78484973, 46003.2951034 , 46020.26216307,\n",
       "           46032.38149141, 46051.77241675, 46100.24973009, 46109.94519276,\n",
       "           46124.48838676, 46163.27023744, 46187.50889411, 46194.78049111,\n",
       "           46252.95326713, 46277.1919238 , 46284.4635208 , 46340.21243114,\n",
       "           46364.45108782, 46383.84201315, 46425.0477295 , 46444.43865483,\n",
       "           46458.98184884, 46495.33983385, 46512.30689352, 46553.51260986,\n",
       "           46575.32740086, 46577.75126653, 46631.07631121, 46650.46723655,\n",
       "           46665.01043055, 46679.55362455, 46711.06387823, 46744.99799757,\n",
       "           46747.42186324, 46793.47531091, 46805.59463925, 46808.01850492,\n",
       "           46839.52875859, 46856.49581826, 46858.91968393, 46900.12540027,\n",
       "           46931.63565394, 46936.48338528, 46970.41750462, 47001.92775829,\n",
       "           47016.4709523 , 47052.8289373 , 47057.67666864, 47077.06759398,\n",
       "           47086.76305664, 47096.45851931, 47101.30625065, 47130.39263865,\n",
       "           47157.05516099, 47159.47902666, 47174.02222066, 47186.141549  ,\n",
       "           47198.26087734, 47200.684743  , 47227.34726534, 47229.77113101,\n",
       "           47232.19499668, 47251.58592201, 47256.43365335, 47263.70525035,\n",
       "           47297.63936969, 47304.91096669, 47319.4541607 , 47331.57348903,\n",
       "           47363.08374271, 47367.93147404, 47375.20307104, 47382.47466804,\n",
       "           47384.89853371, 47389.74626504, 47394.59399638, 47397.01786205,\n",
       "           47399.44172771, 47401.86559338, 47411.56105605, 47413.98492172,\n",
       "           47416.40878738, 47418.83265305, 47435.79971272, 47455.19063806,\n",
       "           47469.73383206, 47474.5815634 , 47506.09181707, 47510.9395484 ,\n",
       "           47515.78727974, 47547.29753341, 47554.56913041, 47556.99299608,\n",
       "           47593.35098109, 47612.74190643, 47661.21921977, 47697.57720478,\n",
       "           47714.54426445, 47731.51132412, 47777.5647718 , 47779.98863746,\n",
       "           47794.53183147, 47835.73754781, 47857.55233882, 47891.48645816,\n",
       "           47908.45351783, 47952.08309984, 48000.56041318, 48029.64680119,\n",
       "           48085.39571153, 48097.51503987, 48112.05823387, 48141.14462188,\n",
       "           48143.56848755, 48148.41621888, 48187.19806956, 48209.01286056,\n",
       "           48216.28445756, 48267.18563657, 48293.84815891, 48313.23908425,\n",
       "           48356.86866626, 48393.22665127, 48407.76984527, 48434.43236761,\n",
       "           48465.94262128, 48470.79035262, 48475.63808395, 48507.14833763,\n",
       "           48516.84380029, 48521.69153163, 48555.62565097, 48562.89724797,\n",
       "           48570.16884497, 48601.67909865, 48623.49388965, 48638.03708366,\n",
       "           48657.42800899, 48705.90532234, 48710.75305367, 48722.87238201,\n",
       "           48768.92582968, 48781.04515802, 48824.67474003, 48834.3702027 ,\n",
       "           48841.6417997 , 48865.88045637, 48885.27138171, 48897.39071005,\n",
       "           48909.51003838, 48945.86802339, 48962.83508306, 48982.2260084 ,\n",
       "           49035.55105308, 49059.78970975, 49076.75676942, 49120.38635143,\n",
       "           49137.3534111 , 49154.32047077, 49193.10232145, 49207.64551545,\n",
       "           49210.06938112, 49219.76484378, 49251.27509746, 49253.69896313,\n",
       "           49273.08988846, 49275.51375413, 49277.9376198 , 49290.05694813,\n",
       "           49302.17627647, 49304.60014214, 49357.92518682, 49384.58770915,\n",
       "           49387.01157482, 49399.13090316, 49403.97863449, 49406.40250016,\n",
       "           49433.0650225 , 49437.91275383, 49442.76048517, 49488.81393284,\n",
       "           49496.08552985, 49500.93326118, 49539.71511186, 49559.10603719,\n",
       "           49561.52990286, 49605.15948487, 49629.39814154, 49651.21293255,\n",
       "           49692.41864889, 49709.38570856, 49723.92890256, 49748.16755924,\n",
       "           49786.94940991, 49799.06873825, 49801.49260391, 49837.85058892,\n",
       "           49852.39378292, 49862.08924559, 49891.1756336 , 49903.29496194,\n",
       "           49908.14269327, 49922.68588727, 49973.58706629, 49988.13026029,\n",
       "           50024.4882453 , 50048.72690197, 50072.96555864, 50075.38942431,\n",
       "           50116.59514065, 50135.98606599, 50174.76791666, 50194.158842  ,\n",
       "           50218.39749867, 50278.99414035, 50291.11346869, 50305.65666269,\n",
       "           50342.0146477 , 50351.71011037, 50356.5578417 , 50412.30675205,\n",
       "           50429.27381172, 50441.39314006, 50463.20793106, 50475.3272594 ,\n",
       "           50480.17499073, 50506.83751307, 50511.6852444 , 50516.53297574,\n",
       "           50548.04322941, 50552.89096075, 50565.01028908, 50603.79213976,\n",
       "           50606.21600543, 50615.91146809, 50640.15012477, 50659.5410501 ,\n",
       "           50671.66037844, 50691.05130378, 50724.98542312, 50732.25702012,\n",
       "           50768.61500513, 50785.5820648 , 50802.54912447, 50821.94004981,\n",
       "           50855.87416915, 50872.84122882, 50889.80828849, 50931.01400483,\n",
       "           50943.13333317, 50947.9810645 , 50977.06745251, 50989.18678084,\n",
       "           51003.72997485, 51018.27316885, 51052.20728819, 51071.59821353,\n",
       "           51093.41300453, 51139.46645221, 51149.16191488, 51151.58578055,\n",
       "           51202.48695956, 51217.03015356, 51231.57334756, 51263.08360124,\n",
       "           51287.32225791, 51289.74612358, 51309.13704891, 51357.61436226,\n",
       "           51369.7336906 , 51398.8200786 , 51403.66780994, 51410.93940694,\n",
       "           51430.33033228, 51435.17806361, 51447.29739195, 51464.26445162,\n",
       "           51473.95991428, 51481.23151129, 51486.07924262, 51495.77470529,\n",
       "           51498.19857096, 51512.74176496, 51520.01336196, 51524.8610933 ,\n",
       "           51546.6758843 , 51556.37134697, 51561.2190783 , 51597.57706331,\n",
       "           51612.12025732, 51629.08731699, 51663.02143633, 51677.56463033,\n",
       "           51694.53169   , 51701.803287  , 51759.97606302, 51776.94312269,\n",
       "           51796.33404802, 51832.69203303, 51844.81136137, 51849.6590927 ,\n",
       "           51881.16934638, 51898.13640605, 51910.25573438, 51939.34212239,\n",
       "           51953.88531639, 51966.00464473, 51982.9717044 , 52031.44901774,\n",
       "           52036.29674908, 52041.14448041, 52087.19792809, 52106.58885343,\n",
       "           52152.6423011 , 52169.60936077, 52172.03322644, 52205.96734578,\n",
       "           52225.35827112, 52239.90146512, 52256.86852479, 52298.07424113,\n",
       "           52305.34583814, 52310.19356947, 52341.70382314, 52353.82315148,\n",
       "           52358.67088281, 52402.30046482, 52428.96298716, 52462.8971065 ,\n",
       "           52479.86416617, 52482.28803184, 52499.25509151, 52501.67895718,\n",
       "           52511.37441985, 52518.64601685, 52569.54719586, 52588.9381212 ,\n",
       "           52591.36198687, 52647.11089721, 52676.19728522, 52681.04501655,\n",
       "           52729.5223299 , 52741.64165823, 52744.0655239 , 52770.72804624,\n",
       "           52785.27124024, 52799.81443425, 52816.78149392, 52850.71561326,\n",
       "           52862.83494159, 52874.95426993, 52894.34519527, 52906.4645236 ,\n",
       "           52908.88838927, 52947.67023995, 52969.48503095, 52981.60435929,\n",
       "           52996.14755329, 53044.62486663, 53054.3203293 , 53068.86352331,\n",
       "           53114.91697098, 53122.18856798, 53127.03629932, 53160.97041866,\n",
       "           53180.361344  , 53226.41479167, 53250.65344835, 53289.43529902,\n",
       "           53311.25009003, 53328.2171497 , 53364.5751347 , 53386.38992571,\n",
       "           53403.35698538, 53444.56270172, 53461.52976139, 53505.1593434 ,\n",
       "           53522.12640307, 53526.97413441, 53560.90825375, 53575.45144775,\n",
       "           53589.99464175, 53602.11397009, 53638.4719551 , 53643.31968643,\n",
       "           53650.59128343, 53660.2867461 , 53662.71061177, 53669.98220877,\n",
       "           53674.82994011, 53677.25380577, 53682.10153711, 53684.52540278,\n",
       "           53686.94926844, 53706.34019378, 53708.76405945, 53713.61179078,\n",
       "           53716.03565645, 53718.45952212, 53720.88338778, 53723.30725345,\n",
       "           53725.73111912, 53728.15498479, 53730.57885045, 53733.00271612,\n",
       "           53735.42658179, 53737.85044745, 53740.27431312, 53742.69817879,\n",
       "           53745.12204446, 53747.54591012, 53749.96977579, 53752.39364146,\n",
       "           53754.81750712, 53757.24137279, 53759.66523846, 53762.08910413,\n",
       "           53764.51296979, 53766.93683546, 53769.36070113, 53771.7845668 ,\n",
       "           53774.20843246, 53776.63229813, 53779.0561638 , 53781.48002946,\n",
       "           53783.90389513, 53786.3277608 , 53788.75162647, 53791.17549213,\n",
       "           53793.5993578 , 53796.02322347, 53798.44708913, 53800.8709548 ,\n",
       "           53803.29482047, 53805.71868614])}}]}"
      ]
     },
     "execution_count": 13,
     "metadata": {},
     "output_type": "execute_result"
    }
   ],
   "source": [
    "segments = utils.extract_segments(ms)   \n",
    "segments"
   ]
  },
  {
   "cell_type": "code",
   "execution_count": 14,
   "metadata": {},
   "outputs": [
    {
     "data": {
      "image/png": "[encoded data removed]",
      "text/plain": [
       "<Figure size 1500x1000 with 8 Axes>"
      ]
     },
     "metadata": {},
     "output_type": "display_data"
    }
   ],
   "source": [
    "plots.plot_segments(segments, metric_per_segment, title=name)"
   ]
  },
  {
   "cell_type": "markdown",
   "metadata": {},
   "source": [
    "---\n",
    "\n",
    "## Other analysis\n",
    "\n",
    "### 1. Density of points in processed data\n"
   ]
  },
  {
   "cell_type": "code",
   "execution_count": 15,
   "metadata": {},
   "outputs": [],
   "source": [
    "width = 1 # meters\n",
    "\n",
    "density = analysis.calculate_density(x_processed, y_processed, bin_width=width)"
   ]
  },
  {
   "cell_type": "code",
   "execution_count": 16,
   "metadata": {},
   "outputs": [
    {
     "data": {
      "application/vnd.plotly.v1+json": {
       "config": {
        "plotlyServerURL": "https://plot.ly"
       },
       "data": [
        {
         "marker": {
          "color": "lightgreen",
          "line": {
           "color": "black",
           "width": 1
          }
         },
         "text": [
          96,
          108,
          128,
          87,
          183,
          211,
          173,
          170,
          173,
          134,
          129,
          151,
          163,
          145,
          177,
          190,
          226,
          183,
          191,
          167,
          131,
          130,
          155,
          126,
          104,
          124,
          112,
          127,
          91
         ],
         "textposition": "auto",
         "type": "bar",
         "x": [
          0.4827586206896552,
          1.4482758620689655,
          2.413793103448276,
          3.3793103448275863,
          4.344827586206897,
          5.310344827586206,
          6.275862068965518,
          7.241379310344827,
          8.206896551724139,
          9.172413793103448,
          10.137931034482758,
          11.10344827586207,
          12.06896551724138,
          13.03448275862069,
          14,
          14.965517241379311,
          15.931034482758623,
          16.896551724137932,
          17.862068965517242,
          18.82758620689655,
          19.793103448275865,
          20.758620689655174,
          21.724137931034484,
          22.689655172413794,
          23.655172413793103,
          24.620689655172413,
          25.586206896551726,
          26.551724137931036,
          27.517241379310345
         ],
         "y": [
          96,
          108,
          128,
          87,
          183,
          211,
          173,
          170,
          173,
          134,
          129,
          151,
          163,
          145,
          177,
          190,
          226,
          183,
          191,
          167,
          131,
          130,
          155,
          126,
          104,
          124,
          112,
          127,
          91
         ]
        }
       ],
       "layout": {
        "bargap": 0.1,
        "template": {
         "data": {
          "bar": [
           {
            "error_x": {
             "color": "#2a3f5f"
            },
            "error_y": {
             "color": "#2a3f5f"
            },
            "marker": {
             "line": {
              "color": "white",
              "width": 0.5
             },
             "pattern": {
              "fillmode": "overlay",
              "size": 10,
              "solidity": 0.2
             }
            },
            "type": "bar"
           }
          ],
          "barpolar": [
           {
            "marker": {
             "line": {
              "color": "white",
              "width": 0.5
             },
             "pattern": {
              "fillmode": "overlay",
              "size": 10,
              "solidity": 0.2
             }
            },
            "type": "barpolar"
           }
          ],
          "carpet": [
           {
            "aaxis": {
             "endlinecolor": "#2a3f5f",
             "gridcolor": "#C8D4E3",
             "linecolor": "#C8D4E3",
             "minorgridcolor": "#C8D4E3",
             "startlinecolor": "#2a3f5f"
            },
            "baxis": {
             "endlinecolor": "#2a3f5f",
             "gridcolor": "#C8D4E3",
             "linecolor": "#C8D4E3",
             "minorgridcolor": "#C8D4E3",
             "startlinecolor": "#2a3f5f"
            },
            "type": "carpet"
           }
          ],
          "choropleth": [
           {
            "colorbar": {
             "outlinewidth": 0,
             "ticks": ""
            },
            "type": "choropleth"
           }
          ],
          "contour": [
           {
            "colorbar": {
             "outlinewidth": 0,
             "ticks": ""
            },
            "colorscale": [
             [
              0,
              "#0d0887"
             ],
             [
              0.1111111111111111,
              "#46039f"
             ],
             [
              0.2222222222222222,
              "#7201a8"
             ],
             [
              0.3333333333333333,
              "#9c179e"
             ],
             [
              0.4444444444444444,
              "#bd3786"
             ],
             [
              0.5555555555555556,
              "#d8576b"
             ],
             [
              0.6666666666666666,
              "#ed7953"
             ],
             [
              0.7777777777777778,
              "#fb9f3a"
             ],
             [
              0.8888888888888888,
              "#fdca26"
             ],
             [
              1,
              "#f0f921"
             ]
            ],
            "type": "contour"
           }
          ],
          "contourcarpet": [
           {
            "colorbar": {
             "outlinewidth": 0,
             "ticks": ""
            },
            "type": "contourcarpet"
           }
          ],
          "heatmap": [
           {
            "colorbar": {
             "outlinewidth": 0,
             "ticks": ""
            },
            "colorscale": [
             [
              0,
              "#0d0887"
             ],
             [
              0.1111111111111111,
              "#46039f"
             ],
             [
              0.2222222222222222,
              "#7201a8"
             ],
             [
              0.3333333333333333,
              "#9c179e"
             ],
             [
              0.4444444444444444,
              "#bd3786"
             ],
             [
              0.5555555555555556,
              "#d8576b"
             ],
             [
              0.6666666666666666,
              "#ed7953"
             ],
             [
              0.7777777777777778,
              "#fb9f3a"
             ],
             [
              0.8888888888888888,
              "#fdca26"
             ],
             [
              1,
              "#f0f921"
             ]
            ],
            "type": "heatmap"
           }
          ],
          "heatmapgl": [
           {
            "colorbar": {
             "outlinewidth": 0,
             "ticks": ""
            },
            "colorscale": [
             [
              0,
              "#0d0887"
             ],
             [
              0.1111111111111111,
              "#46039f"
             ],
             [
              0.2222222222222222,
              "#7201a8"
             ],
             [
              0.3333333333333333,
              "#9c179e"
             ],
             [
              0.4444444444444444,
              "#bd3786"
             ],
             [
              0.5555555555555556,
              "#d8576b"
             ],
             [
              0.6666666666666666,
              "#ed7953"
             ],
             [
              0.7777777777777778,
              "#fb9f3a"
             ],
             [
              0.8888888888888888,
              "#fdca26"
             ],
             [
              1,
              "#f0f921"
             ]
            ],
            "type": "heatmapgl"
           }
          ],
          "histogram": [
           {
            "marker": {
             "pattern": {
              "fillmode": "overlay",
              "size": 10,
              "solidity": 0.2
             }
            },
            "type": "histogram"
           }
          ],
          "histogram2d": [
           {
            "colorbar": {
             "outlinewidth": 0,
             "ticks": ""
            },
            "colorscale": [
             [
              0,
              "#0d0887"
             ],
             [
              0.1111111111111111,
              "#46039f"
             ],
             [
              0.2222222222222222,
              "#7201a8"
             ],
             [
              0.3333333333333333,
              "#9c179e"
             ],
             [
              0.4444444444444444,
              "#bd3786"
             ],
             [
              0.5555555555555556,
              "#d8576b"
             ],
             [
              0.6666666666666666,
              "#ed7953"
             ],
             [
              0.7777777777777778,
              "#fb9f3a"
             ],
             [
              0.8888888888888888,
              "#fdca26"
             ],
             [
              1,
              "#f0f921"
             ]
            ],
            "type": "histogram2d"
           }
          ],
          "histogram2dcontour": [
           {
            "colorbar": {
             "outlinewidth": 0,
             "ticks": ""
            },
            "colorscale": [
             [
              0,
              "#0d0887"
             ],
             [
              0.1111111111111111,
              "#46039f"
             ],
             [
              0.2222222222222222,
              "#7201a8"
             ],
             [
              0.3333333333333333,
              "#9c179e"
             ],
             [
              0.4444444444444444,
              "#bd3786"
             ],
             [
              0.5555555555555556,
              "#d8576b"
             ],
             [
              0.6666666666666666,
              "#ed7953"
             ],
             [
              0.7777777777777778,
              "#fb9f3a"
             ],
             [
              0.8888888888888888,
              "#fdca26"
             ],
             [
              1,
              "#f0f921"
             ]
            ],
            "type": "histogram2dcontour"
           }
          ],
          "mesh3d": [
           {
            "colorbar": {
             "outlinewidth": 0,
             "ticks": ""
            },
            "type": "mesh3d"
           }
          ],
          "parcoords": [
           {
            "line": {
             "colorbar": {
              "outlinewidth": 0,
              "ticks": ""
             }
            },
            "type": "parcoords"
           }
          ],
          "pie": [
           {
            "automargin": true,
            "type": "pie"
           }
          ],
          "scatter": [
           {
            "fillpattern": {
             "fillmode": "overlay",
             "size": 10,
             "solidity": 0.2
            },
            "type": "scatter"
           }
          ],
          "scatter3d": [
           {
            "line": {
             "colorbar": {
              "outlinewidth": 0,
              "ticks": ""
             }
            },
            "marker": {
             "colorbar": {
              "outlinewidth": 0,
              "ticks": ""
             }
            },
            "type": "scatter3d"
           }
          ],
          "scattercarpet": [
           {
            "marker": {
             "colorbar": {
              "outlinewidth": 0,
              "ticks": ""
             }
            },
            "type": "scattercarpet"
           }
          ],
          "scattergeo": [
           {
            "marker": {
             "colorbar": {
              "outlinewidth": 0,
              "ticks": ""
             }
            },
            "type": "scattergeo"
           }
          ],
          "scattergl": [
           {
            "marker": {
             "colorbar": {
              "outlinewidth": 0,
              "ticks": ""
             }
            },
            "type": "scattergl"
           }
          ],
          "scattermapbox": [
           {
            "marker": {
             "colorbar": {
              "outlinewidth": 0,
              "ticks": ""
             }
            },
            "type": "scattermapbox"
           }
          ],
          "scatterpolar": [
           {
            "marker": {
             "colorbar": {
              "outlinewidth": 0,
              "ticks": ""
             }
            },
            "type": "scatterpolar"
           }
          ],
          "scatterpolargl": [
           {
            "marker": {
             "colorbar": {
              "outlinewidth": 0,
              "ticks": ""
             }
            },
            "type": "scatterpolargl"
           }
          ],
          "scatterternary": [
           {
            "marker": {
             "colorbar": {
              "outlinewidth": 0,
              "ticks": ""
             }
            },
            "type": "scatterternary"
           }
          ],
          "surface": [
           {
            "colorbar": {
             "outlinewidth": 0,
             "ticks": ""
            },
            "colorscale": [
             [
              0,
              "#0d0887"
             ],
             [
              0.1111111111111111,
              "#46039f"
             ],
             [
              0.2222222222222222,
              "#7201a8"
             ],
             [
              0.3333333333333333,
              "#9c179e"
             ],
             [
              0.4444444444444444,
              "#bd3786"
             ],
             [
              0.5555555555555556,
              "#d8576b"
             ],
             [
              0.6666666666666666,
              "#ed7953"
             ],
             [
              0.7777777777777778,
              "#fb9f3a"
             ],
             [
              0.8888888888888888,
              "#fdca26"
             ],
             [
              1,
              "#f0f921"
             ]
            ],
            "type": "surface"
           }
          ],
          "table": [
           {
            "cells": {
             "fill": {
              "color": "#EBF0F8"
             },
             "line": {
              "color": "white"
             }
            },
            "header": {
             "fill": {
              "color": "#C8D4E3"
             },
             "line": {
              "color": "white"
             }
            },
            "type": "table"
           }
          ]
         },
         "layout": {
          "annotationdefaults": {
           "arrowcolor": "#2a3f5f",
           "arrowhead": 0,
           "arrowwidth": 1
          },
          "autotypenumbers": "strict",
          "coloraxis": {
           "colorbar": {
            "outlinewidth": 0,
            "ticks": ""
           }
          },
          "colorscale": {
           "diverging": [
            [
             0,
             "#8e0152"
            ],
            [
             0.1,
             "#c51b7d"
            ],
            [
             0.2,
             "#de77ae"
            ],
            [
             0.3,
             "#f1b6da"
            ],
            [
             0.4,
             "#fde0ef"
            ],
            [
             0.5,
             "#f7f7f7"
            ],
            [
             0.6,
             "#e6f5d0"
            ],
            [
             0.7,
             "#b8e186"
            ],
            [
             0.8,
             "#7fbc41"
            ],
            [
             0.9,
             "#4d9221"
            ],
            [
             1,
             "#276419"
            ]
           ],
           "sequential": [
            [
             0,
             "#0d0887"
            ],
            [
             0.1111111111111111,
             "#46039f"
            ],
            [
             0.2222222222222222,
             "#7201a8"
            ],
            [
             0.3333333333333333,
             "#9c179e"
            ],
            [
             0.4444444444444444,
             "#bd3786"
            ],
            [
             0.5555555555555556,
             "#d8576b"
            ],
            [
             0.6666666666666666,
             "#ed7953"
            ],
            [
             0.7777777777777778,
             "#fb9f3a"
            ],
            [
             0.8888888888888888,
             "#fdca26"
            ],
            [
             1,
             "#f0f921"
            ]
           ],
           "sequentialminus": [
            [
             0,
             "#0d0887"
            ],
            [
             0.1111111111111111,
             "#46039f"
            ],
            [
             0.2222222222222222,
             "#7201a8"
            ],
            [
             0.3333333333333333,
             "#9c179e"
            ],
            [
             0.4444444444444444,
             "#bd3786"
            ],
            [
             0.5555555555555556,
             "#d8576b"
            ],
            [
             0.6666666666666666,
             "#ed7953"
            ],
            [
             0.7777777777777778,
             "#fb9f3a"
            ],
            [
             0.8888888888888888,
             "#fdca26"
            ],
            [
             1,
             "#f0f921"
            ]
           ]
          },
          "colorway": [
           "#636efa",
           "#EF553B",
           "#00cc96",
           "#ab63fa",
           "#FFA15A",
           "#19d3f3",
           "#FF6692",
           "#B6E880",
           "#FF97FF",
           "#FECB52"
          ],
          "font": {
           "color": "#2a3f5f"
          },
          "geo": {
           "bgcolor": "white",
           "lakecolor": "white",
           "landcolor": "white",
           "showlakes": true,
           "showland": true,
           "subunitcolor": "#C8D4E3"
          },
          "hoverlabel": {
           "align": "left"
          },
          "hovermode": "closest",
          "mapbox": {
           "style": "light"
          },
          "paper_bgcolor": "white",
          "plot_bgcolor": "white",
          "polar": {
           "angularaxis": {
            "gridcolor": "#EBF0F8",
            "linecolor": "#EBF0F8",
            "ticks": ""
           },
           "bgcolor": "white",
           "radialaxis": {
            "gridcolor": "#EBF0F8",
            "linecolor": "#EBF0F8",
            "ticks": ""
           }
          },
          "scene": {
           "xaxis": {
            "backgroundcolor": "white",
            "gridcolor": "#DFE8F3",
            "gridwidth": 2,
            "linecolor": "#EBF0F8",
            "showbackground": true,
            "ticks": "",
            "zerolinecolor": "#EBF0F8"
           },
           "yaxis": {
            "backgroundcolor": "white",
            "gridcolor": "#DFE8F3",
            "gridwidth": 2,
            "linecolor": "#EBF0F8",
            "showbackground": true,
            "ticks": "",
            "zerolinecolor": "#EBF0F8"
           },
           "zaxis": {
            "backgroundcolor": "white",
            "gridcolor": "#DFE8F3",
            "gridwidth": 2,
            "linecolor": "#EBF0F8",
            "showbackground": true,
            "ticks": "",
            "zerolinecolor": "#EBF0F8"
           }
          },
          "shapedefaults": {
           "line": {
            "color": "#2a3f5f"
           }
          },
          "ternary": {
           "aaxis": {
            "gridcolor": "#DFE8F3",
            "linecolor": "#A2B1C6",
            "ticks": ""
           },
           "baxis": {
            "gridcolor": "#DFE8F3",
            "linecolor": "#A2B1C6",
            "ticks": ""
           },
           "bgcolor": "white",
           "caxis": {
            "gridcolor": "#DFE8F3",
            "linecolor": "#A2B1C6",
            "ticks": ""
           }
          },
          "title": {
           "x": 0.05
          },
          "xaxis": {
           "automargin": true,
           "gridcolor": "#EBF0F8",
           "linecolor": "#EBF0F8",
           "ticks": "",
           "title": {
            "standoff": 15
           },
           "zerolinecolor": "#EBF0F8",
           "zerolinewidth": 2
          },
          "yaxis": {
           "automargin": true,
           "gridcolor": "#EBF0F8",
           "linecolor": "#EBF0F8",
           "ticks": "",
           "title": {
            "standoff": 15
           },
           "zerolinecolor": "#EBF0F8",
           "zerolinewidth": 2
          }
         }
        },
        "title": {
         "text": "Data density histogram (bin width = 1 m) | LRS90D_YSI_20230827"
        },
        "xaxis": {
         "title": {
          "text": "Vertical Position [m]"
         }
        },
        "yaxis": {
         "title": {
          "text": "Frequency"
         }
        }
       }
      }
     },
     "metadata": {},
     "output_type": "display_data"
    }
   ],
   "source": [
    "# Plot data density\n",
    "plots.plot_histogram(density,\n",
    "            value_column='x_bin', \n",
    "            weight_column='frequency', \n",
    "            num_bins=len(density['x_bin']),\n",
    "            title=f'Data density histogram (bin width = {width} m) | {name}',\n",
    "            x_axis_title='Vertical Position [m]',\n",
    "            bar_color='lightgreen'\n",
    "            ) "
   ]
  }
 ],
 "metadata": {
  "kernelspec": {
   "display_name": "venv",
   "language": "python",
   "name": "python3"
  },
  "language_info": {
   "codemirror_mode": {
    "name": "ipython",
    "version": 3
   },
   "file_extension": ".py",
   "mimetype": "text/x-python",
   "name": "python",
   "nbconvert_exporter": "python",
   "pygments_lexer": "ipython3",
   "version": "3.12.4"
  }
 },
 "nbformat": 4,
 "nbformat_minor": 2
}
